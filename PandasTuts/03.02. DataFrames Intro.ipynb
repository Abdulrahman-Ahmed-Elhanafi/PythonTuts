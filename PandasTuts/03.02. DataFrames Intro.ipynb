{
 "cells": [
  {
   "cell_type": "markdown",
   "id": "77033934",
   "metadata": {},
   "source": [
    "# Data Frame Introduction"
   ]
  },
  {
   "cell_type": "markdown",
   "id": "dcfb0155",
   "metadata": {},
   "source": [
    "- **DataFrame** is a 2-dimensional labeled data structure (labelled rows, and labelled columns (variable names)).\n",
    "\n",
    "\n",
    "- Each column can be of a**different type (numeric, string, boolean, ...)**. \n",
    "\n",
    "\n",
    "- A DataFrame represents a tabular, spreadsheet-like structure containing an ordered collection of columns. \n",
    "\n",
    "\n",
    "- You can think of it like an excel **spreadsheet** or **SQL table**, or a **dict of Series objects**.\n",
    "\n",
    "\n",
    "- It is like __data.frame__ R language object.\n",
    "\n",
    "- It is generally the most commonly used pandas object"
   ]
  },
  {
   "cell_type": "markdown",
   "id": "89c7a016",
   "metadata": {},
   "source": [
    "### Setting up the workspace"
   ]
  },
  {
   "cell_type": "code",
   "execution_count": 1,
   "id": "65c97775",
   "metadata": {},
   "outputs": [],
   "source": [
    "import pandas as pd\n",
    "import numpy as np\n",
    "from random import sample, choices, seed\n",
    "from numpy.random import randn"
   ]
  },
  {
   "cell_type": "markdown",
   "id": "2b08c0c3",
   "metadata": {},
   "source": [
    "#### DataFrame Exmple"
   ]
  },
  {
   "cell_type": "code",
   "execution_count": 2,
   "id": "2249d10b",
   "metadata": {},
   "outputs": [],
   "source": [
    "# Creating index values\n",
    "ind = [\"R\" + \"_\" + str(num) for num in range(1, 16)]\n",
    "\n",
    "# Creating column names (Variables)\n",
    "cols = [\"VAR\" + \"_\" + str(num) for num in range(1, 7)]\n",
    "\n",
    "# Generating Random Data\n",
    "my_data = randn(90).reshape(15, 6)"
   ]
  },
  {
   "cell_type": "code",
   "execution_count": 3,
   "id": "a813a728",
   "metadata": {},
   "outputs": [
    {
     "data": {
      "text/html": [
       "<div>\n",
       "<style scoped>\n",
       "    .dataframe tbody tr th:only-of-type {\n",
       "        vertical-align: middle;\n",
       "    }\n",
       "\n",
       "    .dataframe tbody tr th {\n",
       "        vertical-align: top;\n",
       "    }\n",
       "\n",
       "    .dataframe thead th {\n",
       "        text-align: right;\n",
       "    }\n",
       "</style>\n",
       "<table border=\"1\" class=\"dataframe\">\n",
       "  <thead>\n",
       "    <tr style=\"text-align: right;\">\n",
       "      <th></th>\n",
       "      <th>VAR_1</th>\n",
       "      <th>VAR_2</th>\n",
       "      <th>VAR_3</th>\n",
       "      <th>VAR_4</th>\n",
       "      <th>VAR_5</th>\n",
       "      <th>VAR_6</th>\n",
       "    </tr>\n",
       "  </thead>\n",
       "  <tbody>\n",
       "    <tr>\n",
       "      <th>R_1</th>\n",
       "      <td>1.531361</td>\n",
       "      <td>-0.053335</td>\n",
       "      <td>2.307327</td>\n",
       "      <td>-0.571952</td>\n",
       "      <td>-0.279661</td>\n",
       "      <td>-1.015311</td>\n",
       "    </tr>\n",
       "    <tr>\n",
       "      <th>R_2</th>\n",
       "      <td>2.069491</td>\n",
       "      <td>0.474643</td>\n",
       "      <td>-0.321227</td>\n",
       "      <td>0.910526</td>\n",
       "      <td>-1.181246</td>\n",
       "      <td>0.192481</td>\n",
       "    </tr>\n",
       "    <tr>\n",
       "      <th>R_3</th>\n",
       "      <td>1.140335</td>\n",
       "      <td>0.202117</td>\n",
       "      <td>-1.355983</td>\n",
       "      <td>1.563494</td>\n",
       "      <td>-1.109698</td>\n",
       "      <td>-1.058797</td>\n",
       "    </tr>\n",
       "    <tr>\n",
       "      <th>R_4</th>\n",
       "      <td>0.077481</td>\n",
       "      <td>-1.089736</td>\n",
       "      <td>-1.072905</td>\n",
       "      <td>-0.764840</td>\n",
       "      <td>1.189936</td>\n",
       "      <td>0.266694</td>\n",
       "    </tr>\n",
       "    <tr>\n",
       "      <th>R_5</th>\n",
       "      <td>1.106107</td>\n",
       "      <td>-0.822567</td>\n",
       "      <td>0.443734</td>\n",
       "      <td>-1.120329</td>\n",
       "      <td>-0.209535</td>\n",
       "      <td>-0.336132</td>\n",
       "    </tr>\n",
       "  </tbody>\n",
       "</table>\n",
       "</div>"
      ],
      "text/plain": [
       "        VAR_1     VAR_2     VAR_3     VAR_4     VAR_5     VAR_6\n",
       "R_1  1.531361 -0.053335  2.307327 -0.571952 -0.279661 -1.015311\n",
       "R_2  2.069491  0.474643 -0.321227  0.910526 -1.181246  0.192481\n",
       "R_3  1.140335  0.202117 -1.355983  1.563494 -1.109698 -1.058797\n",
       "R_4  0.077481 -1.089736 -1.072905 -0.764840  1.189936  0.266694\n",
       "R_5  1.106107 -0.822567  0.443734 -1.120329 -0.209535 -0.336132"
      ]
     },
     "execution_count": 3,
     "metadata": {},
     "output_type": "execute_result"
    }
   ],
   "source": [
    "df = pd.DataFrame(data = my_data, index = ind, columns= cols)\n",
    "df.head()"
   ]
  },
  {
   "cell_type": "markdown",
   "id": "78730018",
   "metadata": {},
   "source": [
    "## Common DataFrames Attributes"
   ]
  },
  {
   "cell_type": "markdown",
   "id": "1b31a5a0",
   "metadata": {},
   "source": [
    "### Columns Attribute\n",
    "\n",
    "__columns__ attributes returns the columns (variables) names"
   ]
  },
  {
   "cell_type": "code",
   "execution_count": 4,
   "id": "67d1d03a",
   "metadata": {},
   "outputs": [
    {
     "data": {
      "text/plain": [
       "Index(['VAR_1', 'VAR_2', 'VAR_3', 'VAR_4', 'VAR_5', 'VAR_6'], dtype='object')"
      ]
     },
     "execution_count": 4,
     "metadata": {},
     "output_type": "execute_result"
    }
   ],
   "source": [
    "df.columns"
   ]
  },
  {
   "cell_type": "markdown",
   "id": "e21a7052",
   "metadata": {},
   "source": [
    "### Values Attributes\n",
    "\n",
    "  __values__ attributes returns the data contained in the DataFrame as a 2D ndarray."
   ]
  },
  {
   "cell_type": "code",
   "execution_count": 5,
   "id": "97902562",
   "metadata": {},
   "outputs": [
    {
     "data": {
      "text/plain": [
       "array([[ 1.53136069, -0.05333493,  2.30732677, -0.57195175, -0.2796606 ,\n",
       "        -1.01531148],\n",
       "       [ 2.06949056,  0.47464295, -0.32122711,  0.91052592, -1.18124613,\n",
       "         0.19248116],\n",
       "       [ 1.14033473,  0.2021169 , -1.35598253,  1.56349423, -1.10969788,\n",
       "        -1.05879743],\n",
       "       [ 0.07748071, -1.08973559, -1.07290505, -0.76483992,  1.18993579,\n",
       "         0.26669432],\n",
       "       [ 1.10610738, -0.82256722,  0.44373433, -1.12032906, -0.20953513,\n",
       "        -0.33613215]])"
      ]
     },
     "execution_count": 5,
     "metadata": {},
     "output_type": "execute_result"
    }
   ],
   "source": [
    "df.head().values"
   ]
  },
  {
   "cell_type": "markdown",
   "id": "93267583",
   "metadata": {},
   "source": [
    "### Shape Attribute\n",
    "\n",
    "  __shape attribute__ returns a tuple of the number of rows and number of columns."
   ]
  },
  {
   "cell_type": "code",
   "execution_count": 6,
   "id": "02b233ea",
   "metadata": {},
   "outputs": [
    {
     "data": {
      "text/plain": [
       "(15, 6)"
      ]
     },
     "execution_count": 6,
     "metadata": {},
     "output_type": "execute_result"
    }
   ],
   "source": [
    "df.shape"
   ]
  },
  {
   "cell_type": "markdown",
   "id": "744b4a15",
   "metadata": {},
   "source": [
    "---\n",
    "# Selection (Slicing), Creation and Deletion\n",
    "\n",
    "   - Selecting, Creating and Deleting (dropping) is a common task when dealing with data. Each process will be discussed seperately in this tutorial.\n",
    "   "
   ]
  },
  {
   "cell_type": "markdown",
   "id": "bdeaa958",
   "metadata": {},
   "source": [
    "## Selection (Slicing)\n",
    "\n",
    "### Variable Selection\n",
    "\n",
    "- **String (label) indexing**: Passing the variable name to the DataFrame object will retrieve a specific variable (**It is called a dict-like notation**). The syntax is shown here.\n",
    "\n",
    "```python\n",
    "\n",
    "   DataFrame['column-name']\n",
    "    \n",
    "```\n",
    "  \n",
    "#### Note: \n",
    "\n",
    "- When selecting one variable, the data frame becomes a **series**. This means that a DataFrame object is a set of series objects."
   ]
  },
  {
   "cell_type": "code",
   "execution_count": 7,
   "id": "d45034e4",
   "metadata": {},
   "outputs": [
    {
     "data": {
      "text/plain": [
       "R_1     1.531361\n",
       "R_2     2.069491\n",
       "R_3     1.140335\n",
       "R_4     0.077481\n",
       "R_5     1.106107\n",
       "R_6    -0.195087\n",
       "R_7     0.529832\n",
       "R_8    -1.094711\n",
       "R_9     0.755984\n",
       "R_10   -0.427899\n",
       "R_11    0.935375\n",
       "R_12    0.067525\n",
       "R_13   -1.790720\n",
       "R_14   -0.111392\n",
       "R_15   -0.606929\n",
       "Name: VAR_1, dtype: float64"
      ]
     },
     "execution_count": 7,
     "metadata": {},
     "output_type": "execute_result"
    }
   ],
   "source": [
    "# Select The First variable\n",
    "var_1 = df['VAR_1']\n",
    "var_1"
   ]
  },
  {
   "cell_type": "code",
   "execution_count": 8,
   "id": "5cfe3899",
   "metadata": {},
   "outputs": [
    {
     "data": {
      "text/plain": [
       "pandas.core.series.Series"
      ]
     },
     "execution_count": 8,
     "metadata": {},
     "output_type": "execute_result"
    }
   ],
   "source": [
    "# Examine the type \n",
    "type(var_1)"
   ]
  },
  {
   "cell_type": "markdown",
   "id": "a88da97f",
   "metadata": {},
   "source": [
    "  indeed, __var_1__ is a pandas Series object with the same index as the DataFrame. And, the name has appropriately set."
   ]
  },
  {
   "cell_type": "code",
   "execution_count": 9,
   "id": "6204a6f7",
   "metadata": {},
   "outputs": [
    {
     "data": {
      "text/plain": [
       "'VAR_1'"
      ]
     },
     "execution_count": 9,
     "metadata": {},
     "output_type": "execute_result"
    }
   ],
   "source": [
    "var_1.name"
   ]
  },
  {
   "cell_type": "markdown",
   "id": "df0bf60d",
   "metadata": {},
   "source": [
    "### Remark: \n",
    "\n",
    "  - As mentioned in the definition, a DataFrame is just a set of series combined togther, (At least two series)\n",
    "  \n",
    "  \n",
    "  - If we have two series, we can construct a DataFrame. \n",
    "  \n",
    "  \n",
    "  - We do that in the next example"
   ]
  },
  {
   "cell_type": "code",
   "execution_count": 10,
   "id": "ae51ccd2",
   "metadata": {},
   "outputs": [],
   "source": [
    "var_2 = df['VAR_2']"
   ]
  },
  {
   "cell_type": "markdown",
   "id": "3ab085a1",
   "metadata": {},
   "source": [
    "> We extracted two series, now we join them together to form a new data frame by providing a dict of series."
   ]
  },
  {
   "cell_type": "code",
   "execution_count": 11,
   "id": "a448ba7c",
   "metadata": {},
   "outputs": [],
   "source": [
    "df2 = pd.DataFrame(data = {'VAR_1': var_1, 'VAR_2':var_2})"
   ]
  },
  {
   "cell_type": "code",
   "execution_count": 12,
   "id": "06fec571",
   "metadata": {},
   "outputs": [
    {
     "data": {
      "text/html": [
       "<div>\n",
       "<style scoped>\n",
       "    .dataframe tbody tr th:only-of-type {\n",
       "        vertical-align: middle;\n",
       "    }\n",
       "\n",
       "    .dataframe tbody tr th {\n",
       "        vertical-align: top;\n",
       "    }\n",
       "\n",
       "    .dataframe thead th {\n",
       "        text-align: right;\n",
       "    }\n",
       "</style>\n",
       "<table border=\"1\" class=\"dataframe\">\n",
       "  <thead>\n",
       "    <tr style=\"text-align: right;\">\n",
       "      <th></th>\n",
       "      <th>VAR_1</th>\n",
       "      <th>VAR_2</th>\n",
       "    </tr>\n",
       "  </thead>\n",
       "  <tbody>\n",
       "    <tr>\n",
       "      <th>R_1</th>\n",
       "      <td>1.531361</td>\n",
       "      <td>-0.053335</td>\n",
       "    </tr>\n",
       "    <tr>\n",
       "      <th>R_2</th>\n",
       "      <td>2.069491</td>\n",
       "      <td>0.474643</td>\n",
       "    </tr>\n",
       "    <tr>\n",
       "      <th>R_3</th>\n",
       "      <td>1.140335</td>\n",
       "      <td>0.202117</td>\n",
       "    </tr>\n",
       "    <tr>\n",
       "      <th>R_4</th>\n",
       "      <td>0.077481</td>\n",
       "      <td>-1.089736</td>\n",
       "    </tr>\n",
       "    <tr>\n",
       "      <th>R_5</th>\n",
       "      <td>1.106107</td>\n",
       "      <td>-0.822567</td>\n",
       "    </tr>\n",
       "  </tbody>\n",
       "</table>\n",
       "</div>"
      ],
      "text/plain": [
       "        VAR_1     VAR_2\n",
       "R_1  1.531361 -0.053335\n",
       "R_2  2.069491  0.474643\n",
       "R_3  1.140335  0.202117\n",
       "R_4  0.077481 -1.089736\n",
       "R_5  1.106107 -0.822567"
      ]
     },
     "execution_count": 12,
     "metadata": {},
     "output_type": "execute_result"
    }
   ],
   "source": [
    "df2.head()"
   ]
  },
  {
   "cell_type": "code",
   "execution_count": 13,
   "id": "db2121f5",
   "metadata": {},
   "outputs": [
    {
     "data": {
      "text/plain": [
       "pandas.core.frame.DataFrame"
      ]
     },
     "execution_count": 13,
     "metadata": {},
     "output_type": "execute_result"
    }
   ],
   "source": [
    "# Check the type of df2\n",
    "type(df2)"
   ]
  },
  {
   "cell_type": "markdown",
   "id": "b20cc05e",
   "metadata": {},
   "source": [
    "### Accessing more than one variable\n",
    "\n",
    "  - If we want to select two or more variables from a data frame, we use a double square brackets ([[...]]); in other words, we pass a list of a list of variables.\n",
    "  \n",
    "Here is the syntax:\n",
    "```python\n",
    "   df[['var1', 'var2', ...]]\n",
    "```"
   ]
  },
  {
   "cell_type": "code",
   "execution_count": 14,
   "id": "e1eb7b17",
   "metadata": {},
   "outputs": [
    {
     "data": {
      "text/html": [
       "<div>\n",
       "<style scoped>\n",
       "    .dataframe tbody tr th:only-of-type {\n",
       "        vertical-align: middle;\n",
       "    }\n",
       "\n",
       "    .dataframe tbody tr th {\n",
       "        vertical-align: top;\n",
       "    }\n",
       "\n",
       "    .dataframe thead th {\n",
       "        text-align: right;\n",
       "    }\n",
       "</style>\n",
       "<table border=\"1\" class=\"dataframe\">\n",
       "  <thead>\n",
       "    <tr style=\"text-align: right;\">\n",
       "      <th></th>\n",
       "      <th>VAR_1</th>\n",
       "      <th>VAR_3</th>\n",
       "    </tr>\n",
       "  </thead>\n",
       "  <tbody>\n",
       "    <tr>\n",
       "      <th>R_1</th>\n",
       "      <td>1.531361</td>\n",
       "      <td>2.307327</td>\n",
       "    </tr>\n",
       "    <tr>\n",
       "      <th>R_2</th>\n",
       "      <td>2.069491</td>\n",
       "      <td>-0.321227</td>\n",
       "    </tr>\n",
       "    <tr>\n",
       "      <th>R_3</th>\n",
       "      <td>1.140335</td>\n",
       "      <td>-1.355983</td>\n",
       "    </tr>\n",
       "    <tr>\n",
       "      <th>R_4</th>\n",
       "      <td>0.077481</td>\n",
       "      <td>-1.072905</td>\n",
       "    </tr>\n",
       "    <tr>\n",
       "      <th>R_5</th>\n",
       "      <td>1.106107</td>\n",
       "      <td>0.443734</td>\n",
       "    </tr>\n",
       "  </tbody>\n",
       "</table>\n",
       "</div>"
      ],
      "text/plain": [
       "        VAR_1     VAR_3\n",
       "R_1  1.531361  2.307327\n",
       "R_2  2.069491 -0.321227\n",
       "R_3  1.140335 -1.355983\n",
       "R_4  0.077481 -1.072905\n",
       "R_5  1.106107  0.443734"
      ]
     },
     "execution_count": 14,
     "metadata": {},
     "output_type": "execute_result"
    }
   ],
   "source": [
    "df[['VAR_1', 'VAR_3']].head() "
   ]
  },
  {
   "cell_type": "markdown",
   "id": "23dfc44c",
   "metadata": {},
   "source": [
    "> I am chaining the __head()__ method to print only the first few observations. "
   ]
  },
  {
   "cell_type": "markdown",
   "id": "9a1e70f5",
   "metadata": {},
   "source": [
    "### Accessing the DataFrame Variable Using the Dot Operator\n",
    "\n",
    "   - With a DataFrame, we can access a variable using the __dot operator__ (otherwise called **attribute**), just like accessing  a method. \n",
    "   \n",
    "   \n",
    "   - This might be confusing at the first time, and some python programmers do not recommend using it. However, it is worth mentioning though, and we should know it.\n",
    "   \n",
    "### Note: \n",
    "\n",
    "  - Using attribute notation to select a variable works only with __valid python variables names__, (This does not workd if a variable contains a space)"
   ]
  },
  {
   "cell_type": "code",
   "execution_count": 15,
   "id": "4db6478a",
   "metadata": {},
   "outputs": [
    {
     "data": {
      "text/plain": [
       "R_1    1.531361\n",
       "R_2    2.069491\n",
       "R_3    1.140335\n",
       "R_4    0.077481\n",
       "R_5    1.106107\n",
       "Name: VAR_1, dtype: float64"
      ]
     },
     "execution_count": 15,
     "metadata": {},
     "output_type": "execute_result"
    }
   ],
   "source": [
    "df.VAR_1.head()"
   ]
  },
  {
   "cell_type": "markdown",
   "id": "21f78cdb",
   "metadata": {},
   "source": [
    "### Rows Selection\n",
    "\n",
    "\n",
    "  -**Row Selection (slicing)** in pandas DataFrame can be done using two methods\n",
    "  \n",
    "#### 1. String or label-index:\n",
    "\n",
    "  - **The _loc_ method**: a **label-index or (a string index)** is passed to the __loc method__ in order to select a row.  \n",
    "  \n",
    "Here is the syntax\n",
    "  \n",
    "```python\n",
    "  df.loc['string-index']\n",
    "```"
   ]
  },
  {
   "cell_type": "markdown",
   "id": "4c070edd",
   "metadata": {},
   "source": [
    "#### Selecting first row labelled as 'R_1'"
   ]
  },
  {
   "cell_type": "code",
   "execution_count": 16,
   "id": "74266c69",
   "metadata": {},
   "outputs": [
    {
     "data": {
      "text/plain": [
       "VAR_1    1.531361\n",
       "VAR_2   -0.053335\n",
       "VAR_3    2.307327\n",
       "VAR_4   -0.571952\n",
       "VAR_5   -0.279661\n",
       "VAR_6   -1.015311\n",
       "Name: R_1, dtype: float64"
      ]
     },
     "execution_count": 16,
     "metadata": {},
     "output_type": "execute_result"
    }
   ],
   "source": [
    "first_row = df.loc['R_1']\n",
    "first_row"
   ]
  },
  {
   "cell_type": "markdown",
   "id": "6aed04b3",
   "metadata": {},
   "source": [
    "#### Examine the type"
   ]
  },
  {
   "cell_type": "code",
   "execution_count": 17,
   "id": "eae6c8c3",
   "metadata": {},
   "outputs": [
    {
     "data": {
      "text/plain": [
       "pandas.core.series.Series"
      ]
     },
     "execution_count": 17,
     "metadata": {},
     "output_type": "execute_result"
    }
   ],
   "source": [
    "type(first_row)"
   ]
  },
  {
   "cell_type": "markdown",
   "id": "49531abc",
   "metadata": {},
   "source": [
    "### Note:\n",
    "\n",
    "   - Selecting one row is also a pandas Series object. Thus, slicing one element __horizontally or vertically__ results in a __series object__."
   ]
  },
  {
   "cell_type": "code",
   "execution_count": 18,
   "id": "b935f729",
   "metadata": {},
   "outputs": [
    {
     "data": {
      "text/plain": [
       "VAR_1   -0.195087\n",
       "VAR_2   -1.194457\n",
       "VAR_3   -2.270838\n",
       "VAR_4   -0.100887\n",
       "VAR_5    1.213398\n",
       "VAR_6   -3.339269\n",
       "Name: R_6, dtype: float64"
      ]
     },
     "execution_count": 18,
     "metadata": {},
     "output_type": "execute_result"
    }
   ],
   "source": [
    "# Select another row\n",
    "# df['R_6']          # This will not work, because pandas thinks it is a variable\n",
    "df.loc['R_6']"
   ]
  },
  {
   "cell_type": "markdown",
   "id": "1008329b",
   "metadata": {},
   "source": [
    "#### 2. Integer-index Selection\n",
    "\n",
    " - **The _iloc method_**: This is the second way for slicing a DataFrame, by passing the **integer-index (position)** to the **iloc method**. \n",
    "\n",
    "Here is the syntax.\n",
    " \n",
    "```python\n",
    "df.iloc[int-index]\n",
    "```"
   ]
  },
  {
   "cell_type": "markdown",
   "id": "804e6e1e",
   "metadata": {},
   "source": [
    "##### Selecting the first row (position is zero)"
   ]
  },
  {
   "cell_type": "code",
   "execution_count": 19,
   "id": "1cfc70a8",
   "metadata": {},
   "outputs": [
    {
     "data": {
      "text/plain": [
       "VAR_1    1.531361\n",
       "VAR_2   -0.053335\n",
       "VAR_3    2.307327\n",
       "VAR_4   -0.571952\n",
       "VAR_5   -0.279661\n",
       "VAR_6   -1.015311\n",
       "Name: R_1, dtype: float64"
      ]
     },
     "execution_count": 19,
     "metadata": {},
     "output_type": "execute_result"
    }
   ],
   "source": [
    "df.iloc[0]"
   ]
  },
  {
   "cell_type": "code",
   "execution_count": 20,
   "id": "6e212aaa",
   "metadata": {},
   "outputs": [
    {
     "data": {
      "text/plain": [
       "VAR_1   -0.195087\n",
       "VAR_2   -1.194457\n",
       "VAR_3   -2.270838\n",
       "VAR_4   -0.100887\n",
       "VAR_5    1.213398\n",
       "VAR_6   -3.339269\n",
       "Name: R_6, dtype: float64"
      ]
     },
     "execution_count": 20,
     "metadata": {},
     "output_type": "execute_result"
    }
   ],
   "source": [
    "# Select another row\n",
    "#df[5]               # This won't work as well\n",
    "df.iloc[5]"
   ]
  },
  {
   "cell_type": "markdown",
   "id": "ec2a85e8",
   "metadata": {},
   "source": [
    "### Multiple Row Selection\n",
    "\n",
    "  - Selecting more than one row (case, observation) is done using double square bracket ([[...]]); in python parlance, a list of a list of indexes, and pass that to either __loc method__ if label-index, or __iloc method__ if integer-index. \n",
    "  \n",
    "  \n",
    "  - In other words, **pass a list to either method**\n",
    "  \n",
    "```python\n",
    "1. loc method\n",
    "     df.loc[['Row1', 'Row2', '...']]\n",
    "    \n",
    "2. iloc method\n",
    "\n",
    "    df.iloc[[1, 2, 4, ...]]\n",
    "```"
   ]
  },
  {
   "cell_type": "markdown",
   "id": "22730184",
   "metadata": {},
   "source": [
    "#### Select the first and the third Row"
   ]
  },
  {
   "cell_type": "code",
   "execution_count": 21,
   "id": "0adfc6f3",
   "metadata": {},
   "outputs": [
    {
     "data": {
      "text/html": [
       "<div>\n",
       "<style scoped>\n",
       "    .dataframe tbody tr th:only-of-type {\n",
       "        vertical-align: middle;\n",
       "    }\n",
       "\n",
       "    .dataframe tbody tr th {\n",
       "        vertical-align: top;\n",
       "    }\n",
       "\n",
       "    .dataframe thead th {\n",
       "        text-align: right;\n",
       "    }\n",
       "</style>\n",
       "<table border=\"1\" class=\"dataframe\">\n",
       "  <thead>\n",
       "    <tr style=\"text-align: right;\">\n",
       "      <th></th>\n",
       "      <th>VAR_1</th>\n",
       "      <th>VAR_2</th>\n",
       "      <th>VAR_3</th>\n",
       "      <th>VAR_4</th>\n",
       "      <th>VAR_5</th>\n",
       "      <th>VAR_6</th>\n",
       "    </tr>\n",
       "  </thead>\n",
       "  <tbody>\n",
       "    <tr>\n",
       "      <th>R_1</th>\n",
       "      <td>1.531361</td>\n",
       "      <td>-0.053335</td>\n",
       "      <td>2.307327</td>\n",
       "      <td>-0.571952</td>\n",
       "      <td>-0.279661</td>\n",
       "      <td>-1.015311</td>\n",
       "    </tr>\n",
       "    <tr>\n",
       "      <th>R_3</th>\n",
       "      <td>1.140335</td>\n",
       "      <td>0.202117</td>\n",
       "      <td>-1.355983</td>\n",
       "      <td>1.563494</td>\n",
       "      <td>-1.109698</td>\n",
       "      <td>-1.058797</td>\n",
       "    </tr>\n",
       "  </tbody>\n",
       "</table>\n",
       "</div>"
      ],
      "text/plain": [
       "        VAR_1     VAR_2     VAR_3     VAR_4     VAR_5     VAR_6\n",
       "R_1  1.531361 -0.053335  2.307327 -0.571952 -0.279661 -1.015311\n",
       "R_3  1.140335  0.202117 -1.355983  1.563494 -1.109698 -1.058797"
      ]
     },
     "execution_count": 21,
     "metadata": {},
     "output_type": "execute_result"
    }
   ],
   "source": [
    "df.loc[['R_1', 'R_3']].head(3)"
   ]
  },
  {
   "cell_type": "markdown",
   "id": "ec1ceeda",
   "metadata": {},
   "source": [
    "> We can have the same result using iloc as follows"
   ]
  },
  {
   "cell_type": "code",
   "execution_count": 22,
   "id": "6212764b",
   "metadata": {},
   "outputs": [
    {
     "data": {
      "text/html": [
       "<div>\n",
       "<style scoped>\n",
       "    .dataframe tbody tr th:only-of-type {\n",
       "        vertical-align: middle;\n",
       "    }\n",
       "\n",
       "    .dataframe tbody tr th {\n",
       "        vertical-align: top;\n",
       "    }\n",
       "\n",
       "    .dataframe thead th {\n",
       "        text-align: right;\n",
       "    }\n",
       "</style>\n",
       "<table border=\"1\" class=\"dataframe\">\n",
       "  <thead>\n",
       "    <tr style=\"text-align: right;\">\n",
       "      <th></th>\n",
       "      <th>VAR_1</th>\n",
       "      <th>VAR_2</th>\n",
       "      <th>VAR_3</th>\n",
       "      <th>VAR_4</th>\n",
       "      <th>VAR_5</th>\n",
       "      <th>VAR_6</th>\n",
       "    </tr>\n",
       "  </thead>\n",
       "  <tbody>\n",
       "    <tr>\n",
       "      <th>R_1</th>\n",
       "      <td>1.531361</td>\n",
       "      <td>-0.053335</td>\n",
       "      <td>2.307327</td>\n",
       "      <td>-0.571952</td>\n",
       "      <td>-0.279661</td>\n",
       "      <td>-1.015311</td>\n",
       "    </tr>\n",
       "    <tr>\n",
       "      <th>R_3</th>\n",
       "      <td>1.140335</td>\n",
       "      <td>0.202117</td>\n",
       "      <td>-1.355983</td>\n",
       "      <td>1.563494</td>\n",
       "      <td>-1.109698</td>\n",
       "      <td>-1.058797</td>\n",
       "    </tr>\n",
       "  </tbody>\n",
       "</table>\n",
       "</div>"
      ],
      "text/plain": [
       "        VAR_1     VAR_2     VAR_3     VAR_4     VAR_5     VAR_6\n",
       "R_1  1.531361 -0.053335  2.307327 -0.571952 -0.279661 -1.015311\n",
       "R_3  1.140335  0.202117 -1.355983  1.563494 -1.109698 -1.058797"
      ]
     },
     "execution_count": 22,
     "metadata": {},
     "output_type": "execute_result"
    }
   ],
   "source": [
    "df.iloc[[0, 2]].head(3)"
   ]
  },
  {
   "cell_type": "markdown",
   "id": "1c0c28ff",
   "metadata": {},
   "source": [
    "> **Pandas Slicing is AWESOME isn't it!** 👊👊👊\n",
    "---"
   ]
  },
  {
   "cell_type": "markdown",
   "id": "7332b2c3",
   "metadata": {},
   "source": [
    "### Row-Column Selection (Extremely Importand Section)\n",
    "\n",
    "- After learning how to slice columns and rows, combining between them will result in __row-column selection__. Here is the syntax:\n",
    "\n",
    "```python\n",
    "\n",
    "1. One Value \n",
    "\n",
    "  df.loc['R_1', 'VAR_1'] or df.iloc[0, 0]\n",
    "    \n",
    "2. One row multiple columns: we pass a list of  an index and a list of variable names.\n",
    "\n",
    "   df.loc['R_1', ['VAR_1', 'VAR_3', ...]] \n",
    "    \n",
    "3. Multiple rows- One column: a list of a list of indexes and a variable name.\n",
    "    \n",
    "    df.loc[['R_1', 'R_3', ...], 'VAR_1'] \n",
    "    \n",
    "4. Multiple rows - Multiple Columns: a list of two lists (the first is the list of indexes, and the second in the list of variables.   \n",
    "    \n",
    "    df.loc[['R_1', 'R_3', ...], ['VAR_1', 'VAR_3', ...]]\n",
    "```\n",
    "\n",
    "We can use __iloc__ if we know the position of the row index. I think __loc__ is more convenient.  "
   ]
  },
  {
   "cell_type": "markdown",
   "id": "d850fadb",
   "metadata": {},
   "source": [
    "> ##### 1. One-Value"
   ]
  },
  {
   "cell_type": "code",
   "execution_count": 23,
   "id": "8f4ae5a5",
   "metadata": {},
   "outputs": [
    {
     "data": {
      "text/plain": [
       "1.5313606938234037"
      ]
     },
     "execution_count": 23,
     "metadata": {},
     "output_type": "execute_result"
    }
   ],
   "source": [
    "df.loc['R_1', 'VAR_1'] "
   ]
  },
  {
   "cell_type": "code",
   "execution_count": 24,
   "id": "3f9d96be",
   "metadata": {},
   "outputs": [
    {
     "data": {
      "text/plain": [
       "1.5313606938234037"
      ]
     },
     "execution_count": 24,
     "metadata": {},
     "output_type": "execute_result"
    }
   ],
   "source": [
    "# Or\n",
    "df.iloc[0, 0]"
   ]
  },
  {
   "cell_type": "markdown",
   "id": "881adbda",
   "metadata": {},
   "source": [
    "> ##### 2. One row-Multiple columns"
   ]
  },
  {
   "cell_type": "code",
   "execution_count": 25,
   "id": "9d38ece9",
   "metadata": {},
   "outputs": [
    {
     "data": {
      "text/plain": [
       "VAR_1    1.531361\n",
       "VAR_3    2.307327\n",
       "VAR_6   -1.015311\n",
       "Name: R_1, dtype: float64"
      ]
     },
     "execution_count": 25,
     "metadata": {},
     "output_type": "execute_result"
    }
   ],
   "source": [
    "df.loc['R_1', ['VAR_1', 'VAR_3', 'VAR_6']] "
   ]
  },
  {
   "cell_type": "markdown",
   "id": "b26a469d",
   "metadata": {},
   "source": [
    "> Note: Selecting one row results in a Series object"
   ]
  },
  {
   "cell_type": "code",
   "execution_count": 26,
   "id": "c81c52c7",
   "metadata": {},
   "outputs": [
    {
     "data": {
      "text/plain": [
       "pandas.core.series.Series"
      ]
     },
     "execution_count": 26,
     "metadata": {},
     "output_type": "execute_result"
    }
   ],
   "source": [
    "type(df.loc['R_1', ['VAR_1', 'VAR_3', 'VAR_6']])"
   ]
  },
  {
   "cell_type": "markdown",
   "id": "0a280b24",
   "metadata": {},
   "source": [
    "> ##### 3. Multiple rows- One column"
   ]
  },
  {
   "cell_type": "code",
   "execution_count": 27,
   "id": "876a7d34",
   "metadata": {},
   "outputs": [
    {
     "data": {
      "text/plain": [
       "R_1    1.531361\n",
       "R_3    1.140335\n",
       "R_5    1.106107\n",
       "Name: VAR_1, dtype: float64"
      ]
     },
     "execution_count": 27,
     "metadata": {},
     "output_type": "execute_result"
    }
   ],
   "source": [
    "df.loc[['R_1', 'R_3', 'R_5'], 'VAR_1'] "
   ]
  },
  {
   "cell_type": "markdown",
   "id": "07a6c667",
   "metadata": {},
   "source": [
    "> Note: Selecting one variable results in a Series object as well. "
   ]
  },
  {
   "cell_type": "code",
   "execution_count": 28,
   "id": "1f0210c4",
   "metadata": {},
   "outputs": [
    {
     "data": {
      "text/plain": [
       "pandas.core.series.Series"
      ]
     },
     "execution_count": 28,
     "metadata": {},
     "output_type": "execute_result"
    }
   ],
   "source": [
    "type(df.loc[['R_1', 'R_3', 'R_5'], 'VAR_1'])"
   ]
  },
  {
   "cell_type": "markdown",
   "id": "4fd4d459",
   "metadata": {},
   "source": [
    "> ##### 4. Multiple rows- Multiple columns"
   ]
  },
  {
   "cell_type": "code",
   "execution_count": 29,
   "id": "6754e9c2",
   "metadata": {},
   "outputs": [
    {
     "data": {
      "text/html": [
       "<div>\n",
       "<style scoped>\n",
       "    .dataframe tbody tr th:only-of-type {\n",
       "        vertical-align: middle;\n",
       "    }\n",
       "\n",
       "    .dataframe tbody tr th {\n",
       "        vertical-align: top;\n",
       "    }\n",
       "\n",
       "    .dataframe thead th {\n",
       "        text-align: right;\n",
       "    }\n",
       "</style>\n",
       "<table border=\"1\" class=\"dataframe\">\n",
       "  <thead>\n",
       "    <tr style=\"text-align: right;\">\n",
       "      <th></th>\n",
       "      <th>VAR_1</th>\n",
       "      <th>VAR_3</th>\n",
       "    </tr>\n",
       "  </thead>\n",
       "  <tbody>\n",
       "    <tr>\n",
       "      <th>R_1</th>\n",
       "      <td>1.531361</td>\n",
       "      <td>2.307327</td>\n",
       "    </tr>\n",
       "    <tr>\n",
       "      <th>R_3</th>\n",
       "      <td>1.140335</td>\n",
       "      <td>-1.355983</td>\n",
       "    </tr>\n",
       "  </tbody>\n",
       "</table>\n",
       "</div>"
      ],
      "text/plain": [
       "        VAR_1     VAR_3\n",
       "R_1  1.531361  2.307327\n",
       "R_3  1.140335 -1.355983"
      ]
     },
     "execution_count": 29,
     "metadata": {},
     "output_type": "execute_result"
    }
   ],
   "source": [
    "df.loc[['R_1', 'R_3'], ['VAR_1', 'VAR_3']]"
   ]
  },
  {
   "cell_type": "code",
   "execution_count": 30,
   "id": "b467de0c",
   "metadata": {},
   "outputs": [
    {
     "data": {
      "text/html": [
       "<div>\n",
       "<style scoped>\n",
       "    .dataframe tbody tr th:only-of-type {\n",
       "        vertical-align: middle;\n",
       "    }\n",
       "\n",
       "    .dataframe tbody tr th {\n",
       "        vertical-align: top;\n",
       "    }\n",
       "\n",
       "    .dataframe thead th {\n",
       "        text-align: right;\n",
       "    }\n",
       "</style>\n",
       "<table border=\"1\" class=\"dataframe\">\n",
       "  <thead>\n",
       "    <tr style=\"text-align: right;\">\n",
       "      <th></th>\n",
       "      <th>VAR_1</th>\n",
       "      <th>VAR_3</th>\n",
       "      <th>VAR_6</th>\n",
       "    </tr>\n",
       "  </thead>\n",
       "  <tbody>\n",
       "    <tr>\n",
       "      <th>R_1</th>\n",
       "      <td>1.531361</td>\n",
       "      <td>2.307327</td>\n",
       "      <td>-1.015311</td>\n",
       "    </tr>\n",
       "    <tr>\n",
       "      <th>R_3</th>\n",
       "      <td>1.140335</td>\n",
       "      <td>-1.355983</td>\n",
       "      <td>-1.058797</td>\n",
       "    </tr>\n",
       "    <tr>\n",
       "      <th>R_5</th>\n",
       "      <td>1.106107</td>\n",
       "      <td>0.443734</td>\n",
       "      <td>-0.336132</td>\n",
       "    </tr>\n",
       "  </tbody>\n",
       "</table>\n",
       "</div>"
      ],
      "text/plain": [
       "        VAR_1     VAR_3     VAR_6\n",
       "R_1  1.531361  2.307327 -1.015311\n",
       "R_3  1.140335 -1.355983 -1.058797\n",
       "R_5  1.106107  0.443734 -0.336132"
      ]
     },
     "execution_count": 30,
     "metadata": {},
     "output_type": "execute_result"
    }
   ],
   "source": [
    "df.loc[['R_1', 'R_3', 'R_5'], ['VAR_1', 'VAR_3', 'VAR_6']]"
   ]
  },
  {
   "cell_type": "markdown",
   "id": "17fc8a50",
   "metadata": {},
   "source": [
    "> Selecting multiple rows and multiple columns returns a DataFrame. "
   ]
  },
  {
   "cell_type": "markdown",
   "id": "0a40e6fb",
   "metadata": {},
   "source": [
    "---\n",
    "## Creation\n",
    "\n",
    "### Adding New Variables \n",
    "\n",
    "   - Creating a new variable is straightforward. We just have to pass the new vriable name as if it already exists, then give it new values. The syntax is as follows:\n",
    "   \n",
    "```python\n",
    "df['new_var'] = new_values\n",
    "```"
   ]
  },
  {
   "cell_type": "code",
   "execution_count": 31,
   "id": "282d1b11",
   "metadata": {},
   "outputs": [
    {
     "data": {
      "text/html": [
       "<div>\n",
       "<style scoped>\n",
       "    .dataframe tbody tr th:only-of-type {\n",
       "        vertical-align: middle;\n",
       "    }\n",
       "\n",
       "    .dataframe tbody tr th {\n",
       "        vertical-align: top;\n",
       "    }\n",
       "\n",
       "    .dataframe thead th {\n",
       "        text-align: right;\n",
       "    }\n",
       "</style>\n",
       "<table border=\"1\" class=\"dataframe\">\n",
       "  <thead>\n",
       "    <tr style=\"text-align: right;\">\n",
       "      <th></th>\n",
       "      <th>VAR_1</th>\n",
       "      <th>VAR_2</th>\n",
       "      <th>VAR_3</th>\n",
       "      <th>VAR_4</th>\n",
       "      <th>VAR_5</th>\n",
       "      <th>VAR_6</th>\n",
       "      <th>NEW_VAR</th>\n",
       "    </tr>\n",
       "  </thead>\n",
       "  <tbody>\n",
       "    <tr>\n",
       "      <th>R_1</th>\n",
       "      <td>1.531361</td>\n",
       "      <td>-0.053335</td>\n",
       "      <td>2.307327</td>\n",
       "      <td>-0.571952</td>\n",
       "      <td>-0.279661</td>\n",
       "      <td>-1.015311</td>\n",
       "      <td>1.478026</td>\n",
       "    </tr>\n",
       "    <tr>\n",
       "      <th>R_2</th>\n",
       "      <td>2.069491</td>\n",
       "      <td>0.474643</td>\n",
       "      <td>-0.321227</td>\n",
       "      <td>0.910526</td>\n",
       "      <td>-1.181246</td>\n",
       "      <td>0.192481</td>\n",
       "      <td>2.544134</td>\n",
       "    </tr>\n",
       "    <tr>\n",
       "      <th>R_3</th>\n",
       "      <td>1.140335</td>\n",
       "      <td>0.202117</td>\n",
       "      <td>-1.355983</td>\n",
       "      <td>1.563494</td>\n",
       "      <td>-1.109698</td>\n",
       "      <td>-1.058797</td>\n",
       "      <td>1.342452</td>\n",
       "    </tr>\n",
       "    <tr>\n",
       "      <th>R_4</th>\n",
       "      <td>0.077481</td>\n",
       "      <td>-1.089736</td>\n",
       "      <td>-1.072905</td>\n",
       "      <td>-0.764840</td>\n",
       "      <td>1.189936</td>\n",
       "      <td>0.266694</td>\n",
       "      <td>-1.012255</td>\n",
       "    </tr>\n",
       "    <tr>\n",
       "      <th>R_5</th>\n",
       "      <td>1.106107</td>\n",
       "      <td>-0.822567</td>\n",
       "      <td>0.443734</td>\n",
       "      <td>-1.120329</td>\n",
       "      <td>-0.209535</td>\n",
       "      <td>-0.336132</td>\n",
       "      <td>0.283540</td>\n",
       "    </tr>\n",
       "  </tbody>\n",
       "</table>\n",
       "</div>"
      ],
      "text/plain": [
       "        VAR_1     VAR_2     VAR_3     VAR_4     VAR_5     VAR_6   NEW_VAR\n",
       "R_1  1.531361 -0.053335  2.307327 -0.571952 -0.279661 -1.015311  1.478026\n",
       "R_2  2.069491  0.474643 -0.321227  0.910526 -1.181246  0.192481  2.544134\n",
       "R_3  1.140335  0.202117 -1.355983  1.563494 -1.109698 -1.058797  1.342452\n",
       "R_4  0.077481 -1.089736 -1.072905 -0.764840  1.189936  0.266694 -1.012255\n",
       "R_5  1.106107 -0.822567  0.443734 -1.120329 -0.209535 -0.336132  0.283540"
      ]
     },
     "execution_count": 31,
     "metadata": {},
     "output_type": "execute_result"
    }
   ],
   "source": [
    "df['NEW_VAR'] = df['VAR_1'] + df['VAR_2']\n",
    "df.head()"
   ]
  },
  {
   "cell_type": "markdown",
   "id": "75cdf16c",
   "metadata": {},
   "source": [
    "### Adding Empty Variable\n",
    "\n",
    "   - If we pass a column that isn't contained in data, a Series of __NaN__ will show up. \n"
   ]
  },
  {
   "cell_type": "code",
   "execution_count": 32,
   "id": "24b04355",
   "metadata": {},
   "outputs": [
    {
     "data": {
      "text/html": [
       "<div>\n",
       "<style scoped>\n",
       "    .dataframe tbody tr th:only-of-type {\n",
       "        vertical-align: middle;\n",
       "    }\n",
       "\n",
       "    .dataframe tbody tr th {\n",
       "        vertical-align: top;\n",
       "    }\n",
       "\n",
       "    .dataframe thead th {\n",
       "        text-align: right;\n",
       "    }\n",
       "</style>\n",
       "<table border=\"1\" class=\"dataframe\">\n",
       "  <thead>\n",
       "    <tr style=\"text-align: right;\">\n",
       "      <th></th>\n",
       "      <th>VAR_1</th>\n",
       "      <th>VAR_2</th>\n",
       "      <th>VAR_3</th>\n",
       "      <th>VAR_4</th>\n",
       "      <th>VAR_5</th>\n",
       "      <th>VAR_6</th>\n",
       "      <th>EmptyVar</th>\n",
       "    </tr>\n",
       "  </thead>\n",
       "  <tbody>\n",
       "    <tr>\n",
       "      <th>R_1</th>\n",
       "      <td>1.531361</td>\n",
       "      <td>-0.053335</td>\n",
       "      <td>2.307327</td>\n",
       "      <td>-0.571952</td>\n",
       "      <td>-0.279661</td>\n",
       "      <td>-1.015311</td>\n",
       "      <td>NaN</td>\n",
       "    </tr>\n",
       "    <tr>\n",
       "      <th>R_2</th>\n",
       "      <td>2.069491</td>\n",
       "      <td>0.474643</td>\n",
       "      <td>-0.321227</td>\n",
       "      <td>0.910526</td>\n",
       "      <td>-1.181246</td>\n",
       "      <td>0.192481</td>\n",
       "      <td>NaN</td>\n",
       "    </tr>\n",
       "    <tr>\n",
       "      <th>R_3</th>\n",
       "      <td>1.140335</td>\n",
       "      <td>0.202117</td>\n",
       "      <td>-1.355983</td>\n",
       "      <td>1.563494</td>\n",
       "      <td>-1.109698</td>\n",
       "      <td>-1.058797</td>\n",
       "      <td>NaN</td>\n",
       "    </tr>\n",
       "    <tr>\n",
       "      <th>R_4</th>\n",
       "      <td>0.077481</td>\n",
       "      <td>-1.089736</td>\n",
       "      <td>-1.072905</td>\n",
       "      <td>-0.764840</td>\n",
       "      <td>1.189936</td>\n",
       "      <td>0.266694</td>\n",
       "      <td>NaN</td>\n",
       "    </tr>\n",
       "    <tr>\n",
       "      <th>R_5</th>\n",
       "      <td>1.106107</td>\n",
       "      <td>-0.822567</td>\n",
       "      <td>0.443734</td>\n",
       "      <td>-1.120329</td>\n",
       "      <td>-0.209535</td>\n",
       "      <td>-0.336132</td>\n",
       "      <td>NaN</td>\n",
       "    </tr>\n",
       "  </tbody>\n",
       "</table>\n",
       "</div>"
      ],
      "text/plain": [
       "        VAR_1     VAR_2     VAR_3     VAR_4     VAR_5     VAR_6  EmptyVar\n",
       "R_1  1.531361 -0.053335  2.307327 -0.571952 -0.279661 -1.015311       NaN\n",
       "R_2  2.069491  0.474643 -0.321227  0.910526 -1.181246  0.192481       NaN\n",
       "R_3  1.140335  0.202117 -1.355983  1.563494 -1.109698 -1.058797       NaN\n",
       "R_4  0.077481 -1.089736 -1.072905 -0.764840  1.189936  0.266694       NaN\n",
       "R_5  1.106107 -0.822567  0.443734 -1.120329 -0.209535 -0.336132       NaN"
      ]
     },
     "execution_count": 32,
     "metadata": {},
     "output_type": "execute_result"
    }
   ],
   "source": [
    "df2 = pd.DataFrame(data = df,  index = ind,\n",
    "        columns = ['VAR_1', 'VAR_2', 'VAR_3', 'VAR_4', 'VAR_5', 'VAR_6', 'EmptyVar'])\n",
    "df2.head()"
   ]
  },
  {
   "cell_type": "markdown",
   "id": "80d699b1",
   "metadata": {},
   "source": [
    "### Assigning values to Variables\n",
    "\n",
    "   - Assigning new values to a variable is done using a dict-notation. We pass a value or list of values to the specified column. "
   ]
  },
  {
   "cell_type": "code",
   "execution_count": 33,
   "id": "d123e8e1",
   "metadata": {},
   "outputs": [
    {
     "data": {
      "text/html": [
       "<div>\n",
       "<style scoped>\n",
       "    .dataframe tbody tr th:only-of-type {\n",
       "        vertical-align: middle;\n",
       "    }\n",
       "\n",
       "    .dataframe tbody tr th {\n",
       "        vertical-align: top;\n",
       "    }\n",
       "\n",
       "    .dataframe thead th {\n",
       "        text-align: right;\n",
       "    }\n",
       "</style>\n",
       "<table border=\"1\" class=\"dataframe\">\n",
       "  <thead>\n",
       "    <tr style=\"text-align: right;\">\n",
       "      <th></th>\n",
       "      <th>VAR_1</th>\n",
       "      <th>VAR_2</th>\n",
       "      <th>VAR_3</th>\n",
       "      <th>VAR_4</th>\n",
       "      <th>VAR_5</th>\n",
       "      <th>VAR_6</th>\n",
       "      <th>EmptyVar</th>\n",
       "    </tr>\n",
       "  </thead>\n",
       "  <tbody>\n",
       "    <tr>\n",
       "      <th>R_1</th>\n",
       "      <td>1.531361</td>\n",
       "      <td>-0.053335</td>\n",
       "      <td>2.307327</td>\n",
       "      <td>-0.571952</td>\n",
       "      <td>-0.279661</td>\n",
       "      <td>-1.015311</td>\n",
       "      <td>19.8</td>\n",
       "    </tr>\n",
       "    <tr>\n",
       "      <th>R_2</th>\n",
       "      <td>2.069491</td>\n",
       "      <td>0.474643</td>\n",
       "      <td>-0.321227</td>\n",
       "      <td>0.910526</td>\n",
       "      <td>-1.181246</td>\n",
       "      <td>0.192481</td>\n",
       "      <td>19.8</td>\n",
       "    </tr>\n",
       "    <tr>\n",
       "      <th>R_3</th>\n",
       "      <td>1.140335</td>\n",
       "      <td>0.202117</td>\n",
       "      <td>-1.355983</td>\n",
       "      <td>1.563494</td>\n",
       "      <td>-1.109698</td>\n",
       "      <td>-1.058797</td>\n",
       "      <td>19.8</td>\n",
       "    </tr>\n",
       "    <tr>\n",
       "      <th>R_4</th>\n",
       "      <td>0.077481</td>\n",
       "      <td>-1.089736</td>\n",
       "      <td>-1.072905</td>\n",
       "      <td>-0.764840</td>\n",
       "      <td>1.189936</td>\n",
       "      <td>0.266694</td>\n",
       "      <td>19.8</td>\n",
       "    </tr>\n",
       "    <tr>\n",
       "      <th>R_5</th>\n",
       "      <td>1.106107</td>\n",
       "      <td>-0.822567</td>\n",
       "      <td>0.443734</td>\n",
       "      <td>-1.120329</td>\n",
       "      <td>-0.209535</td>\n",
       "      <td>-0.336132</td>\n",
       "      <td>19.8</td>\n",
       "    </tr>\n",
       "  </tbody>\n",
       "</table>\n",
       "</div>"
      ],
      "text/plain": [
       "        VAR_1     VAR_2     VAR_3     VAR_4     VAR_5     VAR_6  EmptyVar\n",
       "R_1  1.531361 -0.053335  2.307327 -0.571952 -0.279661 -1.015311      19.8\n",
       "R_2  2.069491  0.474643 -0.321227  0.910526 -1.181246  0.192481      19.8\n",
       "R_3  1.140335  0.202117 -1.355983  1.563494 -1.109698 -1.058797      19.8\n",
       "R_4  0.077481 -1.089736 -1.072905 -0.764840  1.189936  0.266694      19.8\n",
       "R_5  1.106107 -0.822567  0.443734 -1.120329 -0.209535 -0.336132      19.8"
      ]
     },
     "execution_count": 33,
     "metadata": {},
     "output_type": "execute_result"
    }
   ],
   "source": [
    "df2['EmptyVar'] = 19.8\n",
    "df2.head()"
   ]
  },
  {
   "cell_type": "markdown",
   "id": "3c713a54",
   "metadata": {},
   "source": [
    "> The same value appears on all rows. The value broadcasts on all indexes.\n",
    "\n",
    "#### We Can Change values as well by indexing a specified column"
   ]
  },
  {
   "cell_type": "code",
   "execution_count": 34,
   "id": "1305c57f",
   "metadata": {},
   "outputs": [
    {
     "data": {
      "text/html": [
       "<div>\n",
       "<style scoped>\n",
       "    .dataframe tbody tr th:only-of-type {\n",
       "        vertical-align: middle;\n",
       "    }\n",
       "\n",
       "    .dataframe tbody tr th {\n",
       "        vertical-align: top;\n",
       "    }\n",
       "\n",
       "    .dataframe thead th {\n",
       "        text-align: right;\n",
       "    }\n",
       "</style>\n",
       "<table border=\"1\" class=\"dataframe\">\n",
       "  <thead>\n",
       "    <tr style=\"text-align: right;\">\n",
       "      <th></th>\n",
       "      <th>VAR_1</th>\n",
       "      <th>VAR_2</th>\n",
       "      <th>VAR_3</th>\n",
       "      <th>VAR_4</th>\n",
       "      <th>VAR_5</th>\n",
       "      <th>VAR_6</th>\n",
       "      <th>EmptyVar</th>\n",
       "    </tr>\n",
       "  </thead>\n",
       "  <tbody>\n",
       "    <tr>\n",
       "      <th>R_1</th>\n",
       "      <td>1.531361</td>\n",
       "      <td>-0.053335</td>\n",
       "      <td>2.307327</td>\n",
       "      <td>-0.571952</td>\n",
       "      <td>-0.279661</td>\n",
       "      <td>-1.015311</td>\n",
       "      <td>23.2</td>\n",
       "    </tr>\n",
       "    <tr>\n",
       "      <th>R_2</th>\n",
       "      <td>2.069491</td>\n",
       "      <td>0.474643</td>\n",
       "      <td>-0.321227</td>\n",
       "      <td>0.910526</td>\n",
       "      <td>-1.181246</td>\n",
       "      <td>0.192481</td>\n",
       "      <td>23.2</td>\n",
       "    </tr>\n",
       "    <tr>\n",
       "      <th>R_3</th>\n",
       "      <td>1.140335</td>\n",
       "      <td>0.202117</td>\n",
       "      <td>-1.355983</td>\n",
       "      <td>1.563494</td>\n",
       "      <td>-1.109698</td>\n",
       "      <td>-1.058797</td>\n",
       "      <td>23.2</td>\n",
       "    </tr>\n",
       "    <tr>\n",
       "      <th>R_4</th>\n",
       "      <td>0.077481</td>\n",
       "      <td>-1.089736</td>\n",
       "      <td>-1.072905</td>\n",
       "      <td>-0.764840</td>\n",
       "      <td>1.189936</td>\n",
       "      <td>0.266694</td>\n",
       "      <td>23.2</td>\n",
       "    </tr>\n",
       "    <tr>\n",
       "      <th>R_5</th>\n",
       "      <td>1.106107</td>\n",
       "      <td>-0.822567</td>\n",
       "      <td>0.443734</td>\n",
       "      <td>-1.120329</td>\n",
       "      <td>-0.209535</td>\n",
       "      <td>-0.336132</td>\n",
       "      <td>23.2</td>\n",
       "    </tr>\n",
       "    <tr>\n",
       "      <th>R_6</th>\n",
       "      <td>-0.195087</td>\n",
       "      <td>-1.194457</td>\n",
       "      <td>-2.270838</td>\n",
       "      <td>-0.100887</td>\n",
       "      <td>1.213398</td>\n",
       "      <td>-3.339269</td>\n",
       "      <td>19.8</td>\n",
       "    </tr>\n",
       "    <tr>\n",
       "      <th>R_7</th>\n",
       "      <td>0.529832</td>\n",
       "      <td>-1.026545</td>\n",
       "      <td>0.007433</td>\n",
       "      <td>-1.367197</td>\n",
       "      <td>-1.004242</td>\n",
       "      <td>-1.774208</td>\n",
       "      <td>19.8</td>\n",
       "    </tr>\n",
       "  </tbody>\n",
       "</table>\n",
       "</div>"
      ],
      "text/plain": [
       "        VAR_1     VAR_2     VAR_3     VAR_4     VAR_5     VAR_6  EmptyVar\n",
       "R_1  1.531361 -0.053335  2.307327 -0.571952 -0.279661 -1.015311      23.2\n",
       "R_2  2.069491  0.474643 -0.321227  0.910526 -1.181246  0.192481      23.2\n",
       "R_3  1.140335  0.202117 -1.355983  1.563494 -1.109698 -1.058797      23.2\n",
       "R_4  0.077481 -1.089736 -1.072905 -0.764840  1.189936  0.266694      23.2\n",
       "R_5  1.106107 -0.822567  0.443734 -1.120329 -0.209535 -0.336132      23.2\n",
       "R_6 -0.195087 -1.194457 -2.270838 -0.100887  1.213398 -3.339269      19.8\n",
       "R_7  0.529832 -1.026545  0.007433 -1.367197 -1.004242 -1.774208      19.8"
      ]
     },
     "execution_count": 34,
     "metadata": {},
     "output_type": "execute_result"
    }
   ],
   "source": [
    "df2.loc['R_1':'R_5',['EmptyVar']] = 23.2\n",
    "df2.head(7)"
   ]
  },
  {
   "cell_type": "markdown",
   "id": "8db86afa",
   "metadata": {},
   "source": [
    "You may notice that I am using ':' between rows, this is because the index labels are in sequence. \n",
    "\n",
    "- We can even do that with variables if they are in sequence. Nice and short!!!.\n",
    "---"
   ]
  },
  {
   "cell_type": "code",
   "execution_count": 35,
   "id": "b81c2c62",
   "metadata": {},
   "outputs": [
    {
     "data": {
      "text/html": [
       "<div>\n",
       "<style scoped>\n",
       "    .dataframe tbody tr th:only-of-type {\n",
       "        vertical-align: middle;\n",
       "    }\n",
       "\n",
       "    .dataframe tbody tr th {\n",
       "        vertical-align: top;\n",
       "    }\n",
       "\n",
       "    .dataframe thead th {\n",
       "        text-align: right;\n",
       "    }\n",
       "</style>\n",
       "<table border=\"1\" class=\"dataframe\">\n",
       "  <thead>\n",
       "    <tr style=\"text-align: right;\">\n",
       "      <th></th>\n",
       "      <th>VAR_1</th>\n",
       "      <th>VAR_2</th>\n",
       "      <th>VAR_3</th>\n",
       "      <th>VAR_4</th>\n",
       "    </tr>\n",
       "  </thead>\n",
       "  <tbody>\n",
       "    <tr>\n",
       "      <th>R_1</th>\n",
       "      <td>1.531361</td>\n",
       "      <td>-0.053335</td>\n",
       "      <td>2.307327</td>\n",
       "      <td>-0.571952</td>\n",
       "    </tr>\n",
       "    <tr>\n",
       "      <th>R_2</th>\n",
       "      <td>2.069491</td>\n",
       "      <td>0.474643</td>\n",
       "      <td>-0.321227</td>\n",
       "      <td>0.910526</td>\n",
       "    </tr>\n",
       "    <tr>\n",
       "      <th>R_3</th>\n",
       "      <td>1.140335</td>\n",
       "      <td>0.202117</td>\n",
       "      <td>-1.355983</td>\n",
       "      <td>1.563494</td>\n",
       "    </tr>\n",
       "    <tr>\n",
       "      <th>R_4</th>\n",
       "      <td>0.077481</td>\n",
       "      <td>-1.089736</td>\n",
       "      <td>-1.072905</td>\n",
       "      <td>-0.764840</td>\n",
       "    </tr>\n",
       "    <tr>\n",
       "      <th>R_5</th>\n",
       "      <td>1.106107</td>\n",
       "      <td>-0.822567</td>\n",
       "      <td>0.443734</td>\n",
       "      <td>-1.120329</td>\n",
       "    </tr>\n",
       "  </tbody>\n",
       "</table>\n",
       "</div>"
      ],
      "text/plain": [
       "        VAR_1     VAR_2     VAR_3     VAR_4\n",
       "R_1  1.531361 -0.053335  2.307327 -0.571952\n",
       "R_2  2.069491  0.474643 -0.321227  0.910526\n",
       "R_3  1.140335  0.202117 -1.355983  1.563494\n",
       "R_4  0.077481 -1.089736 -1.072905 -0.764840\n",
       "R_5  1.106107 -0.822567  0.443734 -1.120329"
      ]
     },
     "execution_count": 35,
     "metadata": {},
     "output_type": "execute_result"
    }
   ],
   "source": [
    "df2.loc['R_1':'R_5', 'VAR_1':'VAR_4'].head() "
   ]
  },
  {
   "cell_type": "markdown",
   "id": "37381686",
   "metadata": {},
   "source": [
    "### Assigning an array-like to an empty column"
   ]
  },
  {
   "cell_type": "markdown",
   "id": "093d0d29",
   "metadata": {},
   "source": [
    "If we want to assign a list or a Numpy array to a variable, the lenght must match the length of the DataFrame. "
   ]
  },
  {
   "cell_type": "code",
   "execution_count": 36,
   "id": "606cd460",
   "metadata": {},
   "outputs": [
    {
     "data": {
      "text/html": [
       "<div>\n",
       "<style scoped>\n",
       "    .dataframe tbody tr th:only-of-type {\n",
       "        vertical-align: middle;\n",
       "    }\n",
       "\n",
       "    .dataframe tbody tr th {\n",
       "        vertical-align: top;\n",
       "    }\n",
       "\n",
       "    .dataframe thead th {\n",
       "        text-align: right;\n",
       "    }\n",
       "</style>\n",
       "<table border=\"1\" class=\"dataframe\">\n",
       "  <thead>\n",
       "    <tr style=\"text-align: right;\">\n",
       "      <th></th>\n",
       "      <th>VAR_1</th>\n",
       "      <th>VAR_2</th>\n",
       "      <th>VAR_3</th>\n",
       "      <th>VAR_4</th>\n",
       "      <th>VAR_5</th>\n",
       "      <th>VAR_6</th>\n",
       "      <th>EmptyVar</th>\n",
       "    </tr>\n",
       "  </thead>\n",
       "  <tbody>\n",
       "    <tr>\n",
       "      <th>R_1</th>\n",
       "      <td>1.531361</td>\n",
       "      <td>-0.053335</td>\n",
       "      <td>2.307327</td>\n",
       "      <td>-0.571952</td>\n",
       "      <td>-0.279661</td>\n",
       "      <td>-1.015311</td>\n",
       "      <td>1</td>\n",
       "    </tr>\n",
       "    <tr>\n",
       "      <th>R_2</th>\n",
       "      <td>2.069491</td>\n",
       "      <td>0.474643</td>\n",
       "      <td>-0.321227</td>\n",
       "      <td>0.910526</td>\n",
       "      <td>-1.181246</td>\n",
       "      <td>0.192481</td>\n",
       "      <td>2</td>\n",
       "    </tr>\n",
       "    <tr>\n",
       "      <th>R_3</th>\n",
       "      <td>1.140335</td>\n",
       "      <td>0.202117</td>\n",
       "      <td>-1.355983</td>\n",
       "      <td>1.563494</td>\n",
       "      <td>-1.109698</td>\n",
       "      <td>-1.058797</td>\n",
       "      <td>3</td>\n",
       "    </tr>\n",
       "    <tr>\n",
       "      <th>R_4</th>\n",
       "      <td>0.077481</td>\n",
       "      <td>-1.089736</td>\n",
       "      <td>-1.072905</td>\n",
       "      <td>-0.764840</td>\n",
       "      <td>1.189936</td>\n",
       "      <td>0.266694</td>\n",
       "      <td>4</td>\n",
       "    </tr>\n",
       "    <tr>\n",
       "      <th>R_5</th>\n",
       "      <td>1.106107</td>\n",
       "      <td>-0.822567</td>\n",
       "      <td>0.443734</td>\n",
       "      <td>-1.120329</td>\n",
       "      <td>-0.209535</td>\n",
       "      <td>-0.336132</td>\n",
       "      <td>5</td>\n",
       "    </tr>\n",
       "  </tbody>\n",
       "</table>\n",
       "</div>"
      ],
      "text/plain": [
       "        VAR_1     VAR_2     VAR_3     VAR_4     VAR_5     VAR_6  EmptyVar\n",
       "R_1  1.531361 -0.053335  2.307327 -0.571952 -0.279661 -1.015311         1\n",
       "R_2  2.069491  0.474643 -0.321227  0.910526 -1.181246  0.192481         2\n",
       "R_3  1.140335  0.202117 -1.355983  1.563494 -1.109698 -1.058797         3\n",
       "R_4  0.077481 -1.089736 -1.072905 -0.764840  1.189936  0.266694         4\n",
       "R_5  1.106107 -0.822567  0.443734 -1.120329 -0.209535 -0.336132         5"
      ]
     },
     "execution_count": 36,
     "metadata": {},
     "output_type": "execute_result"
    }
   ],
   "source": [
    "df2['EmptyVar'] = np.arange(1, 16)\n",
    "df2.head()"
   ]
  },
  {
   "cell_type": "code",
   "execution_count": 37,
   "id": "4390ef90",
   "metadata": {},
   "outputs": [
    {
     "data": {
      "text/html": [
       "<div>\n",
       "<style scoped>\n",
       "    .dataframe tbody tr th:only-of-type {\n",
       "        vertical-align: middle;\n",
       "    }\n",
       "\n",
       "    .dataframe tbody tr th {\n",
       "        vertical-align: top;\n",
       "    }\n",
       "\n",
       "    .dataframe thead th {\n",
       "        text-align: right;\n",
       "    }\n",
       "</style>\n",
       "<table border=\"1\" class=\"dataframe\">\n",
       "  <thead>\n",
       "    <tr style=\"text-align: right;\">\n",
       "      <th></th>\n",
       "      <th>VAR_1</th>\n",
       "      <th>VAR_2</th>\n",
       "      <th>VAR_3</th>\n",
       "      <th>VAR_4</th>\n",
       "      <th>VAR_5</th>\n",
       "      <th>VAR_6</th>\n",
       "      <th>EmptyVar</th>\n",
       "    </tr>\n",
       "  </thead>\n",
       "  <tbody>\n",
       "    <tr>\n",
       "      <th>R_11</th>\n",
       "      <td>0.935375</td>\n",
       "      <td>0.501264</td>\n",
       "      <td>0.694028</td>\n",
       "      <td>-0.817003</td>\n",
       "      <td>-0.298779</td>\n",
       "      <td>-0.759090</td>\n",
       "      <td>11</td>\n",
       "    </tr>\n",
       "    <tr>\n",
       "      <th>R_12</th>\n",
       "      <td>0.067525</td>\n",
       "      <td>0.511827</td>\n",
       "      <td>-0.667459</td>\n",
       "      <td>-1.568217</td>\n",
       "      <td>1.091447</td>\n",
       "      <td>-0.388848</td>\n",
       "      <td>12</td>\n",
       "    </tr>\n",
       "    <tr>\n",
       "      <th>R_13</th>\n",
       "      <td>-1.790720</td>\n",
       "      <td>1.534121</td>\n",
       "      <td>0.306633</td>\n",
       "      <td>0.013719</td>\n",
       "      <td>-0.907319</td>\n",
       "      <td>-0.318479</td>\n",
       "      <td>13</td>\n",
       "    </tr>\n",
       "    <tr>\n",
       "      <th>R_14</th>\n",
       "      <td>-0.111392</td>\n",
       "      <td>-0.683768</td>\n",
       "      <td>-2.069643</td>\n",
       "      <td>0.544413</td>\n",
       "      <td>0.349911</td>\n",
       "      <td>0.758114</td>\n",
       "      <td>14</td>\n",
       "    </tr>\n",
       "    <tr>\n",
       "      <th>R_15</th>\n",
       "      <td>-0.606929</td>\n",
       "      <td>1.580305</td>\n",
       "      <td>-0.733967</td>\n",
       "      <td>-0.545920</td>\n",
       "      <td>0.310681</td>\n",
       "      <td>-0.662977</td>\n",
       "      <td>15</td>\n",
       "    </tr>\n",
       "  </tbody>\n",
       "</table>\n",
       "</div>"
      ],
      "text/plain": [
       "         VAR_1     VAR_2     VAR_3     VAR_4     VAR_5     VAR_6  EmptyVar\n",
       "R_11  0.935375  0.501264  0.694028 -0.817003 -0.298779 -0.759090        11\n",
       "R_12  0.067525  0.511827 -0.667459 -1.568217  1.091447 -0.388848        12\n",
       "R_13 -1.790720  1.534121  0.306633  0.013719 -0.907319 -0.318479        13\n",
       "R_14 -0.111392 -0.683768 -2.069643  0.544413  0.349911  0.758114        14\n",
       "R_15 -0.606929  1.580305 -0.733967 -0.545920  0.310681 -0.662977        15"
      ]
     },
     "execution_count": 37,
     "metadata": {},
     "output_type": "execute_result"
    }
   ],
   "source": [
    "df2.tail()"
   ]
  },
  {
   "cell_type": "markdown",
   "id": "9230c8fb",
   "metadata": {},
   "source": [
    "---\n",
    "## Dropping\n",
    "\n",
    "###  Dropping Variables\n",
    "\n",
    "  - Dropping a variable can be done using the pandas DataFrame __drop method__.\n",
    "  \n",
    "  \n",
    "  - **Drop method refers to the index not columns (the axis argument is set to zero by default (axis =0))**\n",
    "  \n",
    "  \n",
    "  - **Dropping variables** is achieved by __setting the axis=1__ \n",
    "  \n",
    "  \n",
    "  - Pandas handles dropping variables carefully:\n",
    "  \n",
    "     - it protects us from deleting variables accidently (because losing data is expensive). \n",
    "     \n",
    "     - Therefore, there is an argument called __inplace__, this to confirm whether we want to delete the variable permanently.\n",
    "  \n",
    "          - Setting __inplace = False__ (which is the default) will not delete the variable from the original data (it makes a copy of the data). \n",
    "     \n",
    "          - Setting __inplace = True__ will delete (drop) the variable permanently.  "
   ]
  },
  {
   "cell_type": "markdown",
   "id": "46ca1073",
   "metadata": {},
   "source": [
    "#### Example: Dropping variables with inplace = True"
   ]
  },
  {
   "cell_type": "code",
   "execution_count": 38,
   "id": "42a700b6",
   "metadata": {},
   "outputs": [
    {
     "data": {
      "text/html": [
       "<div>\n",
       "<style scoped>\n",
       "    .dataframe tbody tr th:only-of-type {\n",
       "        vertical-align: middle;\n",
       "    }\n",
       "\n",
       "    .dataframe tbody tr th {\n",
       "        vertical-align: top;\n",
       "    }\n",
       "\n",
       "    .dataframe thead th {\n",
       "        text-align: right;\n",
       "    }\n",
       "</style>\n",
       "<table border=\"1\" class=\"dataframe\">\n",
       "  <thead>\n",
       "    <tr style=\"text-align: right;\">\n",
       "      <th></th>\n",
       "      <th>VAR_1</th>\n",
       "      <th>VAR_2</th>\n",
       "      <th>VAR_3</th>\n",
       "      <th>VAR_4</th>\n",
       "      <th>VAR_5</th>\n",
       "      <th>VAR_6</th>\n",
       "    </tr>\n",
       "  </thead>\n",
       "  <tbody>\n",
       "    <tr>\n",
       "      <th>R_1</th>\n",
       "      <td>1.531361</td>\n",
       "      <td>-0.053335</td>\n",
       "      <td>2.307327</td>\n",
       "      <td>-0.571952</td>\n",
       "      <td>-0.279661</td>\n",
       "      <td>-1.015311</td>\n",
       "    </tr>\n",
       "    <tr>\n",
       "      <th>R_2</th>\n",
       "      <td>2.069491</td>\n",
       "      <td>0.474643</td>\n",
       "      <td>-0.321227</td>\n",
       "      <td>0.910526</td>\n",
       "      <td>-1.181246</td>\n",
       "      <td>0.192481</td>\n",
       "    </tr>\n",
       "    <tr>\n",
       "      <th>R_3</th>\n",
       "      <td>1.140335</td>\n",
       "      <td>0.202117</td>\n",
       "      <td>-1.355983</td>\n",
       "      <td>1.563494</td>\n",
       "      <td>-1.109698</td>\n",
       "      <td>-1.058797</td>\n",
       "    </tr>\n",
       "    <tr>\n",
       "      <th>R_4</th>\n",
       "      <td>0.077481</td>\n",
       "      <td>-1.089736</td>\n",
       "      <td>-1.072905</td>\n",
       "      <td>-0.764840</td>\n",
       "      <td>1.189936</td>\n",
       "      <td>0.266694</td>\n",
       "    </tr>\n",
       "    <tr>\n",
       "      <th>R_5</th>\n",
       "      <td>1.106107</td>\n",
       "      <td>-0.822567</td>\n",
       "      <td>0.443734</td>\n",
       "      <td>-1.120329</td>\n",
       "      <td>-0.209535</td>\n",
       "      <td>-0.336132</td>\n",
       "    </tr>\n",
       "  </tbody>\n",
       "</table>\n",
       "</div>"
      ],
      "text/plain": [
       "        VAR_1     VAR_2     VAR_3     VAR_4     VAR_5     VAR_6\n",
       "R_1  1.531361 -0.053335  2.307327 -0.571952 -0.279661 -1.015311\n",
       "R_2  2.069491  0.474643 -0.321227  0.910526 -1.181246  0.192481\n",
       "R_3  1.140335  0.202117 -1.355983  1.563494 -1.109698 -1.058797\n",
       "R_4  0.077481 -1.089736 -1.072905 -0.764840  1.189936  0.266694\n",
       "R_5  1.106107 -0.822567  0.443734 -1.120329 -0.209535 -0.336132"
      ]
     },
     "execution_count": 38,
     "metadata": {},
     "output_type": "execute_result"
    }
   ],
   "source": [
    "# Set axis = 1\n",
    "# df.drop('NEW_VAR', axis = 1, inplace = False)\n",
    "df.drop('NEW_VAR', axis = 1, inplace = False).head()"
   ]
  },
  {
   "cell_type": "markdown",
   "id": "cff8e9df",
   "metadata": {},
   "source": [
    "####  Check the original data frame"
   ]
  },
  {
   "cell_type": "code",
   "execution_count": 39,
   "id": "d7e52bf3",
   "metadata": {},
   "outputs": [
    {
     "data": {
      "text/html": [
       "<div>\n",
       "<style scoped>\n",
       "    .dataframe tbody tr th:only-of-type {\n",
       "        vertical-align: middle;\n",
       "    }\n",
       "\n",
       "    .dataframe tbody tr th {\n",
       "        vertical-align: top;\n",
       "    }\n",
       "\n",
       "    .dataframe thead th {\n",
       "        text-align: right;\n",
       "    }\n",
       "</style>\n",
       "<table border=\"1\" class=\"dataframe\">\n",
       "  <thead>\n",
       "    <tr style=\"text-align: right;\">\n",
       "      <th></th>\n",
       "      <th>VAR_1</th>\n",
       "      <th>VAR_2</th>\n",
       "      <th>VAR_3</th>\n",
       "      <th>VAR_4</th>\n",
       "      <th>VAR_5</th>\n",
       "      <th>VAR_6</th>\n",
       "      <th>NEW_VAR</th>\n",
       "    </tr>\n",
       "  </thead>\n",
       "  <tbody>\n",
       "    <tr>\n",
       "      <th>R_1</th>\n",
       "      <td>1.531361</td>\n",
       "      <td>-0.053335</td>\n",
       "      <td>2.307327</td>\n",
       "      <td>-0.571952</td>\n",
       "      <td>-0.279661</td>\n",
       "      <td>-1.015311</td>\n",
       "      <td>1.478026</td>\n",
       "    </tr>\n",
       "    <tr>\n",
       "      <th>R_2</th>\n",
       "      <td>2.069491</td>\n",
       "      <td>0.474643</td>\n",
       "      <td>-0.321227</td>\n",
       "      <td>0.910526</td>\n",
       "      <td>-1.181246</td>\n",
       "      <td>0.192481</td>\n",
       "      <td>2.544134</td>\n",
       "    </tr>\n",
       "    <tr>\n",
       "      <th>R_3</th>\n",
       "      <td>1.140335</td>\n",
       "      <td>0.202117</td>\n",
       "      <td>-1.355983</td>\n",
       "      <td>1.563494</td>\n",
       "      <td>-1.109698</td>\n",
       "      <td>-1.058797</td>\n",
       "      <td>1.342452</td>\n",
       "    </tr>\n",
       "    <tr>\n",
       "      <th>R_4</th>\n",
       "      <td>0.077481</td>\n",
       "      <td>-1.089736</td>\n",
       "      <td>-1.072905</td>\n",
       "      <td>-0.764840</td>\n",
       "      <td>1.189936</td>\n",
       "      <td>0.266694</td>\n",
       "      <td>-1.012255</td>\n",
       "    </tr>\n",
       "    <tr>\n",
       "      <th>R_5</th>\n",
       "      <td>1.106107</td>\n",
       "      <td>-0.822567</td>\n",
       "      <td>0.443734</td>\n",
       "      <td>-1.120329</td>\n",
       "      <td>-0.209535</td>\n",
       "      <td>-0.336132</td>\n",
       "      <td>0.283540</td>\n",
       "    </tr>\n",
       "  </tbody>\n",
       "</table>\n",
       "</div>"
      ],
      "text/plain": [
       "        VAR_1     VAR_2     VAR_3     VAR_4     VAR_5     VAR_6   NEW_VAR\n",
       "R_1  1.531361 -0.053335  2.307327 -0.571952 -0.279661 -1.015311  1.478026\n",
       "R_2  2.069491  0.474643 -0.321227  0.910526 -1.181246  0.192481  2.544134\n",
       "R_3  1.140335  0.202117 -1.355983  1.563494 -1.109698 -1.058797  1.342452\n",
       "R_4  0.077481 -1.089736 -1.072905 -0.764840  1.189936  0.266694 -1.012255\n",
       "R_5  1.106107 -0.822567  0.443734 -1.120329 -0.209535 -0.336132  0.283540"
      ]
     },
     "execution_count": 39,
     "metadata": {},
     "output_type": "execute_result"
    }
   ],
   "source": [
    "df.head()"
   ]
  },
  {
   "cell_type": "markdown",
   "id": "25871c40",
   "metadata": {},
   "source": [
    " - Indeed, the variable is still there. And, if we want to delete the variabel permanently, we should set inplace to True."
   ]
  },
  {
   "cell_type": "code",
   "execution_count": 40,
   "id": "a4383f7a",
   "metadata": {},
   "outputs": [],
   "source": [
    "df.drop('NEW_VAR', axis = 1, inplace = True)"
   ]
  },
  {
   "cell_type": "code",
   "execution_count": 41,
   "id": "8aa62a26",
   "metadata": {},
   "outputs": [
    {
     "data": {
      "text/html": [
       "<div>\n",
       "<style scoped>\n",
       "    .dataframe tbody tr th:only-of-type {\n",
       "        vertical-align: middle;\n",
       "    }\n",
       "\n",
       "    .dataframe tbody tr th {\n",
       "        vertical-align: top;\n",
       "    }\n",
       "\n",
       "    .dataframe thead th {\n",
       "        text-align: right;\n",
       "    }\n",
       "</style>\n",
       "<table border=\"1\" class=\"dataframe\">\n",
       "  <thead>\n",
       "    <tr style=\"text-align: right;\">\n",
       "      <th></th>\n",
       "      <th>VAR_1</th>\n",
       "      <th>VAR_2</th>\n",
       "      <th>VAR_3</th>\n",
       "      <th>VAR_4</th>\n",
       "      <th>VAR_5</th>\n",
       "      <th>VAR_6</th>\n",
       "    </tr>\n",
       "  </thead>\n",
       "  <tbody>\n",
       "    <tr>\n",
       "      <th>R_1</th>\n",
       "      <td>1.531361</td>\n",
       "      <td>-0.053335</td>\n",
       "      <td>2.307327</td>\n",
       "      <td>-0.571952</td>\n",
       "      <td>-0.279661</td>\n",
       "      <td>-1.015311</td>\n",
       "    </tr>\n",
       "    <tr>\n",
       "      <th>R_2</th>\n",
       "      <td>2.069491</td>\n",
       "      <td>0.474643</td>\n",
       "      <td>-0.321227</td>\n",
       "      <td>0.910526</td>\n",
       "      <td>-1.181246</td>\n",
       "      <td>0.192481</td>\n",
       "    </tr>\n",
       "    <tr>\n",
       "      <th>R_3</th>\n",
       "      <td>1.140335</td>\n",
       "      <td>0.202117</td>\n",
       "      <td>-1.355983</td>\n",
       "      <td>1.563494</td>\n",
       "      <td>-1.109698</td>\n",
       "      <td>-1.058797</td>\n",
       "    </tr>\n",
       "    <tr>\n",
       "      <th>R_4</th>\n",
       "      <td>0.077481</td>\n",
       "      <td>-1.089736</td>\n",
       "      <td>-1.072905</td>\n",
       "      <td>-0.764840</td>\n",
       "      <td>1.189936</td>\n",
       "      <td>0.266694</td>\n",
       "    </tr>\n",
       "    <tr>\n",
       "      <th>R_5</th>\n",
       "      <td>1.106107</td>\n",
       "      <td>-0.822567</td>\n",
       "      <td>0.443734</td>\n",
       "      <td>-1.120329</td>\n",
       "      <td>-0.209535</td>\n",
       "      <td>-0.336132</td>\n",
       "    </tr>\n",
       "  </tbody>\n",
       "</table>\n",
       "</div>"
      ],
      "text/plain": [
       "        VAR_1     VAR_2     VAR_3     VAR_4     VAR_5     VAR_6\n",
       "R_1  1.531361 -0.053335  2.307327 -0.571952 -0.279661 -1.015311\n",
       "R_2  2.069491  0.474643 -0.321227  0.910526 -1.181246  0.192481\n",
       "R_3  1.140335  0.202117 -1.355983  1.563494 -1.109698 -1.058797\n",
       "R_4  0.077481 -1.089736 -1.072905 -0.764840  1.189936  0.266694\n",
       "R_5  1.106107 -0.822567  0.443734 -1.120329 -0.209535 -0.336132"
      ]
     },
     "execution_count": 41,
     "metadata": {},
     "output_type": "execute_result"
    }
   ],
   "source": [
    "df.head()"
   ]
  },
  {
   "cell_type": "markdown",
   "id": "5e1c60eb",
   "metadata": {},
   "source": [
    "**The variable permanently removed**"
   ]
  },
  {
   "cell_type": "markdown",
   "id": "de3f7292",
   "metadata": {},
   "source": [
    "### Dropping Multiple Variables\n",
    "\n",
    "  - This is done by providing a list of variable to the **drop** method \n",
    "  \n",
    "```python\n",
    "\n",
    "  df.drop[['V_1', 'V_2', ...]]\n",
    "```\n"
   ]
  },
  {
   "cell_type": "code",
   "execution_count": 42,
   "id": "71610597",
   "metadata": {},
   "outputs": [
    {
     "data": {
      "text/html": [
       "<div>\n",
       "<style scoped>\n",
       "    .dataframe tbody tr th:only-of-type {\n",
       "        vertical-align: middle;\n",
       "    }\n",
       "\n",
       "    .dataframe tbody tr th {\n",
       "        vertical-align: top;\n",
       "    }\n",
       "\n",
       "    .dataframe thead th {\n",
       "        text-align: right;\n",
       "    }\n",
       "</style>\n",
       "<table border=\"1\" class=\"dataframe\">\n",
       "  <thead>\n",
       "    <tr style=\"text-align: right;\">\n",
       "      <th></th>\n",
       "      <th>VAR_2</th>\n",
       "      <th>VAR_4</th>\n",
       "      <th>VAR_5</th>\n",
       "    </tr>\n",
       "  </thead>\n",
       "  <tbody>\n",
       "    <tr>\n",
       "      <th>R_1</th>\n",
       "      <td>-0.053335</td>\n",
       "      <td>-0.571952</td>\n",
       "      <td>-0.279661</td>\n",
       "    </tr>\n",
       "    <tr>\n",
       "      <th>R_2</th>\n",
       "      <td>0.474643</td>\n",
       "      <td>0.910526</td>\n",
       "      <td>-1.181246</td>\n",
       "    </tr>\n",
       "    <tr>\n",
       "      <th>R_3</th>\n",
       "      <td>0.202117</td>\n",
       "      <td>1.563494</td>\n",
       "      <td>-1.109698</td>\n",
       "    </tr>\n",
       "  </tbody>\n",
       "</table>\n",
       "</div>"
      ],
      "text/plain": [
       "        VAR_2     VAR_4     VAR_5\n",
       "R_1 -0.053335 -0.571952 -0.279661\n",
       "R_2  0.474643  0.910526 -1.181246\n",
       "R_3  0.202117  1.563494 -1.109698"
      ]
     },
     "execution_count": 42,
     "metadata": {},
     "output_type": "execute_result"
    }
   ],
   "source": [
    "df.drop(['VAR_1', 'VAR_3', 'VAR_6'], axis = 1).head(3)"
   ]
  },
  {
   "cell_type": "markdown",
   "id": "7ef6d3cf",
   "metadata": {},
   "source": [
    "### Droping Rows (Observations)\n",
    "\n",
    "  - The drop method drops rows from the data frame by default\n",
    "  \n",
    "  \n",
    "  - Passing a label-index (or integer-index) to drop one row\n",
    "  \n",
    "  \n",
    "  - Passing a list of lable-index (or integer-index) will drop multiple rows\n",
    "  \n",
    "  \n",
    "  - Setting __inplace = True__ will remove observations permanently. "
   ]
  },
  {
   "cell_type": "markdown",
   "id": "7a354fe1",
   "metadata": {},
   "source": [
    "#### Dropping One Row"
   ]
  },
  {
   "cell_type": "code",
   "execution_count": 43,
   "id": "aff6fdb0",
   "metadata": {},
   "outputs": [
    {
     "data": {
      "text/html": [
       "<div>\n",
       "<style scoped>\n",
       "    .dataframe tbody tr th:only-of-type {\n",
       "        vertical-align: middle;\n",
       "    }\n",
       "\n",
       "    .dataframe tbody tr th {\n",
       "        vertical-align: top;\n",
       "    }\n",
       "\n",
       "    .dataframe thead th {\n",
       "        text-align: right;\n",
       "    }\n",
       "</style>\n",
       "<table border=\"1\" class=\"dataframe\">\n",
       "  <thead>\n",
       "    <tr style=\"text-align: right;\">\n",
       "      <th></th>\n",
       "      <th>VAR_1</th>\n",
       "      <th>VAR_2</th>\n",
       "      <th>VAR_3</th>\n",
       "      <th>VAR_4</th>\n",
       "      <th>VAR_5</th>\n",
       "      <th>VAR_6</th>\n",
       "    </tr>\n",
       "  </thead>\n",
       "  <tbody>\n",
       "    <tr>\n",
       "      <th>R_2</th>\n",
       "      <td>2.069491</td>\n",
       "      <td>0.474643</td>\n",
       "      <td>-0.321227</td>\n",
       "      <td>0.910526</td>\n",
       "      <td>-1.181246</td>\n",
       "      <td>0.192481</td>\n",
       "    </tr>\n",
       "    <tr>\n",
       "      <th>R_3</th>\n",
       "      <td>1.140335</td>\n",
       "      <td>0.202117</td>\n",
       "      <td>-1.355983</td>\n",
       "      <td>1.563494</td>\n",
       "      <td>-1.109698</td>\n",
       "      <td>-1.058797</td>\n",
       "    </tr>\n",
       "    <tr>\n",
       "      <th>R_4</th>\n",
       "      <td>0.077481</td>\n",
       "      <td>-1.089736</td>\n",
       "      <td>-1.072905</td>\n",
       "      <td>-0.764840</td>\n",
       "      <td>1.189936</td>\n",
       "      <td>0.266694</td>\n",
       "    </tr>\n",
       "    <tr>\n",
       "      <th>R_5</th>\n",
       "      <td>1.106107</td>\n",
       "      <td>-0.822567</td>\n",
       "      <td>0.443734</td>\n",
       "      <td>-1.120329</td>\n",
       "      <td>-0.209535</td>\n",
       "      <td>-0.336132</td>\n",
       "    </tr>\n",
       "    <tr>\n",
       "      <th>R_6</th>\n",
       "      <td>-0.195087</td>\n",
       "      <td>-1.194457</td>\n",
       "      <td>-2.270838</td>\n",
       "      <td>-0.100887</td>\n",
       "      <td>1.213398</td>\n",
       "      <td>-3.339269</td>\n",
       "    </tr>\n",
       "  </tbody>\n",
       "</table>\n",
       "</div>"
      ],
      "text/plain": [
       "        VAR_1     VAR_2     VAR_3     VAR_4     VAR_5     VAR_6\n",
       "R_2  2.069491  0.474643 -0.321227  0.910526 -1.181246  0.192481\n",
       "R_3  1.140335  0.202117 -1.355983  1.563494 -1.109698 -1.058797\n",
       "R_4  0.077481 -1.089736 -1.072905 -0.764840  1.189936  0.266694\n",
       "R_5  1.106107 -0.822567  0.443734 -1.120329 -0.209535 -0.336132\n",
       "R_6 -0.195087 -1.194457 -2.270838 -0.100887  1.213398 -3.339269"
      ]
     },
     "execution_count": 43,
     "metadata": {},
     "output_type": "execute_result"
    }
   ],
   "source": [
    "df.drop('R_1', axis = 0).head()"
   ]
  },
  {
   "cell_type": "code",
   "execution_count": 44,
   "id": "5df2ebd6",
   "metadata": {},
   "outputs": [
    {
     "data": {
      "text/html": [
       "<div>\n",
       "<style scoped>\n",
       "    .dataframe tbody tr th:only-of-type {\n",
       "        vertical-align: middle;\n",
       "    }\n",
       "\n",
       "    .dataframe tbody tr th {\n",
       "        vertical-align: top;\n",
       "    }\n",
       "\n",
       "    .dataframe thead th {\n",
       "        text-align: right;\n",
       "    }\n",
       "</style>\n",
       "<table border=\"1\" class=\"dataframe\">\n",
       "  <thead>\n",
       "    <tr style=\"text-align: right;\">\n",
       "      <th></th>\n",
       "      <th>VAR_1</th>\n",
       "      <th>VAR_2</th>\n",
       "      <th>VAR_3</th>\n",
       "      <th>VAR_4</th>\n",
       "      <th>VAR_5</th>\n",
       "      <th>VAR_6</th>\n",
       "    </tr>\n",
       "  </thead>\n",
       "  <tbody>\n",
       "    <tr>\n",
       "      <th>R_1</th>\n",
       "      <td>1.531361</td>\n",
       "      <td>-0.053335</td>\n",
       "      <td>2.307327</td>\n",
       "      <td>-0.571952</td>\n",
       "      <td>-0.279661</td>\n",
       "      <td>-1.015311</td>\n",
       "    </tr>\n",
       "    <tr>\n",
       "      <th>R_2</th>\n",
       "      <td>2.069491</td>\n",
       "      <td>0.474643</td>\n",
       "      <td>-0.321227</td>\n",
       "      <td>0.910526</td>\n",
       "      <td>-1.181246</td>\n",
       "      <td>0.192481</td>\n",
       "    </tr>\n",
       "    <tr>\n",
       "      <th>R_3</th>\n",
       "      <td>1.140335</td>\n",
       "      <td>0.202117</td>\n",
       "      <td>-1.355983</td>\n",
       "      <td>1.563494</td>\n",
       "      <td>-1.109698</td>\n",
       "      <td>-1.058797</td>\n",
       "    </tr>\n",
       "    <tr>\n",
       "      <th>R_4</th>\n",
       "      <td>0.077481</td>\n",
       "      <td>-1.089736</td>\n",
       "      <td>-1.072905</td>\n",
       "      <td>-0.764840</td>\n",
       "      <td>1.189936</td>\n",
       "      <td>0.266694</td>\n",
       "    </tr>\n",
       "    <tr>\n",
       "      <th>R_5</th>\n",
       "      <td>1.106107</td>\n",
       "      <td>-0.822567</td>\n",
       "      <td>0.443734</td>\n",
       "      <td>-1.120329</td>\n",
       "      <td>-0.209535</td>\n",
       "      <td>-0.336132</td>\n",
       "    </tr>\n",
       "  </tbody>\n",
       "</table>\n",
       "</div>"
      ],
      "text/plain": [
       "        VAR_1     VAR_2     VAR_3     VAR_4     VAR_5     VAR_6\n",
       "R_1  1.531361 -0.053335  2.307327 -0.571952 -0.279661 -1.015311\n",
       "R_2  2.069491  0.474643 -0.321227  0.910526 -1.181246  0.192481\n",
       "R_3  1.140335  0.202117 -1.355983  1.563494 -1.109698 -1.058797\n",
       "R_4  0.077481 -1.089736 -1.072905 -0.764840  1.189936  0.266694\n",
       "R_5  1.106107 -0.822567  0.443734 -1.120329 -0.209535 -0.336132"
      ]
     },
     "execution_count": 44,
     "metadata": {},
     "output_type": "execute_result"
    }
   ],
   "source": [
    "df.head()"
   ]
  },
  {
   "cell_type": "markdown",
   "id": "94aecb61",
   "metadata": {},
   "source": [
    "**The first is still there, because we didn't specify inplace = True**\n",
    "\n",
    "we can do that like this\n",
    " \n",
    "```python\n",
    "df.drop('R_1', inplace = True)\n",
    "```"
   ]
  },
  {
   "cell_type": "markdown",
   "id": "236b21c3",
   "metadata": {},
   "source": [
    "#### Dropping Multiple Rows\n",
    "\n",
    "  - Passing a list of row indexes to the drop method\n",
    "\n",
    "```python\n",
    "\n",
    "    df.drop(['R1', 'R2', ...])\n",
    "```"
   ]
  },
  {
   "cell_type": "code",
   "execution_count": 45,
   "id": "40711c09",
   "metadata": {},
   "outputs": [
    {
     "data": {
      "text/html": [
       "<div>\n",
       "<style scoped>\n",
       "    .dataframe tbody tr th:only-of-type {\n",
       "        vertical-align: middle;\n",
       "    }\n",
       "\n",
       "    .dataframe tbody tr th {\n",
       "        vertical-align: top;\n",
       "    }\n",
       "\n",
       "    .dataframe thead th {\n",
       "        text-align: right;\n",
       "    }\n",
       "</style>\n",
       "<table border=\"1\" class=\"dataframe\">\n",
       "  <thead>\n",
       "    <tr style=\"text-align: right;\">\n",
       "      <th></th>\n",
       "      <th>VAR_1</th>\n",
       "      <th>VAR_2</th>\n",
       "      <th>VAR_3</th>\n",
       "      <th>VAR_4</th>\n",
       "      <th>VAR_5</th>\n",
       "      <th>VAR_6</th>\n",
       "    </tr>\n",
       "  </thead>\n",
       "  <tbody>\n",
       "    <tr>\n",
       "      <th>R_2</th>\n",
       "      <td>2.069491</td>\n",
       "      <td>0.474643</td>\n",
       "      <td>-0.321227</td>\n",
       "      <td>0.910526</td>\n",
       "      <td>-1.181246</td>\n",
       "      <td>0.192481</td>\n",
       "    </tr>\n",
       "    <tr>\n",
       "      <th>R_4</th>\n",
       "      <td>0.077481</td>\n",
       "      <td>-1.089736</td>\n",
       "      <td>-1.072905</td>\n",
       "      <td>-0.764840</td>\n",
       "      <td>1.189936</td>\n",
       "      <td>0.266694</td>\n",
       "    </tr>\n",
       "    <tr>\n",
       "      <th>R_6</th>\n",
       "      <td>-0.195087</td>\n",
       "      <td>-1.194457</td>\n",
       "      <td>-2.270838</td>\n",
       "      <td>-0.100887</td>\n",
       "      <td>1.213398</td>\n",
       "      <td>-3.339269</td>\n",
       "    </tr>\n",
       "    <tr>\n",
       "      <th>R_7</th>\n",
       "      <td>0.529832</td>\n",
       "      <td>-1.026545</td>\n",
       "      <td>0.007433</td>\n",
       "      <td>-1.367197</td>\n",
       "      <td>-1.004242</td>\n",
       "      <td>-1.774208</td>\n",
       "    </tr>\n",
       "    <tr>\n",
       "      <th>R_8</th>\n",
       "      <td>-1.094711</td>\n",
       "      <td>-0.101048</td>\n",
       "      <td>0.337866</td>\n",
       "      <td>-1.765317</td>\n",
       "      <td>-0.236856</td>\n",
       "      <td>-0.876982</td>\n",
       "    </tr>\n",
       "    <tr>\n",
       "      <th>R_9</th>\n",
       "      <td>0.755984</td>\n",
       "      <td>0.189763</td>\n",
       "      <td>0.717457</td>\n",
       "      <td>0.781380</td>\n",
       "      <td>-0.566599</td>\n",
       "      <td>-1.407496</td>\n",
       "    </tr>\n",
       "    <tr>\n",
       "      <th>R_10</th>\n",
       "      <td>-0.427899</td>\n",
       "      <td>-0.861722</td>\n",
       "      <td>1.311468</td>\n",
       "      <td>0.234808</td>\n",
       "      <td>-0.470976</td>\n",
       "      <td>1.544654</td>\n",
       "    </tr>\n",
       "    <tr>\n",
       "      <th>R_11</th>\n",
       "      <td>0.935375</td>\n",
       "      <td>0.501264</td>\n",
       "      <td>0.694028</td>\n",
       "      <td>-0.817003</td>\n",
       "      <td>-0.298779</td>\n",
       "      <td>-0.759090</td>\n",
       "    </tr>\n",
       "    <tr>\n",
       "      <th>R_12</th>\n",
       "      <td>0.067525</td>\n",
       "      <td>0.511827</td>\n",
       "      <td>-0.667459</td>\n",
       "      <td>-1.568217</td>\n",
       "      <td>1.091447</td>\n",
       "      <td>-0.388848</td>\n",
       "    </tr>\n",
       "    <tr>\n",
       "      <th>R_13</th>\n",
       "      <td>-1.790720</td>\n",
       "      <td>1.534121</td>\n",
       "      <td>0.306633</td>\n",
       "      <td>0.013719</td>\n",
       "      <td>-0.907319</td>\n",
       "      <td>-0.318479</td>\n",
       "    </tr>\n",
       "  </tbody>\n",
       "</table>\n",
       "</div>"
      ],
      "text/plain": [
       "         VAR_1     VAR_2     VAR_3     VAR_4     VAR_5     VAR_6\n",
       "R_2   2.069491  0.474643 -0.321227  0.910526 -1.181246  0.192481\n",
       "R_4   0.077481 -1.089736 -1.072905 -0.764840  1.189936  0.266694\n",
       "R_6  -0.195087 -1.194457 -2.270838 -0.100887  1.213398 -3.339269\n",
       "R_7   0.529832 -1.026545  0.007433 -1.367197 -1.004242 -1.774208\n",
       "R_8  -1.094711 -0.101048  0.337866 -1.765317 -0.236856 -0.876982\n",
       "R_9   0.755984  0.189763  0.717457  0.781380 -0.566599 -1.407496\n",
       "R_10 -0.427899 -0.861722  1.311468  0.234808 -0.470976  1.544654\n",
       "R_11  0.935375  0.501264  0.694028 -0.817003 -0.298779 -0.759090\n",
       "R_12  0.067525  0.511827 -0.667459 -1.568217  1.091447 -0.388848\n",
       "R_13 -1.790720  1.534121  0.306633  0.013719 -0.907319 -0.318479"
      ]
     },
     "execution_count": 45,
     "metadata": {},
     "output_type": "execute_result"
    }
   ],
   "source": [
    "df.drop(['R_1', 'R_3', 'R_5', 'R_14', 'R_15'])"
   ]
  },
  {
   "cell_type": "markdown",
   "id": "32de176c",
   "metadata": {},
   "source": [
    "---\n"
   ]
  },
  {
   "cell_type": "markdown",
   "id": "be109d8b",
   "metadata": {},
   "source": [
    "# Understanding how Data Frame Are Constructed Internally\n",
    "\n",
    "  - There are several ways to contruct a DataFrame. such as:\n",
    "      - Dictionaries (the most common way)\n",
    "      - NumPy nd-Arrays\n",
    "      - dataclass (It is not discussed here)"
   ]
  },
  {
   "cell_type": "markdown",
   "id": "41ef8f62",
   "metadata": {},
   "source": [
    "## Constructing DataFrames form Dicts"
   ]
  },
  {
   "cell_type": "code",
   "execution_count": 46,
   "id": "dd241925",
   "metadata": {},
   "outputs": [
    {
     "data": {
      "text/plain": [
       "{'Var1': [1, 2, 3, 4, 5],\n",
       " 'Var2': [2, 4, 6, 8, 10],\n",
       " 'Var3': [10, 20, 30, 40, 50]}"
      ]
     },
     "execution_count": 46,
     "metadata": {},
     "output_type": "execute_result"
    }
   ],
   "source": [
    "data = {'Var1': [*range(1, 6)], \n",
    "       'Var2': [*range(2, 11, 2)], \n",
    "       'Var3': [*range(10, 51, 10)]}\n",
    "data"
   ]
  },
  {
   "cell_type": "code",
   "execution_count": 47,
   "id": "8061a30d",
   "metadata": {},
   "outputs": [
    {
     "data": {
      "text/html": [
       "<div>\n",
       "<style scoped>\n",
       "    .dataframe tbody tr th:only-of-type {\n",
       "        vertical-align: middle;\n",
       "    }\n",
       "\n",
       "    .dataframe tbody tr th {\n",
       "        vertical-align: top;\n",
       "    }\n",
       "\n",
       "    .dataframe thead th {\n",
       "        text-align: right;\n",
       "    }\n",
       "</style>\n",
       "<table border=\"1\" class=\"dataframe\">\n",
       "  <thead>\n",
       "    <tr style=\"text-align: right;\">\n",
       "      <th></th>\n",
       "      <th>Var1</th>\n",
       "      <th>Var2</th>\n",
       "      <th>Var3</th>\n",
       "    </tr>\n",
       "  </thead>\n",
       "  <tbody>\n",
       "    <tr>\n",
       "      <th>0</th>\n",
       "      <td>1</td>\n",
       "      <td>2</td>\n",
       "      <td>10</td>\n",
       "    </tr>\n",
       "    <tr>\n",
       "      <th>1</th>\n",
       "      <td>2</td>\n",
       "      <td>4</td>\n",
       "      <td>20</td>\n",
       "    </tr>\n",
       "    <tr>\n",
       "      <th>2</th>\n",
       "      <td>3</td>\n",
       "      <td>6</td>\n",
       "      <td>30</td>\n",
       "    </tr>\n",
       "    <tr>\n",
       "      <th>3</th>\n",
       "      <td>4</td>\n",
       "      <td>8</td>\n",
       "      <td>40</td>\n",
       "    </tr>\n",
       "    <tr>\n",
       "      <th>4</th>\n",
       "      <td>5</td>\n",
       "      <td>10</td>\n",
       "      <td>50</td>\n",
       "    </tr>\n",
       "  </tbody>\n",
       "</table>\n",
       "</div>"
      ],
      "text/plain": [
       "   Var1  Var2  Var3\n",
       "0     1     2    10\n",
       "1     2     4    20\n",
       "2     3     6    30\n",
       "3     4     8    40\n",
       "4     5    10    50"
      ]
     },
     "execution_count": 47,
     "metadata": {},
     "output_type": "execute_result"
    }
   ],
   "source": [
    "dict_df = pd.DataFrame(data)\n",
    "dict_df"
   ]
  },
  {
   "cell_type": "markdown",
   "id": "d427dfe0",
   "metadata": {},
   "source": [
    "#### Example Two: Constructing DataFrames from Dicts"
   ]
  },
  {
   "cell_type": "code",
   "execution_count": 48,
   "id": "770c5761",
   "metadata": {},
   "outputs": [
    {
     "data": {
      "text/html": [
       "<div>\n",
       "<style scoped>\n",
       "    .dataframe tbody tr th:only-of-type {\n",
       "        vertical-align: middle;\n",
       "    }\n",
       "\n",
       "    .dataframe tbody tr th {\n",
       "        vertical-align: top;\n",
       "    }\n",
       "\n",
       "    .dataframe thead th {\n",
       "        text-align: right;\n",
       "    }\n",
       "</style>\n",
       "<table border=\"1\" class=\"dataframe\">\n",
       "  <thead>\n",
       "    <tr style=\"text-align: right;\">\n",
       "      <th></th>\n",
       "      <th>states</th>\n",
       "      <th>year</th>\n",
       "      <th>pop</th>\n",
       "    </tr>\n",
       "  </thead>\n",
       "  <tbody>\n",
       "    <tr>\n",
       "      <th>0</th>\n",
       "      <td>Ohio</td>\n",
       "      <td>2000</td>\n",
       "      <td>1.5</td>\n",
       "    </tr>\n",
       "    <tr>\n",
       "      <th>1</th>\n",
       "      <td>Ohio</td>\n",
       "      <td>2001</td>\n",
       "      <td>1.7</td>\n",
       "    </tr>\n",
       "    <tr>\n",
       "      <th>2</th>\n",
       "      <td>Ohio</td>\n",
       "      <td>2002</td>\n",
       "      <td>3.6</td>\n",
       "    </tr>\n",
       "    <tr>\n",
       "      <th>3</th>\n",
       "      <td>Nevada</td>\n",
       "      <td>2001</td>\n",
       "      <td>2.4</td>\n",
       "    </tr>\n",
       "    <tr>\n",
       "      <th>4</th>\n",
       "      <td>Nevada</td>\n",
       "      <td>2002</td>\n",
       "      <td>2.9</td>\n",
       "    </tr>\n",
       "  </tbody>\n",
       "</table>\n",
       "</div>"
      ],
      "text/plain": [
       "   states  year  pop\n",
       "0    Ohio  2000  1.5\n",
       "1    Ohio  2001  1.7\n",
       "2    Ohio  2002  3.6\n",
       "3  Nevada  2001  2.4\n",
       "4  Nevada  2002  2.9"
      ]
     },
     "execution_count": 48,
     "metadata": {},
     "output_type": "execute_result"
    }
   ],
   "source": [
    "dat = {'states': ['Ohio', 'Ohio', 'Ohio', 'Nevada', 'Nevada'], \n",
    "      'year': [2000, 2001, 2002, 2001, 2002], \n",
    "      'pop': [1.5, 1.7, 3.6, 2.4, 2.9]}\n",
    "df = pd.DataFrame(dat)\n",
    "df"
   ]
  },
  {
   "cell_type": "markdown",
   "id": "3ef4563b",
   "metadata": {},
   "source": [
    "### Rearrange the columns names\n",
    "\n",
    "Passing a list of variable names to __columns__ argument, the columns will appear exactly in order provided.\n",
    "  "
   ]
  },
  {
   "cell_type": "code",
   "execution_count": 49,
   "id": "debb9c67",
   "metadata": {},
   "outputs": [
    {
     "data": {
      "text/html": [
       "<div>\n",
       "<style scoped>\n",
       "    .dataframe tbody tr th:only-of-type {\n",
       "        vertical-align: middle;\n",
       "    }\n",
       "\n",
       "    .dataframe tbody tr th {\n",
       "        vertical-align: top;\n",
       "    }\n",
       "\n",
       "    .dataframe thead th {\n",
       "        text-align: right;\n",
       "    }\n",
       "</style>\n",
       "<table border=\"1\" class=\"dataframe\">\n",
       "  <thead>\n",
       "    <tr style=\"text-align: right;\">\n",
       "      <th></th>\n",
       "      <th>year</th>\n",
       "      <th>states</th>\n",
       "      <th>pop</th>\n",
       "    </tr>\n",
       "  </thead>\n",
       "  <tbody>\n",
       "    <tr>\n",
       "      <th>0</th>\n",
       "      <td>2000</td>\n",
       "      <td>Ohio</td>\n",
       "      <td>1.5</td>\n",
       "    </tr>\n",
       "    <tr>\n",
       "      <th>1</th>\n",
       "      <td>2001</td>\n",
       "      <td>Ohio</td>\n",
       "      <td>1.7</td>\n",
       "    </tr>\n",
       "    <tr>\n",
       "      <th>2</th>\n",
       "      <td>2002</td>\n",
       "      <td>Ohio</td>\n",
       "      <td>3.6</td>\n",
       "    </tr>\n",
       "    <tr>\n",
       "      <th>3</th>\n",
       "      <td>2001</td>\n",
       "      <td>Nevada</td>\n",
       "      <td>2.4</td>\n",
       "    </tr>\n",
       "    <tr>\n",
       "      <th>4</th>\n",
       "      <td>2002</td>\n",
       "      <td>Nevada</td>\n",
       "      <td>2.9</td>\n",
       "    </tr>\n",
       "  </tbody>\n",
       "</table>\n",
       "</div>"
      ],
      "text/plain": [
       "   year  states  pop\n",
       "0  2000    Ohio  1.5\n",
       "1  2001    Ohio  1.7\n",
       "2  2002    Ohio  3.6\n",
       "3  2001  Nevada  2.4\n",
       "4  2002  Nevada  2.9"
      ]
     },
     "execution_count": 49,
     "metadata": {},
     "output_type": "execute_result"
    }
   ],
   "source": [
    "pd.DataFrame(dat, columns = ['year', 'states', 'pop'])"
   ]
  },
  {
   "cell_type": "markdown",
   "id": "f34ac438",
   "metadata": {},
   "source": [
    "#### Adding row label-index\n",
    "\n",
    "Passing a list of string labels to the __index__ argument will label the data frame rows."
   ]
  },
  {
   "cell_type": "code",
   "execution_count": 50,
   "id": "96d752d8",
   "metadata": {},
   "outputs": [
    {
     "data": {
      "text/html": [
       "<div>\n",
       "<style scoped>\n",
       "    .dataframe tbody tr th:only-of-type {\n",
       "        vertical-align: middle;\n",
       "    }\n",
       "\n",
       "    .dataframe tbody tr th {\n",
       "        vertical-align: top;\n",
       "    }\n",
       "\n",
       "    .dataframe thead th {\n",
       "        text-align: right;\n",
       "    }\n",
       "</style>\n",
       "<table border=\"1\" class=\"dataframe\">\n",
       "  <thead>\n",
       "    <tr style=\"text-align: right;\">\n",
       "      <th></th>\n",
       "      <th>year</th>\n",
       "      <th>states</th>\n",
       "      <th>pop</th>\n",
       "    </tr>\n",
       "  </thead>\n",
       "  <tbody>\n",
       "    <tr>\n",
       "      <th>A</th>\n",
       "      <td>2000</td>\n",
       "      <td>Ohio</td>\n",
       "      <td>1.5</td>\n",
       "    </tr>\n",
       "    <tr>\n",
       "      <th>B</th>\n",
       "      <td>2001</td>\n",
       "      <td>Ohio</td>\n",
       "      <td>1.7</td>\n",
       "    </tr>\n",
       "    <tr>\n",
       "      <th>C</th>\n",
       "      <td>2002</td>\n",
       "      <td>Ohio</td>\n",
       "      <td>3.6</td>\n",
       "    </tr>\n",
       "    <tr>\n",
       "      <th>D</th>\n",
       "      <td>2001</td>\n",
       "      <td>Nevada</td>\n",
       "      <td>2.4</td>\n",
       "    </tr>\n",
       "    <tr>\n",
       "      <th>E</th>\n",
       "      <td>2002</td>\n",
       "      <td>Nevada</td>\n",
       "      <td>2.9</td>\n",
       "    </tr>\n",
       "  </tbody>\n",
       "</table>\n",
       "</div>"
      ],
      "text/plain": [
       "   year  states  pop\n",
       "A  2000    Ohio  1.5\n",
       "B  2001    Ohio  1.7\n",
       "C  2002    Ohio  3.6\n",
       "D  2001  Nevada  2.4\n",
       "E  2002  Nevada  2.9"
      ]
     },
     "execution_count": 50,
     "metadata": {},
     "output_type": "execute_result"
    }
   ],
   "source": [
    "pd.DataFrame(dat, columns = ['year', 'states', 'pop'],\n",
    "            index = ['A', 'B', 'C', 'D', 'E'])"
   ]
  },
  {
   "cell_type": "markdown",
   "id": "fb3b85a6",
   "metadata": {},
   "source": [
    "## Constructing DataFrames form Dict of Dicts\n",
    "\n",
    "   - If a dict of dicts is passed to DataFrame, the __outer dict keys__ will be interpreted as __variables__, and the __inner dict kyes__ as the row indices."
   ]
  },
  {
   "cell_type": "code",
   "execution_count": 51,
   "id": "43b8d0b1",
   "metadata": {},
   "outputs": [
    {
     "data": {
      "text/plain": [
       "{'Ahmad': {'Math': 13, 'Stats': 17.5, 'Science': 0},\n",
       " 'Nabil': {'Math': 5.5, 'Computing': 17.75, 'stats': 18.5},\n",
       " 'Islam': {'Math': 7.5, 'Stats': 12.5, 'Algo': 18}}"
      ]
     },
     "execution_count": 51,
     "metadata": {},
     "output_type": "execute_result"
    }
   ],
   "source": [
    "grades = {'Ahmad': {'Math': 13, 'Stats': 17.5, 'Science': 0}, \n",
    "         'Nabil': {'Math': 5.5, 'Computing': 17.75, 'stats': 18.5}, \n",
    "         'Islam': {'Math': 7.5, 'Stats': 12.5, 'Algo': 18}}\n",
    "grades"
   ]
  },
  {
   "cell_type": "code",
   "execution_count": 52,
   "id": "4a478d37",
   "metadata": {},
   "outputs": [
    {
     "data": {
      "text/html": [
       "<div>\n",
       "<style scoped>\n",
       "    .dataframe tbody tr th:only-of-type {\n",
       "        vertical-align: middle;\n",
       "    }\n",
       "\n",
       "    .dataframe tbody tr th {\n",
       "        vertical-align: top;\n",
       "    }\n",
       "\n",
       "    .dataframe thead th {\n",
       "        text-align: right;\n",
       "    }\n",
       "</style>\n",
       "<table border=\"1\" class=\"dataframe\">\n",
       "  <thead>\n",
       "    <tr style=\"text-align: right;\">\n",
       "      <th></th>\n",
       "      <th>Ahmad</th>\n",
       "      <th>Nabil</th>\n",
       "      <th>Islam</th>\n",
       "    </tr>\n",
       "  </thead>\n",
       "  <tbody>\n",
       "    <tr>\n",
       "      <th>Math</th>\n",
       "      <td>13.0</td>\n",
       "      <td>5.50</td>\n",
       "      <td>7.5</td>\n",
       "    </tr>\n",
       "    <tr>\n",
       "      <th>Stats</th>\n",
       "      <td>17.5</td>\n",
       "      <td>NaN</td>\n",
       "      <td>12.5</td>\n",
       "    </tr>\n",
       "    <tr>\n",
       "      <th>Science</th>\n",
       "      <td>0.0</td>\n",
       "      <td>NaN</td>\n",
       "      <td>NaN</td>\n",
       "    </tr>\n",
       "    <tr>\n",
       "      <th>Computing</th>\n",
       "      <td>NaN</td>\n",
       "      <td>17.75</td>\n",
       "      <td>NaN</td>\n",
       "    </tr>\n",
       "    <tr>\n",
       "      <th>stats</th>\n",
       "      <td>NaN</td>\n",
       "      <td>18.50</td>\n",
       "      <td>NaN</td>\n",
       "    </tr>\n",
       "    <tr>\n",
       "      <th>Algo</th>\n",
       "      <td>NaN</td>\n",
       "      <td>NaN</td>\n",
       "      <td>18.0</td>\n",
       "    </tr>\n",
       "  </tbody>\n",
       "</table>\n",
       "</div>"
      ],
      "text/plain": [
       "           Ahmad  Nabil  Islam\n",
       "Math        13.0   5.50    7.5\n",
       "Stats       17.5    NaN   12.5\n",
       "Science      0.0    NaN    NaN\n",
       "Computing    NaN  17.75    NaN\n",
       "stats        NaN  18.50    NaN\n",
       "Algo         NaN    NaN   18.0"
      ]
     },
     "execution_count": 52,
     "metadata": {},
     "output_type": "execute_result"
    }
   ],
   "source": [
    "df_grades = pd.DataFrame(grades)\n",
    "df_grades"
   ]
  },
  {
   "cell_type": "markdown",
   "id": "2c9423a3",
   "metadata": {},
   "source": [
    "> We see where there is no value, an __NaN__ appears in the DataFrame. "
   ]
  },
  {
   "cell_type": "markdown",
   "id": "003c2fc5",
   "metadata": {},
   "source": [
    "### Tranposing the DataFrame.\n",
    "\n",
    "  - We can always shift the rows to columns and the columns to rows by using __.T__  DataFrame **ATTribute**."
   ]
  },
  {
   "cell_type": "code",
   "execution_count": 53,
   "id": "6177a89b",
   "metadata": {},
   "outputs": [
    {
     "data": {
      "text/html": [
       "<div>\n",
       "<style scoped>\n",
       "    .dataframe tbody tr th:only-of-type {\n",
       "        vertical-align: middle;\n",
       "    }\n",
       "\n",
       "    .dataframe tbody tr th {\n",
       "        vertical-align: top;\n",
       "    }\n",
       "\n",
       "    .dataframe thead th {\n",
       "        text-align: right;\n",
       "    }\n",
       "</style>\n",
       "<table border=\"1\" class=\"dataframe\">\n",
       "  <thead>\n",
       "    <tr style=\"text-align: right;\">\n",
       "      <th></th>\n",
       "      <th>Math</th>\n",
       "      <th>Stats</th>\n",
       "      <th>Science</th>\n",
       "      <th>Computing</th>\n",
       "      <th>stats</th>\n",
       "      <th>Algo</th>\n",
       "    </tr>\n",
       "  </thead>\n",
       "  <tbody>\n",
       "    <tr>\n",
       "      <th>Ahmad</th>\n",
       "      <td>13.0</td>\n",
       "      <td>17.5</td>\n",
       "      <td>0.0</td>\n",
       "      <td>NaN</td>\n",
       "      <td>NaN</td>\n",
       "      <td>NaN</td>\n",
       "    </tr>\n",
       "    <tr>\n",
       "      <th>Nabil</th>\n",
       "      <td>5.5</td>\n",
       "      <td>NaN</td>\n",
       "      <td>NaN</td>\n",
       "      <td>17.75</td>\n",
       "      <td>18.5</td>\n",
       "      <td>NaN</td>\n",
       "    </tr>\n",
       "    <tr>\n",
       "      <th>Islam</th>\n",
       "      <td>7.5</td>\n",
       "      <td>12.5</td>\n",
       "      <td>NaN</td>\n",
       "      <td>NaN</td>\n",
       "      <td>NaN</td>\n",
       "      <td>18.0</td>\n",
       "    </tr>\n",
       "  </tbody>\n",
       "</table>\n",
       "</div>"
      ],
      "text/plain": [
       "       Math  Stats  Science  Computing  stats  Algo\n",
       "Ahmad  13.0   17.5      0.0        NaN    NaN   NaN\n",
       "Nabil   5.5    NaN      NaN      17.75   18.5   NaN\n",
       "Islam   7.5   12.5      NaN        NaN    NaN  18.0"
      ]
     },
     "execution_count": 53,
     "metadata": {},
     "output_type": "execute_result"
    }
   ],
   "source": [
    "df_grades.T"
   ]
  },
  {
   "cell_type": "markdown",
   "id": "e02019e9",
   "metadata": {},
   "source": [
    "#### Index name, Columns names\n",
    "\n",
    "  - Data about data is of much help for us to understand the data. Thus, we can provide a name for the index and for columns."
   ]
  },
  {
   "cell_type": "markdown",
   "id": "397aac5d",
   "metadata": {},
   "source": [
    "### Getting the index"
   ]
  },
  {
   "cell_type": "code",
   "execution_count": 54,
   "id": "df68f2b9",
   "metadata": {},
   "outputs": [
    {
     "data": {
      "text/plain": [
       "Index(['Math', 'Stats', 'Science', 'Computing', 'stats', 'Algo'], dtype='object')"
      ]
     },
     "execution_count": 54,
     "metadata": {},
     "output_type": "execute_result"
    }
   ],
   "source": [
    "df_grades.index"
   ]
  },
  {
   "cell_type": "markdown",
   "id": "5280a159",
   "metadata": {},
   "source": [
    "### Getting the index name"
   ]
  },
  {
   "cell_type": "code",
   "execution_count": 55,
   "id": "a561ac8a",
   "metadata": {},
   "outputs": [],
   "source": [
    "df_grades.index.name"
   ]
  },
  {
   "cell_type": "markdown",
   "id": "cf2893f5",
   "metadata": {},
   "source": [
    "### Setting a name to the index"
   ]
  },
  {
   "cell_type": "code",
   "execution_count": 56,
   "id": "ccfc1973",
   "metadata": {},
   "outputs": [],
   "source": [
    "df_grades.index.name = 'Subjects'"
   ]
  },
  {
   "cell_type": "markdown",
   "id": "f86b5f5e",
   "metadata": {},
   "source": [
    "### Check the index name"
   ]
  },
  {
   "cell_type": "code",
   "execution_count": 57,
   "id": "06f21c77",
   "metadata": {},
   "outputs": [
    {
     "data": {
      "text/plain": [
       "'Subjects'"
      ]
     },
     "execution_count": 57,
     "metadata": {},
     "output_type": "execute_result"
    }
   ],
   "source": [
    "df_grades.index.name"
   ]
  },
  {
   "cell_type": "markdown",
   "id": "2991df63",
   "metadata": {},
   "source": [
    "### Getting the column names"
   ]
  },
  {
   "cell_type": "code",
   "execution_count": 58,
   "id": "1ffd2e3c",
   "metadata": {},
   "outputs": [
    {
     "data": {
      "text/plain": [
       "Index(['Ahmad', 'Nabil', 'Islam'], dtype='object')"
      ]
     },
     "execution_count": 58,
     "metadata": {},
     "output_type": "execute_result"
    }
   ],
   "source": [
    "df_grades.columns"
   ]
  },
  {
   "cell_type": "markdown",
   "id": "9c47372e",
   "metadata": {},
   "source": [
    "### Setting a name attribute to columns "
   ]
  },
  {
   "cell_type": "code",
   "execution_count": 59,
   "id": "711f7c09",
   "metadata": {},
   "outputs": [],
   "source": [
    "df_grades.columns.name = 'Students'"
   ]
  },
  {
   "cell_type": "code",
   "execution_count": 60,
   "id": "b08d3f9d",
   "metadata": {},
   "outputs": [
    {
     "data": {
      "text/plain": [
       "'Students'"
      ]
     },
     "execution_count": 60,
     "metadata": {},
     "output_type": "execute_result"
    }
   ],
   "source": [
    "df_grades.columns.name"
   ]
  },
  {
   "cell_type": "code",
   "execution_count": 61,
   "id": "22aff15f",
   "metadata": {},
   "outputs": [
    {
     "data": {
      "text/html": [
       "<div>\n",
       "<style scoped>\n",
       "    .dataframe tbody tr th:only-of-type {\n",
       "        vertical-align: middle;\n",
       "    }\n",
       "\n",
       "    .dataframe tbody tr th {\n",
       "        vertical-align: top;\n",
       "    }\n",
       "\n",
       "    .dataframe thead th {\n",
       "        text-align: right;\n",
       "    }\n",
       "</style>\n",
       "<table border=\"1\" class=\"dataframe\">\n",
       "  <thead>\n",
       "    <tr style=\"text-align: right;\">\n",
       "      <th>Students</th>\n",
       "      <th>Ahmad</th>\n",
       "      <th>Nabil</th>\n",
       "      <th>Islam</th>\n",
       "    </tr>\n",
       "    <tr>\n",
       "      <th>Subjects</th>\n",
       "      <th></th>\n",
       "      <th></th>\n",
       "      <th></th>\n",
       "    </tr>\n",
       "  </thead>\n",
       "  <tbody>\n",
       "    <tr>\n",
       "      <th>Math</th>\n",
       "      <td>13.0</td>\n",
       "      <td>5.50</td>\n",
       "      <td>7.5</td>\n",
       "    </tr>\n",
       "    <tr>\n",
       "      <th>Stats</th>\n",
       "      <td>17.5</td>\n",
       "      <td>NaN</td>\n",
       "      <td>12.5</td>\n",
       "    </tr>\n",
       "    <tr>\n",
       "      <th>Science</th>\n",
       "      <td>0.0</td>\n",
       "      <td>NaN</td>\n",
       "      <td>NaN</td>\n",
       "    </tr>\n",
       "    <tr>\n",
       "      <th>Computing</th>\n",
       "      <td>NaN</td>\n",
       "      <td>17.75</td>\n",
       "      <td>NaN</td>\n",
       "    </tr>\n",
       "    <tr>\n",
       "      <th>stats</th>\n",
       "      <td>NaN</td>\n",
       "      <td>18.50</td>\n",
       "      <td>NaN</td>\n",
       "    </tr>\n",
       "    <tr>\n",
       "      <th>Algo</th>\n",
       "      <td>NaN</td>\n",
       "      <td>NaN</td>\n",
       "      <td>18.0</td>\n",
       "    </tr>\n",
       "  </tbody>\n",
       "</table>\n",
       "</div>"
      ],
      "text/plain": [
       "Students   Ahmad  Nabil  Islam\n",
       "Subjects                      \n",
       "Math        13.0   5.50    7.5\n",
       "Stats       17.5    NaN   12.5\n",
       "Science      0.0    NaN    NaN\n",
       "Computing    NaN  17.75    NaN\n",
       "stats        NaN  18.50    NaN\n",
       "Algo         NaN    NaN   18.0"
      ]
     },
     "execution_count": 61,
     "metadata": {},
     "output_type": "execute_result"
    }
   ],
   "source": [
    "df_grades"
   ]
  },
  {
   "cell_type": "markdown",
   "id": "4a34bb15",
   "metadata": {},
   "source": [
    "## Constructing DataFrames form 2D-arrays\n",
    "\n"
   ]
  },
  {
   "cell_type": "code",
   "execution_count": 62,
   "id": "b4dc2b28",
   "metadata": {},
   "outputs": [
    {
     "data": {
      "text/plain": [
       "array([[ 0,  5],\n",
       "       [ 1, 10],\n",
       "       [ 2, 15],\n",
       "       [ 3, 20],\n",
       "       [ 4, 25]])"
      ]
     },
     "execution_count": 62,
     "metadata": {},
     "output_type": "execute_result"
    }
   ],
   "source": [
    "d = np.array([np.arange(5).T, np.arange(5, 26, 5)]).T\n",
    "d"
   ]
  },
  {
   "cell_type": "code",
   "execution_count": 63,
   "id": "3552c57c",
   "metadata": {},
   "outputs": [
    {
     "data": {
      "text/html": [
       "<div>\n",
       "<style scoped>\n",
       "    .dataframe tbody tr th:only-of-type {\n",
       "        vertical-align: middle;\n",
       "    }\n",
       "\n",
       "    .dataframe tbody tr th {\n",
       "        vertical-align: top;\n",
       "    }\n",
       "\n",
       "    .dataframe thead th {\n",
       "        text-align: right;\n",
       "    }\n",
       "</style>\n",
       "<table border=\"1\" class=\"dataframe\">\n",
       "  <thead>\n",
       "    <tr style=\"text-align: right;\">\n",
       "      <th></th>\n",
       "      <th>First</th>\n",
       "      <th>Second</th>\n",
       "    </tr>\n",
       "  </thead>\n",
       "  <tbody>\n",
       "    <tr>\n",
       "      <th>1</th>\n",
       "      <td>0</td>\n",
       "      <td>5</td>\n",
       "    </tr>\n",
       "    <tr>\n",
       "      <th>2</th>\n",
       "      <td>1</td>\n",
       "      <td>10</td>\n",
       "    </tr>\n",
       "    <tr>\n",
       "      <th>3</th>\n",
       "      <td>2</td>\n",
       "      <td>15</td>\n",
       "    </tr>\n",
       "    <tr>\n",
       "      <th>4</th>\n",
       "      <td>3</td>\n",
       "      <td>20</td>\n",
       "    </tr>\n",
       "    <tr>\n",
       "      <th>5</th>\n",
       "      <td>4</td>\n",
       "      <td>25</td>\n",
       "    </tr>\n",
       "  </tbody>\n",
       "</table>\n",
       "</div>"
      ],
      "text/plain": [
       "   First  Second\n",
       "1      0       5\n",
       "2      1      10\n",
       "3      2      15\n",
       "4      3      20\n",
       "5      4      25"
      ]
     },
     "execution_count": 63,
     "metadata": {},
     "output_type": "execute_result"
    }
   ],
   "source": [
    "pd.DataFrame(d, index = [*range(1, 6)],  columns = ['First', 'Second'])"
   ]
  },
  {
   "cell_type": "markdown",
   "id": "834e50f7",
   "metadata": {},
   "source": [
    "#### Note: \n",
    "\n",
    "  - There are other possibile data inputs to construct DataFrames from. consult the online documentation or a speciliazed book. \n",
    "  \n",
    "[__Python for data analysis__](https://www.oreilly.com/library/view/python-for-data/9781491957653/) by Wesly Mckinney is a good book in this matter. "
   ]
  }
 ],
 "metadata": {
  "kernelspec": {
   "display_name": "Python 3",
   "language": "python",
   "name": "python3"
  },
  "language_info": {
   "codemirror_mode": {
    "name": "ipython",
    "version": 3
   },
   "file_extension": ".py",
   "mimetype": "text/x-python",
   "name": "python",
   "nbconvert_exporter": "python",
   "pygments_lexer": "ipython3",
   "version": "3.8.2"
  }
 },
 "nbformat": 4,
 "nbformat_minor": 5
}
