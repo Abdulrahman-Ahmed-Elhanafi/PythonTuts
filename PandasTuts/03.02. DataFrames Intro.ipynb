{
 "cells": [
  {
   "cell_type": "markdown",
   "id": "77033934",
   "metadata": {},
   "source": [
    "# Data Frame Introduction"
   ]
  },
  {
   "cell_type": "markdown",
   "id": "dcfb0155",
   "metadata": {},
   "source": [
    "- **DataFrame** is a 2-dimensional labeled data structure (labelled rows, and labelled columns (variable names)).\n",
    "\n",
    "\n",
    "- Each column can be of a**different type (numeric, string, boolean, ...)**. \n",
    "\n",
    "\n",
    "- A DataFrame represents a tabular, spreadsheet-like structure containing an ordered collection of columns. \n",
    "\n",
    "\n",
    "- You can think of it like an excel **spreadsheet** or **SQL table**, or a **dict of Series objects**.\n",
    "\n",
    "\n",
    "- It is like __data.frame__ R language object.\n",
    "\n",
    "- It is generally the most commonly used pandas object"
   ]
  },
  {
   "cell_type": "markdown",
   "id": "89c7a016",
   "metadata": {},
   "source": [
    "### Setting up the workspace"
   ]
  },
  {
   "cell_type": "code",
   "execution_count": null,
   "id": "65c97775",
   "metadata": {},
   "outputs": [],
   "source": [
    "import pandas as pd\n",
    "import numpy as np\n",
    "from random import sample, choices, seed\n",
    "from numpy.random import randn"
   ]
  },
  {
   "cell_type": "markdown",
   "id": "2b08c0c3",
   "metadata": {},
   "source": [
    "#### DataFrame Exmple"
   ]
  },
  {
   "cell_type": "code",
   "execution_count": null,
   "id": "2249d10b",
   "metadata": {},
   "outputs": [],
   "source": [
    "# Creating index values\n",
    "ind = [\"R\" + \"_\" + str(num) for num in range(1, 16)]\n",
    "\n",
    "# Creating column names (Variables)\n",
    "cols = [\"VAR\" + \"_\" + str(num) for num in range(1, 7)]\n",
    "\n",
    "# Generating Random Data\n",
    "my_data = randn(90).reshape(15, 6)"
   ]
  },
  {
   "cell_type": "code",
   "execution_count": null,
   "id": "a813a728",
   "metadata": {},
   "outputs": [],
   "source": [
    "df = pd.DataFrame(data = my_data, index = ind, columns= cols)\n",
    "df.head()"
   ]
  },
  {
   "cell_type": "markdown",
   "id": "744b4a15",
   "metadata": {},
   "source": [
    "---\n",
    "# Selection (Slicing), Creation and Deletion\n",
    "\n",
    "   - Selecting, Creating and Deleting (dropping) is common task when dealing with data. Each process will be discussed seperately in this tutorial.\n",
    "   "
   ]
  },
  {
   "cell_type": "markdown",
   "id": "bdeaa958",
   "metadata": {},
   "source": [
    "## Selection (Slicing)\n",
    "\n",
    "### Variable Selection\n",
    "\n",
    "- **String (label) indexing**: Passing the variable name to the data frame object to retrieve a specific variable. The syntax is shown here.\n",
    "\n",
    "```python\n",
    "        DataFrame['column-name']\n",
    "  ```\n",
    "  \n",
    "#### Note: \n",
    "\n",
    "- When selecting one variable, the data frame becomes a **series**. This means that a data frame is a set of series objects."
   ]
  },
  {
   "cell_type": "code",
   "execution_count": null,
   "id": "d45034e4",
   "metadata": {},
   "outputs": [],
   "source": [
    "# Select The First variable\n",
    "var_1 = df['VAR_1']\n",
    "var_1"
   ]
  },
  {
   "cell_type": "code",
   "execution_count": null,
   "id": "5cfe3899",
   "metadata": {},
   "outputs": [],
   "source": [
    "# Examine the type \n",
    "type(var_1)"
   ]
  },
  {
   "cell_type": "markdown",
   "id": "a88da97f",
   "metadata": {},
   "source": [
    "  indeed, __var_1__ is a pandas series object"
   ]
  },
  {
   "cell_type": "markdown",
   "id": "df0bf60d",
   "metadata": {},
   "source": [
    "### Remark: \n",
    "\n",
    "  - As mentioned in the definition, a data frame is just a set of series combined togther, (At least two series)\n",
    "  \n",
    "  \n",
    "  - If we have two series, we can construct a data frame. \n",
    "  \n",
    "  \n",
    "  - We do that in the next example"
   ]
  },
  {
   "cell_type": "code",
   "execution_count": null,
   "id": "ae51ccd2",
   "metadata": {},
   "outputs": [],
   "source": [
    "var_2 = df['VAR_2']"
   ]
  },
  {
   "cell_type": "markdown",
   "id": "3ab085a1",
   "metadata": {},
   "source": [
    "> We extracted two series, now we join them together to form a new data frame by providing a dict of series."
   ]
  },
  {
   "cell_type": "code",
   "execution_count": null,
   "id": "a448ba7c",
   "metadata": {},
   "outputs": [],
   "source": [
    "df2 = pd.DataFrame(data = {'VAR_1': var_1, 'VAR_2':var_2})"
   ]
  },
  {
   "cell_type": "code",
   "execution_count": null,
   "id": "06fec571",
   "metadata": {},
   "outputs": [],
   "source": [
    "df2.head()"
   ]
  },
  {
   "cell_type": "code",
   "execution_count": null,
   "id": "db2121f5",
   "metadata": {},
   "outputs": [],
   "source": [
    "# Check the type of df2\n",
    "type(df2)"
   ]
  },
  {
   "cell_type": "markdown",
   "id": "b20cc05e",
   "metadata": {},
   "source": [
    "### Accessing more than one variable\n",
    "\n",
    "  - If we want to select two or more variables from a data frame, we use a double square brackets. [[]]\n",
    "  \n",
    "```python\n",
    "\n",
    "   df[['var1', 'var2', ...]]\n",
    "```"
   ]
  },
  {
   "cell_type": "code",
   "execution_count": null,
   "id": "e1eb7b17",
   "metadata": {},
   "outputs": [],
   "source": [
    "df[['VAR_1', 'VAR_3']].head() "
   ]
  },
  {
   "cell_type": "markdown",
   "id": "23dfc44c",
   "metadata": {},
   "source": [
    "I am chaining the __head()__ method to print only the first few observations"
   ]
  },
  {
   "cell_type": "markdown",
   "id": "9a1e70f5",
   "metadata": {},
   "source": [
    "### Accessing the DataFrame Variable Using the Dot Operator\n",
    "\n",
    "   - With a dataframe, we can access a variable using the __dot operator__, just like accessing  a method. \n",
    "   \n",
    "   \n",
    "   - This might be confusing at the first time, and some python programmers do not recommend using it. However, it is worth mentioning though, and we should know it."
   ]
  },
  {
   "cell_type": "code",
   "execution_count": null,
   "id": "4db6478a",
   "metadata": {},
   "outputs": [],
   "source": [
    "df.VAR_1.head()"
   ]
  },
  {
   "cell_type": "markdown",
   "id": "21f78cdb",
   "metadata": {},
   "source": [
    "### Rows Selection\n",
    "\n",
    "\n",
    "  -**Row Selection (slicing)** in pandas data frame can be done using two methods\n",
    "  \n",
    "#### 1. String or label-index:\n",
    "\n",
    "  - **The _loc_ method**: a **label-index or (a string index)** is passed to the __loc method__ in order to select a row.  Here is the syntax\n",
    "  \n",
    "```python\n",
    "  df.loc['string-index']\n",
    "```"
   ]
  },
  {
   "cell_type": "markdown",
   "id": "4c070edd",
   "metadata": {},
   "source": [
    "#### Selecting first row labelled as 'R_1'"
   ]
  },
  {
   "cell_type": "code",
   "execution_count": null,
   "id": "74266c69",
   "metadata": {},
   "outputs": [],
   "source": [
    "first_row = df.loc['R_1']\n",
    "first_row"
   ]
  },
  {
   "cell_type": "markdown",
   "id": "6aed04b3",
   "metadata": {},
   "source": [
    "##### Examine the type"
   ]
  },
  {
   "cell_type": "code",
   "execution_count": null,
   "id": "eae6c8c3",
   "metadata": {},
   "outputs": [],
   "source": [
    "type(first_row)"
   ]
  },
  {
   "cell_type": "markdown",
   "id": "49531abc",
   "metadata": {},
   "source": [
    "### Note:\n",
    "\n",
    "   - Selecting one row is also a pandas series object. Thus, slicing one element __horizontally or vertically__ results in a __series object__."
   ]
  },
  {
   "cell_type": "code",
   "execution_count": null,
   "id": "b935f729",
   "metadata": {},
   "outputs": [],
   "source": [
    "# Select another row\n",
    "df['R_6']  "
   ]
  },
  {
   "cell_type": "markdown",
   "id": "1008329b",
   "metadata": {},
   "source": [
    "#### 2. Integer-index Selection\n",
    "\n",
    " - **The _iloc method_**: This is the second way for slicing a data frame, by passing the **integer-index (position)** to the **iloc method**. Here is the syntax.\n",
    " \n",
    "```python\n",
    "df.iloc[int-index]\n",
    "```"
   ]
  },
  {
   "cell_type": "markdown",
   "id": "804e6e1e",
   "metadata": {},
   "source": [
    "##### Selecting the first row (position is zero)"
   ]
  },
  {
   "cell_type": "code",
   "execution_count": null,
   "id": "1cfc70a8",
   "metadata": {},
   "outputs": [],
   "source": [
    "df.iloc[0]"
   ]
  },
  {
   "cell_type": "code",
   "execution_count": null,
   "id": "6e212aaa",
   "metadata": {},
   "outputs": [],
   "source": [
    "# Select another row\n",
    "df[5]"
   ]
  },
  {
   "cell_type": "markdown",
   "id": "ec2a85e8",
   "metadata": {},
   "source": [
    "### Multiple Row Selection\n",
    "\n",
    "  - Selecting more than one row (case, observation) is done using double square bracket [[...]] and pass that to either __loc method__ if label-index, or __iloc method__ if integer-index. \n",
    "  \n",
    "  \n",
    "  - In other words, **pass a list to either method**\n",
    "  \n",
    "```python\n",
    "1. loc method\n",
    "     df.loc[['Row1', 'Row2', '...']]\n",
    "    \n",
    "2. iloc method\n",
    "\n",
    "    df.iloc[[1, 2, 4, ...]]\n",
    "```"
   ]
  },
  {
   "cell_type": "markdown",
   "id": "22730184",
   "metadata": {},
   "source": [
    "#### Select the first and the third Row"
   ]
  },
  {
   "cell_type": "code",
   "execution_count": null,
   "id": "0adfc6f3",
   "metadata": {},
   "outputs": [],
   "source": [
    "df.loc[['R_1', 'R_3']].head(3)"
   ]
  },
  {
   "cell_type": "markdown",
   "id": "ec1ceeda",
   "metadata": {},
   "source": [
    "> We can have the same result using iloc as follows"
   ]
  },
  {
   "cell_type": "code",
   "execution_count": null,
   "id": "6212764b",
   "metadata": {},
   "outputs": [],
   "source": [
    "df.iloc[[0, 2]].head(3)"
   ]
  },
  {
   "cell_type": "markdown",
   "id": "1c0c28ff",
   "metadata": {},
   "source": [
    "> **Pandas Slicing is AWESOME isn't it!** 👊👊👊\n",
    "---"
   ]
  },
  {
   "cell_type": "markdown",
   "id": "7332b2c3",
   "metadata": {},
   "source": [
    "### Row-Column Selection (Extremely Importand Section)\n",
    "\n",
    "- After learning how to slice columns and rows, combining between them will result in __row-column selection__. Here is the syntax:\n",
    "\n",
    "```python\n",
    "\n",
    "1. One Value \n",
    "\n",
    "  df.loc['R_1', 'VAR_1'] or df.iloc[0, 0]\n",
    "    \n",
    "2. One row-multiple columns: we pass tow lists seperated by a comma.\n",
    "\n",
    "   df.loc['R_1', ['VAR_1', 'VAR_3', ...]] \n",
    "    \n",
    "3. Multiple rows- One column:\n",
    "    \n",
    "    df.loc[['R_1', 'R_3', ...], 'VAR_1'] \n",
    "    \n",
    "4. Multiple rows - Multiple Columns: \n",
    "    \n",
    "    df.loc[['R_1', 'R_3', ...], ['VAR_1', 'VAR_3', ...]]\n",
    "```"
   ]
  },
  {
   "cell_type": "markdown",
   "id": "d850fadb",
   "metadata": {},
   "source": [
    "> ##### 1. One-Value"
   ]
  },
  {
   "cell_type": "code",
   "execution_count": null,
   "id": "8f4ae5a5",
   "metadata": {},
   "outputs": [],
   "source": [
    "df.loc['R_1', 'VAR_1'] "
   ]
  },
  {
   "cell_type": "code",
   "execution_count": null,
   "id": "3f9d96be",
   "metadata": {},
   "outputs": [],
   "source": [
    "# Or\n",
    "df.iloc[0, 0]"
   ]
  },
  {
   "cell_type": "markdown",
   "id": "881adbda",
   "metadata": {},
   "source": [
    "> ##### 2. One row-Multiple columns"
   ]
  },
  {
   "cell_type": "code",
   "execution_count": null,
   "id": "9d38ece9",
   "metadata": {},
   "outputs": [],
   "source": [
    "df.loc['R_1', ['VAR_1', 'VAR_3', 'VAR_6']] "
   ]
  },
  {
   "cell_type": "markdown",
   "id": "0a280b24",
   "metadata": {},
   "source": [
    "> ##### 3. Multiple rows- One column"
   ]
  },
  {
   "cell_type": "code",
   "execution_count": null,
   "id": "876a7d34",
   "metadata": {},
   "outputs": [],
   "source": [
    "df.loc[['R_1', 'R_3', 'R_5'], 'VAR_1'] "
   ]
  },
  {
   "cell_type": "markdown",
   "id": "4fd4d459",
   "metadata": {},
   "source": [
    "> ##### 4. Multiple rows- Multiple columns"
   ]
  },
  {
   "cell_type": "code",
   "execution_count": null,
   "id": "6754e9c2",
   "metadata": {},
   "outputs": [],
   "source": [
    "df.loc[['R_1', 'R_3'], ['VAR_1', 'VAR_3']]"
   ]
  },
  {
   "cell_type": "code",
   "execution_count": null,
   "id": "b467de0c",
   "metadata": {},
   "outputs": [],
   "source": [
    "df.loc[['R_1', 'R_3', 'R_5'], ['VAR_1', 'VAR_3', 'VAR_6']]"
   ]
  },
  {
   "cell_type": "markdown",
   "id": "0a40e6fb",
   "metadata": {},
   "source": [
    "---\n",
    "## Creation\n",
    "\n",
    "### Adding New Variables \n",
    "\n",
    "   - Creating a new variable is straightforward. We just have to pass the new vriable name as if it already exists, then give it new values. The syntax is as follows:\n",
    "   \n",
    "```python\n",
    "df['new_var'] = new_values\n",
    "```"
   ]
  },
  {
   "cell_type": "code",
   "execution_count": null,
   "id": "282d1b11",
   "metadata": {},
   "outputs": [],
   "source": [
    "df['NEW_VAR'] = df['VAR_1'] + df['VAR_2']\n",
    "df.head()"
   ]
  },
  {
   "cell_type": "markdown",
   "id": "75cdf16c",
   "metadata": {},
   "source": [
    "### Adding Empty Variable\n",
    "\n",
    "   - If we pass a column that isn't contained in data, a series on __NaN__ will show up. \n"
   ]
  },
  {
   "cell_type": "code",
   "execution_count": null,
   "id": "24b04355",
   "metadata": {},
   "outputs": [],
   "source": [
    "df2 = pd.DataFrame(data = df,  index = ind,\n",
    "        columns = ['VAR_1', 'VAR_2', 'VAR_3', 'VAR_4', 'VAR_5', 'VAR_6', 'EmptyVar'])\n",
    "df2.head()"
   ]
  },
  {
   "cell_type": "markdown",
   "id": "80d699b1",
   "metadata": {},
   "source": [
    "### Assigning values to Variables\n",
    "\n",
    "   - Assigning new values to a variable is done just like a dictionary. We pass a value or list of values to the specified column. "
   ]
  },
  {
   "cell_type": "code",
   "execution_count": null,
   "id": "d123e8e1",
   "metadata": {},
   "outputs": [],
   "source": [
    "df2['EmptyVar'] = 19.8\n",
    "df2.head()"
   ]
  },
  {
   "cell_type": "markdown",
   "id": "3c713a54",
   "metadata": {},
   "source": [
    "> The same value appears on all rows.\n",
    "\n",
    "#### We Change values as well by indexing a specified column"
   ]
  },
  {
   "cell_type": "code",
   "execution_count": null,
   "id": "1305c57f",
   "metadata": {},
   "outputs": [],
   "source": [
    "df2.loc['R_1':'R_5',['EmptyVar']] = 23.2\n",
    "df2.head(7)"
   ]
  },
  {
   "cell_type": "markdown",
   "id": "8db86afa",
   "metadata": {},
   "source": [
    "You may notice that I am using ':' between rows, this is because the index labels are in sequence. \n",
    "\n",
    "- We can even do that with variables if they are in sequence. Nice and short!!!.\n",
    "---"
   ]
  },
  {
   "cell_type": "code",
   "execution_count": null,
   "id": "b81c2c62",
   "metadata": {},
   "outputs": [],
   "source": [
    "df2.loc['R_1':'R_5', 'VAR_1':'VAR_4'].head() "
   ]
  },
  {
   "cell_type": "markdown",
   "id": "9230c8fb",
   "metadata": {},
   "source": [
    "---\n",
    "## Dropping\n",
    "\n",
    "###  Dropping Variables\n",
    "\n",
    "  - Dropping a variable can be done using the pandas data frame __drop method__.\n",
    "  \n",
    "  \n",
    "  - **Drop method refers to the index not columns (the axis argument is set to zero by default (axis =0))**\n",
    "  \n",
    "  \n",
    "  - **Dropping variables** is achieved by __setting the axis=1__ \n",
    "  \n",
    "  \n",
    "  - Pandas handles dropping variables carefully:\n",
    "  \n",
    "     - it protects us from deleting variable accidently (losing data is expensive). \n",
    "     \n",
    "     - Therefore, there is and an argument called __inplace__, this to confirm whether we want to delete the variable permanently.\n",
    "  \n",
    "          - Setting __inplace = False__ (which is the default) will not delete the variable from the original data (it makes a copy of the data). \n",
    "     \n",
    "          - Setting __inplace = True__ will delete (drop) the variable permanently.  "
   ]
  },
  {
   "cell_type": "markdown",
   "id": "46ca1073",
   "metadata": {},
   "source": [
    "> #### Example: Dropping variables with inplace = True"
   ]
  },
  {
   "cell_type": "code",
   "execution_count": null,
   "id": "42a700b6",
   "metadata": {},
   "outputs": [],
   "source": [
    "# Set axis = 1\n",
    "# df.drop('NEW_VAR', axis = 1, inplace = False)\n",
    "df.drop('NEW_VAR', axis = 1, inplace = False).head()"
   ]
  },
  {
   "cell_type": "markdown",
   "id": "cff8e9df",
   "metadata": {},
   "source": [
    "> Check the original data frame"
   ]
  },
  {
   "cell_type": "code",
   "execution_count": null,
   "id": "d7e52bf3",
   "metadata": {},
   "outputs": [],
   "source": [
    "df.head()"
   ]
  },
  {
   "cell_type": "markdown",
   "id": "25871c40",
   "metadata": {},
   "source": [
    " - Indeed, the variable is still there. And, if we want to delete the variabel permanently, we should set inplace to True."
   ]
  },
  {
   "cell_type": "code",
   "execution_count": null,
   "id": "a4383f7a",
   "metadata": {},
   "outputs": [],
   "source": [
    "df.drop('NEW_VAR', axis = 1, inplace = True)"
   ]
  },
  {
   "cell_type": "code",
   "execution_count": null,
   "id": "8aa62a26",
   "metadata": {},
   "outputs": [],
   "source": [
    "df.head()"
   ]
  },
  {
   "cell_type": "markdown",
   "id": "5e1c60eb",
   "metadata": {},
   "source": [
    "> The variable permanently removed"
   ]
  },
  {
   "cell_type": "markdown",
   "id": "de3f7292",
   "metadata": {},
   "source": [
    "### Dropping Multiple Variables\n",
    "\n",
    "  - This is done by providing a list of variable to drop method \n",
    "  \n",
    "```python\n",
    "\n",
    "  df.drop[['V_1', 'V_2', ...]]\n",
    "```\n"
   ]
  },
  {
   "cell_type": "code",
   "execution_count": null,
   "id": "71610597",
   "metadata": {},
   "outputs": [],
   "source": [
    "df.drop(['VAR_1', 'VAR_3', 'VAR_6'], axis = 1).head(3)"
   ]
  },
  {
   "cell_type": "markdown",
   "id": "7ef6d3cf",
   "metadata": {},
   "source": [
    "### Droping Rows (Observations)\n",
    "\n",
    "  - The drop method drops rows from the data frame by default\n",
    "  \n",
    "  \n",
    "  - Passing a label-index (or integer-index) to drop one row\n",
    "  \n",
    "  \n",
    "  - Passing a list of lable-index (or integer-index) will drop multiple rows\n",
    "  \n",
    "  \n",
    "  - Setting __inplace = True__ will remove observations permanently. "
   ]
  },
  {
   "cell_type": "markdown",
   "id": "7a354fe1",
   "metadata": {},
   "source": [
    "#### Dropping One Row"
   ]
  },
  {
   "cell_type": "code",
   "execution_count": null,
   "id": "aff6fdb0",
   "metadata": {},
   "outputs": [],
   "source": [
    "df.drop('R_1', axis = 0).head()"
   ]
  },
  {
   "cell_type": "code",
   "execution_count": null,
   "id": "5df2ebd6",
   "metadata": {},
   "outputs": [],
   "source": [
    "df.head()"
   ]
  },
  {
   "cell_type": "markdown",
   "id": "94aecb61",
   "metadata": {},
   "source": [
    " > The first is still there, because we didn't specify inplace = True\n",
    " we can do that like this\n",
    " \n",
    "```python\n",
    "df.drop('R_1', inplace = True)\n",
    "```"
   ]
  },
  {
   "cell_type": "markdown",
   "id": "236b21c3",
   "metadata": {},
   "source": [
    "#### Dropping Multiple Rows\n",
    "\n",
    "  - Passing a list of rows to the drop method\n",
    "\n",
    "```python\n",
    "\n",
    "    df.drop(['R1', 'R2', ...])\n",
    "```"
   ]
  },
  {
   "cell_type": "code",
   "execution_count": null,
   "id": "40711c09",
   "metadata": {},
   "outputs": [],
   "source": [
    "df.drop(['R_1', 'R_3', 'R_5', 'R_14', 'R_15'])"
   ]
  },
  {
   "cell_type": "markdown",
   "id": "32de176c",
   "metadata": {},
   "source": [
    "---\n"
   ]
  },
  {
   "cell_type": "markdown",
   "id": "be109d8b",
   "metadata": {},
   "source": [
    "# Understanding how Data Frame Are Constructed Internally\n",
    "\n",
    "  - There are several ways to contruct a DataFrame. such as:\n",
    "      - Dictionaries (the most common way)\n",
    "      - NumPy nd-Arrays\n",
    "      - dataclass (It is not discussed here)"
   ]
  },
  {
   "cell_type": "markdown",
   "id": "41ef8f62",
   "metadata": {},
   "source": [
    "## Constructing DataFrames form Dicts"
   ]
  },
  {
   "cell_type": "code",
   "execution_count": null,
   "id": "dd241925",
   "metadata": {},
   "outputs": [],
   "source": [
    "data = {'Var1': [*range(1, 6)], \n",
    "       'Var2': [*range(2, 11, 2)], \n",
    "       'Var3': [*range(10, 51, 10)]}\n",
    "data"
   ]
  },
  {
   "cell_type": "code",
   "execution_count": null,
   "id": "8061a30d",
   "metadata": {},
   "outputs": [],
   "source": [
    "dict_df = pd.DataFrame(data)\n",
    "dict_df"
   ]
  },
  {
   "cell_type": "markdown",
   "id": "d427dfe0",
   "metadata": {},
   "source": [
    "#### Example Two: Constructing DataFrames from Dicts"
   ]
  },
  {
   "cell_type": "code",
   "execution_count": null,
   "id": "770c5761",
   "metadata": {},
   "outputs": [],
   "source": [
    "dat = {'states': ['Ohio', 'Ohio', 'Ohio', 'Nevada', 'Nevada'], \n",
    "      'year': [2000, 2001, 2002, 2001, 2002], \n",
    "      'pop': [1.5, 1.7, 3.6, 2.4, 2.9]}\n",
    "df = pd.DataFrame(dat)\n",
    "df"
   ]
  },
  {
   "cell_type": "markdown",
   "id": "3ef4563b",
   "metadata": {},
   "source": [
    "#### Rearrange the columns names\n",
    "\n",
    "  > by passing a list of variable names to __columns__ argument, the columns will be exactly as what you pass\n",
    "  "
   ]
  },
  {
   "cell_type": "code",
   "execution_count": null,
   "id": "debb9c67",
   "metadata": {},
   "outputs": [],
   "source": [
    "pd.DataFrame(dat, columns = ['year', 'states', 'pop'])"
   ]
  },
  {
   "cell_type": "markdown",
   "id": "f34ac438",
   "metadata": {},
   "source": [
    "#### Adding row label-index\n",
    "\n",
    "  > passing a list of string labels to the __index__ argument will label the data frame rows."
   ]
  },
  {
   "cell_type": "code",
   "execution_count": null,
   "id": "96d752d8",
   "metadata": {},
   "outputs": [],
   "source": [
    "pd.DataFrame(dat, columns = ['year', 'states', 'pop'],\n",
    "            index = ['A', 'B', 'C', 'D', 'E'])"
   ]
  },
  {
   "cell_type": "markdown",
   "id": "fb3b85a6",
   "metadata": {},
   "source": [
    "## Constructing DataFrames form Dict of Dicts\n",
    "\n",
    "   - If a dict of dicts passed to DataFrame, the __outer dict keys__ will be interpreted as __variables__, and the __inner dict kyes__ as the row indices."
   ]
  },
  {
   "cell_type": "code",
   "execution_count": null,
   "id": "43b8d0b1",
   "metadata": {},
   "outputs": [],
   "source": [
    "grades = {'Ahmad': {'Math': 13, 'Stats': 17.5, 'Science': 0}, \n",
    "         'Nabil': {'Math': 5.5, 'Computing': 17.75, 'stats': 18.5}, \n",
    "         'Islam': {'Math': 7.5, 'Stats': 12.5, 'Algo': 18}}\n",
    "grades"
   ]
  },
  {
   "cell_type": "code",
   "execution_count": null,
   "id": "4a478d37",
   "metadata": {},
   "outputs": [],
   "source": [
    "df_grades = pd.DataFrame(grades)\n",
    "df_grades"
   ]
  },
  {
   "cell_type": "markdown",
   "id": "2c9423a3",
   "metadata": {},
   "source": [
    "> We see where there is no value, an __NaN__ appears in the DataFrame. "
   ]
  },
  {
   "cell_type": "markdown",
   "id": "003c2fc5",
   "metadata": {},
   "source": [
    "### Tranposing the DataFrame.\n",
    "\n",
    "  - We can always shift the rows to columns and the columns to rows by using __.T__ DataFrame ATTribute."
   ]
  },
  {
   "cell_type": "code",
   "execution_count": null,
   "id": "6177a89b",
   "metadata": {},
   "outputs": [],
   "source": [
    "df_grades.T"
   ]
  },
  {
   "cell_type": "markdown",
   "id": "e02019e9",
   "metadata": {},
   "source": [
    "#### Index name, Columns names\n",
    "\n",
    "  - Data about data is of much help for us to understand the data. Thus, we can provide a name for the index and for columns."
   ]
  },
  {
   "cell_type": "code",
   "execution_count": null,
   "id": "df68f2b9",
   "metadata": {},
   "outputs": [],
   "source": [
    "# Getting the index\n",
    "df_grades.index"
   ]
  },
  {
   "cell_type": "code",
   "execution_count": null,
   "id": "ccfc1973",
   "metadata": {},
   "outputs": [],
   "source": [
    "# Giving a name to the index\n",
    "df_grades.index.name = 'Subjects'"
   ]
  },
  {
   "cell_type": "code",
   "execution_count": null,
   "id": "06f21c77",
   "metadata": {},
   "outputs": [],
   "source": [
    "df_grades.index.names"
   ]
  },
  {
   "cell_type": "code",
   "execution_count": null,
   "id": "1ffd2e3c",
   "metadata": {},
   "outputs": [],
   "source": [
    "# Getting the column names\n",
    "df_grades.columns"
   ]
  },
  {
   "cell_type": "code",
   "execution_count": null,
   "id": "711f7c09",
   "metadata": {},
   "outputs": [],
   "source": [
    "# Giving the columns a name\n",
    "df_grades.columns.name = 'Students'\n"
   ]
  },
  {
   "cell_type": "code",
   "execution_count": null,
   "id": "b08d3f9d",
   "metadata": {},
   "outputs": [],
   "source": [
    "df_grades.columns.name"
   ]
  },
  {
   "cell_type": "code",
   "execution_count": null,
   "id": "22aff15f",
   "metadata": {},
   "outputs": [],
   "source": [
    "df_grades"
   ]
  },
  {
   "cell_type": "markdown",
   "id": "4a34bb15",
   "metadata": {},
   "source": [
    "## Constructing DataFrames form 2D-arrays\n",
    "\n"
   ]
  },
  {
   "cell_type": "code",
   "execution_count": null,
   "id": "b4dc2b28",
   "metadata": {},
   "outputs": [],
   "source": [
    "d = np.array([np.arange(5).T, np.arange(5, 26, 5)]).T\n",
    "d"
   ]
  },
  {
   "cell_type": "code",
   "execution_count": null,
   "id": "3552c57c",
   "metadata": {},
   "outputs": [],
   "source": [
    "pd.DataFrame(d, index = [*range(1, 6)],  columns = ['First', 'Second'])"
   ]
  },
  {
   "cell_type": "markdown",
   "id": "834e50f7",
   "metadata": {},
   "source": [
    "#### Note: \n",
    "\n",
    "  - There are other possibile data inputs to construct DataFrames from. consult the online documentation or a specified book. \n",
    "  \n",
    "[__Python for data analysis__](https://www.oreilly.com/library/view/python-for-data/9781491957653/) by Wesly Mckinney is a good book in this matter. "
   ]
  }
 ],
 "metadata": {
  "kernelspec": {
   "display_name": "Python 3",
   "language": "python",
   "name": "python3"
  },
  "language_info": {
   "codemirror_mode": {
    "name": "ipython",
    "version": 3
   },
   "file_extension": ".py",
   "mimetype": "text/x-python",
   "name": "python",
   "nbconvert_exporter": "python",
   "pygments_lexer": "ipython3",
   "version": "3.8.2"
  }
 },
 "nbformat": 4,
 "nbformat_minor": 5
}
