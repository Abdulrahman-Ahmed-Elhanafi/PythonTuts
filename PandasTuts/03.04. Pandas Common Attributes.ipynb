{
 "cells": [
  {
   "cell_type": "markdown",
   "id": "23a2407d",
   "metadata": {},
   "source": [
    "# Pandas DataFrames Common Attributes"
   ]
  },
  {
   "cell_type": "code",
   "execution_count": 1,
   "id": "e59edcef",
   "metadata": {},
   "outputs": [],
   "source": [
    "import pandas as pd\n",
    "import numpy as np\n",
    "from random import choices, seed, sample\n",
    "from string import ascii_lowercase"
   ]
  },
  {
   "cell_type": "code",
   "execution_count": 2,
   "id": "d320ae31",
   "metadata": {},
   "outputs": [
    {
     "data": {
      "text/html": [
       "<div>\n",
       "<style scoped>\n",
       "    .dataframe tbody tr th:only-of-type {\n",
       "        vertical-align: middle;\n",
       "    }\n",
       "\n",
       "    .dataframe tbody tr th {\n",
       "        vertical-align: top;\n",
       "    }\n",
       "\n",
       "    .dataframe thead th {\n",
       "        text-align: right;\n",
       "    }\n",
       "</style>\n",
       "<table border=\"1\" class=\"dataframe\">\n",
       "  <thead>\n",
       "    <tr style=\"text-align: right;\">\n",
       "      <th></th>\n",
       "      <th>VAR_1</th>\n",
       "      <th>VAR_2</th>\n",
       "      <th>VAR_3</th>\n",
       "    </tr>\n",
       "  </thead>\n",
       "  <tbody>\n",
       "    <tr>\n",
       "      <th>a</th>\n",
       "      <td>1</td>\n",
       "      <td>29</td>\n",
       "      <td>108</td>\n",
       "    </tr>\n",
       "    <tr>\n",
       "      <th>b</th>\n",
       "      <td>2</td>\n",
       "      <td>22</td>\n",
       "      <td>38</td>\n",
       "    </tr>\n",
       "    <tr>\n",
       "      <th>c</th>\n",
       "      <td>3</td>\n",
       "      <td>26</td>\n",
       "      <td>66</td>\n",
       "    </tr>\n",
       "    <tr>\n",
       "      <th>d</th>\n",
       "      <td>4</td>\n",
       "      <td>29</td>\n",
       "      <td>52</td>\n",
       "    </tr>\n",
       "    <tr>\n",
       "      <th>e</th>\n",
       "      <td>5</td>\n",
       "      <td>25</td>\n",
       "      <td>136</td>\n",
       "    </tr>\n",
       "  </tbody>\n",
       "</table>\n",
       "</div>"
      ],
      "text/plain": [
       "   VAR_1  VAR_2  VAR_3\n",
       "a      1     29    108\n",
       "b      2     22     38\n",
       "c      3     26     66\n",
       "d      4     29     52\n",
       "e      5     25    136"
      ]
     },
     "execution_count": 2,
     "metadata": {},
     "output_type": "execute_result"
    }
   ],
   "source": [
    "seed(10111)\n",
    "df = pd.DataFrame({'VAR_1': range(1, 12),\n",
    "                  'VAR_2': choices(range(20, 30), k = 11),\n",
    "                  'VAR_3': sample(range(10, 200, 14), k = 11)}, \n",
    "                 index = list(ascii_lowercase[:11]))\n",
    "df.head()"
   ]
  },
  {
   "cell_type": "markdown",
   "id": "5878bd8a",
   "metadata": {},
   "source": [
    "### Columns Attribute\n",
    "__columns__ attributes returns the columns (variables) names"
   ]
  },
  {
   "cell_type": "code",
   "execution_count": 3,
   "id": "e2468787",
   "metadata": {},
   "outputs": [
    {
     "data": {
      "text/plain": [
       "Index(['VAR_1', 'VAR_2', 'VAR_3'], dtype='object')"
      ]
     },
     "execution_count": 3,
     "metadata": {},
     "output_type": "execute_result"
    }
   ],
   "source": [
    "df.columns"
   ]
  },
  {
   "cell_type": "markdown",
   "id": "45c0fc28",
   "metadata": {},
   "source": [
    "### Values Attribute\n",
    " __values__ attributes returns the data contained in the DataFrame as a 2D ndarray."
   ]
  },
  {
   "cell_type": "code",
   "execution_count": 4,
   "id": "a71bc2c2",
   "metadata": {},
   "outputs": [
    {
     "data": {
      "text/plain": [
       "array([[  1,  29, 108],\n",
       "       [  2,  22,  38],\n",
       "       [  3,  26,  66],\n",
       "       [  4,  29,  52],\n",
       "       [  5,  25, 136],\n",
       "       [  6,  27, 122],\n",
       "       [  7,  27, 178],\n",
       "       [  8,  21,  10],\n",
       "       [  9,  28, 150],\n",
       "       [ 10,  27,  80],\n",
       "       [ 11,  29, 192]])"
      ]
     },
     "execution_count": 4,
     "metadata": {},
     "output_type": "execute_result"
    }
   ],
   "source": [
    "df.values"
   ]
  },
  {
   "cell_type": "markdown",
   "id": "8ab90d66",
   "metadata": {},
   "source": [
    "Note that if the DataFrame's columns are different dtypes. the dtype for the values array will be chosen to accomodate with all columns."
   ]
  },
  {
   "cell_type": "markdown",
   "id": "6e6fafe4",
   "metadata": {},
   "source": [
    "### Shape Attribute\n",
    "\n",
    "  __shape attribute__ returns a tuple of the number of rows and number of columns."
   ]
  },
  {
   "cell_type": "code",
   "execution_count": 5,
   "id": "0678cba8",
   "metadata": {},
   "outputs": [
    {
     "data": {
      "text/plain": [
       "(11, 3)"
      ]
     },
     "execution_count": 5,
     "metadata": {},
     "output_type": "execute_result"
    }
   ],
   "source": [
    "df.shape"
   ]
  },
  {
   "cell_type": "markdown",
   "id": "9e405cc4",
   "metadata": {},
   "source": [
    "### Index Attribute\n",
    "\n",
    "__index__ attribute is used to get the **index object**."
   ]
  },
  {
   "cell_type": "code",
   "execution_count": 6,
   "id": "503b42ff",
   "metadata": {},
   "outputs": [
    {
     "data": {
      "text/plain": [
       "Index(['a', 'b', 'c', 'd', 'e', 'f', 'g', 'h', 'i', 'j', 'k'], dtype='object')"
      ]
     },
     "execution_count": 6,
     "metadata": {},
     "output_type": "execute_result"
    }
   ],
   "source": [
    "df.index"
   ]
  },
  {
   "cell_type": "markdown",
   "id": "9ea810c1",
   "metadata": {},
   "source": [
    "### Name Attribute for columns and index DataFrame attributes\n",
    "\n",
    "  - __columns__ and __index__ has their name attribute. "
   ]
  },
  {
   "cell_type": "code",
   "execution_count": 7,
   "id": "cec984f8",
   "metadata": {},
   "outputs": [
    {
     "name": "stdout",
     "output_type": "stream",
     "text": [
      "None\n"
     ]
    }
   ],
   "source": [
    "print(df.columns.name)"
   ]
  },
  {
   "cell_type": "code",
   "execution_count": 8,
   "id": "3ad3d0ea",
   "metadata": {},
   "outputs": [
    {
     "name": "stdout",
     "output_type": "stream",
     "text": [
      "None\n"
     ]
    }
   ],
   "source": [
    "print(df.index.name)"
   ]
  },
  {
   "cell_type": "markdown",
   "id": "514f4c26",
   "metadata": {},
   "source": [
    "We can set a name to columns and index to have more information about the data"
   ]
  },
  {
   "cell_type": "code",
   "execution_count": 9,
   "id": "8f4bc5e2",
   "metadata": {},
   "outputs": [],
   "source": [
    "df.columns.name = \"Columns-Name\"; df.index.name = \"Index-Name\""
   ]
  },
  {
   "cell_type": "code",
   "execution_count": 10,
   "id": "2c63ea38",
   "metadata": {},
   "outputs": [
    {
     "data": {
      "text/plain": [
       "('Columns-Name', 'Index-Name')"
      ]
     },
     "execution_count": 10,
     "metadata": {},
     "output_type": "execute_result"
    }
   ],
   "source": [
    "df.columns.name , df.index.name"
   ]
  },
  {
   "cell_type": "code",
   "execution_count": null,
   "id": "9cddde0e",
   "metadata": {},
   "outputs": [],
   "source": []
  },
  {
   "cell_type": "markdown",
   "id": "2bab22e1",
   "metadata": {},
   "source": [
    "### Info Method\n",
    "\n",
    "   __info__ method prints a brief summary about the DataFrame"
   ]
  },
  {
   "cell_type": "code",
   "execution_count": 11,
   "id": "fbf8aae6",
   "metadata": {},
   "outputs": [
    {
     "name": "stdout",
     "output_type": "stream",
     "text": [
      "<class 'pandas.core.frame.DataFrame'>\n",
      "Index: 11 entries, a to k\n",
      "Data columns (total 3 columns):\n",
      " #   Column  Non-Null Count  Dtype\n",
      "---  ------  --------------  -----\n",
      " 0   VAR_1   11 non-null     int64\n",
      " 1   VAR_2   11 non-null     int64\n",
      " 2   VAR_3   11 non-null     int64\n",
      "dtypes: int64(3)\n",
      "memory usage: 352.0+ bytes\n"
     ]
    }
   ],
   "source": [
    "df.info()"
   ]
  },
  {
   "cell_type": "markdown",
   "id": "66f31795",
   "metadata": {},
   "source": [
    "### Describe Method"
   ]
  },
  {
   "cell_type": "code",
   "execution_count": 12,
   "id": "00b590ed",
   "metadata": {},
   "outputs": [
    {
     "data": {
      "text/html": [
       "<div>\n",
       "<style scoped>\n",
       "    .dataframe tbody tr th:only-of-type {\n",
       "        vertical-align: middle;\n",
       "    }\n",
       "\n",
       "    .dataframe tbody tr th {\n",
       "        vertical-align: top;\n",
       "    }\n",
       "\n",
       "    .dataframe thead th {\n",
       "        text-align: right;\n",
       "    }\n",
       "</style>\n",
       "<table border=\"1\" class=\"dataframe\">\n",
       "  <thead>\n",
       "    <tr style=\"text-align: right;\">\n",
       "      <th>Columns-Name</th>\n",
       "      <th>VAR_1</th>\n",
       "      <th>VAR_2</th>\n",
       "      <th>VAR_3</th>\n",
       "    </tr>\n",
       "  </thead>\n",
       "  <tbody>\n",
       "    <tr>\n",
       "      <th>count</th>\n",
       "      <td>11.000000</td>\n",
       "      <td>11.000000</td>\n",
       "      <td>11.000000</td>\n",
       "    </tr>\n",
       "    <tr>\n",
       "      <th>mean</th>\n",
       "      <td>6.000000</td>\n",
       "      <td>26.363636</td>\n",
       "      <td>102.909091</td>\n",
       "    </tr>\n",
       "    <tr>\n",
       "      <th>std</th>\n",
       "      <td>3.316625</td>\n",
       "      <td>2.730301</td>\n",
       "      <td>58.824237</td>\n",
       "    </tr>\n",
       "    <tr>\n",
       "      <th>min</th>\n",
       "      <td>1.000000</td>\n",
       "      <td>21.000000</td>\n",
       "      <td>10.000000</td>\n",
       "    </tr>\n",
       "    <tr>\n",
       "      <th>25%</th>\n",
       "      <td>3.500000</td>\n",
       "      <td>25.500000</td>\n",
       "      <td>59.000000</td>\n",
       "    </tr>\n",
       "    <tr>\n",
       "      <th>50%</th>\n",
       "      <td>6.000000</td>\n",
       "      <td>27.000000</td>\n",
       "      <td>108.000000</td>\n",
       "    </tr>\n",
       "    <tr>\n",
       "      <th>75%</th>\n",
       "      <td>8.500000</td>\n",
       "      <td>28.500000</td>\n",
       "      <td>143.000000</td>\n",
       "    </tr>\n",
       "    <tr>\n",
       "      <th>max</th>\n",
       "      <td>11.000000</td>\n",
       "      <td>29.000000</td>\n",
       "      <td>192.000000</td>\n",
       "    </tr>\n",
       "  </tbody>\n",
       "</table>\n",
       "</div>"
      ],
      "text/plain": [
       "Columns-Name      VAR_1      VAR_2       VAR_3\n",
       "count         11.000000  11.000000   11.000000\n",
       "mean           6.000000  26.363636  102.909091\n",
       "std            3.316625   2.730301   58.824237\n",
       "min            1.000000  21.000000   10.000000\n",
       "25%            3.500000  25.500000   59.000000\n",
       "50%            6.000000  27.000000  108.000000\n",
       "75%            8.500000  28.500000  143.000000\n",
       "max           11.000000  29.000000  192.000000"
      ]
     },
     "execution_count": 12,
     "metadata": {},
     "output_type": "execute_result"
    }
   ],
   "source": [
    "df.describe()"
   ]
  },
  {
   "cell_type": "markdown",
   "id": "05f158d9",
   "metadata": {},
   "source": [
    "### Size Attribute"
   ]
  },
  {
   "cell_type": "code",
   "execution_count": 13,
   "id": "b04e8bdf",
   "metadata": {},
   "outputs": [
    {
     "data": {
      "text/plain": [
       "33"
      ]
     },
     "execution_count": 13,
     "metadata": {},
     "output_type": "execute_result"
    }
   ],
   "source": [
    "df.size"
   ]
  },
  {
   "cell_type": "markdown",
   "id": "e5032bf8",
   "metadata": {},
   "source": [
    "### Size In Bytes"
   ]
  },
  {
   "cell_type": "code",
   "execution_count": 14,
   "id": "7c046732",
   "metadata": {},
   "outputs": [
    {
     "data": {
      "text/plain": [
       "Index    88\n",
       "VAR_1    88\n",
       "VAR_2    88\n",
       "VAR_3    88\n",
       "dtype: int64"
      ]
     },
     "execution_count": 14,
     "metadata": {},
     "output_type": "execute_result"
    }
   ],
   "source": [
    "df.memory_usage()"
   ]
  },
  {
   "cell_type": "code",
   "execution_count": 15,
   "id": "3dc34608",
   "metadata": {},
   "outputs": [
    {
     "data": {
      "text/plain": [
       "2.75"
      ]
     },
     "execution_count": 15,
     "metadata": {},
     "output_type": "execute_result"
    }
   ],
   "source": [
    "88 * 8 * 4 /1024"
   ]
  }
 ],
 "metadata": {
  "kernelspec": {
   "display_name": "Python 3",
   "language": "python",
   "name": "python3"
  },
  "language_info": {
   "codemirror_mode": {
    "name": "ipython",
    "version": 3
   },
   "file_extension": ".py",
   "mimetype": "text/x-python",
   "name": "python",
   "nbconvert_exporter": "python",
   "pygments_lexer": "ipython3",
   "version": "3.8.2"
  }
 },
 "nbformat": 4,
 "nbformat_minor": 5
}
