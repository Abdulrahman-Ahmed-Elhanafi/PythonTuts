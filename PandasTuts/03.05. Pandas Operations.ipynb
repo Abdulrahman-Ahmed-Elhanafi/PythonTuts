{
 "cells": [
  {
   "cell_type": "markdown",
   "id": "31da8aef",
   "metadata": {},
   "source": [
    "# Pandas Operations (Calculations)\n",
    "\n",
    "  - This is not exhaustive tutorial about Pandas operations. However, we will present to most common operations."
   ]
  },
  {
   "cell_type": "markdown",
   "id": "e974e948",
   "metadata": {},
   "source": [
    "### Setting up the environment"
   ]
  },
  {
   "cell_type": "code",
   "execution_count": 59,
   "id": "6531ff18",
   "metadata": {},
   "outputs": [],
   "source": [
    "import pandas as pd\n",
    "import numpy as np\n",
    "from random import choices, seed, sample, shuffle\n",
    "from string import ascii_letters, ascii_uppercase"
   ]
  },
  {
   "cell_type": "markdown",
   "id": "051ee4ee",
   "metadata": {},
   "source": [
    "#### Note: \n",
    "\n",
    "I will be using __df.some_method_name__ as a __pandas DataFrame object__ to explain methods. but in the documentation they use __pd.some_method_name__."
   ]
  },
  {
   "cell_type": "markdown",
   "id": "3a870998",
   "metadata": {},
   "source": [
    "### DataFrame Example: \n",
    "\n",
    "I am using the random module choices (which can give duplicate numbers), and sample function (which gives random unique numbers) to create an example DataFrame to work with."
   ]
  },
  {
   "cell_type": "code",
   "execution_count": 60,
   "id": "8bce196c",
   "metadata": {},
   "outputs": [
    {
     "data": {
      "text/html": [
       "<div>\n",
       "<style scoped>\n",
       "    .dataframe tbody tr th:only-of-type {\n",
       "        vertical-align: middle;\n",
       "    }\n",
       "\n",
       "    .dataframe tbody tr th {\n",
       "        vertical-align: top;\n",
       "    }\n",
       "\n",
       "    .dataframe thead th {\n",
       "        text-align: right;\n",
       "    }\n",
       "</style>\n",
       "<table border=\"1\" class=\"dataframe\">\n",
       "  <thead>\n",
       "    <tr style=\"text-align: right;\">\n",
       "      <th></th>\n",
       "      <th>VAR_1</th>\n",
       "      <th>VAR_2</th>\n",
       "      <th>VAR_3</th>\n",
       "    </tr>\n",
       "  </thead>\n",
       "  <tbody>\n",
       "    <tr>\n",
       "      <th>0</th>\n",
       "      <td>1</td>\n",
       "      <td>29</td>\n",
       "      <td>178</td>\n",
       "    </tr>\n",
       "    <tr>\n",
       "      <th>1</th>\n",
       "      <td>2</td>\n",
       "      <td>22</td>\n",
       "      <td>150</td>\n",
       "    </tr>\n",
       "    <tr>\n",
       "      <th>2</th>\n",
       "      <td>3</td>\n",
       "      <td>26</td>\n",
       "      <td>38</td>\n",
       "    </tr>\n",
       "    <tr>\n",
       "      <th>3</th>\n",
       "      <td>4</td>\n",
       "      <td>29</td>\n",
       "      <td>136</td>\n",
       "    </tr>\n",
       "    <tr>\n",
       "      <th>4</th>\n",
       "      <td>5</td>\n",
       "      <td>25</td>\n",
       "      <td>10</td>\n",
       "    </tr>\n",
       "    <tr>\n",
       "      <th>5</th>\n",
       "      <td>6</td>\n",
       "      <td>27</td>\n",
       "      <td>24</td>\n",
       "    </tr>\n",
       "  </tbody>\n",
       "</table>\n",
       "</div>"
      ],
      "text/plain": [
       "   VAR_1  VAR_2  VAR_3\n",
       "0      1     29    178\n",
       "1      2     22    150\n",
       "2      3     26     38\n",
       "3      4     29    136\n",
       "4      5     25     10\n",
       "5      6     27     24"
      ]
     },
     "execution_count": 60,
     "metadata": {},
     "output_type": "execute_result"
    }
   ],
   "source": [
    "seed(10111)\n",
    "df = pd.DataFrame({'VAR_1': range(1, 7),\n",
    "                  'VAR_2': choices(range(20, 30), k = 6),\n",
    "                  'VAR_3': sample(range(10, 200, 14), k = 6)})\n",
    "df"
   ]
  },
  {
   "cell_type": "markdown",
   "id": "d80258b9",
   "metadata": {},
   "source": [
    "### The Number of Non Missing Rows or Columns\n",
    "\n",
    "   - Checking the number of missing data points is one of the very first steps after importing the data. Because we have to be aware of whether our data is complete or has missing data values. The __count__ method can be used here.  \n",
    "   \n",
    "#### count method\n",
    "\n",
    " - We can check the number of non-missing data either for rows or columns (default) using __pd.count() method__\n",
    " \n",
    "```python\n",
    "\n",
    "   df.count(axis = 0)  ----> Counts are generate for each column\n",
    "    \n",
    "   df.count(axis = 1) -----> Counts are generated for each row\n",
    "# Check the docs\n",
    "pd.count?\n",
    "```"
   ]
  },
  {
   "cell_type": "markdown",
   "id": "599c80fb",
   "metadata": {},
   "source": [
    "### Count method example\n",
    "\n",
    "1. The number of values in each column. "
   ]
  },
  {
   "cell_type": "code",
   "execution_count": 61,
   "id": "5970af64",
   "metadata": {},
   "outputs": [
    {
     "data": {
      "text/plain": [
       "VAR_1    6\n",
       "VAR_2    6\n",
       "VAR_3    6\n",
       "dtype: int64"
      ]
     },
     "execution_count": 61,
     "metadata": {},
     "output_type": "execute_result"
    }
   ],
   "source": [
    "df.count()"
   ]
  },
  {
   "cell_type": "markdown",
   "id": "ae7257c0",
   "metadata": {},
   "source": [
    "This means six values for each variable"
   ]
  },
  {
   "cell_type": "markdown",
   "id": "c0d691e8",
   "metadata": {},
   "source": [
    "2. The number of values in each row "
   ]
  },
  {
   "cell_type": "code",
   "execution_count": 62,
   "id": "513c9582",
   "metadata": {},
   "outputs": [
    {
     "data": {
      "text/plain": [
       "0    3\n",
       "1    3\n",
       "2    3\n",
       "3    3\n",
       "4    3\n",
       "5    3\n",
       "dtype: int64"
      ]
     },
     "execution_count": 62,
     "metadata": {},
     "output_type": "execute_result"
    }
   ],
   "source": [
    "df.count(axis = 1)"
   ]
  },
  {
   "cell_type": "markdown",
   "id": "2c49432b",
   "metadata": {},
   "source": [
    "**All rows has three values, no missing values**"
   ]
  },
  {
   "cell_type": "markdown",
   "id": "b87008d8",
   "metadata": {},
   "source": [
    "### Uniques and Duplicates\n",
    "\n",
    "#### 1. Unique Numbers \n",
    "\n",
    "  - In data analysis, we care about unique values, and we don't like duplicates. For this reason, we check for unique values of a certain column using the __unique__ method.\n",
    "  \n",
    "  \n",
    "  - __unique__ method returns an array with only **uniqe values**.\n",
    "  \n",
    "  \n",
    "  - __unique__ method is a Series method, which works only with one variable from a DataFrame. \n",
    "  \n",
    "Here is the syntax:\n",
    "---\n",
    "```python\n",
    "\n",
    "   df['VAR'].unique() \n",
    "    \n",
    "# For the documentation \n",
    "pd.unique? \n",
    "```"
   ]
  },
  {
   "cell_type": "markdown",
   "id": "db00c709",
   "metadata": {},
   "source": [
    "### Unique Values Example"
   ]
  },
  {
   "cell_type": "code",
   "execution_count": 63,
   "id": "ad510daf",
   "metadata": {},
   "outputs": [
    {
     "data": {
      "text/plain": [
       "array([29, 22, 26, 25, 27])"
      ]
     },
     "execution_count": 63,
     "metadata": {},
     "output_type": "execute_result"
    }
   ],
   "source": [
    "df['VAR_2'].unique()"
   ]
  },
  {
   "cell_type": "markdown",
   "id": "0c3e3dbc",
   "metadata": {},
   "source": [
    "### Number of Unique values\n",
    "\n",
    "   - Knowing about the unique values can give us an idea about the variable as well. \n",
    "   \n",
    "   - The number of unique values can be achieved using the built-in function __len__ or the Pandas __nunique__ method. (The latter is preferred).\n",
    "\n",
    "\n",
    "Here is the syntax:\n",
    "```python \n",
    "\n",
    "   len(df['var'].unique())\n",
    "    or \n",
    "- The better way is to use nunique() method.\n",
    "\n",
    "   df['var'].nunique()\n",
    "    \n",
    "# for docs run \n",
    "pd.unique?\n",
    "```"
   ]
  },
  {
   "cell_type": "markdown",
   "id": "4444d6ef",
   "metadata": {},
   "source": [
    "### Number of unique values example"
   ]
  },
  {
   "cell_type": "code",
   "execution_count": 64,
   "id": "94036865",
   "metadata": {},
   "outputs": [
    {
     "data": {
      "text/plain": [
       "5"
      ]
     },
     "execution_count": 64,
     "metadata": {},
     "output_type": "execute_result"
    }
   ],
   "source": [
    "df['VAR_2'].nunique()"
   ]
  },
  {
   "cell_type": "markdown",
   "id": "6c7d7ebd",
   "metadata": {},
   "source": [
    "###  Value Counts or (Table)\n",
    "  \n",
    "   - Often times we want a table of __unique values and how many times they have appeared__. Pandas has a method for this called __value_counts__. (pay attention to the \"s\" at the end)\n",
    "   \n",
    "   \n",
    "   - __df.value_counts()__ is similar to the __table function in R__ language.\n",
    "   \n",
    "   \n",
    "   - Tables or count values are convenient for __categorical of nominal variable__ but not for __numeric or continuous variables__\n",
    "   \n",
    "Here is the syntax\n",
    "   \n",
    "```python \n",
    "\n",
    "df['var'].value_counts()\n",
    "# Chech the docs using\n",
    "pd.value_counts?\n",
    " ```"
   ]
  },
  {
   "cell_type": "markdown",
   "id": "52483800",
   "metadata": {},
   "source": [
    "### Value counts example"
   ]
  },
  {
   "cell_type": "code",
   "execution_count": 65,
   "id": "eaa331d7",
   "metadata": {},
   "outputs": [
    {
     "data": {
      "text/plain": [
       "29    2\n",
       "22    1\n",
       "26    1\n",
       "25    1\n",
       "27    1\n",
       "Name: VAR_2, dtype: int64"
      ]
     },
     "execution_count": 65,
     "metadata": {},
     "output_type": "execute_result"
    }
   ],
   "source": [
    "df['VAR_2'].value_counts()"
   ]
  },
  {
   "cell_type": "markdown",
   "id": "809b85e1",
   "metadata": {},
   "source": [
    "### Duplicate Values\n",
    "\n",
    "  - We can check for complete duplicates (all variables) using __df.duplicated__ method.\n",
    "  \n",
    "  \n",
    "- If nothing passed to the method, all the variables are considered\n",
    "\n",
    "\n",
    "- This method returns a series of booleans.\n",
    "\n",
    "\n",
    "- By default, the __first occurence is not considered a duplicate__ \n",
    "\n",
    "\n",
    "- We can change the default behavior by passing **keep=last**, which means __last occurence is not considered a duplicate__, or **keep = False** which mean duplicates to be duplicates.\n",
    "\n",
    "Here is the syntax:\n",
    "\n",
    "```python\n",
    "\n",
    "df.duplicated()\n",
    "\n",
    "# Check the docs\n",
    "df.duplicated?\n",
    "```"
   ]
  },
  {
   "cell_type": "markdown",
   "id": "55345ed8",
   "metadata": {},
   "source": [
    "### Duplicated Values Example"
   ]
  },
  {
   "cell_type": "code",
   "execution_count": 66,
   "id": "7b2c3dd2",
   "metadata": {},
   "outputs": [
    {
     "data": {
      "text/plain": [
       "0    False\n",
       "1    False\n",
       "2    False\n",
       "3    False\n",
       "4    False\n",
       "5    False\n",
       "dtype: bool"
      ]
     },
     "execution_count": 66,
     "metadata": {},
     "output_type": "execute_result"
    }
   ],
   "source": [
    "df.duplicated()"
   ]
  },
  {
   "cell_type": "markdown",
   "id": "b7aba2d7",
   "metadata": {},
   "source": [
    "We see a Series of **Falses**, which means no row is a complete duplicate. \n",
    "\n",
    "We check a column for duplicates as well"
   ]
  },
  {
   "cell_type": "code",
   "execution_count": 67,
   "id": "9262bc13",
   "metadata": {},
   "outputs": [
    {
     "data": {
      "text/plain": [
       "0    False\n",
       "1    False\n",
       "2    False\n",
       "3     True\n",
       "4    False\n",
       "5    False\n",
       "Name: VAR_2, dtype: bool"
      ]
     },
     "execution_count": 67,
     "metadata": {},
     "output_type": "execute_result"
    }
   ],
   "source": [
    "df['VAR_2'].duplicated()"
   ]
  },
  {
   "cell_type": "markdown",
   "id": "c390d500",
   "metadata": {},
   "source": [
    "We might be tempted to know how many duplicate are there. Chaining a __sum()__ method will give us just that. "
   ]
  },
  {
   "cell_type": "code",
   "execution_count": 68,
   "id": "e973eeb1",
   "metadata": {},
   "outputs": [
    {
     "data": {
      "text/plain": [
       "1"
      ]
     },
     "execution_count": 68,
     "metadata": {},
     "output_type": "execute_result"
    }
   ],
   "source": [
    "df['VAR_2'].duplicated().sum()"
   ]
  },
  {
   "cell_type": "markdown",
   "id": "77229f02",
   "metadata": {},
   "source": [
    "### Drop Duplicate Values: \n",
    "\n",
    "  - Droping the complete duplicate rows is an essential data cleaning step. Because we dp not want to have redundant information.\n",
    "  \n",
    "  - To perform droping duplicates, the __df.drop_duplicates__ method is used.\n",
    "  \n",
    "  - We have to decide with row to keep. If the first occurence what we want to retain, then set __keep = 'first'__ which is the default, or __keep = 'last'__ if we want to retain the last occurence of the duplicate row. \n",
    "  \n",
    "  - Setting __keep = False__ will drop all the duplicates. \n",
    "  \n",
    "  - Dropping the duplicate does not affect the original data unless we set __inplace=True__. (Before doing this, keep a copy of the original data).\n",
    "  \n",
    "Here is the syntax:\n",
    "\n",
    "```python\n",
    "df.drop_duplicates()\n",
    "\n",
    "# For one variable \n",
    "df['VAR-Name'].drop_duplicates\n",
    "# For Docs\n",
    "df.droplicates?\n",
    "```"
   ]
  },
  {
   "cell_type": "markdown",
   "id": "a8a125f4",
   "metadata": {},
   "source": [
    "### Dropping the Duplicate Example"
   ]
  },
  {
   "cell_type": "code",
   "execution_count": 69,
   "id": "9424a466",
   "metadata": {},
   "outputs": [
    {
     "data": {
      "text/html": [
       "<div>\n",
       "<style scoped>\n",
       "    .dataframe tbody tr th:only-of-type {\n",
       "        vertical-align: middle;\n",
       "    }\n",
       "\n",
       "    .dataframe tbody tr th {\n",
       "        vertical-align: top;\n",
       "    }\n",
       "\n",
       "    .dataframe thead th {\n",
       "        text-align: right;\n",
       "    }\n",
       "</style>\n",
       "<table border=\"1\" class=\"dataframe\">\n",
       "  <thead>\n",
       "    <tr style=\"text-align: right;\">\n",
       "      <th></th>\n",
       "      <th>VAR_1</th>\n",
       "      <th>VAR_2</th>\n",
       "      <th>VAR_3</th>\n",
       "    </tr>\n",
       "  </thead>\n",
       "  <tbody>\n",
       "    <tr>\n",
       "      <th>0</th>\n",
       "      <td>1</td>\n",
       "      <td>29</td>\n",
       "      <td>178</td>\n",
       "    </tr>\n",
       "    <tr>\n",
       "      <th>1</th>\n",
       "      <td>2</td>\n",
       "      <td>22</td>\n",
       "      <td>150</td>\n",
       "    </tr>\n",
       "    <tr>\n",
       "      <th>2</th>\n",
       "      <td>3</td>\n",
       "      <td>26</td>\n",
       "      <td>38</td>\n",
       "    </tr>\n",
       "    <tr>\n",
       "      <th>3</th>\n",
       "      <td>4</td>\n",
       "      <td>29</td>\n",
       "      <td>136</td>\n",
       "    </tr>\n",
       "    <tr>\n",
       "      <th>4</th>\n",
       "      <td>5</td>\n",
       "      <td>25</td>\n",
       "      <td>10</td>\n",
       "    </tr>\n",
       "    <tr>\n",
       "      <th>5</th>\n",
       "      <td>6</td>\n",
       "      <td>27</td>\n",
       "      <td>24</td>\n",
       "    </tr>\n",
       "  </tbody>\n",
       "</table>\n",
       "</div>"
      ],
      "text/plain": [
       "   VAR_1  VAR_2  VAR_3\n",
       "0      1     29    178\n",
       "1      2     22    150\n",
       "2      3     26     38\n",
       "3      4     29    136\n",
       "4      5     25     10\n",
       "5      6     27     24"
      ]
     },
     "execution_count": 69,
     "metadata": {},
     "output_type": "execute_result"
    }
   ],
   "source": [
    "df.drop_duplicates()"
   ]
  },
  {
   "cell_type": "markdown",
   "id": "d93f516a",
   "metadata": {},
   "source": [
    "This DataFrame does not have any complete duplicates."
   ]
  },
  {
   "cell_type": "markdown",
   "id": "ce1cac8c",
   "metadata": {},
   "source": [
    "### Example of Dropping duplicates for one variable"
   ]
  },
  {
   "cell_type": "code",
   "execution_count": 70,
   "id": "64a59a84",
   "metadata": {},
   "outputs": [
    {
     "data": {
      "text/plain": [
       "0    29\n",
       "1    22\n",
       "2    26\n",
       "3    29\n",
       "4    25\n",
       "5    27\n",
       "Name: VAR_2, dtype: int64"
      ]
     },
     "execution_count": 70,
     "metadata": {},
     "output_type": "execute_result"
    }
   ],
   "source": [
    "df['VAR_2']"
   ]
  },
  {
   "cell_type": "code",
   "execution_count": 71,
   "id": "2ccda73e",
   "metadata": {},
   "outputs": [
    {
     "data": {
      "text/plain": [
       "0    29\n",
       "1    22\n",
       "2    26\n",
       "4    25\n",
       "5    27\n",
       "Name: VAR_2, dtype: int64"
      ]
     },
     "execution_count": 71,
     "metadata": {},
     "output_type": "execute_result"
    }
   ],
   "source": [
    "df['VAR_2'].drop_duplicates(keep = 'first')"
   ]
  },
  {
   "cell_type": "code",
   "execution_count": 72,
   "id": "9b6dfd02",
   "metadata": {},
   "outputs": [
    {
     "data": {
      "text/plain": [
       "1    22\n",
       "2    26\n",
       "3    29\n",
       "4    25\n",
       "5    27\n",
       "Name: VAR_2, dtype: int64"
      ]
     },
     "execution_count": 72,
     "metadata": {},
     "output_type": "execute_result"
    }
   ],
   "source": [
    "df['VAR_2'].drop_duplicates(keep = 'last')"
   ]
  },
  {
   "cell_type": "code",
   "execution_count": 73,
   "id": "4d9d6f9b",
   "metadata": {},
   "outputs": [
    {
     "data": {
      "text/plain": [
       "1    22\n",
       "2    26\n",
       "4    25\n",
       "5    27\n",
       "Name: VAR_2, dtype: int64"
      ]
     },
     "execution_count": 73,
     "metadata": {},
     "output_type": "execute_result"
    }
   ],
   "source": [
    "df['VAR_2'].drop_duplicates(keep = False)"
   ]
  },
  {
   "cell_type": "markdown",
   "id": "d4ea73eb",
   "metadata": {},
   "source": [
    "In the last example, we did not have a complete duplicate. To clarify the idea even better, I am goint to create another DataFrame Example then apply counting and dropping duplicates."
   ]
  },
  {
   "cell_type": "code",
   "execution_count": 74,
   "id": "99757de5",
   "metadata": {},
   "outputs": [
    {
     "data": {
      "text/html": [
       "<div>\n",
       "<style scoped>\n",
       "    .dataframe tbody tr th:only-of-type {\n",
       "        vertical-align: middle;\n",
       "    }\n",
       "\n",
       "    .dataframe tbody tr th {\n",
       "        vertical-align: top;\n",
       "    }\n",
       "\n",
       "    .dataframe thead th {\n",
       "        text-align: right;\n",
       "    }\n",
       "</style>\n",
       "<table border=\"1\" class=\"dataframe\">\n",
       "  <thead>\n",
       "    <tr style=\"text-align: right;\">\n",
       "      <th></th>\n",
       "      <th>Col_1</th>\n",
       "      <th>Col_2</th>\n",
       "      <th>Col_3</th>\n",
       "    </tr>\n",
       "  </thead>\n",
       "  <tbody>\n",
       "    <tr>\n",
       "      <th>0</th>\n",
       "      <td>3</td>\n",
       "      <td>3</td>\n",
       "      <td>3</td>\n",
       "    </tr>\n",
       "    <tr>\n",
       "      <th>1</th>\n",
       "      <td>2</td>\n",
       "      <td>1</td>\n",
       "      <td>2</td>\n",
       "    </tr>\n",
       "    <tr>\n",
       "      <th>2</th>\n",
       "      <td>5</td>\n",
       "      <td>4</td>\n",
       "      <td>5</td>\n",
       "    </tr>\n",
       "    <tr>\n",
       "      <th>3</th>\n",
       "      <td>3</td>\n",
       "      <td>3</td>\n",
       "      <td>3</td>\n",
       "    </tr>\n",
       "    <tr>\n",
       "      <th>4</th>\n",
       "      <td>5</td>\n",
       "      <td>4</td>\n",
       "      <td>5</td>\n",
       "    </tr>\n",
       "    <tr>\n",
       "      <th>5</th>\n",
       "      <td>1</td>\n",
       "      <td>2</td>\n",
       "      <td>3</td>\n",
       "    </tr>\n",
       "  </tbody>\n",
       "</table>\n",
       "</div>"
      ],
      "text/plain": [
       "   Col_1  Col_2  Col_3\n",
       "0      3      3      3\n",
       "1      2      1      2\n",
       "2      5      4      5\n",
       "3      3      3      3\n",
       "4      5      4      5\n",
       "5      1      2      3"
      ]
     },
     "execution_count": 74,
     "metadata": {},
     "output_type": "execute_result"
    }
   ],
   "source": [
    "dup_df = pd.DataFrame({'Col_1': [3, 2, 5, 3, 5, 1], \n",
    "                      'Col_2': [3, 1, 4, 3, 4, 2],\n",
    "                      \"Col_3\":[3, 2, 5, 3, 5, 3]})\n",
    "dup_df"
   ]
  },
  {
   "cell_type": "markdown",
   "id": "eaed9368",
   "metadata": {},
   "source": [
    "Now, we can see the first and the fourth rows, and the third and the fifth are complete duplicates. This will be shown by __duplicated__ method. __True__ means a duplicate while __False__ means not."
   ]
  },
  {
   "cell_type": "code",
   "execution_count": 75,
   "id": "9be11288",
   "metadata": {},
   "outputs": [
    {
     "data": {
      "text/plain": [
       "0    False\n",
       "1    False\n",
       "2    False\n",
       "3     True\n",
       "4     True\n",
       "5    False\n",
       "dtype: bool"
      ]
     },
     "execution_count": 75,
     "metadata": {},
     "output_type": "execute_result"
    }
   ],
   "source": [
    "dup_df.duplicated()"
   ]
  },
  {
   "cell_type": "markdown",
   "id": "4d75ad3f",
   "metadata": {},
   "source": [
    "Applying the sum function will return the number of duplicates."
   ]
  },
  {
   "cell_type": "code",
   "execution_count": 76,
   "id": "5c815ac1",
   "metadata": {},
   "outputs": [
    {
     "data": {
      "text/plain": [
       "2"
      ]
     },
     "execution_count": 76,
     "metadata": {},
     "output_type": "execute_result"
    }
   ],
   "source": [
    "dup_df.duplicated().sum()"
   ]
  },
  {
   "cell_type": "markdown",
   "id": "8e5bb0f6",
   "metadata": {},
   "source": [
    "When we have complete, the solution is to drop them completely from the DataFrame. But you have to decide which row to keep, the __first, the last or none__"
   ]
  },
  {
   "cell_type": "code",
   "execution_count": 77,
   "id": "3011d650",
   "metadata": {},
   "outputs": [
    {
     "data": {
      "text/html": [
       "<div>\n",
       "<style scoped>\n",
       "    .dataframe tbody tr th:only-of-type {\n",
       "        vertical-align: middle;\n",
       "    }\n",
       "\n",
       "    .dataframe tbody tr th {\n",
       "        vertical-align: top;\n",
       "    }\n",
       "\n",
       "    .dataframe thead th {\n",
       "        text-align: right;\n",
       "    }\n",
       "</style>\n",
       "<table border=\"1\" class=\"dataframe\">\n",
       "  <thead>\n",
       "    <tr style=\"text-align: right;\">\n",
       "      <th></th>\n",
       "      <th>Col_1</th>\n",
       "      <th>Col_2</th>\n",
       "      <th>Col_3</th>\n",
       "    </tr>\n",
       "  </thead>\n",
       "  <tbody>\n",
       "    <tr>\n",
       "      <th>0</th>\n",
       "      <td>3</td>\n",
       "      <td>3</td>\n",
       "      <td>3</td>\n",
       "    </tr>\n",
       "    <tr>\n",
       "      <th>1</th>\n",
       "      <td>2</td>\n",
       "      <td>1</td>\n",
       "      <td>2</td>\n",
       "    </tr>\n",
       "    <tr>\n",
       "      <th>2</th>\n",
       "      <td>5</td>\n",
       "      <td>4</td>\n",
       "      <td>5</td>\n",
       "    </tr>\n",
       "    <tr>\n",
       "      <th>5</th>\n",
       "      <td>1</td>\n",
       "      <td>2</td>\n",
       "      <td>3</td>\n",
       "    </tr>\n",
       "  </tbody>\n",
       "</table>\n",
       "</div>"
      ],
      "text/plain": [
       "   Col_1  Col_2  Col_3\n",
       "0      3      3      3\n",
       "1      2      1      2\n",
       "2      5      4      5\n",
       "5      1      2      3"
      ]
     },
     "execution_count": 77,
     "metadata": {},
     "output_type": "execute_result"
    }
   ],
   "source": [
    "dup_df.drop_duplicates(keep = 'first')"
   ]
  },
  {
   "cell_type": "markdown",
   "id": "82426365",
   "metadata": {},
   "source": [
    "The rows indexed 3 and 4 are dropped."
   ]
  },
  {
   "cell_type": "code",
   "execution_count": 78,
   "id": "eee16618",
   "metadata": {},
   "outputs": [
    {
     "data": {
      "text/html": [
       "<div>\n",
       "<style scoped>\n",
       "    .dataframe tbody tr th:only-of-type {\n",
       "        vertical-align: middle;\n",
       "    }\n",
       "\n",
       "    .dataframe tbody tr th {\n",
       "        vertical-align: top;\n",
       "    }\n",
       "\n",
       "    .dataframe thead th {\n",
       "        text-align: right;\n",
       "    }\n",
       "</style>\n",
       "<table border=\"1\" class=\"dataframe\">\n",
       "  <thead>\n",
       "    <tr style=\"text-align: right;\">\n",
       "      <th></th>\n",
       "      <th>Col_1</th>\n",
       "      <th>Col_2</th>\n",
       "      <th>Col_3</th>\n",
       "    </tr>\n",
       "  </thead>\n",
       "  <tbody>\n",
       "    <tr>\n",
       "      <th>1</th>\n",
       "      <td>2</td>\n",
       "      <td>1</td>\n",
       "      <td>2</td>\n",
       "    </tr>\n",
       "    <tr>\n",
       "      <th>3</th>\n",
       "      <td>3</td>\n",
       "      <td>3</td>\n",
       "      <td>3</td>\n",
       "    </tr>\n",
       "    <tr>\n",
       "      <th>4</th>\n",
       "      <td>5</td>\n",
       "      <td>4</td>\n",
       "      <td>5</td>\n",
       "    </tr>\n",
       "    <tr>\n",
       "      <th>5</th>\n",
       "      <td>1</td>\n",
       "      <td>2</td>\n",
       "      <td>3</td>\n",
       "    </tr>\n",
       "  </tbody>\n",
       "</table>\n",
       "</div>"
      ],
      "text/plain": [
       "   Col_1  Col_2  Col_3\n",
       "1      2      1      2\n",
       "3      3      3      3\n",
       "4      5      4      5\n",
       "5      1      2      3"
      ]
     },
     "execution_count": 78,
     "metadata": {},
     "output_type": "execute_result"
    }
   ],
   "source": [
    "dup_df.drop_duplicates(keep = 'last')"
   ]
  },
  {
   "cell_type": "markdown",
   "id": "aacb79f0",
   "metadata": {},
   "source": [
    "The rows indexed 0 and 2 are dropped."
   ]
  },
  {
   "cell_type": "code",
   "execution_count": 79,
   "id": "d5373032",
   "metadata": {},
   "outputs": [
    {
     "data": {
      "text/html": [
       "<div>\n",
       "<style scoped>\n",
       "    .dataframe tbody tr th:only-of-type {\n",
       "        vertical-align: middle;\n",
       "    }\n",
       "\n",
       "    .dataframe tbody tr th {\n",
       "        vertical-align: top;\n",
       "    }\n",
       "\n",
       "    .dataframe thead th {\n",
       "        text-align: right;\n",
       "    }\n",
       "</style>\n",
       "<table border=\"1\" class=\"dataframe\">\n",
       "  <thead>\n",
       "    <tr style=\"text-align: right;\">\n",
       "      <th></th>\n",
       "      <th>Col_1</th>\n",
       "      <th>Col_2</th>\n",
       "      <th>Col_3</th>\n",
       "    </tr>\n",
       "  </thead>\n",
       "  <tbody>\n",
       "    <tr>\n",
       "      <th>1</th>\n",
       "      <td>2</td>\n",
       "      <td>1</td>\n",
       "      <td>2</td>\n",
       "    </tr>\n",
       "    <tr>\n",
       "      <th>5</th>\n",
       "      <td>1</td>\n",
       "      <td>2</td>\n",
       "      <td>3</td>\n",
       "    </tr>\n",
       "  </tbody>\n",
       "</table>\n",
       "</div>"
      ],
      "text/plain": [
       "   Col_1  Col_2  Col_3\n",
       "1      2      1      2\n",
       "5      1      2      3"
      ]
     },
     "execution_count": 79,
     "metadata": {},
     "output_type": "execute_result"
    }
   ],
   "source": [
    "dup_df.drop_duplicates(keep = False)"
   ]
  },
  {
   "cell_type": "markdown",
   "id": "cd42ceb6",
   "metadata": {},
   "source": [
    "Only two columns are left, all other duplicates are dropped."
   ]
  },
  {
   "cell_type": "markdown",
   "id": "0b344746",
   "metadata": {},
   "source": [
    "# Pandas Apply Function\n",
    "\n",
    "   - One of the most eligant functionaly in Pandas is __apply function__.\n",
    "   \n",
    "   \n",
    "   - __Apply function__ has the same concetp as __apply family in R language__ \n",
    "   \n",
    "   \n",
    "   - __Apply function__ becomes more powerful when combined with __lambda function (unonymous function__). \n",
    "   \n",
    "   \n",
    "   - __Apply function__ enables broadcasting other functions on __DataFrame columns__. That is apply the function on each variable in the DataFrame."
   ]
  },
  {
   "cell_type": "markdown",
   "id": "9fa285fa",
   "metadata": {},
   "source": [
    "### Review of lambda function"
   ]
  },
  {
   "cell_type": "markdown",
   "id": "7ef72c53",
   "metadata": {},
   "source": [
    "   - **Functions created with lambda expression return another function**\n",
    "   \n",
    "   \n",
    "   - **lambda does not assign a name to the function, that is the reason is called anonymous (unnamed)**\n",
    "   \n",
    "   \n",
    "   - lambda functions are used as an inline function definition with map(), filter, apply() functions. \n",
    "\n",
    "   \n",
    "   - **lambdas body is a single expression, not a block of statements**\n",
    "\n",
    "### Lambda function syntax\n",
    "\n",
    "```python\n",
    "\n",
    "lambda arg1, arg1, ..., argN: expression using args\n",
    "    \n",
    "```"
   ]
  },
  {
   "cell_type": "markdown",
   "id": "f6ba23e7",
   "metadata": {},
   "source": [
    "### Lambda function examples"
   ]
  },
  {
   "cell_type": "code",
   "execution_count": 80,
   "id": "ada0b4b0",
   "metadata": {},
   "outputs": [
    {
     "data": {
      "text/plain": [
       "22"
      ]
     },
     "execution_count": 80,
     "metadata": {},
     "output_type": "execute_result"
    }
   ],
   "source": [
    "add_numbers = lambda x, y: x + y\n",
    "add_numbers(12,10)"
   ]
  },
  {
   "cell_type": "code",
   "execution_count": 81,
   "id": "01a519a0",
   "metadata": {},
   "outputs": [],
   "source": [
    "# Add bangs to strings\n",
    "add_bangs = lambda x : x +'!!!'"
   ]
  },
  {
   "cell_type": "code",
   "execution_count": 82,
   "id": "d7cdcf40",
   "metadata": {},
   "outputs": [
    {
     "data": {
      "text/plain": [
       "'Python Python Python Python Python '"
      ]
     },
     "execution_count": 82,
     "metadata": {},
     "output_type": "execute_result"
    }
   ],
   "source": [
    "# Repeating words\n",
    "rep_word = lambda word, rep: word * rep\n",
    "rep_word('Python ', 5)"
   ]
  },
  {
   "cell_type": "markdown",
   "id": "acae5473",
   "metadata": {},
   "source": [
    "### Scenarios of Applying Apply Function\n",
    "\n",
    "1. Doing calculation on a variable, we do that through two steps: \n",
    "\n",
    "    1. Creating a function (user defined function) or use a built-in function.\n",
    "    \n",
    "    2. Pass the created function as an argument to __apply function__.\n",
    "    \n",
    "here is the syntax\n",
    "\n",
    "```python \n",
    "\n",
    "df['var'].apply(user-defined function)\n",
    "or \n",
    "df['var'].apply(built-in function)\n",
    "```"
   ]
  },
  {
   "cell_type": "markdown",
   "id": "96ead541",
   "metadata": {},
   "source": [
    "### Using Apply function: Example 01 \n",
    "\n",
    "  - Square the second variable\n",
    "  - First, you write a function."
   ]
  },
  {
   "cell_type": "code",
   "execution_count": 83,
   "id": "ced8dc27",
   "metadata": {},
   "outputs": [],
   "source": [
    "def square(x):\n",
    "    return (x**2)"
   ]
  },
  {
   "cell_type": "markdown",
   "id": "7962ba13",
   "metadata": {},
   "source": [
    "- Second, apply the __apply function__ using the previously created function."
   ]
  },
  {
   "cell_type": "code",
   "execution_count": 84,
   "id": "8a4a0839",
   "metadata": {},
   "outputs": [
    {
     "data": {
      "text/plain": [
       "0    841\n",
       "1    484\n",
       "2    676\n",
       "3    841\n",
       "4    625\n",
       "5    729\n",
       "Name: VAR_2, dtype: int64"
      ]
     },
     "execution_count": 84,
     "metadata": {},
     "output_type": "execute_result"
    }
   ],
   "source": [
    "df['VAR_2'].apply(square)"
   ]
  },
  {
   "cell_type": "markdown",
   "id": "2708b813",
   "metadata": {},
   "source": [
    "2. Using builtin functions with apply function\n",
    "\n",
    "  - Feeding apply functions with __built-in functions__ is more common\n"
   ]
  },
  {
   "cell_type": "markdown",
   "id": "adc52c36",
   "metadata": {},
   "source": [
    "#### Using Apply function: Example 02\n",
    "\n",
    "  - Suppose we want to convert a column into a string. We pass __str__ function to apply"
   ]
  },
  {
   "cell_type": "code",
   "execution_count": 85,
   "id": "f43371b9",
   "metadata": {},
   "outputs": [
    {
     "data": {
      "text/plain": [
       "0    178\n",
       "1    150\n",
       "2     38\n",
       "3    136\n",
       "4     10\n",
       "5     24\n",
       "Name: VAR_3, dtype: object"
      ]
     },
     "execution_count": 85,
     "metadata": {},
     "output_type": "execute_result"
    }
   ],
   "source": [
    "df['VAR_3'].apply(str)"
   ]
  },
  {
   "cell_type": "markdown",
   "id": "9db33ab9",
   "metadata": {},
   "source": [
    "- What if we do not have what we need as a built-in function, and we don't want to write functions all the time. Because we use the needed function only __once__. \n",
    "\n",
    "    --> __lambda__ function is the solution to this situation"
   ]
  },
  {
   "cell_type": "markdown",
   "id": "3588a5af",
   "metadata": {},
   "source": [
    "### Using  Apply  with Lambda function Example\n",
    "\n",
    "   - We want to multipy the second variable by 5 and divide by 9. \n",
    "   \n",
    "Here is the syntax\n",
    "   \n",
    "```python \n",
    "df['var'].apply(lambda x: x*5 / 9) \n",
    "```"
   ]
  },
  {
   "cell_type": "code",
   "execution_count": 86,
   "id": "8b70e135",
   "metadata": {},
   "outputs": [
    {
     "data": {
      "text/plain": [
       "0    16.111111\n",
       "1    12.222222\n",
       "2    14.444444\n",
       "3    16.111111\n",
       "4    13.888889\n",
       "5    15.000000\n",
       "Name: VAR_2, dtype: float64"
      ]
     },
     "execution_count": 86,
     "metadata": {},
     "output_type": "execute_result"
    }
   ],
   "source": [
    "df['VAR_2'].apply(lambda v: v*5/9)"
   ]
  },
  {
   "cell_type": "markdown",
   "id": "97011bfe",
   "metadata": {},
   "source": [
    "**We combined two steps in one step thanks to lambda, and another step thanks to apply**"
   ]
  },
  {
   "cell_type": "markdown",
   "id": "986e30f7",
   "metadata": {},
   "source": [
    "#### Note:\n",
    "\n",
    "**We are not restricted to one variable, two or more are possible, here is an example of two variables**"
   ]
  },
  {
   "cell_type": "code",
   "execution_count": 87,
   "id": "da466371",
   "metadata": {},
   "outputs": [
    {
     "data": {
      "text/html": [
       "<div>\n",
       "<style scoped>\n",
       "    .dataframe tbody tr th:only-of-type {\n",
       "        vertical-align: middle;\n",
       "    }\n",
       "\n",
       "    .dataframe tbody tr th {\n",
       "        vertical-align: top;\n",
       "    }\n",
       "\n",
       "    .dataframe thead th {\n",
       "        text-align: right;\n",
       "    }\n",
       "</style>\n",
       "<table border=\"1\" class=\"dataframe\">\n",
       "  <thead>\n",
       "    <tr style=\"text-align: right;\">\n",
       "      <th></th>\n",
       "      <th>VAR_2</th>\n",
       "      <th>VAR_3</th>\n",
       "    </tr>\n",
       "  </thead>\n",
       "  <tbody>\n",
       "    <tr>\n",
       "      <th>0</th>\n",
       "      <td>16.111111</td>\n",
       "      <td>98.888889</td>\n",
       "    </tr>\n",
       "    <tr>\n",
       "      <th>1</th>\n",
       "      <td>12.222222</td>\n",
       "      <td>83.333333</td>\n",
       "    </tr>\n",
       "    <tr>\n",
       "      <th>2</th>\n",
       "      <td>14.444444</td>\n",
       "      <td>21.111111</td>\n",
       "    </tr>\n",
       "    <tr>\n",
       "      <th>3</th>\n",
       "      <td>16.111111</td>\n",
       "      <td>75.555556</td>\n",
       "    </tr>\n",
       "    <tr>\n",
       "      <th>4</th>\n",
       "      <td>13.888889</td>\n",
       "      <td>5.555556</td>\n",
       "    </tr>\n",
       "    <tr>\n",
       "      <th>5</th>\n",
       "      <td>15.000000</td>\n",
       "      <td>13.333333</td>\n",
       "    </tr>\n",
       "  </tbody>\n",
       "</table>\n",
       "</div>"
      ],
      "text/plain": [
       "       VAR_2      VAR_3\n",
       "0  16.111111  98.888889\n",
       "1  12.222222  83.333333\n",
       "2  14.444444  21.111111\n",
       "3  16.111111  75.555556\n",
       "4  13.888889   5.555556\n",
       "5  15.000000  13.333333"
      ]
     },
     "execution_count": 87,
     "metadata": {},
     "output_type": "execute_result"
    }
   ],
   "source": [
    "df[['VAR_2', 'VAR_3']].apply(lambda v: v*5/9)"
   ]
  },
  {
   "cell_type": "markdown",
   "id": "1163bfca",
   "metadata": {},
   "source": [
    "#### Note: \n",
    "\n",
    " - Chaining apply functions are possible. Here is an example. First we do some calculation then we format the results."
   ]
  },
  {
   "cell_type": "code",
   "execution_count": 88,
   "id": "4d709586",
   "metadata": {},
   "outputs": [
    {
     "data": {
      "text/plain": [
       "0    16.11\n",
       "1    12.22\n",
       "2    14.44\n",
       "3    16.11\n",
       "4    13.89\n",
       "5    15.00\n",
       "Name: VAR_2, dtype: object"
      ]
     },
     "execution_count": 88,
     "metadata": {},
     "output_type": "execute_result"
    }
   ],
   "source": [
    "df['VAR_2'].apply(lambda v: v*5/9).apply(lambda x: '%2.2f' % x)"
   ]
  },
  {
   "cell_type": "markdown",
   "id": "c1e994fd",
   "metadata": {},
   "source": [
    "### Element-wise applymap function\n",
    "\n",
    "   - To perform element-wise operations on a DataFrame object, use __applymap__ function. For Series objects there is a __map__ function. That is the reason the pandas developers had to change the name to applymap to distinguish between the Series and DataFrame functions."
   ]
  },
  {
   "cell_type": "markdown",
   "id": "51e1a69c",
   "metadata": {},
   "source": [
    "We are going tho string format the previous example"
   ]
  },
  {
   "cell_type": "code",
   "execution_count": 89,
   "id": "c28c91ef",
   "metadata": {},
   "outputs": [
    {
     "data": {
      "text/html": [
       "<div>\n",
       "<style scoped>\n",
       "    .dataframe tbody tr th:only-of-type {\n",
       "        vertical-align: middle;\n",
       "    }\n",
       "\n",
       "    .dataframe tbody tr th {\n",
       "        vertical-align: top;\n",
       "    }\n",
       "\n",
       "    .dataframe thead th {\n",
       "        text-align: right;\n",
       "    }\n",
       "</style>\n",
       "<table border=\"1\" class=\"dataframe\">\n",
       "  <thead>\n",
       "    <tr style=\"text-align: right;\">\n",
       "      <th></th>\n",
       "      <th>VAR_1</th>\n",
       "      <th>VAR_2</th>\n",
       "      <th>VAR_3</th>\n",
       "    </tr>\n",
       "  </thead>\n",
       "  <tbody>\n",
       "    <tr>\n",
       "      <th>0</th>\n",
       "      <td>0.555556</td>\n",
       "      <td>16.111111</td>\n",
       "      <td>98.888889</td>\n",
       "    </tr>\n",
       "    <tr>\n",
       "      <th>1</th>\n",
       "      <td>1.111111</td>\n",
       "      <td>12.222222</td>\n",
       "      <td>83.333333</td>\n",
       "    </tr>\n",
       "    <tr>\n",
       "      <th>2</th>\n",
       "      <td>1.666667</td>\n",
       "      <td>14.444444</td>\n",
       "      <td>21.111111</td>\n",
       "    </tr>\n",
       "    <tr>\n",
       "      <th>3</th>\n",
       "      <td>2.222222</td>\n",
       "      <td>16.111111</td>\n",
       "      <td>75.555556</td>\n",
       "    </tr>\n",
       "    <tr>\n",
       "      <th>4</th>\n",
       "      <td>2.777778</td>\n",
       "      <td>13.888889</td>\n",
       "      <td>5.555556</td>\n",
       "    </tr>\n",
       "    <tr>\n",
       "      <th>5</th>\n",
       "      <td>3.333333</td>\n",
       "      <td>15.000000</td>\n",
       "      <td>13.333333</td>\n",
       "    </tr>\n",
       "  </tbody>\n",
       "</table>\n",
       "</div>"
      ],
      "text/plain": [
       "      VAR_1      VAR_2      VAR_3\n",
       "0  0.555556  16.111111  98.888889\n",
       "1  1.111111  12.222222  83.333333\n",
       "2  1.666667  14.444444  21.111111\n",
       "3  2.222222  16.111111  75.555556\n",
       "4  2.777778  13.888889   5.555556\n",
       "5  3.333333  15.000000  13.333333"
      ]
     },
     "execution_count": 89,
     "metadata": {},
     "output_type": "execute_result"
    }
   ],
   "source": [
    "res = df.apply(lambda v: v*5/9)\n",
    "res"
   ]
  },
  {
   "cell_type": "code",
   "execution_count": 90,
   "id": "99d56832",
   "metadata": {},
   "outputs": [],
   "source": [
    "fmt = lambda x: '%.2f' % x"
   ]
  },
  {
   "cell_type": "code",
   "execution_count": 91,
   "id": "a1502dd3",
   "metadata": {},
   "outputs": [
    {
     "data": {
      "text/html": [
       "<div>\n",
       "<style scoped>\n",
       "    .dataframe tbody tr th:only-of-type {\n",
       "        vertical-align: middle;\n",
       "    }\n",
       "\n",
       "    .dataframe tbody tr th {\n",
       "        vertical-align: top;\n",
       "    }\n",
       "\n",
       "    .dataframe thead th {\n",
       "        text-align: right;\n",
       "    }\n",
       "</style>\n",
       "<table border=\"1\" class=\"dataframe\">\n",
       "  <thead>\n",
       "    <tr style=\"text-align: right;\">\n",
       "      <th></th>\n",
       "      <th>VAR_1</th>\n",
       "      <th>VAR_2</th>\n",
       "      <th>VAR_3</th>\n",
       "    </tr>\n",
       "  </thead>\n",
       "  <tbody>\n",
       "    <tr>\n",
       "      <th>0</th>\n",
       "      <td>0.56</td>\n",
       "      <td>16.11</td>\n",
       "      <td>98.89</td>\n",
       "    </tr>\n",
       "    <tr>\n",
       "      <th>1</th>\n",
       "      <td>1.11</td>\n",
       "      <td>12.22</td>\n",
       "      <td>83.33</td>\n",
       "    </tr>\n",
       "    <tr>\n",
       "      <th>2</th>\n",
       "      <td>1.67</td>\n",
       "      <td>14.44</td>\n",
       "      <td>21.11</td>\n",
       "    </tr>\n",
       "    <tr>\n",
       "      <th>3</th>\n",
       "      <td>2.22</td>\n",
       "      <td>16.11</td>\n",
       "      <td>75.56</td>\n",
       "    </tr>\n",
       "    <tr>\n",
       "      <th>4</th>\n",
       "      <td>2.78</td>\n",
       "      <td>13.89</td>\n",
       "      <td>5.56</td>\n",
       "    </tr>\n",
       "    <tr>\n",
       "      <th>5</th>\n",
       "      <td>3.33</td>\n",
       "      <td>15.00</td>\n",
       "      <td>13.33</td>\n",
       "    </tr>\n",
       "  </tbody>\n",
       "</table>\n",
       "</div>"
      ],
      "text/plain": [
       "  VAR_1  VAR_2  VAR_3\n",
       "0  0.56  16.11  98.89\n",
       "1  1.11  12.22  83.33\n",
       "2  1.67  14.44  21.11\n",
       "3  2.22  16.11  75.56\n",
       "4  2.78  13.89   5.56\n",
       "5  3.33  15.00  13.33"
      ]
     },
     "execution_count": 91,
     "metadata": {},
     "output_type": "execute_result"
    }
   ],
   "source": [
    "res.applymap(fmt)"
   ]
  },
  {
   "cell_type": "markdown",
   "id": "ce20321a",
   "metadata": {},
   "source": [
    "We can do it in one step, that is the purpose of using lambda function. But, if you are willing to use this function many times in the code, it is best to save it as an object."
   ]
  },
  {
   "cell_type": "code",
   "execution_count": 92,
   "id": "a493c1e6",
   "metadata": {},
   "outputs": [
    {
     "data": {
      "text/html": [
       "<div>\n",
       "<style scoped>\n",
       "    .dataframe tbody tr th:only-of-type {\n",
       "        vertical-align: middle;\n",
       "    }\n",
       "\n",
       "    .dataframe tbody tr th {\n",
       "        vertical-align: top;\n",
       "    }\n",
       "\n",
       "    .dataframe thead th {\n",
       "        text-align: right;\n",
       "    }\n",
       "</style>\n",
       "<table border=\"1\" class=\"dataframe\">\n",
       "  <thead>\n",
       "    <tr style=\"text-align: right;\">\n",
       "      <th></th>\n",
       "      <th>VAR_1</th>\n",
       "      <th>VAR_2</th>\n",
       "      <th>VAR_3</th>\n",
       "    </tr>\n",
       "  </thead>\n",
       "  <tbody>\n",
       "    <tr>\n",
       "      <th>0</th>\n",
       "      <td>0.56</td>\n",
       "      <td>16.11</td>\n",
       "      <td>98.89</td>\n",
       "    </tr>\n",
       "    <tr>\n",
       "      <th>1</th>\n",
       "      <td>1.11</td>\n",
       "      <td>12.22</td>\n",
       "      <td>83.33</td>\n",
       "    </tr>\n",
       "    <tr>\n",
       "      <th>2</th>\n",
       "      <td>1.67</td>\n",
       "      <td>14.44</td>\n",
       "      <td>21.11</td>\n",
       "    </tr>\n",
       "    <tr>\n",
       "      <th>3</th>\n",
       "      <td>2.22</td>\n",
       "      <td>16.11</td>\n",
       "      <td>75.56</td>\n",
       "    </tr>\n",
       "    <tr>\n",
       "      <th>4</th>\n",
       "      <td>2.78</td>\n",
       "      <td>13.89</td>\n",
       "      <td>5.56</td>\n",
       "    </tr>\n",
       "    <tr>\n",
       "      <th>5</th>\n",
       "      <td>3.33</td>\n",
       "      <td>15.00</td>\n",
       "      <td>13.33</td>\n",
       "    </tr>\n",
       "  </tbody>\n",
       "</table>\n",
       "</div>"
      ],
      "text/plain": [
       "  VAR_1  VAR_2  VAR_3\n",
       "0  0.56  16.11  98.89\n",
       "1  1.11  12.22  83.33\n",
       "2  1.67  14.44  21.11\n",
       "3  2.22  16.11  75.56\n",
       "4  2.78  13.89   5.56\n",
       "5  3.33  15.00  13.33"
      ]
     },
     "execution_count": 92,
     "metadata": {},
     "output_type": "execute_result"
    }
   ],
   "source": [
    "res.applymap(lambda x: '%.2f' % x)"
   ]
  },
  {
   "cell_type": "markdown",
   "id": "af6d950b",
   "metadata": {},
   "source": [
    "# Sorting DataFrames\n",
    "\n",
    "Because DataFrames are indexed objects, therefore the sorting will take place through indexes or through values. \n",
    "\n",
    "## Index Sorting\n",
    "\n",
    " - First we consider sorting a DataFrame object by __index__\n",
    " \n",
    " - We perform sorting by index using __sort_index__ method\n",
    " \n",
    " - __sort_index__ method has many options: \n",
    " \n",
    "     - **Axis** axis = 0 or sorting rows by default, set __axis = 1__ for sorting by columns.\n",
    "     \n",
    "     - **Ascending**: is True by default, set __ascending = False__ to achieve descending sort.\n",
    "     - **Inplace**: False by default, set __inplace = True__ for permanent change. \n",
    "     \n",
    "Here is the syntax:\n",
    "```python\n",
    "\n",
    "df.sort_index()                      ---> default\n",
    "df.sort_index(axis=1)                ---> Sorting by column-index\n",
    "df.sort_index(ascending = False)     ---> Descending sorting\n",
    "df.sort_index(inplace=True).         ---> Permanent change\n",
    "# For docs\n",
    "df.sort_index?\n",
    "```"
   ]
  },
  {
   "cell_type": "markdown",
   "id": "2d6e864c",
   "metadata": {},
   "source": [
    "### Sorting by index example"
   ]
  },
  {
   "cell_type": "code",
   "execution_count": 93,
   "id": "12073edb",
   "metadata": {},
   "outputs": [
    {
     "data": {
      "text/html": [
       "<div>\n",
       "<style scoped>\n",
       "    .dataframe tbody tr th:only-of-type {\n",
       "        vertical-align: middle;\n",
       "    }\n",
       "\n",
       "    .dataframe tbody tr th {\n",
       "        vertical-align: top;\n",
       "    }\n",
       "\n",
       "    .dataframe thead th {\n",
       "        text-align: right;\n",
       "    }\n",
       "</style>\n",
       "<table border=\"1\" class=\"dataframe\">\n",
       "  <thead>\n",
       "    <tr style=\"text-align: right;\">\n",
       "      <th></th>\n",
       "      <th>D</th>\n",
       "      <th>C</th>\n",
       "      <th>B</th>\n",
       "      <th>A</th>\n",
       "    </tr>\n",
       "  </thead>\n",
       "  <tbody>\n",
       "    <tr>\n",
       "      <th>e</th>\n",
       "      <td>75</td>\n",
       "      <td>24</td>\n",
       "      <td>22</td>\n",
       "      <td>32</td>\n",
       "    </tr>\n",
       "    <tr>\n",
       "      <th>f</th>\n",
       "      <td>53</td>\n",
       "      <td>51</td>\n",
       "      <td>77</td>\n",
       "      <td>42</td>\n",
       "    </tr>\n",
       "    <tr>\n",
       "      <th>a</th>\n",
       "      <td>24</td>\n",
       "      <td>34</td>\n",
       "      <td>26</td>\n",
       "      <td>40</td>\n",
       "    </tr>\n",
       "    <tr>\n",
       "      <th>c</th>\n",
       "      <td>47</td>\n",
       "      <td>84</td>\n",
       "      <td>2</td>\n",
       "      <td>74</td>\n",
       "    </tr>\n",
       "    <tr>\n",
       "      <th>b</th>\n",
       "      <td>75</td>\n",
       "      <td>52</td>\n",
       "      <td>61</td>\n",
       "      <td>80</td>\n",
       "    </tr>\n",
       "    <tr>\n",
       "      <th>g</th>\n",
       "      <td>3</td>\n",
       "      <td>58</td>\n",
       "      <td>28</td>\n",
       "      <td>43</td>\n",
       "    </tr>\n",
       "    <tr>\n",
       "      <th>d</th>\n",
       "      <td>99</td>\n",
       "      <td>34</td>\n",
       "      <td>50</td>\n",
       "      <td>38</td>\n",
       "    </tr>\n",
       "  </tbody>\n",
       "</table>\n",
       "</div>"
      ],
      "text/plain": [
       "    D   C   B   A\n",
       "e  75  24  22  32\n",
       "f  53  51  77  42\n",
       "a  24  34  26  40\n",
       "c  47  84   2  74\n",
       "b  75  52  61  80\n",
       "g   3  58  28  43\n",
       "d  99  34  50  38"
      ]
     },
     "execution_count": 93,
     "metadata": {},
     "output_type": "execute_result"
    }
   ],
   "source": [
    "ind = list(ascii_letters)[:7]\n",
    "shuffle(ind)\n",
    "\n",
    "cols = list(ascii_uppercase)[:4]\n",
    "shuffle(cols)\n",
    "\n",
    "dat = np.array(choices(range(100), k = 28)).reshape(7, 4)\n",
    "ind_df = pd.DataFrame(dat, index = ind, columns = cols)\n",
    "ind_df"
   ]
  },
  {
   "cell_type": "markdown",
   "id": "8dc05e40",
   "metadata": {},
   "source": [
    "### 1. Sorting by index by row "
   ]
  },
  {
   "cell_type": "code",
   "execution_count": 94,
   "id": "e2b22b8c",
   "metadata": {},
   "outputs": [
    {
     "data": {
      "text/html": [
       "<div>\n",
       "<style scoped>\n",
       "    .dataframe tbody tr th:only-of-type {\n",
       "        vertical-align: middle;\n",
       "    }\n",
       "\n",
       "    .dataframe tbody tr th {\n",
       "        vertical-align: top;\n",
       "    }\n",
       "\n",
       "    .dataframe thead th {\n",
       "        text-align: right;\n",
       "    }\n",
       "</style>\n",
       "<table border=\"1\" class=\"dataframe\">\n",
       "  <thead>\n",
       "    <tr style=\"text-align: right;\">\n",
       "      <th></th>\n",
       "      <th>D</th>\n",
       "      <th>C</th>\n",
       "      <th>B</th>\n",
       "      <th>A</th>\n",
       "    </tr>\n",
       "  </thead>\n",
       "  <tbody>\n",
       "    <tr>\n",
       "      <th>a</th>\n",
       "      <td>24</td>\n",
       "      <td>34</td>\n",
       "      <td>26</td>\n",
       "      <td>40</td>\n",
       "    </tr>\n",
       "    <tr>\n",
       "      <th>b</th>\n",
       "      <td>75</td>\n",
       "      <td>52</td>\n",
       "      <td>61</td>\n",
       "      <td>80</td>\n",
       "    </tr>\n",
       "    <tr>\n",
       "      <th>c</th>\n",
       "      <td>47</td>\n",
       "      <td>84</td>\n",
       "      <td>2</td>\n",
       "      <td>74</td>\n",
       "    </tr>\n",
       "    <tr>\n",
       "      <th>d</th>\n",
       "      <td>99</td>\n",
       "      <td>34</td>\n",
       "      <td>50</td>\n",
       "      <td>38</td>\n",
       "    </tr>\n",
       "    <tr>\n",
       "      <th>e</th>\n",
       "      <td>75</td>\n",
       "      <td>24</td>\n",
       "      <td>22</td>\n",
       "      <td>32</td>\n",
       "    </tr>\n",
       "    <tr>\n",
       "      <th>f</th>\n",
       "      <td>53</td>\n",
       "      <td>51</td>\n",
       "      <td>77</td>\n",
       "      <td>42</td>\n",
       "    </tr>\n",
       "    <tr>\n",
       "      <th>g</th>\n",
       "      <td>3</td>\n",
       "      <td>58</td>\n",
       "      <td>28</td>\n",
       "      <td>43</td>\n",
       "    </tr>\n",
       "  </tbody>\n",
       "</table>\n",
       "</div>"
      ],
      "text/plain": [
       "    D   C   B   A\n",
       "a  24  34  26  40\n",
       "b  75  52  61  80\n",
       "c  47  84   2  74\n",
       "d  99  34  50  38\n",
       "e  75  24  22  32\n",
       "f  53  51  77  42\n",
       "g   3  58  28  43"
      ]
     },
     "execution_count": 94,
     "metadata": {},
     "output_type": "execute_result"
    }
   ],
   "source": [
    "# The default behavior\n",
    "ind_df.sort_index()"
   ]
  },
  {
   "cell_type": "markdown",
   "id": "b3e1875d",
   "metadata": {},
   "source": [
    "### 2. Sorting by index by columns"
   ]
  },
  {
   "cell_type": "code",
   "execution_count": 95,
   "id": "26572aaa",
   "metadata": {},
   "outputs": [
    {
     "data": {
      "text/html": [
       "<div>\n",
       "<style scoped>\n",
       "    .dataframe tbody tr th:only-of-type {\n",
       "        vertical-align: middle;\n",
       "    }\n",
       "\n",
       "    .dataframe tbody tr th {\n",
       "        vertical-align: top;\n",
       "    }\n",
       "\n",
       "    .dataframe thead th {\n",
       "        text-align: right;\n",
       "    }\n",
       "</style>\n",
       "<table border=\"1\" class=\"dataframe\">\n",
       "  <thead>\n",
       "    <tr style=\"text-align: right;\">\n",
       "      <th></th>\n",
       "      <th>A</th>\n",
       "      <th>B</th>\n",
       "      <th>C</th>\n",
       "      <th>D</th>\n",
       "    </tr>\n",
       "  </thead>\n",
       "  <tbody>\n",
       "    <tr>\n",
       "      <th>e</th>\n",
       "      <td>32</td>\n",
       "      <td>22</td>\n",
       "      <td>24</td>\n",
       "      <td>75</td>\n",
       "    </tr>\n",
       "    <tr>\n",
       "      <th>f</th>\n",
       "      <td>42</td>\n",
       "      <td>77</td>\n",
       "      <td>51</td>\n",
       "      <td>53</td>\n",
       "    </tr>\n",
       "    <tr>\n",
       "      <th>a</th>\n",
       "      <td>40</td>\n",
       "      <td>26</td>\n",
       "      <td>34</td>\n",
       "      <td>24</td>\n",
       "    </tr>\n",
       "    <tr>\n",
       "      <th>c</th>\n",
       "      <td>74</td>\n",
       "      <td>2</td>\n",
       "      <td>84</td>\n",
       "      <td>47</td>\n",
       "    </tr>\n",
       "    <tr>\n",
       "      <th>b</th>\n",
       "      <td>80</td>\n",
       "      <td>61</td>\n",
       "      <td>52</td>\n",
       "      <td>75</td>\n",
       "    </tr>\n",
       "    <tr>\n",
       "      <th>g</th>\n",
       "      <td>43</td>\n",
       "      <td>28</td>\n",
       "      <td>58</td>\n",
       "      <td>3</td>\n",
       "    </tr>\n",
       "    <tr>\n",
       "      <th>d</th>\n",
       "      <td>38</td>\n",
       "      <td>50</td>\n",
       "      <td>34</td>\n",
       "      <td>99</td>\n",
       "    </tr>\n",
       "  </tbody>\n",
       "</table>\n",
       "</div>"
      ],
      "text/plain": [
       "    A   B   C   D\n",
       "e  32  22  24  75\n",
       "f  42  77  51  53\n",
       "a  40  26  34  24\n",
       "c  74   2  84  47\n",
       "b  80  61  52  75\n",
       "g  43  28  58   3\n",
       "d  38  50  34  99"
      ]
     },
     "execution_count": 95,
     "metadata": {},
     "output_type": "execute_result"
    }
   ],
   "source": [
    "# input axis=1\n",
    "ind_df.sort_index(axis = 1)"
   ]
  },
  {
   "cell_type": "markdown",
   "id": "86cc4316",
   "metadata": {},
   "source": [
    "### 3. Sorting by index by rows or columns in descending order"
   ]
  },
  {
   "cell_type": "code",
   "execution_count": 96,
   "id": "846b8073",
   "metadata": {},
   "outputs": [
    {
     "data": {
      "text/html": [
       "<div>\n",
       "<style scoped>\n",
       "    .dataframe tbody tr th:only-of-type {\n",
       "        vertical-align: middle;\n",
       "    }\n",
       "\n",
       "    .dataframe tbody tr th {\n",
       "        vertical-align: top;\n",
       "    }\n",
       "\n",
       "    .dataframe thead th {\n",
       "        text-align: right;\n",
       "    }\n",
       "</style>\n",
       "<table border=\"1\" class=\"dataframe\">\n",
       "  <thead>\n",
       "    <tr style=\"text-align: right;\">\n",
       "      <th></th>\n",
       "      <th>D</th>\n",
       "      <th>C</th>\n",
       "      <th>B</th>\n",
       "      <th>A</th>\n",
       "    </tr>\n",
       "  </thead>\n",
       "  <tbody>\n",
       "    <tr>\n",
       "      <th>g</th>\n",
       "      <td>3</td>\n",
       "      <td>58</td>\n",
       "      <td>28</td>\n",
       "      <td>43</td>\n",
       "    </tr>\n",
       "    <tr>\n",
       "      <th>f</th>\n",
       "      <td>53</td>\n",
       "      <td>51</td>\n",
       "      <td>77</td>\n",
       "      <td>42</td>\n",
       "    </tr>\n",
       "    <tr>\n",
       "      <th>e</th>\n",
       "      <td>75</td>\n",
       "      <td>24</td>\n",
       "      <td>22</td>\n",
       "      <td>32</td>\n",
       "    </tr>\n",
       "    <tr>\n",
       "      <th>d</th>\n",
       "      <td>99</td>\n",
       "      <td>34</td>\n",
       "      <td>50</td>\n",
       "      <td>38</td>\n",
       "    </tr>\n",
       "    <tr>\n",
       "      <th>c</th>\n",
       "      <td>47</td>\n",
       "      <td>84</td>\n",
       "      <td>2</td>\n",
       "      <td>74</td>\n",
       "    </tr>\n",
       "    <tr>\n",
       "      <th>b</th>\n",
       "      <td>75</td>\n",
       "      <td>52</td>\n",
       "      <td>61</td>\n",
       "      <td>80</td>\n",
       "    </tr>\n",
       "    <tr>\n",
       "      <th>a</th>\n",
       "      <td>24</td>\n",
       "      <td>34</td>\n",
       "      <td>26</td>\n",
       "      <td>40</td>\n",
       "    </tr>\n",
       "  </tbody>\n",
       "</table>\n",
       "</div>"
      ],
      "text/plain": [
       "    D   C   B   A\n",
       "g   3  58  28  43\n",
       "f  53  51  77  42\n",
       "e  75  24  22  32\n",
       "d  99  34  50  38\n",
       "c  47  84   2  74\n",
       "b  75  52  61  80\n",
       "a  24  34  26  40"
      ]
     },
     "execution_count": 96,
     "metadata": {},
     "output_type": "execute_result"
    }
   ],
   "source": [
    "# By row index in descending order\n",
    "ind_df.sort_index(ascending =False)"
   ]
  },
  {
   "cell_type": "code",
   "execution_count": 97,
   "id": "82da71d0",
   "metadata": {},
   "outputs": [
    {
     "data": {
      "text/html": [
       "<div>\n",
       "<style scoped>\n",
       "    .dataframe tbody tr th:only-of-type {\n",
       "        vertical-align: middle;\n",
       "    }\n",
       "\n",
       "    .dataframe tbody tr th {\n",
       "        vertical-align: top;\n",
       "    }\n",
       "\n",
       "    .dataframe thead th {\n",
       "        text-align: right;\n",
       "    }\n",
       "</style>\n",
       "<table border=\"1\" class=\"dataframe\">\n",
       "  <thead>\n",
       "    <tr style=\"text-align: right;\">\n",
       "      <th></th>\n",
       "      <th>D</th>\n",
       "      <th>C</th>\n",
       "      <th>B</th>\n",
       "      <th>A</th>\n",
       "    </tr>\n",
       "  </thead>\n",
       "  <tbody>\n",
       "    <tr>\n",
       "      <th>e</th>\n",
       "      <td>75</td>\n",
       "      <td>24</td>\n",
       "      <td>22</td>\n",
       "      <td>32</td>\n",
       "    </tr>\n",
       "    <tr>\n",
       "      <th>f</th>\n",
       "      <td>53</td>\n",
       "      <td>51</td>\n",
       "      <td>77</td>\n",
       "      <td>42</td>\n",
       "    </tr>\n",
       "    <tr>\n",
       "      <th>a</th>\n",
       "      <td>24</td>\n",
       "      <td>34</td>\n",
       "      <td>26</td>\n",
       "      <td>40</td>\n",
       "    </tr>\n",
       "    <tr>\n",
       "      <th>c</th>\n",
       "      <td>47</td>\n",
       "      <td>84</td>\n",
       "      <td>2</td>\n",
       "      <td>74</td>\n",
       "    </tr>\n",
       "    <tr>\n",
       "      <th>b</th>\n",
       "      <td>75</td>\n",
       "      <td>52</td>\n",
       "      <td>61</td>\n",
       "      <td>80</td>\n",
       "    </tr>\n",
       "    <tr>\n",
       "      <th>g</th>\n",
       "      <td>3</td>\n",
       "      <td>58</td>\n",
       "      <td>28</td>\n",
       "      <td>43</td>\n",
       "    </tr>\n",
       "    <tr>\n",
       "      <th>d</th>\n",
       "      <td>99</td>\n",
       "      <td>34</td>\n",
       "      <td>50</td>\n",
       "      <td>38</td>\n",
       "    </tr>\n",
       "  </tbody>\n",
       "</table>\n",
       "</div>"
      ],
      "text/plain": [
       "    D   C   B   A\n",
       "e  75  24  22  32\n",
       "f  53  51  77  42\n",
       "a  24  34  26  40\n",
       "c  47  84   2  74\n",
       "b  75  52  61  80\n",
       "g   3  58  28  43\n",
       "d  99  34  50  38"
      ]
     },
     "execution_count": 97,
     "metadata": {},
     "output_type": "execute_result"
    }
   ],
   "source": [
    "# By columns index in descending order\n",
    "ind_df.sort_index(axis =1, ascending =False)"
   ]
  },
  {
   "cell_type": "markdown",
   "id": "13cb1612",
   "metadata": {},
   "source": [
    "### 4. By row index and column index and inplace"
   ]
  },
  {
   "cell_type": "code",
   "execution_count": 98,
   "id": "e9630384",
   "metadata": {},
   "outputs": [
    {
     "data": {
      "text/html": [
       "<div>\n",
       "<style scoped>\n",
       "    .dataframe tbody tr th:only-of-type {\n",
       "        vertical-align: middle;\n",
       "    }\n",
       "\n",
       "    .dataframe tbody tr th {\n",
       "        vertical-align: top;\n",
       "    }\n",
       "\n",
       "    .dataframe thead th {\n",
       "        text-align: right;\n",
       "    }\n",
       "</style>\n",
       "<table border=\"1\" class=\"dataframe\">\n",
       "  <thead>\n",
       "    <tr style=\"text-align: right;\">\n",
       "      <th></th>\n",
       "      <th>A</th>\n",
       "      <th>B</th>\n",
       "      <th>C</th>\n",
       "      <th>D</th>\n",
       "    </tr>\n",
       "  </thead>\n",
       "  <tbody>\n",
       "    <tr>\n",
       "      <th>a</th>\n",
       "      <td>40</td>\n",
       "      <td>26</td>\n",
       "      <td>34</td>\n",
       "      <td>24</td>\n",
       "    </tr>\n",
       "    <tr>\n",
       "      <th>b</th>\n",
       "      <td>80</td>\n",
       "      <td>61</td>\n",
       "      <td>52</td>\n",
       "      <td>75</td>\n",
       "    </tr>\n",
       "    <tr>\n",
       "      <th>c</th>\n",
       "      <td>74</td>\n",
       "      <td>2</td>\n",
       "      <td>84</td>\n",
       "      <td>47</td>\n",
       "    </tr>\n",
       "    <tr>\n",
       "      <th>d</th>\n",
       "      <td>38</td>\n",
       "      <td>50</td>\n",
       "      <td>34</td>\n",
       "      <td>99</td>\n",
       "    </tr>\n",
       "    <tr>\n",
       "      <th>e</th>\n",
       "      <td>32</td>\n",
       "      <td>22</td>\n",
       "      <td>24</td>\n",
       "      <td>75</td>\n",
       "    </tr>\n",
       "    <tr>\n",
       "      <th>f</th>\n",
       "      <td>42</td>\n",
       "      <td>77</td>\n",
       "      <td>51</td>\n",
       "      <td>53</td>\n",
       "    </tr>\n",
       "    <tr>\n",
       "      <th>g</th>\n",
       "      <td>43</td>\n",
       "      <td>28</td>\n",
       "      <td>58</td>\n",
       "      <td>3</td>\n",
       "    </tr>\n",
       "  </tbody>\n",
       "</table>\n",
       "</div>"
      ],
      "text/plain": [
       "    A   B   C   D\n",
       "a  40  26  34  24\n",
       "b  80  61  52  75\n",
       "c  74   2  84  47\n",
       "d  38  50  34  99\n",
       "e  32  22  24  75\n",
       "f  42  77  51  53\n",
       "g  43  28  58   3"
      ]
     },
     "execution_count": 98,
     "metadata": {},
     "output_type": "execute_result"
    }
   ],
   "source": [
    "ind_df.sort_index(axis = 0, inplace = True)\n",
    "ind_df.sort_index(axis = 1, inplace = True)\n",
    "ind_df"
   ]
  },
  {
   "cell_type": "markdown",
   "id": "1492caf6",
   "metadata": {},
   "source": [
    "###  Values Sorting\n",
    "\n",
    "  - Another common task in data analysis is sorting values in ascending or descending order.\n",
    "  \n",
    "  - Sorting values is performed using __sort_values__ method\n",
    "  \n",
    "  - Sorting a DataFrame values requires one or more variables to sort by\n",
    "  \n",
    "  - __sort_values__ has several options:\n",
    "  \n",
    "      - **By**: a column or a list of columns to sort the data by.\n",
    "      - **axis**: sorting values is performed by rows by default, setting __axis = 1__ will sort along columns.\n",
    "      - **ascending**: Sorting is in an ascending order by default, set __ascending = False__ to perform descending sorting.\n",
    "      \n",
    "      - **na_position**: missing values are put last in the DataFrame by default. set __na_position= 'first__ to put in the first rows.\n",
    "      \n",
    "      - **inplace**: False by default, settting it True (__inplace=True__) will override the original data.\n",
    "\n",
    "Here is the syntax:\n",
    "```python\n",
    "df.sort_values(by ='col-name')                     ---> sorting values by one column\n",
    "\n",
    "df.sort_values(by = ['col_1', 'col_2', ...])       ---> Sorting by more columns\n",
    "\n",
    "df.sort_values(by = 'col-name', ascending = False) ---> Sorting in descending order\n",
    "\n",
    "df.sort_values(by='col-names', inplace = True).    ---> permanent change\n",
    "\n",
    "df.sort_values(by ='col',  na_position ='first')   ---> missing values first\n",
    "\n",
    "df.sort_values(by='col', ascending=False, inplace = True) \n",
    "\n",
    "      ==> Change the original data to be sorted in descending order by one column.\n",
    "```"
   ]
  },
  {
   "cell_type": "markdown",
   "id": "6a055538",
   "metadata": {},
   "source": [
    "### Sorting by values examples\n",
    "\n",
    "  We use the previous example used in sorting by index to work with"
   ]
  },
  {
   "cell_type": "code",
   "execution_count": 99,
   "id": "5ee0862a",
   "metadata": {},
   "outputs": [
    {
     "data": {
      "text/html": [
       "<div>\n",
       "<style scoped>\n",
       "    .dataframe tbody tr th:only-of-type {\n",
       "        vertical-align: middle;\n",
       "    }\n",
       "\n",
       "    .dataframe tbody tr th {\n",
       "        vertical-align: top;\n",
       "    }\n",
       "\n",
       "    .dataframe thead th {\n",
       "        text-align: right;\n",
       "    }\n",
       "</style>\n",
       "<table border=\"1\" class=\"dataframe\">\n",
       "  <thead>\n",
       "    <tr style=\"text-align: right;\">\n",
       "      <th></th>\n",
       "      <th>A</th>\n",
       "      <th>B</th>\n",
       "      <th>C</th>\n",
       "      <th>D</th>\n",
       "    </tr>\n",
       "  </thead>\n",
       "  <tbody>\n",
       "    <tr>\n",
       "      <th>a</th>\n",
       "      <td>40</td>\n",
       "      <td>26</td>\n",
       "      <td>34</td>\n",
       "      <td>24</td>\n",
       "    </tr>\n",
       "    <tr>\n",
       "      <th>b</th>\n",
       "      <td>80</td>\n",
       "      <td>61</td>\n",
       "      <td>52</td>\n",
       "      <td>75</td>\n",
       "    </tr>\n",
       "    <tr>\n",
       "      <th>c</th>\n",
       "      <td>74</td>\n",
       "      <td>2</td>\n",
       "      <td>84</td>\n",
       "      <td>47</td>\n",
       "    </tr>\n",
       "    <tr>\n",
       "      <th>d</th>\n",
       "      <td>38</td>\n",
       "      <td>50</td>\n",
       "      <td>34</td>\n",
       "      <td>99</td>\n",
       "    </tr>\n",
       "    <tr>\n",
       "      <th>e</th>\n",
       "      <td>32</td>\n",
       "      <td>22</td>\n",
       "      <td>24</td>\n",
       "      <td>75</td>\n",
       "    </tr>\n",
       "  </tbody>\n",
       "</table>\n",
       "</div>"
      ],
      "text/plain": [
       "    A   B   C   D\n",
       "a  40  26  34  24\n",
       "b  80  61  52  75\n",
       "c  74   2  84  47\n",
       "d  38  50  34  99\n",
       "e  32  22  24  75"
      ]
     },
     "execution_count": 99,
     "metadata": {},
     "output_type": "execute_result"
    }
   ],
   "source": [
    "vsort_df = ind_df\n",
    "vsort_df.head()"
   ]
  },
  {
   "cell_type": "markdown",
   "id": "5afcce98",
   "metadata": {},
   "source": [
    "### Sorting values by one variable\n",
    "\n",
    "1. Default values sorting: ascending"
   ]
  },
  {
   "cell_type": "code",
   "execution_count": 100,
   "id": "755434ef",
   "metadata": {},
   "outputs": [
    {
     "data": {
      "text/html": [
       "<div>\n",
       "<style scoped>\n",
       "    .dataframe tbody tr th:only-of-type {\n",
       "        vertical-align: middle;\n",
       "    }\n",
       "\n",
       "    .dataframe tbody tr th {\n",
       "        vertical-align: top;\n",
       "    }\n",
       "\n",
       "    .dataframe thead th {\n",
       "        text-align: right;\n",
       "    }\n",
       "</style>\n",
       "<table border=\"1\" class=\"dataframe\">\n",
       "  <thead>\n",
       "    <tr style=\"text-align: right;\">\n",
       "      <th></th>\n",
       "      <th>A</th>\n",
       "      <th>B</th>\n",
       "      <th>C</th>\n",
       "      <th>D</th>\n",
       "    </tr>\n",
       "  </thead>\n",
       "  <tbody>\n",
       "    <tr>\n",
       "      <th>e</th>\n",
       "      <td>32</td>\n",
       "      <td>22</td>\n",
       "      <td>24</td>\n",
       "      <td>75</td>\n",
       "    </tr>\n",
       "    <tr>\n",
       "      <th>d</th>\n",
       "      <td>38</td>\n",
       "      <td>50</td>\n",
       "      <td>34</td>\n",
       "      <td>99</td>\n",
       "    </tr>\n",
       "    <tr>\n",
       "      <th>a</th>\n",
       "      <td>40</td>\n",
       "      <td>26</td>\n",
       "      <td>34</td>\n",
       "      <td>24</td>\n",
       "    </tr>\n",
       "    <tr>\n",
       "      <th>f</th>\n",
       "      <td>42</td>\n",
       "      <td>77</td>\n",
       "      <td>51</td>\n",
       "      <td>53</td>\n",
       "    </tr>\n",
       "    <tr>\n",
       "      <th>g</th>\n",
       "      <td>43</td>\n",
       "      <td>28</td>\n",
       "      <td>58</td>\n",
       "      <td>3</td>\n",
       "    </tr>\n",
       "    <tr>\n",
       "      <th>c</th>\n",
       "      <td>74</td>\n",
       "      <td>2</td>\n",
       "      <td>84</td>\n",
       "      <td>47</td>\n",
       "    </tr>\n",
       "    <tr>\n",
       "      <th>b</th>\n",
       "      <td>80</td>\n",
       "      <td>61</td>\n",
       "      <td>52</td>\n",
       "      <td>75</td>\n",
       "    </tr>\n",
       "  </tbody>\n",
       "</table>\n",
       "</div>"
      ],
      "text/plain": [
       "    A   B   C   D\n",
       "e  32  22  24  75\n",
       "d  38  50  34  99\n",
       "a  40  26  34  24\n",
       "f  42  77  51  53\n",
       "g  43  28  58   3\n",
       "c  74   2  84  47\n",
       "b  80  61  52  75"
      ]
     },
     "execution_count": 100,
     "metadata": {},
     "output_type": "execute_result"
    }
   ],
   "source": [
    "vsort_df.sort_values(by ='A')"
   ]
  },
  {
   "cell_type": "markdown",
   "id": "02d71758",
   "metadata": {},
   "source": [
    "2. Sorting in descending order"
   ]
  },
  {
   "cell_type": "code",
   "execution_count": 101,
   "id": "c4701461",
   "metadata": {},
   "outputs": [
    {
     "data": {
      "text/html": [
       "<div>\n",
       "<style scoped>\n",
       "    .dataframe tbody tr th:only-of-type {\n",
       "        vertical-align: middle;\n",
       "    }\n",
       "\n",
       "    .dataframe tbody tr th {\n",
       "        vertical-align: top;\n",
       "    }\n",
       "\n",
       "    .dataframe thead th {\n",
       "        text-align: right;\n",
       "    }\n",
       "</style>\n",
       "<table border=\"1\" class=\"dataframe\">\n",
       "  <thead>\n",
       "    <tr style=\"text-align: right;\">\n",
       "      <th></th>\n",
       "      <th>A</th>\n",
       "      <th>B</th>\n",
       "      <th>C</th>\n",
       "      <th>D</th>\n",
       "    </tr>\n",
       "  </thead>\n",
       "  <tbody>\n",
       "    <tr>\n",
       "      <th>b</th>\n",
       "      <td>80</td>\n",
       "      <td>61</td>\n",
       "      <td>52</td>\n",
       "      <td>75</td>\n",
       "    </tr>\n",
       "    <tr>\n",
       "      <th>c</th>\n",
       "      <td>74</td>\n",
       "      <td>2</td>\n",
       "      <td>84</td>\n",
       "      <td>47</td>\n",
       "    </tr>\n",
       "    <tr>\n",
       "      <th>g</th>\n",
       "      <td>43</td>\n",
       "      <td>28</td>\n",
       "      <td>58</td>\n",
       "      <td>3</td>\n",
       "    </tr>\n",
       "    <tr>\n",
       "      <th>f</th>\n",
       "      <td>42</td>\n",
       "      <td>77</td>\n",
       "      <td>51</td>\n",
       "      <td>53</td>\n",
       "    </tr>\n",
       "    <tr>\n",
       "      <th>a</th>\n",
       "      <td>40</td>\n",
       "      <td>26</td>\n",
       "      <td>34</td>\n",
       "      <td>24</td>\n",
       "    </tr>\n",
       "    <tr>\n",
       "      <th>d</th>\n",
       "      <td>38</td>\n",
       "      <td>50</td>\n",
       "      <td>34</td>\n",
       "      <td>99</td>\n",
       "    </tr>\n",
       "    <tr>\n",
       "      <th>e</th>\n",
       "      <td>32</td>\n",
       "      <td>22</td>\n",
       "      <td>24</td>\n",
       "      <td>75</td>\n",
       "    </tr>\n",
       "  </tbody>\n",
       "</table>\n",
       "</div>"
      ],
      "text/plain": [
       "    A   B   C   D\n",
       "b  80  61  52  75\n",
       "c  74   2  84  47\n",
       "g  43  28  58   3\n",
       "f  42  77  51  53\n",
       "a  40  26  34  24\n",
       "d  38  50  34  99\n",
       "e  32  22  24  75"
      ]
     },
     "execution_count": 101,
     "metadata": {},
     "output_type": "execute_result"
    }
   ],
   "source": [
    "vsort_df.sort_values(by = 'A', ascending = False)"
   ]
  },
  {
   "cell_type": "markdown",
   "id": "c83d006d",
   "metadata": {},
   "source": [
    "### Sorting by more variables in descending order"
   ]
  },
  {
   "cell_type": "code",
   "execution_count": 102,
   "id": "f9bf7211",
   "metadata": {},
   "outputs": [
    {
     "data": {
      "text/html": [
       "<div>\n",
       "<style scoped>\n",
       "    .dataframe tbody tr th:only-of-type {\n",
       "        vertical-align: middle;\n",
       "    }\n",
       "\n",
       "    .dataframe tbody tr th {\n",
       "        vertical-align: top;\n",
       "    }\n",
       "\n",
       "    .dataframe thead th {\n",
       "        text-align: right;\n",
       "    }\n",
       "</style>\n",
       "<table border=\"1\" class=\"dataframe\">\n",
       "  <thead>\n",
       "    <tr style=\"text-align: right;\">\n",
       "      <th></th>\n",
       "      <th>A</th>\n",
       "      <th>B</th>\n",
       "      <th>C</th>\n",
       "      <th>D</th>\n",
       "    </tr>\n",
       "  </thead>\n",
       "  <tbody>\n",
       "    <tr>\n",
       "      <th>b</th>\n",
       "      <td>80</td>\n",
       "      <td>61</td>\n",
       "      <td>52</td>\n",
       "      <td>75</td>\n",
       "    </tr>\n",
       "    <tr>\n",
       "      <th>c</th>\n",
       "      <td>74</td>\n",
       "      <td>2</td>\n",
       "      <td>84</td>\n",
       "      <td>47</td>\n",
       "    </tr>\n",
       "    <tr>\n",
       "      <th>g</th>\n",
       "      <td>43</td>\n",
       "      <td>28</td>\n",
       "      <td>58</td>\n",
       "      <td>3</td>\n",
       "    </tr>\n",
       "    <tr>\n",
       "      <th>f</th>\n",
       "      <td>42</td>\n",
       "      <td>77</td>\n",
       "      <td>51</td>\n",
       "      <td>53</td>\n",
       "    </tr>\n",
       "    <tr>\n",
       "      <th>a</th>\n",
       "      <td>40</td>\n",
       "      <td>26</td>\n",
       "      <td>34</td>\n",
       "      <td>24</td>\n",
       "    </tr>\n",
       "    <tr>\n",
       "      <th>d</th>\n",
       "      <td>38</td>\n",
       "      <td>50</td>\n",
       "      <td>34</td>\n",
       "      <td>99</td>\n",
       "    </tr>\n",
       "    <tr>\n",
       "      <th>e</th>\n",
       "      <td>32</td>\n",
       "      <td>22</td>\n",
       "      <td>24</td>\n",
       "      <td>75</td>\n",
       "    </tr>\n",
       "  </tbody>\n",
       "</table>\n",
       "</div>"
      ],
      "text/plain": [
       "    A   B   C   D\n",
       "b  80  61  52  75\n",
       "c  74   2  84  47\n",
       "g  43  28  58   3\n",
       "f  42  77  51  53\n",
       "a  40  26  34  24\n",
       "d  38  50  34  99\n",
       "e  32  22  24  75"
      ]
     },
     "execution_count": 102,
     "metadata": {},
     "output_type": "execute_result"
    }
   ],
   "source": [
    "vsort_df.sort_values(by =['A', 'B', 'C', 'D'], ascending=False)"
   ]
  },
  {
   "cell_type": "markdown",
   "id": "c25da0fd",
   "metadata": {},
   "source": [
    "### Sorting and changing the data"
   ]
  },
  {
   "cell_type": "code",
   "execution_count": 103,
   "id": "c40e0d68",
   "metadata": {},
   "outputs": [
    {
     "data": {
      "text/html": [
       "<div>\n",
       "<style scoped>\n",
       "    .dataframe tbody tr th:only-of-type {\n",
       "        vertical-align: middle;\n",
       "    }\n",
       "\n",
       "    .dataframe tbody tr th {\n",
       "        vertical-align: top;\n",
       "    }\n",
       "\n",
       "    .dataframe thead th {\n",
       "        text-align: right;\n",
       "    }\n",
       "</style>\n",
       "<table border=\"1\" class=\"dataframe\">\n",
       "  <thead>\n",
       "    <tr style=\"text-align: right;\">\n",
       "      <th></th>\n",
       "      <th>A</th>\n",
       "      <th>B</th>\n",
       "      <th>C</th>\n",
       "      <th>D</th>\n",
       "    </tr>\n",
       "  </thead>\n",
       "  <tbody>\n",
       "    <tr>\n",
       "      <th>b</th>\n",
       "      <td>80</td>\n",
       "      <td>61</td>\n",
       "      <td>52</td>\n",
       "      <td>75</td>\n",
       "    </tr>\n",
       "    <tr>\n",
       "      <th>c</th>\n",
       "      <td>74</td>\n",
       "      <td>2</td>\n",
       "      <td>84</td>\n",
       "      <td>47</td>\n",
       "    </tr>\n",
       "    <tr>\n",
       "      <th>g</th>\n",
       "      <td>43</td>\n",
       "      <td>28</td>\n",
       "      <td>58</td>\n",
       "      <td>3</td>\n",
       "    </tr>\n",
       "    <tr>\n",
       "      <th>f</th>\n",
       "      <td>42</td>\n",
       "      <td>77</td>\n",
       "      <td>51</td>\n",
       "      <td>53</td>\n",
       "    </tr>\n",
       "    <tr>\n",
       "      <th>a</th>\n",
       "      <td>40</td>\n",
       "      <td>26</td>\n",
       "      <td>34</td>\n",
       "      <td>24</td>\n",
       "    </tr>\n",
       "    <tr>\n",
       "      <th>d</th>\n",
       "      <td>38</td>\n",
       "      <td>50</td>\n",
       "      <td>34</td>\n",
       "      <td>99</td>\n",
       "    </tr>\n",
       "    <tr>\n",
       "      <th>e</th>\n",
       "      <td>32</td>\n",
       "      <td>22</td>\n",
       "      <td>24</td>\n",
       "      <td>75</td>\n",
       "    </tr>\n",
       "  </tbody>\n",
       "</table>\n",
       "</div>"
      ],
      "text/plain": [
       "    A   B   C   D\n",
       "b  80  61  52  75\n",
       "c  74   2  84  47\n",
       "g  43  28  58   3\n",
       "f  42  77  51  53\n",
       "a  40  26  34  24\n",
       "d  38  50  34  99\n",
       "e  32  22  24  75"
      ]
     },
     "execution_count": 103,
     "metadata": {},
     "output_type": "execute_result"
    }
   ],
   "source": [
    "vsort_df.sort_values(by =['A', 'B', 'C', 'D'], ascending=False, inplace=True)\n",
    "vsort_df"
   ]
  },
  {
   "cell_type": "markdown",
   "id": "6c6ea503",
   "metadata": {},
   "source": [
    "### Sorting data containing NaNs"
   ]
  },
  {
   "cell_type": "code",
   "execution_count": 104,
   "id": "802514c4",
   "metadata": {},
   "outputs": [
    {
     "data": {
      "text/html": [
       "<div>\n",
       "<style scoped>\n",
       "    .dataframe tbody tr th:only-of-type {\n",
       "        vertical-align: middle;\n",
       "    }\n",
       "\n",
       "    .dataframe tbody tr th {\n",
       "        vertical-align: top;\n",
       "    }\n",
       "\n",
       "    .dataframe thead th {\n",
       "        text-align: right;\n",
       "    }\n",
       "</style>\n",
       "<table border=\"1\" class=\"dataframe\">\n",
       "  <thead>\n",
       "    <tr style=\"text-align: right;\">\n",
       "      <th></th>\n",
       "      <th>A</th>\n",
       "      <th>D</th>\n",
       "    </tr>\n",
       "  </thead>\n",
       "  <tbody>\n",
       "    <tr>\n",
       "      <th>0</th>\n",
       "      <td>NaN</td>\n",
       "      <td>4.0</td>\n",
       "    </tr>\n",
       "    <tr>\n",
       "      <th>1</th>\n",
       "      <td>3.0</td>\n",
       "      <td>NaN</td>\n",
       "    </tr>\n",
       "    <tr>\n",
       "      <th>2</th>\n",
       "      <td>11.0</td>\n",
       "      <td>NaN</td>\n",
       "    </tr>\n",
       "    <tr>\n",
       "      <th>3</th>\n",
       "      <td>7.0</td>\n",
       "      <td>12.0</td>\n",
       "    </tr>\n",
       "    <tr>\n",
       "      <th>4</th>\n",
       "      <td>NaN</td>\n",
       "      <td>22.0</td>\n",
       "    </tr>\n",
       "  </tbody>\n",
       "</table>\n",
       "</div>"
      ],
      "text/plain": [
       "      A     D\n",
       "0   NaN   4.0\n",
       "1   3.0   NaN\n",
       "2  11.0   NaN\n",
       "3   7.0  12.0\n",
       "4   NaN  22.0"
      ]
     },
     "execution_count": 104,
     "metadata": {},
     "output_type": "execute_result"
    }
   ],
   "source": [
    "df_nan = pd.DataFrame({\"A\": [np.nan, 3, 11, 7, np.nan],\n",
    "                      \"D\": [4, np.nan, np.nan, 12, 22]})\n",
    "df_nan"
   ]
  },
  {
   "cell_type": "markdown",
   "id": "fae1711b",
   "metadata": {},
   "source": [
    "### NaNs last example"
   ]
  },
  {
   "cell_type": "code",
   "execution_count": 105,
   "id": "a33cfe27",
   "metadata": {},
   "outputs": [
    {
     "data": {
      "text/html": [
       "<div>\n",
       "<style scoped>\n",
       "    .dataframe tbody tr th:only-of-type {\n",
       "        vertical-align: middle;\n",
       "    }\n",
       "\n",
       "    .dataframe tbody tr th {\n",
       "        vertical-align: top;\n",
       "    }\n",
       "\n",
       "    .dataframe thead th {\n",
       "        text-align: right;\n",
       "    }\n",
       "</style>\n",
       "<table border=\"1\" class=\"dataframe\">\n",
       "  <thead>\n",
       "    <tr style=\"text-align: right;\">\n",
       "      <th></th>\n",
       "      <th>A</th>\n",
       "      <th>D</th>\n",
       "    </tr>\n",
       "  </thead>\n",
       "  <tbody>\n",
       "    <tr>\n",
       "      <th>1</th>\n",
       "      <td>3.0</td>\n",
       "      <td>NaN</td>\n",
       "    </tr>\n",
       "    <tr>\n",
       "      <th>3</th>\n",
       "      <td>7.0</td>\n",
       "      <td>12.0</td>\n",
       "    </tr>\n",
       "    <tr>\n",
       "      <th>2</th>\n",
       "      <td>11.0</td>\n",
       "      <td>NaN</td>\n",
       "    </tr>\n",
       "    <tr>\n",
       "      <th>0</th>\n",
       "      <td>NaN</td>\n",
       "      <td>4.0</td>\n",
       "    </tr>\n",
       "    <tr>\n",
       "      <th>4</th>\n",
       "      <td>NaN</td>\n",
       "      <td>22.0</td>\n",
       "    </tr>\n",
       "  </tbody>\n",
       "</table>\n",
       "</div>"
      ],
      "text/plain": [
       "      A     D\n",
       "1   3.0   NaN\n",
       "3   7.0  12.0\n",
       "2  11.0   NaN\n",
       "0   NaN   4.0\n",
       "4   NaN  22.0"
      ]
     },
     "execution_count": 105,
     "metadata": {},
     "output_type": "execute_result"
    }
   ],
   "source": [
    "df_nan.sort_values(by ='A',na_position='last')"
   ]
  },
  {
   "cell_type": "markdown",
   "id": "4988b7fc",
   "metadata": {},
   "source": [
    "### NaNs first"
   ]
  },
  {
   "cell_type": "code",
   "execution_count": 106,
   "id": "edfddb9b",
   "metadata": {},
   "outputs": [
    {
     "data": {
      "text/html": [
       "<div>\n",
       "<style scoped>\n",
       "    .dataframe tbody tr th:only-of-type {\n",
       "        vertical-align: middle;\n",
       "    }\n",
       "\n",
       "    .dataframe tbody tr th {\n",
       "        vertical-align: top;\n",
       "    }\n",
       "\n",
       "    .dataframe thead th {\n",
       "        text-align: right;\n",
       "    }\n",
       "</style>\n",
       "<table border=\"1\" class=\"dataframe\">\n",
       "  <thead>\n",
       "    <tr style=\"text-align: right;\">\n",
       "      <th></th>\n",
       "      <th>A</th>\n",
       "      <th>D</th>\n",
       "    </tr>\n",
       "  </thead>\n",
       "  <tbody>\n",
       "    <tr>\n",
       "      <th>0</th>\n",
       "      <td>NaN</td>\n",
       "      <td>4.0</td>\n",
       "    </tr>\n",
       "    <tr>\n",
       "      <th>4</th>\n",
       "      <td>NaN</td>\n",
       "      <td>22.0</td>\n",
       "    </tr>\n",
       "    <tr>\n",
       "      <th>1</th>\n",
       "      <td>3.0</td>\n",
       "      <td>NaN</td>\n",
       "    </tr>\n",
       "    <tr>\n",
       "      <th>3</th>\n",
       "      <td>7.0</td>\n",
       "      <td>12.0</td>\n",
       "    </tr>\n",
       "    <tr>\n",
       "      <th>2</th>\n",
       "      <td>11.0</td>\n",
       "      <td>NaN</td>\n",
       "    </tr>\n",
       "  </tbody>\n",
       "</table>\n",
       "</div>"
      ],
      "text/plain": [
       "      A     D\n",
       "0   NaN   4.0\n",
       "4   NaN  22.0\n",
       "1   3.0   NaN\n",
       "3   7.0  12.0\n",
       "2  11.0   NaN"
      ]
     },
     "execution_count": 106,
     "metadata": {},
     "output_type": "execute_result"
    }
   ],
   "source": [
    "df_nan.sort_values(by ='A',na_position='first')"
   ]
  },
  {
   "cell_type": "code",
   "execution_count": 107,
   "id": "9bda12c0",
   "metadata": {},
   "outputs": [
    {
     "data": {
      "text/html": [
       "<div>\n",
       "<style scoped>\n",
       "    .dataframe tbody tr th:only-of-type {\n",
       "        vertical-align: middle;\n",
       "    }\n",
       "\n",
       "    .dataframe tbody tr th {\n",
       "        vertical-align: top;\n",
       "    }\n",
       "\n",
       "    .dataframe thead th {\n",
       "        text-align: right;\n",
       "    }\n",
       "</style>\n",
       "<table border=\"1\" class=\"dataframe\">\n",
       "  <thead>\n",
       "    <tr style=\"text-align: right;\">\n",
       "      <th></th>\n",
       "      <th>A</th>\n",
       "      <th>D</th>\n",
       "    </tr>\n",
       "  </thead>\n",
       "  <tbody>\n",
       "    <tr>\n",
       "      <th>0</th>\n",
       "      <td>NaN</td>\n",
       "      <td>4.0</td>\n",
       "    </tr>\n",
       "    <tr>\n",
       "      <th>4</th>\n",
       "      <td>NaN</td>\n",
       "      <td>22.0</td>\n",
       "    </tr>\n",
       "    <tr>\n",
       "      <th>1</th>\n",
       "      <td>3.0</td>\n",
       "      <td>NaN</td>\n",
       "    </tr>\n",
       "    <tr>\n",
       "      <th>3</th>\n",
       "      <td>7.0</td>\n",
       "      <td>12.0</td>\n",
       "    </tr>\n",
       "    <tr>\n",
       "      <th>2</th>\n",
       "      <td>11.0</td>\n",
       "      <td>NaN</td>\n",
       "    </tr>\n",
       "  </tbody>\n",
       "</table>\n",
       "</div>"
      ],
      "text/plain": [
       "      A     D\n",
       "0   NaN   4.0\n",
       "4   NaN  22.0\n",
       "1   3.0   NaN\n",
       "3   7.0  12.0\n",
       "2  11.0   NaN"
      ]
     },
     "execution_count": 107,
     "metadata": {},
     "output_type": "execute_result"
    }
   ],
   "source": [
    "df_nan.sort_values(by = 'A',na_position='first')"
   ]
  },
  {
   "cell_type": "markdown",
   "id": "70e5933d",
   "metadata": {},
   "source": [
    "## Ranking\n",
    "\n",
    "- Ranking means giving ranks to numerical data from one through the number of valid data points in an array. \n",
    "\n",
    "- By default, equal values are assigned a rank that is the average of the ranks of those values\n",
    "\n",
    "- Ranking a DataFrame is carried out using the __rank__ function. \n",
    "\n",
    "- __rank__ has several options\n",
    "\n",
    "  - **Axis**: is set to 0 by default, to perform the ranking on columns set __axis = 1__.\n",
    "  - **Method**: When having equal values of a numerical variable, we have five options:\n",
    "     - **average**: rank takes the average of the position of equal values.\n",
    "     - **min**: rank takes the lowest position.\n",
    "     - **max**: rank takes the highest position.\n",
    "     - **first**: ranks assigned in order they appear in the array.\n",
    "     - **dense**: like ‘min’, but rank always increases by 1 between groups.\n",
    "     \n",
    "  - **numeric_only**: rank only numeric columns if set to True. \n",
    "  - **na_option** : to decide how to rank the missing values, it has three options:\n",
    "\n",
    "    - **keep**: assign NaN rank to NaN values\n",
    "    - **top**: assign lowest rank to NaN values\n",
    "    - **bottom**: assign highest rank to NaN values\n",
    "\n",
    "  - **ascending** : Whether or not the elements should be ranked in ascending order. True by default.\n",
    "  - **pct** : Whether or not to display the returned rankings in percentile form, False by default.\n",
    "  \n",
    "## How rank works\n",
    "\n",
    "   1. Sort the numerical values in ascending order\n",
    "   2. Use a method to compute the rank if there is equal values (average by default) (computing the position not the values themselves)\n",
    "   3. Assign each value its corresponding rank.\n",
    "   4. For percentiles, rank divides the present rank by the highest rank $\\ \\frac{PRESENT\\  \\ RANK}{HIGHEST\\ \\ RANK} \\$ \n",
    "   "
   ]
  },
  {
   "cell_type": "markdown",
   "id": "b6206f9e",
   "metadata": {},
   "source": [
    "## Ranking Example"
   ]
  },
  {
   "cell_type": "code",
   "execution_count": 108,
   "id": "b198607a",
   "metadata": {},
   "outputs": [
    {
     "data": {
      "text/html": [
       "<div>\n",
       "<style scoped>\n",
       "    .dataframe tbody tr th:only-of-type {\n",
       "        vertical-align: middle;\n",
       "    }\n",
       "\n",
       "    .dataframe tbody tr th {\n",
       "        vertical-align: top;\n",
       "    }\n",
       "\n",
       "    .dataframe thead th {\n",
       "        text-align: right;\n",
       "    }\n",
       "</style>\n",
       "<table border=\"1\" class=\"dataframe\">\n",
       "  <thead>\n",
       "    <tr style=\"text-align: right;\">\n",
       "      <th></th>\n",
       "      <th>Subjects</th>\n",
       "      <th>Grades</th>\n",
       "    </tr>\n",
       "  </thead>\n",
       "  <tbody>\n",
       "    <tr>\n",
       "      <th>Ahmad</th>\n",
       "      <td>math</td>\n",
       "      <td>11.0</td>\n",
       "    </tr>\n",
       "    <tr>\n",
       "      <th>Nabil</th>\n",
       "      <td>computing</td>\n",
       "      <td>12.0</td>\n",
       "    </tr>\n",
       "    <tr>\n",
       "      <th>Ramy</th>\n",
       "      <td>stats</td>\n",
       "      <td>18.0</td>\n",
       "    </tr>\n",
       "    <tr>\n",
       "      <th>Zaki</th>\n",
       "      <td>calculus</td>\n",
       "      <td>7.0</td>\n",
       "    </tr>\n",
       "    <tr>\n",
       "      <th>Bilal</th>\n",
       "      <td>linear_algebra</td>\n",
       "      <td>NaN</td>\n",
       "    </tr>\n",
       "    <tr>\n",
       "      <th>Nacer</th>\n",
       "      <td>economics</td>\n",
       "      <td>12.0</td>\n",
       "    </tr>\n",
       "  </tbody>\n",
       "</table>\n",
       "</div>"
      ],
      "text/plain": [
       "             Subjects  Grades\n",
       "Ahmad            math    11.0\n",
       "Nabil       computing    12.0\n",
       "Ramy            stats    18.0\n",
       "Zaki         calculus     7.0\n",
       "Bilal  linear_algebra     NaN\n",
       "Nacer       economics    12.0"
      ]
     },
     "execution_count": 108,
     "metadata": {},
     "output_type": "execute_result"
    }
   ],
   "source": [
    "grades = pd.DataFrame({\"Subjects\": [\"math\", \"computing\", \"stats\", \"calculus\", \n",
    "                                   \"linear_algebra\", \"economics\"],\n",
    "                      \"Grades\": [11, 12, 18, 7, np.nan, 12]},\n",
    "                     index = [\"Ahmad\", \"Nabil\", \"Ramy\", \"Zaki\", \n",
    "                             \"Bilal\", \"Nacer\"])\n",
    "grades"
   ]
  },
  {
   "cell_type": "markdown",
   "id": "2e8f2592",
   "metadata": {},
   "source": [
    "### Ranking using the default options"
   ]
  },
  {
   "cell_type": "code",
   "execution_count": 109,
   "id": "990a1cff",
   "metadata": {},
   "outputs": [
    {
     "data": {
      "text/html": [
       "<div>\n",
       "<style scoped>\n",
       "    .dataframe tbody tr th:only-of-type {\n",
       "        vertical-align: middle;\n",
       "    }\n",
       "\n",
       "    .dataframe tbody tr th {\n",
       "        vertical-align: top;\n",
       "    }\n",
       "\n",
       "    .dataframe thead th {\n",
       "        text-align: right;\n",
       "    }\n",
       "</style>\n",
       "<table border=\"1\" class=\"dataframe\">\n",
       "  <thead>\n",
       "    <tr style=\"text-align: right;\">\n",
       "      <th></th>\n",
       "      <th>Grades</th>\n",
       "    </tr>\n",
       "  </thead>\n",
       "  <tbody>\n",
       "    <tr>\n",
       "      <th>Ahmad</th>\n",
       "      <td>2.0</td>\n",
       "    </tr>\n",
       "    <tr>\n",
       "      <th>Nabil</th>\n",
       "      <td>3.5</td>\n",
       "    </tr>\n",
       "    <tr>\n",
       "      <th>Ramy</th>\n",
       "      <td>5.0</td>\n",
       "    </tr>\n",
       "    <tr>\n",
       "      <th>Zaki</th>\n",
       "      <td>1.0</td>\n",
       "    </tr>\n",
       "    <tr>\n",
       "      <th>Bilal</th>\n",
       "      <td>NaN</td>\n",
       "    </tr>\n",
       "    <tr>\n",
       "      <th>Nacer</th>\n",
       "      <td>3.5</td>\n",
       "    </tr>\n",
       "  </tbody>\n",
       "</table>\n",
       "</div>"
      ],
      "text/plain": [
       "       Grades\n",
       "Ahmad     2.0\n",
       "Nabil     3.5\n",
       "Ramy      5.0\n",
       "Zaki      1.0\n",
       "Bilal     NaN\n",
       "Nacer     3.5"
      ]
     },
     "execution_count": 109,
     "metadata": {},
     "output_type": "execute_result"
    }
   ],
   "source": [
    "def_grades = grades.rank(numeric_only=True)\n",
    "def_grades"
   ]
  },
  {
   "cell_type": "markdown",
   "id": "1d1449b3",
   "metadata": {},
   "source": [
    "Here, we will replicate the result manually."
   ]
  },
  {
   "cell_type": "code",
   "execution_count": 110,
   "id": "f6d2cf74",
   "metadata": {},
   "outputs": [
    {
     "data": {
      "text/html": [
       "<div>\n",
       "<style scoped>\n",
       "    .dataframe tbody tr th:only-of-type {\n",
       "        vertical-align: middle;\n",
       "    }\n",
       "\n",
       "    .dataframe tbody tr th {\n",
       "        vertical-align: top;\n",
       "    }\n",
       "\n",
       "    .dataframe thead th {\n",
       "        text-align: right;\n",
       "    }\n",
       "</style>\n",
       "<table border=\"1\" class=\"dataframe\">\n",
       "  <thead>\n",
       "    <tr style=\"text-align: right;\">\n",
       "      <th></th>\n",
       "      <th>Subjects</th>\n",
       "      <th>Grades</th>\n",
       "    </tr>\n",
       "  </thead>\n",
       "  <tbody>\n",
       "    <tr>\n",
       "      <th>Zaki</th>\n",
       "      <td>calculus</td>\n",
       "      <td>7.0</td>\n",
       "    </tr>\n",
       "    <tr>\n",
       "      <th>Ahmad</th>\n",
       "      <td>math</td>\n",
       "      <td>11.0</td>\n",
       "    </tr>\n",
       "    <tr>\n",
       "      <th>Nabil</th>\n",
       "      <td>computing</td>\n",
       "      <td>12.0</td>\n",
       "    </tr>\n",
       "    <tr>\n",
       "      <th>Nacer</th>\n",
       "      <td>economics</td>\n",
       "      <td>12.0</td>\n",
       "    </tr>\n",
       "    <tr>\n",
       "      <th>Ramy</th>\n",
       "      <td>stats</td>\n",
       "      <td>18.0</td>\n",
       "    </tr>\n",
       "    <tr>\n",
       "      <th>Bilal</th>\n",
       "      <td>linear_algebra</td>\n",
       "      <td>NaN</td>\n",
       "    </tr>\n",
       "  </tbody>\n",
       "</table>\n",
       "</div>"
      ],
      "text/plain": [
       "             Subjects  Grades\n",
       "Zaki         calculus     7.0\n",
       "Ahmad            math    11.0\n",
       "Nabil       computing    12.0\n",
       "Nacer       economics    12.0\n",
       "Ramy            stats    18.0\n",
       "Bilal  linear_algebra     NaN"
      ]
     },
     "execution_count": 110,
     "metadata": {},
     "output_type": "execute_result"
    }
   ],
   "source": [
    "grades.sort_values(by = 'Grades')"
   ]
  },
  {
   "cell_type": "markdown",
   "id": "b87c0d6e",
   "metadata": {},
   "source": [
    "- We can see that Zaki is ranked first, that why the rank function gave him 1. \n",
    "\n",
    "- Nabil and Nacer have the same grades, and they are in position 3 and 4. Thus, we should add 3 plus 4 then divide by 2 to find the rank. $3+4= 7 \\  \\ \\ 7/2 = 3.5$. So the 3.5 in the result. and so on. \n",
    "\n",
    "Here is the full result\n"
   ]
  },
  {
   "cell_type": "code",
   "execution_count": 111,
   "id": "bdd9db3e",
   "metadata": {},
   "outputs": [
    {
     "data": {
      "text/html": [
       "<div>\n",
       "<style scoped>\n",
       "    .dataframe tbody tr th:only-of-type {\n",
       "        vertical-align: middle;\n",
       "    }\n",
       "\n",
       "    .dataframe tbody tr th {\n",
       "        vertical-align: top;\n",
       "    }\n",
       "\n",
       "    .dataframe thead th {\n",
       "        text-align: right;\n",
       "    }\n",
       "</style>\n",
       "<table border=\"1\" class=\"dataframe\">\n",
       "  <thead>\n",
       "    <tr style=\"text-align: right;\">\n",
       "      <th></th>\n",
       "      <th>Subjects</th>\n",
       "      <th>Grades</th>\n",
       "      <th>default_rank</th>\n",
       "    </tr>\n",
       "  </thead>\n",
       "  <tbody>\n",
       "    <tr>\n",
       "      <th>Ahmad</th>\n",
       "      <td>math</td>\n",
       "      <td>11.0</td>\n",
       "      <td>2.0</td>\n",
       "    </tr>\n",
       "    <tr>\n",
       "      <th>Nabil</th>\n",
       "      <td>computing</td>\n",
       "      <td>12.0</td>\n",
       "      <td>3.5</td>\n",
       "    </tr>\n",
       "    <tr>\n",
       "      <th>Ramy</th>\n",
       "      <td>stats</td>\n",
       "      <td>18.0</td>\n",
       "      <td>5.0</td>\n",
       "    </tr>\n",
       "    <tr>\n",
       "      <th>Zaki</th>\n",
       "      <td>calculus</td>\n",
       "      <td>7.0</td>\n",
       "      <td>1.0</td>\n",
       "    </tr>\n",
       "    <tr>\n",
       "      <th>Bilal</th>\n",
       "      <td>linear_algebra</td>\n",
       "      <td>NaN</td>\n",
       "      <td>NaN</td>\n",
       "    </tr>\n",
       "    <tr>\n",
       "      <th>Nacer</th>\n",
       "      <td>economics</td>\n",
       "      <td>12.0</td>\n",
       "      <td>3.5</td>\n",
       "    </tr>\n",
       "  </tbody>\n",
       "</table>\n",
       "</div>"
      ],
      "text/plain": [
       "             Subjects  Grades  default_rank\n",
       "Ahmad            math    11.0           2.0\n",
       "Nabil       computing    12.0           3.5\n",
       "Ramy            stats    18.0           5.0\n",
       "Zaki         calculus     7.0           1.0\n",
       "Bilal  linear_algebra     NaN           NaN\n",
       "Nacer       economics    12.0           3.5"
      ]
     },
     "execution_count": 111,
     "metadata": {},
     "output_type": "execute_result"
    }
   ],
   "source": [
    "grades['default_rank'] = grades['Grades'].rank()\n",
    "grades"
   ]
  },
  {
   "cell_type": "markdown",
   "id": "acf82c7b",
   "metadata": {},
   "source": [
    "### Ranking with max method\n",
    "\n",
    "   - As shown above, Nabil is in third position, and Nacer in the fourth. \n",
    "   \n",
    "   - By setting __method__ to **max**, both Nacer and Nabil will be ranked 4."
   ]
  },
  {
   "cell_type": "code",
   "execution_count": 112,
   "id": "69ef2979",
   "metadata": {},
   "outputs": [
    {
     "data": {
      "text/html": [
       "<div>\n",
       "<style scoped>\n",
       "    .dataframe tbody tr th:only-of-type {\n",
       "        vertical-align: middle;\n",
       "    }\n",
       "\n",
       "    .dataframe tbody tr th {\n",
       "        vertical-align: top;\n",
       "    }\n",
       "\n",
       "    .dataframe thead th {\n",
       "        text-align: right;\n",
       "    }\n",
       "</style>\n",
       "<table border=\"1\" class=\"dataframe\">\n",
       "  <thead>\n",
       "    <tr style=\"text-align: right;\">\n",
       "      <th></th>\n",
       "      <th>Subjects</th>\n",
       "      <th>Grades</th>\n",
       "      <th>default_rank</th>\n",
       "      <th>max_rank</th>\n",
       "    </tr>\n",
       "  </thead>\n",
       "  <tbody>\n",
       "    <tr>\n",
       "      <th>Ahmad</th>\n",
       "      <td>math</td>\n",
       "      <td>11.0</td>\n",
       "      <td>2.0</td>\n",
       "      <td>2.0</td>\n",
       "    </tr>\n",
       "    <tr>\n",
       "      <th>Nabil</th>\n",
       "      <td>computing</td>\n",
       "      <td>12.0</td>\n",
       "      <td>3.5</td>\n",
       "      <td>4.0</td>\n",
       "    </tr>\n",
       "    <tr>\n",
       "      <th>Ramy</th>\n",
       "      <td>stats</td>\n",
       "      <td>18.0</td>\n",
       "      <td>5.0</td>\n",
       "      <td>5.0</td>\n",
       "    </tr>\n",
       "    <tr>\n",
       "      <th>Zaki</th>\n",
       "      <td>calculus</td>\n",
       "      <td>7.0</td>\n",
       "      <td>1.0</td>\n",
       "      <td>1.0</td>\n",
       "    </tr>\n",
       "    <tr>\n",
       "      <th>Bilal</th>\n",
       "      <td>linear_algebra</td>\n",
       "      <td>NaN</td>\n",
       "      <td>NaN</td>\n",
       "      <td>NaN</td>\n",
       "    </tr>\n",
       "    <tr>\n",
       "      <th>Nacer</th>\n",
       "      <td>economics</td>\n",
       "      <td>12.0</td>\n",
       "      <td>3.5</td>\n",
       "      <td>4.0</td>\n",
       "    </tr>\n",
       "  </tbody>\n",
       "</table>\n",
       "</div>"
      ],
      "text/plain": [
       "             Subjects  Grades  default_rank  max_rank\n",
       "Ahmad            math    11.0           2.0       2.0\n",
       "Nabil       computing    12.0           3.5       4.0\n",
       "Ramy            stats    18.0           5.0       5.0\n",
       "Zaki         calculus     7.0           1.0       1.0\n",
       "Bilal  linear_algebra     NaN           NaN       NaN\n",
       "Nacer       economics    12.0           3.5       4.0"
      ]
     },
     "execution_count": 112,
     "metadata": {},
     "output_type": "execute_result"
    }
   ],
   "source": [
    "grades['max_rank'] = grades['Grades'].rank(method='max')\n",
    "grades"
   ]
  },
  {
   "cell_type": "markdown",
   "id": "47d6dee1",
   "metadata": {},
   "source": [
    "### Ranking with min method\n",
    "\n",
    "   - By setting __method__ to **min**, Both Nacer and Nabil will be ranked 3."
   ]
  },
  {
   "cell_type": "code",
   "execution_count": 113,
   "id": "2a3b1122",
   "metadata": {},
   "outputs": [
    {
     "data": {
      "text/html": [
       "<div>\n",
       "<style scoped>\n",
       "    .dataframe tbody tr th:only-of-type {\n",
       "        vertical-align: middle;\n",
       "    }\n",
       "\n",
       "    .dataframe tbody tr th {\n",
       "        vertical-align: top;\n",
       "    }\n",
       "\n",
       "    .dataframe thead th {\n",
       "        text-align: right;\n",
       "    }\n",
       "</style>\n",
       "<table border=\"1\" class=\"dataframe\">\n",
       "  <thead>\n",
       "    <tr style=\"text-align: right;\">\n",
       "      <th></th>\n",
       "      <th>Subjects</th>\n",
       "      <th>Grades</th>\n",
       "      <th>default_rank</th>\n",
       "      <th>max_rank</th>\n",
       "    </tr>\n",
       "  </thead>\n",
       "  <tbody>\n",
       "    <tr>\n",
       "      <th>Ahmad</th>\n",
       "      <td>math</td>\n",
       "      <td>11.0</td>\n",
       "      <td>2.0</td>\n",
       "      <td>2.0</td>\n",
       "    </tr>\n",
       "    <tr>\n",
       "      <th>Nabil</th>\n",
       "      <td>computing</td>\n",
       "      <td>12.0</td>\n",
       "      <td>3.5</td>\n",
       "      <td>3.0</td>\n",
       "    </tr>\n",
       "    <tr>\n",
       "      <th>Ramy</th>\n",
       "      <td>stats</td>\n",
       "      <td>18.0</td>\n",
       "      <td>5.0</td>\n",
       "      <td>5.0</td>\n",
       "    </tr>\n",
       "    <tr>\n",
       "      <th>Zaki</th>\n",
       "      <td>calculus</td>\n",
       "      <td>7.0</td>\n",
       "      <td>1.0</td>\n",
       "      <td>1.0</td>\n",
       "    </tr>\n",
       "    <tr>\n",
       "      <th>Bilal</th>\n",
       "      <td>linear_algebra</td>\n",
       "      <td>NaN</td>\n",
       "      <td>NaN</td>\n",
       "      <td>NaN</td>\n",
       "    </tr>\n",
       "    <tr>\n",
       "      <th>Nacer</th>\n",
       "      <td>economics</td>\n",
       "      <td>12.0</td>\n",
       "      <td>3.5</td>\n",
       "      <td>3.0</td>\n",
       "    </tr>\n",
       "  </tbody>\n",
       "</table>\n",
       "</div>"
      ],
      "text/plain": [
       "             Subjects  Grades  default_rank  max_rank\n",
       "Ahmad            math    11.0           2.0       2.0\n",
       "Nabil       computing    12.0           3.5       3.0\n",
       "Ramy            stats    18.0           5.0       5.0\n",
       "Zaki         calculus     7.0           1.0       1.0\n",
       "Bilal  linear_algebra     NaN           NaN       NaN\n",
       "Nacer       economics    12.0           3.5       3.0"
      ]
     },
     "execution_count": 113,
     "metadata": {},
     "output_type": "execute_result"
    }
   ],
   "source": [
    "grades['max_rank'] = grades['Grades'].rank(method='min')\n",
    "grades"
   ]
  },
  {
   "cell_type": "markdown",
   "id": "1bfdacaa",
   "metadata": {},
   "source": [
    "### Ranking with  NaN at the bottom \n",
    "\n",
    "   - By setting __na_option__ to **Bottom**, The NaN will be ranked the highest. In this example it will be ranked 6. "
   ]
  },
  {
   "cell_type": "code",
   "execution_count": 114,
   "id": "5ad8d00b",
   "metadata": {},
   "outputs": [
    {
     "data": {
      "text/html": [
       "<div>\n",
       "<style scoped>\n",
       "    .dataframe tbody tr th:only-of-type {\n",
       "        vertical-align: middle;\n",
       "    }\n",
       "\n",
       "    .dataframe tbody tr th {\n",
       "        vertical-align: top;\n",
       "    }\n",
       "\n",
       "    .dataframe thead th {\n",
       "        text-align: right;\n",
       "    }\n",
       "</style>\n",
       "<table border=\"1\" class=\"dataframe\">\n",
       "  <thead>\n",
       "    <tr style=\"text-align: right;\">\n",
       "      <th></th>\n",
       "      <th>Subjects</th>\n",
       "      <th>Grades</th>\n",
       "      <th>default_rank</th>\n",
       "      <th>max_rank</th>\n",
       "      <th>NA_bottom</th>\n",
       "    </tr>\n",
       "  </thead>\n",
       "  <tbody>\n",
       "    <tr>\n",
       "      <th>Ahmad</th>\n",
       "      <td>math</td>\n",
       "      <td>11.0</td>\n",
       "      <td>2.0</td>\n",
       "      <td>2.0</td>\n",
       "      <td>2.0</td>\n",
       "    </tr>\n",
       "    <tr>\n",
       "      <th>Nabil</th>\n",
       "      <td>computing</td>\n",
       "      <td>12.0</td>\n",
       "      <td>3.5</td>\n",
       "      <td>3.0</td>\n",
       "      <td>3.5</td>\n",
       "    </tr>\n",
       "    <tr>\n",
       "      <th>Ramy</th>\n",
       "      <td>stats</td>\n",
       "      <td>18.0</td>\n",
       "      <td>5.0</td>\n",
       "      <td>5.0</td>\n",
       "      <td>5.0</td>\n",
       "    </tr>\n",
       "    <tr>\n",
       "      <th>Zaki</th>\n",
       "      <td>calculus</td>\n",
       "      <td>7.0</td>\n",
       "      <td>1.0</td>\n",
       "      <td>1.0</td>\n",
       "      <td>1.0</td>\n",
       "    </tr>\n",
       "    <tr>\n",
       "      <th>Bilal</th>\n",
       "      <td>linear_algebra</td>\n",
       "      <td>NaN</td>\n",
       "      <td>NaN</td>\n",
       "      <td>NaN</td>\n",
       "      <td>6.0</td>\n",
       "    </tr>\n",
       "    <tr>\n",
       "      <th>Nacer</th>\n",
       "      <td>economics</td>\n",
       "      <td>12.0</td>\n",
       "      <td>3.5</td>\n",
       "      <td>3.0</td>\n",
       "      <td>3.5</td>\n",
       "    </tr>\n",
       "  </tbody>\n",
       "</table>\n",
       "</div>"
      ],
      "text/plain": [
       "             Subjects  Grades  default_rank  max_rank  NA_bottom\n",
       "Ahmad            math    11.0           2.0       2.0        2.0\n",
       "Nabil       computing    12.0           3.5       3.0        3.5\n",
       "Ramy            stats    18.0           5.0       5.0        5.0\n",
       "Zaki         calculus     7.0           1.0       1.0        1.0\n",
       "Bilal  linear_algebra     NaN           NaN       NaN        6.0\n",
       "Nacer       economics    12.0           3.5       3.0        3.5"
      ]
     },
     "execution_count": 114,
     "metadata": {},
     "output_type": "execute_result"
    }
   ],
   "source": [
    "grades['NA_bottom'] = grades['Grades'].rank(na_option='bottom')\n",
    "grades"
   ]
  },
  {
   "cell_type": "markdown",
   "id": "f7cad105",
   "metadata": {},
   "source": [
    "### Computing the percentiles  \n",
    "\n",
    "   - By setting __pct__ to **True**, the rankings will be returned in percentile form."
   ]
  },
  {
   "cell_type": "code",
   "execution_count": 115,
   "id": "a28d84be",
   "metadata": {},
   "outputs": [
    {
     "data": {
      "text/html": [
       "<div>\n",
       "<style scoped>\n",
       "    .dataframe tbody tr th:only-of-type {\n",
       "        vertical-align: middle;\n",
       "    }\n",
       "\n",
       "    .dataframe tbody tr th {\n",
       "        vertical-align: top;\n",
       "    }\n",
       "\n",
       "    .dataframe thead th {\n",
       "        text-align: right;\n",
       "    }\n",
       "</style>\n",
       "<table border=\"1\" class=\"dataframe\">\n",
       "  <thead>\n",
       "    <tr style=\"text-align: right;\">\n",
       "      <th></th>\n",
       "      <th>Subjects</th>\n",
       "      <th>Grades</th>\n",
       "      <th>default_rank</th>\n",
       "      <th>max_rank</th>\n",
       "      <th>NA_bottom</th>\n",
       "      <th>pct_rank</th>\n",
       "    </tr>\n",
       "  </thead>\n",
       "  <tbody>\n",
       "    <tr>\n",
       "      <th>Ahmad</th>\n",
       "      <td>math</td>\n",
       "      <td>11.0</td>\n",
       "      <td>2.0</td>\n",
       "      <td>2.0</td>\n",
       "      <td>2.0</td>\n",
       "      <td>0.4</td>\n",
       "    </tr>\n",
       "    <tr>\n",
       "      <th>Nabil</th>\n",
       "      <td>computing</td>\n",
       "      <td>12.0</td>\n",
       "      <td>3.5</td>\n",
       "      <td>3.0</td>\n",
       "      <td>3.5</td>\n",
       "      <td>0.7</td>\n",
       "    </tr>\n",
       "    <tr>\n",
       "      <th>Ramy</th>\n",
       "      <td>stats</td>\n",
       "      <td>18.0</td>\n",
       "      <td>5.0</td>\n",
       "      <td>5.0</td>\n",
       "      <td>5.0</td>\n",
       "      <td>1.0</td>\n",
       "    </tr>\n",
       "    <tr>\n",
       "      <th>Zaki</th>\n",
       "      <td>calculus</td>\n",
       "      <td>7.0</td>\n",
       "      <td>1.0</td>\n",
       "      <td>1.0</td>\n",
       "      <td>1.0</td>\n",
       "      <td>0.2</td>\n",
       "    </tr>\n",
       "    <tr>\n",
       "      <th>Bilal</th>\n",
       "      <td>linear_algebra</td>\n",
       "      <td>NaN</td>\n",
       "      <td>NaN</td>\n",
       "      <td>NaN</td>\n",
       "      <td>6.0</td>\n",
       "      <td>NaN</td>\n",
       "    </tr>\n",
       "    <tr>\n",
       "      <th>Nacer</th>\n",
       "      <td>economics</td>\n",
       "      <td>12.0</td>\n",
       "      <td>3.5</td>\n",
       "      <td>3.0</td>\n",
       "      <td>3.5</td>\n",
       "      <td>0.7</td>\n",
       "    </tr>\n",
       "  </tbody>\n",
       "</table>\n",
       "</div>"
      ],
      "text/plain": [
       "             Subjects  Grades  default_rank  max_rank  NA_bottom  pct_rank\n",
       "Ahmad            math    11.0           2.0       2.0        2.0       0.4\n",
       "Nabil       computing    12.0           3.5       3.0        3.5       0.7\n",
       "Ramy            stats    18.0           5.0       5.0        5.0       1.0\n",
       "Zaki         calculus     7.0           1.0       1.0        1.0       0.2\n",
       "Bilal  linear_algebra     NaN           NaN       NaN        6.0       NaN\n",
       "Nacer       economics    12.0           3.5       3.0        3.5       0.7"
      ]
     },
     "execution_count": 115,
     "metadata": {},
     "output_type": "execute_result"
    }
   ],
   "source": [
    "grades['pct_rank'] = grades['Grades'].rank(pct=True)\n",
    "grades"
   ]
  },
  {
   "cell_type": "markdown",
   "id": "be328c54",
   "metadata": {},
   "source": [
    "To understand how the perc_rank calculated. \n",
    "\n",
    "  - First, NaN is assigned (default). Thus, 5 is the __highest rank__\n",
    "  \n",
    "  - The present rank of __Ahmad__ is 2.\n",
    "  \n",
    "  - Divide 2 by 5\n",
    "  \n",
    "  - Result is 0.4\n",
    "\n",
    "For Nabil: \n",
    "\n",
    "  - 3.5 / 5 = 0.7\n",
    "  \n",
    "and so on."
   ]
  },
  {
   "cell_type": "markdown",
   "id": "f7e132b6",
   "metadata": {},
   "source": [
    "## The Final Ranked Table"
   ]
  },
  {
   "cell_type": "code",
   "execution_count": 116,
   "id": "ffc4a14b",
   "metadata": {},
   "outputs": [
    {
     "data": {
      "text/html": [
       "<div>\n",
       "<style scoped>\n",
       "    .dataframe tbody tr th:only-of-type {\n",
       "        vertical-align: middle;\n",
       "    }\n",
       "\n",
       "    .dataframe tbody tr th {\n",
       "        vertical-align: top;\n",
       "    }\n",
       "\n",
       "    .dataframe thead th {\n",
       "        text-align: right;\n",
       "    }\n",
       "</style>\n",
       "<table border=\"1\" class=\"dataframe\">\n",
       "  <thead>\n",
       "    <tr style=\"text-align: right;\">\n",
       "      <th></th>\n",
       "      <th>Subjects</th>\n",
       "      <th>Grades</th>\n",
       "      <th>default_rank</th>\n",
       "      <th>max_rank</th>\n",
       "      <th>NA_bottom</th>\n",
       "      <th>pct_rank</th>\n",
       "    </tr>\n",
       "  </thead>\n",
       "  <tbody>\n",
       "    <tr>\n",
       "      <th>Ahmad</th>\n",
       "      <td>math</td>\n",
       "      <td>11.0</td>\n",
       "      <td>2.0</td>\n",
       "      <td>2.0</td>\n",
       "      <td>2.0</td>\n",
       "      <td>0.4</td>\n",
       "    </tr>\n",
       "    <tr>\n",
       "      <th>Nabil</th>\n",
       "      <td>computing</td>\n",
       "      <td>12.0</td>\n",
       "      <td>3.5</td>\n",
       "      <td>3.0</td>\n",
       "      <td>3.5</td>\n",
       "      <td>0.7</td>\n",
       "    </tr>\n",
       "    <tr>\n",
       "      <th>Ramy</th>\n",
       "      <td>stats</td>\n",
       "      <td>18.0</td>\n",
       "      <td>5.0</td>\n",
       "      <td>5.0</td>\n",
       "      <td>5.0</td>\n",
       "      <td>1.0</td>\n",
       "    </tr>\n",
       "    <tr>\n",
       "      <th>Zaki</th>\n",
       "      <td>calculus</td>\n",
       "      <td>7.0</td>\n",
       "      <td>1.0</td>\n",
       "      <td>1.0</td>\n",
       "      <td>1.0</td>\n",
       "      <td>0.2</td>\n",
       "    </tr>\n",
       "    <tr>\n",
       "      <th>Bilal</th>\n",
       "      <td>linear_algebra</td>\n",
       "      <td>NaN</td>\n",
       "      <td>NaN</td>\n",
       "      <td>NaN</td>\n",
       "      <td>6.0</td>\n",
       "      <td>NaN</td>\n",
       "    </tr>\n",
       "    <tr>\n",
       "      <th>Nacer</th>\n",
       "      <td>economics</td>\n",
       "      <td>12.0</td>\n",
       "      <td>3.5</td>\n",
       "      <td>3.0</td>\n",
       "      <td>3.5</td>\n",
       "      <td>0.7</td>\n",
       "    </tr>\n",
       "  </tbody>\n",
       "</table>\n",
       "</div>"
      ],
      "text/plain": [
       "             Subjects  Grades  default_rank  max_rank  NA_bottom  pct_rank\n",
       "Ahmad            math    11.0           2.0       2.0        2.0       0.4\n",
       "Nabil       computing    12.0           3.5       3.0        3.5       0.7\n",
       "Ramy            stats    18.0           5.0       5.0        5.0       1.0\n",
       "Zaki         calculus     7.0           1.0       1.0        1.0       0.2\n",
       "Bilal  linear_algebra     NaN           NaN       NaN        6.0       NaN\n",
       "Nacer       economics    12.0           3.5       3.0        3.5       0.7"
      ]
     },
     "execution_count": 116,
     "metadata": {},
     "output_type": "execute_result"
    }
   ],
   "source": [
    "grades"
   ]
  },
  {
   "cell_type": "markdown",
   "id": "e1d1eb97",
   "metadata": {},
   "source": [
    "# Conclusion \n",
    "\n",
    "  Counting values, checking for duplicates, sorting, and ranking are necessary steps for exploring and preparing data for further analysis. "
   ]
  }
 ],
 "metadata": {
  "kernelspec": {
   "display_name": "Python 3",
   "language": "python",
   "name": "python3"
  },
  "language_info": {
   "codemirror_mode": {
    "name": "ipython",
    "version": 3
   },
   "file_extension": ".py",
   "mimetype": "text/x-python",
   "name": "python",
   "nbconvert_exporter": "python",
   "pygments_lexer": "ipython3",
   "version": "3.8.2"
  }
 },
 "nbformat": 4,
 "nbformat_minor": 5
}
