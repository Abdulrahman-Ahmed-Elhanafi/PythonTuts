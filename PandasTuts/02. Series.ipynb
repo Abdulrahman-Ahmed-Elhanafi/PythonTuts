{
 "cells": [
  {
   "cell_type": "markdown",
   "id": "0d8d7a4c",
   "metadata": {},
   "source": [
    "# Series"
   ]
  },
  {
   "cell_type": "markdown",
   "id": "36e5fe9a",
   "metadata": {},
   "source": [
    "- A series is a one-dimensional array of indexed data;\n",
    "\n",
    "- In other words, an __array of data__ associcated with an array of __labels called the index of the array__\n",
    "\n",
    "----------------------"
   ]
  },
  {
   "cell_type": "markdown",
   "id": "05f1abce",
   "metadata": {},
   "source": [
    "### Importing the Necessary Modules"
   ]
  },
  {
   "cell_type": "code",
   "execution_count": 3,
   "id": "16467c6f",
   "metadata": {},
   "outputs": [],
   "source": [
    "import numpy as np\n",
    "import pandas as pd\n",
    "from string import ascii_uppercase      # To import letters\n",
    "from random import choices, seed         # To generate a series of random numbers"
   ]
  },
  {
   "cell_type": "markdown",
   "id": "7e2b85ba",
   "metadata": {},
   "source": [
    "### Creating Pandas Series "
   ]
  },
  {
   "cell_type": "markdown",
   "id": "994f9fef",
   "metadata": {},
   "source": [
    "#### Creating an empty Series"
   ]
  },
  {
   "cell_type": "code",
   "execution_count": 4,
   "id": "6888d3fd",
   "metadata": {},
   "outputs": [
    {
     "data": {
      "text/plain": [
       "Series([], dtype: int32)"
      ]
     },
     "execution_count": 4,
     "metadata": {},
     "output_type": "execute_result"
    }
   ],
   "source": [
    "ser_0 = pd.Series(dtype = 'int32')\n",
    "ser_0"
   ]
  },
  {
   "cell_type": "markdown",
   "id": "7d802e78",
   "metadata": {},
   "source": [
    "#### Check the Type"
   ]
  },
  {
   "cell_type": "code",
   "execution_count": 5,
   "id": "3065cbc4",
   "metadata": {},
   "outputs": [
    {
     "data": {
      "text/plain": [
       "pandas.core.series.Series"
      ]
     },
     "execution_count": 5,
     "metadata": {},
     "output_type": "execute_result"
    }
   ],
   "source": [
    "type(ser_0)"
   ]
  },
  {
   "cell_type": "markdown",
   "id": "725f4889",
   "metadata": {},
   "source": [
    " "
   ]
  },
  {
   "cell_type": "markdown",
   "id": "0910dcff",
   "metadata": {},
   "source": [
    "#### 1. Creating a Series from a list"
   ]
  },
  {
   "cell_type": "code",
   "execution_count": 6,
   "id": "2aeb1dfd",
   "metadata": {},
   "outputs": [],
   "source": [
    "seed(234)\n",
    "my_data = choices(range(30), k = 5)"
   ]
  },
  {
   "cell_type": "code",
   "execution_count": 7,
   "id": "951472ef",
   "metadata": {},
   "outputs": [
    {
     "data": {
      "text/plain": [
       "0    10\n",
       "1    25\n",
       "2    25\n",
       "3    27\n",
       "4    15\n",
       "dtype: int64"
      ]
     },
     "execution_count": 7,
     "metadata": {},
     "output_type": "execute_result"
    }
   ],
   "source": [
    "ser_1 = pd.Series(my_data)\n",
    "ser_1"
   ]
  },
  {
   "cell_type": "markdown",
   "id": "85055c8e",
   "metadata": {},
   "source": [
    "> we can see that the data is displayed on the right, and the indecies on the left (the default indexing is integers starting from **zero**)"
   ]
  },
  {
   "cell_type": "markdown",
   "id": "2917a32e",
   "metadata": {},
   "source": [
    "> We can change the index by providing our own indecies, in this case __labels__"
   ]
  },
  {
   "cell_type": "code",
   "execution_count": 8,
   "id": "6f7ec4fd",
   "metadata": {},
   "outputs": [],
   "source": [
    "labels = list(ascii_uppercase[:5])"
   ]
  },
  {
   "cell_type": "code",
   "execution_count": 9,
   "id": "ca1d27d2",
   "metadata": {},
   "outputs": [
    {
     "data": {
      "text/plain": [
       "A    10\n",
       "B    25\n",
       "C    25\n",
       "D    27\n",
       "E    15\n",
       "dtype: int64"
      ]
     },
     "execution_count": 9,
     "metadata": {},
     "output_type": "execute_result"
    }
   ],
   "source": [
    "ser_2 = pd.Series(my_data, index= labels)\n",
    "ser_2"
   ]
  },
  {
   "cell_type": "markdown",
   "id": "e624aa5f",
   "metadata": {},
   "source": [
    "> #### 2. Creating a Series from a Numpy Array"
   ]
  },
  {
   "cell_type": "code",
   "execution_count": 10,
   "id": "e663c050",
   "metadata": {},
   "outputs": [
    {
     "data": {
      "text/plain": [
       "array([23, 14,  4, 16,  8])"
      ]
     },
     "execution_count": 10,
     "metadata": {},
     "output_type": "execute_result"
    }
   ],
   "source": [
    "arr = np.random.randint(1, 30, size = 5)\n",
    "arr"
   ]
  },
  {
   "cell_type": "markdown",
   "id": "c46ff756",
   "metadata": {},
   "source": [
    " > It is preferrable to have a __Series__ with an index identifying each data point. We can simply do that by providing an array-like data and passe it the __index argument__"
   ]
  },
  {
   "cell_type": "code",
   "execution_count": 11,
   "id": "cb22352f",
   "metadata": {},
   "outputs": [
    {
     "data": {
      "text/plain": [
       "A    23\n",
       "B    14\n",
       "C     4\n",
       "D    16\n",
       "E     8\n",
       "dtype: int64"
      ]
     },
     "execution_count": 11,
     "metadata": {},
     "output_type": "execute_result"
    }
   ],
   "source": [
    "ser_3 = pd.Series(arr, index = labels)\n",
    "ser_3"
   ]
  },
  {
   "cell_type": "code",
   "execution_count": 12,
   "id": "a352b5ea",
   "metadata": {},
   "outputs": [
    {
     "data": {
      "text/plain": [
       "0    23\n",
       "1    14\n",
       "2     4\n",
       "3    16\n",
       "4     8\n",
       "dtype: int64"
      ]
     },
     "execution_count": 12,
     "metadata": {},
     "output_type": "execute_result"
    }
   ],
   "source": [
    "# If we don't provide the index, the series will be indexed with its default (0 up length -1)\n",
    "pd.Series(arr)"
   ]
  },
  {
   "cell_type": "markdown",
   "id": "6c5878a1",
   "metadata": {},
   "source": [
    "> #### 3. Creating a Series from a Dictionary\n",
    "\n",
    "---\n",
    "\n",
    "   - We will created a dictionayr randomly using the dictionary comprehension technique\n",
    "   \n",
    "   \n",
    "   - Series Created from a dictionary will take the __keys__ automaticallh to be the index and the __values__ to be the data"
   ]
  },
  {
   "cell_type": "code",
   "execution_count": 13,
   "id": "3ea2b0a5",
   "metadata": {},
   "outputs": [],
   "source": [
    "labels = list(ascii_uppercase[:5])"
   ]
  },
  {
   "cell_type": "code",
   "execution_count": 14,
   "id": "f9a74816",
   "metadata": {},
   "outputs": [
    {
     "data": {
      "text/plain": [
       "{'A': 14, 'B': 27, 'C': 28, 'D': 29, 'E': 10}"
      ]
     },
     "execution_count": 14,
     "metadata": {},
     "output_type": "execute_result"
    }
   ],
   "source": [
    "my_dict = {labels.pop(0):x for x in choices(range(30), k = 5)}\n",
    "my_dict"
   ]
  },
  {
   "cell_type": "code",
   "execution_count": 15,
   "id": "9f64b9e3",
   "metadata": {},
   "outputs": [
    {
     "data": {
      "text/plain": [
       "A    14\n",
       "B    27\n",
       "C    28\n",
       "D    29\n",
       "E    10\n",
       "dtype: int64"
      ]
     },
     "execution_count": 15,
     "metadata": {},
     "output_type": "execute_result"
    }
   ],
   "source": [
    "ser_4 = pd.Series(my_dict)\n",
    "ser_4"
   ]
  },
  {
   "cell_type": "markdown",
   "id": "8fea3b88",
   "metadata": {},
   "source": [
    "### Creating a Series of Scalar\n",
    "\n",
    "  If data is a scalar value, an index must be provided. The value will be repeated to match the length of index."
   ]
  },
  {
   "cell_type": "code",
   "execution_count": 16,
   "id": "9a373452",
   "metadata": {},
   "outputs": [
    {
     "data": {
      "text/plain": [
       "Series([], dtype: int64)"
      ]
     },
     "execution_count": 16,
     "metadata": {},
     "output_type": "execute_result"
    }
   ],
   "source": [
    "scalar_ser = pd.Series(data = 10, index = labels)\n",
    "scalar_ser"
   ]
  },
  {
   "cell_type": "markdown",
   "id": "188fcbb2",
   "metadata": {},
   "source": [
    "## Necessary Series Attributes\n",
    "\n",
    " - **values**: By passing the __values__ attribe to a series object allows us to get the array of the data.\n",
    " \n",
    " \n",
    " - **index**: We can retrieve the array of indecies using __index__ attribute\n",
    " \n",
    " - **dtype**: attribute to find the data type of the underlying data for the given Series object."
   ]
  },
  {
   "cell_type": "code",
   "execution_count": 17,
   "id": "8fe0683d",
   "metadata": {},
   "outputs": [
    {
     "data": {
      "text/plain": [
       "array([10, 25, 25, 27, 15])"
      ]
     },
     "execution_count": 17,
     "metadata": {},
     "output_type": "execute_result"
    }
   ],
   "source": [
    "# The values of series 01\n",
    "ser_1.values"
   ]
  },
  {
   "cell_type": "code",
   "execution_count": 18,
   "id": "441e0d92",
   "metadata": {},
   "outputs": [
    {
     "data": {
      "text/plain": [
       "RangeIndex(start=0, stop=5, step=1)"
      ]
     },
     "execution_count": 18,
     "metadata": {},
     "output_type": "execute_result"
    }
   ],
   "source": [
    "# The index of a series 01 (it is indexed by Panbas default values)\n",
    "ser_1.index"
   ]
  },
  {
   "cell_type": "code",
   "execution_count": 19,
   "id": "9239b136",
   "metadata": {},
   "outputs": [
    {
     "data": {
      "text/plain": [
       "array([14, 27, 28, 29, 10])"
      ]
     },
     "execution_count": 19,
     "metadata": {},
     "output_type": "execute_result"
    }
   ],
   "source": [
    "## The series 04  values \n",
    "ser_4.values"
   ]
  },
  {
   "cell_type": "code",
   "execution_count": 20,
   "id": "9ebc2e9f",
   "metadata": {},
   "outputs": [
    {
     "data": {
      "text/plain": [
       "Index(['A', 'B', 'C', 'D', 'E'], dtype='object')"
      ]
     },
     "execution_count": 20,
     "metadata": {},
     "output_type": "execute_result"
    }
   ],
   "source": [
    "## The series 04 indecies\n",
    "ser_4.index"
   ]
  },
  {
   "cell_type": "code",
   "execution_count": 21,
   "id": "da314e52",
   "metadata": {},
   "outputs": [
    {
     "data": {
      "text/plain": [
       "dtype('int64')"
      ]
     },
     "execution_count": 21,
     "metadata": {},
     "output_type": "execute_result"
    }
   ],
   "source": [
    "## The Data type of series\n",
    "ser_1.dtype"
   ]
  },
  {
   "cell_type": "code",
   "execution_count": 22,
   "id": "4f277e27",
   "metadata": {},
   "outputs": [
    {
     "data": {
      "text/plain": [
       "dtype('int64')"
      ]
     },
     "execution_count": 22,
     "metadata": {},
     "output_type": "execute_result"
    }
   ],
   "source": [
    "ser_4.dtype"
   ]
  },
  {
   "cell_type": "markdown",
   "id": "27e05b2c",
   "metadata": {},
   "source": [
    "#### Practice Creating a Series from a dictionary"
   ]
  },
  {
   "cell_type": "code",
   "execution_count": 23,
   "id": "c800a37b",
   "metadata": {},
   "outputs": [
    {
     "data": {
      "text/plain": [
       "Germany    2500\n",
       "Poland     1500\n",
       "Russia     4300\n",
       "Sweden     1200\n",
       "dtype: int64"
      ]
     },
     "execution_count": 23,
     "metadata": {},
     "output_type": "execute_result"
    }
   ],
   "source": [
    "dict_data = {'Germany': 2500, 'Poland': 1500, 'Russia': 4300, 'Sweden': 1200}\n",
    "pd.Series(dict_data)"
   ]
  },
  {
   "cell_type": "markdown",
   "id": "3e95a2b8",
   "metadata": {},
   "source": [
    "### Series Data Types \n",
    "\n",
    "  Pandas Series objects can hold any data type (integers, strings, floating point numbers, Python objects, etc.)."
   ]
  },
  {
   "cell_type": "code",
   "execution_count": 24,
   "id": "e11f114a",
   "metadata": {},
   "outputs": [
    {
     "data": {
      "text/plain": [
       "name1     Ahmed\n",
       "name2    Nassim\n",
       "name3     Idris\n",
       "dtype: object"
      ]
     },
     "execution_count": 24,
     "metadata": {},
     "output_type": "execute_result"
    }
   ],
   "source": [
    "names = ['Ahmed', 'Nassim', 'Idris']\n",
    "names_ser = pd.Series(names, index = ['name1', 'name2', 'name3'])\n",
    "names_ser"
   ]
  },
  {
   "cell_type": "code",
   "execution_count": 25,
   "id": "61cc3fe0",
   "metadata": {},
   "outputs": [
    {
     "data": {
      "text/plain": [
       "dtype('O')"
      ]
     },
     "execution_count": 25,
     "metadata": {},
     "output_type": "execute_result"
    }
   ],
   "source": [
    "names_ser.dtype"
   ]
  },
  {
   "cell_type": "markdown",
   "id": "c3398d46",
   "metadata": {},
   "source": [
    "Object data type is pandas way of representing string objects"
   ]
  },
  {
   "cell_type": "code",
   "execution_count": 26,
   "id": "8e27f8a1",
   "metadata": {},
   "outputs": [
    {
     "name": "stdout",
     "output_type": "stream",
     "text": [
      "0    100\n",
      "1    500\n",
      "2    750\n",
      "3    900\n",
      "dtype: int64\n"
     ]
    }
   ],
   "source": [
    "# Creating the Series\n",
    "s = pd.Series([100, 500, 750, 900]) \n",
    "# Print the series\n",
    "print(s)"
   ]
  },
  {
   "cell_type": "code",
   "execution_count": 27,
   "id": "7b8aca96",
   "metadata": {},
   "outputs": [
    {
     "data": {
      "text/plain": [
       "dtype('int64')"
      ]
     },
     "execution_count": 27,
     "metadata": {},
     "output_type": "execute_result"
    }
   ],
   "source": [
    "s.dtype"
   ]
  },
  {
   "cell_type": "markdown",
   "id": "afa74828",
   "metadata": {},
   "source": [
    "> **Question: Can a Series hold more than one data type at once?**"
   ]
  },
  {
   "cell_type": "code",
   "execution_count": 28,
   "id": "85507729",
   "metadata": {},
   "outputs": [],
   "source": [
    "hyb = [1, 'a', True, 2.3, sum]"
   ]
  },
  {
   "cell_type": "code",
   "execution_count": 29,
   "id": "84ba3bd8",
   "metadata": {},
   "outputs": [
    {
     "data": {
      "text/plain": [
       "0                          1\n",
       "1                          a\n",
       "2                       True\n",
       "3                        2.3\n",
       "4    <built-in function sum>\n",
       "dtype: object"
      ]
     },
     "execution_count": 29,
     "metadata": {},
     "output_type": "execute_result"
    }
   ],
   "source": [
    "hyb_ser = pd.Series(hyb)\n",
    "hyb_ser"
   ]
  },
  {
   "cell_type": "code",
   "execution_count": 30,
   "id": "daa0790c",
   "metadata": {},
   "outputs": [
    {
     "data": {
      "text/plain": [
       "dtype('O')"
      ]
     },
     "execution_count": 30,
     "metadata": {},
     "output_type": "execute_result"
    }
   ],
   "source": [
    "hyb_ser.dtype"
   ]
  },
  {
   "cell_type": "code",
   "execution_count": 31,
   "id": "d00cdce5",
   "metadata": {},
   "outputs": [
    {
     "data": {
      "text/plain": [
       "b    2.0\n",
       "e    3.0\n",
       "f    4.0\n",
       "w    5.0\n",
       "dtype: float64"
      ]
     },
     "execution_count": 31,
     "metadata": {},
     "output_type": "execute_result"
    }
   ],
   "source": [
    "## Another Example:\n",
    "pd.Series(data = [2., 3, 4, 5], index = ['b', 'e', 'f', 'w'])"
   ]
  },
  {
   "cell_type": "markdown",
   "id": "cebb408c",
   "metadata": {},
   "source": [
    "#### Creating a Series with a specific data type"
   ]
  },
  {
   "cell_type": "code",
   "execution_count": 32,
   "id": "aa76a487",
   "metadata": {},
   "outputs": [
    {
     "data": {
      "text/plain": [
       "b    2.1\n",
       "e    3.4\n",
       "f    4.7\n",
       "w    5.8\n",
       "dtype: float32"
      ]
     },
     "execution_count": 32,
     "metadata": {},
     "output_type": "execute_result"
    }
   ],
   "source": [
    "pd.Series(data = [2.1, 3.4, 4.7, 5.8], index = ['b', 'e', 'f', 'w'], dtype = 'float32')"
   ]
  },
  {
   "cell_type": "markdown",
   "id": "ca75917b",
   "metadata": {},
   "source": [
    "> If we try to give a data type that is not compatible with the data, pandas with raise an error"
   ]
  },
  {
   "cell_type": "code",
   "execution_count": 33,
   "id": "18d872f4",
   "metadata": {},
   "outputs": [
    {
     "ename": "ValueError",
     "evalue": "Trying to coerce float values to integers",
     "output_type": "error",
     "traceback": [
      "\u001b[0;31m---------------------------------------------------------------------------\u001b[0m",
      "\u001b[0;31mValueError\u001b[0m                                Traceback (most recent call last)",
      "\u001b[0;32m<ipython-input-33-efa42914d7cf>\u001b[0m in \u001b[0;36m<module>\u001b[0;34m\u001b[0m\n\u001b[0;32m----> 1\u001b[0;31m \u001b[0mpd\u001b[0m\u001b[0;34m.\u001b[0m\u001b[0mSeries\u001b[0m\u001b[0;34m(\u001b[0m\u001b[0mdata\u001b[0m \u001b[0;34m=\u001b[0m \u001b[0;34m[\u001b[0m\u001b[0;36m2.1\u001b[0m\u001b[0;34m,\u001b[0m \u001b[0;36m3.4\u001b[0m\u001b[0;34m,\u001b[0m \u001b[0;36m4.7\u001b[0m\u001b[0;34m,\u001b[0m \u001b[0;36m5.8\u001b[0m\u001b[0;34m]\u001b[0m\u001b[0;34m,\u001b[0m \u001b[0mindex\u001b[0m \u001b[0;34m=\u001b[0m \u001b[0;34m[\u001b[0m\u001b[0;34m'b'\u001b[0m\u001b[0;34m,\u001b[0m \u001b[0;34m'e'\u001b[0m\u001b[0;34m,\u001b[0m \u001b[0;34m'f'\u001b[0m\u001b[0;34m,\u001b[0m \u001b[0;34m'w'\u001b[0m\u001b[0;34m]\u001b[0m\u001b[0;34m,\u001b[0m \u001b[0mdtype\u001b[0m \u001b[0;34m=\u001b[0m \u001b[0;34m'int32'\u001b[0m\u001b[0;34m)\u001b[0m\u001b[0;34m\u001b[0m\u001b[0;34m\u001b[0m\u001b[0m\n\u001b[0m",
      "\u001b[0;32m/opt/anaconda3/lib/python3.8/site-packages/pandas/core/series.py\u001b[0m in \u001b[0;36m__init__\u001b[0;34m(self, data, index, dtype, name, copy, fastpath)\u001b[0m\n\u001b[1;32m    437\u001b[0m                     \u001b[0mdata\u001b[0m \u001b[0;34m=\u001b[0m \u001b[0mdata\u001b[0m\u001b[0;34m.\u001b[0m\u001b[0mcopy\u001b[0m\u001b[0;34m(\u001b[0m\u001b[0;34m)\u001b[0m\u001b[0;34m\u001b[0m\u001b[0;34m\u001b[0m\u001b[0m\n\u001b[1;32m    438\u001b[0m             \u001b[0;32melse\u001b[0m\u001b[0;34m:\u001b[0m\u001b[0;34m\u001b[0m\u001b[0;34m\u001b[0m\u001b[0m\n\u001b[0;32m--> 439\u001b[0;31m                 \u001b[0mdata\u001b[0m \u001b[0;34m=\u001b[0m \u001b[0msanitize_array\u001b[0m\u001b[0;34m(\u001b[0m\u001b[0mdata\u001b[0m\u001b[0;34m,\u001b[0m \u001b[0mindex\u001b[0m\u001b[0;34m,\u001b[0m \u001b[0mdtype\u001b[0m\u001b[0;34m,\u001b[0m \u001b[0mcopy\u001b[0m\u001b[0;34m)\u001b[0m\u001b[0;34m\u001b[0m\u001b[0;34m\u001b[0m\u001b[0m\n\u001b[0m\u001b[1;32m    440\u001b[0m \u001b[0;34m\u001b[0m\u001b[0m\n\u001b[1;32m    441\u001b[0m                 \u001b[0mmanager\u001b[0m \u001b[0;34m=\u001b[0m \u001b[0mget_option\u001b[0m\u001b[0;34m(\u001b[0m\u001b[0;34m\"mode.data_manager\"\u001b[0m\u001b[0;34m)\u001b[0m\u001b[0;34m\u001b[0m\u001b[0;34m\u001b[0m\u001b[0m\n",
      "\u001b[0;32m/opt/anaconda3/lib/python3.8/site-packages/pandas/core/construction.py\u001b[0m in \u001b[0;36msanitize_array\u001b[0;34m(data, index, dtype, copy, raise_cast_failure, allow_2d)\u001b[0m\n\u001b[1;32m    568\u001b[0m \u001b[0;34m\u001b[0m\u001b[0m\n\u001b[1;32m    569\u001b[0m         \u001b[0;32mif\u001b[0m \u001b[0mdtype\u001b[0m \u001b[0;32mis\u001b[0m \u001b[0;32mnot\u001b[0m \u001b[0;32mNone\u001b[0m \u001b[0;32mor\u001b[0m \u001b[0mlen\u001b[0m\u001b[0;34m(\u001b[0m\u001b[0mdata\u001b[0m\u001b[0;34m)\u001b[0m \u001b[0;34m==\u001b[0m \u001b[0;36m0\u001b[0m\u001b[0;34m:\u001b[0m\u001b[0;34m\u001b[0m\u001b[0;34m\u001b[0m\u001b[0m\n\u001b[0;32m--> 570\u001b[0;31m             \u001b[0msubarr\u001b[0m \u001b[0;34m=\u001b[0m \u001b[0m_try_cast\u001b[0m\u001b[0;34m(\u001b[0m\u001b[0mdata\u001b[0m\u001b[0;34m,\u001b[0m \u001b[0mdtype\u001b[0m\u001b[0;34m,\u001b[0m \u001b[0mcopy\u001b[0m\u001b[0;34m,\u001b[0m \u001b[0mraise_cast_failure\u001b[0m\u001b[0;34m)\u001b[0m\u001b[0;34m\u001b[0m\u001b[0;34m\u001b[0m\u001b[0m\n\u001b[0m\u001b[1;32m    571\u001b[0m         \u001b[0;32melse\u001b[0m\u001b[0;34m:\u001b[0m\u001b[0;34m\u001b[0m\u001b[0;34m\u001b[0m\u001b[0m\n\u001b[1;32m    572\u001b[0m             \u001b[0msubarr\u001b[0m \u001b[0;34m=\u001b[0m \u001b[0mmaybe_convert_platform\u001b[0m\u001b[0;34m(\u001b[0m\u001b[0mdata\u001b[0m\u001b[0;34m)\u001b[0m\u001b[0;34m\u001b[0m\u001b[0;34m\u001b[0m\u001b[0m\n",
      "\u001b[0;32m/opt/anaconda3/lib/python3.8/site-packages/pandas/core/construction.py\u001b[0m in \u001b[0;36m_try_cast\u001b[0;34m(arr, dtype, copy, raise_cast_failure)\u001b[0m\n\u001b[1;32m    753\u001b[0m             \u001b[0;31m# this will raise if we have e.g. floats\u001b[0m\u001b[0;34m\u001b[0m\u001b[0;34m\u001b[0m\u001b[0;34m\u001b[0m\u001b[0m\n\u001b[1;32m    754\u001b[0m \u001b[0;34m\u001b[0m\u001b[0m\n\u001b[0;32m--> 755\u001b[0;31m             \u001b[0msubarr\u001b[0m \u001b[0;34m=\u001b[0m \u001b[0mmaybe_cast_to_integer_array\u001b[0m\u001b[0;34m(\u001b[0m\u001b[0marr\u001b[0m\u001b[0;34m,\u001b[0m \u001b[0mdtype\u001b[0m\u001b[0;34m)\u001b[0m\u001b[0;34m\u001b[0m\u001b[0;34m\u001b[0m\u001b[0m\n\u001b[0m\u001b[1;32m    756\u001b[0m         \u001b[0;32melse\u001b[0m\u001b[0;34m:\u001b[0m\u001b[0;34m\u001b[0m\u001b[0;34m\u001b[0m\u001b[0m\n\u001b[1;32m    757\u001b[0m             \u001b[0;31m# 4 tests fail if we move this to a try/except/else; see\u001b[0m\u001b[0;34m\u001b[0m\u001b[0;34m\u001b[0m\u001b[0;34m\u001b[0m\u001b[0m\n",
      "\u001b[0;32m/opt/anaconda3/lib/python3.8/site-packages/pandas/core/dtypes/cast.py\u001b[0m in \u001b[0;36mmaybe_cast_to_integer_array\u001b[0;34m(arr, dtype, copy)\u001b[0m\n\u001b[1;32m   2065\u001b[0m                 \u001b[0;34m\"Cannot convert non-finite values (NA or inf) to integer\"\u001b[0m\u001b[0;34m\u001b[0m\u001b[0;34m\u001b[0m\u001b[0m\n\u001b[1;32m   2066\u001b[0m             )\n\u001b[0;32m-> 2067\u001b[0;31m         \u001b[0;32mraise\u001b[0m \u001b[0mValueError\u001b[0m\u001b[0;34m(\u001b[0m\u001b[0;34m\"Trying to coerce float values to integers\"\u001b[0m\u001b[0;34m)\u001b[0m\u001b[0;34m\u001b[0m\u001b[0;34m\u001b[0m\u001b[0m\n\u001b[0m\u001b[1;32m   2068\u001b[0m     \u001b[0;32mif\u001b[0m \u001b[0mis_object_dtype\u001b[0m\u001b[0;34m(\u001b[0m\u001b[0marr\u001b[0m\u001b[0;34m.\u001b[0m\u001b[0mdtype\u001b[0m\u001b[0;34m)\u001b[0m\u001b[0;34m:\u001b[0m\u001b[0;34m\u001b[0m\u001b[0;34m\u001b[0m\u001b[0m\n\u001b[1;32m   2069\u001b[0m         \u001b[0;32mraise\u001b[0m \u001b[0mValueError\u001b[0m\u001b[0;34m(\u001b[0m\u001b[0;34m\"Trying to coerce float values to integers\"\u001b[0m\u001b[0;34m)\u001b[0m\u001b[0;34m\u001b[0m\u001b[0;34m\u001b[0m\u001b[0m\n",
      "\u001b[0;31mValueError\u001b[0m: Trying to coerce float values to integers"
     ]
    }
   ],
   "source": [
    "pd.Series(data = [2.1, 3.4, 4.7, 5.8], index = ['b', 'e', 'f', 'w'], dtype = 'int32')"
   ]
  },
  {
   "cell_type": "markdown",
   "id": "e3c1417d",
   "metadata": {},
   "source": [
    "> Coercion to strings always guaranted to work"
   ]
  },
  {
   "cell_type": "code",
   "execution_count": 34,
   "id": "381b387c",
   "metadata": {},
   "outputs": [
    {
     "data": {
      "text/plain": [
       "b    2.1\n",
       "e    3.4\n",
       "f    4.7\n",
       "w    5.8\n",
       "dtype: object"
      ]
     },
     "execution_count": 34,
     "metadata": {},
     "output_type": "execute_result"
    }
   ],
   "source": [
    "pd.Series(data = [2.1, 3.4, 4.7, 5.8], index = ['b', 'e', 'f', 'w'], dtype = 'str')"
   ]
  },
  {
   "cell_type": "markdown",
   "id": "babbb056",
   "metadata": {},
   "source": [
    "#### Funny Example: an Example with function objects"
   ]
  },
  {
   "cell_type": "code",
   "execution_count": 35,
   "id": "07a00b6e",
   "metadata": {},
   "outputs": [
    {
     "data": {
      "text/plain": [
       "func1       <built-in function sum>\n",
       "func2       <built-in function min>\n",
       "func3       <built-in function max>\n",
       "func4    <built-in function sorted>\n",
       "dtype: object"
      ]
     },
     "execution_count": 35,
     "metadata": {},
     "output_type": "execute_result"
    }
   ],
   "source": [
    "func_ser = pd.Series(data = [sum, min, max, sorted], index = ['func1', 'func2', 'func3', 'func4'])\n",
    "func_ser"
   ]
  },
  {
   "cell_type": "markdown",
   "id": "78df6b7f",
   "metadata": {},
   "source": [
    "## Naming a Series\n",
    "\n",
    "  - The Series object and its index can have a __name__ attribute\n",
    "  \n",
    "#### 1. Naming the Series Object\n",
    "\n",
    "   We can name a series object using the __name__ attribute"
   ]
  },
  {
   "cell_type": "code",
   "execution_count": 36,
   "id": "6c779c6d",
   "metadata": {},
   "outputs": [
    {
     "data": {
      "text/plain": [
       "Algeria     42\n",
       "Egypt      120\n",
       "Tunisia      9\n",
       "Name: Population, dtype: int64"
      ]
     },
     "execution_count": 36,
     "metadata": {},
     "output_type": "execute_result"
    }
   ],
   "source": [
    "cities = pd.Series([42, 120, 9], index = ['Algeria', 'Egypt', 'Tunisia'])\n",
    "cities.name = 'Population'\n",
    "cities"
   ]
  },
  {
   "cell_type": "code",
   "execution_count": 37,
   "id": "900f6399",
   "metadata": {},
   "outputs": [
    {
     "data": {
      "text/plain": [
       "'Population'"
      ]
     },
     "execution_count": 37,
     "metadata": {},
     "output_type": "execute_result"
    }
   ],
   "source": [
    "cities.name"
   ]
  },
  {
   "cell_type": "markdown",
   "id": "02447d33",
   "metadata": {},
   "source": [
    "#### 2. Naming the index\n",
    "\n",
    " the index is named the same way as the series object"
   ]
  },
  {
   "cell_type": "code",
   "execution_count": 38,
   "id": "321e276f",
   "metadata": {},
   "outputs": [
    {
     "data": {
      "text/plain": [
       "Countries\n",
       "Algeria     42\n",
       "Egypt      120\n",
       "Tunisia      9\n",
       "Name: Population, dtype: int64"
      ]
     },
     "execution_count": 38,
     "metadata": {},
     "output_type": "execute_result"
    }
   ],
   "source": [
    "cities.index.name = 'Countries'\n",
    "cities"
   ]
  },
  {
   "cell_type": "markdown",
   "id": "81debd6e",
   "metadata": {},
   "source": [
    "## Series Reindexing\n",
    "\n",
    "   we can reindex the __series__ object whenever we need to. For example, after passing a dictionary without the index, the keys will be the index automatically, but we can override that by providing our own index"
   ]
  },
  {
   "cell_type": "code",
   "execution_count": 39,
   "id": "7f3b275f",
   "metadata": {},
   "outputs": [
    {
     "data": {
      "text/plain": [
       "Anas      24\n",
       "Walid     28\n",
       "Youcef    21\n",
       "Malik     19\n",
       "dtype: int64"
      ]
     },
     "execution_count": 39,
     "metadata": {},
     "output_type": "execute_result"
    }
   ],
   "source": [
    "p_dict = {'Anas': 24, 'Walid': 28, 'Youcef': 21, 'Malik': 19}\n",
    "people = pd.Series(p_dict)\n",
    "people"
   ]
  },
  {
   "cell_type": "code",
   "execution_count": 40,
   "id": "d77a2959",
   "metadata": {},
   "outputs": [
    {
     "data": {
      "text/plain": [
       "Ahmed      NaN\n",
       "Anas      24.0\n",
       "Walid     28.0\n",
       "Youcef    21.0\n",
       "Malik     19.0\n",
       "dtype: float64"
      ]
     },
     "execution_count": 40,
     "metadata": {},
     "output_type": "execute_result"
    }
   ],
   "source": [
    "names = ['Ahmed', 'Anas', 'Walid', 'Youcef', 'Malik']\n",
    "people = pd.Series(p_dict, index = names)\n",
    "people"
   ]
  },
  {
   "cell_type": "markdown",
   "id": "4a5e1d54",
   "metadata": {},
   "source": [
    "> We see a new value associated with 'Ahmed', __NaN__ (**Not a Number**). This happened because the data points were placed in the appropriate location, but __Ahmed__ does not have a value so it is replace with __NaN__ which is the way of representing a __missing value__."
   ]
  },
  {
   "cell_type": "markdown",
   "id": "a4181687",
   "metadata": {},
   "source": [
    "**Another nice feature is that the index can be altered in place by assignment. Thus, we can change that as shown in the example below**\n"
   ]
  },
  {
   "cell_type": "code",
   "execution_count": 41,
   "id": "c1e66826",
   "metadata": {},
   "outputs": [
    {
     "data": {
      "text/plain": [
       "Andro      NaN\n",
       "Thomas    24.0\n",
       "Peter     28.0\n",
       "Donald    21.0\n",
       "Harvey    19.0\n",
       "dtype: float64"
      ]
     },
     "execution_count": 41,
     "metadata": {},
     "output_type": "execute_result"
    }
   ],
   "source": [
    "people.index = ['Andro', 'Thomas', 'Peter', 'Donald', 'Harvey']\n",
    "people"
   ]
  },
  {
   "cell_type": "markdown",
   "id": "00db9d6e",
   "metadata": {},
   "source": [
    "### <u>Note:<u/> \n",
    "\n",
    "  > The same result can be achieved using __reindex__ attribute"
   ]
  },
  {
   "cell_type": "code",
   "execution_count": 42,
   "id": "9f3b9e62",
   "metadata": {},
   "outputs": [
    {
     "data": {
      "text/plain": [
       "Andro      NaN\n",
       "Thomas    24.0\n",
       "Peter     28.0\n",
       "Donald    21.0\n",
       "Harvey    19.0\n",
       "dtype: float64"
      ]
     },
     "execution_count": 42,
     "metadata": {},
     "output_type": "execute_result"
    }
   ],
   "source": [
    "people.reindex(['Andro', 'Thomas', 'Peter', 'Donald', 'Harvey'])"
   ]
  },
  {
   "cell_type": "markdown",
   "id": "863285a9",
   "metadata": {},
   "source": [
    "> We still have NaN, we can assign a new value to it as follows"
   ]
  },
  {
   "cell_type": "code",
   "execution_count": 43,
   "id": "dca97381",
   "metadata": {},
   "outputs": [
    {
     "data": {
      "text/plain": [
       "Andro     26.0\n",
       "Thomas    24.0\n",
       "Peter     28.0\n",
       "Donald    21.0\n",
       "Harvey    19.0\n",
       "dtype: float64"
      ]
     },
     "execution_count": 43,
     "metadata": {},
     "output_type": "execute_result"
    }
   ],
   "source": [
    "people['Andro'] = 26\n",
    "people"
   ]
  },
  {
   "cell_type": "markdown",
   "id": "daca5cec",
   "metadata": {},
   "source": [
    "> We can change the values as well by reassigning a new value to associated index"
   ]
  },
  {
   "cell_type": "code",
   "execution_count": 44,
   "id": "8a2037cc",
   "metadata": {},
   "outputs": [
    {
     "data": {
      "text/plain": [
       "Andro     26.0\n",
       "Thomas    24.0\n",
       "Peter     33.0\n",
       "Donald    21.0\n",
       "Harvey    19.0\n",
       "dtype: float64"
      ]
     },
     "execution_count": 44,
     "metadata": {},
     "output_type": "execute_result"
    }
   ],
   "source": [
    "people['Peter'] = 33\n",
    "people"
   ]
  },
  {
   "cell_type": "markdown",
   "id": "781f0492",
   "metadata": {},
   "source": [
    "### Renaming an Index:\n",
    "\n",
    "   One way to change the index value is to use __rename__ method as shown Below"
   ]
  },
  {
   "cell_type": "code",
   "execution_count": 45,
   "id": "edbf9c67",
   "metadata": {},
   "outputs": [
    {
     "data": {
      "text/plain": [
       "Andro     26.0\n",
       "Thomas    24.0\n",
       "Frank     33.0\n",
       "Donald    21.0\n",
       "Harvey    19.0\n",
       "dtype: float64"
      ]
     },
     "execution_count": 45,
     "metadata": {},
     "output_type": "execute_result"
    }
   ],
   "source": [
    "people.rename(index={'Peter':'Frank'},inplace=True)\n",
    "people"
   ]
  },
  {
   "cell_type": "markdown",
   "id": "27a45139",
   "metadata": {},
   "source": [
    "## Series Indexing (Lookup)\n",
    "\n",
    "   Subsetting __series__ is similar to the lookup in python dictionary, we can use the values in the index to select a single value or a set of values.\n",
    "   \n",
    "   - It suffices to put the index in ['A']  \n",
    " "
   ]
  },
  {
   "cell_type": "code",
   "execution_count": 46,
   "id": "67083b8e",
   "metadata": {},
   "outputs": [
    {
     "data": {
      "text/plain": [
       "14"
      ]
     },
     "execution_count": 46,
     "metadata": {},
     "output_type": "execute_result"
    }
   ],
   "source": [
    "## Select the value with index A\n",
    "ser_4['A']"
   ]
  },
  {
   "cell_type": "markdown",
   "id": "ed654391",
   "metadata": {},
   "source": [
    "Selection a set of values requires double square brackets [['a', 'b,]]"
   ]
  },
  {
   "cell_type": "code",
   "execution_count": 47,
   "id": "a97597df",
   "metadata": {},
   "outputs": [
    {
     "data": {
      "text/plain": [
       "A    14\n",
       "C    28\n",
       "E    10\n",
       "dtype: int64"
      ]
     },
     "execution_count": 47,
     "metadata": {},
     "output_type": "execute_result"
    }
   ],
   "source": [
    "ser_4[['A', 'C', 'E']]"
   ]
  },
  {
   "cell_type": "markdown",
   "id": "2f9fd7b7",
   "metadata": {},
   "source": [
    "### <u>Note:<u/>\n",
    "\n",
    "> Series can be thought of as a fixed-lenght, ordered dictionary, as it is a mapping of index values to data values. This gives us the advantage of checking the existence of an index using __in__ operator "
   ]
  },
  {
   "cell_type": "code",
   "execution_count": 48,
   "id": "b5c22b35",
   "metadata": {},
   "outputs": [
    {
     "data": {
      "text/plain": [
       "False"
      ]
     },
     "execution_count": 48,
     "metadata": {},
     "output_type": "execute_result"
    }
   ],
   "source": [
    "'G' in ser_4"
   ]
  },
  {
   "cell_type": "code",
   "execution_count": 49,
   "id": "535158a8",
   "metadata": {},
   "outputs": [
    {
     "data": {
      "text/plain": [
       "True"
      ]
     },
     "execution_count": 49,
     "metadata": {},
     "output_type": "execute_result"
    }
   ],
   "source": [
    "'D' in ser_4"
   ]
  },
  {
   "cell_type": "markdown",
   "id": "3516bce3",
   "metadata": {},
   "source": [
    "## Operations with Series\n",
    "\n",
    "   - NumPy array operations, such as filtering with a boolearn array, scalar multiplication or applying math functions, will preserve the __index-value link__. \n",
    "   \n",
    "   \n",
    "   - When there is no match between in the index among the series, a __NaN__ will be generated.\n",
    "   "
   ]
  },
  {
   "cell_type": "code",
   "execution_count": 50,
   "id": "f9c12662",
   "metadata": {},
   "outputs": [
    {
     "data": {
      "text/plain": [
       "Coffee     1200\n",
       "Sugar      2300\n",
       "Tea       12000\n",
       "dtype: int64"
      ]
     },
     "execution_count": 50,
     "metadata": {},
     "output_type": "execute_result"
    }
   ],
   "source": [
    "products_1 = pd.Series({'Coffee': 1200, 'Sugar': 2300, 'Tea': 12000})\n",
    "products_1"
   ]
  },
  {
   "cell_type": "code",
   "execution_count": 51,
   "id": "11a793ed",
   "metadata": {},
   "outputs": [
    {
     "data": {
      "text/plain": [
       "tomato      970\n",
       "Coffee     1200\n",
       "Sugar      2300\n",
       "Tea       12000\n",
       "dtype: int64"
      ]
     },
     "execution_count": 51,
     "metadata": {},
     "output_type": "execute_result"
    }
   ],
   "source": [
    "products_2 = pd.Series({'tomato': 970,'Coffee': 1200, 'Sugar': 2300, 'Tea': 12000})\n",
    "products_2"
   ]
  },
  {
   "cell_type": "markdown",
   "id": "2d2e4799",
   "metadata": {},
   "source": [
    "> #### Addition"
   ]
  },
  {
   "cell_type": "code",
   "execution_count": 52,
   "id": "7e49652e",
   "metadata": {},
   "outputs": [
    {
     "data": {
      "text/plain": [
       "Coffee     2400.0\n",
       "Sugar      4600.0\n",
       "Tea       24000.0\n",
       "tomato        NaN\n",
       "dtype: float64"
      ]
     },
     "execution_count": 52,
     "metadata": {},
     "output_type": "execute_result"
    }
   ],
   "source": [
    "products_1 + products_2"
   ]
  },
  {
   "cell_type": "markdown",
   "id": "2142e825",
   "metadata": {},
   "source": [
    "> #### Multiplication"
   ]
  },
  {
   "cell_type": "code",
   "execution_count": 53,
   "id": "623c720b",
   "metadata": {},
   "outputs": [
    {
     "data": {
      "text/plain": [
       "Coffee     6000\n",
       "Sugar     11500\n",
       "Tea       60000\n",
       "dtype: int64"
      ]
     },
     "execution_count": 53,
     "metadata": {},
     "output_type": "execute_result"
    }
   ],
   "source": [
    "products_1 * 5"
   ]
  },
  {
   "cell_type": "markdown",
   "id": "258b4614",
   "metadata": {},
   "source": [
    "> #### boolean Selection"
   ]
  },
  {
   "cell_type": "code",
   "execution_count": 54,
   "id": "c34d3c17",
   "metadata": {},
   "outputs": [
    {
     "data": {
      "text/plain": [
       "Coffee     1200\n",
       "Sugar      2300\n",
       "Tea       12000\n",
       "dtype: int64"
      ]
     },
     "execution_count": 54,
     "metadata": {},
     "output_type": "execute_result"
    }
   ],
   "source": [
    "products_2[products_2 > 1000]"
   ]
  },
  {
   "cell_type": "code",
   "execution_count": null,
   "id": "fad9453c",
   "metadata": {},
   "outputs": [],
   "source": []
  }
 ],
 "metadata": {
  "kernelspec": {
   "display_name": "Python 3",
   "language": "python",
   "name": "python3"
  },
  "language_info": {
   "codemirror_mode": {
    "name": "ipython",
    "version": 3
   },
   "file_extension": ".py",
   "mimetype": "text/x-python",
   "name": "python",
   "nbconvert_exporter": "python",
   "pygments_lexer": "ipython3",
   "version": "3.8.2"
  }
 },
 "nbformat": 4,
 "nbformat_minor": 5
}
