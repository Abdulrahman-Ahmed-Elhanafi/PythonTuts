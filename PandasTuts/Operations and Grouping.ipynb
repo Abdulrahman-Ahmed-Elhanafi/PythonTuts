{
 "cells": [
  {
   "cell_type": "markdown",
   "id": "cfbd9d2b",
   "metadata": {},
   "source": [
    "# Pandas Operations"
   ]
  },
  {
   "cell_type": "code",
   "execution_count": null,
   "id": "9b8ddf52",
   "metadata": {},
   "outputs": [],
   "source": [
    "import pandas as pd\n",
    "import numpy as np\n",
    "from random import choices, seed, sample, shuffle\n",
    "from string import ascii_letters, ascii_uppercase"
   ]
  },
  {
   "cell_type": "markdown",
   "id": "5c462827",
   "metadata": {},
   "source": [
    "# Data Example"
   ]
  },
  {
   "cell_type": "code",
   "execution_count": null,
   "id": "e8a28a3a",
   "metadata": {},
   "outputs": [],
   "source": [
    "seed(10111)\n",
    "df = pd.DataFrame({'VAR_1': range(1, 7),\n",
    "                  'VAR_2': choices(range(20, 30), k = 6),\n",
    "                  'VAR_3': sample(range(10, 200, 14), k = 6)})\n",
    "df"
   ]
  },
  {
   "cell_type": "markdown",
   "id": "2be92cc0",
   "metadata": {},
   "source": [
    "\n",
    "### The count() method: \n",
    "It provides the number of Non Missing Data for columns (axis =0) or rows(axis = 1)"
   ]
  },
  {
   "cell_type": "code",
   "execution_count": null,
   "id": "fef26c97",
   "metadata": {},
   "outputs": [],
   "source": []
  },
  {
   "cell_type": "markdown",
   "id": "e90fb307",
   "metadata": {},
   "source": [
    "### Unique Method\n",
    "__unique__ method is a Series method, which works only with one variable from a DataFrame. and returns an array of unique values. "
   ]
  },
  {
   "cell_type": "code",
   "execution_count": null,
   "id": "f2f053d1",
   "metadata": {},
   "outputs": [],
   "source": []
  },
  {
   "cell_type": "markdown",
   "id": "85a3c304",
   "metadata": {},
   "source": [
    "### nunique method\n",
    "\n",
    "It returns the number of unique values."
   ]
  },
  {
   "cell_type": "code",
   "execution_count": null,
   "id": "d20a28ff",
   "metadata": {},
   "outputs": [],
   "source": []
  },
  {
   "cell_type": "code",
   "execution_count": null,
   "id": "de8ba97f",
   "metadata": {},
   "outputs": [],
   "source": []
  },
  {
   "cell_type": "markdown",
   "id": "b8c3d176",
   "metadata": {},
   "source": [
    "### value_counts \n",
    "\n",
    "It returns a table of values."
   ]
  },
  {
   "cell_type": "code",
   "execution_count": null,
   "id": "f6a2f090",
   "metadata": {},
   "outputs": [],
   "source": []
  },
  {
   "cell_type": "markdown",
   "id": "23cc8014",
   "metadata": {},
   "source": [
    "### duplicated method\n",
    "\n",
    "- It checks for  complete duplicates (all variables) using df.duplicated method.\n",
    "- Decide which one to consider duplicate with keep option (first, last, False)"
   ]
  },
  {
   "cell_type": "code",
   "execution_count": null,
   "id": "03beb647",
   "metadata": {},
   "outputs": [],
   "source": []
  },
  {
   "cell_type": "code",
   "execution_count": null,
   "id": "4ed2e03e",
   "metadata": {},
   "outputs": [],
   "source": []
  },
  {
   "cell_type": "code",
   "execution_count": null,
   "id": "f85556c1",
   "metadata": {},
   "outputs": [],
   "source": []
  },
  {
   "cell_type": "markdown",
   "id": "47e4c705",
   "metadata": {},
   "source": [
    "### drop_duplicates \n",
    "  - Decide on which one to keep or drop using keep argument (first, last, False)"
   ]
  },
  {
   "cell_type": "code",
   "execution_count": null,
   "id": "90154212",
   "metadata": {},
   "outputs": [],
   "source": []
  },
  {
   "cell_type": "markdown",
   "id": "fab37281",
   "metadata": {},
   "source": [
    "### Example of dropping duplicates"
   ]
  },
  {
   "cell_type": "code",
   "execution_count": null,
   "id": "dacd23f6",
   "metadata": {},
   "outputs": [],
   "source": [
    "dup_df = pd.DataFrame({'Col_1': [3, 2, 5, 3, 5, 2], \n",
    "                      'Col_2': [3, 1, 4, 3, 4, 2],\n",
    "                      \"Col_3\":[3, 2, 5, 3, 5, 2]})\n",
    "dup_df"
   ]
  },
  {
   "cell_type": "code",
   "execution_count": null,
   "id": "cf19975d",
   "metadata": {},
   "outputs": [],
   "source": []
  },
  {
   "cell_type": "markdown",
   "id": "537fbafb",
   "metadata": {},
   "source": [
    "### Number of Duplicates\n",
    "\n",
    "Chain the **sum** function to **duplicated** method."
   ]
  },
  {
   "cell_type": "code",
   "execution_count": null,
   "id": "e516cfd6",
   "metadata": {},
   "outputs": [],
   "source": []
  },
  {
   "cell_type": "markdown",
   "id": "b1d360bb",
   "metadata": {},
   "source": [
    "### Dropping Duplicates \n",
    "\n",
    "### First retained"
   ]
  },
  {
   "cell_type": "code",
   "execution_count": null,
   "id": "4ca028ae",
   "metadata": {},
   "outputs": [],
   "source": []
  },
  {
   "cell_type": "markdown",
   "id": "78ecf37e",
   "metadata": {},
   "source": [
    "### Last retained"
   ]
  },
  {
   "cell_type": "code",
   "execution_count": null,
   "id": "df4dee53",
   "metadata": {},
   "outputs": [],
   "source": []
  },
  {
   "cell_type": "markdown",
   "id": "ab8402b3",
   "metadata": {},
   "source": [
    "### Drop all duplicates"
   ]
  },
  {
   "cell_type": "code",
   "execution_count": null,
   "id": "81772f8b",
   "metadata": {},
   "outputs": [],
   "source": []
  },
  {
   "cell_type": "markdown",
   "id": "6261677a",
   "metadata": {},
   "source": [
    "## Sorting \n",
    "\n",
    "### sort_index "
   ]
  },
  {
   "cell_type": "code",
   "execution_count": null,
   "id": "6e07befc",
   "metadata": {},
   "outputs": [],
   "source": [
    "ind = list(ascii_letters)[:7]\n",
    "shuffle(ind)\n",
    "\n",
    "cols = list(ascii_uppercase)[:4]\n",
    "shuffle(cols)\n",
    "\n",
    "dat = np.array(choices(range(100), k = 28)).reshape(7, 4)\n",
    "ind_df = pd.DataFrame(dat, index = ind, columns = cols)\n",
    "ind_df"
   ]
  },
  {
   "cell_type": "markdown",
   "id": "fcfbfa6e",
   "metadata": {},
   "source": [
    "### Sort index by rows"
   ]
  },
  {
   "cell_type": "code",
   "execution_count": null,
   "id": "a3d3dac9",
   "metadata": {},
   "outputs": [],
   "source": []
  },
  {
   "cell_type": "markdown",
   "id": "70c25db7",
   "metadata": {},
   "source": [
    "### Sort index by columns"
   ]
  },
  {
   "cell_type": "code",
   "execution_count": null,
   "id": "72a44cdc",
   "metadata": {},
   "outputs": [],
   "source": []
  },
  {
   "cell_type": "markdown",
   "id": "5733d57e",
   "metadata": {},
   "source": [
    "### sort by row an column indexes"
   ]
  },
  {
   "cell_type": "code",
   "execution_count": null,
   "id": "26f58308",
   "metadata": {},
   "outputs": [],
   "source": []
  },
  {
   "cell_type": "markdown",
   "id": "c301a45a",
   "metadata": {},
   "source": [
    "### Sort Values by column"
   ]
  },
  {
   "cell_type": "code",
   "execution_count": null,
   "id": "1017ae0a",
   "metadata": {},
   "outputs": [],
   "source": []
  },
  {
   "cell_type": "markdown",
   "id": "88a5288a",
   "metadata": {},
   "source": [
    "### Sort by two columns"
   ]
  },
  {
   "cell_type": "code",
   "execution_count": null,
   "id": "e4c5b1f7",
   "metadata": {},
   "outputs": [],
   "source": []
  },
  {
   "cell_type": "markdown",
   "id": "37985cfa",
   "metadata": {},
   "source": [
    "### Sort in Descending order"
   ]
  },
  {
   "cell_type": "code",
   "execution_count": null,
   "id": "ceb04985",
   "metadata": {},
   "outputs": [],
   "source": []
  },
  {
   "cell_type": "markdown",
   "id": "bbbc3e73",
   "metadata": {},
   "source": [
    "# Grouping"
   ]
  },
  {
   "cell_type": "code",
   "execution_count": null,
   "id": "c850bc39",
   "metadata": {},
   "outputs": [],
   "source": [
    "df = pd.DataFrame({'Regions':['East', 'East', 'East', 'West', 'West', \n",
    "                             'South', 'South', 'South', 'South', 'North'], \n",
    "                  'Company':['C1', 'C2', 'C3', 'C1', 'C3', 'C4', 'C2','C3', 'C1', 'C2'], \n",
    "                  'Quantity': [1200, 3000, 2300, 5400, 2200, 1300, 2700, 6400, 7200, \n",
    "                               10000]})\n",
    "df"
   ]
  },
  {
   "cell_type": "markdown",
   "id": "17efd1f9",
   "metadata": {},
   "source": [
    "### groupby method"
   ]
  },
  {
   "cell_type": "code",
   "execution_count": null,
   "id": "b06175bc",
   "metadata": {},
   "outputs": [],
   "source": [
    "df.groupby?"
   ]
  },
  {
   "cell_type": "markdown",
   "id": "9d24c0f3",
   "metadata": {},
   "source": [
    "### Grouping Example"
   ]
  },
  {
   "cell_type": "code",
   "execution_count": null,
   "id": "72d1f308",
   "metadata": {},
   "outputs": [],
   "source": [
    "by_region = df.groupby('Regions')"
   ]
  },
  {
   "cell_type": "code",
   "execution_count": null,
   "id": "eb740827",
   "metadata": {},
   "outputs": [],
   "source": [
    "by_region"
   ]
  },
  {
   "cell_type": "markdown",
   "id": "b19cfa84",
   "metadata": {},
   "source": [
    "### Groups Internally"
   ]
  },
  {
   "cell_type": "code",
   "execution_count": null,
   "id": "3e4bed27",
   "metadata": {},
   "outputs": [],
   "source": [
    "list(by_region)"
   ]
  },
  {
   "cell_type": "markdown",
   "id": "78357e78",
   "metadata": {},
   "source": [
    "### Aggregation"
   ]
  },
  {
   "cell_type": "code",
   "execution_count": null,
   "id": "03095607",
   "metadata": {},
   "outputs": [],
   "source": [
    "by_region.sum()"
   ]
  },
  {
   "cell_type": "markdown",
   "id": "893fb750",
   "metadata": {},
   "source": [
    "### Grouping in one step"
   ]
  },
  {
   "cell_type": "code",
   "execution_count": null,
   "id": "75218346",
   "metadata": {},
   "outputs": [],
   "source": [
    "df.groupby(by = 'Regions').sum()"
   ]
  },
  {
   "cell_type": "markdown",
   "id": "c4a3297e",
   "metadata": {},
   "source": [
    "### Grouping by more columns"
   ]
  },
  {
   "cell_type": "code",
   "execution_count": null,
   "id": "c36ce740",
   "metadata": {},
   "outputs": [],
   "source": [
    "df.groupby(['Regions', 'Company']).median()"
   ]
  },
  {
   "cell_type": "markdown",
   "id": "e831c627",
   "metadata": {},
   "source": [
    "### The count  Function Example "
   ]
  },
  {
   "cell_type": "code",
   "execution_count": null,
   "id": "4e38ce11",
   "metadata": {},
   "outputs": [],
   "source": [
    "df.groupby('Regions').count()"
   ]
  },
  {
   "cell_type": "markdown",
   "id": "b394b6d0",
   "metadata": {},
   "source": [
    "### Describe method with Grouping"
   ]
  },
  {
   "cell_type": "code",
   "execution_count": null,
   "id": "cae4eb78",
   "metadata": {},
   "outputs": [],
   "source": []
  },
  {
   "cell_type": "code",
   "execution_count": null,
   "id": "4cbdc605",
   "metadata": {},
   "outputs": [],
   "source": [
    "df.groupby('Regions').describe().transpose()"
   ]
  },
  {
   "cell_type": "code",
   "execution_count": null,
   "id": "b01972d2",
   "metadata": {},
   "outputs": [],
   "source": [
    "df.groupby('Regions').describe().transpose()['East']"
   ]
  },
  {
   "cell_type": "code",
   "execution_count": null,
   "id": "9d76d9e6",
   "metadata": {},
   "outputs": [],
   "source": [
    "df.groupby('Regions').describe().loc['East']"
   ]
  },
  {
   "cell_type": "markdown",
   "id": "3523b226",
   "metadata": {},
   "source": [
    "# The aggregate function AGG"
   ]
  },
  {
   "cell_type": "code",
   "execution_count": null,
   "id": "d0153866",
   "metadata": {},
   "outputs": [],
   "source": [
    "seed(234)\n",
    "df = pd.DataFrame({'var_1': choices(range(10, 300, 30),  k = 6),\n",
    "                     'var_2': sample(range(1, 999, 100), k = 6),\n",
    "                     'key_1': ['a', 'a', 'c', 'c', 'd', 'e'], \n",
    "                     'key_2': ['one', 'two', 'one', 'two', 'one', 'one']})\n",
    "df"
   ]
  },
  {
   "cell_type": "code",
   "execution_count": null,
   "id": "1dde21c0",
   "metadata": {},
   "outputs": [],
   "source": [
    "grouped = df.groupby('key_1')"
   ]
  },
  {
   "cell_type": "markdown",
   "id": "50168313",
   "metadata": {},
   "source": [
    "### A List of Functions with Agg Method"
   ]
  },
  {
   "cell_type": "code",
   "execution_count": null,
   "id": "341ce1cb",
   "metadata": {},
   "outputs": [],
   "source": [
    "grouped.agg([np.size, np.mean, min, max, np.std])"
   ]
  },
  {
   "cell_type": "code",
   "execution_count": null,
   "id": "01bbb063",
   "metadata": {},
   "outputs": [],
   "source": [
    "df.groupby(by='key_1').agg([np.size, np.mean, min, max, np.std])"
   ]
  },
  {
   "cell_type": "markdown",
   "id": "19e07359",
   "metadata": {},
   "source": [
    "### Different agg functions for differrent columns"
   ]
  },
  {
   "cell_type": "code",
   "execution_count": null,
   "id": "7e1dbdbd",
   "metadata": {},
   "outputs": [],
   "source": [
    "grouped.agg({'var_1': 'mean', 'var_2': 'median'})"
   ]
  },
  {
   "cell_type": "markdown",
   "id": "449df033",
   "metadata": {},
   "source": [
    "# Practice"
   ]
  },
  {
   "cell_type": "code",
   "execution_count": null,
   "id": "6d7646c7",
   "metadata": {},
   "outputs": [],
   "source": [
    "#!pip install rdatasets"
   ]
  },
  {
   "cell_type": "code",
   "execution_count": null,
   "id": "83b6554d",
   "metadata": {},
   "outputs": [],
   "source": [
    "# import the data\n",
    "from rdatasets import data"
   ]
  },
  {
   "cell_type": "code",
   "execution_count": null,
   "id": "f26ed974",
   "metadata": {},
   "outputs": [],
   "source": [
    "iris = data('iris')"
   ]
  },
  {
   "cell_type": "markdown",
   "id": "7ea398b5",
   "metadata": {},
   "source": [
    "### Task: \n",
    "\n",
    "The Dataset has five variables. four are numeric and one is categorical. We want to answer the following questions: \n",
    "\n",
    "   - How many categories? \n",
    "   \n",
    "   - What is the mean of each species?\n",
    "   \n",
    "   - The median, variance, standard deviation, min value, max value.\n",
    "   \n",
    "   - Compute the summary statistics for the variables **Sepal.length and Petal.Length** (not all the variables)"
   ]
  },
  {
   "cell_type": "code",
   "execution_count": null,
   "id": "637b6e01",
   "metadata": {},
   "outputs": [],
   "source": []
  }
 ],
 "metadata": {
  "kernelspec": {
   "display_name": "Python 3",
   "language": "python",
   "name": "python3"
  },
  "language_info": {
   "codemirror_mode": {
    "name": "ipython",
    "version": 3
   },
   "file_extension": ".py",
   "mimetype": "text/x-python",
   "name": "python",
   "nbconvert_exporter": "python",
   "pygments_lexer": "ipython3",
   "version": "3.8.2"
  }
 },
 "nbformat": 4,
 "nbformat_minor": 5
}
