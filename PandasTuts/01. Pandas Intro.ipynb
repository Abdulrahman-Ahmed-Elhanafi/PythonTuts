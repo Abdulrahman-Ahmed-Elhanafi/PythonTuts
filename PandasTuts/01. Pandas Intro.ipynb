{
 "cells": [
  {
   "cell_type": "markdown",
   "id": "38d2b455",
   "metadata": {},
   "source": [
    "# Introduction to Pandas"
   ]
  },
  {
   "cell_type": "markdown",
   "id": "7092e730",
   "metadata": {},
   "source": [
    " - Pandas is an open source library built on top of __numpy__\n",
    " \n",
    " \n",
    " - Pandas was created in 2008 by Wesly Mickenny\n",
    " \n",
    " \n",
    " - Pandas is used for analysis, data clearning and preparation (You can do all the preperation with pandas without shifting to R programming language)\n",
    " \n",
    " \n",
    " - Pandas provides its own visualization functionality\n",
    " \n",
    " \n",
    " - Pandas can work with data from a wide variety of sources"
   ]
  },
  {
   "cell_type": "markdown",
   "id": "15878eab",
   "metadata": {},
   "source": [
    "## Installing Pandas"
   ]
  },
  {
   "cell_type": "markdown",
   "id": "fe6778a6",
   "metadata": {},
   "source": [
    "We can use this comand\n",
    "\n",
    "> __pip install pandas__\n",
    "\n",
    "if anaconda is installed, pandas will be installed by default. If for some reasons, pandas does not work, we can install it using this command as well\n",
    "\n",
    "> __conda install pandas__"
   ]
  },
  {
   "cell_type": "markdown",
   "id": "905a812d",
   "metadata": {},
   "source": [
    "### Importing Pandas \n",
    "\n",
    "pandas can be imported using the conventional way as follows"
   ]
  },
  {
   "cell_type": "code",
   "execution_count": 1,
   "id": "7163e51c",
   "metadata": {},
   "outputs": [],
   "source": [
    "import pandas as pd"
   ]
  },
  {
   "cell_type": "markdown",
   "id": "91b84461",
   "metadata": {},
   "source": [
    "> you can import the whole package by using the next syntax"
   ]
  },
  {
   "cell_type": "code",
   "execution_count": 2,
   "id": "dca20e74",
   "metadata": {},
   "outputs": [],
   "source": [
    "import pandas"
   ]
  },
  {
   "cell_type": "markdown",
   "id": "1aa9be84",
   "metadata": {},
   "source": [
    "> or you can import a specific function"
   ]
  },
  {
   "cell_type": "code",
   "execution_count": 3,
   "id": "79a8bdc8",
   "metadata": {},
   "outputs": [],
   "source": [
    "from pandas import DataFrame"
   ]
  },
  {
   "cell_type": "markdown",
   "id": "072bdea7",
   "metadata": {},
   "source": [
    "> or more functions "
   ]
  },
  {
   "cell_type": "code",
   "execution_count": 4,
   "id": "f16619e3",
   "metadata": {},
   "outputs": [],
   "source": [
    "from pandas import DataFrame, Series"
   ]
  },
  {
   "cell_type": "markdown",
   "id": "59d548e9",
   "metadata": {},
   "source": [
    "### Checking the version of pandas"
   ]
  },
  {
   "cell_type": "code",
   "execution_count": 5,
   "id": "59782a94",
   "metadata": {},
   "outputs": [
    {
     "data": {
      "text/plain": [
       "'1.3.1'"
      ]
     },
     "execution_count": 5,
     "metadata": {},
     "output_type": "execute_result"
    }
   ],
   "source": [
    "pd.__version__"
   ]
  },
  {
   "cell_type": "markdown",
   "id": "4de0d752",
   "metadata": {},
   "source": [
    "## Checking the available methods and submodules inside Pandas\n",
    "\n",
    "  we can do that by using __dir()__ function and a list comprehension technique"
   ]
  },
  {
   "cell_type": "code",
   "execution_count": 6,
   "id": "2197e291",
   "metadata": {},
   "outputs": [
    {
     "name": "stdout",
     "output_type": "stream",
     "text": [
      "['BooleanDtype', 'Categorical', 'CategoricalDtype', 'CategoricalIndex', 'DataFrame', 'DateOffset', 'DatetimeIndex', 'DatetimeTZDtype', 'ExcelFile', 'ExcelWriter', 'Flags', 'Float32Dtype', 'Float64Dtype', 'Float64Index', 'Grouper', 'HDFStore', 'Index', 'IndexSlice', 'Int16Dtype', 'Int32Dtype', 'Int64Dtype', 'Int64Index', 'Int8Dtype', 'Interval', 'IntervalDtype', 'IntervalIndex', 'MultiIndex', 'NA', 'NaT', 'NamedAgg', 'Period', 'PeriodDtype', 'PeriodIndex', 'RangeIndex', 'Series', 'SparseDtype', 'StringDtype', 'Timedelta', 'TimedeltaIndex', 'Timestamp', 'UInt16Dtype', 'UInt32Dtype', 'UInt64Dtype', 'UInt64Index', 'UInt8Dtype', '_config', '_hashtable', '_is_numpy_dev', '_lib', '_libs', '_np_version_under1p18', '_testing', '_tslib', '_typing', '_version', 'api', 'array', 'arrays', 'bdate_range', 'compat', 'concat', 'core', 'crosstab', 'cut', 'date_range', 'describe_option', 'errors', 'eval', 'factorize', 'get_dummies', 'get_option', 'infer_freq', 'interval_range', 'io', 'isna', 'isnull', 'json_normalize', 'lreshape', 'melt', 'merge', 'merge_asof', 'merge_ordered', 'notna', 'notnull', 'offsets', 'option_context', 'options', 'pandas', 'period_range', 'pivot', 'pivot_table', 'plotting', 'qcut', 'read_clipboard', 'read_csv', 'read_excel', 'read_feather', 'read_fwf', 'read_gbq', 'read_hdf', 'read_html', 'read_json', 'read_orc', 'read_parquet', 'read_pickle', 'read_sas', 'read_spss', 'read_sql', 'read_sql_query', 'read_sql_table', 'read_stata', 'read_table', 'read_xml', 'reset_option', 'set_eng_float_format', 'set_option', 'show_versions', 'test', 'testing', 'timedelta_range', 'to_datetime', 'to_numeric', 'to_pickle', 'to_timedelta', 'tseries', 'unique', 'util', 'value_counts', 'wide_to_long']\n"
     ]
    }
   ],
   "source": [
    "print([meth for meth in dir(pd) if '_' and '__' not in meth])"
   ]
  },
  {
   "cell_type": "markdown",
   "id": "073da89f",
   "metadata": {},
   "source": [
    "## Checking the available attributes in Pandas\n",
    "\n",
    "we can do that by using __vars()__ function and a list comprehension technique"
   ]
  },
  {
   "cell_type": "code",
   "execution_count": 7,
   "id": "d97173dd",
   "metadata": {},
   "outputs": [
    {
     "name": "stdout",
     "output_type": "stream",
     "text": [
      "['_typing', '_config', '_libs', 'core', 'errors', 'util', 'compat', '_np_version_under1p18', '_is_numpy_dev', '_hashtable', '_lib', '_tslib', 'get_option', 'set_option', 'reset_option', 'describe_option', 'option_context', 'options', 'pandas', 'io', 'tseries', 'arrays', 'plotting', 'Int8Dtype', 'Int16Dtype', 'Int32Dtype', 'Int64Dtype', 'UInt8Dtype', 'UInt16Dtype', 'UInt32Dtype', 'UInt64Dtype', 'Float32Dtype', 'Float64Dtype', 'CategoricalDtype', 'PeriodDtype', 'IntervalDtype', 'DatetimeTZDtype', 'StringDtype', 'BooleanDtype', 'NA', 'isna', 'isnull', 'notna', 'notnull', 'Index', 'CategoricalIndex', 'Int64Index', 'UInt64Index', 'RangeIndex', 'Float64Index', 'MultiIndex', 'IntervalIndex', 'TimedeltaIndex', 'DatetimeIndex', 'PeriodIndex', 'IndexSlice', 'NaT', 'Period', 'period_range', 'Timedelta', 'timedelta_range', 'Timestamp', 'date_range', 'bdate_range', 'Interval', 'interval_range', 'DateOffset', 'to_numeric', 'to_datetime', 'to_timedelta', 'Flags', 'Grouper', 'factorize', 'unique', 'value_counts', 'NamedAgg', 'array', 'Categorical', 'set_eng_float_format', 'Series', 'DataFrame', 'SparseDtype', 'infer_freq', 'offsets', 'eval', 'concat', 'lreshape', 'melt', 'wide_to_long', 'merge', 'merge_asof', 'merge_ordered', 'crosstab', 'pivot', 'pivot_table', 'get_dummies', 'cut', 'qcut', 'api', 'show_versions', 'ExcelFile', 'ExcelWriter', 'read_excel', 'read_csv', 'read_fwf', 'read_table', 'read_pickle', 'to_pickle', 'HDFStore', 'read_hdf', 'read_sql', 'read_sql_query', 'read_sql_table', 'read_clipboard', 'read_parquet', 'read_orc', 'read_feather', 'read_gbq', 'read_html', 'read_xml', 'read_json', 'read_stata', 'read_sas', 'read_spss', 'json_normalize', 'test', '_testing', 'testing', '_version']\n"
     ]
    }
   ],
   "source": [
    "print([meth for meth in vars(pd) if '_' and '__' not in meth])"
   ]
  }
 ],
 "metadata": {
  "kernelspec": {
   "display_name": "Python 3",
   "language": "python",
   "name": "python3"
  },
  "language_info": {
   "codemirror_mode": {
    "name": "ipython",
    "version": 3
   },
   "file_extension": ".py",
   "mimetype": "text/x-python",
   "name": "python",
   "nbconvert_exporter": "python",
   "pygments_lexer": "ipython3",
   "version": "3.8.2"
  }
 },
 "nbformat": 4,
 "nbformat_minor": 5
}
