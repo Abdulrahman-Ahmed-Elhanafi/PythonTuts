{
 "cells": [
  {
   "cell_type": "markdown",
   "id": "0a7ef52e",
   "metadata": {},
   "source": [
    "# DataFrame Subsetting and Indexing"
   ]
  },
  {
   "cell_type": "markdown",
   "id": "8824c846",
   "metadata": {},
   "source": [
    "### Setting up the workspace"
   ]
  },
  {
   "cell_type": "code",
   "execution_count": 1,
   "id": "76222ead",
   "metadata": {},
   "outputs": [],
   "source": [
    "import numpy as np\n",
    "import pandas as pd\n",
    "from numpy.random import randn\n",
    "from IPython.display import display\n",
    "pd.options.display.float_format = '{:,.3f}'.format"
   ]
  },
  {
   "cell_type": "markdown",
   "id": "863a3280",
   "metadata": {},
   "source": [
    "### DataFrame Example"
   ]
  },
  {
   "cell_type": "code",
   "execution_count": 2,
   "id": "ffd8a8ed",
   "metadata": {},
   "outputs": [],
   "source": [
    "np.random.seed(234)\n",
    "df = pd.DataFrame(randn(7, 5), index = list('ABCDEFG'), \n",
    "                  columns = [\"VAR\" + \"_\" + str(num) for num in range(1, 6)])"
   ]
  },
  {
   "cell_type": "code",
   "execution_count": 3,
   "id": "383f481b",
   "metadata": {},
   "outputs": [
    {
     "data": {
      "text/html": [
       "<div>\n",
       "<style scoped>\n",
       "    .dataframe tbody tr th:only-of-type {\n",
       "        vertical-align: middle;\n",
       "    }\n",
       "\n",
       "    .dataframe tbody tr th {\n",
       "        vertical-align: top;\n",
       "    }\n",
       "\n",
       "    .dataframe thead th {\n",
       "        text-align: right;\n",
       "    }\n",
       "</style>\n",
       "<table border=\"1\" class=\"dataframe\">\n",
       "  <thead>\n",
       "    <tr style=\"text-align: right;\">\n",
       "      <th></th>\n",
       "      <th>VAR_1</th>\n",
       "      <th>VAR_2</th>\n",
       "      <th>VAR_3</th>\n",
       "      <th>VAR_4</th>\n",
       "      <th>VAR_5</th>\n",
       "    </tr>\n",
       "  </thead>\n",
       "  <tbody>\n",
       "    <tr>\n",
       "      <th>A</th>\n",
       "      <td>0.819</td>\n",
       "      <td>-1.044</td>\n",
       "      <td>0.351</td>\n",
       "      <td>0.922</td>\n",
       "      <td>-0.087</td>\n",
       "    </tr>\n",
       "    <tr>\n",
       "      <th>B</th>\n",
       "      <td>-3.129</td>\n",
       "      <td>-0.970</td>\n",
       "      <td>0.935</td>\n",
       "      <td>0.044</td>\n",
       "      <td>1.425</td>\n",
       "    </tr>\n",
       "    <tr>\n",
       "      <th>C</th>\n",
       "      <td>-0.557</td>\n",
       "      <td>0.927</td>\n",
       "      <td>-1.284</td>\n",
       "      <td>1.096</td>\n",
       "      <td>-1.932</td>\n",
       "    </tr>\n",
       "    <tr>\n",
       "      <th>D</th>\n",
       "      <td>0.479</td>\n",
       "      <td>1.345</td>\n",
       "      <td>-0.175</td>\n",
       "      <td>-0.083</td>\n",
       "      <td>-0.888</td>\n",
       "    </tr>\n",
       "    <tr>\n",
       "      <th>E</th>\n",
       "      <td>-0.301</td>\n",
       "      <td>0.908</td>\n",
       "      <td>-0.646</td>\n",
       "      <td>-1.324</td>\n",
       "      <td>1.678</td>\n",
       "    </tr>\n",
       "    <tr>\n",
       "      <th>F</th>\n",
       "      <td>0.299</td>\n",
       "      <td>0.109</td>\n",
       "      <td>1.044</td>\n",
       "      <td>0.150</td>\n",
       "      <td>-0.252</td>\n",
       "    </tr>\n",
       "    <tr>\n",
       "      <th>G</th>\n",
       "      <td>0.847</td>\n",
       "      <td>0.506</td>\n",
       "      <td>0.393</td>\n",
       "      <td>0.142</td>\n",
       "      <td>-1.143</td>\n",
       "    </tr>\n",
       "  </tbody>\n",
       "</table>\n",
       "</div>"
      ],
      "text/plain": [
       "   VAR_1  VAR_2  VAR_3  VAR_4  VAR_5\n",
       "A  0.819 -1.044  0.351  0.922 -0.087\n",
       "B -3.129 -0.970  0.935  0.044  1.425\n",
       "C -0.557  0.927 -1.284  1.096 -1.932\n",
       "D  0.479  1.345 -0.175 -0.083 -0.888\n",
       "E -0.301  0.908 -0.646 -1.324  1.678\n",
       "F  0.299  0.109  1.044  0.150 -0.252\n",
       "G  0.847  0.506  0.393  0.142 -1.143"
      ]
     },
     "execution_count": 3,
     "metadata": {},
     "output_type": "execute_result"
    }
   ],
   "source": [
    "df\n"
   ]
  },
  {
   "cell_type": "markdown",
   "id": "1f1ac552",
   "metadata": {},
   "source": [
    "## Conditional Selection with DataFrames  \n",
    "\n",
    "  - Conditional Selection is very common in data analysis. \n",
    "  \n",
    "  \n",
    "  - When we pass a condition we get an object of booleans.\n",
    "  \n",
    "  \n",
    "  - Pandas has an important feature which is __conditional selection using bracket notation__\n",
    "  \n",
    "```python \n",
    " The Bracket notation is this: \n",
    "    \n",
    "    df[cond1]\n",
    "    \n",
    "```"
   ]
  },
  {
   "cell_type": "markdown",
   "id": "64da7eab",
   "metadata": {},
   "source": [
    "### Comparison Operators\n",
    "\n",
    "  - If you compare the whole DataFrame object with an integer you get an DataFrame of __booleans__"
   ]
  },
  {
   "cell_type": "code",
   "execution_count": 4,
   "id": "f302f887",
   "metadata": {},
   "outputs": [
    {
     "data": {
      "text/html": [
       "<div>\n",
       "<style scoped>\n",
       "    .dataframe tbody tr th:only-of-type {\n",
       "        vertical-align: middle;\n",
       "    }\n",
       "\n",
       "    .dataframe tbody tr th {\n",
       "        vertical-align: top;\n",
       "    }\n",
       "\n",
       "    .dataframe thead th {\n",
       "        text-align: right;\n",
       "    }\n",
       "</style>\n",
       "<table border=\"1\" class=\"dataframe\">\n",
       "  <thead>\n",
       "    <tr style=\"text-align: right;\">\n",
       "      <th></th>\n",
       "      <th>VAR_1</th>\n",
       "      <th>VAR_2</th>\n",
       "      <th>VAR_3</th>\n",
       "      <th>VAR_4</th>\n",
       "      <th>VAR_5</th>\n",
       "    </tr>\n",
       "  </thead>\n",
       "  <tbody>\n",
       "    <tr>\n",
       "      <th>A</th>\n",
       "      <td>True</td>\n",
       "      <td>False</td>\n",
       "      <td>True</td>\n",
       "      <td>True</td>\n",
       "      <td>False</td>\n",
       "    </tr>\n",
       "    <tr>\n",
       "      <th>B</th>\n",
       "      <td>False</td>\n",
       "      <td>False</td>\n",
       "      <td>True</td>\n",
       "      <td>True</td>\n",
       "      <td>True</td>\n",
       "    </tr>\n",
       "    <tr>\n",
       "      <th>C</th>\n",
       "      <td>False</td>\n",
       "      <td>True</td>\n",
       "      <td>False</td>\n",
       "      <td>True</td>\n",
       "      <td>False</td>\n",
       "    </tr>\n",
       "    <tr>\n",
       "      <th>D</th>\n",
       "      <td>True</td>\n",
       "      <td>True</td>\n",
       "      <td>False</td>\n",
       "      <td>False</td>\n",
       "      <td>False</td>\n",
       "    </tr>\n",
       "    <tr>\n",
       "      <th>E</th>\n",
       "      <td>False</td>\n",
       "      <td>True</td>\n",
       "      <td>False</td>\n",
       "      <td>False</td>\n",
       "      <td>True</td>\n",
       "    </tr>\n",
       "    <tr>\n",
       "      <th>F</th>\n",
       "      <td>True</td>\n",
       "      <td>True</td>\n",
       "      <td>True</td>\n",
       "      <td>True</td>\n",
       "      <td>False</td>\n",
       "    </tr>\n",
       "    <tr>\n",
       "      <th>G</th>\n",
       "      <td>True</td>\n",
       "      <td>True</td>\n",
       "      <td>True</td>\n",
       "      <td>True</td>\n",
       "      <td>False</td>\n",
       "    </tr>\n",
       "  </tbody>\n",
       "</table>\n",
       "</div>"
      ],
      "text/plain": [
       "   VAR_1  VAR_2  VAR_3  VAR_4  VAR_5\n",
       "A   True  False   True   True  False\n",
       "B  False  False   True   True   True\n",
       "C  False   True  False   True  False\n",
       "D   True   True  False  False  False\n",
       "E  False   True  False  False   True\n",
       "F   True   True   True   True  False\n",
       "G   True   True   True   True  False"
      ]
     },
     "execution_count": 4,
     "metadata": {},
     "output_type": "execute_result"
    }
   ],
   "source": [
    "df > 0"
   ]
  },
  {
   "cell_type": "markdown",
   "id": "8dc76bab",
   "metadata": {},
   "source": [
    "To perform boolean selection, you create a boolean object then use the __bracket notation__."
   ]
  },
  {
   "cell_type": "code",
   "execution_count": 5,
   "id": "11c256e1",
   "metadata": {},
   "outputs": [],
   "source": [
    "cond_bool = df > 0"
   ]
  },
  {
   "cell_type": "code",
   "execution_count": 6,
   "id": "4c7d8402",
   "metadata": {},
   "outputs": [
    {
     "data": {
      "text/html": [
       "<div>\n",
       "<style scoped>\n",
       "    .dataframe tbody tr th:only-of-type {\n",
       "        vertical-align: middle;\n",
       "    }\n",
       "\n",
       "    .dataframe tbody tr th {\n",
       "        vertical-align: top;\n",
       "    }\n",
       "\n",
       "    .dataframe thead th {\n",
       "        text-align: right;\n",
       "    }\n",
       "</style>\n",
       "<table border=\"1\" class=\"dataframe\">\n",
       "  <thead>\n",
       "    <tr style=\"text-align: right;\">\n",
       "      <th></th>\n",
       "      <th>VAR_1</th>\n",
       "      <th>VAR_2</th>\n",
       "      <th>VAR_3</th>\n",
       "      <th>VAR_4</th>\n",
       "      <th>VAR_5</th>\n",
       "    </tr>\n",
       "  </thead>\n",
       "  <tbody>\n",
       "    <tr>\n",
       "      <th>A</th>\n",
       "      <td>0.819</td>\n",
       "      <td>NaN</td>\n",
       "      <td>0.351</td>\n",
       "      <td>0.922</td>\n",
       "      <td>NaN</td>\n",
       "    </tr>\n",
       "    <tr>\n",
       "      <th>B</th>\n",
       "      <td>NaN</td>\n",
       "      <td>NaN</td>\n",
       "      <td>0.935</td>\n",
       "      <td>0.044</td>\n",
       "      <td>1.425</td>\n",
       "    </tr>\n",
       "    <tr>\n",
       "      <th>C</th>\n",
       "      <td>NaN</td>\n",
       "      <td>0.927</td>\n",
       "      <td>NaN</td>\n",
       "      <td>1.096</td>\n",
       "      <td>NaN</td>\n",
       "    </tr>\n",
       "    <tr>\n",
       "      <th>D</th>\n",
       "      <td>0.479</td>\n",
       "      <td>1.345</td>\n",
       "      <td>NaN</td>\n",
       "      <td>NaN</td>\n",
       "      <td>NaN</td>\n",
       "    </tr>\n",
       "    <tr>\n",
       "      <th>E</th>\n",
       "      <td>NaN</td>\n",
       "      <td>0.908</td>\n",
       "      <td>NaN</td>\n",
       "      <td>NaN</td>\n",
       "      <td>1.678</td>\n",
       "    </tr>\n",
       "    <tr>\n",
       "      <th>F</th>\n",
       "      <td>0.299</td>\n",
       "      <td>0.109</td>\n",
       "      <td>1.044</td>\n",
       "      <td>0.150</td>\n",
       "      <td>NaN</td>\n",
       "    </tr>\n",
       "    <tr>\n",
       "      <th>G</th>\n",
       "      <td>0.847</td>\n",
       "      <td>0.506</td>\n",
       "      <td>0.393</td>\n",
       "      <td>0.142</td>\n",
       "      <td>NaN</td>\n",
       "    </tr>\n",
       "  </tbody>\n",
       "</table>\n",
       "</div>"
      ],
      "text/plain": [
       "   VAR_1  VAR_2  VAR_3  VAR_4  VAR_5\n",
       "A  0.819    NaN  0.351  0.922    NaN\n",
       "B    NaN    NaN  0.935  0.044  1.425\n",
       "C    NaN  0.927    NaN  1.096    NaN\n",
       "D  0.479  1.345    NaN    NaN    NaN\n",
       "E    NaN  0.908    NaN    NaN  1.678\n",
       "F  0.299  0.109  1.044  0.150    NaN\n",
       "G  0.847  0.506  0.393  0.142    NaN"
      ]
     },
     "execution_count": 6,
     "metadata": {},
     "output_type": "execute_result"
    }
   ],
   "source": [
    "slice_df = df[cond_bool]\n",
    "slice_df"
   ]
  },
  {
   "cell_type": "markdown",
   "id": "a5f2cdd4",
   "metadata": {},
   "source": [
    "> When we slice using a condition, we get the data point where we have __True__, and __NaN__ where we have __False__. \n",
    "\n",
    "> Actually, we can combine the previous two steps in just one step as follows:"
   ]
  },
  {
   "cell_type": "code",
   "execution_count": 7,
   "id": "d0694515",
   "metadata": {},
   "outputs": [
    {
     "data": {
      "text/html": [
       "<div>\n",
       "<style scoped>\n",
       "    .dataframe tbody tr th:only-of-type {\n",
       "        vertical-align: middle;\n",
       "    }\n",
       "\n",
       "    .dataframe tbody tr th {\n",
       "        vertical-align: top;\n",
       "    }\n",
       "\n",
       "    .dataframe thead th {\n",
       "        text-align: right;\n",
       "    }\n",
       "</style>\n",
       "<table border=\"1\" class=\"dataframe\">\n",
       "  <thead>\n",
       "    <tr style=\"text-align: right;\">\n",
       "      <th></th>\n",
       "      <th>VAR_1</th>\n",
       "      <th>VAR_2</th>\n",
       "      <th>VAR_3</th>\n",
       "      <th>VAR_4</th>\n",
       "      <th>VAR_5</th>\n",
       "    </tr>\n",
       "  </thead>\n",
       "  <tbody>\n",
       "    <tr>\n",
       "      <th>A</th>\n",
       "      <td>0.819</td>\n",
       "      <td>NaN</td>\n",
       "      <td>0.351</td>\n",
       "      <td>0.922</td>\n",
       "      <td>NaN</td>\n",
       "    </tr>\n",
       "    <tr>\n",
       "      <th>B</th>\n",
       "      <td>NaN</td>\n",
       "      <td>NaN</td>\n",
       "      <td>0.935</td>\n",
       "      <td>0.044</td>\n",
       "      <td>1.425</td>\n",
       "    </tr>\n",
       "    <tr>\n",
       "      <th>C</th>\n",
       "      <td>NaN</td>\n",
       "      <td>0.927</td>\n",
       "      <td>NaN</td>\n",
       "      <td>1.096</td>\n",
       "      <td>NaN</td>\n",
       "    </tr>\n",
       "    <tr>\n",
       "      <th>D</th>\n",
       "      <td>0.479</td>\n",
       "      <td>1.345</td>\n",
       "      <td>NaN</td>\n",
       "      <td>NaN</td>\n",
       "      <td>NaN</td>\n",
       "    </tr>\n",
       "    <tr>\n",
       "      <th>E</th>\n",
       "      <td>NaN</td>\n",
       "      <td>0.908</td>\n",
       "      <td>NaN</td>\n",
       "      <td>NaN</td>\n",
       "      <td>1.678</td>\n",
       "    </tr>\n",
       "    <tr>\n",
       "      <th>F</th>\n",
       "      <td>0.299</td>\n",
       "      <td>0.109</td>\n",
       "      <td>1.044</td>\n",
       "      <td>0.150</td>\n",
       "      <td>NaN</td>\n",
       "    </tr>\n",
       "    <tr>\n",
       "      <th>G</th>\n",
       "      <td>0.847</td>\n",
       "      <td>0.506</td>\n",
       "      <td>0.393</td>\n",
       "      <td>0.142</td>\n",
       "      <td>NaN</td>\n",
       "    </tr>\n",
       "  </tbody>\n",
       "</table>\n",
       "</div>"
      ],
      "text/plain": [
       "   VAR_1  VAR_2  VAR_3  VAR_4  VAR_5\n",
       "A  0.819    NaN  0.351  0.922    NaN\n",
       "B    NaN    NaN  0.935  0.044  1.425\n",
       "C    NaN  0.927    NaN  1.096    NaN\n",
       "D  0.479  1.345    NaN    NaN    NaN\n",
       "E    NaN  0.908    NaN    NaN  1.678\n",
       "F  0.299  0.109  1.044  0.150    NaN\n",
       "G  0.847  0.506  0.393  0.142    NaN"
      ]
     },
     "execution_count": 7,
     "metadata": {},
     "output_type": "execute_result"
    }
   ],
   "source": [
    "df[df > 0]"
   ]
  },
  {
   "cell_type": "markdown",
   "id": "687d4bf0",
   "metadata": {},
   "source": [
    "> However, contional Selection involves selecting rows or columns, not the entire data set."
   ]
  },
  {
   "cell_type": "markdown",
   "id": "0a800964",
   "metadata": {},
   "source": [
    "#### Selection Rows Condionally \n",
    "\n",
    " - The concern is often to retrieve the data that meets a certain condition. In other words, we are trying to answer a question by selecting only the observations needed for that answer.\n",
    "\n",
    "```python\n",
    " \n",
    "  df['col-name' <operator>] <operator> any conditional operator (>, < >=, <= , ==, !=)\n",
    "    \n",
    " # Then We can subset the DataFrame. for example:\n",
    "\n",
    "  df[df['col-name'] == 0]   \n",
    "```\n",
    "\n",
    "#### Note: \n",
    "\n",
    " Conditional Selection returns a __series of booleans__."
   ]
  },
  {
   "cell_type": "code",
   "execution_count": 8,
   "id": "19c4d0bf",
   "metadata": {},
   "outputs": [
    {
     "data": {
      "text/plain": [
       "A    False\n",
       "B     True\n",
       "C     True\n",
       "D    False\n",
       "E     True\n",
       "F    False\n",
       "G    False\n",
       "Name: VAR_1, dtype: bool"
      ]
     },
     "execution_count": 8,
     "metadata": {},
     "output_type": "execute_result"
    }
   ],
   "source": [
    "df['VAR_1'] < 0"
   ]
  },
  {
   "cell_type": "code",
   "execution_count": 9,
   "id": "cf3eeafc",
   "metadata": {},
   "outputs": [
    {
     "data": {
      "text/plain": [
       "pandas.core.series.Series"
      ]
     },
     "execution_count": 9,
     "metadata": {},
     "output_type": "execute_result"
    }
   ],
   "source": [
    "type(df['VAR_1'] < 0)"
   ]
  },
  {
   "cell_type": "markdown",
   "id": "41264a00",
   "metadata": {},
   "source": [
    "> When we use the conditional selection, we will get only the values that correspond to __Trues__ "
   ]
  },
  {
   "cell_type": "code",
   "execution_count": 10,
   "id": "319bcc03",
   "metadata": {},
   "outputs": [
    {
     "data": {
      "text/html": [
       "<div>\n",
       "<style scoped>\n",
       "    .dataframe tbody tr th:only-of-type {\n",
       "        vertical-align: middle;\n",
       "    }\n",
       "\n",
       "    .dataframe tbody tr th {\n",
       "        vertical-align: top;\n",
       "    }\n",
       "\n",
       "    .dataframe thead th {\n",
       "        text-align: right;\n",
       "    }\n",
       "</style>\n",
       "<table border=\"1\" class=\"dataframe\">\n",
       "  <thead>\n",
       "    <tr style=\"text-align: right;\">\n",
       "      <th></th>\n",
       "      <th>VAR_1</th>\n",
       "      <th>VAR_2</th>\n",
       "      <th>VAR_3</th>\n",
       "      <th>VAR_4</th>\n",
       "      <th>VAR_5</th>\n",
       "    </tr>\n",
       "  </thead>\n",
       "  <tbody>\n",
       "    <tr>\n",
       "      <th>B</th>\n",
       "      <td>-3.129</td>\n",
       "      <td>-0.970</td>\n",
       "      <td>0.935</td>\n",
       "      <td>0.044</td>\n",
       "      <td>1.425</td>\n",
       "    </tr>\n",
       "    <tr>\n",
       "      <th>C</th>\n",
       "      <td>-0.557</td>\n",
       "      <td>0.927</td>\n",
       "      <td>-1.284</td>\n",
       "      <td>1.096</td>\n",
       "      <td>-1.932</td>\n",
       "    </tr>\n",
       "    <tr>\n",
       "      <th>E</th>\n",
       "      <td>-0.301</td>\n",
       "      <td>0.908</td>\n",
       "      <td>-0.646</td>\n",
       "      <td>-1.324</td>\n",
       "      <td>1.678</td>\n",
       "    </tr>\n",
       "  </tbody>\n",
       "</table>\n",
       "</div>"
      ],
      "text/plain": [
       "   VAR_1  VAR_2  VAR_3  VAR_4  VAR_5\n",
       "B -3.129 -0.970  0.935  0.044  1.425\n",
       "C -0.557  0.927 -1.284  1.096 -1.932\n",
       "E -0.301  0.908 -0.646 -1.324  1.678"
      ]
     },
     "execution_count": 10,
     "metadata": {},
     "output_type": "execute_result"
    }
   ],
   "source": [
    "sliced_var_1 = df[df['VAR_1'] < 0]\n",
    "sliced_var_1"
   ]
  },
  {
   "cell_type": "markdown",
   "id": "42af54b4",
   "metadata": {},
   "source": [
    "Conditional selection is often done in just one step:"
   ]
  },
  {
   "cell_type": "code",
   "execution_count": 11,
   "id": "5bde8850",
   "metadata": {},
   "outputs": [
    {
     "data": {
      "text/html": [
       "<div>\n",
       "<style scoped>\n",
       "    .dataframe tbody tr th:only-of-type {\n",
       "        vertical-align: middle;\n",
       "    }\n",
       "\n",
       "    .dataframe tbody tr th {\n",
       "        vertical-align: top;\n",
       "    }\n",
       "\n",
       "    .dataframe thead th {\n",
       "        text-align: right;\n",
       "    }\n",
       "</style>\n",
       "<table border=\"1\" class=\"dataframe\">\n",
       "  <thead>\n",
       "    <tr style=\"text-align: right;\">\n",
       "      <th></th>\n",
       "      <th>VAR_1</th>\n",
       "      <th>VAR_2</th>\n",
       "      <th>VAR_3</th>\n",
       "      <th>VAR_4</th>\n",
       "      <th>VAR_5</th>\n",
       "    </tr>\n",
       "  </thead>\n",
       "  <tbody>\n",
       "    <tr>\n",
       "      <th>A</th>\n",
       "      <td>0.819</td>\n",
       "      <td>-1.044</td>\n",
       "      <td>0.351</td>\n",
       "      <td>0.922</td>\n",
       "      <td>-0.087</td>\n",
       "    </tr>\n",
       "    <tr>\n",
       "      <th>B</th>\n",
       "      <td>-3.129</td>\n",
       "      <td>-0.970</td>\n",
       "      <td>0.935</td>\n",
       "      <td>0.044</td>\n",
       "      <td>1.425</td>\n",
       "    </tr>\n",
       "    <tr>\n",
       "      <th>F</th>\n",
       "      <td>0.299</td>\n",
       "      <td>0.109</td>\n",
       "      <td>1.044</td>\n",
       "      <td>0.150</td>\n",
       "      <td>-0.252</td>\n",
       "    </tr>\n",
       "    <tr>\n",
       "      <th>G</th>\n",
       "      <td>0.847</td>\n",
       "      <td>0.506</td>\n",
       "      <td>0.393</td>\n",
       "      <td>0.142</td>\n",
       "      <td>-1.143</td>\n",
       "    </tr>\n",
       "  </tbody>\n",
       "</table>\n",
       "</div>"
      ],
      "text/plain": [
       "   VAR_1  VAR_2  VAR_3  VAR_4  VAR_5\n",
       "A  0.819 -1.044  0.351  0.922 -0.087\n",
       "B -3.129 -0.970  0.935  0.044  1.425\n",
       "F  0.299  0.109  1.044  0.150 -0.252\n",
       "G  0.847  0.506  0.393  0.142 -1.143"
      ]
     },
     "execution_count": 11,
     "metadata": {},
     "output_type": "execute_result"
    }
   ],
   "source": [
    "df[df['VAR_3'] > 0]"
   ]
  },
  {
   "cell_type": "markdown",
   "id": "c8940f4e",
   "metadata": {},
   "source": [
    "> When subsetting, there is a goal in our mind. That might be selecting one or more columns from the DataFrame. That is done through steps: \n",
    "\n",
    "1. Subset the DataFrame and store the new subset.\n",
    "\n",
    "\n",
    "2. Select the desired column(s)."
   ]
  },
  {
   "cell_type": "code",
   "execution_count": 12,
   "id": "104cf976",
   "metadata": {},
   "outputs": [
    {
     "data": {
      "text/html": [
       "<div>\n",
       "<style scoped>\n",
       "    .dataframe tbody tr th:only-of-type {\n",
       "        vertical-align: middle;\n",
       "    }\n",
       "\n",
       "    .dataframe tbody tr th {\n",
       "        vertical-align: top;\n",
       "    }\n",
       "\n",
       "    .dataframe thead th {\n",
       "        text-align: right;\n",
       "    }\n",
       "</style>\n",
       "<table border=\"1\" class=\"dataframe\">\n",
       "  <thead>\n",
       "    <tr style=\"text-align: right;\">\n",
       "      <th></th>\n",
       "      <th>VAR_1</th>\n",
       "      <th>VAR_2</th>\n",
       "      <th>VAR_3</th>\n",
       "      <th>VAR_4</th>\n",
       "      <th>VAR_5</th>\n",
       "    </tr>\n",
       "  </thead>\n",
       "  <tbody>\n",
       "    <tr>\n",
       "      <th>A</th>\n",
       "      <td>0.819</td>\n",
       "      <td>-1.044</td>\n",
       "      <td>0.351</td>\n",
       "      <td>0.922</td>\n",
       "      <td>-0.087</td>\n",
       "    </tr>\n",
       "    <tr>\n",
       "      <th>C</th>\n",
       "      <td>-0.557</td>\n",
       "      <td>0.927</td>\n",
       "      <td>-1.284</td>\n",
       "      <td>1.096</td>\n",
       "      <td>-1.932</td>\n",
       "    </tr>\n",
       "    <tr>\n",
       "      <th>D</th>\n",
       "      <td>0.479</td>\n",
       "      <td>1.345</td>\n",
       "      <td>-0.175</td>\n",
       "      <td>-0.083</td>\n",
       "      <td>-0.888</td>\n",
       "    </tr>\n",
       "    <tr>\n",
       "      <th>F</th>\n",
       "      <td>0.299</td>\n",
       "      <td>0.109</td>\n",
       "      <td>1.044</td>\n",
       "      <td>0.150</td>\n",
       "      <td>-0.252</td>\n",
       "    </tr>\n",
       "    <tr>\n",
       "      <th>G</th>\n",
       "      <td>0.847</td>\n",
       "      <td>0.506</td>\n",
       "      <td>0.393</td>\n",
       "      <td>0.142</td>\n",
       "      <td>-1.143</td>\n",
       "    </tr>\n",
       "  </tbody>\n",
       "</table>\n",
       "</div>"
      ],
      "text/plain": [
       "   VAR_1  VAR_2  VAR_3  VAR_4  VAR_5\n",
       "A  0.819 -1.044  0.351  0.922 -0.087\n",
       "C -0.557  0.927 -1.284  1.096 -1.932\n",
       "D  0.479  1.345 -0.175 -0.083 -0.888\n",
       "F  0.299  0.109  1.044  0.150 -0.252\n",
       "G  0.847  0.506  0.393  0.142 -1.143"
      ]
     },
     "execution_count": 12,
     "metadata": {},
     "output_type": "execute_result"
    }
   ],
   "source": [
    "sub_df = df[df['VAR_5'] < 0]\n",
    "sub_df"
   ]
  },
  {
   "cell_type": "markdown",
   "id": "a1830be4",
   "metadata": {},
   "source": [
    "#### Selecting  one or more variables:\n",
    "\n",
    "  - It can be done through the normal slicing technique."
   ]
  },
  {
   "cell_type": "code",
   "execution_count": 13,
   "id": "903b0472",
   "metadata": {},
   "outputs": [
    {
     "data": {
      "text/plain": [
       "A    0.819\n",
       "C   -0.557\n",
       "D    0.479\n",
       "F    0.299\n",
       "G    0.847\n",
       "Name: VAR_1, dtype: float64"
      ]
     },
     "execution_count": 13,
     "metadata": {},
     "output_type": "execute_result"
    }
   ],
   "source": [
    "sub_df['VAR_1']"
   ]
  },
  {
   "cell_type": "markdown",
   "id": "93c036a9",
   "metadata": {},
   "source": [
    "### Selecting more variables\n",
    "\n",
    "  - Selecting more than variables require to pass a list of varialbes. [[...]]."
   ]
  },
  {
   "cell_type": "code",
   "execution_count": 14,
   "id": "44bb6f01",
   "metadata": {},
   "outputs": [
    {
     "data": {
      "text/html": [
       "<div>\n",
       "<style scoped>\n",
       "    .dataframe tbody tr th:only-of-type {\n",
       "        vertical-align: middle;\n",
       "    }\n",
       "\n",
       "    .dataframe tbody tr th {\n",
       "        vertical-align: top;\n",
       "    }\n",
       "\n",
       "    .dataframe thead th {\n",
       "        text-align: right;\n",
       "    }\n",
       "</style>\n",
       "<table border=\"1\" class=\"dataframe\">\n",
       "  <thead>\n",
       "    <tr style=\"text-align: right;\">\n",
       "      <th></th>\n",
       "      <th>VAR_1</th>\n",
       "      <th>VAR_3</th>\n",
       "    </tr>\n",
       "  </thead>\n",
       "  <tbody>\n",
       "    <tr>\n",
       "      <th>A</th>\n",
       "      <td>0.819</td>\n",
       "      <td>0.351</td>\n",
       "    </tr>\n",
       "    <tr>\n",
       "      <th>C</th>\n",
       "      <td>-0.557</td>\n",
       "      <td>-1.284</td>\n",
       "    </tr>\n",
       "    <tr>\n",
       "      <th>D</th>\n",
       "      <td>0.479</td>\n",
       "      <td>-0.175</td>\n",
       "    </tr>\n",
       "    <tr>\n",
       "      <th>F</th>\n",
       "      <td>0.299</td>\n",
       "      <td>1.044</td>\n",
       "    </tr>\n",
       "    <tr>\n",
       "      <th>G</th>\n",
       "      <td>0.847</td>\n",
       "      <td>0.393</td>\n",
       "    </tr>\n",
       "  </tbody>\n",
       "</table>\n",
       "</div>"
      ],
      "text/plain": [
       "   VAR_1  VAR_3\n",
       "A  0.819  0.351\n",
       "C -0.557 -1.284\n",
       "D  0.479 -0.175\n",
       "F  0.299  1.044\n",
       "G  0.847  0.393"
      ]
     },
     "execution_count": 14,
     "metadata": {},
     "output_type": "execute_result"
    }
   ],
   "source": [
    "sub_df[['VAR_1', 'VAR_3']]"
   ]
  },
  {
   "cell_type": "markdown",
   "id": "508cd9de",
   "metadata": {},
   "source": [
    " A Better way to achieve the same result is by combining the the steps in one step. That is, we can open a new single (or double) square bracket for the second subsetting.\n",
    "\n",
    "Here is the Syntax:\n",
    "\n",
    "```python \n",
    "\n",
    "     df[df['col-name'] <cond> ] ['col-name']  ===> One Variable\n",
    "     df[df['col-name'] <cond> ] [['col1', 'col1', ...]]  ===> More Variables\n",
    "\n",
    "```\n",
    "A lot of brackets is confusing at first, but it is efficient."
   ]
  },
  {
   "cell_type": "markdown",
   "id": "c6c0e23a",
   "metadata": {},
   "source": [
    "#### Selecting the first variable where the fifth variable values are negative"
   ]
  },
  {
   "cell_type": "code",
   "execution_count": 15,
   "id": "bfa0dc9a",
   "metadata": {},
   "outputs": [
    {
     "data": {
      "text/plain": [
       "A    0.819\n",
       "C   -0.557\n",
       "D    0.479\n",
       "F    0.299\n",
       "G    0.847\n",
       "Name: VAR_1, dtype: float64"
      ]
     },
     "execution_count": 15,
     "metadata": {},
     "output_type": "execute_result"
    }
   ],
   "source": [
    "var_1 = df[df['VAR_5'] < 0]['VAR_1']\n",
    "var_1"
   ]
  },
  {
   "cell_type": "markdown",
   "id": "2f575654",
   "metadata": {},
   "source": [
    "### Selecting two variable: \n",
    "\n",
    "  - We want to retrieve the first and the fifth variable where the fifth variable values are negative."
   ]
  },
  {
   "cell_type": "code",
   "execution_count": 16,
   "id": "5603111d",
   "metadata": {},
   "outputs": [
    {
     "data": {
      "text/html": [
       "<div>\n",
       "<style scoped>\n",
       "    .dataframe tbody tr th:only-of-type {\n",
       "        vertical-align: middle;\n",
       "    }\n",
       "\n",
       "    .dataframe tbody tr th {\n",
       "        vertical-align: top;\n",
       "    }\n",
       "\n",
       "    .dataframe thead th {\n",
       "        text-align: right;\n",
       "    }\n",
       "</style>\n",
       "<table border=\"1\" class=\"dataframe\">\n",
       "  <thead>\n",
       "    <tr style=\"text-align: right;\">\n",
       "      <th></th>\n",
       "      <th>VAR_1</th>\n",
       "      <th>VAR_5</th>\n",
       "    </tr>\n",
       "  </thead>\n",
       "  <tbody>\n",
       "    <tr>\n",
       "      <th>A</th>\n",
       "      <td>0.819</td>\n",
       "      <td>-0.087</td>\n",
       "    </tr>\n",
       "    <tr>\n",
       "      <th>C</th>\n",
       "      <td>-0.557</td>\n",
       "      <td>-1.932</td>\n",
       "    </tr>\n",
       "    <tr>\n",
       "      <th>D</th>\n",
       "      <td>0.479</td>\n",
       "      <td>-0.888</td>\n",
       "    </tr>\n",
       "    <tr>\n",
       "      <th>F</th>\n",
       "      <td>0.299</td>\n",
       "      <td>-0.252</td>\n",
       "    </tr>\n",
       "    <tr>\n",
       "      <th>G</th>\n",
       "      <td>0.847</td>\n",
       "      <td>-1.143</td>\n",
       "    </tr>\n",
       "  </tbody>\n",
       "</table>\n",
       "</div>"
      ],
      "text/plain": [
       "   VAR_1  VAR_5\n",
       "A  0.819 -0.087\n",
       "C -0.557 -1.932\n",
       "D  0.479 -0.888\n",
       "F  0.299 -0.252\n",
       "G  0.847 -1.143"
      ]
     },
     "execution_count": 16,
     "metadata": {},
     "output_type": "execute_result"
    }
   ],
   "source": [
    "var_1_and_5 = df[df['VAR_5'] < 0][['VAR_1', 'VAR_5']]\n",
    "var_1_and_5"
   ]
  },
  {
   "cell_type": "markdown",
   "id": "3d606192",
   "metadata": {},
   "source": [
    "### Selecting three variables example"
   ]
  },
  {
   "cell_type": "code",
   "execution_count": 17,
   "id": "588b1b3c",
   "metadata": {},
   "outputs": [
    {
     "data": {
      "text/html": [
       "<div>\n",
       "<style scoped>\n",
       "    .dataframe tbody tr th:only-of-type {\n",
       "        vertical-align: middle;\n",
       "    }\n",
       "\n",
       "    .dataframe tbody tr th {\n",
       "        vertical-align: top;\n",
       "    }\n",
       "\n",
       "    .dataframe thead th {\n",
       "        text-align: right;\n",
       "    }\n",
       "</style>\n",
       "<table border=\"1\" class=\"dataframe\">\n",
       "  <thead>\n",
       "    <tr style=\"text-align: right;\">\n",
       "      <th></th>\n",
       "      <th>VAR_2</th>\n",
       "      <th>VAR_3</th>\n",
       "      <th>VAR_5</th>\n",
       "    </tr>\n",
       "  </thead>\n",
       "  <tbody>\n",
       "    <tr>\n",
       "      <th>A</th>\n",
       "      <td>-1.044</td>\n",
       "      <td>0.351</td>\n",
       "      <td>-0.087</td>\n",
       "    </tr>\n",
       "    <tr>\n",
       "      <th>B</th>\n",
       "      <td>-0.970</td>\n",
       "      <td>0.935</td>\n",
       "      <td>1.425</td>\n",
       "    </tr>\n",
       "  </tbody>\n",
       "</table>\n",
       "</div>"
      ],
      "text/plain": [
       "   VAR_2  VAR_3  VAR_5\n",
       "A -1.044  0.351 -0.087\n",
       "B -0.970  0.935  1.425"
      ]
     },
     "execution_count": 17,
     "metadata": {},
     "output_type": "execute_result"
    }
   ],
   "source": [
    "df[df['VAR_2'] < 0][['VAR_2', 'VAR_3', 'VAR_5']]"
   ]
  },
  {
   "cell_type": "markdown",
   "id": "ca391358",
   "metadata": {},
   "source": [
    "### Multiple Conditional Selection\n",
    "\n",
    "- When performing conditional selection we __are not restricted to only one condition__, but we can pass more than one condition. \n",
    "\n",
    "\n",
    "- Multiple conditional selection requires us to know about the logical operators **ampersand (&)** and the **pipe operator (|)**. \n",
    "\n",
    "\n",
    "- Multiple conditional selection is an attempt to answer a question or solve a problem.\n",
    "\n",
    "\n",
    "- Performing a multiple selection in pandas is by passing **a list of tuples combined with the logical operators**.\n",
    "\n",
    "Here is the syntax\n",
    "---\n",
    "```python\n",
    "\n",
    " df[(df['col-name']<cond>) & (df['col-name']<cond>)]\n",
    "-----------------------------------------------------\n",
    "Warning:\n",
    "=======   \n",
    "&: is the and operator {(the ampersand operator) (the usual \"and\" does not work). Returns Both conditions are correct}\n",
    "    \n",
    "|: is the or operator {(or the pipe operator) (the usual \"or\" does not work). Returns either one is correct}.\n",
    "```"
   ]
  },
  {
   "cell_type": "markdown",
   "id": "f4029e23",
   "metadata": {},
   "source": [
    "### Note: \n",
    "\n",
    "   - Q: Why the \"and\" and \"or\" do not work on pandas Series?\n",
    "   \n",
    "\n",
    "   - A: (and + Or) operators deal with single values but not series. "
   ]
  },
  {
   "cell_type": "markdown",
   "id": "127eb483",
   "metadata": {},
   "source": [
    "#### Review of logical Operators"
   ]
  },
  {
   "cell_type": "code",
   "execution_count": 18,
   "id": "20273c04",
   "metadata": {},
   "outputs": [
    {
     "data": {
      "text/plain": [
       "(True, False, False, False)"
      ]
     },
     "execution_count": 18,
     "metadata": {},
     "output_type": "execute_result"
    }
   ],
   "source": [
    "True & True, True & False, False & True, False & False"
   ]
  },
  {
   "cell_type": "code",
   "execution_count": 19,
   "id": "1e281aa1",
   "metadata": {},
   "outputs": [
    {
     "data": {
      "text/plain": [
       "(True, True, True, False)"
      ]
     },
     "execution_count": 19,
     "metadata": {},
     "output_type": "execute_result"
    }
   ],
   "source": [
    "True  | True, True | False, False | True, False | False"
   ]
  },
  {
   "cell_type": "markdown",
   "id": "c1f02391",
   "metadata": {},
   "source": [
    "### Two conditions example\n",
    "\n",
    "- Suppose we want to have the negative values of variable 05 (VAR_5), and the positive values of variable 01 (VAR_1). "
   ]
  },
  {
   "cell_type": "code",
   "execution_count": 20,
   "id": "24bc49ad",
   "metadata": {},
   "outputs": [
    {
     "data": {
      "text/html": [
       "<div>\n",
       "<style scoped>\n",
       "    .dataframe tbody tr th:only-of-type {\n",
       "        vertical-align: middle;\n",
       "    }\n",
       "\n",
       "    .dataframe tbody tr th {\n",
       "        vertical-align: top;\n",
       "    }\n",
       "\n",
       "    .dataframe thead th {\n",
       "        text-align: right;\n",
       "    }\n",
       "</style>\n",
       "<table border=\"1\" class=\"dataframe\">\n",
       "  <thead>\n",
       "    <tr style=\"text-align: right;\">\n",
       "      <th></th>\n",
       "      <th>VAR_1</th>\n",
       "      <th>VAR_2</th>\n",
       "      <th>VAR_3</th>\n",
       "      <th>VAR_4</th>\n",
       "      <th>VAR_5</th>\n",
       "    </tr>\n",
       "  </thead>\n",
       "  <tbody>\n",
       "    <tr>\n",
       "      <th>A</th>\n",
       "      <td>0.819</td>\n",
       "      <td>-1.044</td>\n",
       "      <td>0.351</td>\n",
       "      <td>0.922</td>\n",
       "      <td>-0.087</td>\n",
       "    </tr>\n",
       "    <tr>\n",
       "      <th>D</th>\n",
       "      <td>0.479</td>\n",
       "      <td>1.345</td>\n",
       "      <td>-0.175</td>\n",
       "      <td>-0.083</td>\n",
       "      <td>-0.888</td>\n",
       "    </tr>\n",
       "    <tr>\n",
       "      <th>F</th>\n",
       "      <td>0.299</td>\n",
       "      <td>0.109</td>\n",
       "      <td>1.044</td>\n",
       "      <td>0.150</td>\n",
       "      <td>-0.252</td>\n",
       "    </tr>\n",
       "    <tr>\n",
       "      <th>G</th>\n",
       "      <td>0.847</td>\n",
       "      <td>0.506</td>\n",
       "      <td>0.393</td>\n",
       "      <td>0.142</td>\n",
       "      <td>-1.143</td>\n",
       "    </tr>\n",
       "  </tbody>\n",
       "</table>\n",
       "</div>"
      ],
      "text/plain": [
       "   VAR_1  VAR_2  VAR_3  VAR_4  VAR_5\n",
       "A  0.819 -1.044  0.351  0.922 -0.087\n",
       "D  0.479  1.345 -0.175 -0.083 -0.888\n",
       "F  0.299  0.109  1.044  0.150 -0.252\n",
       "G  0.847  0.506  0.393  0.142 -1.143"
      ]
     },
     "execution_count": 20,
     "metadata": {},
     "output_type": "execute_result"
    }
   ],
   "source": [
    "m_cond_df = df[(df['VAR_5'] < 0) & (df['VAR_1'] > 0)]\n",
    "m_cond_df"
   ]
  },
  {
   "cell_type": "markdown",
   "id": "da29013c",
   "metadata": {},
   "source": [
    "### The  Or operator \"|\" Example\n",
    "\n",
    "- Retrieve the negative values of the fifth variable **OR** the positive values to the first variable."
   ]
  },
  {
   "cell_type": "code",
   "execution_count": 21,
   "id": "91784eab",
   "metadata": {},
   "outputs": [
    {
     "data": {
      "text/html": [
       "<div>\n",
       "<style scoped>\n",
       "    .dataframe tbody tr th:only-of-type {\n",
       "        vertical-align: middle;\n",
       "    }\n",
       "\n",
       "    .dataframe tbody tr th {\n",
       "        vertical-align: top;\n",
       "    }\n",
       "\n",
       "    .dataframe thead th {\n",
       "        text-align: right;\n",
       "    }\n",
       "</style>\n",
       "<table border=\"1\" class=\"dataframe\">\n",
       "  <thead>\n",
       "    <tr style=\"text-align: right;\">\n",
       "      <th></th>\n",
       "      <th>VAR_1</th>\n",
       "      <th>VAR_2</th>\n",
       "      <th>VAR_3</th>\n",
       "      <th>VAR_4</th>\n",
       "      <th>VAR_5</th>\n",
       "    </tr>\n",
       "  </thead>\n",
       "  <tbody>\n",
       "    <tr>\n",
       "      <th>A</th>\n",
       "      <td>0.819</td>\n",
       "      <td>-1.044</td>\n",
       "      <td>0.351</td>\n",
       "      <td>0.922</td>\n",
       "      <td>-0.087</td>\n",
       "    </tr>\n",
       "    <tr>\n",
       "      <th>C</th>\n",
       "      <td>-0.557</td>\n",
       "      <td>0.927</td>\n",
       "      <td>-1.284</td>\n",
       "      <td>1.096</td>\n",
       "      <td>-1.932</td>\n",
       "    </tr>\n",
       "    <tr>\n",
       "      <th>D</th>\n",
       "      <td>0.479</td>\n",
       "      <td>1.345</td>\n",
       "      <td>-0.175</td>\n",
       "      <td>-0.083</td>\n",
       "      <td>-0.888</td>\n",
       "    </tr>\n",
       "    <tr>\n",
       "      <th>F</th>\n",
       "      <td>0.299</td>\n",
       "      <td>0.109</td>\n",
       "      <td>1.044</td>\n",
       "      <td>0.150</td>\n",
       "      <td>-0.252</td>\n",
       "    </tr>\n",
       "    <tr>\n",
       "      <th>G</th>\n",
       "      <td>0.847</td>\n",
       "      <td>0.506</td>\n",
       "      <td>0.393</td>\n",
       "      <td>0.142</td>\n",
       "      <td>-1.143</td>\n",
       "    </tr>\n",
       "  </tbody>\n",
       "</table>\n",
       "</div>"
      ],
      "text/plain": [
       "   VAR_1  VAR_2  VAR_3  VAR_4  VAR_5\n",
       "A  0.819 -1.044  0.351  0.922 -0.087\n",
       "C -0.557  0.927 -1.284  1.096 -1.932\n",
       "D  0.479  1.345 -0.175 -0.083 -0.888\n",
       "F  0.299  0.109  1.044  0.150 -0.252\n",
       "G  0.847  0.506  0.393  0.142 -1.143"
      ]
     },
     "execution_count": 21,
     "metadata": {},
     "output_type": "execute_result"
    }
   ],
   "source": [
    "df[(df['VAR_5'] < 0) | (df['VAR_1'] > 0)]"
   ]
  },
  {
   "cell_type": "markdown",
   "id": "7eb84086",
   "metadata": {},
   "source": [
    "### Three Conditions Example"
   ]
  },
  {
   "cell_type": "code",
   "execution_count": 22,
   "id": "d1f39901",
   "metadata": {},
   "outputs": [
    {
     "data": {
      "text/html": [
       "<div>\n",
       "<style scoped>\n",
       "    .dataframe tbody tr th:only-of-type {\n",
       "        vertical-align: middle;\n",
       "    }\n",
       "\n",
       "    .dataframe tbody tr th {\n",
       "        vertical-align: top;\n",
       "    }\n",
       "\n",
       "    .dataframe thead th {\n",
       "        text-align: right;\n",
       "    }\n",
       "</style>\n",
       "<table border=\"1\" class=\"dataframe\">\n",
       "  <thead>\n",
       "    <tr style=\"text-align: right;\">\n",
       "      <th></th>\n",
       "      <th>VAR_1</th>\n",
       "      <th>VAR_2</th>\n",
       "      <th>VAR_3</th>\n",
       "      <th>VAR_4</th>\n",
       "      <th>VAR_5</th>\n",
       "    </tr>\n",
       "  </thead>\n",
       "  <tbody>\n",
       "    <tr>\n",
       "      <th>D</th>\n",
       "      <td>0.479</td>\n",
       "      <td>1.345</td>\n",
       "      <td>-0.175</td>\n",
       "      <td>-0.083</td>\n",
       "      <td>-0.888</td>\n",
       "    </tr>\n",
       "  </tbody>\n",
       "</table>\n",
       "</div>"
      ],
      "text/plain": [
       "   VAR_1  VAR_2  VAR_3  VAR_4  VAR_5\n",
       "D  0.479  1.345 -0.175 -0.083 -0.888"
      ]
     },
     "execution_count": 22,
     "metadata": {},
     "output_type": "execute_result"
    }
   ],
   "source": [
    "df[(df['VAR_5'] < 0) & (df['VAR_1'] > 0) & (df['VAR_2'] > 1)]"
   ]
  },
  {
   "cell_type": "markdown",
   "id": "7e944fc1",
   "metadata": {},
   "source": [
    "### Selecting Variable based on multiple conditions\n",
    "\n",
    "   - It is not different than subsetting with one condition. We can use extra **single square brackets for selecting one variable**.\n",
    "   \n",
    "   \n",
    "   - Or **double square brackets (a list of list of variables) to select more than one variable**\n",
    "   \n",
    "   \n",
    "   - Using lots of square brackets is bit confusing at first, but it is __very efficient__ and makes us save some memory. It is a good practice to familiarize ourselves with this syntax."
   ]
  },
  {
   "cell_type": "markdown",
   "id": "c7d191b4",
   "metadata": {},
   "source": [
    "### Selecting One Variable based on multiple conditions\n",
    "\n",
    " - Retrieve the the third variable where the firth variable is negative and the firsth variable is positive."
   ]
  },
  {
   "cell_type": "code",
   "execution_count": 23,
   "id": "ecbf1ef0",
   "metadata": {},
   "outputs": [
    {
     "data": {
      "text/plain": [
       "A    0.351\n",
       "D   -0.175\n",
       "F    1.044\n",
       "G    0.393\n",
       "Name: VAR_3, dtype: float64"
      ]
     },
     "execution_count": 23,
     "metadata": {},
     "output_type": "execute_result"
    }
   ],
   "source": [
    "var_3 = df[(df['VAR_5'] < 0) & (df['VAR_1'] > 0)]['VAR_3']\n",
    "var_3"
   ]
  },
  {
   "cell_type": "markdown",
   "id": "11faeea2",
   "metadata": {},
   "source": [
    "### Selection more variables with multiple conditions example"
   ]
  },
  {
   "cell_type": "code",
   "execution_count": 24,
   "id": "ae15b2bd",
   "metadata": {},
   "outputs": [
    {
     "data": {
      "text/html": [
       "<div>\n",
       "<style scoped>\n",
       "    .dataframe tbody tr th:only-of-type {\n",
       "        vertical-align: middle;\n",
       "    }\n",
       "\n",
       "    .dataframe tbody tr th {\n",
       "        vertical-align: top;\n",
       "    }\n",
       "\n",
       "    .dataframe thead th {\n",
       "        text-align: right;\n",
       "    }\n",
       "</style>\n",
       "<table border=\"1\" class=\"dataframe\">\n",
       "  <thead>\n",
       "    <tr style=\"text-align: right;\">\n",
       "      <th></th>\n",
       "      <th>VAR_3</th>\n",
       "      <th>VAR_4</th>\n",
       "      <th>VAR_2</th>\n",
       "    </tr>\n",
       "  </thead>\n",
       "  <tbody>\n",
       "    <tr>\n",
       "      <th>A</th>\n",
       "      <td>0.351</td>\n",
       "      <td>0.922</td>\n",
       "      <td>-1.044</td>\n",
       "    </tr>\n",
       "    <tr>\n",
       "      <th>D</th>\n",
       "      <td>-0.175</td>\n",
       "      <td>-0.083</td>\n",
       "      <td>1.345</td>\n",
       "    </tr>\n",
       "    <tr>\n",
       "      <th>F</th>\n",
       "      <td>1.044</td>\n",
       "      <td>0.150</td>\n",
       "      <td>0.109</td>\n",
       "    </tr>\n",
       "    <tr>\n",
       "      <th>G</th>\n",
       "      <td>0.393</td>\n",
       "      <td>0.142</td>\n",
       "      <td>0.506</td>\n",
       "    </tr>\n",
       "  </tbody>\n",
       "</table>\n",
       "</div>"
      ],
      "text/plain": [
       "   VAR_3  VAR_4  VAR_2\n",
       "A  0.351  0.922 -1.044\n",
       "D -0.175 -0.083  1.345\n",
       "F  1.044  0.150  0.109\n",
       "G  0.393  0.142  0.506"
      ]
     },
     "execution_count": 24,
     "metadata": {},
     "output_type": "execute_result"
    }
   ],
   "source": [
    "var_3_4_2 = df[(df['VAR_5'] < 0) & (df['VAR_1'] > 0)][['VAR_3', 'VAR_4', 'VAR_2']]\n",
    "var_3_4_2"
   ]
  },
  {
   "cell_type": "markdown",
   "id": "5313697f",
   "metadata": {},
   "source": [
    "Note:\n",
    "\n",
    "- the DataFrame object returned has the variables in the same order they are provided with. "
   ]
  },
  {
   "cell_type": "markdown",
   "id": "4bb0c01f",
   "metadata": {},
   "source": [
    "# Re-Indexing DataFrames\n",
    "\n",
    "  - ReIndexing a DataFrame is important. However, sometimes we want to change the index labels to new ones or reset the index to its default.  \n",
    "  \n",
    "### Resetting the Index \n",
    "\n",
    "  - The __df.reset_index()__ will reset the index to its default. Note that:\n",
    "  \n",
    "      - reset_index() will not make a copy of the object. \n",
    "      - If we already have an index, reset_index will convert the old index to a new column."
   ]
  },
  {
   "cell_type": "code",
   "execution_count": 25,
   "id": "b59cb074",
   "metadata": {},
   "outputs": [
    {
     "data": {
      "text/html": [
       "<div>\n",
       "<style scoped>\n",
       "    .dataframe tbody tr th:only-of-type {\n",
       "        vertical-align: middle;\n",
       "    }\n",
       "\n",
       "    .dataframe tbody tr th {\n",
       "        vertical-align: top;\n",
       "    }\n",
       "\n",
       "    .dataframe thead th {\n",
       "        text-align: right;\n",
       "    }\n",
       "</style>\n",
       "<table border=\"1\" class=\"dataframe\">\n",
       "  <thead>\n",
       "    <tr style=\"text-align: right;\">\n",
       "      <th></th>\n",
       "      <th>VAR_1</th>\n",
       "      <th>VAR_2</th>\n",
       "      <th>VAR_3</th>\n",
       "      <th>VAR_4</th>\n",
       "      <th>VAR_5</th>\n",
       "    </tr>\n",
       "  </thead>\n",
       "  <tbody>\n",
       "    <tr>\n",
       "      <th>A</th>\n",
       "      <td>0.819</td>\n",
       "      <td>-1.044</td>\n",
       "      <td>0.351</td>\n",
       "      <td>0.922</td>\n",
       "      <td>-0.087</td>\n",
       "    </tr>\n",
       "    <tr>\n",
       "      <th>B</th>\n",
       "      <td>-3.129</td>\n",
       "      <td>-0.970</td>\n",
       "      <td>0.935</td>\n",
       "      <td>0.044</td>\n",
       "      <td>1.425</td>\n",
       "    </tr>\n",
       "    <tr>\n",
       "      <th>C</th>\n",
       "      <td>-0.557</td>\n",
       "      <td>0.927</td>\n",
       "      <td>-1.284</td>\n",
       "      <td>1.096</td>\n",
       "      <td>-1.932</td>\n",
       "    </tr>\n",
       "    <tr>\n",
       "      <th>D</th>\n",
       "      <td>0.479</td>\n",
       "      <td>1.345</td>\n",
       "      <td>-0.175</td>\n",
       "      <td>-0.083</td>\n",
       "      <td>-0.888</td>\n",
       "    </tr>\n",
       "    <tr>\n",
       "      <th>E</th>\n",
       "      <td>-0.301</td>\n",
       "      <td>0.908</td>\n",
       "      <td>-0.646</td>\n",
       "      <td>-1.324</td>\n",
       "      <td>1.678</td>\n",
       "    </tr>\n",
       "  </tbody>\n",
       "</table>\n",
       "</div>"
      ],
      "text/plain": [
       "   VAR_1  VAR_2  VAR_3  VAR_4  VAR_5\n",
       "A  0.819 -1.044  0.351  0.922 -0.087\n",
       "B -3.129 -0.970  0.935  0.044  1.425\n",
       "C -0.557  0.927 -1.284  1.096 -1.932\n",
       "D  0.479  1.345 -0.175 -0.083 -0.888\n",
       "E -0.301  0.908 -0.646 -1.324  1.678"
      ]
     },
     "execution_count": 25,
     "metadata": {},
     "output_type": "execute_result"
    }
   ],
   "source": [
    "df.head()"
   ]
  },
  {
   "cell_type": "code",
   "execution_count": 26,
   "id": "db269fc6",
   "metadata": {},
   "outputs": [
    {
     "data": {
      "text/plain": [
       "Index(['A', 'B', 'C', 'D', 'E', 'F', 'G'], dtype='object')"
      ]
     },
     "execution_count": 26,
     "metadata": {},
     "output_type": "execute_result"
    }
   ],
   "source": [
    "df.index"
   ]
  },
  {
   "cell_type": "markdown",
   "id": "559c7d2c",
   "metadata": {},
   "source": [
    "Our DataFrame already has a label-index. We expect it will be a new column when resetting the DataFrame object to its default."
   ]
  },
  {
   "cell_type": "markdown",
   "id": "79e54203",
   "metadata": {},
   "source": [
    "### Reset Index"
   ]
  },
  {
   "cell_type": "code",
   "execution_count": 27,
   "id": "b09630bf",
   "metadata": {},
   "outputs": [
    {
     "data": {
      "text/html": [
       "<div>\n",
       "<style scoped>\n",
       "    .dataframe tbody tr th:only-of-type {\n",
       "        vertical-align: middle;\n",
       "    }\n",
       "\n",
       "    .dataframe tbody tr th {\n",
       "        vertical-align: top;\n",
       "    }\n",
       "\n",
       "    .dataframe thead th {\n",
       "        text-align: right;\n",
       "    }\n",
       "</style>\n",
       "<table border=\"1\" class=\"dataframe\">\n",
       "  <thead>\n",
       "    <tr style=\"text-align: right;\">\n",
       "      <th></th>\n",
       "      <th>index</th>\n",
       "      <th>VAR_1</th>\n",
       "      <th>VAR_2</th>\n",
       "      <th>VAR_3</th>\n",
       "      <th>VAR_4</th>\n",
       "      <th>VAR_5</th>\n",
       "    </tr>\n",
       "  </thead>\n",
       "  <tbody>\n",
       "    <tr>\n",
       "      <th>0</th>\n",
       "      <td>A</td>\n",
       "      <td>0.819</td>\n",
       "      <td>-1.044</td>\n",
       "      <td>0.351</td>\n",
       "      <td>0.922</td>\n",
       "      <td>-0.087</td>\n",
       "    </tr>\n",
       "    <tr>\n",
       "      <th>1</th>\n",
       "      <td>B</td>\n",
       "      <td>-3.129</td>\n",
       "      <td>-0.970</td>\n",
       "      <td>0.935</td>\n",
       "      <td>0.044</td>\n",
       "      <td>1.425</td>\n",
       "    </tr>\n",
       "    <tr>\n",
       "      <th>2</th>\n",
       "      <td>C</td>\n",
       "      <td>-0.557</td>\n",
       "      <td>0.927</td>\n",
       "      <td>-1.284</td>\n",
       "      <td>1.096</td>\n",
       "      <td>-1.932</td>\n",
       "    </tr>\n",
       "    <tr>\n",
       "      <th>3</th>\n",
       "      <td>D</td>\n",
       "      <td>0.479</td>\n",
       "      <td>1.345</td>\n",
       "      <td>-0.175</td>\n",
       "      <td>-0.083</td>\n",
       "      <td>-0.888</td>\n",
       "    </tr>\n",
       "    <tr>\n",
       "      <th>4</th>\n",
       "      <td>E</td>\n",
       "      <td>-0.301</td>\n",
       "      <td>0.908</td>\n",
       "      <td>-0.646</td>\n",
       "      <td>-1.324</td>\n",
       "      <td>1.678</td>\n",
       "    </tr>\n",
       "    <tr>\n",
       "      <th>5</th>\n",
       "      <td>F</td>\n",
       "      <td>0.299</td>\n",
       "      <td>0.109</td>\n",
       "      <td>1.044</td>\n",
       "      <td>0.150</td>\n",
       "      <td>-0.252</td>\n",
       "    </tr>\n",
       "    <tr>\n",
       "      <th>6</th>\n",
       "      <td>G</td>\n",
       "      <td>0.847</td>\n",
       "      <td>0.506</td>\n",
       "      <td>0.393</td>\n",
       "      <td>0.142</td>\n",
       "      <td>-1.143</td>\n",
       "    </tr>\n",
       "  </tbody>\n",
       "</table>\n",
       "</div>"
      ],
      "text/plain": [
       "  index  VAR_1  VAR_2  VAR_3  VAR_4  VAR_5\n",
       "0     A  0.819 -1.044  0.351  0.922 -0.087\n",
       "1     B -3.129 -0.970  0.935  0.044  1.425\n",
       "2     C -0.557  0.927 -1.284  1.096 -1.932\n",
       "3     D  0.479  1.345 -0.175 -0.083 -0.888\n",
       "4     E -0.301  0.908 -0.646 -1.324  1.678\n",
       "5     F  0.299  0.109  1.044  0.150 -0.252\n",
       "6     G  0.847  0.506  0.393  0.142 -1.143"
      ]
     },
     "execution_count": 27,
     "metadata": {},
     "output_type": "execute_result"
    }
   ],
   "source": [
    "df.reset_index()"
   ]
  },
  {
   "cell_type": "markdown",
   "id": "632f74bb",
   "metadata": {},
   "source": [
    "Old index object became a new column called **index**"
   ]
  },
  {
   "cell_type": "markdown",
   "id": "fbe8bd22",
   "metadata": {},
   "source": [
    " Did the original df get affected? Of course no"
   ]
  },
  {
   "cell_type": "code",
   "execution_count": 28,
   "id": "705cd7f4",
   "metadata": {},
   "outputs": [
    {
     "data": {
      "text/html": [
       "<div>\n",
       "<style scoped>\n",
       "    .dataframe tbody tr th:only-of-type {\n",
       "        vertical-align: middle;\n",
       "    }\n",
       "\n",
       "    .dataframe tbody tr th {\n",
       "        vertical-align: top;\n",
       "    }\n",
       "\n",
       "    .dataframe thead th {\n",
       "        text-align: right;\n",
       "    }\n",
       "</style>\n",
       "<table border=\"1\" class=\"dataframe\">\n",
       "  <thead>\n",
       "    <tr style=\"text-align: right;\">\n",
       "      <th></th>\n",
       "      <th>VAR_1</th>\n",
       "      <th>VAR_2</th>\n",
       "      <th>VAR_3</th>\n",
       "      <th>VAR_4</th>\n",
       "      <th>VAR_5</th>\n",
       "    </tr>\n",
       "  </thead>\n",
       "  <tbody>\n",
       "    <tr>\n",
       "      <th>A</th>\n",
       "      <td>0.819</td>\n",
       "      <td>-1.044</td>\n",
       "      <td>0.351</td>\n",
       "      <td>0.922</td>\n",
       "      <td>-0.087</td>\n",
       "    </tr>\n",
       "    <tr>\n",
       "      <th>B</th>\n",
       "      <td>-3.129</td>\n",
       "      <td>-0.970</td>\n",
       "      <td>0.935</td>\n",
       "      <td>0.044</td>\n",
       "      <td>1.425</td>\n",
       "    </tr>\n",
       "    <tr>\n",
       "      <th>C</th>\n",
       "      <td>-0.557</td>\n",
       "      <td>0.927</td>\n",
       "      <td>-1.284</td>\n",
       "      <td>1.096</td>\n",
       "      <td>-1.932</td>\n",
       "    </tr>\n",
       "    <tr>\n",
       "      <th>D</th>\n",
       "      <td>0.479</td>\n",
       "      <td>1.345</td>\n",
       "      <td>-0.175</td>\n",
       "      <td>-0.083</td>\n",
       "      <td>-0.888</td>\n",
       "    </tr>\n",
       "    <tr>\n",
       "      <th>E</th>\n",
       "      <td>-0.301</td>\n",
       "      <td>0.908</td>\n",
       "      <td>-0.646</td>\n",
       "      <td>-1.324</td>\n",
       "      <td>1.678</td>\n",
       "    </tr>\n",
       "  </tbody>\n",
       "</table>\n",
       "</div>"
      ],
      "text/plain": [
       "   VAR_1  VAR_2  VAR_3  VAR_4  VAR_5\n",
       "A  0.819 -1.044  0.351  0.922 -0.087\n",
       "B -3.129 -0.970  0.935  0.044  1.425\n",
       "C -0.557  0.927 -1.284  1.096 -1.932\n",
       "D  0.479  1.345 -0.175 -0.083 -0.888\n",
       "E -0.301  0.908 -0.646 -1.324  1.678"
      ]
     },
     "execution_count": 28,
     "metadata": {},
     "output_type": "execute_result"
    }
   ],
   "source": [
    "df.head()"
   ]
  },
  {
   "cell_type": "markdown",
   "id": "7ff79d44",
   "metadata": {},
   "source": [
    "### Inplace Argument \n",
    "\n",
    "   - Many Pandas DataFrame methods have __inplace__ argument to protect us from accidently changing the data.\n",
    "   \n",
    "   \n",
    "   - If we want to reset the DataFrame index permanently, we have to provide __inplace = True__. "
   ]
  },
  {
   "cell_type": "code",
   "execution_count": 29,
   "id": "8366390b",
   "metadata": {},
   "outputs": [],
   "source": [
    "df.reset_index(inplace = True)"
   ]
  },
  {
   "cell_type": "code",
   "execution_count": 30,
   "id": "2fb96f86",
   "metadata": {},
   "outputs": [
    {
     "data": {
      "text/html": [
       "<div>\n",
       "<style scoped>\n",
       "    .dataframe tbody tr th:only-of-type {\n",
       "        vertical-align: middle;\n",
       "    }\n",
       "\n",
       "    .dataframe tbody tr th {\n",
       "        vertical-align: top;\n",
       "    }\n",
       "\n",
       "    .dataframe thead th {\n",
       "        text-align: right;\n",
       "    }\n",
       "</style>\n",
       "<table border=\"1\" class=\"dataframe\">\n",
       "  <thead>\n",
       "    <tr style=\"text-align: right;\">\n",
       "      <th></th>\n",
       "      <th>index</th>\n",
       "      <th>VAR_1</th>\n",
       "      <th>VAR_2</th>\n",
       "      <th>VAR_3</th>\n",
       "      <th>VAR_4</th>\n",
       "      <th>VAR_5</th>\n",
       "    </tr>\n",
       "  </thead>\n",
       "  <tbody>\n",
       "    <tr>\n",
       "      <th>0</th>\n",
       "      <td>A</td>\n",
       "      <td>0.819</td>\n",
       "      <td>-1.044</td>\n",
       "      <td>0.351</td>\n",
       "      <td>0.922</td>\n",
       "      <td>-0.087</td>\n",
       "    </tr>\n",
       "    <tr>\n",
       "      <th>1</th>\n",
       "      <td>B</td>\n",
       "      <td>-3.129</td>\n",
       "      <td>-0.970</td>\n",
       "      <td>0.935</td>\n",
       "      <td>0.044</td>\n",
       "      <td>1.425</td>\n",
       "    </tr>\n",
       "    <tr>\n",
       "      <th>2</th>\n",
       "      <td>C</td>\n",
       "      <td>-0.557</td>\n",
       "      <td>0.927</td>\n",
       "      <td>-1.284</td>\n",
       "      <td>1.096</td>\n",
       "      <td>-1.932</td>\n",
       "    </tr>\n",
       "    <tr>\n",
       "      <th>3</th>\n",
       "      <td>D</td>\n",
       "      <td>0.479</td>\n",
       "      <td>1.345</td>\n",
       "      <td>-0.175</td>\n",
       "      <td>-0.083</td>\n",
       "      <td>-0.888</td>\n",
       "    </tr>\n",
       "    <tr>\n",
       "      <th>4</th>\n",
       "      <td>E</td>\n",
       "      <td>-0.301</td>\n",
       "      <td>0.908</td>\n",
       "      <td>-0.646</td>\n",
       "      <td>-1.324</td>\n",
       "      <td>1.678</td>\n",
       "    </tr>\n",
       "  </tbody>\n",
       "</table>\n",
       "</div>"
      ],
      "text/plain": [
       "  index  VAR_1  VAR_2  VAR_3  VAR_4  VAR_5\n",
       "0     A  0.819 -1.044  0.351  0.922 -0.087\n",
       "1     B -3.129 -0.970  0.935  0.044  1.425\n",
       "2     C -0.557  0.927 -1.284  1.096 -1.932\n",
       "3     D  0.479  1.345 -0.175 -0.083 -0.888\n",
       "4     E -0.301  0.908 -0.646 -1.324  1.678"
      ]
     },
     "execution_count": 30,
     "metadata": {},
     "output_type": "execute_result"
    }
   ],
   "source": [
    "df.head()"
   ]
  },
  {
   "cell_type": "markdown",
   "id": "a2adb815",
   "metadata": {},
   "source": [
    "### Rename Method. \n",
    "- I would like to rename the new column as __OldIndex__, to refer to it later. This is a chance for use to learn about the __rename method__. \n",
    "\n",
    "- Rename method has several arguments, but in order the rename the variable names, we need to pass a dict to __columns__ argument. \n",
    "\n",
    "- You need to set __inplace = True__ if we want the change to permanently takes place.\n",
    "\n",
    "Here is the syntax\n",
    "---\n",
    "```python \n",
    "\n",
    "df.rename(columns = {\"old-var-name\":\"new-var-name\"}, inplace = True)\n",
    "```"
   ]
  },
  {
   "cell_type": "code",
   "execution_count": 31,
   "id": "25cdce20",
   "metadata": {},
   "outputs": [
    {
     "data": {
      "text/html": [
       "<div>\n",
       "<style scoped>\n",
       "    .dataframe tbody tr th:only-of-type {\n",
       "        vertical-align: middle;\n",
       "    }\n",
       "\n",
       "    .dataframe tbody tr th {\n",
       "        vertical-align: top;\n",
       "    }\n",
       "\n",
       "    .dataframe thead th {\n",
       "        text-align: right;\n",
       "    }\n",
       "</style>\n",
       "<table border=\"1\" class=\"dataframe\">\n",
       "  <thead>\n",
       "    <tr style=\"text-align: right;\">\n",
       "      <th></th>\n",
       "      <th>OldIndex</th>\n",
       "      <th>VAR_1</th>\n",
       "      <th>VAR_2</th>\n",
       "      <th>VAR_3</th>\n",
       "      <th>VAR_4</th>\n",
       "      <th>VAR_5</th>\n",
       "    </tr>\n",
       "  </thead>\n",
       "  <tbody>\n",
       "    <tr>\n",
       "      <th>0</th>\n",
       "      <td>A</td>\n",
       "      <td>0.819</td>\n",
       "      <td>-1.044</td>\n",
       "      <td>0.351</td>\n",
       "      <td>0.922</td>\n",
       "      <td>-0.087</td>\n",
       "    </tr>\n",
       "    <tr>\n",
       "      <th>1</th>\n",
       "      <td>B</td>\n",
       "      <td>-3.129</td>\n",
       "      <td>-0.970</td>\n",
       "      <td>0.935</td>\n",
       "      <td>0.044</td>\n",
       "      <td>1.425</td>\n",
       "    </tr>\n",
       "    <tr>\n",
       "      <th>2</th>\n",
       "      <td>C</td>\n",
       "      <td>-0.557</td>\n",
       "      <td>0.927</td>\n",
       "      <td>-1.284</td>\n",
       "      <td>1.096</td>\n",
       "      <td>-1.932</td>\n",
       "    </tr>\n",
       "    <tr>\n",
       "      <th>3</th>\n",
       "      <td>D</td>\n",
       "      <td>0.479</td>\n",
       "      <td>1.345</td>\n",
       "      <td>-0.175</td>\n",
       "      <td>-0.083</td>\n",
       "      <td>-0.888</td>\n",
       "    </tr>\n",
       "    <tr>\n",
       "      <th>4</th>\n",
       "      <td>E</td>\n",
       "      <td>-0.301</td>\n",
       "      <td>0.908</td>\n",
       "      <td>-0.646</td>\n",
       "      <td>-1.324</td>\n",
       "      <td>1.678</td>\n",
       "    </tr>\n",
       "  </tbody>\n",
       "</table>\n",
       "</div>"
      ],
      "text/plain": [
       "  OldIndex  VAR_1  VAR_2  VAR_3  VAR_4  VAR_5\n",
       "0        A  0.819 -1.044  0.351  0.922 -0.087\n",
       "1        B -3.129 -0.970  0.935  0.044  1.425\n",
       "2        C -0.557  0.927 -1.284  1.096 -1.932\n",
       "3        D  0.479  1.345 -0.175 -0.083 -0.888\n",
       "4        E -0.301  0.908 -0.646 -1.324  1.678"
      ]
     },
     "execution_count": 31,
     "metadata": {},
     "output_type": "execute_result"
    }
   ],
   "source": [
    "df.rename(columns = {'index': 'OldIndex'}, inplace = True ) \n",
    "df.head()"
   ]
  },
  {
   "cell_type": "markdown",
   "id": "44a9ff66",
   "metadata": {},
   "source": [
    "### Column as an Index "
   ]
  },
  {
   "cell_type": "markdown",
   "id": "1955d5bc",
   "metadata": {},
   "source": [
    "Great! What if we want to use a column as an index. In our case, we will get back the index (renamed to OldIndex) to be an __index__. \n",
    "\n",
    "- Here it comes __df.set_index('col-name candidate')__. This also will not affect the original data.\n",
    "\n",
    "\n",
    "- **Permanent seting new index requires to set inplace = True**. If we do this, it will override the old label index and we won't be able to get it back. Do not do it unless you are sure, or make a copy of the original data. \n",
    "\n",
    "Here is the syntax\n",
    "---\n",
    "```python\n",
    "\n",
    "df.set_index('col-to-be-index')\n",
    "```"
   ]
  },
  {
   "cell_type": "code",
   "execution_count": 32,
   "id": "fb4c3067",
   "metadata": {},
   "outputs": [
    {
     "data": {
      "text/html": [
       "<div>\n",
       "<style scoped>\n",
       "    .dataframe tbody tr th:only-of-type {\n",
       "        vertical-align: middle;\n",
       "    }\n",
       "\n",
       "    .dataframe tbody tr th {\n",
       "        vertical-align: top;\n",
       "    }\n",
       "\n",
       "    .dataframe thead th {\n",
       "        text-align: right;\n",
       "    }\n",
       "</style>\n",
       "<table border=\"1\" class=\"dataframe\">\n",
       "  <thead>\n",
       "    <tr style=\"text-align: right;\">\n",
       "      <th></th>\n",
       "      <th>VAR_1</th>\n",
       "      <th>VAR_2</th>\n",
       "      <th>VAR_3</th>\n",
       "      <th>VAR_4</th>\n",
       "      <th>VAR_5</th>\n",
       "    </tr>\n",
       "    <tr>\n",
       "      <th>OldIndex</th>\n",
       "      <th></th>\n",
       "      <th></th>\n",
       "      <th></th>\n",
       "      <th></th>\n",
       "      <th></th>\n",
       "    </tr>\n",
       "  </thead>\n",
       "  <tbody>\n",
       "    <tr>\n",
       "      <th>A</th>\n",
       "      <td>0.819</td>\n",
       "      <td>-1.044</td>\n",
       "      <td>0.351</td>\n",
       "      <td>0.922</td>\n",
       "      <td>-0.087</td>\n",
       "    </tr>\n",
       "    <tr>\n",
       "      <th>B</th>\n",
       "      <td>-3.129</td>\n",
       "      <td>-0.970</td>\n",
       "      <td>0.935</td>\n",
       "      <td>0.044</td>\n",
       "      <td>1.425</td>\n",
       "    </tr>\n",
       "    <tr>\n",
       "      <th>C</th>\n",
       "      <td>-0.557</td>\n",
       "      <td>0.927</td>\n",
       "      <td>-1.284</td>\n",
       "      <td>1.096</td>\n",
       "      <td>-1.932</td>\n",
       "    </tr>\n",
       "    <tr>\n",
       "      <th>D</th>\n",
       "      <td>0.479</td>\n",
       "      <td>1.345</td>\n",
       "      <td>-0.175</td>\n",
       "      <td>-0.083</td>\n",
       "      <td>-0.888</td>\n",
       "    </tr>\n",
       "    <tr>\n",
       "      <th>E</th>\n",
       "      <td>-0.301</td>\n",
       "      <td>0.908</td>\n",
       "      <td>-0.646</td>\n",
       "      <td>-1.324</td>\n",
       "      <td>1.678</td>\n",
       "    </tr>\n",
       "    <tr>\n",
       "      <th>F</th>\n",
       "      <td>0.299</td>\n",
       "      <td>0.109</td>\n",
       "      <td>1.044</td>\n",
       "      <td>0.150</td>\n",
       "      <td>-0.252</td>\n",
       "    </tr>\n",
       "    <tr>\n",
       "      <th>G</th>\n",
       "      <td>0.847</td>\n",
       "      <td>0.506</td>\n",
       "      <td>0.393</td>\n",
       "      <td>0.142</td>\n",
       "      <td>-1.143</td>\n",
       "    </tr>\n",
       "  </tbody>\n",
       "</table>\n",
       "</div>"
      ],
      "text/plain": [
       "          VAR_1  VAR_2  VAR_3  VAR_4  VAR_5\n",
       "OldIndex                                   \n",
       "A         0.819 -1.044  0.351  0.922 -0.087\n",
       "B        -3.129 -0.970  0.935  0.044  1.425\n",
       "C        -0.557  0.927 -1.284  1.096 -1.932\n",
       "D         0.479  1.345 -0.175 -0.083 -0.888\n",
       "E        -0.301  0.908 -0.646 -1.324  1.678\n",
       "F         0.299  0.109  1.044  0.150 -0.252\n",
       "G         0.847  0.506  0.393  0.142 -1.143"
      ]
     },
     "execution_count": 32,
     "metadata": {},
     "output_type": "execute_result"
    }
   ],
   "source": [
    "df.set_index(\"OldIndex\")"
   ]
  },
  {
   "cell_type": "code",
   "execution_count": 33,
   "id": "297a55a9",
   "metadata": {},
   "outputs": [
    {
     "data": {
      "text/html": [
       "<div>\n",
       "<style scoped>\n",
       "    .dataframe tbody tr th:only-of-type {\n",
       "        vertical-align: middle;\n",
       "    }\n",
       "\n",
       "    .dataframe tbody tr th {\n",
       "        vertical-align: top;\n",
       "    }\n",
       "\n",
       "    .dataframe thead th {\n",
       "        text-align: right;\n",
       "    }\n",
       "</style>\n",
       "<table border=\"1\" class=\"dataframe\">\n",
       "  <thead>\n",
       "    <tr style=\"text-align: right;\">\n",
       "      <th></th>\n",
       "      <th>OldIndex</th>\n",
       "      <th>VAR_1</th>\n",
       "      <th>VAR_2</th>\n",
       "      <th>VAR_3</th>\n",
       "      <th>VAR_4</th>\n",
       "      <th>VAR_5</th>\n",
       "    </tr>\n",
       "  </thead>\n",
       "  <tbody>\n",
       "    <tr>\n",
       "      <th>0</th>\n",
       "      <td>A</td>\n",
       "      <td>0.819</td>\n",
       "      <td>-1.044</td>\n",
       "      <td>0.351</td>\n",
       "      <td>0.922</td>\n",
       "      <td>-0.087</td>\n",
       "    </tr>\n",
       "    <tr>\n",
       "      <th>1</th>\n",
       "      <td>B</td>\n",
       "      <td>-3.129</td>\n",
       "      <td>-0.970</td>\n",
       "      <td>0.935</td>\n",
       "      <td>0.044</td>\n",
       "      <td>1.425</td>\n",
       "    </tr>\n",
       "    <tr>\n",
       "      <th>2</th>\n",
       "      <td>C</td>\n",
       "      <td>-0.557</td>\n",
       "      <td>0.927</td>\n",
       "      <td>-1.284</td>\n",
       "      <td>1.096</td>\n",
       "      <td>-1.932</td>\n",
       "    </tr>\n",
       "    <tr>\n",
       "      <th>3</th>\n",
       "      <td>D</td>\n",
       "      <td>0.479</td>\n",
       "      <td>1.345</td>\n",
       "      <td>-0.175</td>\n",
       "      <td>-0.083</td>\n",
       "      <td>-0.888</td>\n",
       "    </tr>\n",
       "    <tr>\n",
       "      <th>4</th>\n",
       "      <td>E</td>\n",
       "      <td>-0.301</td>\n",
       "      <td>0.908</td>\n",
       "      <td>-0.646</td>\n",
       "      <td>-1.324</td>\n",
       "      <td>1.678</td>\n",
       "    </tr>\n",
       "  </tbody>\n",
       "</table>\n",
       "</div>"
      ],
      "text/plain": [
       "  OldIndex  VAR_1  VAR_2  VAR_3  VAR_4  VAR_5\n",
       "0        A  0.819 -1.044  0.351  0.922 -0.087\n",
       "1        B -3.129 -0.970  0.935  0.044  1.425\n",
       "2        C -0.557  0.927 -1.284  1.096 -1.932\n",
       "3        D  0.479  1.345 -0.175 -0.083 -0.888\n",
       "4        E -0.301  0.908 -0.646 -1.324  1.678"
      ]
     },
     "execution_count": 33,
     "metadata": {},
     "output_type": "execute_result"
    }
   ],
   "source": [
    "df.head()"
   ]
  },
  {
   "cell_type": "markdown",
   "id": "061de8c1",
   "metadata": {},
   "source": [
    "#### Permanent seting New Index"
   ]
  },
  {
   "cell_type": "code",
   "execution_count": 34,
   "id": "09ae673f",
   "metadata": {},
   "outputs": [],
   "source": [
    "df.set_index(\"OldIndex\", inplace= True)"
   ]
  },
  {
   "cell_type": "code",
   "execution_count": 35,
   "id": "6c390779",
   "metadata": {},
   "outputs": [
    {
     "data": {
      "text/html": [
       "<div>\n",
       "<style scoped>\n",
       "    .dataframe tbody tr th:only-of-type {\n",
       "        vertical-align: middle;\n",
       "    }\n",
       "\n",
       "    .dataframe tbody tr th {\n",
       "        vertical-align: top;\n",
       "    }\n",
       "\n",
       "    .dataframe thead th {\n",
       "        text-align: right;\n",
       "    }\n",
       "</style>\n",
       "<table border=\"1\" class=\"dataframe\">\n",
       "  <thead>\n",
       "    <tr style=\"text-align: right;\">\n",
       "      <th></th>\n",
       "      <th>VAR_1</th>\n",
       "      <th>VAR_2</th>\n",
       "      <th>VAR_3</th>\n",
       "      <th>VAR_4</th>\n",
       "      <th>VAR_5</th>\n",
       "    </tr>\n",
       "    <tr>\n",
       "      <th>OldIndex</th>\n",
       "      <th></th>\n",
       "      <th></th>\n",
       "      <th></th>\n",
       "      <th></th>\n",
       "      <th></th>\n",
       "    </tr>\n",
       "  </thead>\n",
       "  <tbody>\n",
       "    <tr>\n",
       "      <th>A</th>\n",
       "      <td>0.819</td>\n",
       "      <td>-1.044</td>\n",
       "      <td>0.351</td>\n",
       "      <td>0.922</td>\n",
       "      <td>-0.087</td>\n",
       "    </tr>\n",
       "    <tr>\n",
       "      <th>B</th>\n",
       "      <td>-3.129</td>\n",
       "      <td>-0.970</td>\n",
       "      <td>0.935</td>\n",
       "      <td>0.044</td>\n",
       "      <td>1.425</td>\n",
       "    </tr>\n",
       "    <tr>\n",
       "      <th>C</th>\n",
       "      <td>-0.557</td>\n",
       "      <td>0.927</td>\n",
       "      <td>-1.284</td>\n",
       "      <td>1.096</td>\n",
       "      <td>-1.932</td>\n",
       "    </tr>\n",
       "    <tr>\n",
       "      <th>D</th>\n",
       "      <td>0.479</td>\n",
       "      <td>1.345</td>\n",
       "      <td>-0.175</td>\n",
       "      <td>-0.083</td>\n",
       "      <td>-0.888</td>\n",
       "    </tr>\n",
       "    <tr>\n",
       "      <th>E</th>\n",
       "      <td>-0.301</td>\n",
       "      <td>0.908</td>\n",
       "      <td>-0.646</td>\n",
       "      <td>-1.324</td>\n",
       "      <td>1.678</td>\n",
       "    </tr>\n",
       "  </tbody>\n",
       "</table>\n",
       "</div>"
      ],
      "text/plain": [
       "          VAR_1  VAR_2  VAR_3  VAR_4  VAR_5\n",
       "OldIndex                                   \n",
       "A         0.819 -1.044  0.351  0.922 -0.087\n",
       "B        -3.129 -0.970  0.935  0.044  1.425\n",
       "C        -0.557  0.927 -1.284  1.096 -1.932\n",
       "D         0.479  1.345 -0.175 -0.083 -0.888\n",
       "E        -0.301  0.908 -0.646 -1.324  1.678"
      ]
     },
     "execution_count": 35,
     "metadata": {},
     "output_type": "execute_result"
    }
   ],
   "source": [
    "df.head()"
   ]
  },
  {
   "cell_type": "markdown",
   "id": "df70d807",
   "metadata": {},
   "source": [
    "### The index name"
   ]
  },
  {
   "cell_type": "code",
   "execution_count": 36,
   "id": "91263155",
   "metadata": {},
   "outputs": [
    {
     "data": {
      "text/plain": [
       "'OldIndex'"
      ]
     },
     "execution_count": 36,
     "metadata": {},
     "output_type": "execute_result"
    }
   ],
   "source": [
    "df.index.name"
   ]
  },
  {
   "cell_type": "markdown",
   "id": "feae26c2",
   "metadata": {},
   "source": [
    "### Reindex method\n",
    "\n",
    "  - **Reindex** method will create a new object with the data conformed to a new index. (reindex works on boths Series and DataFrames objects)"
   ]
  },
  {
   "cell_type": "code",
   "execution_count": 37,
   "id": "93cb6a5f",
   "metadata": {},
   "outputs": [],
   "source": [
    "df_reind = pd.DataFrame(df, index = ['F', 'B', 'A', 'E', 'C', 'D', 'G'])"
   ]
  },
  {
   "cell_type": "code",
   "execution_count": 38,
   "id": "edd513bd",
   "metadata": {},
   "outputs": [
    {
     "data": {
      "text/html": [
       "<div>\n",
       "<style scoped>\n",
       "    .dataframe tbody tr th:only-of-type {\n",
       "        vertical-align: middle;\n",
       "    }\n",
       "\n",
       "    .dataframe tbody tr th {\n",
       "        vertical-align: top;\n",
       "    }\n",
       "\n",
       "    .dataframe thead th {\n",
       "        text-align: right;\n",
       "    }\n",
       "</style>\n",
       "<table border=\"1\" class=\"dataframe\">\n",
       "  <thead>\n",
       "    <tr style=\"text-align: right;\">\n",
       "      <th></th>\n",
       "      <th>VAR_1</th>\n",
       "      <th>VAR_2</th>\n",
       "      <th>VAR_3</th>\n",
       "      <th>VAR_4</th>\n",
       "      <th>VAR_5</th>\n",
       "    </tr>\n",
       "  </thead>\n",
       "  <tbody>\n",
       "    <tr>\n",
       "      <th>F</th>\n",
       "      <td>0.299</td>\n",
       "      <td>0.109</td>\n",
       "      <td>1.044</td>\n",
       "      <td>0.150</td>\n",
       "      <td>-0.252</td>\n",
       "    </tr>\n",
       "    <tr>\n",
       "      <th>B</th>\n",
       "      <td>-3.129</td>\n",
       "      <td>-0.970</td>\n",
       "      <td>0.935</td>\n",
       "      <td>0.044</td>\n",
       "      <td>1.425</td>\n",
       "    </tr>\n",
       "    <tr>\n",
       "      <th>A</th>\n",
       "      <td>0.819</td>\n",
       "      <td>-1.044</td>\n",
       "      <td>0.351</td>\n",
       "      <td>0.922</td>\n",
       "      <td>-0.087</td>\n",
       "    </tr>\n",
       "    <tr>\n",
       "      <th>E</th>\n",
       "      <td>-0.301</td>\n",
       "      <td>0.908</td>\n",
       "      <td>-0.646</td>\n",
       "      <td>-1.324</td>\n",
       "      <td>1.678</td>\n",
       "    </tr>\n",
       "    <tr>\n",
       "      <th>C</th>\n",
       "      <td>-0.557</td>\n",
       "      <td>0.927</td>\n",
       "      <td>-1.284</td>\n",
       "      <td>1.096</td>\n",
       "      <td>-1.932</td>\n",
       "    </tr>\n",
       "    <tr>\n",
       "      <th>D</th>\n",
       "      <td>0.479</td>\n",
       "      <td>1.345</td>\n",
       "      <td>-0.175</td>\n",
       "      <td>-0.083</td>\n",
       "      <td>-0.888</td>\n",
       "    </tr>\n",
       "    <tr>\n",
       "      <th>G</th>\n",
       "      <td>0.847</td>\n",
       "      <td>0.506</td>\n",
       "      <td>0.393</td>\n",
       "      <td>0.142</td>\n",
       "      <td>-1.143</td>\n",
       "    </tr>\n",
       "  </tbody>\n",
       "</table>\n",
       "</div>"
      ],
      "text/plain": [
       "   VAR_1  VAR_2  VAR_3  VAR_4  VAR_5\n",
       "F  0.299  0.109  1.044  0.150 -0.252\n",
       "B -3.129 -0.970  0.935  0.044  1.425\n",
       "A  0.819 -1.044  0.351  0.922 -0.087\n",
       "E -0.301  0.908 -0.646 -1.324  1.678\n",
       "C -0.557  0.927 -1.284  1.096 -1.932\n",
       "D  0.479  1.345 -0.175 -0.083 -0.888\n",
       "G  0.847  0.506  0.393  0.142 -1.143"
      ]
     },
     "execution_count": 38,
     "metadata": {},
     "output_type": "execute_result"
    }
   ],
   "source": [
    "df_reind"
   ]
  },
  {
   "cell_type": "markdown",
   "id": "7a831f5e",
   "metadata": {},
   "source": [
    "### Reindexing Example"
   ]
  },
  {
   "cell_type": "markdown",
   "id": "8691a572",
   "metadata": {},
   "source": [
    "- If we call the __reindex method__ on the object, it will rearrange the DataFrame according to the new index. \n",
    "\n",
    "- If we give and index that does not have match of data points, NaN will be produced.\n",
    "\n",
    "- To reindex a DataFrame, input a list of lables to the __labels__ argument\n",
    "\n",
    "Here is the syntax\n",
    "```python\n",
    "df.reindex(labels = ['label1', 'label2', ...])\n",
    "\n",
    "```"
   ]
  },
  {
   "cell_type": "code",
   "execution_count": 39,
   "id": "6405fb0f",
   "metadata": {},
   "outputs": [
    {
     "data": {
      "text/html": [
       "<div>\n",
       "<style scoped>\n",
       "    .dataframe tbody tr th:only-of-type {\n",
       "        vertical-align: middle;\n",
       "    }\n",
       "\n",
       "    .dataframe tbody tr th {\n",
       "        vertical-align: top;\n",
       "    }\n",
       "\n",
       "    .dataframe thead th {\n",
       "        text-align: right;\n",
       "    }\n",
       "</style>\n",
       "<table border=\"1\" class=\"dataframe\">\n",
       "  <thead>\n",
       "    <tr style=\"text-align: right;\">\n",
       "      <th></th>\n",
       "      <th>VAR_1</th>\n",
       "      <th>VAR_2</th>\n",
       "      <th>VAR_3</th>\n",
       "      <th>VAR_4</th>\n",
       "      <th>VAR_5</th>\n",
       "    </tr>\n",
       "  </thead>\n",
       "  <tbody>\n",
       "    <tr>\n",
       "      <th>A</th>\n",
       "      <td>0.819</td>\n",
       "      <td>-1.044</td>\n",
       "      <td>0.351</td>\n",
       "      <td>0.922</td>\n",
       "      <td>-0.087</td>\n",
       "    </tr>\n",
       "    <tr>\n",
       "      <th>B</th>\n",
       "      <td>-3.129</td>\n",
       "      <td>-0.970</td>\n",
       "      <td>0.935</td>\n",
       "      <td>0.044</td>\n",
       "      <td>1.425</td>\n",
       "    </tr>\n",
       "    <tr>\n",
       "      <th>C</th>\n",
       "      <td>-0.557</td>\n",
       "      <td>0.927</td>\n",
       "      <td>-1.284</td>\n",
       "      <td>1.096</td>\n",
       "      <td>-1.932</td>\n",
       "    </tr>\n",
       "    <tr>\n",
       "      <th>D</th>\n",
       "      <td>0.479</td>\n",
       "      <td>1.345</td>\n",
       "      <td>-0.175</td>\n",
       "      <td>-0.083</td>\n",
       "      <td>-0.888</td>\n",
       "    </tr>\n",
       "    <tr>\n",
       "      <th>E</th>\n",
       "      <td>-0.301</td>\n",
       "      <td>0.908</td>\n",
       "      <td>-0.646</td>\n",
       "      <td>-1.324</td>\n",
       "      <td>1.678</td>\n",
       "    </tr>\n",
       "    <tr>\n",
       "      <th>F</th>\n",
       "      <td>0.299</td>\n",
       "      <td>0.109</td>\n",
       "      <td>1.044</td>\n",
       "      <td>0.150</td>\n",
       "      <td>-0.252</td>\n",
       "    </tr>\n",
       "    <tr>\n",
       "      <th>G</th>\n",
       "      <td>0.847</td>\n",
       "      <td>0.506</td>\n",
       "      <td>0.393</td>\n",
       "      <td>0.142</td>\n",
       "      <td>-1.143</td>\n",
       "    </tr>\n",
       "    <tr>\n",
       "      <th>H</th>\n",
       "      <td>NaN</td>\n",
       "      <td>NaN</td>\n",
       "      <td>NaN</td>\n",
       "      <td>NaN</td>\n",
       "      <td>NaN</td>\n",
       "    </tr>\n",
       "  </tbody>\n",
       "</table>\n",
       "</div>"
      ],
      "text/plain": [
       "   VAR_1  VAR_2  VAR_3  VAR_4  VAR_5\n",
       "A  0.819 -1.044  0.351  0.922 -0.087\n",
       "B -3.129 -0.970  0.935  0.044  1.425\n",
       "C -0.557  0.927 -1.284  1.096 -1.932\n",
       "D  0.479  1.345 -0.175 -0.083 -0.888\n",
       "E -0.301  0.908 -0.646 -1.324  1.678\n",
       "F  0.299  0.109  1.044  0.150 -0.252\n",
       "G  0.847  0.506  0.393  0.142 -1.143\n",
       "H    NaN    NaN    NaN    NaN    NaN"
      ]
     },
     "execution_count": 39,
     "metadata": {},
     "output_type": "execute_result"
    }
   ],
   "source": [
    "df_reind.reindex(['A', 'B', 'C', 'D', 'E', 'F', 'G', 'H'])"
   ]
  },
  {
   "cell_type": "markdown",
   "id": "123c45b9",
   "metadata": {},
   "source": [
    "### Filling NANs with Reindex Method"
   ]
  },
  {
   "cell_type": "markdown",
   "id": "93f293b8",
   "metadata": {},
   "source": [
    "__reindex__ method has an argument __fill_value__ to fill NaNs values"
   ]
  },
  {
   "cell_type": "code",
   "execution_count": 40,
   "id": "f7e82adb",
   "metadata": {},
   "outputs": [
    {
     "data": {
      "text/html": [
       "<div>\n",
       "<style scoped>\n",
       "    .dataframe tbody tr th:only-of-type {\n",
       "        vertical-align: middle;\n",
       "    }\n",
       "\n",
       "    .dataframe tbody tr th {\n",
       "        vertical-align: top;\n",
       "    }\n",
       "\n",
       "    .dataframe thead th {\n",
       "        text-align: right;\n",
       "    }\n",
       "</style>\n",
       "<table border=\"1\" class=\"dataframe\">\n",
       "  <thead>\n",
       "    <tr style=\"text-align: right;\">\n",
       "      <th></th>\n",
       "      <th>VAR_1</th>\n",
       "      <th>VAR_2</th>\n",
       "      <th>VAR_3</th>\n",
       "      <th>VAR_4</th>\n",
       "      <th>VAR_5</th>\n",
       "    </tr>\n",
       "  </thead>\n",
       "  <tbody>\n",
       "    <tr>\n",
       "      <th>A</th>\n",
       "      <td>0.819</td>\n",
       "      <td>-1.044</td>\n",
       "      <td>0.351</td>\n",
       "      <td>0.922</td>\n",
       "      <td>-0.087</td>\n",
       "    </tr>\n",
       "    <tr>\n",
       "      <th>B</th>\n",
       "      <td>-3.129</td>\n",
       "      <td>-0.970</td>\n",
       "      <td>0.935</td>\n",
       "      <td>0.044</td>\n",
       "      <td>1.425</td>\n",
       "    </tr>\n",
       "    <tr>\n",
       "      <th>C</th>\n",
       "      <td>-0.557</td>\n",
       "      <td>0.927</td>\n",
       "      <td>-1.284</td>\n",
       "      <td>1.096</td>\n",
       "      <td>-1.932</td>\n",
       "    </tr>\n",
       "    <tr>\n",
       "      <th>D</th>\n",
       "      <td>0.479</td>\n",
       "      <td>1.345</td>\n",
       "      <td>-0.175</td>\n",
       "      <td>-0.083</td>\n",
       "      <td>-0.888</td>\n",
       "    </tr>\n",
       "    <tr>\n",
       "      <th>E</th>\n",
       "      <td>-0.301</td>\n",
       "      <td>0.908</td>\n",
       "      <td>-0.646</td>\n",
       "      <td>-1.324</td>\n",
       "      <td>1.678</td>\n",
       "    </tr>\n",
       "    <tr>\n",
       "      <th>F</th>\n",
       "      <td>0.299</td>\n",
       "      <td>0.109</td>\n",
       "      <td>1.044</td>\n",
       "      <td>0.150</td>\n",
       "      <td>-0.252</td>\n",
       "    </tr>\n",
       "    <tr>\n",
       "      <th>G</th>\n",
       "      <td>0.847</td>\n",
       "      <td>0.506</td>\n",
       "      <td>0.393</td>\n",
       "      <td>0.142</td>\n",
       "      <td>-1.143</td>\n",
       "    </tr>\n",
       "    <tr>\n",
       "      <th>H</th>\n",
       "      <td>-999.000</td>\n",
       "      <td>-999.000</td>\n",
       "      <td>-999.000</td>\n",
       "      <td>-999.000</td>\n",
       "      <td>-999.000</td>\n",
       "    </tr>\n",
       "  </tbody>\n",
       "</table>\n",
       "</div>"
      ],
      "text/plain": [
       "     VAR_1    VAR_2    VAR_3    VAR_4    VAR_5\n",
       "A    0.819   -1.044    0.351    0.922   -0.087\n",
       "B   -3.129   -0.970    0.935    0.044    1.425\n",
       "C   -0.557    0.927   -1.284    1.096   -1.932\n",
       "D    0.479    1.345   -0.175   -0.083   -0.888\n",
       "E   -0.301    0.908   -0.646   -1.324    1.678\n",
       "F    0.299    0.109    1.044    0.150   -0.252\n",
       "G    0.847    0.506    0.393    0.142   -1.143\n",
       "H -999.000 -999.000 -999.000 -999.000 -999.000"
      ]
     },
     "execution_count": 40,
     "metadata": {},
     "output_type": "execute_result"
    }
   ],
   "source": [
    "df_reind.reindex(['A', 'B', 'C', 'D', 'E', 'F', 'G', 'H'], fill_value= -999)"
   ]
  },
  {
   "cell_type": "markdown",
   "id": "a29bd252",
   "metadata": {},
   "source": [
    "### Note:\n",
    "\n",
    "  - **reindex** works on columns as well. "
   ]
  },
  {
   "cell_type": "code",
   "execution_count": 41,
   "id": "60c8d206",
   "metadata": {},
   "outputs": [
    {
     "data": {
      "text/html": [
       "<div>\n",
       "<style scoped>\n",
       "    .dataframe tbody tr th:only-of-type {\n",
       "        vertical-align: middle;\n",
       "    }\n",
       "\n",
       "    .dataframe tbody tr th {\n",
       "        vertical-align: top;\n",
       "    }\n",
       "\n",
       "    .dataframe thead th {\n",
       "        text-align: right;\n",
       "    }\n",
       "</style>\n",
       "<table border=\"1\" class=\"dataframe\">\n",
       "  <thead>\n",
       "    <tr style=\"text-align: right;\">\n",
       "      <th></th>\n",
       "      <th>VAR_1</th>\n",
       "      <th>VAR_6</th>\n",
       "      <th>VAR_2</th>\n",
       "    </tr>\n",
       "    <tr>\n",
       "      <th>OldIndex</th>\n",
       "      <th></th>\n",
       "      <th></th>\n",
       "      <th></th>\n",
       "    </tr>\n",
       "  </thead>\n",
       "  <tbody>\n",
       "    <tr>\n",
       "      <th>A</th>\n",
       "      <td>0.819</td>\n",
       "      <td>NaN</td>\n",
       "      <td>-1.044</td>\n",
       "    </tr>\n",
       "    <tr>\n",
       "      <th>B</th>\n",
       "      <td>-3.129</td>\n",
       "      <td>NaN</td>\n",
       "      <td>-0.970</td>\n",
       "    </tr>\n",
       "    <tr>\n",
       "      <th>C</th>\n",
       "      <td>-0.557</td>\n",
       "      <td>NaN</td>\n",
       "      <td>0.927</td>\n",
       "    </tr>\n",
       "    <tr>\n",
       "      <th>D</th>\n",
       "      <td>0.479</td>\n",
       "      <td>NaN</td>\n",
       "      <td>1.345</td>\n",
       "    </tr>\n",
       "    <tr>\n",
       "      <th>E</th>\n",
       "      <td>-0.301</td>\n",
       "      <td>NaN</td>\n",
       "      <td>0.908</td>\n",
       "    </tr>\n",
       "    <tr>\n",
       "      <th>F</th>\n",
       "      <td>0.299</td>\n",
       "      <td>NaN</td>\n",
       "      <td>0.109</td>\n",
       "    </tr>\n",
       "    <tr>\n",
       "      <th>G</th>\n",
       "      <td>0.847</td>\n",
       "      <td>NaN</td>\n",
       "      <td>0.506</td>\n",
       "    </tr>\n",
       "  </tbody>\n",
       "</table>\n",
       "</div>"
      ],
      "text/plain": [
       "          VAR_1  VAR_6  VAR_2\n",
       "OldIndex                     \n",
       "A         0.819    NaN -1.044\n",
       "B        -3.129    NaN -0.970\n",
       "C        -0.557    NaN  0.927\n",
       "D         0.479    NaN  1.345\n",
       "E        -0.301    NaN  0.908\n",
       "F         0.299    NaN  0.109\n",
       "G         0.847    NaN  0.506"
      ]
     },
     "execution_count": 41,
     "metadata": {},
     "output_type": "execute_result"
    }
   ],
   "source": [
    "col_df = df.reindex(columns = ['VAR_1', 'VAR_6', 'VAR_2'])\n",
    "col_df"
   ]
  },
  {
   "cell_type": "markdown",
   "id": "25c0e8ba",
   "metadata": {},
   "source": [
    "NaNs are produced to the New column."
   ]
  },
  {
   "cell_type": "markdown",
   "id": "3e2a86c1",
   "metadata": {},
   "source": [
    "### Filling the variable NaN values with fill_value"
   ]
  },
  {
   "cell_type": "code",
   "execution_count": 42,
   "id": "ecdb1182",
   "metadata": {},
   "outputs": [
    {
     "data": {
      "text/html": [
       "<div>\n",
       "<style scoped>\n",
       "    .dataframe tbody tr th:only-of-type {\n",
       "        vertical-align: middle;\n",
       "    }\n",
       "\n",
       "    .dataframe tbody tr th {\n",
       "        vertical-align: top;\n",
       "    }\n",
       "\n",
       "    .dataframe thead th {\n",
       "        text-align: right;\n",
       "    }\n",
       "</style>\n",
       "<table border=\"1\" class=\"dataframe\">\n",
       "  <thead>\n",
       "    <tr style=\"text-align: right;\">\n",
       "      <th></th>\n",
       "      <th>VAR_1</th>\n",
       "      <th>VAR_6</th>\n",
       "      <th>VAR_2</th>\n",
       "    </tr>\n",
       "    <tr>\n",
       "      <th>OldIndex</th>\n",
       "      <th></th>\n",
       "      <th></th>\n",
       "      <th></th>\n",
       "    </tr>\n",
       "  </thead>\n",
       "  <tbody>\n",
       "    <tr>\n",
       "      <th>A</th>\n",
       "      <td>0.819</td>\n",
       "      <td>0</td>\n",
       "      <td>-1.044</td>\n",
       "    </tr>\n",
       "    <tr>\n",
       "      <th>B</th>\n",
       "      <td>-3.129</td>\n",
       "      <td>0</td>\n",
       "      <td>-0.970</td>\n",
       "    </tr>\n",
       "    <tr>\n",
       "      <th>C</th>\n",
       "      <td>-0.557</td>\n",
       "      <td>0</td>\n",
       "      <td>0.927</td>\n",
       "    </tr>\n",
       "    <tr>\n",
       "      <th>D</th>\n",
       "      <td>0.479</td>\n",
       "      <td>0</td>\n",
       "      <td>1.345</td>\n",
       "    </tr>\n",
       "    <tr>\n",
       "      <th>E</th>\n",
       "      <td>-0.301</td>\n",
       "      <td>0</td>\n",
       "      <td>0.908</td>\n",
       "    </tr>\n",
       "    <tr>\n",
       "      <th>F</th>\n",
       "      <td>0.299</td>\n",
       "      <td>0</td>\n",
       "      <td>0.109</td>\n",
       "    </tr>\n",
       "    <tr>\n",
       "      <th>G</th>\n",
       "      <td>0.847</td>\n",
       "      <td>0</td>\n",
       "      <td>0.506</td>\n",
       "    </tr>\n",
       "  </tbody>\n",
       "</table>\n",
       "</div>"
      ],
      "text/plain": [
       "          VAR_1  VAR_6  VAR_2\n",
       "OldIndex                     \n",
       "A         0.819      0 -1.044\n",
       "B        -3.129      0 -0.970\n",
       "C        -0.557      0  0.927\n",
       "D         0.479      0  1.345\n",
       "E        -0.301      0  0.908\n",
       "F         0.299      0  0.109\n",
       "G         0.847      0  0.506"
      ]
     },
     "execution_count": 42,
     "metadata": {},
     "output_type": "execute_result"
    }
   ],
   "source": [
    "df.reindex(columns = ['VAR_1', 'VAR_6', 'VAR_2'], fill_value=0)"
   ]
  },
  {
   "cell_type": "markdown",
   "id": "0b47c242",
   "metadata": {},
   "source": [
    "## Conclusion\n",
    "\n",
    "**Subsetting (Variable Selection), Indexing, ReIndexing ... are common tasks in data analysis. Thus, giving much of interest to this section is extremely important.**"
   ]
  }
 ],
 "metadata": {
  "kernelspec": {
   "display_name": "Python 3",
   "language": "python",
   "name": "python3"
  },
  "language_info": {
   "codemirror_mode": {
    "name": "ipython",
    "version": 3
   },
   "file_extension": ".py",
   "mimetype": "text/x-python",
   "name": "python",
   "nbconvert_exporter": "python",
   "pygments_lexer": "ipython3",
   "version": "3.8.2"
  }
 },
 "nbformat": 4,
 "nbformat_minor": 5
}
