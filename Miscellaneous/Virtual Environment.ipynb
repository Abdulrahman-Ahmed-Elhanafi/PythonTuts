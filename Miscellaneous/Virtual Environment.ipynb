{
 "cells": [
  {
   "cell_type": "markdown",
   "id": "d9de319a",
   "metadata": {},
   "source": [
    "# Virtual Environment"
   ]
  },
  {
   "cell_type": "markdown",
   "id": "bbd02a11",
   "metadata": {},
   "source": [
    "## What is Virtual Environment\n",
    "\n",
    "  - A virtual environment is a Python environment such that the Python interpreter, libraries and scripts installed into it are isolated from those installed in other virtual environments, and (by default) any libraries installed in a “system” Python, i.e., one which is installed as part of your operating system.\n",
    "\n",
    "\n",
    "  - Virtual Environment is used to create a container or isolated environment where the Python-related dependencies are installed for a specific project. One can work with many different versions of Python with its various packages.\n",
    "  \n"
   ]
  },
  {
   "cell_type": "markdown",
   "id": "adaf42d1",
   "metadata": {},
   "source": [
    "### Creating Virtual Environment with Anaconda Prompt\n",
    "\n",
    "  - In order to create virtual environment, it is better to use **Anaconda Prompt**. If you are on windows, press the **Windows icon** in the lower corner of the screen to open the **Search box**, then Type **Anaconda Prompt** or just the first few letters, the results will appear, then use the mouse pointer to launch it, or write it fully and press enter to open it. Linux or Mac users can use the **terminal**. \n",
    "  \n",
    "  - Creating a virtual environment is easy, which take only few few steps, (don't get scared about the name, nothing special about it, and once you started using it, you will love it, and many of your problems will be solved by using **this trick**), here are the steps:\n",
    "      1. Create a virtual evironment, try to choose a name that makes sense for you and for your project.\n",
    "      2. Activate the specific virtual environment that you want to use. \n",
    "      3. Install the packages you need for your project, even with required version. (Remember, you cannot import packages installed on the system once activating the virtual environment).\n",
    "      4. Once done your work, deactivate your virtual environment to go back to your base system, or to activate another virtual environment. \n",
    "      \n",
    "#### Note:\n",
    "\n",
    " - You can create as many virtual environment as you need.\n",
    " \n",
    "**The Syntax of Creating, activating and deactivating VENV**\n",
    "\n",
    "```python\n",
    "# To create an environment, run this command \n",
    "conda create --name virtual_env_name   #<-- example of a name my_nnet\n",
    "# or \n",
    "conda create -n my_nne                 #<-- My virtual env is called my_nnet\n",
    "\n",
    "# Activate the vitual environment\n",
    "conda activate my_nnet                 #<-- Now my virtual env is active\n",
    "\n",
    "# Install The packages you need\n",
    "conda install numpy                    #<-- This numpy module is separated from the \n",
    "                                       # one in the system\n",
    "# Deactative the\n",
    "conda deactivate                       #<-- you are back to your base system\n",
    "```"
   ]
  },
  {
   "cell_type": "markdown",
   "id": "49f07e0f",
   "metadata": {},
   "source": [
    "## Example of Creating a Neural Network Virtual Evironment\n",
    "\n",
    "  - Suppose you want to create a virtual environment to use for your neural network projects, which is recommended actually to install `tensorflow` (as many other modules) on a virtual environment. \n",
    "  \n",
    "  - I would like to name my VENV as my_nnet\n",
    "  - I also need many packages to be installed such as pandas, numpy, scipy, tensorflow, scikit-learn.\n",
    "  - I activate my venv.\n",
    "  - I start working in it\n",
    "  - Once finished, I deactivate it.\n",
    "  \n",
    "Here are the steps on Command Prompt:\n",
    "\n",
    "```python\n",
    "\n",
    "conda create -n my_nnet\n",
    "\n",
    "conda activate my_nnet\n",
    "\n",
    "conda install tensorflow\n",
    "\n",
    "conda install pandas numpy scipy scikit-learn\n",
    "\n",
    "# Once finished deactivate \n",
    "conda deactivate\n",
    "```"
   ]
  },
  {
   "cell_type": "markdown",
   "id": "e43dee6c",
   "metadata": {},
   "source": [
    "### Viewing the List of Environments\n",
    "\n",
    "```python\n",
    "conda env list\n",
    "\n",
    "# or\n",
    "\n",
    "conda info --envs\n",
    "\n",
    "```"
   ]
  },
  {
   "cell_type": "markdown",
   "id": "bd17bc52",
   "metadata": {},
   "source": [
    "### Removing a Virtual Environment\n",
    "\n",
    "```python\n",
    "conda remove --name venv_name --all\n",
    "\n",
    "# Or\n",
    "conda remove -n venv_name --all\n",
    "\n",
    "# Run to verify that the venv has been removed\n",
    "\n",
    "conda info --envs\n",
    "```"
   ]
  },
  {
   "cell_type": "markdown",
   "id": "91978931",
   "metadata": {},
   "source": [
    "## Creating Virtual Environment with pipenv\n",
    "\n",
    "- **Pipenv** is a new and popular way of automatically creating a 'virtualenv' for the project. It creates a Pipfile, which helps to manage the package and can be installed or removed easily. Through Pipenv, 'pip' and 'virtualenv' can be used together to create a Virtual Environment, Pipfile works as the replacement of the 'requirement.txt.' which tracks the package version according to the given project. [source](https://www.datacamp.com/community/tutorials/virtual-environment-in-python)\n",
    "\n",
    "### The steps for Creatinv VENV using pipenv\n",
    "\n",
    "  - First, install `pipenv` using these commands:\n",
    "       - For windows users, use `pip install pipenv`\n",
    "       - For Mac or Linux users use `brew install pipenv`\n",
    "  - Create a project and give it an appropriate name\n",
    "  - Change the directory to that project.\n",
    "  - use `pipenv shell`.\n",
    "  - and that is it. \n",
    "  \n",
    "**Here are the steps using command line CMD or Terminal**\n",
    "```python\n",
    "# open the command line\n",
    "# Create a folder (directory project) using these command\n",
    "\n",
    "mkdir my_project\n",
    "\n",
    "# Change your directory to the project directory\n",
    "cd my_project\n",
    "\n",
    "# Create Virtual Env\n",
    "pipenv shell\n",
    "```\n"
   ]
  },
  {
   "cell_type": "markdown",
   "id": "8fc6d520",
   "metadata": {},
   "source": [
    "### Using venv Python for Creating Virtual Environment. \n",
    "\n",
    "see the details in this [website](https://packaging.python.org/en/latest/guides/installing-using-pip-and-virtual-environments/#creating-a-virtual-environment)\n",
    "\n"
   ]
  },
  {
   "cell_type": "markdown",
   "id": "b7650ced",
   "metadata": {},
   "source": [
    "## Installing Packages Using PIP. \n",
    "\n",
    "check this [website](https://pip.pypa.io/en/stable/user_guide/)"
   ]
  },
  {
   "cell_type": "markdown",
   "id": "5766b669",
   "metadata": {},
   "source": [
    "### Sources\n",
    "\n",
    "pipenv = https://pipenv-fork.readthedocs.io/en/latest/install.html#installing-pipenv\n",
    "\n",
    "conda_venv = https://docs.conda.io/projects/conda/en/latest/user-guide/tasks/manage-environments.html#creating-an-environment-with-commands\n",
    "\n",
    "python_venv = https://docs.python.org/3/library/venv.html"
   ]
  },
  {
   "cell_type": "code",
   "execution_count": null,
   "id": "d9c95fa1",
   "metadata": {},
   "outputs": [],
   "source": []
  }
 ],
 "metadata": {
  "kernelspec": {
   "display_name": "Python 3 (ipykernel)",
   "language": "python",
   "name": "python3"
  },
  "language_info": {
   "codemirror_mode": {
    "name": "ipython",
    "version": 3
   },
   "file_extension": ".py",
   "mimetype": "text/x-python",
   "name": "python",
   "nbconvert_exporter": "python",
   "pygments_lexer": "ipython3",
   "version": "3.8.2"
  }
 },
 "nbformat": 4,
 "nbformat_minor": 5
}
