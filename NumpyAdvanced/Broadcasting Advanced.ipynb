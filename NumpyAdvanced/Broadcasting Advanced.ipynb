{
 "cells": [
  {
   "cell_type": "markdown",
   "id": "a6d3d975",
   "metadata": {},
   "source": [
    "# Broadcasting"
   ]
  },
  {
   "cell_type": "code",
   "execution_count": 1,
   "id": "29ce5370",
   "metadata": {},
   "outputs": [],
   "source": [
    "import numpy as np"
   ]
  },
  {
   "cell_type": "code",
   "execution_count": 2,
   "id": "69f69492",
   "metadata": {},
   "outputs": [
    {
     "data": {
      "text/plain": [
       "array([[[ 1,  2,  3,  4,  5,  6],\n",
       "        [ 7,  8,  9, 10, 11, 12],\n",
       "        [13, 14, 15, 16, 17, 18],\n",
       "        [19, 20, 21, 22, 23, 24],\n",
       "        [25, 26, 27, 28, 29, 30]],\n",
       "\n",
       "       [[31, 32, 33, 34, 35, 36],\n",
       "        [37, 38, 39, 40, 41, 42],\n",
       "        [43, 44, 45, 46, 47, 48],\n",
       "        [49, 50, 51, 52, 53, 54],\n",
       "        [55, 56, 57, 58, 59, 60]]])"
      ]
     },
     "execution_count": 2,
     "metadata": {},
     "output_type": "execute_result"
    }
   ],
   "source": [
    "arr_3D = np.arange(1, 61).reshape(2,5, 6)\n",
    "arr_3D"
   ]
  },
  {
   "cell_type": "markdown",
   "id": "a1502f3a",
   "metadata": {},
   "source": [
    "#### Check the shape, the number of dimensions"
   ]
  },
  {
   "cell_type": "code",
   "execution_count": 3,
   "id": "72b84b3e",
   "metadata": {},
   "outputs": [
    {
     "name": "stdout",
     "output_type": "stream",
     "text": [
      "The shape of the array:  (2, 5, 6)\n",
      "The number of dimensions:  3\n"
     ]
    }
   ],
   "source": [
    "print(\"The shape of the array: \", arr_3D.shape)\n",
    "print(\"The number of dimensions: \", arr_3D.ndim)"
   ]
  },
  {
   "cell_type": "markdown",
   "id": "631289e7",
   "metadata": {},
   "source": [
    "#### The number of elements (size)"
   ]
  },
  {
   "cell_type": "code",
   "execution_count": 4,
   "id": "3955e5f1",
   "metadata": {},
   "outputs": [
    {
     "data": {
      "text/plain": [
       "60"
      ]
     },
     "execution_count": 4,
     "metadata": {},
     "output_type": "execute_result"
    }
   ],
   "source": [
    "arr_3D.size"
   ]
  },
  {
   "cell_type": "markdown",
   "id": "8355ccf2",
   "metadata": {},
   "source": [
    "#### The data type\n",
    "\n",
    " - the data type of the elements within the array"
   ]
  },
  {
   "cell_type": "code",
   "execution_count": 5,
   "id": "7df94a08",
   "metadata": {},
   "outputs": [
    {
     "data": {
      "text/plain": [
       "dtype('int64')"
      ]
     },
     "execution_count": 5,
     "metadata": {},
     "output_type": "execute_result"
    }
   ],
   "source": [
    "arr_3D.dtype"
   ]
  },
  {
   "cell_type": "markdown",
   "id": "c9c65b2f",
   "metadata": {},
   "source": [
    "### Broadcasting Definition\n",
    "\n",
    " - The term broadcasting describes how numpy treats arrays with different shapes during arithmetic operations. Subject to certain constraints, the smaller array is “broadcast” across the larger array so that they have compatible shapes.\n",
    " \n",
    " - The simplest broadcasting example occurs when an array and a scalar value are combined in an operation."
   ]
  },
  {
   "cell_type": "code",
   "execution_count": 6,
   "id": "7fbec156",
   "metadata": {},
   "outputs": [
    {
     "data": {
      "text/plain": [
       "array([[[  2,   4,   6,   8,  10,  12],\n",
       "        [ 14,  16,  18,  20,  22,  24],\n",
       "        [ 26,  28,  30,  32,  34,  36],\n",
       "        [ 38,  40,  42,  44,  46,  48],\n",
       "        [ 50,  52,  54,  56,  58,  60]],\n",
       "\n",
       "       [[ 62,  64,  66,  68,  70,  72],\n",
       "        [ 74,  76,  78,  80,  82,  84],\n",
       "        [ 86,  88,  90,  92,  94,  96],\n",
       "        [ 98, 100, 102, 104, 106, 108],\n",
       "        [110, 112, 114, 116, 118, 120]]])"
      ]
     },
     "execution_count": 6,
     "metadata": {},
     "output_type": "execute_result"
    }
   ],
   "source": [
    "2 * arr_3D"
   ]
  },
  {
   "cell_type": "code",
   "execution_count": 7,
   "id": "2011f545",
   "metadata": {},
   "outputs": [
    {
     "data": {
      "text/plain": [
       "array([[[ 1.5,  3. ,  4.5,  6. ,  7.5,  9. ],\n",
       "        [10.5, 12. , 13.5, 15. , 16.5, 18. ],\n",
       "        [19.5, 21. , 22.5, 24. , 25.5, 27. ],\n",
       "        [28.5, 30. , 31.5, 33. , 34.5, 36. ],\n",
       "        [37.5, 39. , 40.5, 42. , 43.5, 45. ]],\n",
       "\n",
       "       [[46.5, 48. , 49.5, 51. , 52.5, 54. ],\n",
       "        [55.5, 57. , 58.5, 60. , 61.5, 63. ],\n",
       "        [64.5, 66. , 67.5, 69. , 70.5, 72. ],\n",
       "        [73.5, 75. , 76.5, 78. , 79.5, 81. ],\n",
       "        [82.5, 84. , 85.5, 87. , 88.5, 90. ]]])"
      ]
     },
     "execution_count": 7,
     "metadata": {},
     "output_type": "execute_result"
    }
   ],
   "source": [
    "(2 * arr_3D ) - (arr_3D / 2)"
   ]
  },
  {
   "cell_type": "markdown",
   "id": "0179f76a",
   "metadata": {},
   "source": [
    "### Matrix Operations"
   ]
  },
  {
   "cell_type": "code",
   "execution_count": 8,
   "id": "d181b0c5",
   "metadata": {},
   "outputs": [],
   "source": [
    "left_mat = np.arange(12).reshape(3, 4)\n",
    "right_mat = np.arange(20).reshape(4, 5)"
   ]
  },
  {
   "cell_type": "markdown",
   "id": "e67b0615",
   "metadata": {},
   "source": [
    "#### The Inner Product\n",
    "\n",
    "  1. The inner product of a vector with itself is simply the scalar computed as the sum of squares"
   ]
  },
  {
   "cell_type": "code",
   "execution_count": 9,
   "id": "b4089aee",
   "metadata": {},
   "outputs": [
    {
     "data": {
      "text/plain": [
       "56"
      ]
     },
     "execution_count": 9,
     "metadata": {},
     "output_type": "execute_result"
    }
   ],
   "source": [
    "a = np.array([2,4,6])\n",
    "np.inner(a, a)"
   ]
  },
  {
   "cell_type": "markdown",
   "id": "1cd8158c",
   "metadata": {},
   "source": [
    "Which is equivalent to $2^{2} + 4^{2} + 6^{2}$, or $4 + 16 + 36 = 56$"
   ]
  },
  {
   "cell_type": "markdown",
   "id": "ef15fd10",
   "metadata": {},
   "source": [
    " ### Inner Product with 2-D arrays"
   ]
  },
  {
   "cell_type": "code",
   "execution_count": 10,
   "id": "a4258dab",
   "metadata": {},
   "outputs": [
    {
     "data": {
      "text/plain": [
       "array([[ 1,  2,  3,  4],\n",
       "       [ 5,  6,  7,  8],\n",
       "       [ 9, 10, 11, 12],\n",
       "       [13, 14, 15, 16]])"
      ]
     },
     "execution_count": 10,
     "metadata": {},
     "output_type": "execute_result"
    }
   ],
   "source": [
    "mat_1 = np.arange(1, 17).reshape(4, 4)\n",
    "mat_1"
   ]
  },
  {
   "cell_type": "code",
   "execution_count": 11,
   "id": "539166c5",
   "metadata": {},
   "outputs": [
    {
     "data": {
      "text/plain": [
       "array([0, 1, 2, 3])"
      ]
     },
     "execution_count": 11,
     "metadata": {},
     "output_type": "execute_result"
    }
   ],
   "source": [
    "vec_1 = np.arange(4)\n",
    "vec_1"
   ]
  },
  {
   "cell_type": "code",
   "execution_count": 12,
   "id": "f04f0d04",
   "metadata": {},
   "outputs": [
    {
     "data": {
      "text/plain": [
       "array([20, 44, 68, 92])"
      ]
     },
     "execution_count": 12,
     "metadata": {},
     "output_type": "execute_result"
    }
   ],
   "source": [
    "np.inner(mat_1, vec_1)"
   ]
  },
  {
   "cell_type": "markdown",
   "id": "58b40fff",
   "metadata": {},
   "source": [
    "## Inner Product with 3-D arrays"
   ]
  },
  {
   "cell_type": "code",
   "execution_count": 13,
   "id": "cb2e669e",
   "metadata": {},
   "outputs": [],
   "source": [
    "a = np.arange(24).reshape((2,3,4))\n",
    "b = np.arange(4)\n",
    "c = np.inner(a, b)"
   ]
  },
  {
   "cell_type": "code",
   "execution_count": 14,
   "id": "3aee1e85",
   "metadata": {},
   "outputs": [
    {
     "data": {
      "text/plain": [
       "array([[[ 0,  1,  2,  3],\n",
       "        [ 4,  5,  6,  7],\n",
       "        [ 8,  9, 10, 11]],\n",
       "\n",
       "       [[12, 13, 14, 15],\n",
       "        [16, 17, 18, 19],\n",
       "        [20, 21, 22, 23]]])"
      ]
     },
     "execution_count": 14,
     "metadata": {},
     "output_type": "execute_result"
    }
   ],
   "source": [
    "a"
   ]
  },
  {
   "cell_type": "code",
   "execution_count": 15,
   "id": "d4ebfbfb",
   "metadata": {},
   "outputs": [
    {
     "data": {
      "text/plain": [
       "array([0, 1, 2, 3])"
      ]
     },
     "execution_count": 15,
     "metadata": {},
     "output_type": "execute_result"
    }
   ],
   "source": [
    "b"
   ]
  },
  {
   "cell_type": "code",
   "execution_count": 16,
   "id": "c8630405",
   "metadata": {},
   "outputs": [
    {
     "data": {
      "text/plain": [
       "array([[ 14,  38,  62],\n",
       "       [ 86, 110, 134]])"
      ]
     },
     "execution_count": 16,
     "metadata": {},
     "output_type": "execute_result"
    }
   ],
   "source": [
    "c"
   ]
  },
  {
   "cell_type": "markdown",
   "id": "0a5c2f84",
   "metadata": {},
   "source": [
    "  **Can we do the inner product with left_mat and right_mat**"
   ]
  },
  {
   "cell_type": "code",
   "execution_count": 17,
   "id": "750b77e5",
   "metadata": {},
   "outputs": [
    {
     "ename": "ValueError",
     "evalue": "shapes (3,4) and (5,4) not aligned: 4 (dim 1) != 5 (dim 0)",
     "output_type": "error",
     "traceback": [
      "\u001b[0;31m---------------------------------------------------------------------------\u001b[0m",
      "\u001b[0;31mValueError\u001b[0m                                Traceback (most recent call last)",
      "\u001b[0;32m<ipython-input-17-400e191183d5>\u001b[0m in \u001b[0;36m<module>\u001b[0;34m\u001b[0m\n\u001b[0;32m----> 1\u001b[0;31m \u001b[0mnp\u001b[0m\u001b[0;34m.\u001b[0m\u001b[0minner\u001b[0m\u001b[0;34m(\u001b[0m\u001b[0mleft_mat\u001b[0m\u001b[0;34m,\u001b[0m \u001b[0mright_mat\u001b[0m\u001b[0;34m)\u001b[0m\u001b[0;34m\u001b[0m\u001b[0;34m\u001b[0m\u001b[0m\n\u001b[0m\u001b[1;32m      2\u001b[0m \u001b[0;31m# Unfortunately we cannot do that\u001b[0m\u001b[0;34m\u001b[0m\u001b[0;34m\u001b[0m\u001b[0;34m\u001b[0m\u001b[0m\n",
      "\u001b[0;32m<__array_function__ internals>\u001b[0m in \u001b[0;36minner\u001b[0;34m(*args, **kwargs)\u001b[0m\n",
      "\u001b[0;31mValueError\u001b[0m: shapes (3,4) and (5,4) not aligned: 4 (dim 1) != 5 (dim 0)"
     ]
    }
   ],
   "source": [
    "np.inner(left_mat, right_mat)\n",
    "# Unfortunately we cannot do that"
   ]
  },
  {
   "cell_type": "markdown",
   "id": "7cf72f6a",
   "metadata": {},
   "source": [
    "### The Dot Product\n",
    "\n",
    "  - The dot product to 2-D arrays is a matrix multiplication\n",
    "\n",
    "  - for the dot product documentation, refer to this [link](https://numpy.org/doc/stable/reference/generated/numpy.dot.html?highlight=dot%20product)"
   ]
  },
  {
   "cell_type": "code",
   "execution_count": 18,
   "id": "8eac9f5f",
   "metadata": {},
   "outputs": [
    {
     "data": {
      "text/plain": [
       "array([[ 70,  76,  82,  88,  94],\n",
       "       [190, 212, 234, 256, 278],\n",
       "       [310, 348, 386, 424, 462]])"
      ]
     },
     "execution_count": 18,
     "metadata": {},
     "output_type": "execute_result"
    }
   ],
   "source": [
    "np.dot(left_mat, right_mat)"
   ]
  },
  {
   "cell_type": "code",
   "execution_count": 19,
   "id": "4e306ec8",
   "metadata": {},
   "outputs": [
    {
     "data": {
      "text/plain": [
       "array([[ 70,  76,  82,  88,  94],\n",
       "       [190, 212, 234, 256, 278],\n",
       "       [310, 348, 386, 424, 462]])"
      ]
     },
     "execution_count": 19,
     "metadata": {},
     "output_type": "execute_result"
    }
   ],
   "source": [
    "## The same result using a @ b\n",
    "left_mat @ right_mat"
   ]
  },
  {
   "cell_type": "code",
   "execution_count": 20,
   "id": "51f4f0d4",
   "metadata": {},
   "outputs": [
    {
     "data": {
      "text/plain": [
       "array([[ 70,  76,  82,  88,  94],\n",
       "       [190, 212, 234, 256, 278],\n",
       "       [310, 348, 386, 424, 462]])"
      ]
     },
     "execution_count": 20,
     "metadata": {},
     "output_type": "execute_result"
    }
   ],
   "source": [
    "## Or \n",
    "np.matmul(left_mat, right_mat)"
   ]
  },
  {
   "cell_type": "markdown",
   "id": "e2ab2e0d",
   "metadata": {},
   "source": [
    "### Operation Along Axes"
   ]
  },
  {
   "cell_type": "markdown",
   "id": "0c804b9e",
   "metadata": {},
   "source": [
    "#### The sum function\n",
    " \n",
    " - It calculate all the elements in the array"
   ]
  },
  {
   "cell_type": "code",
   "execution_count": 21,
   "id": "e6ac5b22",
   "metadata": {},
   "outputs": [
    {
     "data": {
      "text/plain": [
       "1830"
      ]
     },
     "execution_count": 21,
     "metadata": {},
     "output_type": "execute_result"
    }
   ],
   "source": [
    "arr_3D.sum()"
   ]
  },
  {
   "cell_type": "markdown",
   "id": "054cbb3c",
   "metadata": {},
   "source": [
    "   - Summing Along the axis = 0 "
   ]
  },
  {
   "cell_type": "code",
   "execution_count": 22,
   "id": "997ed718",
   "metadata": {},
   "outputs": [
    {
     "data": {
      "text/plain": [
       "array([[32, 34, 36, 38, 40, 42],\n",
       "       [44, 46, 48, 50, 52, 54],\n",
       "       [56, 58, 60, 62, 64, 66],\n",
       "       [68, 70, 72, 74, 76, 78],\n",
       "       [80, 82, 84, 86, 88, 90]])"
      ]
     },
     "execution_count": 22,
     "metadata": {},
     "output_type": "execute_result"
    }
   ],
   "source": [
    "arr_3D.sum(axis = 0)"
   ]
  },
  {
   "cell_type": "code",
   "execution_count": 23,
   "id": "e20df273",
   "metadata": {},
   "outputs": [
    {
     "data": {
      "text/plain": [
       "array([[[ 1,  2,  3,  4,  5,  6],\n",
       "        [ 7,  8,  9, 10, 11, 12],\n",
       "        [13, 14, 15, 16, 17, 18],\n",
       "        [19, 20, 21, 22, 23, 24],\n",
       "        [25, 26, 27, 28, 29, 30]],\n",
       "\n",
       "       [[31, 32, 33, 34, 35, 36],\n",
       "        [37, 38, 39, 40, 41, 42],\n",
       "        [43, 44, 45, 46, 47, 48],\n",
       "        [49, 50, 51, 52, 53, 54],\n",
       "        [55, 56, 57, 58, 59, 60]]])"
      ]
     },
     "execution_count": 23,
     "metadata": {},
     "output_type": "execute_result"
    }
   ],
   "source": [
    "arr_3D"
   ]
  },
  {
   "cell_type": "markdown",
   "id": "b01a1330",
   "metadata": {},
   "source": [
    "- Summing Along the axis = 1"
   ]
  },
  {
   "cell_type": "code",
   "execution_count": 24,
   "id": "bcbfe491",
   "metadata": {},
   "outputs": [
    {
     "data": {
      "text/plain": [
       "array([[ 65,  70,  75,  80,  85,  90],\n",
       "       [215, 220, 225, 230, 235, 240]])"
      ]
     },
     "execution_count": 24,
     "metadata": {},
     "output_type": "execute_result"
    }
   ],
   "source": [
    "arr_3D.sum(axis = 1)"
   ]
  },
  {
   "cell_type": "markdown",
   "id": "c28aa3ea",
   "metadata": {},
   "source": [
    "- Summing Along the axis = 2"
   ]
  },
  {
   "cell_type": "code",
   "execution_count": 25,
   "id": "c330bf72",
   "metadata": {},
   "outputs": [
    {
     "data": {
      "text/plain": [
       "array([[ 21,  57,  93, 129, 165],\n",
       "       [201, 237, 273, 309, 345]])"
      ]
     },
     "execution_count": 25,
     "metadata": {},
     "output_type": "execute_result"
    }
   ],
   "source": [
    "arr_3D.sum(axis = 2)"
   ]
  },
  {
   "cell_type": "markdown",
   "id": "9f1cdb3f",
   "metadata": {},
   "source": [
    "### Broadcasting rules\n",
    "\n",
    "  - Recall, the smaller array is broadcast across a larger array in order to have compatible shapes"
   ]
  },
  {
   "cell_type": "code",
   "execution_count": 26,
   "id": "524e4cf7",
   "metadata": {},
   "outputs": [
    {
     "data": {
      "text/plain": [
       "array([[7, 7, 7, 7, 7, 7, 7, 7, 7],\n",
       "       [7, 7, 7, 7, 7, 7, 7, 7, 7],\n",
       "       [7, 7, 7, 7, 7, 7, 7, 7, 7],\n",
       "       [7, 7, 7, 7, 7, 7, 7, 7, 7],\n",
       "       [7, 7, 7, 7, 7, 7, 7, 7, 7]])"
      ]
     },
     "execution_count": 26,
     "metadata": {},
     "output_type": "execute_result"
    }
   ],
   "source": [
    "arr_2D = np.ones(45, dtype = 'int_').reshape(5, 9) * 7\n",
    "arr_2D"
   ]
  },
  {
   "cell_type": "code",
   "execution_count": 27,
   "id": "49df0fb7",
   "metadata": {},
   "outputs": [
    {
     "data": {
      "text/plain": [
       "array([[0.55517429, 0.86623443, 0.90497471, 0.69149331, 0.2873312 ,\n",
       "        0.74080273],\n",
       "       [0.60298865, 0.89849764, 0.83774718, 0.21723002, 0.01459863,\n",
       "        0.14956357],\n",
       "       [0.72773472, 0.74449963, 0.69538171, 0.08672412, 0.88787982,\n",
       "        0.23883553],\n",
       "       [0.87834249, 0.26113969, 0.02008392, 0.40323775, 0.64774108,\n",
       "        0.76456919],\n",
       "       [0.53481511, 0.4402014 , 0.50084135, 0.51651052, 0.67810477,\n",
       "        0.30412028]])"
      ]
     },
     "execution_count": 27,
     "metadata": {},
     "output_type": "execute_result"
    }
   ],
   "source": [
    "ran_arr_2D = np.random.random((5, 6))\n",
    "ran_arr_2D"
   ]
  },
  {
   "cell_type": "code",
   "execution_count": 28,
   "id": "d0ad65d8",
   "metadata": {},
   "outputs": [],
   "source": [
    "## I want to set the printing precision to 4\n",
    "np.set_printoptions(precision=6, linewidth= 88)"
   ]
  },
  {
   "cell_type": "code",
   "execution_count": 29,
   "id": "1d10eb59",
   "metadata": {},
   "outputs": [
    {
     "data": {
      "text/plain": [
       "((2, 5, 6), (5, 6))"
      ]
     },
     "execution_count": 29,
     "metadata": {},
     "output_type": "execute_result"
    }
   ],
   "source": [
    "arr_3D.shape , ran_arr_2D.shape"
   ]
  },
  {
   "cell_type": "code",
   "execution_count": 30,
   "id": "0251fd94",
   "metadata": {},
   "outputs": [
    {
     "data": {
      "text/plain": [
       "array([[[ 0.555174,  1.732469,  2.714924,  2.765973,  1.436656,  4.444816],\n",
       "        [ 4.220921,  7.187981,  7.539725,  2.1723  ,  0.160585,  1.794763],\n",
       "        [ 9.460551, 10.422995, 10.430726,  1.387586, 15.093957,  4.29904 ],\n",
       "        [16.688507,  5.222794,  0.421762,  8.871231, 14.898045, 18.34966 ],\n",
       "        [13.370378, 11.445236, 13.522717, 14.462294, 19.665038,  9.123608]],\n",
       "\n",
       "       [[17.210403, 27.719502, 29.864165, 23.510772, 10.056592, 26.668898],\n",
       "        [22.31058 , 34.14291 , 32.67214 ,  8.689201,  0.598544,  6.28167 ],\n",
       "        [31.292593, 32.757984, 31.292177,  3.98931 , 41.730351, 11.464106],\n",
       "        [43.038782, 13.056984,  1.02428 , 20.968363, 34.330277, 41.286736],\n",
       "        [29.414831, 24.651278, 28.547957, 29.95761 , 40.008181, 18.247217]]])"
      ]
     },
     "execution_count": 30,
     "metadata": {},
     "output_type": "execute_result"
    }
   ],
   "source": [
    "arr_3D  * ran_arr_2D "
   ]
  },
  {
   "cell_type": "markdown",
   "id": "b7a933dd",
   "metadata": {},
   "source": [
    "The previous two arrays are compatible, because the first array has a shape of (5, 6) which is compatible with the shape of the second array that has the same shape (5,6)"
   ]
  },
  {
   "cell_type": "markdown",
   "id": "d815dfb5",
   "metadata": {},
   "source": [
    "###  Broadcasting a vector on an array\n",
    "\n",
    "  in our case, we should have a vector that has 6 elements to be compatible on the columns"
   ]
  },
  {
   "cell_type": "code",
   "execution_count": 31,
   "id": "f4bca8e4",
   "metadata": {},
   "outputs": [
    {
     "data": {
      "text/plain": [
       "array([-1,  5, 10, 15, 20, 25])"
      ]
     },
     "execution_count": 31,
     "metadata": {},
     "output_type": "execute_result"
    }
   ],
   "source": [
    "vec = np.arange(6) * 5\n",
    "vec[0] = -1\n",
    "vec"
   ]
  },
  {
   "cell_type": "markdown",
   "id": "167e14c2",
   "metadata": {},
   "source": [
    "We divide the 3D array on the vector"
   ]
  },
  {
   "cell_type": "code",
   "execution_count": 32,
   "id": "7589884d",
   "metadata": {},
   "outputs": [
    {
     "data": {
      "text/plain": [
       "array([[[ -1.      ,   0.4     ,   0.3     ,   0.266667,   0.25    ,   0.24    ],\n",
       "        [ -7.      ,   1.6     ,   0.9     ,   0.666667,   0.55    ,   0.48    ],\n",
       "        [-13.      ,   2.8     ,   1.5     ,   1.066667,   0.85    ,   0.72    ],\n",
       "        [-19.      ,   4.      ,   2.1     ,   1.466667,   1.15    ,   0.96    ],\n",
       "        [-25.      ,   5.2     ,   2.7     ,   1.866667,   1.45    ,   1.2     ]],\n",
       "\n",
       "       [[-31.      ,   6.4     ,   3.3     ,   2.266667,   1.75    ,   1.44    ],\n",
       "        [-37.      ,   7.6     ,   3.9     ,   2.666667,   2.05    ,   1.68    ],\n",
       "        [-43.      ,   8.8     ,   4.5     ,   3.066667,   2.35    ,   1.92    ],\n",
       "        [-49.      ,  10.      ,   5.1     ,   3.466667,   2.65    ,   2.16    ],\n",
       "        [-55.      ,  11.2     ,   5.7     ,   3.866667,   2.95    ,   2.4     ]]])"
      ]
     },
     "execution_count": 32,
     "metadata": {},
     "output_type": "execute_result"
    }
   ],
   "source": [
    "arr_3D / vec"
   ]
  },
  {
   "cell_type": "code",
   "execution_count": 33,
   "id": "d4cb9f36",
   "metadata": {},
   "outputs": [
    {
     "data": {
      "text/plain": [
       "array([[[ 0,  2,  3,  4,  5,  6],\n",
       "        [ 0,  3,  9, 10, 11, 12],\n",
       "        [ 0,  4,  5,  1, 17, 18],\n",
       "        [ 0,  0,  1,  7,  3, 24],\n",
       "        [ 0,  1,  7, 13,  9,  5]],\n",
       "\n",
       "       [[ 0,  2,  3,  4, 15, 11],\n",
       "        [ 0,  3,  9, 10,  1, 17],\n",
       "        [ 0,  4,  5,  1,  7, 23],\n",
       "        [ 0,  0,  1,  7, 13,  4],\n",
       "        [ 0,  1,  7, 13, 19, 10]]])"
      ]
     },
     "execution_count": 33,
     "metadata": {},
     "output_type": "execute_result"
    }
   ],
   "source": [
    "## We can use the remainder operator or the modulus\n",
    "arr_3D % vec"
   ]
  },
  {
   "cell_type": "code",
   "execution_count": 34,
   "id": "8ee34d27",
   "metadata": {},
   "outputs": [
    {
     "data": {
      "text/plain": [
       "array([[[ -1,   0,   0,   0,   0,   0],\n",
       "        [ -7,   1,   0,   0,   0,   0],\n",
       "        [-13,   2,   1,   1,   0,   0],\n",
       "        [-19,   4,   2,   1,   1,   0],\n",
       "        [-25,   5,   2,   1,   1,   1]],\n",
       "\n",
       "       [[-31,   6,   3,   2,   1,   1],\n",
       "        [-37,   7,   3,   2,   2,   1],\n",
       "        [-43,   8,   4,   3,   2,   1],\n",
       "        [-49,  10,   5,   3,   2,   2],\n",
       "        [-55,  11,   5,   3,   2,   2]]])"
      ]
     },
     "execution_count": 34,
     "metadata": {},
     "output_type": "execute_result"
    }
   ],
   "source": [
    "## We can also use the floor operator\n",
    "arr_3D // vec"
   ]
  },
  {
   "cell_type": "code",
   "execution_count": null,
   "id": "149a5c86",
   "metadata": {},
   "outputs": [],
   "source": []
  }
 ],
 "metadata": {
  "kernelspec": {
   "display_name": "Python 3",
   "language": "python",
   "name": "python3"
  },
  "language_info": {
   "codemirror_mode": {
    "name": "ipython",
    "version": 3
   },
   "file_extension": ".py",
   "mimetype": "text/x-python",
   "name": "python",
   "nbconvert_exporter": "python",
   "pygments_lexer": "ipython3",
   "version": "3.8.2"
  }
 },
 "nbformat": 4,
 "nbformat_minor": 5
}
