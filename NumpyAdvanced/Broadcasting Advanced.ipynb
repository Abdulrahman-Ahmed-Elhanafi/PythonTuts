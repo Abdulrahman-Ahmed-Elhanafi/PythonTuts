{
 "cells": [
  {
   "cell_type": "markdown",
   "id": "a6d3d975",
   "metadata": {},
   "source": [
    "# Broadcasting"
   ]
  },
  {
   "cell_type": "code",
   "execution_count": null,
   "id": "29ce5370",
   "metadata": {},
   "outputs": [],
   "source": [
    "import numpy as np"
   ]
  },
  {
   "cell_type": "code",
   "execution_count": null,
   "id": "69f69492",
   "metadata": {},
   "outputs": [],
   "source": [
    "arr_3D = np.arange(1, 61).reshape(2,5, 6)\n",
    "arr_3D"
   ]
  },
  {
   "cell_type": "markdown",
   "id": "a1502f3a",
   "metadata": {},
   "source": [
    "#### Check the shape, the number of dimensions"
   ]
  },
  {
   "cell_type": "code",
   "execution_count": null,
   "id": "72b84b3e",
   "metadata": {},
   "outputs": [],
   "source": [
    "print(\"The shape of the array: \", arr_3D.shape)\n",
    "print(\"The number of dimensions: \", arr_3D.ndim)"
   ]
  },
  {
   "cell_type": "markdown",
   "id": "631289e7",
   "metadata": {},
   "source": [
    "#### The number of elements (size)"
   ]
  },
  {
   "cell_type": "code",
   "execution_count": null,
   "id": "3955e5f1",
   "metadata": {},
   "outputs": [],
   "source": [
    "arr_3D.size"
   ]
  },
  {
   "cell_type": "markdown",
   "id": "8355ccf2",
   "metadata": {},
   "source": [
    "#### The data type\n",
    "\n",
    " - the data type of the elements within the array"
   ]
  },
  {
   "cell_type": "code",
   "execution_count": null,
   "id": "7df94a08",
   "metadata": {},
   "outputs": [],
   "source": [
    "arr_3D.dtype"
   ]
  },
  {
   "cell_type": "markdown",
   "id": "c9c65b2f",
   "metadata": {},
   "source": [
    "### Broadcasting Definition\n",
    "\n",
    " - The term broadcasting describes how numpy treats arrays with different shapes during arithmetic operations. Subject to certain constraints, the smaller array is “broadcast” across the larger array so that they have compatible shapes.\n",
    " \n",
    " - The simplest broadcasting example occurs when an array and a scalar value are combined in an operation."
   ]
  },
  {
   "cell_type": "code",
   "execution_count": null,
   "id": "7fbec156",
   "metadata": {},
   "outputs": [],
   "source": [
    "2 * arr_3D"
   ]
  },
  {
   "cell_type": "code",
   "execution_count": null,
   "id": "2011f545",
   "metadata": {},
   "outputs": [],
   "source": [
    "(2 * arr_3D ) - (arr_3D / 2)"
   ]
  },
  {
   "cell_type": "markdown",
   "id": "0179f76a",
   "metadata": {},
   "source": [
    "### Matrix Operations"
   ]
  },
  {
   "cell_type": "code",
   "execution_count": null,
   "id": "d181b0c5",
   "metadata": {},
   "outputs": [],
   "source": [
    "left_mat = np.arange(12).reshape(3, 4)\n",
    "right_mat = np.arange(20).reshape(4, 5)"
   ]
  },
  {
   "cell_type": "markdown",
   "id": "e67b0615",
   "metadata": {},
   "source": [
    "#### The Inner Product\n",
    "\n",
    "  1. The inner product of a vector with itself is simply the scalar computed as the sum of squares"
   ]
  },
  {
   "cell_type": "code",
   "execution_count": null,
   "id": "b4089aee",
   "metadata": {},
   "outputs": [],
   "source": [
    "a = np.array([2,4,6])\n",
    "np.inner(a, a)"
   ]
  },
  {
   "cell_type": "markdown",
   "id": "1cd8158c",
   "metadata": {},
   "source": [
    "Which is equivalent to $2^{2} + 4^{2} + 6^{2}$, or $4 + 16 + 36 = 56$"
   ]
  },
  {
   "cell_type": "markdown",
   "id": "b4c62b78",
   "metadata": {},
   "source": [
    " ### Inner Product with 2-D arrays"
   ]
  },
  {
   "cell_type": "code",
   "execution_count": null,
   "id": "a4258dab",
   "metadata": {},
   "outputs": [],
   "source": [
    "mat_1 = np.arange(1, 17).reshape(4, 4)\n",
    "mat_1"
   ]
  },
  {
   "cell_type": "code",
   "execution_count": null,
   "id": "d142a62b",
   "metadata": {},
   "outputs": [],
   "source": [
    "vec_1 = np.arange(4)\n",
    "vec_1"
   ]
  },
  {
   "cell_type": "code",
   "execution_count": null,
   "id": "dd7c8dda",
   "metadata": {},
   "outputs": [],
   "source": [
    "np.inner(mat_1, vec_1)"
   ]
  },
  {
   "cell_type": "markdown",
   "id": "e6311bd1",
   "metadata": {},
   "source": [
    "## Inner Product with 3-D arrays"
   ]
  },
  {
   "cell_type": "code",
   "execution_count": null,
   "id": "26396cc2",
   "metadata": {},
   "outputs": [],
   "source": [
    "a = np.arange(24).reshape((2,3,4))\n",
    "b = np.arange(4)\n",
    "c = np.inner(a, b)"
   ]
  },
  {
   "cell_type": "code",
   "execution_count": null,
   "id": "5861e3dd",
   "metadata": {},
   "outputs": [],
   "source": [
    "a"
   ]
  },
  {
   "cell_type": "code",
   "execution_count": null,
   "id": "ff325469",
   "metadata": {},
   "outputs": [],
   "source": [
    "b"
   ]
  },
  {
   "cell_type": "code",
   "execution_count": null,
   "id": "d8255936",
   "metadata": {},
   "outputs": [],
   "source": [
    "c"
   ]
  },
  {
   "cell_type": "markdown",
   "id": "34a4f58b",
   "metadata": {},
   "source": [
    "  **Can we do the inner product with left_mat and right_mat**"
   ]
  },
  {
   "cell_type": "code",
   "execution_count": null,
   "id": "f8bd40d1",
   "metadata": {},
   "outputs": [],
   "source": [
    "np.inner(left_mat, right_mat)\n",
    "# Unfortunately we cannot do that"
   ]
  },
  {
   "cell_type": "markdown",
   "id": "7cf72f6a",
   "metadata": {},
   "source": [
    "### The Dot Product\n",
    "\n",
    "  - The dot product to 2-D arrays is a matrix multiplication\n",
    "\n",
    "  - for the dot product documentation, refer to this [link](https://numpy.org/doc/stable/reference/generated/numpy.dot.html?highlight=dot%20product)"
   ]
  },
  {
   "cell_type": "code",
   "execution_count": null,
   "id": "8eac9f5f",
   "metadata": {},
   "outputs": [],
   "source": [
    "np.dot(left_mat, right_mat)"
   ]
  },
  {
   "cell_type": "code",
   "execution_count": null,
   "id": "4e306ec8",
   "metadata": {},
   "outputs": [],
   "source": [
    "## The same result using a @ b\n",
    "left_mat @ right_mat"
   ]
  },
  {
   "cell_type": "code",
   "execution_count": null,
   "id": "51f4f0d4",
   "metadata": {},
   "outputs": [],
   "source": [
    "## Or \n",
    "np.matmul(left_mat, right_mat)"
   ]
  },
  {
   "cell_type": "markdown",
   "id": "e2ab2e0d",
   "metadata": {},
   "source": [
    "### Operation Along Axes"
   ]
  },
  {
   "cell_type": "markdown",
   "id": "0c804b9e",
   "metadata": {},
   "source": [
    "#### The sum function\n",
    " \n",
    " - It calculate all the elements in the array"
   ]
  },
  {
   "cell_type": "code",
   "execution_count": null,
   "id": "e6ac5b22",
   "metadata": {},
   "outputs": [],
   "source": [
    "arr_3D.sum()"
   ]
  },
  {
   "cell_type": "markdown",
   "id": "054cbb3c",
   "metadata": {},
   "source": [
    "   - Summing Along the axis = 0 "
   ]
  },
  {
   "cell_type": "code",
   "execution_count": null,
   "id": "997ed718",
   "metadata": {},
   "outputs": [],
   "source": [
    "arr_3D.sum(axis = 0)"
   ]
  },
  {
   "cell_type": "code",
   "execution_count": null,
   "id": "e20df273",
   "metadata": {},
   "outputs": [],
   "source": [
    "arr_3D"
   ]
  },
  {
   "cell_type": "markdown",
   "id": "b01a1330",
   "metadata": {},
   "source": [
    "- Summing Along the axis = 1"
   ]
  },
  {
   "cell_type": "code",
   "execution_count": null,
   "id": "bcbfe491",
   "metadata": {},
   "outputs": [],
   "source": [
    "arr_3D.sum(axis = 1)"
   ]
  },
  {
   "cell_type": "markdown",
   "id": "c28aa3ea",
   "metadata": {},
   "source": [
    "- Summing Along the axis = 2"
   ]
  },
  {
   "cell_type": "code",
   "execution_count": null,
   "id": "c330bf72",
   "metadata": {},
   "outputs": [],
   "source": [
    "arr_3D.sum(axis = 2)"
   ]
  },
  {
   "cell_type": "markdown",
   "id": "9f1cdb3f",
   "metadata": {},
   "source": [
    "### Broadcasting rules\n",
    "\n",
    "  - Recall, the smaller array is broadcast across a larger array in order to have compatible shapes"
   ]
  },
  {
   "cell_type": "code",
   "execution_count": null,
   "id": "524e4cf7",
   "metadata": {},
   "outputs": [],
   "source": [
    "arr_2D = np.ones(45, dtype = 'int_').reshape(5, 9) * 7\n",
    "arr_2D"
   ]
  },
  {
   "cell_type": "code",
   "execution_count": null,
   "id": "49df0fb7",
   "metadata": {},
   "outputs": [],
   "source": [
    "ran_arr_2D = np.random.random((5, 6))\n",
    "ran_arr_2D"
   ]
  },
  {
   "cell_type": "code",
   "execution_count": null,
   "id": "d0ad65d8",
   "metadata": {},
   "outputs": [],
   "source": [
    "## I want to set the printing precision to 4\n",
    "np.set_printoptions(precision=6, linewidth= 88)"
   ]
  },
  {
   "cell_type": "code",
   "execution_count": null,
   "id": "1d10eb59",
   "metadata": {},
   "outputs": [],
   "source": [
    "arr_3D.shape , ran_arr_2D.shape"
   ]
  },
  {
   "cell_type": "code",
   "execution_count": null,
   "id": "0251fd94",
   "metadata": {},
   "outputs": [],
   "source": [
    "arr_3D  * ran_arr_2D "
   ]
  },
  {
   "cell_type": "markdown",
   "id": "b7a933dd",
   "metadata": {},
   "source": [
    "The previous two arrays are compatible, because the first array has a shape of (5, 6) which is compatible with the shape of the second array that has the same shape (5,6)"
   ]
  },
  {
   "cell_type": "markdown",
   "id": "d815dfb5",
   "metadata": {},
   "source": [
    "###  Broadcasting a vector on an array\n",
    "\n",
    "  in our case, we should have a vector that has 6 elements to be compatible on the columns"
   ]
  },
  {
   "cell_type": "code",
   "execution_count": null,
   "id": "f4bca8e4",
   "metadata": {},
   "outputs": [],
   "source": [
    "vec = np.arange(6) * 5\n",
    "vec[0] = -1\n",
    "vec"
   ]
  },
  {
   "cell_type": "markdown",
   "id": "167e14c2",
   "metadata": {},
   "source": [
    "We divide the 3D array on the vector"
   ]
  },
  {
   "cell_type": "code",
   "execution_count": null,
   "id": "7589884d",
   "metadata": {},
   "outputs": [],
   "source": [
    "arr_3D / vec"
   ]
  },
  {
   "cell_type": "code",
   "execution_count": null,
   "id": "d4cb9f36",
   "metadata": {},
   "outputs": [],
   "source": [
    "## We can use the remainder operator or the modulus\n",
    "arr_3D % vec"
   ]
  },
  {
   "cell_type": "code",
   "execution_count": null,
   "id": "8ee34d27",
   "metadata": {},
   "outputs": [],
   "source": [
    "## We can also use the floor operator\n",
    "arr_3D // vec"
   ]
  },
  {
   "cell_type": "code",
   "execution_count": null,
   "id": "149a5c86",
   "metadata": {},
   "outputs": [],
   "source": []
  }
 ],
 "metadata": {
  "kernelspec": {
   "display_name": "Python 3",
   "language": "python",
   "name": "python3"
  },
  "language_info": {
   "codemirror_mode": {
    "name": "ipython",
    "version": 3
   },
   "file_extension": ".py",
   "mimetype": "text/x-python",
   "name": "python",
   "nbconvert_exporter": "python",
   "pygments_lexer": "ipython3",
   "version": "3.8.2"
  }
 },
 "nbformat": 4,
 "nbformat_minor": 5
}
