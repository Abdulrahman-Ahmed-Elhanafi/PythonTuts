{
 "cells": [
  {
   "cell_type": "markdown",
   "id": "b81db24f",
   "metadata": {},
   "source": [
    "# What is Python?"
   ]
  },
  {
   "cell_type": "markdown",
   "id": "14f36950",
   "metadata": {},
   "source": [
    "- **Python is a powerful programming language.**"
   ]
  },
  {
   "cell_type": "markdown",
   "id": "63a4c57b",
   "metadata": {},
   "source": [
    "- **Python is a high-level programming language. which means you do not need to worry about the deep details how computers work** "
   ]
  },
  {
   "cell_type": "markdown",
   "id": "93ab537c",
   "metadata": {},
   "source": [
    "- **It is interpretable or dynamic, which means we can run it line by line**"
   ]
  },
  {
   "cell_type": "markdown",
   "id": "4d4d7aa2",
   "metadata": {},
   "source": [
    "- **It is different than compiled languages such C, C++, Java ..., which they are low-level programming languages.**\n",
    "\n"
   ]
  },
  {
   "cell_type": "markdown",
   "id": "a25442d2",
   "metadata": {},
   "source": [
    "- **Python is a modular programming language**"
   ]
  },
  {
   "cell_type": "markdown",
   "id": "bc56192f",
   "metadata": {},
   "source": [
    "# Where to Apply Python"
   ]
  },
  {
   "cell_type": "markdown",
   "id": "5e3b70db",
   "metadata": {},
   "source": [
    "## Python can used in many domains such "
   ]
  },
  {
   "cell_type": "markdown",
   "id": "9c08de62",
   "metadata": {},
   "source": [
    "- **System administration**\n",
    "- **Web development**\n",
    "- **networking and penetration testing or in other words in hacking**\n",
    "- **Databases**\n",
    "- **Graphical User Interfaces**"
   ]
  },
  {
   "cell_type": "markdown",
   "id": "92299bee",
   "metadata": {},
   "source": [
    "## In our program the focus in on"
   ]
  },
  {
   "cell_type": "markdown",
   "id": "da8e993f",
   "metadata": {},
   "source": [
    "- **Data science**\n",
    "- **Machine Learning**\n",
    "- **Artificial Intelligence with deep learning**\n",
    "- **Big Data**"
   ]
  },
  {
   "cell_type": "markdown",
   "id": "61b8be80",
   "metadata": {},
   "source": [
    "# What we need to learn python"
   ]
  },
  {
   "cell_type": "markdown",
   "id": "bce7f5c9",
   "metadata": {},
   "source": [
    "- **IDEs or Integrated Development Environment such as like Spyder, visual Studio, Eclipse, or Pycharm**, the last one is a very good one, which is available for free and a paid-one for more functionalities. "
   ]
  },
  {
   "cell_type": "markdown",
   "id": "3cf68c51",
   "metadata": {},
   "source": [
    "- **We use Jupiter Notebook, or JupiterLab**"
   ]
  },
  {
   "cell_type": "markdown",
   "id": "f2686ae6",
   "metadata": {},
   "source": [
    "# Why Python"
   ]
  },
  {
   "cell_type": "markdown",
   "id": "441c3992",
   "metadata": {},
   "source": [
    "- **Easy to learn**\n",
    "- **Well documentend Programming language**\n",
    "- **Python is everywhere**"
   ]
  },
  {
   "cell_type": "markdown",
   "id": "52754764",
   "metadata": {},
   "source": [
    "# How to learn the language?"
   ]
  },
  {
   "cell_type": "markdown",
   "id": "ddff894c",
   "metadata": {},
   "source": [
    "### The next steps I am going state are my way to learn, you may learn differently than I do. "
   ]
  },
  {
   "cell_type": "markdown",
   "id": "b18b22e2",
   "metadata": {},
   "source": [
    "1. **First and formost, set a goal! what are you going to do with this language?**"
   ]
  },
  {
   "cell_type": "markdown",
   "id": "94058711",
   "metadata": {},
   "source": [
    "2. **Learn How to Learn**. "
   ]
  },
  {
   "cell_type": "markdown",
   "id": "971f1f40",
   "metadata": {},
   "source": [
    "3. **You cannot learn programming without programming**"
   ]
  },
  {
   "cell_type": "markdown",
   "id": "ccfab625",
   "metadata": {},
   "source": [
    "4. **Start solving problems from the very of your learning, I mean even small or silly tasks**"
   ]
  },
  {
   "cell_type": "markdown",
   "id": "7032c73d",
   "metadata": {},
   "source": [
    "# Hello World Program!"
   ]
  },
  {
   "cell_type": "code",
   "execution_count": null,
   "id": "d2426b01",
   "metadata": {},
   "outputs": [],
   "source": [
    "print(\"Hello World!\")"
   ]
  },
  {
   "cell_type": "code",
   "execution_count": null,
   "id": "2572f226",
   "metadata": {},
   "outputs": [],
   "source": []
  },
  {
   "cell_type": "code",
   "execution_count": null,
   "id": "525a5e4c",
   "metadata": {},
   "outputs": [],
   "source": []
  },
  {
   "cell_type": "code",
   "execution_count": null,
   "id": "70b2bd15",
   "metadata": {},
   "outputs": [],
   "source": []
  },
  {
   "cell_type": "code",
   "execution_count": null,
   "id": "f362df25",
   "metadata": {},
   "outputs": [],
   "source": []
  },
  {
   "cell_type": "code",
   "execution_count": null,
   "id": "e34a897b",
   "metadata": {},
   "outputs": [],
   "source": []
  },
  {
   "cell_type": "markdown",
   "id": "d4227479",
   "metadata": {},
   "source": [
    "# The First key to learning is the \"help()\" function \n"
   ]
  },
  {
   "cell_type": "code",
   "execution_count": null,
   "id": "c16cd8fd",
   "metadata": {},
   "outputs": [],
   "source": []
  },
  {
   "cell_type": "code",
   "execution_count": 1,
   "id": "347ba16e-b3ba-48bd-8958-e20f58280900",
   "metadata": {},
   "outputs": [
    {
     "name": "stdout",
     "output_type": "stream",
     "text": [
      "Help on built-in function print in module builtins:\n",
      "\n",
      "print(...)\n",
      "    print(value, ..., sep=' ', end='\\n', file=sys.stdout, flush=False)\n",
      "    \n",
      "    Prints the values to a stream, or to sys.stdout by default.\n",
      "    Optional keyword arguments:\n",
      "    file:  a file-like object (stream); defaults to the current sys.stdout.\n",
      "    sep:   string inserted between values, default a space.\n",
      "    end:   string appended after the last value, default a newline.\n",
      "    flush: whether to forcibly flush the stream.\n",
      "\n"
     ]
    }
   ],
   "source": [
    "help(print)"
   ]
  },
  {
   "cell_type": "markdown",
   "id": "1b711072",
   "metadata": {},
   "source": [
    "## The shortcut for functions help on keyboard is:\n",
    "\n",
    "### \"shift + Tab key\" "
   ]
  },
  {
   "cell_type": "code",
   "execution_count": null,
   "id": "f202c555",
   "metadata": {},
   "outputs": [],
   "source": [
    "help(help)"
   ]
  },
  {
   "cell_type": "markdown",
   "id": "989f6ca2",
   "metadata": {},
   "source": [
    "# The Second key is dir() function"
   ]
  },
  {
   "cell_type": "markdown",
   "id": "021ee207",
   "metadata": {},
   "source": [
    "### Because it gives us the object methods "
   ]
  },
  {
   "cell_type": "code",
   "execution_count": null,
   "id": "5227b11b",
   "metadata": {},
   "outputs": [],
   "source": []
  },
  {
   "cell_type": "code",
   "execution_count": 2,
   "id": "67cac1a8",
   "metadata": {},
   "outputs": [
    {
     "name": "stdout",
     "output_type": "stream",
     "text": [
      "Help on built-in function dir in module builtins:\n",
      "\n",
      "dir(...)\n",
      "    dir([object]) -> list of strings\n",
      "    \n",
      "    If called without an argument, return the names in the current scope.\n",
      "    Else, return an alphabetized list of names comprising (some of) the attributes\n",
      "    of the given object, and of attributes reachable from it.\n",
      "    If the object supplies a method named __dir__, it will be used; otherwise\n",
      "    the default dir() logic is used and returns:\n",
      "      for a module object: the module's attributes.\n",
      "      for a class object:  its attributes, and recursively the attributes\n",
      "        of its bases.\n",
      "      for any other object: its attributes, its class's attributes, and\n",
      "        recursively the attributes of its class's base classes.\n",
      "\n"
     ]
    }
   ],
   "source": [
    "help(dir)"
   ]
  },
  {
   "cell_type": "code",
   "execution_count": null,
   "id": "ecb88fc5",
   "metadata": {},
   "outputs": [],
   "source": [
    "print(dir())"
   ]
  },
  {
   "cell_type": "markdown",
   "id": "fde46e14",
   "metadata": {},
   "source": [
    "## Example 02:"
   ]
  },
  {
   "cell_type": "code",
   "execution_count": 3,
   "id": "c0d4e29d",
   "metadata": {},
   "outputs": [
    {
     "name": "stdout",
     "output_type": "stream",
     "text": [
      "['__class__', '__contains__', '__delattr__', '__delitem__', '__dir__', '__doc__', '__eq__', '__format__', '__ge__', '__getattribute__', '__getitem__', '__gt__', '__hash__', '__init__', '__init_subclass__', '__iter__', '__le__', '__len__', '__lt__', '__ne__', '__new__', '__reduce__', '__reduce_ex__', '__repr__', '__reversed__', '__setattr__', '__setitem__', '__sizeof__', '__str__', '__subclasshook__', 'clear', 'copy', 'fromkeys', 'get', 'items', 'keys', 'pop', 'popitem', 'setdefault', 'update', 'values']\n"
     ]
    }
   ],
   "source": [
    "print(dir({}))"
   ]
  },
  {
   "cell_type": "markdown",
   "id": "03687cd0",
   "metadata": {},
   "source": [
    "# The list of methods using the list comprehension Trick "
   ]
  },
  {
   "cell_type": "code",
   "execution_count": 4,
   "id": "138c6956",
   "metadata": {},
   "outputs": [
    {
     "name": "stdout",
     "output_type": "stream",
     "text": [
      "['clear', 'copy', 'fromkeys', 'get', 'items', 'keys', 'pop', 'popitem', 'setdefault', 'update', 'values']\n"
     ]
    }
   ],
   "source": [
    "print([meth for meth in dir({}) if '__' and '_' not in meth])"
   ]
  },
  {
   "cell_type": "code",
   "execution_count": 5,
   "id": "bcd3d478",
   "metadata": {},
   "outputs": [
    {
     "name": "stdout",
     "output_type": "stream",
     "text": [
      "['append', 'clear', 'copy', 'count', 'extend', 'index', 'insert', 'pop', 'remove', 'reverse', 'sort']\n"
     ]
    }
   ],
   "source": [
    "print([meth for meth in dir([]) if '__' and '_' not in meth])"
   ]
  },
  {
   "cell_type": "code",
   "execution_count": 6,
   "id": "afdf819a",
   "metadata": {},
   "outputs": [
    {
     "name": "stdout",
     "output_type": "stream",
     "text": [
      "['AxisError', 'BUFSIZE', 'CLIP', 'ComplexWarning', 'DataSource', 'Inf', 'Infinity', 'MAXDIMS', 'MachAr', 'ModuleDeprecationWarning', 'NAN', 'NINF', 'NZERO', 'NaN', 'PINF', 'PZERO', 'RAISE', 'RankWarning', 'ScalarType', 'Tester', 'TooHardError', 'VisibleDeprecationWarning', 'WRAP', 'abs', 'absolute', 'add', 'alen', 'all', 'allclose', 'alltrue', 'amax', 'amin', 'angle', 'any', 'append', 'arange', 'arccos', 'arccosh', 'arcsin', 'arcsinh', 'arctan', 'arctan2', 'arctanh', 'argmax', 'argmin', 'argpartition', 'argsort', 'argwhere', 'around', 'array', 'array2string', 'asanyarray', 'asarray', 'ascontiguousarray', 'asfarray', 'asfortranarray', 'asmatrix', 'asscalar', 'average', 'bartlett', 'bincount', 'blackman', 'block', 'bmat', 'bool', 'bool8', 'broadcast', 'busdaycalendar', 'byte', 'bytes0', 'cast', 'cbrt', 'cdouble', 'ceil', 'cfloat', 'char', 'character', 'chararray', 'choose', 'clip', 'clongdouble', 'clongfloat', 'compat', 'complex', 'complex128', 'complex256', 'complex64', 'complexfloating', 'compress', 'concatenate', 'conj', 'conjugate', 'convolve', 'copy', 'copysign', 'copyto', 'core', 'corrcoef', 'correlate', 'cos', 'cosh', 'cov', 'cross', 'csingle', 'ctypeslib', 'cumprod', 'cumproduct', 'cumsum', 'datetime64', 'deg2rad', 'degrees', 'delete', 'deprecate', 'diag', 'diagflat', 'diagonal', 'diff', 'digitize', 'disp', 'divide', 'divmod', 'dot', 'double', 'dsplit', 'dstack', 'dtype', 'e', 'ediff1d', 'einsum', 'emath', 'empty', 'equal', 'errstate', 'exp', 'exp2', 'expm1', 'extract', 'eye', 'fabs', 'fastCopyAndTranspose', 'fft', 'finfo', 'fix', 'flatiter', 'flatnonzero', 'flexible', 'flip', 'fliplr', 'flipud', 'float', 'float128', 'float16', 'float32', 'float64', 'floating', 'floor', 'fmax', 'fmin', 'fmod', 'frexp', 'frombuffer', 'fromfile', 'fromfunction', 'fromiter', 'frompyfunc', 'fromregex', 'fromstring', 'full', 'fv', 'gcd', 'generic', 'genfromtxt', 'geomspace', 'getbufsize', 'geterr', 'geterrcall', 'geterrobj', 'gradient', 'greater', 'half', 'hamming', 'hanning', 'heaviside', 'histogram', 'histogram2d', 'histogramdd', 'hsplit', 'hstack', 'hypot', 'i0', 'identity', 'iinfo', 'imag', 'in1d', 'indices', 'inexact', 'inf', 'info', 'infty', 'inner', 'insert', 'int', 'int0', 'int16', 'int32', 'int64', 'int8', 'intc', 'integer', 'interp', 'intersect1d', 'intp', 'invert', 'ipmt', 'irr', 'isclose', 'iscomplex', 'iscomplexobj', 'isfinite', 'isfortran', 'isin', 'isinf', 'isnan', 'isnat', 'isneginf', 'isposinf', 'isreal', 'isrealobj', 'isscalar', 'issctype', 'issubdtype', 'issubsctype', 'iterable', 'kaiser', 'kron', 'lcm', 'ldexp', 'less', 'lexsort', 'lib', 'linalg', 'linspace', 'load', 'loads', 'loadtxt', 'log', 'log10', 'log1p', 'log2', 'logaddexp', 'logaddexp2', 'logspace', 'long', 'longcomplex', 'longdouble', 'longfloat', 'longlong', 'lookfor', 'ma', 'mafromtxt', 'mat', 'math', 'matmul', 'matrix', 'matrixlib', 'max', 'maximum', 'mean', 'median', 'memmap', 'meshgrid', 'mgrid', 'min', 'minimum', 'mintypecode', 'mirr', 'mod', 'modf', 'moveaxis', 'msort', 'multiply', 'nan', 'nanargmax', 'nanargmin', 'nancumprod', 'nancumsum', 'nanmax', 'nanmean', 'nanmedian', 'nanmin', 'nanpercentile', 'nanprod', 'nanquantile', 'nanstd', 'nansum', 'nanvar', 'nbytes', 'ndarray', 'ndenumerate', 'ndfromtxt', 'ndim', 'ndindex', 'nditer', 'negative', 'newaxis', 'nextafter', 'nonzero', 'nper', 'npv', 'numarray', 'number', 'obj2sctype', 'object', 'object0', 'ogrid', 'oldnumeric', 'ones', 'os', 'outer', 'packbits', 'pad', 'partition', 'percentile', 'pi', 'piecewise', 'place', 'pmt', 'poly', 'poly1d', 'polyadd', 'polyder', 'polydiv', 'polyfit', 'polyint', 'polymul', 'polynomial', 'polysub', 'polyval', 'positive', 'power', 'ppmt', 'printoptions', 'prod', 'product', 'ptp', 'put', 'putmask', 'pv', 'quantile', 'rad2deg', 'radians', 'random', 'rate', 'ravel', 'real', 'rec', 'recarray', 'recfromcsv', 'recfromtxt', 'reciprocal', 'record', 'remainder', 'repeat', 'require', 'reshape', 'resize', 'rint', 'roll', 'rollaxis', 'roots', 'rot90', 'round', 'save', 'savetxt', 'savez', 'sctype2char', 'sctypeDict', 'sctypeNA', 'sctypes', 'searchsorted', 'select', 'setbufsize', 'setdiff1d', 'seterr', 'seterrcall', 'seterrobj', 'setxor1d', 'shape', 'short', 'sign', 'signbit', 'signedinteger', 'sin', 'sinc', 'single', 'singlecomplex', 'sinh', 'size', 'sometrue', 'sort', 'source', 'spacing', 'split', 'sqrt', 'square', 'squeeze', 'stack', 'std', 'str', 'str0', 'subtract', 'sum', 'swapaxes', 'sys', 'take', 'tan', 'tanh', 'tensordot', 'test', 'testing', 'tile', 'timedelta64', 'trace', 'transpose', 'trapz', 'tri', 'tril', 'triu', 'trunc', 'typeDict', 'typeNA', 'typecodes', 'typename', 'ubyte', 'ufunc', 'uint', 'uint0', 'uint16', 'uint32', 'uint64', 'uint8', 'uintc', 'uintp', 'ulonglong', 'unicode', 'union1d', 'unique', 'unpackbits', 'unsignedinteger', 'unwrap', 'ushort', 'vander', 'var', 'vdot', 'vectorize', 'version', 'void', 'void0', 'vsplit', 'vstack', 'w', 'warnings', 'where', 'who', 'zeros']\n"
     ]
    }
   ],
   "source": [
    "import numpy as np\n",
    "print([meth for meth in dir(np) if '__' and '_' not in meth])"
   ]
  },
  {
   "cell_type": "code",
   "execution_count": 7,
   "id": "90c65051",
   "metadata": {},
   "outputs": [
    {
     "name": "stdout",
     "output_type": "stream",
     "text": [
      "['DirEntry', 'MutableMapping', 'PathLike', 'WCONTINUED', 'WCOREDUMP', 'WEXITED', 'WEXITSTATUS', 'WIFCONTINUED', 'WIFEXITED', 'WIFSIGNALED', 'WIFSTOPPED', 'WNOHANG', 'WNOWAIT', 'WSTOPPED', 'WSTOPSIG', 'WTERMSIG', 'WUNTRACED', 'abc', 'abort', 'access', 'altsep', 'chdir', 'chflags', 'chmod', 'chown', 'chroot', 'close', 'closerange', 'confstr', 'ctermid', 'curdir', 'defpath', 'devnull', 'dup', 'dup2', 'environ', 'environb', 'error', 'execl', 'execle', 'execlp', 'execlpe', 'execv', 'execve', 'execvp', 'execvpe', 'extsep', 'fchdir', 'fchmod', 'fchown', 'fdopen', 'fork', 'forkpty', 'fpathconf', 'fsdecode', 'fsencode', 'fspath', 'fstat', 'fstatvfs', 'fsync', 'ftruncate', 'fwalk', 'getcwd', 'getcwdb', 'getegid', 'getenv', 'getenvb', 'geteuid', 'getgid', 'getgrouplist', 'getgroups', 'getloadavg', 'getlogin', 'getpgid', 'getpgrp', 'getpid', 'getppid', 'getpriority', 'getsid', 'getuid', 'initgroups', 'isatty', 'kill', 'killpg', 'lchflags', 'lchmod', 'lchown', 'linesep', 'link', 'listdir', 'lockf', 'lseek', 'lstat', 'major', 'makedev', 'makedirs', 'minor', 'mkdir', 'mkfifo', 'mknod', 'name', 'nice', 'open', 'openpty', 'pardir', 'path', 'pathconf', 'pathsep', 'pipe', 'popen', 'pread', 'putenv', 'pwrite', 'read', 'readlink', 'readv', 'remove', 'removedirs', 'rename', 'renames', 'replace', 'rmdir', 'scandir', 'sendfile', 'sep', 'setegid', 'seteuid', 'setgid', 'setgroups', 'setpgid', 'setpgrp', 'setpriority', 'setregid', 'setreuid', 'setsid', 'setuid', 'spawnl', 'spawnle', 'spawnlp', 'spawnlpe', 'spawnv', 'spawnve', 'spawnvp', 'spawnvpe', 'st', 'stat', 'statvfs', 'strerror', 'symlink', 'sync', 'sys', 'sysconf', 'system', 'tcgetpgrp', 'tcsetpgrp', 'times', 'truncate', 'ttyname', 'umask', 'uname', 'unlink', 'unsetenv', 'urandom', 'utime', 'wait', 'wait3', 'wait4', 'waitpid', 'walk', 'write', 'writev']\n"
     ]
    }
   ],
   "source": [
    "import os\n",
    "print([meth for meth in dir(os) if '__' and '_' not in meth])"
   ]
  },
  {
   "cell_type": "markdown",
   "id": "ea0d0f33",
   "metadata": {},
   "source": [
    "# The Third Trick is vars() function to show the attributes"
   ]
  },
  {
   "cell_type": "code",
   "execution_count": 8,
   "id": "7c0a6aec",
   "metadata": {},
   "outputs": [
    {
     "name": "stdout",
     "output_type": "stream",
     "text": [
      "Help on built-in function vars in module builtins:\n",
      "\n",
      "vars(...)\n",
      "    vars([object]) -> dictionary\n",
      "    \n",
      "    Without arguments, equivalent to locals().\n",
      "    With an argument, equivalent to object.__dict__.\n",
      "\n"
     ]
    }
   ],
   "source": [
    "help(vars)"
   ]
  },
  {
   "cell_type": "markdown",
   "id": "139f7cfc",
   "metadata": {},
   "source": [
    "# Python is modular, many are external, so we need to import them  using import "
   ]
  },
  {
   "cell_type": "code",
   "execution_count": 9,
   "id": "0cf6388b",
   "metadata": {},
   "outputs": [],
   "source": [
    "import sys\n",
    "import collections\n",
    "import requests"
   ]
  },
  {
   "cell_type": "markdown",
   "id": "c92e6880",
   "metadata": {},
   "source": [
    "# The inspect module"
   ]
  },
  {
   "cell_type": "markdown",
   "id": "d6c7d4a8",
   "metadata": {},
   "source": [
    "## inspect module is useful to get the source code"
   ]
  },
  {
   "cell_type": "code",
   "execution_count": 10,
   "id": "5f77fb05",
   "metadata": {},
   "outputs": [],
   "source": [
    "# first: import it \n",
    "import inspect"
   ]
  },
  {
   "cell_type": "code",
   "execution_count": 11,
   "id": "55af6355",
   "metadata": {},
   "outputs": [],
   "source": [
    "# Get the source code of a function\n",
    "def myfunc():\n",
    "    print(\"Hello python!\")"
   ]
  },
  {
   "cell_type": "code",
   "execution_count": 12,
   "id": "c7237910",
   "metadata": {},
   "outputs": [
    {
     "data": {
      "text/plain": [
       "'def myfunc():\\n    print(\"Hello python!\")\\n'"
      ]
     },
     "execution_count": 12,
     "metadata": {},
     "output_type": "execute_result"
    }
   ],
   "source": [
    "inspect.getsource(myfunc)\n"
   ]
  },
  {
   "cell_type": "markdown",
   "id": "298e3cae",
   "metadata": {},
   "source": [
    "## Write a better code "
   ]
  },
  {
   "cell_type": "code",
   "execution_count": 1,
   "id": "71a364d7",
   "metadata": {},
   "outputs": [
    {
     "name": "stdout",
     "output_type": "stream",
     "text": [
      "The Zen of Python, by Tim Peters\n",
      "\n",
      "Beautiful is better than ugly.\n",
      "Explicit is better than implicit.\n",
      "Simple is better than complex.\n",
      "Complex is better than complicated.\n",
      "Flat is better than nested.\n",
      "Sparse is better than dense.\n",
      "Readability counts.\n",
      "Special cases aren't special enough to break the rules.\n",
      "Although practicality beats purity.\n",
      "Errors should never pass silently.\n",
      "Unless explicitly silenced.\n",
      "In the face of ambiguity, refuse the temptation to guess.\n",
      "There should be one-- and preferably only one --obvious way to do it.\n",
      "Although that way may not be obvious at first unless you're Dutch.\n",
      "Now is better than never.\n",
      "Although never is often better than *right* now.\n",
      "If the implementation is hard to explain, it's a bad idea.\n",
      "If the implementation is easy to explain, it may be a good idea.\n",
      "Namespaces are one honking great idea -- let's do more of those!\n"
     ]
    }
   ],
   "source": [
    "import this\n"
   ]
  },
  {
   "cell_type": "markdown",
   "id": "7d74eaef",
   "metadata": {},
   "source": [
    "# What do we expect to learn in this program"
   ]
  },
  {
   "cell_type": "markdown",
   "id": "5d290710",
   "metadata": {},
   "source": [
    "# I. The First Part of the program "
   ]
  },
  {
   "cell_type": "markdown",
   "id": "21b93796",
   "metadata": {},
   "source": [
    "### Data types:\n",
    "    1. Lists \n",
    "    1. 2. strings \n",
    "    2. tuples \n",
    "    3. Dictionaries\n",
    "    4. Sets"
   ]
  },
  {
   "cell_type": "markdown",
   "id": "f6be0e64",
   "metadata": {},
   "source": [
    "### Code workflow:\n",
    "    1. if elif else statement\n",
    "    2. for and while loop\n",
    "    3. list comprehension"
   ]
  },
  {
   "cell_type": "markdown",
   "id": "98b2baa6",
   "metadata": {},
   "source": [
    "### Writing Functions:\n",
    "    1. Basics\n",
    "    2. Documenting functions\n",
    "    3. Finalizing with functions"
   ]
  },
  {
   "cell_type": "markdown",
   "id": "ac9724bd",
   "metadata": {},
   "source": [
    "### Object Oriented Programming Concept:\n",
    "    1. Writing your first class\n",
    "    2. Object, instance, methods, attributes concepts"
   ]
  },
  {
   "cell_type": "markdown",
   "id": "2539e833",
   "metadata": {},
   "source": [
    "# 2. Second Part of the Program"
   ]
  },
  {
   "cell_type": "markdown",
   "id": "c369fbdd",
   "metadata": {},
   "source": [
    "### Numpy Mudule\n",
    "    1. Introduction to numpy\n",
    "    2. Solving small problems with numpy"
   ]
  },
  {
   "cell_type": "markdown",
   "id": "6abab5bf",
   "metadata": {},
   "source": [
    "### Pandas Module\n",
    "    1. Introduction to pandas \n",
    "    2. Pandas for data science\n"
   ]
  },
  {
   "cell_type": "markdown",
   "id": "7eb1e682",
   "metadata": {},
   "source": [
    "### Matplotlib Module\n",
    "    1. Overview of the module\n",
    "    2. Creating basic plots"
   ]
  },
  {
   "cell_type": "markdown",
   "id": "16340080",
   "metadata": {},
   "source": [
    "### Scikit Learn Module\n",
    "    1. Overview of the sklearn \n",
    "    2. loading data\n",
    "    3. Linear Regression example with sklearn\n",
    "    4. knn example with sklearn\n"
   ]
  },
  {
   "cell_type": "markdown",
   "id": "177e0f64",
   "metadata": {},
   "source": [
    "### The next steps"
   ]
  },
  {
   "cell_type": "markdown",
   "id": "6e1917df",
   "metadata": {},
   "source": [
    "### end of program"
   ]
  },
  {
   "cell_type": "markdown",
   "id": "09cdf1d6",
   "metadata": {},
   "source": [
    "**Good luck in your journey of learning pythob**"
   ]
  },
  {
   "cell_type": "code",
   "execution_count": null,
   "id": "1be70a88",
   "metadata": {},
   "outputs": [],
   "source": []
  }
 ],
 "metadata": {
  "kernelspec": {
   "display_name": "Python 3",
   "language": "python",
   "name": "python3"
  },
  "language_info": {
   "codemirror_mode": {
    "name": "ipython",
    "version": 3
   },
   "file_extension": ".py",
   "mimetype": "text/x-python",
   "name": "python",
   "nbconvert_exporter": "python",
   "pygments_lexer": "ipython3",
   "version": "3.8.8"
  }
 },
 "nbformat": 4,
 "nbformat_minor": 5
}
