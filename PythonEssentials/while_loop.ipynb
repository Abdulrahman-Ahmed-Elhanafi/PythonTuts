{
 "cells": [
  {
   "cell_type": "markdown",
   "id": "6a608495",
   "metadata": {},
   "source": [
    "   - **while loop:**\n",
    "   \n",
    "     - **While loop statement repeatedly executes a target statement as long as a given condition (expression) is true** \n",
    "     \n",
    "     - **While loop syntax is as follows**"
   ]
  },
  {
   "cell_type": "markdown",
   "id": "f15fc6a1",
   "metadata": {},
   "source": [
    "   - **Terminology**\n",
    "   \n",
    "       - **Recursion** is used to perform **repetitive tasks**\n",
    "       \n",
    "       - **repetition is also called iteration**"
   ]
  },
  {
   "cell_type": "raw",
   "id": "745eca5f",
   "metadata": {},
   "source": [
    "while condition:\n",
    "    statement(s)\n",
    "\n",
    "the loop executes while the condition is true\n",
    "when the condition becomes false, the loop stops"
   ]
  },
  {
   "cell_type": "markdown",
   "id": "b75e370d",
   "metadata": {},
   "source": [
    "   - Example 01"
   ]
  },
  {
   "cell_type": "code",
   "execution_count": null,
   "id": "51b133da",
   "metadata": {},
   "outputs": [],
   "source": [
    "count = 0 \n",
    "\n",
    "while count < 7: \n",
    "    print('The count is: {}'.format(count))\n",
    "    count += 1                               # We say we increment the count\n",
    "print('The while loops finished execution')"
   ]
  },
  {
   "cell_type": "markdown",
   "id": "a695418c",
   "metadata": {},
   "source": [
    "   - __infinite loop__\n",
    "   \n",
    "     - If the condition never becomes false then the loop never ends and becomes infinite. You always have to pay pay attention when using **while loop**.\n",
    "     \n",
    "     - **One special case when the infinite loop is useful is with servers**, because a server needs to run continuously.\n",
    "     \n",
    "     - You need CTRL + C to interrupt the infinite loop"
   ]
  },
  {
   "cell_type": "code",
   "execution_count": null,
   "id": "c6a5fdb5",
   "metadata": {},
   "outputs": [],
   "source": [
    "# Example of infinite loop \n",
    "\n",
    "a = 5\n",
    "\n",
    "while a > 0:                       # This condition is always True\n",
    "    print('The value of a is: ', a)\n"
   ]
  },
  {
   "cell_type": "markdown",
   "id": "2c8c26d3",
   "metadata": {},
   "source": [
    "  - Example 02: infinite loop"
   ]
  },
  {
   "cell_type": "code",
   "execution_count": null,
   "id": "e81a8c04",
   "metadata": {},
   "outputs": [],
   "source": [
    "while True: \n",
    "    num = input('Enter a number of your choice: ')\n",
    "    print('You have entered {}'.format(num))\n",
    "\n",
    "print('You have finished your work, thanks and good bye!')"
   ]
  },
  {
   "cell_type": "markdown",
   "id": "522f41af",
   "metadata": {},
   "source": [
    "   - **While loop with else statement**\n",
    "   \n",
    "     - When the condition becomes false in a the while loop, the else will execute"
   ]
  },
  {
   "cell_type": "code",
   "execution_count": null,
   "id": "5ecb2bf0",
   "metadata": {},
   "outputs": [],
   "source": [
    "counter = 0 \n",
    "\n",
    "while counter < 5: \n",
    "    print(\"The counter is: {} and is less than {}\".format(counter, 5))\n",
    "    counter += 1\n",
    "else: \n",
    "    print('The counter exceeded {}'.format(5))"
   ]
  },
  {
   "cell_type": "markdown",
   "id": "02281bf9",
   "metadata": {},
   "source": [
    "   - **Example of break**"
   ]
  },
  {
   "cell_type": "code",
   "execution_count": null,
   "id": "2968d85b",
   "metadata": {},
   "outputs": [],
   "source": [
    "while True:\n",
    "    line = input('>>> ')\n",
    "    if line == 'continue':\n",
    "        continue\n",
    "    else:\n",
    "        break\n",
    "    print(line)\n",
    "print('Well done!')"
   ]
  },
  {
   "cell_type": "code",
   "execution_count": null,
   "id": "21807d30",
   "metadata": {},
   "outputs": [],
   "source": [
    "while True:\n",
    "    line = input('>>> ')\n",
    "    if line == 'done':\n",
    "        break\n",
    "    print(line)\n",
    "print('Well done!')"
   ]
  },
  {
   "cell_type": "code",
   "execution_count": null,
   "id": "234916ea",
   "metadata": {},
   "outputs": [],
   "source": []
  },
  {
   "cell_type": "code",
   "execution_count": null,
   "id": "92a266b7",
   "metadata": {},
   "outputs": [],
   "source": [
    "module_names = ['stats', 'statistics', 'maths', 'mathematics', \n",
    "          'phy', 'physics', 'microeconomics', 'micro', 'macroeconomics', 'macro', \n",
    "          'economics', 'eco', 'computing', 'comp', 'Linear algebra', 'alg', \n",
    "          'Algorithms', 'algo']\n",
    "\n",
    "i = 0\n",
    "long_names = []\n",
    "while i < len(module_names):\n",
    "    if len(module_names[i]) >= 6:\n",
    "        long_names.append(module_names[i])\n",
    "    i += 1\n",
    "print(long_names)"
   ]
  },
  {
   "cell_type": "code",
   "execution_count": null,
   "id": "44cef3f2",
   "metadata": {},
   "outputs": [],
   "source": [
    "i = 0\n",
    "short_names = []\n",
    "\n",
    "while i < len(module_names):\n",
    "    if len(module_names[i]) <= 6:\n",
    "        short_names.append(module_names[i])\n",
    "    i += 1\n",
    "print(short_names)"
   ]
  },
  {
   "cell_type": "markdown",
   "id": "520e526f",
   "metadata": {},
   "source": [
    "  - **Let us modify the previous while loop in more pythonic way**"
   ]
  },
  {
   "cell_type": "code",
   "execution_count": null,
   "id": "7a68129e",
   "metadata": {},
   "outputs": [],
   "source": [
    "better_list1 = []\n",
    "for name in module_names:\n",
    "    if len(name) >= 6:\n",
    "        better_list1.append(name)\n",
    "print(better_list1)"
   ]
  },
  {
   "cell_type": "code",
   "execution_count": null,
   "id": "49afd891",
   "metadata": {},
   "outputs": [],
   "source": [
    "better_list2 = []\n",
    "for name in module_names:\n",
    "    if len(name) <= 6:\n",
    "        better_list2.append(name)\n",
    "print(better_list2)"
   ]
  },
  {
   "cell_type": "markdown",
   "id": "130611be",
   "metadata": {},
   "source": [
    "   - **Best way** Comprehensive List"
   ]
  },
  {
   "cell_type": "code",
   "execution_count": null,
   "id": "8f9750f0",
   "metadata": {},
   "outputs": [],
   "source": [
    "best_list1 = [name for name in module_names if len(name) >= 6]\n",
    "print(best_list1)"
   ]
  },
  {
   "cell_type": "code",
   "execution_count": null,
   "id": "72a5b9c8",
   "metadata": {},
   "outputs": [],
   "source": [
    "best_list2 = [name for name in module_names if len(name) <= 6]\n",
    "print(best_list2)"
   ]
  },
  {
   "cell_type": "code",
   "execution_count": null,
   "id": "c955984d",
   "metadata": {},
   "outputs": [],
   "source": [
    "import this"
   ]
  },
  {
   "cell_type": "code",
   "execution_count": null,
   "id": "ec6ad02d",
   "metadata": {},
   "outputs": [],
   "source": []
  },
  {
   "cell_type": "markdown",
   "id": "aa35ce46",
   "metadata": {},
   "source": [
    "   - **Functions whith while loop**\n",
    "   \n",
    "     1. **Countdown function**"
   ]
  },
  {
   "cell_type": "code",
   "execution_count": null,
   "id": "600213b9",
   "metadata": {},
   "outputs": [],
   "source": [
    "def countdown(n): \n",
    "    while n > 0:\n",
    "        print(n)\n",
    "        n -= 1\n",
    "    print('Time is over')"
   ]
  },
  {
   "cell_type": "code",
   "execution_count": null,
   "id": "f74c7ddd",
   "metadata": {},
   "outputs": [],
   "source": [
    "countdown(10)"
   ]
  },
  {
   "cell_type": "markdown",
   "id": "bbd6c9e4",
   "metadata": {},
   "source": [
    "   3. **Judo function**"
   ]
  },
  {
   "cell_type": "code",
   "execution_count": null,
   "id": "7ae77ee2",
   "metadata": {},
   "outputs": [],
   "source": [
    "def judo(dictionary): \n",
    "    for key, val in dictionary.items():\n",
    "        print(\"I am {}, and I hold {} a belt\".format(key, val))\n",
    "        "
   ]
  },
  {
   "cell_type": "code",
   "execution_count": null,
   "id": "5423456d",
   "metadata": {},
   "outputs": [],
   "source": [
    "judo_team = {}\n",
    "\n",
    "while True: \n",
    "    member_name = input('Enter the member name: ')\n",
    "    belt_color = input('What is the belt color? ')\n",
    "    judo_team[member_name] = belt_color\n",
    "    \n",
    "    add_member = input('Add another member? (y/n)')\n",
    "    if add_member =='y':\n",
    "        continue\n",
    "    else:\n",
    "        break\n",
    "judo_team"
   ]
  },
  {
   "cell_type": "code",
   "execution_count": null,
   "id": "a67fd65f",
   "metadata": {},
   "outputs": [],
   "source": [
    "judo(judo_team)"
   ]
  },
  {
   "cell_type": "markdown",
   "id": "bad3fded",
   "metadata": {},
   "source": [
    "   - **Enumerate in more detail**"
   ]
  },
  {
   "cell_type": "code",
   "execution_count": null,
   "id": "8abbdeb1",
   "metadata": {},
   "outputs": [],
   "source": [
    "w = 'Python'\n",
    "index = 0\n",
    "\n",
    "for item in w:\n",
    "    print(\"{} appears at the index {}\".format(item, index))\n",
    "    index += 1"
   ]
  },
  {
   "cell_type": "markdown",
   "id": "d76dc5ec",
   "metadata": {},
   "source": [
    "   - __Here the enumerate buit-in function__"
   ]
  },
  {
   "cell_type": "code",
   "execution_count": null,
   "id": "a5553335",
   "metadata": {},
   "outputs": [],
   "source": [
    "for index, item in enumerate('python'):\n",
    "    print(\"{} appears at the index {}\".format(item, index))"
   ]
  },
  {
   "cell_type": "markdown",
   "id": "4e549d20",
   "metadata": {},
   "source": [
    "   - We can change where we start with enumerate\n"
   ]
  },
  {
   "cell_type": "code",
   "execution_count": null,
   "id": "639e50a9",
   "metadata": {},
   "outputs": [],
   "source": [
    "for index, item in enumerate('python', start=1):\n",
    "    print(\"{} appears at the index {}\".format(item, index))"
   ]
  },
  {
   "cell_type": "markdown",
   "id": "f4aec6d8",
   "metadata": {},
   "source": [
    "-**Another Example with enumerate**\n",
    "\n",
    "  - Suppose we have a list of names, and we want to have indexed names"
   ]
  },
  {
   "cell_type": "code",
   "execution_count": null,
   "id": "63f84218",
   "metadata": {},
   "outputs": [],
   "source": [
    "names = ['Ahmad', 'Ibrahim', 'Ismail', 'Idris', 'Younes']\n",
    "ind_names = [* enumerate(names, start=1)]\n",
    "print(ind_names)"
   ]
  },
  {
   "cell_type": "code",
   "execution_count": null,
   "id": "189e52da",
   "metadata": {},
   "outputs": [],
   "source": []
  }
 ],
 "metadata": {
  "kernelspec": {
   "display_name": "Python 3",
   "language": "python",
   "name": "python3"
  },
  "language_info": {
   "codemirror_mode": {
    "name": "ipython",
    "version": 3
   },
   "file_extension": ".py",
   "mimetype": "text/x-python",
   "name": "python",
   "nbconvert_exporter": "python",
   "pygments_lexer": "ipython3",
   "version": "3.8.2"
  }
 },
 "nbformat": 4,
 "nbformat_minor": 5
}
