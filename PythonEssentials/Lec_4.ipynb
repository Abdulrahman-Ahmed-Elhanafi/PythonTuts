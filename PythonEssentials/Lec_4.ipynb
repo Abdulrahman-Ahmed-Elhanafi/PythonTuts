{
 "cells": [
  {
   "cell_type": "markdown",
   "id": "e0823fa7",
   "metadata": {},
   "source": [
    "## Sets\n",
    "\n",
    "   - Sets are excellent for finding all the unique values in a column of your data, a list of elements, or even rows from a file.\n",
    "   \n",
    "   \n",
    "   - We use sets when we want to store **unique (no duplicates)** data elements in an unordered fashion.\n",
    "   \n",
    "   - Sets are mutable\n",
    "   \n",
    "   - A set is created using {}\n",
    "   \n"
   ]
  },
  {
   "cell_type": "code",
   "execution_count": null,
   "id": "84ec0647",
   "metadata": {},
   "outputs": [],
   "source": [
    "s1 = {1, 2, 3}\n",
    "print(s1)\n",
    "print(type(s1))"
   ]
  },
  {
   "cell_type": "code",
   "execution_count": null,
   "id": "67b5c118",
   "metadata": {},
   "outputs": [],
   "source": [
    "s2 = {'a', 'b', 'c'}\n",
    "print(s2)"
   ]
  },
  {
   "cell_type": "code",
   "execution_count": null,
   "id": "0e5f3f87",
   "metadata": {},
   "outputs": [],
   "source": [
    "# Set elements are unique\n",
    "s3 = {1, 2, 2, 3, 4, 4}\n",
    "print(s3)"
   ]
  },
  {
   "cell_type": "markdown",
   "id": "bbedfb75",
   "metadata": {},
   "source": [
    "### A set can be a mixed of data types"
   ]
  },
  {
   "cell_type": "code",
   "execution_count": null,
   "id": "fc070960",
   "metadata": {},
   "outputs": [],
   "source": [
    "s_mixed = {1, 2, 'Python', (22, 33), 3.14159}\n",
    "print(s_mixed)"
   ]
  },
  {
   "cell_type": "code",
   "execution_count": null,
   "id": "ae2ce983",
   "metadata": {},
   "outputs": [],
   "source": [
    "s_mixed"
   ]
  },
  {
   "cell_type": "markdown",
   "id": "194daf9c",
   "metadata": {},
   "source": [
    "#### Note\n",
    "\n",
    "   - **Every set element is must be immutable (cannot be changed).**\n",
    "\n"
   ]
  },
  {
   "cell_type": "code",
   "execution_count": null,
   "id": "fb3def01",
   "metadata": {},
   "outputs": [],
   "source": [
    "s_mixed2 = {1, 2, 'Python', [22, 33]}\n",
    "print(s_mixed2)"
   ]
  },
  {
   "cell_type": "markdown",
   "id": "f419f675",
   "metadata": {},
   "source": [
    "## Sets from lists\n",
    "\n",
    "   - A set is almost always created from a list"
   ]
  },
  {
   "cell_type": "code",
   "execution_count": null,
   "id": "14618d42",
   "metadata": {},
   "outputs": [],
   "source": [
    "names = ['Nassim', 'Ahmad', 'Anas', 'Nassim', 'Anas']\n",
    "names"
   ]
  },
  {
   "cell_type": "code",
   "execution_count": null,
   "id": "8512b9f5",
   "metadata": {},
   "outputs": [],
   "source": [
    "names_set = set(names)\n",
    "names_set"
   ]
  },
  {
   "cell_type": "code",
   "execution_count": null,
   "id": "26a43614",
   "metadata": {},
   "outputs": [],
   "source": [
    "print(names_set)"
   ]
  },
  {
   "cell_type": "markdown",
   "id": "b2aacb31",
   "metadata": {},
   "source": [
    "  - This occurs because sets store only unique items"
   ]
  },
  {
   "cell_type": "code",
   "execution_count": null,
   "id": "f381578c",
   "metadata": {},
   "outputs": [],
   "source": []
  },
  {
   "cell_type": "code",
   "execution_count": null,
   "id": "7fbb207d",
   "metadata": {},
   "outputs": [],
   "source": [
    "names_set.add('Ali')\n",
    "print(names_set)"
   ]
  },
  {
   "cell_type": "code",
   "execution_count": null,
   "id": "b1029452",
   "metadata": {},
   "outputs": [],
   "source": []
  },
  {
   "cell_type": "markdown",
   "id": "4a3965a2",
   "metadata": {},
   "source": [
    "## Sets from strings\n",
    "\n",
    "   - **Sets can be created from a string (because strings are iterable)**"
   ]
  },
  {
   "cell_type": "code",
   "execution_count": null,
   "id": "f2f9993c",
   "metadata": {
    "scrolled": true
   },
   "outputs": [],
   "source": [
    "s_str = set('Python')\n",
    "\n",
    "s_str"
   ]
  },
  {
   "cell_type": "code",
   "execution_count": null,
   "id": "ada392a4",
   "metadata": {},
   "outputs": [],
   "source": [
    "s_str2 = set('nana')\n",
    "s_str2"
   ]
  },
  {
   "cell_type": "markdown",
   "id": "ebf171b6",
   "metadata": {},
   "source": [
    "### Creating an empty set\n",
    "\n",
    "   - Use the set() function to create an empty set "
   ]
  },
  {
   "cell_type": "code",
   "execution_count": null,
   "id": "e0c43a7b",
   "metadata": {},
   "outputs": [],
   "source": [
    "emp_set = set()\n",
    "print(emp_set)\n",
    "print(type(emp_set), emp_set)"
   ]
  },
  {
   "cell_type": "code",
   "execution_count": null,
   "id": "07060b4c",
   "metadata": {},
   "outputs": [],
   "source": [
    "# if we try to use empty {} we get a different class\n",
    "\n",
    "empt = {}\n",
    "print(type(empt))"
   ]
  },
  {
   "cell_type": "markdown",
   "id": "a72388fc",
   "metadata": {},
   "source": [
    "### Indexing a set\n",
    "\n",
    "  - Sets do not support indexing"
   ]
  },
  {
   "cell_type": "code",
   "execution_count": null,
   "id": "ab6f039e",
   "metadata": {},
   "outputs": [],
   "source": [
    "ind_set = set('Python')\n",
    "ind_set"
   ]
  },
  {
   "cell_type": "code",
   "execution_count": null,
   "id": "a4843309",
   "metadata": {},
   "outputs": [],
   "source": [
    "ind_set[0]"
   ]
  },
  {
   "cell_type": "markdown",
   "id": "2650bb1e",
   "metadata": {},
   "source": [
    "###   Set methods\n",
    "   \n",
    "   "
   ]
  },
  {
   "cell_type": "code",
   "execution_count": null,
   "id": "1199e4db",
   "metadata": {},
   "outputs": [],
   "source": [
    "print([attr for attr in dir(set()) if '__' not in attr])"
   ]
  },
  {
   "cell_type": "markdown",
   "id": "903888da",
   "metadata": {},
   "source": [
    "## Modifying sets\n",
    "\n",
    "   1. Adding elements"
   ]
  },
  {
   "cell_type": "code",
   "execution_count": null,
   "id": "425c5a54",
   "metadata": {},
   "outputs": [],
   "source": [
    "## Adding Elements to the set using add() method\n",
    "names_set.add('Ali')\n",
    "print(names_set)"
   ]
  },
  {
   "cell_type": "markdown",
   "id": "52e4839e",
   "metadata": {},
   "source": [
    "   2. **Updating set elements:**\n",
    "   \n",
    "   we can add multiple items using the update method. The update method takes a list of items and adds each one to the set if it is not present"
   ]
  },
  {
   "cell_type": "code",
   "execution_count": null,
   "id": "8146fa75",
   "metadata": {},
   "outputs": [],
   "source": [
    "names_set.update(['Nasser', 'Ossama'])\n",
    "print(names_set)"
   ]
  },
  {
   "cell_type": "code",
   "execution_count": null,
   "id": "512dccc9",
   "metadata": {},
   "outputs": [],
   "source": [
    "# You can use a set to update a set as well\n",
    "\n",
    "names_set.update({'Muhammad', 'Nabil'})\n",
    "print(names_set)"
   ]
  },
  {
   "cell_type": "markdown",
   "id": "f853b501",
   "metadata": {},
   "source": [
    "   3. Removing elements from a set: discard() and remove() functions"
   ]
  },
  {
   "cell_type": "code",
   "execution_count": null,
   "id": "639b443e",
   "metadata": {},
   "outputs": [],
   "source": [
    "names_set.discard('Nabil')\n",
    "names_set"
   ]
  },
  {
   "cell_type": "code",
   "execution_count": null,
   "id": "61258b89",
   "metadata": {},
   "outputs": [],
   "source": [
    "names_set.discard('Nabil')\n",
    "names_set"
   ]
  },
  {
   "cell_type": "code",
   "execution_count": null,
   "id": "2868e70c",
   "metadata": {},
   "outputs": [],
   "source": [
    "# remove() function\n",
    "names_set.remove('Anas')\n",
    "names_set"
   ]
  },
  {
   "cell_type": "code",
   "execution_count": null,
   "id": "5a2c28ff",
   "metadata": {},
   "outputs": [],
   "source": [
    "# remove() function\n",
    "names_set.remove('Anas')\n",
    "names_set"
   ]
  },
  {
   "cell_type": "markdown",
   "id": "d162ec2f",
   "metadata": {},
   "source": [
    "The only difference between the two is that the discard() function leaves a set unchanged \n",
    "if the element is not present in the set. On the other hand, the remove() function will raise an error in such a condition (if element is not present in the set)."
   ]
  },
  {
   "cell_type": "markdown",
   "id": "258cdb0e",
   "metadata": {},
   "source": [
    "## Math Set Theory \n",
    "\n",
    " - **Sets are python's implementation of Set theory from mathematics**"
   ]
  },
  {
   "cell_type": "code",
   "execution_count": null,
   "id": "d692bf69",
   "metadata": {},
   "outputs": [],
   "source": [
    "my_courses1 = set(['Linear Algebra', 'Calculus', 'Applied mathematics'])\n",
    "my_courses2 = set(['Computing', 'Calculus', 'Linear Algebra'])\n",
    "print(my_courses1)\n",
    "print(my_courses2)"
   ]
  },
  {
   "cell_type": "markdown",
   "id": "00474c63",
   "metadata": {},
   "source": [
    "   1. **Union**: union() method returns a set of all the names found in the set you used the method on plus any sets passed as arguments to the method."
   ]
  },
  {
   "cell_type": "code",
   "execution_count": null,
   "id": "5369bd60",
   "metadata": {},
   "outputs": [],
   "source": [
    "all_courses = my_courses1.union(my_courses2)\n",
    "all_courses"
   ]
  },
  {
   "cell_type": "code",
   "execution_count": null,
   "id": "7bde46e3",
   "metadata": {},
   "outputs": [],
   "source": [
    "# Note we can use '|' pip operator if we have two sets\n",
    "my_courses1 | my_courses2"
   ]
  },
  {
   "cell_type": "code",
   "execution_count": null,
   "id": "df2c4a01",
   "metadata": {},
   "outputs": [],
   "source": [
    "# But this fails \n",
    "my_courses1 | 'Statistics'"
   ]
  },
  {
   "cell_type": "code",
   "execution_count": null,
   "id": "7299203b",
   "metadata": {},
   "outputs": [],
   "source": [
    "my_courses1 | set(['Statistics'])"
   ]
  },
  {
   "cell_type": "code",
   "execution_count": null,
   "id": "a5daf36f",
   "metadata": {},
   "outputs": [],
   "source": [
    "my_courses1 | set('Statistics')"
   ]
  },
  {
   "cell_type": "markdown",
   "id": "93294997",
   "metadata": {},
   "source": [
    "   2. **Intersection**: You can use .intersection() method to look for overlapping data in sets by passing another set as an argument. It will return an empty set if nothing matches. "
   ]
  },
  {
   "cell_type": "code",
   "execution_count": null,
   "id": "27a8ed08",
   "metadata": {},
   "outputs": [],
   "source": [
    "my_courses = set(['Linear Algebra', 'Calculus', 'Applied mathematics'])\n",
    "friend_courses = set(['Computing', 'Calculus', 'Linear Algebra', 'statistics'])\n",
    "my_courses"
   ]
  },
  {
   "cell_type": "code",
   "execution_count": null,
   "id": "ad471207",
   "metadata": {},
   "outputs": [],
   "source": [
    "friend_courses"
   ]
  },
  {
   "cell_type": "code",
   "execution_count": null,
   "id": "1d0c8054",
   "metadata": {},
   "outputs": [],
   "source": [
    "both_courses = my_courses.intersection(friend_courses)\n",
    "both_courses"
   ]
  },
  {
   "cell_type": "code",
   "execution_count": null,
   "id": "913dbf7d",
   "metadata": {},
   "outputs": [],
   "source": [
    "# Try to reverse \n",
    "both_courses2 = friend_courses.intersection(my_courses)\n",
    "both_courses2"
   ]
  },
  {
   "cell_type": "markdown",
   "id": "e34d5cf7",
   "metadata": {},
   "source": [
    "   3. **Difference**: If you want to compare between sets, you can use difference() method. \n",
    "   \n",
    "       - It returns all the items found in one set but not another.\n",
    "       \n",
    "       - It's important to remember the set you call the method on will be the one from which the items are returned. (the one before the dot() operator). "
   ]
  },
  {
   "cell_type": "code",
   "execution_count": null,
   "id": "0fa25e2c",
   "metadata": {},
   "outputs": [],
   "source": [
    "print(my_courses)\n",
    "print(friend_courses)"
   ]
  },
  {
   "cell_type": "code",
   "execution_count": null,
   "id": "6bc5cc69",
   "metadata": {},
   "outputs": [],
   "source": [
    "my_courses_alone = my_courses.difference(friend_courses)\n",
    "my_courses_alone\n",
    "\n",
    "# difference method will retrieve items from my_courses if they are not found in friend courses"
   ]
  },
  {
   "cell_type": "code",
   "execution_count": null,
   "id": "f3affefd",
   "metadata": {},
   "outputs": [],
   "source": [
    "his_courses_alone = friend_courses.difference(my_courses)\n",
    "his_courses_alone\n",
    "# difference method will retrieve items from friend_courses if they are not found in my_courses"
   ]
  },
  {
   "cell_type": "code",
   "execution_count": null,
   "id": "5dce69f4",
   "metadata": {},
   "outputs": [],
   "source": []
  }
 ],
 "metadata": {
  "kernelspec": {
   "display_name": "Python 3",
   "language": "python",
   "name": "python3"
  },
  "language_info": {
   "codemirror_mode": {
    "name": "ipython",
    "version": 3
   },
   "file_extension": ".py",
   "mimetype": "text/x-python",
   "name": "python",
   "nbconvert_exporter": "python",
   "pygments_lexer": "ipython3",
   "version": "3.8.8"
  }
 },
 "nbformat": 4,
 "nbformat_minor": 5
}
