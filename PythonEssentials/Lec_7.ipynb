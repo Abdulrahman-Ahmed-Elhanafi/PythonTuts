{
 "cells": [
  {
   "cell_type": "markdown",
   "id": "0e83facc",
   "metadata": {},
   "source": [
    "# Control Flow"
   ]
  },
  {
   "cell_type": "markdown",
   "id": "304a9a47",
   "metadata": {},
   "source": [
    "## 1. For loop\n",
    "\n",
    "\n",
    "   - The for loop syntax"
   ]
  },
  {
   "cell_type": "code",
   "execution_count": null,
   "id": "0999ea20",
   "metadata": {},
   "outputs": [],
   "source": [
    "for iterator in iterable: \n",
    "    # do something with the iterator\n",
    "    print(iterator)"
   ]
  },
  {
   "cell_type": "code",
   "execution_count": null,
   "id": "59f90038",
   "metadata": {},
   "outputs": [],
   "source": [
    "## Example of for loop\n",
    "langs = ['Python', 'Java', 'C']\n",
    "for element in langs: \n",
    "    print(element)"
   ]
  },
  {
   "cell_type": "markdown",
   "id": "bfd9d82a",
   "metadata": {},
   "source": [
    "   - In programming, **iteration** is something we always need to do. \n",
    "   \n",
    "   \n",
    "   - when you use a for loop, we say you are iterating over an iterable object.\n",
    "   \n",
    "   \n",
    "   - The for loop is used for stepping through **iterators**\n",
    "   \n",
    "   \n",
    "   - The for loop is by far the most common type of a loop in python.\n",
    "   \n",
    "   \n",
    "   - In the previous example, we are iterating over a list. Thus, a list is **an iterable object**\n",
    "   \n",
    "   \n",
    "   - **element** is called iterator\n",
    "   \n",
    "   \n",
    "   - **langs** is called iterable"
   ]
  },
  {
   "cell_type": "code",
   "execution_count": null,
   "id": "e63712d9",
   "metadata": {},
   "outputs": [],
   "source": []
  },
  {
   "cell_type": "markdown",
   "id": "740b2065",
   "metadata": {},
   "source": [
    "### Definitions: \n",
    "\n",
    "   1. **iterator**: An iterator is defined as an object that as an associated next() method that produces the consecutive values\n",
    "   \n",
    "   \n",
    "   \n",
    "   2. **Iterable**: an iterable is a python object you can iterate over. **It has an associated iter() method.**\n",
    "   \n",
    "       - Example of iterables: (\n",
    "       \n",
    "           - lists\n",
    "           \n",
    "           - Strings \n",
    "           \n",
    "           - Dictionaries\n",
    "           \n",
    "           - Files\n",
    "           \n",
    "           - Generally, all sequences (or containers) are iterables\n"
   ]
  },
  {
   "cell_type": "markdown",
   "id": "51de7a25",
   "metadata": {},
   "source": [
    "### 1. Iterating over  lists"
   ]
  },
  {
   "cell_type": "code",
   "execution_count": null,
   "id": "83fde196",
   "metadata": {},
   "outputs": [],
   "source": [
    "lis = list('Data Science')\n"
   ]
  },
  {
   "cell_type": "code",
   "execution_count": null,
   "id": "92dbb1bc",
   "metadata": {},
   "outputs": [],
   "source": [
    "for i in lis: \n",
    "    print(i, end = ' * ')"
   ]
  },
  {
   "cell_type": "markdown",
   "id": "686e39f7",
   "metadata": {},
   "source": [
    "   - Do some calculation with a list"
   ]
  },
  {
   "cell_type": "code",
   "execution_count": null,
   "id": "49fa5f3c",
   "metadata": {},
   "outputs": [],
   "source": [
    "## Square list elements\n",
    "\n",
    "lis = [2, 3, 4, 5]\n",
    "# initialize an enpty list\n",
    "sq_lis = []\n",
    "for i in lis: \n",
    "    sq_lis.append(i ** 2)\n",
    "    print(i, i**2)\n",
    "print(sq_lis)"
   ]
  },
  {
   "cell_type": "code",
   "execution_count": null,
   "id": "ea80836a",
   "metadata": {},
   "outputs": [],
   "source": []
  },
  {
   "cell_type": "code",
   "execution_count": null,
   "id": "8f26a2e0",
   "metadata": {},
   "outputs": [],
   "source": []
  },
  {
   "cell_type": "markdown",
   "id": "3c16fe41",
   "metadata": {},
   "source": [
    "### 2. Iterating over strings"
   ]
  },
  {
   "cell_type": "code",
   "execution_count": null,
   "id": "79b90371",
   "metadata": {},
   "outputs": [],
   "source": [
    "word = 'Mathematics'\n",
    "\n",
    "for letter in word: \n",
    "    print(letter, end =' - ')"
   ]
  },
  {
   "cell_type": "markdown",
   "id": "d8ec1e6d",
   "metadata": {},
   "source": [
    "### 3 . Iterating over Tuples"
   ]
  },
  {
   "cell_type": "code",
   "execution_count": null,
   "id": "3a4613c6",
   "metadata": {},
   "outputs": [],
   "source": [
    "tup = (12, 22, 32, 42)\n",
    "\n",
    "for item in tup: \n",
    "    print(item , end = ' ')"
   ]
  },
  {
   "cell_type": "markdown",
   "id": "684ed9db",
   "metadata": {},
   "source": [
    " - **Can We modify tuples?!!!!** 🤔🤔🤔🤔 "
   ]
  },
  {
   "cell_type": "code",
   "execution_count": null,
   "id": "c0128d73",
   "metadata": {},
   "outputs": [],
   "source": [
    "tup2 = tuple()\n",
    "for item in tup: \n",
    "    tup2.append(tup)\n",
    "    print(tup2)\n"
   ]
  },
  {
   "cell_type": "markdown",
   "id": "3ad8961f",
   "metadata": {},
   "source": [
    "### 4. Iterating over dictionaries\n",
    "\n",
    "   - A dictionary has a key and a value, we need to unpack them first in order to be able to iterate over them."
   ]
  },
  {
   "cell_type": "code",
   "execution_count": null,
   "id": "3e96bfb3",
   "metadata": {},
   "outputs": [],
   "source": [
    "presidents = {'Barak': 'Obama', 'Trump':'Donald'}\n",
    "\n",
    "for key, val in presidents.items(): \n",
    "    print(key, val, sep = ': ')"
   ]
  },
  {
   "cell_type": "markdown",
   "id": "80e2672d",
   "metadata": {},
   "source": [
    "### 5. Iterating over files"
   ]
  },
  {
   "cell_type": "code",
   "execution_count": null,
   "id": "a479577f",
   "metadata": {},
   "outputs": [],
   "source": [
    "## Opening a file, we use open() function\n",
    "\n",
    "file = open('text.txt', 'r')\n",
    "\n",
    "for line in file:\n",
    "    print(line)"
   ]
  },
  {
   "cell_type": "code",
   "execution_count": null,
   "id": "46748f50",
   "metadata": {},
   "outputs": [],
   "source": [
    "# Let us correct the printing. \n",
    "file = open('text.txt', 'r')\n",
    "for line in file:\n",
    "    print(line, end='')"
   ]
  },
  {
   "cell_type": "code",
   "execution_count": null,
   "id": "44488571",
   "metadata": {},
   "outputs": [],
   "source": [
    "# Take a look at the attributes of files\n",
    "print([attr for attr in dir(file) if '__' not in attr])"
   ]
  },
  {
   "cell_type": "markdown",
   "id": "d9938230",
   "metadata": {},
   "source": [
    "   - **readlines() function**"
   ]
  },
  {
   "cell_type": "code",
   "execution_count": null,
   "id": "32d750c8",
   "metadata": {},
   "outputs": [],
   "source": [
    "file = open('text.txt', 'r')\n",
    "for line in file.readlines():\n",
    "    print(line, end='')"
   ]
  },
  {
   "cell_type": "code",
   "execution_count": null,
   "id": "9d1b0db6",
   "metadata": {},
   "outputs": [],
   "source": []
  },
  {
   "cell_type": "markdown",
   "id": "0660e7d1",
   "metadata": {},
   "source": [
    "           \n",
    "## **How for loop works**:\n",
    "\n",
    "   - iter() method is applied to an iterable\n",
    "   \n",
    "   - An iterator object is created.\n",
    "   \n",
    "   - Under the hood, this is actually what a for loop is doing: it takes an iterable, creates the associated iterator object, and iterates over it!\n",
    "   \n",
    "   \n",
    "\n",
    "- **To create an iterator from an iterable**: all we need is to pass it to iter() method "
   ]
  },
  {
   "cell_type": "code",
   "execution_count": null,
   "id": "485aba3a",
   "metadata": {},
   "outputs": [],
   "source": [
    "print([attr for attr in dir(str()) if '__' in attr])"
   ]
  },
  {
   "cell_type": "markdown",
   "id": "6e460e04",
   "metadata": {},
   "source": [
    "## Examples"
   ]
  },
  {
   "cell_type": "code",
   "execution_count": null,
   "id": "635186f3",
   "metadata": {},
   "outputs": [],
   "source": [
    "word = 'py'\n",
    "iterator = iter(word)"
   ]
  },
  {
   "cell_type": "code",
   "execution_count": null,
   "id": "ca708f68",
   "metadata": {},
   "outputs": [],
   "source": [
    "print(type(iterator))"
   ]
  },
  {
   "cell_type": "code",
   "execution_count": null,
   "id": "c9f27078",
   "metadata": {},
   "outputs": [],
   "source": [
    "iterator"
   ]
  },
  {
   "cell_type": "code",
   "execution_count": null,
   "id": "2370661d",
   "metadata": {},
   "outputs": [],
   "source": [
    "next(iterator)"
   ]
  },
  {
   "cell_type": "code",
   "execution_count": null,
   "id": "b66297b7",
   "metadata": {},
   "outputs": [],
   "source": [
    "next(iterator)"
   ]
  },
  {
   "cell_type": "code",
   "execution_count": null,
   "id": "6d060090",
   "metadata": {},
   "outputs": [],
   "source": [
    "next(iterator)"
   ]
  },
  {
   "cell_type": "code",
   "execution_count": null,
   "id": "c1d83d23",
   "metadata": {},
   "outputs": [],
   "source": [
    "# Here the iterator stops because there are no values left to return"
   ]
  },
  {
   "cell_type": "markdown",
   "id": "90ce3037",
   "metadata": {},
   "source": [
    "### The splat operator '*' \n",
    "\n",
    "  - the star operator unpacks all the elements of an interator or an iterable"
   ]
  },
  {
   "cell_type": "code",
   "execution_count": null,
   "id": "49f6c019",
   "metadata": {},
   "outputs": [],
   "source": [
    "# Example 02\n",
    "it = iter('Python')\n",
    "print(* it)"
   ]
  },
  {
   "cell_type": "code",
   "execution_count": null,
   "id": "cbccd1b8",
   "metadata": {},
   "outputs": [],
   "source": [
    "## Unpacking an iterable\n",
    "print(* 'Python')"
   ]
  },
  {
   "cell_type": "code",
   "execution_count": null,
   "id": "48b25d20",
   "metadata": {},
   "outputs": [],
   "source": [
    "# Another examples\n",
    "print(* (1, 2, 3))\n",
    "print(* ['a', 'b', 'c'])"
   ]
  },
  {
   "cell_type": "markdown",
   "id": "01c00321",
   "metadata": {},
   "source": []
  },
  {
   "cell_type": "markdown",
   "id": "a2e0f8fa",
   "metadata": {},
   "source": [
    "## While Loop\n",
    "\n",
    "   - The while loop is the simplest form of a loop in python.\n",
    "   \n",
    "   - "
   ]
  },
  {
   "cell_type": "code",
   "execution_count": null,
   "id": "ab9b9f7e",
   "metadata": {},
   "outputs": [],
   "source": [
    "# Example 01:\n",
    "num = 10\n",
    "\n",
    "while num > 1: \n",
    "    print(num, end = ' ')\n",
    "    num = num - 1         # this is called decremention"
   ]
  },
  {
   "cell_type": "code",
   "execution_count": null,
   "id": "212c6247",
   "metadata": {},
   "outputs": [],
   "source": [
    "# Example 02: \n",
    "\n",
    "a = 0 \n",
    "\n",
    "while a < 10:                       # While this true, the loops executes, when it is false, \n",
    "    print(a, end = ' ') # the loop stops\n",
    "    \n",
    "    a = a + 1"
   ]
  },
  {
   "cell_type": "markdown",
   "id": "1a765de6",
   "metadata": {},
   "source": [
    " - **Fibonacci Sequence Example with While loop**\n",
    "\n",
    "$$F_{0}=0, F_{1}=1$$\n",
    "$$F_{n} = F_{n-1} + F_{n-2}$$"
   ]
  },
  {
   "cell_type": "code",
   "execution_count": null,
   "id": "56802c2a",
   "metadata": {},
   "outputs": [],
   "source": [
    "# Fibonacci example \n",
    "\n",
    "a, b = 0, 1\n",
    "\n",
    "while b < 20: \n",
    "    print(a, b)\n",
    "    \n",
    "    a, b = b, a + b "
   ]
  },
  {
   "cell_type": "markdown",
   "id": "db986e1f",
   "metadata": {},
   "source": [
    "## Problem to solve:\n",
    "\n",
    "  - Suppose we have an iterable and we want to print both the **index, and the item**, how do we achieve that?"
   ]
  },
  {
   "cell_type": "markdown",
   "id": "2ff1a4f1",
   "metadata": {},
   "source": [
    "### Enumerate method()"
   ]
  },
  {
   "cell_type": "code",
   "execution_count": null,
   "id": "8210ab79",
   "metadata": {},
   "outputs": [],
   "source": [
    "lis = list('I love python')"
   ]
  },
  {
   "cell_type": "code",
   "execution_count": null,
   "id": "2f9905be",
   "metadata": {},
   "outputs": [],
   "source": [
    "lis"
   ]
  },
  {
   "cell_type": "code",
   "execution_count": null,
   "id": "fa201c45",
   "metadata": {},
   "outputs": [],
   "source": [
    "for index, item in enumerate(lis):\n",
    "    print(index, item )"
   ]
  },
  {
   "cell_type": "markdown",
   "id": "ff82d08b",
   "metadata": {},
   "source": [
    "  - **Why do we need enumerate() function for?**\n",
    "  \n",
    "      - Suppose we are looking for a specific index of a letter, 'y' for instance"
   ]
  },
  {
   "cell_type": "code",
   "execution_count": null,
   "id": "f2077914",
   "metadata": {},
   "outputs": [],
   "source": [
    "lis = list('I love python')\n",
    "for ind, letter in enumerate(lis):\n",
    "    if letter == 'y':\n",
    "        print('The index of \"y\" is: {}'.format(ind))\n"
   ]
  },
  {
   "cell_type": "code",
   "execution_count": null,
   "id": "a1ac4c8e",
   "metadata": {},
   "outputs": [],
   "source": [
    "# Let us look for \"o\"\n",
    "for ind, letter in enumerate(lis):\n",
    "    if letter == 'o':\n",
    "        print('The index of \"y\" is: {}'.format(ind))"
   ]
  },
  {
   "cell_type": "markdown",
   "id": "179cc132",
   "metadata": {},
   "source": [
    "### Controlling the control flow\n",
    "\n",
    "   - If we are looking for something and we find it, then we decide whether to **continue** to **break**\n",
    "   \n",
    "   \n",
    "   - **continue** skips the condition\n",
    "   \n",
    "   \n"
   ]
  },
  {
   "cell_type": "code",
   "execution_count": null,
   "id": "d82d8310",
   "metadata": {},
   "outputs": [],
   "source": [
    "sent = \"I am learning machine learning\"\n",
    "\n",
    "# let us skip the 'n' letter\n",
    "\n",
    "for letter in sent: \n",
    "    if letter =='n': \n",
    "        continue\n",
    "    print(letter, end = ' ')\n",
    "# We see that we skipped all the n letters"
   ]
  },
  {
   "cell_type": "code",
   "execution_count": null,
   "id": "8a4d0195",
   "metadata": {},
   "outputs": [],
   "source": [
    "for letter in sent: \n",
    "    if letter =='n' or letter =='a': \n",
    "        continue\n",
    "    print(letter, end = ' ')"
   ]
  },
  {
   "cell_type": "markdown",
   "id": "2ebccd03",
   "metadata": {},
   "source": [
    "   - **break** stops the flow where the condition is met"
   ]
  },
  {
   "cell_type": "code",
   "execution_count": null,
   "id": "9f601bf1",
   "metadata": {},
   "outputs": [],
   "source": [
    "# What if we are looking for the first 'g', if we find it we stop\n",
    "for letter in sent: \n",
    "    if letter =='g': \n",
    "        break\n",
    "    print(letter, end = ' ')\n",
    "# the loop gets terminated"
   ]
  }
 ],
 "metadata": {
  "kernelspec": {
   "display_name": "Python 3",
   "language": "python",
   "name": "python3"
  },
  "language_info": {
   "codemirror_mode": {
    "name": "ipython",
    "version": 3
   },
   "file_extension": ".py",
   "mimetype": "text/x-python",
   "name": "python",
   "nbconvert_exporter": "python",
   "pygments_lexer": "ipython3",
   "version": "3.8.8"
  }
 },
 "nbformat": 4,
 "nbformat_minor": 5
}
