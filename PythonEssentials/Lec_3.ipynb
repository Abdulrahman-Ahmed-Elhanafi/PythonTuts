{
 "cells": [
  {
   "cell_type": "markdown",
   "id": "8f245ed2",
   "metadata": {},
   "source": [
    "## Lists methods in depth\n",
    "## ---------------------------"
   ]
  },
  {
   "cell_type": "markdown",
   "id": "fd36fb91",
   "metadata": {},
   "source": [
    "   - **Append method adds one element at a time to the end of a list** "
   ]
  },
  {
   "cell_type": "code",
   "execution_count": 52,
   "id": "f0e793f5",
   "metadata": {},
   "outputs": [
    {
     "name": "stdout",
     "output_type": "stream",
     "text": [
      "[11, 22, 33, 44]\n"
     ]
    }
   ],
   "source": [
    "my_list = [11, 22, 33, 44]\n",
    "print(my_list)"
   ]
  },
  {
   "cell_type": "code",
   "execution_count": 53,
   "id": "80a50af6",
   "metadata": {},
   "outputs": [
    {
     "name": "stdout",
     "output_type": "stream",
     "text": [
      "[11, 22, 33, 44, 55]\n"
     ]
    }
   ],
   "source": [
    "my_list.append(55)\n",
    "print(my_list)"
   ]
  },
  {
   "cell_type": "markdown",
   "id": "0be554a3",
   "metadata": {},
   "source": [
    "   - **What if we want to add more than one element** "
   ]
  },
  {
   "cell_type": "code",
   "execution_count": null,
   "id": "db105443",
   "metadata": {},
   "outputs": [],
   "source": [
    "my_list.append(66, 77)"
   ]
  },
  {
   "cell_type": "code",
   "execution_count": 55,
   "id": "35b44058",
   "metadata": {},
   "outputs": [
    {
     "name": "stdout",
     "output_type": "stream",
     "text": [
      "[11, 22, 33, 44, 55, [66, 77]]\n"
     ]
    }
   ],
   "source": [
    "# It did not work\n",
    "# we can try something else\n",
    "my_list.append([66, 77])\n",
    "print(my_list)"
   ]
  },
  {
   "cell_type": "markdown",
   "id": "629353f5",
   "metadata": {},
   "source": [
    "   * **Surprising output, isn't it!**"
   ]
  },
  {
   "cell_type": "markdown",
   "id": "f54a0bd0",
   "metadata": {},
   "source": [
    "### Extend method\n",
    "    \n",
    "   * **extend method adds multiple elements at the end of a list**"
   ]
  },
  {
   "cell_type": "code",
   "execution_count": 51,
   "id": "852c94ca",
   "metadata": {},
   "outputs": [
    {
     "name": "stdout",
     "output_type": "stream",
     "text": [
      "[10, 20, 30]\n",
      "[10, 20, 30, 40, 50]\n"
     ]
    }
   ],
   "source": [
    "my_list2 = [10, 20, 30]\n",
    "print(my_list2)\n",
    "## Let us add two elements\n",
    "## In R we use c() function\n",
    "\n",
    "my_list2.extend([40, 50])\n",
    "print(my_list2)"
   ]
  },
  {
   "cell_type": "markdown",
   "id": "c5d5c3ea",
   "metadata": {},
   "source": [
    "### Practice\n",
    "\n",
    "   - **Create a list**\n",
    "   \n",
    "   - **Append new elements to the list**\n",
    "   \n",
    "   - **Add multiple elements to the list**"
   ]
  },
  {
   "cell_type": "code",
   "execution_count": null,
   "id": "cf9444d8",
   "metadata": {},
   "outputs": [],
   "source": []
  },
  {
   "cell_type": "code",
   "execution_count": null,
   "id": "c6965b11",
   "metadata": {},
   "outputs": [],
   "source": []
  },
  {
   "cell_type": "code",
   "execution_count": 62,
   "id": "f6f70a2a",
   "metadata": {},
   "outputs": [
    {
     "name": "stdout",
     "output_type": "stream",
     "text": [
      "1\n"
     ]
    }
   ],
   "source": []
  },
  {
   "cell_type": "markdown",
   "id": "59423bdb",
   "metadata": {},
   "source": [
    "### Insert method"
   ]
  },
  {
   "cell_type": "code",
   "execution_count": null,
   "id": "7c786eeb",
   "metadata": {},
   "outputs": [],
   "source": [
    "my_list.insert(0, 1)\n",
    "print(my_list)"
   ]
  },
  {
   "cell_type": "markdown",
   "id": "0f33d2d1",
   "metadata": {},
   "source": [
    "## Other methods\n",
    "\n",
    "   * **remove**, **pop**, **index**, **clear**, **etc ...**"
   ]
  },
  {
   "cell_type": "markdown",
   "id": "847cf3a1",
   "metadata": {},
   "source": [
    "## Practice: \n",
    "\n",
    " * **Try to use the methods and learn them**"
   ]
  },
  {
   "cell_type": "code",
   "execution_count": null,
   "id": "aa5db8bb",
   "metadata": {},
   "outputs": [],
   "source": []
  },
  {
   "cell_type": "code",
   "execution_count": null,
   "id": "0fb34adb",
   "metadata": {},
   "outputs": [],
   "source": []
  },
  {
   "cell_type": "markdown",
   "id": "a94785a1",
   "metadata": {},
   "source": [
    "## Subsetting Lists (Slicing)\n",
    "\n",
    "   - **Indexing in python start from ZERO (Remember ZERO NOT ONE)**"
   ]
  },
  {
   "cell_type": "code",
   "execution_count": 21,
   "id": "98cbb824",
   "metadata": {},
   "outputs": [
    {
     "name": "stdout",
     "output_type": "stream",
     "text": [
      "[10, 20, 30, 40, 50, 60]\n"
     ]
    }
   ],
   "source": [
    "ind_list = [10, 20, 30, 40, 50, 60]\n",
    "print(ind_list)"
   ]
  },
  {
   "cell_type": "code",
   "execution_count": 34,
   "id": "70d2943e",
   "metadata": {},
   "outputs": [
    {
     "name": "stdout",
     "output_type": "stream",
     "text": [
      "0 1 2 3 4 5 "
     ]
    }
   ],
   "source": [
    "## Follow this code\n",
    "for ind in ind_list:\n",
    "    print(ind_list.index(ind), end = \" \")"
   ]
  },
  {
   "cell_type": "code",
   "execution_count": 56,
   "id": "9bfefecb",
   "metadata": {},
   "outputs": [
    {
     "name": "stdout",
     "output_type": "stream",
     "text": [
      "10\n",
      "20\n"
     ]
    }
   ],
   "source": [
    "first_item = ind_list[0]\n",
    "second_item = ind_list[1]\n",
    "print(first_item)\n",
    "print(second_item)"
   ]
  },
  {
   "cell_type": "code",
   "execution_count": 63,
   "id": "6bd5fa7e",
   "metadata": {},
   "outputs": [
    {
     "name": "stdout",
     "output_type": "stream",
     "text": [
      "60\n"
     ]
    }
   ],
   "source": [
    "last_item = ind_list[-1]\n",
    "print(last_item)"
   ]
  },
  {
   "cell_type": "code",
   "execution_count": 57,
   "id": "be49ae68",
   "metadata": {},
   "outputs": [
    {
     "data": {
      "text/plain": [
       "[30, 40]"
      ]
     },
     "execution_count": 57,
     "metadata": {},
     "output_type": "execute_result"
    }
   ],
   "source": [
    "## list[start:stop]\n",
    "ind_list[2:4]"
   ]
  },
  {
   "cell_type": "code",
   "execution_count": 64,
   "id": "509bae66",
   "metadata": {},
   "outputs": [
    {
     "data": {
      "text/plain": [
       "[50, 60]"
      ]
     },
     "execution_count": 64,
     "metadata": {},
     "output_type": "execute_result"
    }
   ],
   "source": [
    "# Use len() to designate the end of a list\n",
    "ind_list[4:len(ind_list)]"
   ]
  },
  {
   "cell_type": "code",
   "execution_count": 37,
   "id": "05d279ef",
   "metadata": {},
   "outputs": [
    {
     "data": {
      "text/plain": [
       "[40, 50, 60]"
      ]
     },
     "execution_count": 37,
     "metadata": {},
     "output_type": "execute_result"
    }
   ],
   "source": [
    "## From to the end of a list, Use the start index + : list[start:]\n",
    "ind_list[3:]"
   ]
  },
  {
   "cell_type": "code",
   "execution_count": 38,
   "id": "9aa5cf5b",
   "metadata": {},
   "outputs": [
    {
     "data": {
      "text/plain": [
       "[10, 20, 30]"
      ]
     },
     "execution_count": 38,
     "metadata": {},
     "output_type": "execute_result"
    }
   ],
   "source": [
    "## Up to use this syntax: list[:stop]\n",
    "ind_list[:3]"
   ]
  },
  {
   "cell_type": "markdown",
   "id": "ab459a0c",
   "metadata": {},
   "source": [
    "### Subsetting a list\n",
    "\n",
    "   * **Syntax is [start:stop], the element of index end is not included, thus we call them non-inclusive**"
   ]
  },
  {
   "cell_type": "code",
   "execution_count": 27,
   "id": "cb2e2171",
   "metadata": {},
   "outputs": [
    {
     "data": {
      "text/plain": [
       "[10, 20]"
      ]
     },
     "execution_count": 27,
     "metadata": {},
     "output_type": "execute_result"
    }
   ],
   "source": [
    "first_two_elem = ind_list[0:2]\n",
    "first_two_elem"
   ]
  },
  {
   "cell_type": "markdown",
   "id": "32ce77be",
   "metadata": {},
   "source": [
    "   * **Negative indexing is possible in python** \n",
    "   * **For example: a list of three elements indexed as follows**\n",
    " [0, 1, 2] or, [-3, -2, -1]"
   ]
  },
  {
   "cell_type": "code",
   "execution_count": 45,
   "id": "5ff53730",
   "metadata": {},
   "outputs": [
    {
     "data": {
      "text/html": [
       "<img src=\"https://media.geeksforgeeks.org/wp-content/uploads/List-Slicing.jpg\"/>"
      ],
      "text/plain": [
       "<IPython.core.display.Image object>"
      ]
     },
     "execution_count": 45,
     "metadata": {},
     "output_type": "execute_result"
    }
   ],
   "source": [
    "from IPython.display import Image\n",
    "from IPython.core.display import HTML \n",
    "Image(url= \"https://media.geeksforgeeks.org/wp-content/uploads/List-Slicing.jpg\")"
   ]
  },
  {
   "cell_type": "code",
   "execution_count": 59,
   "id": "8084eb0b",
   "metadata": {},
   "outputs": [
    {
     "data": {
      "text/plain": [
       "60"
      ]
     },
     "execution_count": 59,
     "metadata": {},
     "output_type": "execute_result"
    }
   ],
   "source": [
    "# last element\n",
    "ind_list[-1]"
   ]
  },
  {
   "cell_type": "code",
   "execution_count": 60,
   "id": "c6763860",
   "metadata": {},
   "outputs": [
    {
     "data": {
      "text/plain": [
       "[50, 60]"
      ]
     },
     "execution_count": 60,
     "metadata": {},
     "output_type": "execute_result"
    }
   ],
   "source": [
    "# last two elements\n",
    "ind_list[-2:]"
   ]
  },
  {
   "cell_type": "code",
   "execution_count": 61,
   "id": "6a89016e",
   "metadata": {},
   "outputs": [
    {
     "data": {
      "text/plain": [
       "[10, 20, 30, 40, 50, 60]"
      ]
     },
     "execution_count": 61,
     "metadata": {},
     "output_type": "execute_result"
    }
   ],
   "source": [
    "# All elements\n",
    "ind_list[-len(ind_list):]"
   ]
  },
  {
   "cell_type": "markdown",
   "id": "d0cf2c27",
   "metadata": {},
   "source": [
    "### One trick to reverse a list"
   ]
  },
  {
   "cell_type": "code",
   "execution_count": 28,
   "id": "d874f400",
   "metadata": {},
   "outputs": [
    {
     "data": {
      "text/plain": [
       "[60, 50, 40, 30, 20, 10]"
      ]
     },
     "execution_count": 28,
     "metadata": {},
     "output_type": "execute_result"
    }
   ],
   "source": [
    "reversed_list = ind_list[::-1]\n",
    "reversed_list"
   ]
  },
  {
   "cell_type": "code",
   "execution_count": 68,
   "id": "500fff52",
   "metadata": {},
   "outputs": [
    {
     "name": "stdout",
     "output_type": "stream",
     "text": [
      "[10, 20, 30, 40, 50, 60]\n"
     ]
    }
   ],
   "source": [
    "# You can reverse a list using the reverse method\n",
    "ind_list.reverse()\n",
    "print(ind_list)"
   ]
  },
  {
   "cell_type": "markdown",
   "id": "ce7dbe2c",
   "metadata": {},
   "source": [
    "## Strings are sequences as well"
   ]
  },
  {
   "cell_type": "code",
   "execution_count": null,
   "id": "4d251208",
   "metadata": {},
   "outputs": [],
   "source": [
    "str_list = list('python')\n",
    "print(str_list)"
   ]
  },
  {
   "cell_type": "markdown",
   "id": "f7b92ddc",
   "metadata": {},
   "source": [
    "## Practice \n",
    "\n",
    "   - **Slice the str_list**\n",
    "   \n",
    "   1. Get the first letter\n",
    "   2. Get the two first letters\n",
    "   3. Get the last letter \n",
    "   4. Get the last two letters\n",
    "   5. Get 'th' from str_list"
   ]
  },
  {
   "cell_type": "code",
   "execution_count": null,
   "id": "bdfef051",
   "metadata": {},
   "outputs": [],
   "source": []
  },
  {
   "cell_type": "code",
   "execution_count": null,
   "id": "842e9834",
   "metadata": {},
   "outputs": [],
   "source": []
  },
  {
   "cell_type": "markdown",
   "id": "cfb0c023",
   "metadata": {},
   "source": [
    "## Babies names example"
   ]
  },
  {
   "cell_type": "code",
   "execution_count": 69,
   "id": "45c78805",
   "metadata": {},
   "outputs": [],
   "source": [
    "babies_names = [['2014', 'FEMALE', 'ASIAN AND PACIFIC ISLANDER', 'Aarya', '10', '40'],\n",
    " ['2014', 'FEMALE', 'ASIAN AND PACIFIC ISLANDER', 'Abby', '27', '23'],\n",
    " ['2014', 'FEMALE', 'ASIAN AND PACIFIC ISLANDER', 'Abigail', '31', '19'],\n",
    " ['2014', 'FEMALE', 'ASIAN AND PACIFIC ISLANDER', 'Aisha', '18', '32'],\n",
    " ['2014', 'FEMALE', 'ASIAN AND PACIFIC ISLANDER', 'Aiza', '19', '31'],\n",
    " ['2014', 'FEMALE', 'ASIAN AND PACIFIC ISLANDER', 'Aleena', '17', '33'],\n",
    " ['2014', 'FEMALE', 'ASIAN AND PACIFIC ISLANDER', 'Alexandra', '11', '39'],\n",
    " ['2014', 'FEMALE', 'ASIAN AND PACIFIC ISLANDER', 'Alice', '24', '26'],\n",
    " ['2014', 'FEMALE', 'ASIAN AND PACIFIC ISLANDER', 'Alicia', '12', '38'],\n",
    " ['2014', 'FEMALE', 'ASIAN AND PACIFIC ISLANDER', 'Alina', '41', '10'],\n",
    " ['2014', 'FEMALE', 'ASIAN AND PACIFIC ISLANDER', 'Alisa', '11', '39'],\n",
    " ['2014', 'FEMALE', 'ASIAN AND PACIFIC ISLANDER', 'Alisha', '11', '39'],\n",
    " ['2014', 'FEMALE', 'ASIAN AND PACIFIC ISLANDER', 'Allison', '15', '35']]"
   ]
  },
  {
   "cell_type": "markdown",
   "id": "fdfeca7c",
   "metadata": {},
   "source": [
    "   - **Get the first element**\n",
    "   - **Get the first element of the sublist**"
   ]
  },
  {
   "cell_type": "code",
   "execution_count": null,
   "id": "14b2a6b6",
   "metadata": {},
   "outputs": [],
   "source": []
  },
  {
   "cell_type": "code",
   "execution_count": null,
   "id": "1a926e2b",
   "metadata": {},
   "outputs": [],
   "source": []
  },
  {
   "cell_type": "markdown",
   "id": "20e425bf",
   "metadata": {},
   "source": [
    "## Tuples\n",
    "   1. **Tuples are immutable, you cannot change their values**\n",
    "   \n",
    "         - **We cannot insert elements**\n",
    "         - **We cannot appent elements**\n",
    "         - **We cannot delete elements after the tuple has been created**\n",
    "         - **We cannot change the tuple**\n",
    "\n",
    "         \n",
    "   2. **Tuples are useful for operating on a fixed list of things**\n",
    "   \n",
    " \n",
    "   3. **Tuples are created using parentheses \"()\"**"
   ]
  },
  {
   "cell_type": "code",
   "execution_count": null,
   "id": "c41202f9",
   "metadata": {},
   "outputs": [],
   "source": [
    "tup1 = (1, 2, 3)\n",
    "print(tup1)\n"
   ]
  },
  {
   "cell_type": "code",
   "execution_count": null,
   "id": "a211910d",
   "metadata": {},
   "outputs": [],
   "source": [
    "## Check the class\n",
    "type(tup1)"
   ]
  },
  {
   "cell_type": "code",
   "execution_count": null,
   "id": "86389ec2",
   "metadata": {},
   "outputs": [],
   "source": [
    "print(type(tup1), tup1)"
   ]
  },
  {
   "cell_type": "code",
   "execution_count": null,
   "id": "284d7045",
   "metadata": {},
   "outputs": [],
   "source": [
    "## Check the length of the tuple (how many elements are there inside the parentheses)\n",
    "len(tup1)"
   ]
  },
  {
   "cell_type": "code",
   "execution_count": 13,
   "id": "41377e41",
   "metadata": {},
   "outputs": [
    {
     "ename": "AttributeError",
     "evalue": "'tuple' object has no attribute 'append'",
     "output_type": "error",
     "traceback": [
      "\u001b[0;31m---------------------------------------------------------------------------\u001b[0m",
      "\u001b[0;31mAttributeError\u001b[0m                            Traceback (most recent call last)",
      "\u001b[0;32m<ipython-input-13-aff593b16240>\u001b[0m in \u001b[0;36m<module>\u001b[0;34m\u001b[0m\n\u001b[1;32m      1\u001b[0m \u001b[0;31m## Let us try to insert or append an element to a tuple\u001b[0m\u001b[0;34m\u001b[0m\u001b[0;34m\u001b[0m\u001b[0;34m\u001b[0m\u001b[0m\n\u001b[0;32m----> 2\u001b[0;31m \u001b[0mtup1\u001b[0m\u001b[0;34m.\u001b[0m\u001b[0mappend\u001b[0m\u001b[0;34m(\u001b[0m\u001b[0;36m4\u001b[0m\u001b[0;34m)\u001b[0m\u001b[0;34m\u001b[0m\u001b[0;34m\u001b[0m\u001b[0m\n\u001b[0m",
      "\u001b[0;31mAttributeError\u001b[0m: 'tuple' object has no attribute 'append'"
     ]
    }
   ],
   "source": [
    "## Let us try to insert or append an element to a tuple\n",
    "tup1.append(4)\n"
   ]
  },
  {
   "cell_type": "code",
   "execution_count": 12,
   "id": "3eed9674",
   "metadata": {},
   "outputs": [
    {
     "ename": "AttributeError",
     "evalue": "'tuple' object has no attribute 'insert'",
     "output_type": "error",
     "traceback": [
      "\u001b[0;31m---------------------------------------------------------------------------\u001b[0m",
      "\u001b[0;31mAttributeError\u001b[0m                            Traceback (most recent call last)",
      "\u001b[0;32m<ipython-input-12-df40c3104d06>\u001b[0m in \u001b[0;36m<module>\u001b[0;34m\u001b[0m\n\u001b[0;32m----> 1\u001b[0;31m \u001b[0mtup1\u001b[0m\u001b[0;34m.\u001b[0m\u001b[0minsert\u001b[0m\u001b[0;34m(\u001b[0m\u001b[0;36m0\u001b[0m\u001b[0;34m,\u001b[0m \u001b[0;36m0\u001b[0m\u001b[0;34m)\u001b[0m\u001b[0;34m\u001b[0m\u001b[0;34m\u001b[0m\u001b[0m\n\u001b[0m",
      "\u001b[0;31mAttributeError\u001b[0m: 'tuple' object has no attribute 'insert'"
     ]
    }
   ],
   "source": [
    "tup1.insert(0, 0)"
   ]
  },
  {
   "cell_type": "markdown",
   "id": "42c04c51",
   "metadata": {},
   "source": [
    "## methods of tuples"
   ]
  },
  {
   "cell_type": "code",
   "execution_count": 14,
   "id": "ca02bd85",
   "metadata": {},
   "outputs": [
    {
     "name": "stdout",
     "output_type": "stream",
     "text": [
      "['count', 'index']\n"
     ]
    }
   ],
   "source": [
    "print([meth for meth in(dir(tuple())) if '__' and '_' not in meth])"
   ]
  },
  {
   "cell_type": "code",
   "execution_count": 15,
   "id": "c2edd490",
   "metadata": {},
   "outputs": [
    {
     "data": {
      "text/plain": [
       "1"
      ]
     },
     "execution_count": 15,
     "metadata": {},
     "output_type": "execute_result"
    }
   ],
   "source": [
    "tup1.count(1)"
   ]
  },
  {
   "cell_type": "code",
   "execution_count": 16,
   "id": "96387a76",
   "metadata": {},
   "outputs": [
    {
     "data": {
      "text/plain": [
       "2"
      ]
     },
     "execution_count": 16,
     "metadata": {},
     "output_type": "execute_result"
    }
   ],
   "source": [
    "tup1.index(3)"
   ]
  },
  {
   "cell_type": "markdown",
   "id": "f68a109c",
   "metadata": {},
   "source": [
    "# Dictionaries: The root of python\n",
    "\n",
    "   * **They might be called arrays of hash tables in other programming languages**\n",
    "   \n",
    "\n",
    "   * **We use the curly braces \"{}\" for defining a dictionary**\n",
    "   \n",
    "   * **Dictionaries are useful for storing key-value pairs, sometimes called item** \n",
    "   \n",
    "   * **They are defined using this syntax {'key':value}**\n",
    "   \n",
    "   * **The distinction between lists and dictionaries. In a list, the indices must be integers, but in a dictionary they can be any type**\n",
    "   \n",
    "   * **There is a joke in python: Everything in in python is a dictionary**"
   ]
  },
  {
   "cell_type": "markdown",
   "id": "c4889b59",
   "metadata": {},
   "source": [
    "# Dictionaries characteristics\n",
    "\n",
    "   - **Dictionaries are mutable objects**\n",
    "   \n",
    "   \n",
    "   - **The key is unique in a dictionary, and must immutable**\n",
    "   \n",
    "   - **Dictionaries starting from python 3.7 are ordered**"
   ]
  },
  {
   "cell_type": "code",
   "execution_count": 39,
   "id": "a29c8d4e",
   "metadata": {},
   "outputs": [
    {
     "name": "stdout",
     "output_type": "stream",
     "text": [
      "{'One': 1, 'two': 2, 'three': 3}\n"
     ]
    }
   ],
   "source": [
    "dic = {'One': 1, 'two': 2, 'three':3}\n",
    "print(dic)"
   ]
  },
  {
   "cell_type": "code",
   "execution_count": 75,
   "id": "0e9d8cb8",
   "metadata": {},
   "outputs": [
    {
     "ename": "NameError",
     "evalue": "name 'one' is not defined",
     "output_type": "error",
     "traceback": [
      "\u001b[0;31m---------------------------------------------------------------------------\u001b[0m",
      "\u001b[0;31mNameError\u001b[0m                                 Traceback (most recent call last)",
      "\u001b[0;32m<ipython-input-75-c049e1729ab1>\u001b[0m in \u001b[0;36m<module>\u001b[0;34m\u001b[0m\n\u001b[1;32m      1\u001b[0m \u001b[0;31m# Define a new dictionary\u001b[0m\u001b[0;34m\u001b[0m\u001b[0;34m\u001b[0m\u001b[0;34m\u001b[0m\u001b[0m\n\u001b[0;32m----> 2\u001b[0;31m \u001b[0mdic2\u001b[0m \u001b[0;34m=\u001b[0m \u001b[0;34m{\u001b[0m\u001b[0mone\u001b[0m\u001b[0;34m:\u001b[0m \u001b[0;36m1\u001b[0m\u001b[0;34m,\u001b[0m \u001b[0mtwo\u001b[0m\u001b[0;34m:\u001b[0m \u001b[0;36m2\u001b[0m\u001b[0;34m}\u001b[0m\u001b[0;34m\u001b[0m\u001b[0;34m\u001b[0m\u001b[0m\n\u001b[0m",
      "\u001b[0;31mNameError\u001b[0m: name 'one' is not defined"
     ]
    }
   ],
   "source": [
    "# Define a new dictionary\n",
    "dic2 = {one: 1, two: 2}"
   ]
  },
  {
   "cell_type": "code",
   "execution_count": 79,
   "id": "487c7b29",
   "metadata": {},
   "outputs": [
    {
     "name": "stdout",
     "output_type": "stream",
     "text": [
      "{'One': 1, 'two': 22}\n"
     ]
    }
   ],
   "source": [
    "dic3 = {'One': 1, 'two': 222, 'two':22}\n",
    "print(dic3)"
   ]
  },
  {
   "cell_type": "code",
   "execution_count": 80,
   "id": "7ab6fb80",
   "metadata": {},
   "outputs": [
    {
     "name": "stdout",
     "output_type": "stream",
     "text": [
      "{1: 'Python', 2: 'R', 3: 'C', 4: 'Java'}\n"
     ]
    }
   ],
   "source": [
    "dic4 = {1:'Python', 2:'R', 3:'C', 4:'Java'}\n",
    "print(dic4)"
   ]
  },
  {
   "cell_type": "code",
   "execution_count": 81,
   "id": "da52101e",
   "metadata": {},
   "outputs": [
    {
     "name": "stdout",
     "output_type": "stream",
     "text": [
      "<class 'dict'> {1: 'Python', 2: 'R', 3: 'C', 4: 'Java'}\n"
     ]
    }
   ],
   "source": [
    "## Check the type\n",
    "\n",
    "print(type(dic4), dic4)"
   ]
  },
  {
   "cell_type": "markdown",
   "id": "68197b74",
   "metadata": {},
   "source": [
    "## A better way to create a dictionary is dict() function"
   ]
  },
  {
   "cell_type": "code",
   "execution_count": 84,
   "id": "07b9e844",
   "metadata": {},
   "outputs": [
    {
     "name": "stdout",
     "output_type": "stream",
     "text": [
      "{'one': 1, 'two': 2, 'three': 3}\n"
     ]
    }
   ],
   "source": [
    "my_dict = dict(\n",
    "    one= 1,\n",
    "    two= 2,\n",
    "    three= 3\n",
    ")\n",
    "print(my_dict)"
   ]
  },
  {
   "cell_type": "code",
   "execution_count": 86,
   "id": "426b94e2",
   "metadata": {},
   "outputs": [
    {
     "data": {
      "text/plain": [
       "{}"
      ]
     },
     "execution_count": 86,
     "metadata": {},
     "output_type": "execute_result"
    }
   ],
   "source": [
    "## Creating an empty dictionary\n",
    "\n",
    "empty_dict = {}\n",
    "empty_dict"
   ]
  },
  {
   "cell_type": "markdown",
   "id": "36b250e9",
   "metadata": {},
   "source": [
    "## Practice \n",
    "\n",
    "  * **Create two dictionaries holding information of your choice**"
   ]
  },
  {
   "cell_type": "code",
   "execution_count": null,
   "id": "84576c08",
   "metadata": {},
   "outputs": [],
   "source": []
  },
  {
   "cell_type": "markdown",
   "id": "ed71dbad",
   "metadata": {},
   "source": [
    "## Real Examples: Courses and subjects"
   ]
  },
  {
   "cell_type": "code",
   "execution_count": 88,
   "id": "aa8c456a",
   "metadata": {},
   "outputs": [
    {
     "name": "stdout",
     "output_type": "stream",
     "text": [
      "{'calculus': 'Prof. Philip', 'Linear Algebra': 'Prof. Feeny', 'real analysis': 'Prof. Denis'}\n",
      "\n",
      "\n",
      "{'Adam': ['calculus', 'Linear Algebra'], 'Ilyas': ['real analysis', 'calculus', 'Linear Algebra'], 'Andro': ['linear algebra']}\n"
     ]
    }
   ],
   "source": [
    "course_professors = {\n",
    "    'calculus': \"Prof. Philip\", \n",
    "    'Linear Algebra': 'Prof. Feeny', \n",
    "    'real analysis': 'Prof. Denis'\n",
    "}\n",
    "\n",
    "student_courses = {\n",
    "    'Adam': [ 'calculus', 'Linear Algebra'], \n",
    "    'Ilyas': ['real analysis', 'calculus', 'Linear Algebra'], \n",
    "    'Andro': ['linear algebra']\n",
    "}\n",
    "\n",
    "print(course_professors)\n",
    "print('\\n')\n",
    "print(student_courses)"
   ]
  },
  {
   "cell_type": "markdown",
   "id": "6aedcb00",
   "metadata": {},
   "source": [
    "## Practice: \n",
    "\n",
    "- **Create a dictionary for storing information of your interest**"
   ]
  },
  {
   "cell_type": "code",
   "execution_count": null,
   "id": "2e1005ef",
   "metadata": {},
   "outputs": [],
   "source": []
  },
  {
   "cell_type": "code",
   "execution_count": null,
   "id": "13887ee2",
   "metadata": {},
   "outputs": [],
   "source": []
  },
  {
   "cell_type": "markdown",
   "id": "bbb8faea",
   "metadata": {},
   "source": [
    "## Methods of dictionaries\n"
   ]
  },
  {
   "cell_type": "code",
   "execution_count": 85,
   "id": "d62a300a",
   "metadata": {},
   "outputs": [
    {
     "name": "stdout",
     "output_type": "stream",
     "text": [
      "['clear', 'copy', 'fromkeys', 'get', 'items', 'keys', 'pop', 'popitem', 'setdefault', 'update', 'values']\n"
     ]
    }
   ],
   "source": [
    "print([meth for meth in(dir({})) if '__' and '_' not in meth])"
   ]
  },
  {
   "cell_type": "code",
   "execution_count": 90,
   "id": "41c6d2c4",
   "metadata": {},
   "outputs": [
    {
     "name": "stdout",
     "output_type": "stream",
     "text": [
      "dict_keys(['one', 'two', 'three'])\n"
     ]
    }
   ],
   "source": [
    "# Getting the keys of a dictionary\n",
    "print(my_dict.keys())"
   ]
  },
  {
   "cell_type": "code",
   "execution_count": 92,
   "id": "6ffe5620",
   "metadata": {},
   "outputs": [
    {
     "name": "stdout",
     "output_type": "stream",
     "text": [
      "dict_values([1, 2, 3])\n"
     ]
    }
   ],
   "source": [
    "# GETTING THE VALUES OF A DICTIONARY\n",
    "print(my_dict.values())"
   ]
  },
  {
   "cell_type": "code",
   "execution_count": 91,
   "id": "b382d0f9",
   "metadata": {},
   "outputs": [
    {
     "name": "stdout",
     "output_type": "stream",
     "text": [
      "dict_items([('one', 1), ('two', 2), ('three', 3)])\n"
     ]
    }
   ],
   "source": [
    "# Getting the items of a dictionary\n",
    "\n",
    "print(my_dict.items())"
   ]
  },
  {
   "cell_type": "markdown",
   "id": "754e85e2",
   "metadata": {},
   "source": [
    "## Modifying a dictionary"
   ]
  },
  {
   "cell_type": "code",
   "execution_count": 93,
   "id": "d745233f",
   "metadata": {},
   "outputs": [
    {
     "name": "stdout",
     "output_type": "stream",
     "text": [
      "{'one': 1, 'two': 2, 'three': 3, 'four': 4}\n"
     ]
    }
   ],
   "source": [
    "my_dict['four'] = 4\n",
    "print(my_dict)"
   ]
  },
  {
   "cell_type": "markdown",
   "id": "133daf62",
   "metadata": {},
   "source": [
    "## Another example for creating a dictionary\n",
    "\n",
    "1. Create an empyt dictionary\n",
    "\n",
    "2. Start addind items"
   ]
  },
  {
   "cell_type": "code",
   "execution_count": 99,
   "id": "6e53a635",
   "metadata": {},
   "outputs": [],
   "source": [
    "student_info = {}"
   ]
  },
  {
   "cell_type": "code",
   "execution_count": 100,
   "id": "3f9adfc7",
   "metadata": {},
   "outputs": [],
   "source": [
    "student_info['name'] = 'Ahmed'"
   ]
  },
  {
   "cell_type": "code",
   "execution_count": 101,
   "id": "2fd905e5",
   "metadata": {},
   "outputs": [],
   "source": [
    "student_info['Country'] = 'Spain'"
   ]
  },
  {
   "cell_type": "code",
   "execution_count": 102,
   "id": "18a84559",
   "metadata": {},
   "outputs": [
    {
     "name": "stdout",
     "output_type": "stream",
     "text": [
      "{'name': 'Ahmed', 'Country': 'Spain'}\n"
     ]
    }
   ],
   "source": [
    "print(student_info)"
   ]
  },
  {
   "cell_type": "code",
   "execution_count": null,
   "id": "30bd1e42",
   "metadata": {},
   "outputs": [],
   "source": [
    "## Add age, study, ...\n"
   ]
  }
 ],
 "metadata": {
  "kernelspec": {
   "display_name": "Python 3",
   "language": "python",
   "name": "python3"
  },
  "language_info": {
   "codemirror_mode": {
    "name": "ipython",
    "version": 3
   },
   "file_extension": ".py",
   "mimetype": "text/x-python",
   "name": "python",
   "nbconvert_exporter": "python",
   "pygments_lexer": "ipython3",
   "version": "3.8.8"
  }
 },
 "nbformat": 4,
 "nbformat_minor": 5
}
