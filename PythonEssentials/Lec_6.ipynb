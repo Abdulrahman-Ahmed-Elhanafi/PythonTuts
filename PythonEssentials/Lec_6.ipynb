{
 "cells": [
  {
   "cell_type": "markdown",
   "id": "7e0732f7",
   "metadata": {},
   "source": [
    "# Booleans\n",
    "\n",
    "   1. **True**\n",
    "   \n",
    "   2. **False**"
   ]
  },
  {
   "cell_type": "code",
   "execution_count": 5,
   "id": "d2a7b020",
   "metadata": {},
   "outputs": [
    {
     "name": "stdout",
     "output_type": "stream",
     "text": [
      "True\n",
      "<class 'bool'>\n"
     ]
    }
   ],
   "source": [
    "x = True\n",
    "print(x)\n",
    "print(type(x))"
   ]
  },
  {
   "cell_type": "code",
   "execution_count": 6,
   "id": "d929623a",
   "metadata": {},
   "outputs": [
    {
     "name": "stdout",
     "output_type": "stream",
     "text": [
      "False\n",
      "<class 'bool'>\n"
     ]
    }
   ],
   "source": [
    "y = False\n",
    "print(y)\n",
    "print(type(y))"
   ]
  },
  {
   "cell_type": "markdown",
   "id": "4cf7e8ca",
   "metadata": {},
   "source": [
    "### Comparison operators"
   ]
  },
  {
   "cell_type": "markdown",
   "id": "ce6b455e",
   "metadata": {},
   "source": [
    "Comparison Operations\n",
    "----------------------------\n",
    "| Operation| Description|\n",
    "|---|---|\n",
    "|a == b|a equal to b|\n",
    "|a != b|a not equal to b|\n",
    "|a < b|a less than b\t|\n",
    "|a > b|a greater than b|\n",
    "|a <= b|a less than or equal to b|\n",
    "| a >= b|a greater than or equal to b|\n"
   ]
  },
  {
   "cell_type": "code",
   "execution_count": 7,
   "id": "af12c804",
   "metadata": {},
   "outputs": [],
   "source": [
    "x = 12\n",
    "y = 15"
   ]
  },
  {
   "cell_type": "code",
   "execution_count": 8,
   "id": "0352ae75",
   "metadata": {},
   "outputs": [
    {
     "data": {
      "text/plain": [
       "False"
      ]
     },
     "execution_count": 8,
     "metadata": {},
     "output_type": "execute_result"
    }
   ],
   "source": [
    "x == y"
   ]
  },
  {
   "cell_type": "code",
   "execution_count": 9,
   "id": "429f2a3d",
   "metadata": {},
   "outputs": [
    {
     "data": {
      "text/plain": [
       "False"
      ]
     },
     "execution_count": 9,
     "metadata": {},
     "output_type": "execute_result"
    }
   ],
   "source": [
    "x > y"
   ]
  },
  {
   "cell_type": "code",
   "execution_count": 10,
   "id": "6891f0e6",
   "metadata": {},
   "outputs": [
    {
     "data": {
      "text/plain": [
       "False"
      ]
     },
     "execution_count": 10,
     "metadata": {},
     "output_type": "execute_result"
    }
   ],
   "source": [
    "x >= y"
   ]
  },
  {
   "cell_type": "code",
   "execution_count": 11,
   "id": "7935d3af",
   "metadata": {},
   "outputs": [
    {
     "data": {
      "text/plain": [
       "True"
      ]
     },
     "execution_count": 11,
     "metadata": {},
     "output_type": "execute_result"
    }
   ],
   "source": [
    "x < y"
   ]
  },
  {
   "cell_type": "code",
   "execution_count": 12,
   "id": "a6c8037f",
   "metadata": {},
   "outputs": [
    {
     "data": {
      "text/plain": [
       "True"
      ]
     },
     "execution_count": 12,
     "metadata": {},
     "output_type": "execute_result"
    }
   ],
   "source": [
    "x <= y"
   ]
  },
  {
   "cell_type": "code",
   "execution_count": 13,
   "id": "8c72f8c9",
   "metadata": {},
   "outputs": [
    {
     "data": {
      "text/plain": [
       "True"
      ]
     },
     "execution_count": 13,
     "metadata": {},
     "output_type": "execute_result"
    }
   ],
   "source": [
    "x != y"
   ]
  },
  {
   "cell_type": "code",
   "execution_count": 14,
   "id": "f6f56e8e",
   "metadata": {},
   "outputs": [
    {
     "name": "stdout",
     "output_type": "stream",
     "text": [
      "False\n"
     ]
    }
   ],
   "source": [
    "word1 = 'python'\n",
    "word2 = 'Python'\n",
    "print(word1 == word2)"
   ]
  },
  {
   "cell_type": "code",
   "execution_count": 15,
   "id": "44353359",
   "metadata": {},
   "outputs": [
    {
     "data": {
      "text/plain": [
       "True"
      ]
     },
     "execution_count": 15,
     "metadata": {},
     "output_type": "execute_result"
    }
   ],
   "source": [
    "# Comparision betwee words \n",
    "word1 > word2"
   ]
  },
  {
   "cell_type": "code",
   "execution_count": 16,
   "id": "b22d9842",
   "metadata": {},
   "outputs": [
    {
     "ename": "TypeError",
     "evalue": "'>' not supported between instances of 'int' and 'str'",
     "output_type": "error",
     "traceback": [
      "\u001b[0;31m---------------------------------------------------------------------------\u001b[0m",
      "\u001b[0;31mTypeError\u001b[0m                                 Traceback (most recent call last)",
      "\u001b[0;32m<ipython-input-16-fbcbad5f3272>\u001b[0m in \u001b[0;36m<module>\u001b[0;34m\u001b[0m\n\u001b[0;32m----> 1\u001b[0;31m \u001b[0;36m3\u001b[0m \u001b[0;34m>\u001b[0m \u001b[0mword1\u001b[0m\u001b[0;34m\u001b[0m\u001b[0;34m\u001b[0m\u001b[0m\n\u001b[0m",
      "\u001b[0;31mTypeError\u001b[0m: '>' not supported between instances of 'int' and 'str'"
     ]
    }
   ],
   "source": [
    "3 > word1"
   ]
  },
  {
   "cell_type": "code",
   "execution_count": 18,
   "id": "ea8f056a",
   "metadata": {},
   "outputs": [
    {
     "data": {
      "text/plain": [
       "False"
      ]
     },
     "execution_count": 18,
     "metadata": {},
     "output_type": "execute_result"
    }
   ],
   "source": [
    "# Comparison of booleans\n",
    "True == False"
   ]
  },
  {
   "cell_type": "code",
   "execution_count": 19,
   "id": "dc27f621",
   "metadata": {},
   "outputs": [
    {
     "data": {
      "text/plain": [
       "True"
      ]
     },
     "execution_count": 19,
     "metadata": {},
     "output_type": "execute_result"
    }
   ],
   "source": [
    "# Comparison of integers\n",
    "-5 * 15 != 75"
   ]
  },
  {
   "cell_type": "code",
   "execution_count": 20,
   "id": "3d971949",
   "metadata": {},
   "outputs": [
    {
     "data": {
      "text/plain": [
       "True"
      ]
     },
     "execution_count": 20,
     "metadata": {},
     "output_type": "execute_result"
    }
   ],
   "source": [
    "# Compare a boolean with an integer\n",
    "True == 1"
   ]
  },
  {
   "cell_type": "markdown",
   "id": "b49442cf",
   "metadata": {},
   "source": [
    "# Conditionals\n",
    "\n",
    "   - **Conditional execution in python is handled using the if, else statement**"
   ]
  },
  {
   "cell_type": "raw",
   "id": "d5349dc1",
   "metadata": {},
   "source": [
    "if cond:            # if this is true\n",
    "    # do something  # this will get executed \n",
    "    \n",
    "    \n",
    "if cond:            # if this is false\n",
    "    # do something  # this will not get executed "
   ]
  },
  {
   "cell_type": "code",
   "execution_count": 22,
   "id": "8de6b133",
   "metadata": {},
   "outputs": [
    {
     "name": "stdout",
     "output_type": "stream",
     "text": [
      "This is true\n"
     ]
    }
   ],
   "source": [
    "x, y = 3, 12\n",
    "if x < y:\n",
    "    print('This is true')\n"
   ]
  },
  {
   "cell_type": "code",
   "execution_count": 23,
   "id": "6e80901d",
   "metadata": {},
   "outputs": [],
   "source": [
    "if x > y:\n",
    "    print('This is true')"
   ]
  },
  {
   "cell_type": "raw",
   "id": "91ac93f7",
   "metadata": {},
   "source": [
    "# Often times we want to do something if the first condition is false\n",
    "# here we use else keyword\n",
    "\n",
    "if cond is true:\n",
    "    do something\n",
    "else: \n",
    "    do something else"
   ]
  },
  {
   "cell_type": "code",
   "execution_count": 24,
   "id": "e9139c56",
   "metadata": {},
   "outputs": [
    {
     "name": "stdout",
     "output_type": "stream",
     "text": [
      "3 is less than 12\n"
     ]
    }
   ],
   "source": [
    "if x < y: \n",
    "    print(\"{} is less than {}\".format(x, y))\n",
    "else: \n",
    "    print(\"{} is not less than {}\".format(x, y))"
   ]
  },
  {
   "cell_type": "code",
   "execution_count": 25,
   "id": "0652b2e7",
   "metadata": {},
   "outputs": [
    {
     "name": "stdout",
     "output_type": "stream",
     "text": [
      "3 is not less than 12\n"
     ]
    }
   ],
   "source": [
    "if x > y: \n",
    "    print(\"{} is less than {}\".format(x, y))\n",
    "else: \n",
    "    print(\"{} is not less than {}\".format(x, y))"
   ]
  },
  {
   "cell_type": "code",
   "execution_count": 26,
   "id": "b65af300",
   "metadata": {},
   "outputs": [
    {
     "name": "stdout",
     "output_type": "stream",
     "text": [
      "This is true\n"
     ]
    }
   ],
   "source": [
    "# We can use booleans as well \n",
    "\n",
    "if True:\n",
    "    print(\"This is true\")\n",
    "else: \n",
    "    print(\"This is not true\")"
   ]
  },
  {
   "cell_type": "code",
   "execution_count": 27,
   "id": "02c2bca3",
   "metadata": {},
   "outputs": [
    {
     "name": "stdout",
     "output_type": "stream",
     "text": [
      "This is not true\n"
     ]
    }
   ],
   "source": [
    "if False:\n",
    "    print(\"This is true\")\n",
    "else: \n",
    "    print(\"This is not true\")"
   ]
  },
  {
   "cell_type": "markdown",
   "id": "b4c55afe",
   "metadata": {},
   "source": [
    "## Multiple choices with elif"
   ]
  },
  {
   "cell_type": "code",
   "execution_count": 30,
   "id": "ced84857",
   "metadata": {},
   "outputs": [],
   "source": [
    "w = 'one'\n"
   ]
  },
  {
   "cell_type": "code",
   "execution_count": 31,
   "id": "e5c90446",
   "metadata": {},
   "outputs": [
    {
     "name": "stdout",
     "output_type": "stream",
     "text": [
      "w is \"one\"\n"
     ]
    }
   ],
   "source": [
    "if w == 'one':\n",
    "    print('w is \"one\"')\n",
    "elif w=='two':\n",
    "    print('w is two')\n",
    "elif w == 'three':\n",
    "    print('w is three')\n",
    "else: \n",
    "    print('w is something else')"
   ]
  },
  {
   "cell_type": "code",
   "execution_count": null,
   "id": "c34a58c1",
   "metadata": {},
   "outputs": [],
   "source": []
  }
 ],
 "metadata": {
  "kernelspec": {
   "display_name": "Python 3",
   "language": "python",
   "name": "python3"
  },
  "language_info": {
   "codemirror_mode": {
    "name": "ipython",
    "version": 3
   },
   "file_extension": ".py",
   "mimetype": "text/x-python",
   "name": "python",
   "nbconvert_exporter": "python",
   "pygments_lexer": "ipython3",
   "version": "3.8.8"
  }
 },
 "nbformat": 4,
 "nbformat_minor": 5
}
