{
 "cells": [
  {
   "cell_type": "markdown",
   "id": "e29cd687",
   "metadata": {},
   "source": [
    "# Functions"
   ]
  },
  {
   "cell_type": "markdown",
   "id": "df6ac095",
   "metadata": {},
   "source": [
    "   * **The general syntax of creating a function**"
   ]
  },
  {
   "cell_type": "markdown",
   "id": "c05c6d2a",
   "metadata": {},
   "source": [
    "   * **Why would I create functions?**\n",
    "   \n",
    "   \n",
    "   * **Answer:** \n",
    "   \n",
    "        - **if you want to reuse the code**\n",
    "   \n",
    "        - **if you find yourself copy and paste**\n",
    "        \n",
    "        - **If you intend to extend your programming abilities**"
   ]
  },
  {
   "cell_type": "code",
   "execution_count": 4,
   "id": "41919669",
   "metadata": {},
   "outputs": [],
   "source": [
    "def func_name(arg1, agr2, /):\n",
    "    # Body of a function\n",
    "    pass\n"
   ]
  },
  {
   "cell_type": "code",
   "execution_count": 5,
   "id": "ed343091",
   "metadata": {},
   "outputs": [],
   "source": [
    "# Define the first function in python \n",
    "def my_func(): \n",
    "    print('Hello python!')"
   ]
  },
  {
   "cell_type": "code",
   "execution_count": 6,
   "id": "c055743e",
   "metadata": {},
   "outputs": [
    {
     "name": "stdout",
     "output_type": "stream",
     "text": [
      "Hello python!\n"
     ]
    }
   ],
   "source": [
    "# Calling a function\n",
    "my_func()"
   ]
  },
  {
   "cell_type": "code",
   "execution_count": 7,
   "id": "7c0784b7",
   "metadata": {},
   "outputs": [
    {
     "data": {
      "text/plain": [
       "<function __main__.my_func()>"
      ]
     },
     "execution_count": 7,
     "metadata": {},
     "output_type": "execute_result"
    }
   ],
   "source": [
    "my_func"
   ]
  },
  {
   "cell_type": "code",
   "execution_count": 8,
   "id": "ff0f0a47",
   "metadata": {},
   "outputs": [
    {
     "data": {
      "text/plain": [
       "function"
      ]
     },
     "execution_count": 8,
     "metadata": {},
     "output_type": "execute_result"
    }
   ],
   "source": [
    "type(my_func)"
   ]
  },
  {
   "cell_type": "code",
   "execution_count": 9,
   "id": "f378fc76",
   "metadata": {},
   "outputs": [
    {
     "name": "stdout",
     "output_type": "stream",
     "text": [
      "I am a function\n"
     ]
    }
   ],
   "source": [
    "# Create another function\n",
    "\n",
    "def call_myself(): \n",
    "    print(\"I am a function\")\n",
    "\n",
    "call_myself()"
   ]
  },
  {
   "cell_type": "markdown",
   "id": "33fd4c80",
   "metadata": {},
   "source": [
    "## Adding arguments "
   ]
  },
  {
   "cell_type": "code",
   "execution_count": 10,
   "id": "5688a0ef",
   "metadata": {},
   "outputs": [],
   "source": [
    "def test(num):\n",
    "    print('This number is:', num)"
   ]
  },
  {
   "cell_type": "code",
   "execution_count": 11,
   "id": "325f2d50",
   "metadata": {},
   "outputs": [
    {
     "ename": "TypeError",
     "evalue": "test() missing 1 required positional argument: 'num'",
     "output_type": "error",
     "traceback": [
      "\u001b[0;31m---------------------------------------------------------------------------\u001b[0m",
      "\u001b[0;31mTypeError\u001b[0m                                 Traceback (most recent call last)",
      "\u001b[0;32m<ipython-input-11-fbd55f77ab7c>\u001b[0m in \u001b[0;36m<module>\u001b[0;34m\u001b[0m\n\u001b[0;32m----> 1\u001b[0;31m \u001b[0mtest\u001b[0m\u001b[0;34m(\u001b[0m\u001b[0;34m)\u001b[0m\u001b[0;34m\u001b[0m\u001b[0;34m\u001b[0m\u001b[0m\n\u001b[0m",
      "\u001b[0;31mTypeError\u001b[0m: test() missing 1 required positional argument: 'num'"
     ]
    }
   ],
   "source": [
    "test()"
   ]
  },
  {
   "cell_type": "code",
   "execution_count": 12,
   "id": "1bb82a0b",
   "metadata": {},
   "outputs": [
    {
     "name": "stdout",
     "output_type": "stream",
     "text": [
      "This number is 12\n"
     ]
    }
   ],
   "source": [
    "test(12)"
   ]
  },
  {
   "cell_type": "code",
   "execution_count": 21,
   "id": "b3cd5dfd",
   "metadata": {},
   "outputs": [],
   "source": [
    "## More arguments\n",
    "\n",
    "def test2(num1, num2, num3):\n",
    "    print('My numbers are:', num1, num2, num3, sep = '|')"
   ]
  },
  {
   "cell_type": "code",
   "execution_count": 22,
   "id": "6efe614f",
   "metadata": {},
   "outputs": [
    {
     "name": "stdout",
     "output_type": "stream",
     "text": [
      "My numbers are:|12|34|56\n"
     ]
    }
   ],
   "source": [
    "test2(12, 34, 56)"
   ]
  },
  {
   "cell_type": "markdown",
   "id": "c631ec71",
   "metadata": {},
   "source": [
    "## Default arguments (Optional argument)"
   ]
  },
  {
   "cell_type": "code",
   "execution_count": 29,
   "id": "3e4cfc15",
   "metadata": {},
   "outputs": [],
   "source": [
    "def test3(num1, num2 = 33, num3 = 44): \n",
    "    print('My numbers are:', num1, num2, num3, sep = '|')"
   ]
  },
  {
   "cell_type": "code",
   "execution_count": 30,
   "id": "bb5796ce",
   "metadata": {},
   "outputs": [
    {
     "ename": "TypeError",
     "evalue": "test3() missing 1 required positional argument: 'num1'",
     "output_type": "error",
     "traceback": [
      "\u001b[0;31m---------------------------------------------------------------------------\u001b[0m",
      "\u001b[0;31mTypeError\u001b[0m                                 Traceback (most recent call last)",
      "\u001b[0;32m<ipython-input-30-5dea5f7ba8cb>\u001b[0m in \u001b[0;36m<module>\u001b[0;34m\u001b[0m\n\u001b[0;32m----> 1\u001b[0;31m \u001b[0mtest3\u001b[0m\u001b[0;34m(\u001b[0m\u001b[0;34m)\u001b[0m\u001b[0;34m\u001b[0m\u001b[0;34m\u001b[0m\u001b[0m\n\u001b[0m",
      "\u001b[0;31mTypeError\u001b[0m: test3() missing 1 required positional argument: 'num1'"
     ]
    }
   ],
   "source": [
    "test3()"
   ]
  },
  {
   "cell_type": "code",
   "execution_count": 31,
   "id": "8882e036",
   "metadata": {},
   "outputs": [
    {
     "name": "stdout",
     "output_type": "stream",
     "text": [
      "My numbers are:|22|33|44\n"
     ]
    }
   ],
   "source": [
    "test3(22)"
   ]
  },
  {
   "cell_type": "code",
   "execution_count": 32,
   "id": "b53beea5",
   "metadata": {},
   "outputs": [
    {
     "name": "stdout",
     "output_type": "stream",
     "text": [
      "My numbers are:|22|100|44\n"
     ]
    }
   ],
   "source": [
    "test3(22, 100)"
   ]
  },
  {
   "cell_type": "code",
   "execution_count": 28,
   "id": "b41aeb09",
   "metadata": {},
   "outputs": [
    {
     "name": "stdout",
     "output_type": "stream",
     "text": [
      "My numbers are:|22|100|200\n"
     ]
    }
   ],
   "source": [
    "test3(22, 100, 200)"
   ]
  },
  {
   "cell_type": "markdown",
   "id": "aca5ba24",
   "metadata": {},
   "source": [
    "### None   \n",
    "   * **If you don't want to have a default value but you still want the parameter to be optional, then you can assign it to the value None**. "
   ]
  },
  {
   "cell_type": "code",
   "execution_count": 35,
   "id": "7f028101",
   "metadata": {},
   "outputs": [],
   "source": [
    "def test4(num1, num2 = None, num3 = 44): \n",
    "    print('My numbers are:', num1, num2, num3, sep = '|')"
   ]
  },
  {
   "cell_type": "code",
   "execution_count": 36,
   "id": "a7bbee78",
   "metadata": {},
   "outputs": [
    {
     "name": "stdout",
     "output_type": "stream",
     "text": [
      "My numbers are:|22|None|44\n"
     ]
    }
   ],
   "source": [
    "test4(22)"
   ]
  },
  {
   "cell_type": "code",
   "execution_count": 37,
   "id": "93e0ce47",
   "metadata": {},
   "outputs": [
    {
     "name": "stdout",
     "output_type": "stream",
     "text": [
      "My numbers are:|22|333|44\n"
     ]
    }
   ],
   "source": [
    "test4(22, 333)"
   ]
  },
  {
   "cell_type": "markdown",
   "id": "757fc443",
   "metadata": {},
   "source": [
    "### Why None\n",
    "\n",
    "   * **It is useful in many cases because you can test for it**"
   ]
  },
  {
   "cell_type": "code",
   "execution_count": 38,
   "id": "a20e2c6c",
   "metadata": {},
   "outputs": [],
   "source": [
    "def test5(num1, num2 = None, num3 = 44): \n",
    "    if num2 is None:\n",
    "        num2 = 889\n",
    "    print('My numbers are:', num1, num2, num3, sep = '|')"
   ]
  },
  {
   "cell_type": "code",
   "execution_count": 39,
   "id": "5449051f",
   "metadata": {},
   "outputs": [
    {
     "name": "stdout",
     "output_type": "stream",
     "text": [
      "My numbers are:|2|889|44\n"
     ]
    }
   ],
   "source": [
    "test5(2)"
   ]
  },
  {
   "cell_type": "code",
   "execution_count": 40,
   "id": "760f9259",
   "metadata": {},
   "outputs": [
    {
     "name": "stdout",
     "output_type": "stream",
     "text": [
      "My numbers are:|101|202|44\n"
     ]
    }
   ],
   "source": [
    "test5(101, 202)"
   ]
  },
  {
   "cell_type": "markdown",
   "id": "6a311f4f",
   "metadata": {},
   "source": [
    "## Longer programs"
   ]
  },
  {
   "cell_type": "code",
   "execution_count": 33,
   "id": "56aa4dab",
   "metadata": {},
   "outputs": [
    {
     "name": "stdout",
     "output_type": "stream",
     "text": [
      "I am a function\n"
     ]
    }
   ],
   "source": [
    "## the main function\n",
    "def main(): \n",
    "    print_me()\n",
    "def print_me():\n",
    "    print('I am a function')\n",
    "    \n",
    "if __name__ == \"__main__\":\n",
    "    main()"
   ]
  },
  {
   "cell_type": "markdown",
   "id": "20149b16",
   "metadata": {},
   "source": [
    "## Returning values\n",
    "\n",
    "   * **return keyword**"
   ]
  },
  {
   "cell_type": "code",
   "execution_count": 41,
   "id": "3dda708e",
   "metadata": {},
   "outputs": [],
   "source": [
    "def my_func(): \n",
    "    return(\"I am a function\")"
   ]
  },
  {
   "cell_type": "code",
   "execution_count": 42,
   "id": "166a19a9",
   "metadata": {},
   "outputs": [
    {
     "data": {
      "text/plain": [
       "'I am a function'"
      ]
     },
     "execution_count": 42,
     "metadata": {},
     "output_type": "execute_result"
    }
   ],
   "source": [
    "my_func()"
   ]
  },
  {
   "cell_type": "code",
   "execution_count": 47,
   "id": "d6f043f9",
   "metadata": {},
   "outputs": [
    {
     "data": {
      "text/plain": [
       "9"
      ]
     },
     "execution_count": 47,
     "metadata": {},
     "output_type": "execute_result"
    }
   ],
   "source": [
    "def square(x):\n",
    "    return x**2\n",
    "square(3)"
   ]
  },
  {
   "cell_type": "code",
   "execution_count": 48,
   "id": "befa140b",
   "metadata": {},
   "outputs": [
    {
     "name": "stdout",
     "output_type": "stream",
     "text": [
      "12\n"
     ]
    }
   ],
   "source": [
    "# Why return \n",
    "# Let us try this example\n",
    "print(12)"
   ]
  },
  {
   "cell_type": "code",
   "execution_count": 49,
   "id": "0c61ea28",
   "metadata": {},
   "outputs": [
    {
     "name": "stdout",
     "output_type": "stream",
     "text": [
      "12\n",
      "None\n"
     ]
    }
   ],
   "source": [
    "# Let us assign the result of print to a variable\n",
    "\n",
    "res = print(12)\n",
    "print(res)"
   ]
  },
  {
   "cell_type": "code",
   "execution_count": 50,
   "id": "d018515e",
   "metadata": {},
   "outputs": [
    {
     "name": "stdout",
     "output_type": "stream",
     "text": [
      "4\n"
     ]
    }
   ],
   "source": [
    "# But with square function \n",
    "x = square(2)\n",
    "print(x)"
   ]
  },
  {
   "cell_type": "code",
   "execution_count": null,
   "id": "092f3329",
   "metadata": {},
   "outputs": [],
   "source": []
  }
 ],
 "metadata": {
  "kernelspec": {
   "display_name": "Python 3",
   "language": "python",
   "name": "python3"
  },
  "language_info": {
   "codemirror_mode": {
    "name": "ipython",
    "version": 3
   },
   "file_extension": ".py",
   "mimetype": "text/x-python",
   "name": "python",
   "nbconvert_exporter": "python",
   "pygments_lexer": "ipython3",
   "version": "3.8.8"
  }
 },
 "nbformat": 4,
 "nbformat_minor": 5
}
