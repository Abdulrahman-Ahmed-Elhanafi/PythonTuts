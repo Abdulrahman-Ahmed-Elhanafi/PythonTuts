{
 "cells": [
  {
   "cell_type": "markdown",
   "id": "0be9ff3b",
   "metadata": {},
   "source": [
    "# Decalaring Variables"
   ]
  },
  {
   "cell_type": "markdown",
   "id": "5734af87",
   "metadata": {},
   "source": [
    "### Everything in python is an object"
   ]
  },
  {
   "cell_type": "markdown",
   "id": "db860d8c",
   "metadata": {},
   "source": [
    "1. A variable holds a piece of information\n",
    "2. Every object in python has an ID, type, and a value\n",
    "\n",
    "        * The ID: is unique for every instance of an object\n",
    "        * Type: Indentifies the class of an object, or the category which it belongs to\n",
    "        * Value: is the content of the object\n",
    "        "
   ]
  },
  {
   "cell_type": "markdown",
   "id": "54456522",
   "metadata": {},
   "source": [
    "### Two concepts must be mastered first\n",
    "\n",
    "    1. Mutable object: can change their value\n",
    "    2. Immutable object: cannot change their value"
   ]
  },
  {
   "cell_type": "markdown",
   "id": "d178470e",
   "metadata": {},
   "source": [
    "## Variables 01: Strings ( or text)"
   ]
  },
  {
   "cell_type": "code",
   "execution_count": 18,
   "id": "9fbd1fa0",
   "metadata": {},
   "outputs": [
    {
     "name": "stdout",
     "output_type": "stream",
     "text": [
      "x\n",
      "x\n"
     ]
    }
   ],
   "source": [
    "a = 'x'      \n",
    "# Or \n",
    "a = \"x\"\n",
    "print(a)\n",
    "print(a)\n",
    "## Use single or double quotes with strings\n"
   ]
  },
  {
   "cell_type": "markdown",
   "id": "164d0d97",
   "metadata": {},
   "source": [
    "## Concepts:\n",
    "    * x is a variable, or in python parlance (Object)\n",
    "    * '=' is the assignment operator\n",
    "    * 'A' is the value or the information the variable holds"
   ]
  },
  {
   "cell_type": "markdown",
   "id": "4dfa18e9",
   "metadata": {},
   "source": [
    "#### Note: Variable names are case sensitive; thus, saad is different than Saad "
   ]
  },
  {
   "cell_type": "code",
   "execution_count": 19,
   "id": "cd41ab0a",
   "metadata": {},
   "outputs": [
    {
     "data": {
      "text/plain": [
       "('x', 'x')"
      ]
     },
     "execution_count": 19,
     "metadata": {},
     "output_type": "execute_result"
    }
   ],
   "source": [
    "B = 'x' \n",
    "b = 'x'\n",
    "# two different variables refer to the same object\n",
    "B, b"
   ]
  },
  {
   "cell_type": "markdown",
   "id": "325725ac",
   "metadata": {},
   "source": [
    "## Checking the ID of string variables"
   ]
  },
  {
   "cell_type": "code",
   "execution_count": 20,
   "id": "6d3246e7",
   "metadata": {},
   "outputs": [
    {
     "data": {
      "text/plain": [
       "140200035997616"
      ]
     },
     "execution_count": 20,
     "metadata": {},
     "output_type": "execute_result"
    }
   ],
   "source": [
    "id(b)"
   ]
  },
  {
   "cell_type": "code",
   "execution_count": 21,
   "id": "94493c40",
   "metadata": {},
   "outputs": [
    {
     "data": {
      "text/plain": [
       "140200035997616"
      ]
     },
     "execution_count": 21,
     "metadata": {},
     "output_type": "execute_result"
    }
   ],
   "source": [
    "id(B)"
   ]
  },
  {
   "cell_type": "markdown",
   "id": "5edeb578",
   "metadata": {},
   "source": [
    "**We that they have the same ID**"
   ]
  },
  {
   "cell_type": "code",
   "execution_count": 22,
   "id": "5b8e5aa0",
   "metadata": {},
   "outputs": [
    {
     "name": "stdout",
     "output_type": "stream",
     "text": [
      "140200125015472\n",
      "140200125015856\n"
     ]
    }
   ],
   "source": [
    "# But \n",
    "c = 'y'\n",
    "C = 'Y'\n",
    "print(id(c))\n",
    "print(id(C))"
   ]
  },
  {
   "cell_type": "markdown",
   "id": "5c83719a",
   "metadata": {},
   "source": [
    "## Checking the type"
   ]
  },
  {
   "cell_type": "code",
   "execution_count": 23,
   "id": "c39253bd",
   "metadata": {},
   "outputs": [
    {
     "data": {
      "text/plain": [
       "str"
      ]
     },
     "execution_count": 23,
     "metadata": {},
     "output_type": "execute_result"
    }
   ],
   "source": [
    "type(a)\n",
    "type(b)\n",
    "type(c)\n"
   ]
  },
  {
   "cell_type": "markdown",
   "id": "4d3fbf8f",
   "metadata": {},
   "source": [
    "## Words "
   ]
  },
  {
   "cell_type": "code",
   "execution_count": 24,
   "id": "43f3b12f",
   "metadata": {},
   "outputs": [
    {
     "data": {
      "text/plain": [
       "'Python'"
      ]
     },
     "execution_count": 24,
     "metadata": {},
     "output_type": "execute_result"
    }
   ],
   "source": [
    "wrd_1 = \"Python\"\n",
    "wrd_1"
   ]
  },
  {
   "cell_type": "code",
   "execution_count": 25,
   "id": "bbb02427",
   "metadata": {},
   "outputs": [
    {
     "data": {
      "text/plain": [
       "str"
      ]
     },
     "execution_count": 25,
     "metadata": {},
     "output_type": "execute_result"
    }
   ],
   "source": [
    "type(wrd_1)"
   ]
  },
  {
   "cell_type": "markdown",
   "id": "9aaa6b4b",
   "metadata": {},
   "source": [
    "## Sentences "
   ]
  },
  {
   "cell_type": "code",
   "execution_count": 27,
   "id": "57ea40e0",
   "metadata": {},
   "outputs": [
    {
     "name": "stdout",
     "output_type": "stream",
     "text": [
      "I love python\n"
     ]
    }
   ],
   "source": [
    "sent = \"I love python\"\n",
    "print(sent)"
   ]
  },
  {
   "cell_type": "code",
   "execution_count": 28,
   "id": "a62a80c1",
   "metadata": {},
   "outputs": [
    {
     "data": {
      "text/plain": [
       "str"
      ]
     },
     "execution_count": 28,
     "metadata": {},
     "output_type": "execute_result"
    }
   ],
   "source": [
    "type(sent)"
   ]
  },
  {
   "cell_type": "markdown",
   "id": "9b3cfe94",
   "metadata": {},
   "source": [
    "# The str() function "
   ]
  },
  {
   "cell_type": "code",
   "execution_count": 33,
   "id": "61fb3e22",
   "metadata": {},
   "outputs": [
    {
     "data": {
      "text/plain": [
       "'1'"
      ]
     },
     "execution_count": 33,
     "metadata": {},
     "output_type": "execute_result"
    }
   ],
   "source": [
    "## str() function converts the object into string type\n",
    "# help(str) for more information\n",
    "str(1)"
   ]
  },
  {
   "cell_type": "code",
   "execution_count": 34,
   "id": "d8a151ac",
   "metadata": {},
   "outputs": [
    {
     "data": {
      "text/plain": [
       "'102'"
      ]
     },
     "execution_count": 34,
     "metadata": {},
     "output_type": "execute_result"
    }
   ],
   "source": [
    "str(102)"
   ]
  },
  {
   "cell_type": "markdown",
   "id": "c3169c51",
   "metadata": {},
   "source": [
    "## Checking the methods of str  type"
   ]
  },
  {
   "cell_type": "code",
   "execution_count": 36,
   "id": "269fdd0e",
   "metadata": {},
   "outputs": [
    {
     "name": "stdout",
     "output_type": "stream",
     "text": [
      "['capitalize', 'casefold', 'center', 'count', 'encode', 'endswith', 'expandtabs', 'find', 'format', 'index', 'isalnum', 'isalpha', 'isascii', 'isdecimal', 'isdigit', 'isidentifier', 'islower', 'isnumeric', 'isprintable', 'isspace', 'istitle', 'isupper', 'join', 'ljust', 'lower', 'lstrip', 'maketrans', 'partition', 'replace', 'rfind', 'rindex', 'rjust', 'rpartition', 'rsplit', 'rstrip', 'split', 'splitlines', 'startswith', 'strip', 'swapcase', 'title', 'translate', 'upper', 'zfill']\n"
     ]
    }
   ],
   "source": [
    "print([meth for meth in(dir(str)) if '__' and '_' not in meth])"
   ]
  },
  {
   "cell_type": "markdown",
   "id": "6f833521",
   "metadata": {},
   "source": [
    "## Examples of string methods\n"
   ]
  },
  {
   "cell_type": "code",
   "execution_count": 37,
   "id": "5d045556",
   "metadata": {},
   "outputs": [
    {
     "data": {
      "text/plain": [
       "'MY NAME IS PYTHON'"
      ]
     },
     "execution_count": 37,
     "metadata": {},
     "output_type": "execute_result"
    }
   ],
   "source": [
    "## upper method\n",
    "l_str = 'my name is python' \n",
    "l_str.upper()\n"
   ]
  },
  {
   "cell_type": "code",
   "execution_count": 38,
   "id": "297fe7cc",
   "metadata": {},
   "outputs": [
    {
     "data": {
      "text/plain": [
       "'MY NAME IS PYTHON'"
      ]
     },
     "execution_count": 38,
     "metadata": {},
     "output_type": "execute_result"
    }
   ],
   "source": [
    "# save the upper to an object\n",
    "up_str = l_str.upper()\n",
    "up_str"
   ]
  },
  {
   "cell_type": "code",
   "execution_count": 39,
   "id": "6fff24c1",
   "metadata": {},
   "outputs": [
    {
     "data": {
      "text/plain": [
       "'my name is python'"
      ]
     },
     "execution_count": 39,
     "metadata": {},
     "output_type": "execute_result"
    }
   ],
   "source": [
    "## lower method\n",
    "up_str.lower()"
   ]
  },
  {
   "cell_type": "markdown",
   "id": "ba759edb",
   "metadata": {},
   "source": [
    "# The important thing is that we access the class methods using the dot (.) operator"
   ]
  },
  {
   "cell_type": "markdown",
   "id": "e1255c7a",
   "metadata": {},
   "source": [
    "## Other methods Examples\n"
   ]
  },
  {
   "cell_type": "code",
   "execution_count": 49,
   "id": "09bb322a",
   "metadata": {},
   "outputs": [
    {
     "data": {
      "text/plain": [
       "2"
      ]
     },
     "execution_count": 49,
     "metadata": {},
     "output_type": "execute_result"
    }
   ],
   "source": [
    "msg = 'I love python'\n",
    "msg.count('o')"
   ]
  },
  {
   "cell_type": "code",
   "execution_count": 50,
   "id": "f1db7bf6",
   "metadata": {},
   "outputs": [
    {
     "data": {
      "text/plain": [
       "['I', 'love', 'python']"
      ]
     },
     "execution_count": 50,
     "metadata": {},
     "output_type": "execute_result"
    }
   ],
   "source": [
    "msg.split() "
   ]
  },
  {
   "cell_type": "markdown",
   "id": "53234ffb",
   "metadata": {},
   "source": [
    "## Practice\n",
    "    1. create three variables holding one character\n",
    "    2. create three words\n",
    "    3. create three sentences\n",
    "    4. check the type and the ID of each variable\n",
    "    5. lower the case of an uppercase string variable\n",
    "    6. upper the case of a lowercase string variable"
   ]
  },
  {
   "cell_type": "code",
   "execution_count": null,
   "id": "8270010f",
   "metadata": {},
   "outputs": [],
   "source": []
  },
  {
   "cell_type": "code",
   "execution_count": null,
   "id": "c4b518cf",
   "metadata": {},
   "outputs": [],
   "source": []
  },
  {
   "cell_type": "code",
   "execution_count": null,
   "id": "ddb9e03a",
   "metadata": {},
   "outputs": [],
   "source": []
  },
  {
   "cell_type": "code",
   "execution_count": null,
   "id": "6e6de4fc",
   "metadata": {},
   "outputs": [],
   "source": []
  },
  {
   "cell_type": "markdown",
   "id": "2f19c2da",
   "metadata": {},
   "source": [
    "## Numbers"
   ]
  },
  {
   "cell_type": "code",
   "execution_count": 55,
   "id": "dcfd12b5",
   "metadata": {},
   "outputs": [
    {
     "data": {
      "text/plain": [
       "12"
      ]
     },
     "execution_count": 55,
     "metadata": {},
     "output_type": "execute_result"
    }
   ],
   "source": [
    "x = 12\n",
    "x"
   ]
  },
  {
   "cell_type": "code",
   "execution_count": 56,
   "id": "21f8c678",
   "metadata": {},
   "outputs": [
    {
     "data": {
      "text/plain": [
       "int"
      ]
     },
     "execution_count": 56,
     "metadata": {},
     "output_type": "execute_result"
    }
   ],
   "source": [
    "# Checking the type\n",
    "type(x)"
   ]
  },
  {
   "cell_type": "code",
   "execution_count": 57,
   "id": "ad35010f",
   "metadata": {},
   "outputs": [
    {
     "name": "stdout",
     "output_type": "stream",
     "text": [
      "<class 'int'>\n"
     ]
    }
   ],
   "source": [
    "print(type(x))"
   ]
  },
  {
   "cell_type": "code",
   "execution_count": 58,
   "id": "dca49aab",
   "metadata": {},
   "outputs": [
    {
     "name": "stdout",
     "output_type": "stream",
     "text": [
      "<class 'float'>\n"
     ]
    }
   ],
   "source": [
    "# Another variable \n",
    "y = 1.2\n",
    "print(type(y))"
   ]
  },
  {
   "cell_type": "markdown",
   "id": "de5d62d2",
   "metadata": {},
   "source": [
    "## Real Examples with numbers"
   ]
  },
  {
   "cell_type": "code",
   "execution_count": 66,
   "id": "a7e35307",
   "metadata": {},
   "outputs": [
    {
     "name": "stdout",
     "output_type": "stream",
     "text": [
      "25\n"
     ]
    }
   ],
   "source": [
    "age = 25\n",
    "print(age)"
   ]
  },
  {
   "cell_type": "code",
   "execution_count": 67,
   "id": "2fba4597",
   "metadata": {},
   "outputs": [],
   "source": [
    "height = 1.78\n",
    "weight = 67.95"
   ]
  },
  {
   "cell_type": "code",
   "execution_count": 68,
   "id": "dfeb7cdf",
   "metadata": {},
   "outputs": [
    {
     "name": "stdout",
     "output_type": "stream",
     "text": [
      "1.78\n",
      "67.95\n"
     ]
    }
   ],
   "source": [
    "print(height)\n",
    "print(weight)"
   ]
  },
  {
   "cell_type": "markdown",
   "id": "ff7342fb",
   "metadata": {},
   "source": [
    "## int() and float() function\n",
    "\n",
    "    . If you want to change the type of number you can use int() to convert a float number into an integer\n",
    "    . Or you can convert an integer into a float"
   ]
  },
  {
   "cell_type": "code",
   "execution_count": 69,
   "id": "509c4de1",
   "metadata": {},
   "outputs": [
    {
     "data": {
      "text/plain": [
       "23"
      ]
     },
     "execution_count": 69,
     "metadata": {},
     "output_type": "execute_result"
    }
   ],
   "source": [
    "myInt = 23\n",
    "myInt"
   ]
  },
  {
   "cell_type": "code",
   "execution_count": 73,
   "id": "a9dead64",
   "metadata": {},
   "outputs": [
    {
     "data": {
      "text/plain": [
       "23.0"
      ]
     },
     "execution_count": 73,
     "metadata": {},
     "output_type": "execute_result"
    }
   ],
   "source": [
    "myFloat = float(myInt)\n",
    "myFloat"
   ]
  },
  {
   "cell_type": "code",
   "execution_count": 74,
   "id": "000e7274",
   "metadata": {},
   "outputs": [
    {
     "data": {
      "text/plain": [
       "float"
      ]
     },
     "execution_count": 74,
     "metadata": {},
     "output_type": "execute_result"
    }
   ],
   "source": [
    "type(myFloat)"
   ]
  },
  {
   "cell_type": "code",
   "execution_count": 75,
   "id": "87e2670b",
   "metadata": {},
   "outputs": [],
   "source": [
    "## Convert the float into integer"
   ]
  },
  {
   "cell_type": "code",
   "execution_count": 76,
   "id": "fc6ba00c",
   "metadata": {},
   "outputs": [],
   "source": [
    "floatToInt = 12.4"
   ]
  },
  {
   "cell_type": "code",
   "execution_count": 77,
   "id": "00a34557",
   "metadata": {},
   "outputs": [
    {
     "data": {
      "text/plain": [
       "12"
      ]
     },
     "execution_count": 77,
     "metadata": {},
     "output_type": "execute_result"
    }
   ],
   "source": [
    "int(floatToInt)"
   ]
  },
  {
   "cell_type": "markdown",
   "id": "1ec5ed36",
   "metadata": {},
   "source": [
    "    **You have to be careful of converting from float to int, because you may lose information**"
   ]
  },
  {
   "cell_type": "code",
   "execution_count": 78,
   "id": "1cf3753d",
   "metadata": {},
   "outputs": [],
   "source": [
    "### Checking the methods for ints and floats \n"
   ]
  },
  {
   "cell_type": "code",
   "execution_count": 79,
   "id": "455bd228",
   "metadata": {},
   "outputs": [
    {
     "name": "stdout",
     "output_type": "stream",
     "text": [
      "['conjugate', 'denominator', 'imag', 'numerator', 'real']\n"
     ]
    }
   ],
   "source": [
    "print([meth for meth in(dir(int)) if '__' and '_' not in meth])"
   ]
  },
  {
   "cell_type": "code",
   "execution_count": 80,
   "id": "ba6e9451",
   "metadata": {},
   "outputs": [
    {
     "name": "stdout",
     "output_type": "stream",
     "text": [
      "['conjugate', 'fromhex', 'hex', 'imag', 'real']\n"
     ]
    }
   ],
   "source": [
    "print([meth for meth in(dir(float)) if '__' and '_' not in meth])"
   ]
  },
  {
   "cell_type": "markdown",
   "id": "a4a1c75e",
   "metadata": {},
   "source": [
    "## Practice with numbers\n",
    "    1. Create three integers and check the type and the id \n",
    "    2. Create three floats and check the type and the id\n",
    "    3. Convert an integer into a float\n",
    "    4. Convert a float into an integer"
   ]
  },
  {
   "cell_type": "code",
   "execution_count": null,
   "id": "e934549d",
   "metadata": {},
   "outputs": [],
   "source": []
  },
  {
   "cell_type": "code",
   "execution_count": null,
   "id": "d51be47f",
   "metadata": {},
   "outputs": [],
   "source": []
  },
  {
   "cell_type": "code",
   "execution_count": null,
   "id": "31f23bb1",
   "metadata": {},
   "outputs": [],
   "source": []
  },
  {
   "cell_type": "code",
   "execution_count": null,
   "id": "9a0c8f22",
   "metadata": {},
   "outputs": [],
   "source": []
  },
  {
   "cell_type": "markdown",
   "id": "70c5db28",
   "metadata": {},
   "source": [
    "### Note, I was using two different styles. The ChamelCase and underscore, this is not a good practice. Choose only one style of writing code and stick to it. I will use underscore from now on. "
   ]
  },
  {
   "cell_type": "markdown",
   "id": "4e3ca020",
   "metadata": {},
   "source": [
    "# Lists"
   ]
  },
  {
   "cell_type": "markdown",
   "id": "15c87ce8",
   "metadata": {},
   "source": [
    "### Lists are mutable, means they can change their values\n",
    "\n",
    "    1. Creating lists using []"
   ]
  },
  {
   "cell_type": "code",
   "execution_count": 81,
   "id": "310b0df4",
   "metadata": {},
   "outputs": [
    {
     "data": {
      "text/plain": [
       "['A', 'B', 'C']"
      ]
     },
     "execution_count": 81,
     "metadata": {},
     "output_type": "execute_result"
    }
   ],
   "source": [
    "my_list1 = ['A', 'B', 'C']\n",
    "my_list1"
   ]
  },
  {
   "cell_type": "code",
   "execution_count": 82,
   "id": "8671ecdf",
   "metadata": {},
   "outputs": [
    {
     "name": "stdout",
     "output_type": "stream",
     "text": [
      "<class 'list'>\n"
     ]
    }
   ],
   "source": [
    "print(type(my_list))"
   ]
  },
  {
   "cell_type": "code",
   "execution_count": 83,
   "id": "aaa03cac",
   "metadata": {},
   "outputs": [
    {
     "data": {
      "text/plain": [
       "[1, 4, 7]"
      ]
     },
     "execution_count": 83,
     "metadata": {},
     "output_type": "execute_result"
    }
   ],
   "source": [
    "my_list2 = [1, 4, 7]\n",
    "my_list2"
   ]
  },
  {
   "cell_type": "code",
   "execution_count": 84,
   "id": "73a47d67",
   "metadata": {},
   "outputs": [
    {
     "data": {
      "text/plain": [
       "['Python', 12, 93.7]"
      ]
     },
     "execution_count": 84,
     "metadata": {},
     "output_type": "execute_result"
    }
   ],
   "source": [
    "my_list3 = ['Python', 12, 93.7]\n",
    "my_list3"
   ]
  },
  {
   "cell_type": "markdown",
   "id": "0b8274ee",
   "metadata": {},
   "source": [
    "## len() function for the length of a list"
   ]
  },
  {
   "cell_type": "code",
   "execution_count": 85,
   "id": "ea6ec36d",
   "metadata": {},
   "outputs": [
    {
     "data": {
      "text/plain": [
       "3"
      ]
     },
     "execution_count": 85,
     "metadata": {},
     "output_type": "execute_result"
    }
   ],
   "source": [
    "len(my_list3)"
   ]
  },
  {
   "cell_type": "code",
   "execution_count": 87,
   "id": "1d2c87dc",
   "metadata": {},
   "outputs": [
    {
     "data": {
      "text/plain": [
       "6"
      ]
     },
     "execution_count": 87,
     "metadata": {},
     "output_type": "execute_result"
    }
   ],
   "source": [
    "## Check the length of a word\n",
    "len('python')"
   ]
  },
  {
   "cell_type": "markdown",
   "id": "20d051a3",
   "metadata": {},
   "source": [
    "### Creating lists using list() function"
   ]
  },
  {
   "cell_type": "code",
   "execution_count": 89,
   "id": "2988015e",
   "metadata": {},
   "outputs": [
    {
     "data": {
      "text/plain": [
       "['P', 'y', 't', 'h', 'o', 'n']"
      ]
     },
     "execution_count": 89,
     "metadata": {},
     "output_type": "execute_result"
    }
   ],
   "source": [
    "my_word = 'Python'\n",
    "wort_to_list = list(my_word)\n",
    "wort_to_list"
   ]
  },
  {
   "cell_type": "markdown",
   "id": "686f8bee",
   "metadata": {},
   "source": [
    "## The methods of lists"
   ]
  },
  {
   "cell_type": "code",
   "execution_count": 88,
   "id": "aa772e90",
   "metadata": {},
   "outputs": [
    {
     "name": "stdout",
     "output_type": "stream",
     "text": [
      "['append', 'clear', 'copy', 'count', 'extend', 'index', 'insert', 'pop', 'remove', 'reverse', 'sort']\n"
     ]
    }
   ],
   "source": [
    "print([meth for meth in(dir([])) if '__' and '_' not in meth])"
   ]
  },
  {
   "cell_type": "markdown",
   "id": "f417fb53",
   "metadata": {},
   "source": [
    "## Real Example\n",
    "\n",
    "    A father wants to store the names of his children using a list\n",
    "    He has two sons now"
   ]
  },
  {
   "cell_type": "code",
   "execution_count": 106,
   "id": "cf2cfcce",
   "metadata": {},
   "outputs": [],
   "source": [
    "baby_names = ['Ahmed', 'Omar']"
   ]
  },
  {
   "cell_type": "code",
   "execution_count": 107,
   "id": "0b169a1e",
   "metadata": {},
   "outputs": [
    {
     "data": {
      "text/plain": [
       "['Ahmed', 'Omar']"
      ]
     },
     "execution_count": 107,
     "metadata": {},
     "output_type": "execute_result"
    }
   ],
   "source": [
    "baby_names"
   ]
  },
  {
   "cell_type": "code",
   "execution_count": 108,
   "id": "6fb8d2d0",
   "metadata": {},
   "outputs": [],
   "source": [
    "## The family got a new baby\n"
   ]
  },
  {
   "cell_type": "code",
   "execution_count": 109,
   "id": "39c9ffe2",
   "metadata": {},
   "outputs": [
    {
     "data": {
      "text/plain": [
       "['Ahmed', 'Omar', 'Salim']"
      ]
     },
     "execution_count": 109,
     "metadata": {},
     "output_type": "execute_result"
    }
   ],
   "source": [
    "baby_names + ['Salim']"
   ]
  },
  {
   "cell_type": "markdown",
   "id": "7228d6ca",
   "metadata": {},
   "source": [
    "#### The list can have another element. we can add elements, remove or change. That what we mean by mutable"
   ]
  },
  {
   "cell_type": "markdown",
   "id": "5616fe1e",
   "metadata": {},
   "source": [
    "## Using some list methods"
   ]
  },
  {
   "cell_type": "markdown",
   "id": "89062d89",
   "metadata": {},
   "source": [
    "1. count"
   ]
  },
  {
   "cell_type": "code",
   "execution_count": 110,
   "id": "d050b54f",
   "metadata": {},
   "outputs": [
    {
     "data": {
      "text/plain": [
       "0"
      ]
     },
     "execution_count": 110,
     "metadata": {},
     "output_type": "execute_result"
    }
   ],
   "source": [
    "baby_names.count('Salim')"
   ]
  },
  {
   "cell_type": "markdown",
   "id": "a4dbfb19",
   "metadata": {},
   "source": [
    "2. append"
   ]
  },
  {
   "cell_type": "code",
   "execution_count": 112,
   "id": "069b69c8",
   "metadata": {},
   "outputs": [],
   "source": [
    "baby_names = ['Ahmed', 'Omar']\n",
    "baby_names.append('Salim')"
   ]
  },
  {
   "cell_type": "code",
   "execution_count": 113,
   "id": "87e34082",
   "metadata": {},
   "outputs": [
    {
     "data": {
      "text/plain": [
       "['Ahmed', 'Omar', 'Salim']"
      ]
     },
     "execution_count": 113,
     "metadata": {},
     "output_type": "execute_result"
    }
   ],
   "source": [
    "baby_names"
   ]
  },
  {
   "cell_type": "markdown",
   "id": "43b23258",
   "metadata": {},
   "source": [
    "## Practice\n",
    "\n",
    "    1. Create three lists \n",
    "    2. Create a list its elements are lists\n",
    "    3. Save the names of yours students as a list\n",
    "    4. Save the subjects you teach as a list\n",
    "    5. Think of other cases where lists are the choise for storing your objects "
   ]
  },
  {
   "cell_type": "code",
   "execution_count": null,
   "id": "97cafae0",
   "metadata": {},
   "outputs": [],
   "source": []
  }
 ],
 "metadata": {
  "kernelspec": {
   "display_name": "Python 3",
   "language": "python",
   "name": "python3"
  },
  "language_info": {
   "codemirror_mode": {
    "name": "ipython",
    "version": 3
   },
   "file_extension": ".py",
   "mimetype": "text/x-python",
   "name": "python",
   "nbconvert_exporter": "python",
   "pygments_lexer": "ipython3",
   "version": "3.8.8"
  }
 },
 "nbformat": 4,
 "nbformat_minor": 5
}
