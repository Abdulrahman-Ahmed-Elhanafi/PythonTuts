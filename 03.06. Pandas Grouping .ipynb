{
 "cells": [
  {
   "cell_type": "markdown",
   "id": "be3aeb4c",
   "metadata": {},
   "source": [
    "# Grouping and Aggregating with Pandas"
   ]
  },
  {
   "cell_type": "markdown",
   "id": "dd2ebacf",
   "metadata": {},
   "source": [
    "## Grouping and Aggregation:\n",
    "\n",
    "### Grouping: \n",
    "\n",
    "  - Mostly we are interested in information about groups not the whole population. Thus we need grouping\n",
    "\n",
    "  - **Grouping means putting a set of rows as a group based off of a column**\n",
    "  \n",
    "  - **Grouping is done with __groupby()__ method**\n",
    "  \n",
    "  - After grouping, an __aggregate function__ is applied on the groups\n",
    "  \n",
    "### Aggregation:\n",
    "\n",
    " - Aggregation refers to any data transformation that produces a single value from a list of numbers. \n",
    "\n",
    "### Agggregate Function\n",
    "\n",
    "  - A function that takes  __many values__ as an input and __returns one value__ as a result is called an **aggregate function**. i.e: __sum__, __mean__, __std__ are aggregate functions.\n",
    " \n",
    " - An aggregate function does not have to be a built-in function, it can be a user defined function as well."
   ]
  },
  {
   "cell_type": "markdown",
   "id": "526cbcdc",
   "metadata": {},
   "source": [
    "### Setting up the environment"
   ]
  },
  {
   "cell_type": "code",
   "execution_count": 1,
   "id": "8cb87943",
   "metadata": {},
   "outputs": [],
   "source": [
    "import pandas as pd\n",
    "import numpy as np\n",
    "from random import choices, seed, sample\n",
    "from IPython.display import display\n",
    "pd.options.display.float_format = '{:,.2f}'.format"
   ]
  },
  {
   "cell_type": "markdown",
   "id": "365caf1d",
   "metadata": {},
   "source": [
    "## Groupby Function\n",
    "\n",
    "   - __groupby__ method has a set of options:\n",
    "   \n",
    "      - __by__ argument, where you pass a cloumn-name or a list of column names to group by.\n",
    "   \n",
    "     - **axis**: By default, grouping takes place by rows (axis =0). For columns set axis to 1.\n",
    "     - **level**: This is useful for MultiIndex DataFrame, so grouping will occur by one or more levels. \n",
    "     - **sort**: True by default, which means the groups keys are in a sort order.\n",
    "     - **dropna**: True by default.\n",
    "for more information about groupby, check the documentation by typing ```pd.DataFrame.groupby?``` on jupyter notebook.\n",
    "\n",
    "The syntax:\n",
    "\n",
    "```python \n",
    "df.groupby(by='column-label')          ---> groups using the method defaults.\n",
    "# or multiple columns\n",
    "df.groupby(by=['col_1', 'col_2']). \n",
    "\n",
    "# for the docs \n",
    "pd.DataFrame.groupby? \n",
    "```\n",
    "\n",
    "\n",
    "- It is crucial to understand that __groupby()__ returns a DataFrameGroupBy object. Thus, when we apply only the __groupby__ without any aggregate function we will not see any output.\n",
    "\n",
    "\n",
    "- To get results, there are always at least two steps involved.\n",
    "\n",
    "   1. **Grouping**\n",
    "   2. **Applying aggregate functions**"
   ]
  },
  {
   "cell_type": "markdown",
   "id": "7b1cd66c",
   "metadata": {},
   "source": [
    "### DataFrame Example"
   ]
  },
  {
   "cell_type": "code",
   "execution_count": 2,
   "id": "284156c0",
   "metadata": {},
   "outputs": [
    {
     "data": {
      "text/html": [
       "<div>\n",
       "<style scoped>\n",
       "    .dataframe tbody tr th:only-of-type {\n",
       "        vertical-align: middle;\n",
       "    }\n",
       "\n",
       "    .dataframe tbody tr th {\n",
       "        vertical-align: top;\n",
       "    }\n",
       "\n",
       "    .dataframe thead th {\n",
       "        text-align: right;\n",
       "    }\n",
       "</style>\n",
       "<table border=\"1\" class=\"dataframe\">\n",
       "  <thead>\n",
       "    <tr style=\"text-align: right;\">\n",
       "      <th></th>\n",
       "      <th>Regions</th>\n",
       "      <th>Company</th>\n",
       "      <th>Quantity</th>\n",
       "    </tr>\n",
       "  </thead>\n",
       "  <tbody>\n",
       "    <tr>\n",
       "      <th>0</th>\n",
       "      <td>East</td>\n",
       "      <td>C1</td>\n",
       "      <td>1200</td>\n",
       "    </tr>\n",
       "    <tr>\n",
       "      <th>1</th>\n",
       "      <td>East</td>\n",
       "      <td>C2</td>\n",
       "      <td>3000</td>\n",
       "    </tr>\n",
       "    <tr>\n",
       "      <th>2</th>\n",
       "      <td>East</td>\n",
       "      <td>C3</td>\n",
       "      <td>2300</td>\n",
       "    </tr>\n",
       "    <tr>\n",
       "      <th>3</th>\n",
       "      <td>West</td>\n",
       "      <td>C1</td>\n",
       "      <td>5400</td>\n",
       "    </tr>\n",
       "    <tr>\n",
       "      <th>4</th>\n",
       "      <td>West</td>\n",
       "      <td>C3</td>\n",
       "      <td>2200</td>\n",
       "    </tr>\n",
       "    <tr>\n",
       "      <th>5</th>\n",
       "      <td>South</td>\n",
       "      <td>C4</td>\n",
       "      <td>1300</td>\n",
       "    </tr>\n",
       "    <tr>\n",
       "      <th>6</th>\n",
       "      <td>South</td>\n",
       "      <td>C2</td>\n",
       "      <td>2700</td>\n",
       "    </tr>\n",
       "    <tr>\n",
       "      <th>7</th>\n",
       "      <td>South</td>\n",
       "      <td>C3</td>\n",
       "      <td>6400</td>\n",
       "    </tr>\n",
       "    <tr>\n",
       "      <th>8</th>\n",
       "      <td>South</td>\n",
       "      <td>C1</td>\n",
       "      <td>7200</td>\n",
       "    </tr>\n",
       "    <tr>\n",
       "      <th>9</th>\n",
       "      <td>North</td>\n",
       "      <td>C2</td>\n",
       "      <td>10000</td>\n",
       "    </tr>\n",
       "  </tbody>\n",
       "</table>\n",
       "</div>"
      ],
      "text/plain": [
       "  Regions Company  Quantity\n",
       "0    East      C1      1200\n",
       "1    East      C2      3000\n",
       "2    East      C3      2300\n",
       "3    West      C1      5400\n",
       "4    West      C3      2200\n",
       "5   South      C4      1300\n",
       "6   South      C2      2700\n",
       "7   South      C3      6400\n",
       "8   South      C1      7200\n",
       "9   North      C2     10000"
      ]
     },
     "execution_count": 2,
     "metadata": {},
     "output_type": "execute_result"
    }
   ],
   "source": [
    "df = pd.DataFrame({'Regions':['East', 'East', 'East', 'West', 'West', \n",
    "                             'South', 'South', 'South', 'South', 'North'], \n",
    "                  'Company':['C1', 'C2', 'C3', 'C1', 'C3', 'C4', 'C2','C3', 'C1', 'C2'], \n",
    "                  'Quantity': [1200, 3000, 2300, 5400, 2200, 1300, 2700, 6400, 7200, \n",
    "                               10000]})\n",
    "df"
   ]
  },
  {
   "cell_type": "markdown",
   "id": "951c1e49",
   "metadata": {},
   "source": [
    "### Grouping Example: \n",
    "\n",
    "  - We are going to group by the regions column"
   ]
  },
  {
   "cell_type": "code",
   "execution_count": 3,
   "id": "574123f0",
   "metadata": {},
   "outputs": [
    {
     "data": {
      "text/plain": [
       "<pandas.core.groupby.generic.DataFrameGroupBy object at 0x7f89ef852cd0>"
      ]
     },
     "execution_count": 3,
     "metadata": {},
     "output_type": "execute_result"
    }
   ],
   "source": [
    "df.groupby('Regions')"
   ]
  },
  {
   "cell_type": "markdown",
   "id": "bedffe5f",
   "metadata": {},
   "source": [
    "Calling groupby on the regions column returned a DataFrameGroupBy object. Because it is an object, we would love to assign it to a name."
   ]
  },
  {
   "cell_type": "code",
   "execution_count": 4,
   "id": "71d4a04f",
   "metadata": {},
   "outputs": [],
   "source": [
    "by_region = df.groupby('Regions')"
   ]
  },
  {
   "cell_type": "code",
   "execution_count": 5,
   "id": "37ac366d",
   "metadata": {},
   "outputs": [
    {
     "data": {
      "text/plain": [
       "pandas.core.groupby.generic.DataFrameGroupBy"
      ]
     },
     "execution_count": 5,
     "metadata": {},
     "output_type": "execute_result"
    }
   ],
   "source": [
    "# Check the type\n",
    "type(by_region)"
   ]
  },
  {
   "cell_type": "markdown",
   "id": "ad23557c",
   "metadata": {},
   "source": [
    "As it's already mentioned, grouping is the first step to do calculations on each group. Thus, we need to apply an aggregate function to get results.\n",
    "\n",
    "However, a persong with an inquisitive mind always seeks to know how things work internally. If you are one of those people, this section is for you.\n",
    "\n",
    "**Grouping** in pandas follows a principle called **split-apply-combine**. You can think of it like this:\n",
    "\n",
    "   - Splitting the data into small subsets, each corresponds to a unique group defined by the key. \n",
    "    \n",
    "   - Applying an aggregate function on each subset.\n",
    "   - Combining the result of aggregation in a convenient object.\n",
    "   \n",
    "In order to have the full picture, a __groupBy__ object can be iterated over. But, first pass it to __list__ function to see its content"
   ]
  },
  {
   "cell_type": "code",
   "execution_count": 6,
   "id": "cada7699",
   "metadata": {},
   "outputs": [
    {
     "data": {
      "text/plain": [
       "[('East',\n",
       "    Regions Company  Quantity\n",
       "  0    East      C1      1200\n",
       "  1    East      C2      3000\n",
       "  2    East      C3      2300),\n",
       " ('North',\n",
       "    Regions Company  Quantity\n",
       "  9   North      C2     10000),\n",
       " ('South',\n",
       "    Regions Company  Quantity\n",
       "  5   South      C4      1300\n",
       "  6   South      C2      2700\n",
       "  7   South      C3      6400\n",
       "  8   South      C1      7200),\n",
       " ('West',\n",
       "    Regions Company  Quantity\n",
       "  3    West      C1      5400\n",
       "  4    West      C3      2200)]"
      ]
     },
     "execution_count": 6,
     "metadata": {},
     "output_type": "execute_result"
    }
   ],
   "source": [
    "list(by_region)"
   ]
  },
  {
   "cell_type": "code",
   "execution_count": 7,
   "id": "d22d8b84",
   "metadata": {},
   "outputs": [
    {
     "data": {
      "text/plain": [
       "('East',\n",
       "   Regions Company  Quantity\n",
       " 0    East      C1      1200\n",
       " 1    East      C2      3000\n",
       " 2    East      C3      2300)"
      ]
     },
     "execution_count": 7,
     "metadata": {},
     "output_type": "execute_result"
    }
   ],
   "source": [
    "list(by_region)[0]"
   ]
  },
  {
   "cell_type": "markdown",
   "id": "afc1d40b",
   "metadata": {},
   "source": [
    "We see it is a list of tuples, and each element of a tuple has two components, a name and the group data. So, the iteration will be like this:"
   ]
  },
  {
   "cell_type": "code",
   "execution_count": 8,
   "id": "9a92d712",
   "metadata": {},
   "outputs": [
    {
     "name": "stdout",
     "output_type": "stream",
     "text": [
      "East\n",
      "  Regions Company  Quantity\n",
      "0    East      C1      1200\n",
      "1    East      C2      3000\n",
      "2    East      C3      2300\n",
      "North\n",
      "  Regions Company  Quantity\n",
      "9   North      C2     10000\n",
      "South\n",
      "  Regions Company  Quantity\n",
      "5   South      C4      1300\n",
      "6   South      C2      2700\n",
      "7   South      C3      6400\n",
      "8   South      C1      7200\n",
      "West\n",
      "  Regions Company  Quantity\n",
      "3    West      C1      5400\n",
      "4    West      C3      2200\n"
     ]
    }
   ],
   "source": [
    "for name, group in by_region:\n",
    "    print(name)\n",
    "    print(group)"
   ]
  },
  {
   "cell_type": "markdown",
   "id": "86e9e233",
   "metadata": {},
   "source": [
    "What is the benefit of iterating over the **groupBy** object? One scenario is that you want to extract a certain group or more to do more anlysis. This can be achieved by converting the **groupedBy** object into a dict."
   ]
  },
  {
   "cell_type": "code",
   "execution_count": 9,
   "id": "d2d703fd",
   "metadata": {},
   "outputs": [
    {
     "data": {
      "text/plain": [
       "{'East':   Regions Company  Quantity\n",
       " 0    East      C1      1200\n",
       " 1    East      C2      3000\n",
       " 2    East      C3      2300,\n",
       " 'North':   Regions Company  Quantity\n",
       " 9   North      C2     10000,\n",
       " 'South':   Regions Company  Quantity\n",
       " 5   South      C4      1300\n",
       " 6   South      C2      2700\n",
       " 7   South      C3      6400\n",
       " 8   South      C1      7200,\n",
       " 'West':   Regions Company  Quantity\n",
       " 3    West      C1      5400\n",
       " 4    West      C3      2200}"
      ]
     },
     "execution_count": 9,
     "metadata": {},
     "output_type": "execute_result"
    }
   ],
   "source": [
    "pieces = dict(list(by_region))\n",
    "pieces"
   ]
  },
  {
   "cell_type": "code",
   "execution_count": 10,
   "id": "2c4bd8ba",
   "metadata": {},
   "outputs": [
    {
     "data": {
      "text/plain": [
       "dict_keys(['East', 'North', 'South', 'West'])"
      ]
     },
     "execution_count": 10,
     "metadata": {},
     "output_type": "execute_result"
    }
   ],
   "source": [
    "pieces.keys()"
   ]
  },
  {
   "cell_type": "markdown",
   "id": "21eb4f4a",
   "metadata": {},
   "source": [
    "Now we can have each group seperately, then decide what to do with it."
   ]
  },
  {
   "cell_type": "code",
   "execution_count": 11,
   "id": "33e8d0db",
   "metadata": {},
   "outputs": [
    {
     "data": {
      "text/html": [
       "<div>\n",
       "<style scoped>\n",
       "    .dataframe tbody tr th:only-of-type {\n",
       "        vertical-align: middle;\n",
       "    }\n",
       "\n",
       "    .dataframe tbody tr th {\n",
       "        vertical-align: top;\n",
       "    }\n",
       "\n",
       "    .dataframe thead th {\n",
       "        text-align: right;\n",
       "    }\n",
       "</style>\n",
       "<table border=\"1\" class=\"dataframe\">\n",
       "  <thead>\n",
       "    <tr style=\"text-align: right;\">\n",
       "      <th></th>\n",
       "      <th>Regions</th>\n",
       "      <th>Company</th>\n",
       "      <th>Quantity</th>\n",
       "    </tr>\n",
       "  </thead>\n",
       "  <tbody>\n",
       "    <tr>\n",
       "      <th>0</th>\n",
       "      <td>East</td>\n",
       "      <td>C1</td>\n",
       "      <td>1200</td>\n",
       "    </tr>\n",
       "    <tr>\n",
       "      <th>1</th>\n",
       "      <td>East</td>\n",
       "      <td>C2</td>\n",
       "      <td>3000</td>\n",
       "    </tr>\n",
       "    <tr>\n",
       "      <th>2</th>\n",
       "      <td>East</td>\n",
       "      <td>C3</td>\n",
       "      <td>2300</td>\n",
       "    </tr>\n",
       "  </tbody>\n",
       "</table>\n",
       "</div>"
      ],
      "text/plain": [
       "  Regions Company  Quantity\n",
       "0    East      C1      1200\n",
       "1    East      C2      3000\n",
       "2    East      C3      2300"
      ]
     },
     "execution_count": 11,
     "metadata": {},
     "output_type": "execute_result"
    }
   ],
   "source": [
    "east = pieces['East']\n",
    "east"
   ]
  },
  {
   "cell_type": "markdown",
   "id": "f0b7a8dc",
   "metadata": {},
   "source": [
    "We just extracted one group and saved as a DataFrame. This is the magic of the __groupby__ method. We did that manually; however, there is a __get_group__ and __groups__ methods to get information about the groups or retrieve the needed one."
   ]
  },
  {
   "cell_type": "code",
   "execution_count": 12,
   "id": "2915c4f8",
   "metadata": {},
   "outputs": [
    {
     "data": {
      "text/plain": [
       "{'East': [0, 1, 2], 'North': [9], 'South': [5, 6, 7, 8], 'West': [3, 4]}"
      ]
     },
     "execution_count": 12,
     "metadata": {},
     "output_type": "execute_result"
    }
   ],
   "source": [
    "by_region.groups"
   ]
  },
  {
   "cell_type": "code",
   "execution_count": 13,
   "id": "18b85880",
   "metadata": {},
   "outputs": [
    {
     "data": {
      "text/html": [
       "<div>\n",
       "<style scoped>\n",
       "    .dataframe tbody tr th:only-of-type {\n",
       "        vertical-align: middle;\n",
       "    }\n",
       "\n",
       "    .dataframe tbody tr th {\n",
       "        vertical-align: top;\n",
       "    }\n",
       "\n",
       "    .dataframe thead th {\n",
       "        text-align: right;\n",
       "    }\n",
       "</style>\n",
       "<table border=\"1\" class=\"dataframe\">\n",
       "  <thead>\n",
       "    <tr style=\"text-align: right;\">\n",
       "      <th></th>\n",
       "      <th>Regions</th>\n",
       "      <th>Company</th>\n",
       "      <th>Quantity</th>\n",
       "    </tr>\n",
       "  </thead>\n",
       "  <tbody>\n",
       "    <tr>\n",
       "      <th>5</th>\n",
       "      <td>South</td>\n",
       "      <td>C4</td>\n",
       "      <td>1300</td>\n",
       "    </tr>\n",
       "    <tr>\n",
       "      <th>6</th>\n",
       "      <td>South</td>\n",
       "      <td>C2</td>\n",
       "      <td>2700</td>\n",
       "    </tr>\n",
       "    <tr>\n",
       "      <th>7</th>\n",
       "      <td>South</td>\n",
       "      <td>C3</td>\n",
       "      <td>6400</td>\n",
       "    </tr>\n",
       "    <tr>\n",
       "      <th>8</th>\n",
       "      <td>South</td>\n",
       "      <td>C1</td>\n",
       "      <td>7200</td>\n",
       "    </tr>\n",
       "  </tbody>\n",
       "</table>\n",
       "</div>"
      ],
      "text/plain": [
       "  Regions Company  Quantity\n",
       "5   South      C4      1300\n",
       "6   South      C2      2700\n",
       "7   South      C3      6400\n",
       "8   South      C1      7200"
      ]
     },
     "execution_count": 13,
     "metadata": {},
     "output_type": "execute_result"
    }
   ],
   "source": [
    "south = by_region.get_group('South')\n",
    "south"
   ]
  },
  {
   "cell_type": "markdown",
   "id": "83838be3",
   "metadata": {},
   "source": [
    "## Applying aggregate functions Examples\n",
    "\n",
    "Suppose we want to know the average quantity by regions, or the sum, the minimux, the maximum ...etc. All these functions return one value for each group.\n",
    "\n",
    "### Mean Function Example"
   ]
  },
  {
   "cell_type": "code",
   "execution_count": 14,
   "id": "c3c77672",
   "metadata": {},
   "outputs": [
    {
     "data": {
      "text/html": [
       "<div>\n",
       "<style scoped>\n",
       "    .dataframe tbody tr th:only-of-type {\n",
       "        vertical-align: middle;\n",
       "    }\n",
       "\n",
       "    .dataframe tbody tr th {\n",
       "        vertical-align: top;\n",
       "    }\n",
       "\n",
       "    .dataframe thead th {\n",
       "        text-align: right;\n",
       "    }\n",
       "</style>\n",
       "<table border=\"1\" class=\"dataframe\">\n",
       "  <thead>\n",
       "    <tr style=\"text-align: right;\">\n",
       "      <th></th>\n",
       "      <th>Quantity</th>\n",
       "    </tr>\n",
       "    <tr>\n",
       "      <th>Regions</th>\n",
       "      <th></th>\n",
       "    </tr>\n",
       "  </thead>\n",
       "  <tbody>\n",
       "    <tr>\n",
       "      <th>East</th>\n",
       "      <td>2,166.67</td>\n",
       "    </tr>\n",
       "    <tr>\n",
       "      <th>North</th>\n",
       "      <td>10,000.00</td>\n",
       "    </tr>\n",
       "    <tr>\n",
       "      <th>South</th>\n",
       "      <td>4,400.00</td>\n",
       "    </tr>\n",
       "    <tr>\n",
       "      <th>West</th>\n",
       "      <td>3,800.00</td>\n",
       "    </tr>\n",
       "  </tbody>\n",
       "</table>\n",
       "</div>"
      ],
      "text/plain": [
       "         Quantity\n",
       "Regions          \n",
       "East     2,166.67\n",
       "North   10,000.00\n",
       "South    4,400.00\n",
       "West     3,800.00"
      ]
     },
     "execution_count": 14,
     "metadata": {},
     "output_type": "execute_result"
    }
   ],
   "source": [
    "by_region.mean()"
   ]
  },
  {
   "cell_type": "markdown",
   "id": "4ab42610",
   "metadata": {},
   "source": [
    "### Note:\n",
    "\n",
    "  - After grouping, the column we group by becomes and index. we see that by the __indicies__ attribute."
   ]
  },
  {
   "cell_type": "code",
   "execution_count": 15,
   "id": "3f94aae7",
   "metadata": {},
   "outputs": [
    {
     "data": {
      "text/plain": [
       "{'East': array([0, 1, 2]),\n",
       " 'North': array([9]),\n",
       " 'South': array([5, 6, 7, 8]),\n",
       " 'West': array([3, 4])}"
      ]
     },
     "execution_count": 15,
     "metadata": {},
     "output_type": "execute_result"
    }
   ],
   "source": [
    "by_region.indices"
   ]
  },
  {
   "cell_type": "markdown",
   "id": "2990df2f",
   "metadata": {},
   "source": [
    "### Sum Function Example"
   ]
  },
  {
   "cell_type": "code",
   "execution_count": 16,
   "id": "5b54a358",
   "metadata": {},
   "outputs": [
    {
     "data": {
      "text/html": [
       "<div>\n",
       "<style scoped>\n",
       "    .dataframe tbody tr th:only-of-type {\n",
       "        vertical-align: middle;\n",
       "    }\n",
       "\n",
       "    .dataframe tbody tr th {\n",
       "        vertical-align: top;\n",
       "    }\n",
       "\n",
       "    .dataframe thead th {\n",
       "        text-align: right;\n",
       "    }\n",
       "</style>\n",
       "<table border=\"1\" class=\"dataframe\">\n",
       "  <thead>\n",
       "    <tr style=\"text-align: right;\">\n",
       "      <th></th>\n",
       "      <th>Quantity</th>\n",
       "    </tr>\n",
       "    <tr>\n",
       "      <th>Regions</th>\n",
       "      <th></th>\n",
       "    </tr>\n",
       "  </thead>\n",
       "  <tbody>\n",
       "    <tr>\n",
       "      <th>East</th>\n",
       "      <td>6500</td>\n",
       "    </tr>\n",
       "    <tr>\n",
       "      <th>North</th>\n",
       "      <td>10000</td>\n",
       "    </tr>\n",
       "    <tr>\n",
       "      <th>South</th>\n",
       "      <td>17600</td>\n",
       "    </tr>\n",
       "    <tr>\n",
       "      <th>West</th>\n",
       "      <td>7600</td>\n",
       "    </tr>\n",
       "  </tbody>\n",
       "</table>\n",
       "</div>"
      ],
      "text/plain": [
       "         Quantity\n",
       "Regions          \n",
       "East         6500\n",
       "North       10000\n",
       "South       17600\n",
       "West         7600"
      ]
     },
     "execution_count": 16,
     "metadata": {},
     "output_type": "execute_result"
    }
   ],
   "source": [
    "by_region.sum()"
   ]
  },
  {
   "cell_type": "markdown",
   "id": "d3cd9d2b",
   "metadata": {},
   "source": [
    "We are grouping, saving an abject then applying an aggregate function. This takes many steps and makes the code less readable. Thus, the steps are combined together, which is the common way to do the analysis.\n",
    "\n",
    "Here is the syntax:\n",
    "```python\n",
    "df.groupby('col-name').agg_function()\n",
    "```"
   ]
  },
  {
   "cell_type": "markdown",
   "id": "c2d49274",
   "metadata": {},
   "source": [
    "### Note: \n",
    "\n",
    "  - Groupby method returns the results of the aggregate function of all columns. \n",
    "  \n",
    "  \n",
    "  - Not all aggregrate function works on every data type; for example, there is mean, max of min for a string variable. "
   ]
  },
  {
   "cell_type": "markdown",
   "id": "16e97131",
   "metadata": {},
   "source": [
    "### The Sum function with groupby"
   ]
  },
  {
   "cell_type": "code",
   "execution_count": 17,
   "id": "f5bd1c69",
   "metadata": {},
   "outputs": [
    {
     "data": {
      "text/html": [
       "<div>\n",
       "<style scoped>\n",
       "    .dataframe tbody tr th:only-of-type {\n",
       "        vertical-align: middle;\n",
       "    }\n",
       "\n",
       "    .dataframe tbody tr th {\n",
       "        vertical-align: top;\n",
       "    }\n",
       "\n",
       "    .dataframe thead th {\n",
       "        text-align: right;\n",
       "    }\n",
       "</style>\n",
       "<table border=\"1\" class=\"dataframe\">\n",
       "  <thead>\n",
       "    <tr style=\"text-align: right;\">\n",
       "      <th></th>\n",
       "      <th>Quantity</th>\n",
       "    </tr>\n",
       "    <tr>\n",
       "      <th>Regions</th>\n",
       "      <th></th>\n",
       "    </tr>\n",
       "  </thead>\n",
       "  <tbody>\n",
       "    <tr>\n",
       "      <th>East</th>\n",
       "      <td>6500</td>\n",
       "    </tr>\n",
       "    <tr>\n",
       "      <th>North</th>\n",
       "      <td>10000</td>\n",
       "    </tr>\n",
       "    <tr>\n",
       "      <th>South</th>\n",
       "      <td>17600</td>\n",
       "    </tr>\n",
       "    <tr>\n",
       "      <th>West</th>\n",
       "      <td>7600</td>\n",
       "    </tr>\n",
       "  </tbody>\n",
       "</table>\n",
       "</div>"
      ],
      "text/plain": [
       "         Quantity\n",
       "Regions          \n",
       "East         6500\n",
       "North       10000\n",
       "South       17600\n",
       "West         7600"
      ]
     },
     "execution_count": 17,
     "metadata": {},
     "output_type": "execute_result"
    }
   ],
   "source": [
    "df.groupby('Regions').sum()"
   ]
  },
  {
   "cell_type": "markdown",
   "id": "ce049dd8",
   "metadata": {},
   "source": [
    "We get only the sum of the numeric variable quantity."
   ]
  },
  {
   "cell_type": "markdown",
   "id": "f00d69ee",
   "metadata": {},
   "source": [
    "### The  median"
   ]
  },
  {
   "cell_type": "code",
   "execution_count": 18,
   "id": "4da2dab4",
   "metadata": {},
   "outputs": [
    {
     "data": {
      "text/html": [
       "<div>\n",
       "<style scoped>\n",
       "    .dataframe tbody tr th:only-of-type {\n",
       "        vertical-align: middle;\n",
       "    }\n",
       "\n",
       "    .dataframe tbody tr th {\n",
       "        vertical-align: top;\n",
       "    }\n",
       "\n",
       "    .dataframe thead th {\n",
       "        text-align: right;\n",
       "    }\n",
       "</style>\n",
       "<table border=\"1\" class=\"dataframe\">\n",
       "  <thead>\n",
       "    <tr style=\"text-align: right;\">\n",
       "      <th></th>\n",
       "      <th>Quantity</th>\n",
       "    </tr>\n",
       "    <tr>\n",
       "      <th>Regions</th>\n",
       "      <th></th>\n",
       "    </tr>\n",
       "  </thead>\n",
       "  <tbody>\n",
       "    <tr>\n",
       "      <th>East</th>\n",
       "      <td>2,300.00</td>\n",
       "    </tr>\n",
       "    <tr>\n",
       "      <th>North</th>\n",
       "      <td>10,000.00</td>\n",
       "    </tr>\n",
       "    <tr>\n",
       "      <th>South</th>\n",
       "      <td>4,550.00</td>\n",
       "    </tr>\n",
       "    <tr>\n",
       "      <th>West</th>\n",
       "      <td>3,800.00</td>\n",
       "    </tr>\n",
       "  </tbody>\n",
       "</table>\n",
       "</div>"
      ],
      "text/plain": [
       "         Quantity\n",
       "Regions          \n",
       "East     2,300.00\n",
       "North   10,000.00\n",
       "South    4,550.00\n",
       "West     3,800.00"
      ]
     },
     "execution_count": 18,
     "metadata": {},
     "output_type": "execute_result"
    }
   ],
   "source": [
    "df.groupby('Regions').median()"
   ]
  },
  {
   "cell_type": "markdown",
   "id": "13e62f1f",
   "metadata": {},
   "source": [
    "### Grouping with more variables\n",
    "\n",
    "  - It suffices to pass a list of labels to group by "
   ]
  },
  {
   "cell_type": "code",
   "execution_count": 19,
   "id": "95721346",
   "metadata": {},
   "outputs": [
    {
     "data": {
      "text/html": [
       "<div>\n",
       "<style scoped>\n",
       "    .dataframe tbody tr th:only-of-type {\n",
       "        vertical-align: middle;\n",
       "    }\n",
       "\n",
       "    .dataframe tbody tr th {\n",
       "        vertical-align: top;\n",
       "    }\n",
       "\n",
       "    .dataframe thead th {\n",
       "        text-align: right;\n",
       "    }\n",
       "</style>\n",
       "<table border=\"1\" class=\"dataframe\">\n",
       "  <thead>\n",
       "    <tr style=\"text-align: right;\">\n",
       "      <th></th>\n",
       "      <th></th>\n",
       "      <th>Quantity</th>\n",
       "    </tr>\n",
       "    <tr>\n",
       "      <th>Regions</th>\n",
       "      <th>Company</th>\n",
       "      <th></th>\n",
       "    </tr>\n",
       "  </thead>\n",
       "  <tbody>\n",
       "    <tr>\n",
       "      <th rowspan=\"3\" valign=\"top\">East</th>\n",
       "      <th>C1</th>\n",
       "      <td>1,200.00</td>\n",
       "    </tr>\n",
       "    <tr>\n",
       "      <th>C2</th>\n",
       "      <td>3,000.00</td>\n",
       "    </tr>\n",
       "    <tr>\n",
       "      <th>C3</th>\n",
       "      <td>2,300.00</td>\n",
       "    </tr>\n",
       "    <tr>\n",
       "      <th>North</th>\n",
       "      <th>C2</th>\n",
       "      <td>10,000.00</td>\n",
       "    </tr>\n",
       "    <tr>\n",
       "      <th rowspan=\"4\" valign=\"top\">South</th>\n",
       "      <th>C1</th>\n",
       "      <td>7,200.00</td>\n",
       "    </tr>\n",
       "    <tr>\n",
       "      <th>C2</th>\n",
       "      <td>2,700.00</td>\n",
       "    </tr>\n",
       "    <tr>\n",
       "      <th>C3</th>\n",
       "      <td>6,400.00</td>\n",
       "    </tr>\n",
       "    <tr>\n",
       "      <th>C4</th>\n",
       "      <td>1,300.00</td>\n",
       "    </tr>\n",
       "    <tr>\n",
       "      <th rowspan=\"2\" valign=\"top\">West</th>\n",
       "      <th>C1</th>\n",
       "      <td>5,400.00</td>\n",
       "    </tr>\n",
       "    <tr>\n",
       "      <th>C3</th>\n",
       "      <td>2,200.00</td>\n",
       "    </tr>\n",
       "  </tbody>\n",
       "</table>\n",
       "</div>"
      ],
      "text/plain": [
       "                 Quantity\n",
       "Regions Company          \n",
       "East    C1       1,200.00\n",
       "        C2       3,000.00\n",
       "        C3       2,300.00\n",
       "North   C2      10,000.00\n",
       "South   C1       7,200.00\n",
       "        C2       2,700.00\n",
       "        C3       6,400.00\n",
       "        C4       1,300.00\n",
       "West    C1       5,400.00\n",
       "        C3       2,200.00"
      ]
     },
     "execution_count": 19,
     "metadata": {},
     "output_type": "execute_result"
    }
   ],
   "source": [
    "df.groupby(['Regions', 'Company']).median()"
   ]
  },
  {
   "cell_type": "markdown",
   "id": "c0400152",
   "metadata": {},
   "source": [
    "Because we do not have repeated companies within each region, the __groupby__ only sorted the DataFrame by the two columns. (a bonus from groupby!!!)"
   ]
  },
  {
   "cell_type": "markdown",
   "id": "a86052a0",
   "metadata": {},
   "source": [
    "### The count  Function Example "
   ]
  },
  {
   "cell_type": "code",
   "execution_count": 20,
   "id": "580ed053",
   "metadata": {},
   "outputs": [
    {
     "data": {
      "text/html": [
       "<div>\n",
       "<style scoped>\n",
       "    .dataframe tbody tr th:only-of-type {\n",
       "        vertical-align: middle;\n",
       "    }\n",
       "\n",
       "    .dataframe tbody tr th {\n",
       "        vertical-align: top;\n",
       "    }\n",
       "\n",
       "    .dataframe thead th {\n",
       "        text-align: right;\n",
       "    }\n",
       "</style>\n",
       "<table border=\"1\" class=\"dataframe\">\n",
       "  <thead>\n",
       "    <tr style=\"text-align: right;\">\n",
       "      <th></th>\n",
       "      <th>Company</th>\n",
       "      <th>Quantity</th>\n",
       "    </tr>\n",
       "    <tr>\n",
       "      <th>Regions</th>\n",
       "      <th></th>\n",
       "      <th></th>\n",
       "    </tr>\n",
       "  </thead>\n",
       "  <tbody>\n",
       "    <tr>\n",
       "      <th>East</th>\n",
       "      <td>3</td>\n",
       "      <td>3</td>\n",
       "    </tr>\n",
       "    <tr>\n",
       "      <th>North</th>\n",
       "      <td>1</td>\n",
       "      <td>1</td>\n",
       "    </tr>\n",
       "    <tr>\n",
       "      <th>South</th>\n",
       "      <td>4</td>\n",
       "      <td>4</td>\n",
       "    </tr>\n",
       "    <tr>\n",
       "      <th>West</th>\n",
       "      <td>2</td>\n",
       "      <td>2</td>\n",
       "    </tr>\n",
       "  </tbody>\n",
       "</table>\n",
       "</div>"
      ],
      "text/plain": [
       "         Company  Quantity\n",
       "Regions                   \n",
       "East           3         3\n",
       "North          1         1\n",
       "South          4         4\n",
       "West           2         2"
      ]
     },
     "execution_count": 20,
     "metadata": {},
     "output_type": "execute_result"
    }
   ],
   "source": [
    "df.groupby('Regions').count()"
   ]
  },
  {
   "cell_type": "markdown",
   "id": "8303b468",
   "metadata": {},
   "source": [
    " Nicely done, the __Count__ method works on __categorical (string) variables__. Hence, we see how many times a company has occured. For example, three companies work in the eastern region, and four in the south, while only one company in the north. I would suggest to study the market if this is a real example, so a company may start selling its products there. This is not a real data in fact.  "
   ]
  },
  {
   "cell_type": "markdown",
   "id": "99c77b46",
   "metadata": {},
   "source": [
    "### **What is the returned object?**\n",
    "\n",
    "  - We always seek to know the type of the returned object, because that helps us to decide what we do with it."
   ]
  },
  {
   "cell_type": "code",
   "execution_count": 21,
   "id": "1b1d663e",
   "metadata": {},
   "outputs": [
    {
     "data": {
      "text/plain": [
       "pandas.core.frame.DataFrame"
      ]
     },
     "execution_count": 21,
     "metadata": {},
     "output_type": "execute_result"
    }
   ],
   "source": [
    "byReg = df.groupby('Regions').median()\n",
    "type(byReg)"
   ]
  },
  {
   "cell_type": "markdown",
   "id": "8b07bf00",
   "metadata": {},
   "source": [
    "It is a DataFrame object. Thus, we can appy all what we learned before on it. \n",
    "\n",
    "If we are interested for example only on __the eastern region__. The __loc__ is the solution."
   ]
  },
  {
   "cell_type": "code",
   "execution_count": 22,
   "id": "61cfb762",
   "metadata": {},
   "outputs": [
    {
     "data": {
      "text/plain": [
       "Quantity   2,300.00\n",
       "Name: East, dtype: float64"
      ]
     },
     "execution_count": 22,
     "metadata": {},
     "output_type": "execute_result"
    }
   ],
   "source": [
    "df.groupby('Regions').median().loc['East']"
   ]
  },
  {
   "cell_type": "markdown",
   "id": "e4a60daa",
   "metadata": {},
   "source": [
    "> **congrats!!!**, you have reached a high level in python. Because this is the standard way of programming with python. All steps at once."
   ]
  },
  {
   "cell_type": "markdown",
   "id": "e512c5d0",
   "metadata": {},
   "source": [
    "### Describe method with Grouping:\n",
    "\n",
    "  - Getting more information at once is preferable. Hence, we use __describe method__ "
   ]
  },
  {
   "cell_type": "code",
   "execution_count": 23,
   "id": "fdcc5250",
   "metadata": {},
   "outputs": [
    {
     "data": {
      "text/html": [
       "<div>\n",
       "<style scoped>\n",
       "    .dataframe tbody tr th:only-of-type {\n",
       "        vertical-align: middle;\n",
       "    }\n",
       "\n",
       "    .dataframe tbody tr th {\n",
       "        vertical-align: top;\n",
       "    }\n",
       "\n",
       "    .dataframe thead tr th {\n",
       "        text-align: left;\n",
       "    }\n",
       "\n",
       "    .dataframe thead tr:last-of-type th {\n",
       "        text-align: right;\n",
       "    }\n",
       "</style>\n",
       "<table border=\"1\" class=\"dataframe\">\n",
       "  <thead>\n",
       "    <tr>\n",
       "      <th></th>\n",
       "      <th colspan=\"8\" halign=\"left\">Quantity</th>\n",
       "    </tr>\n",
       "    <tr>\n",
       "      <th></th>\n",
       "      <th>count</th>\n",
       "      <th>mean</th>\n",
       "      <th>std</th>\n",
       "      <th>min</th>\n",
       "      <th>25%</th>\n",
       "      <th>50%</th>\n",
       "      <th>75%</th>\n",
       "      <th>max</th>\n",
       "    </tr>\n",
       "    <tr>\n",
       "      <th>Regions</th>\n",
       "      <th></th>\n",
       "      <th></th>\n",
       "      <th></th>\n",
       "      <th></th>\n",
       "      <th></th>\n",
       "      <th></th>\n",
       "      <th></th>\n",
       "      <th></th>\n",
       "    </tr>\n",
       "  </thead>\n",
       "  <tbody>\n",
       "    <tr>\n",
       "      <th>East</th>\n",
       "      <td>3.00</td>\n",
       "      <td>2,166.67</td>\n",
       "      <td>907.38</td>\n",
       "      <td>1,200.00</td>\n",
       "      <td>1,750.00</td>\n",
       "      <td>2,300.00</td>\n",
       "      <td>2,650.00</td>\n",
       "      <td>3,000.00</td>\n",
       "    </tr>\n",
       "    <tr>\n",
       "      <th>North</th>\n",
       "      <td>1.00</td>\n",
       "      <td>10,000.00</td>\n",
       "      <td>NaN</td>\n",
       "      <td>10,000.00</td>\n",
       "      <td>10,000.00</td>\n",
       "      <td>10,000.00</td>\n",
       "      <td>10,000.00</td>\n",
       "      <td>10,000.00</td>\n",
       "    </tr>\n",
       "    <tr>\n",
       "      <th>South</th>\n",
       "      <td>4.00</td>\n",
       "      <td>4,400.00</td>\n",
       "      <td>2,848.39</td>\n",
       "      <td>1,300.00</td>\n",
       "      <td>2,350.00</td>\n",
       "      <td>4,550.00</td>\n",
       "      <td>6,600.00</td>\n",
       "      <td>7,200.00</td>\n",
       "    </tr>\n",
       "    <tr>\n",
       "      <th>West</th>\n",
       "      <td>2.00</td>\n",
       "      <td>3,800.00</td>\n",
       "      <td>2,262.74</td>\n",
       "      <td>2,200.00</td>\n",
       "      <td>3,000.00</td>\n",
       "      <td>3,800.00</td>\n",
       "      <td>4,600.00</td>\n",
       "      <td>5,400.00</td>\n",
       "    </tr>\n",
       "  </tbody>\n",
       "</table>\n",
       "</div>"
      ],
      "text/plain": [
       "        Quantity                                                             \\\n",
       "           count      mean      std       min       25%       50%       75%   \n",
       "Regions                                                                       \n",
       "East        3.00  2,166.67   907.38  1,200.00  1,750.00  2,300.00  2,650.00   \n",
       "North       1.00 10,000.00      NaN 10,000.00 10,000.00 10,000.00 10,000.00   \n",
       "South       4.00  4,400.00 2,848.39  1,300.00  2,350.00  4,550.00  6,600.00   \n",
       "West        2.00  3,800.00 2,262.74  2,200.00  3,000.00  3,800.00  4,600.00   \n",
       "\n",
       "                   \n",
       "              max  \n",
       "Regions            \n",
       "East     3,000.00  \n",
       "North   10,000.00  \n",
       "South    7,200.00  \n",
       "West     5,400.00  "
      ]
     },
     "execution_count": 23,
     "metadata": {},
     "output_type": "execute_result"
    }
   ],
   "source": [
    "df.groupby('Regions').describe()"
   ]
  },
  {
   "cell_type": "markdown",
   "id": "b0c41b47",
   "metadata": {},
   "source": [
    ">  We can transpose if we want to have the results vertically displayed. "
   ]
  },
  {
   "cell_type": "code",
   "execution_count": 24,
   "id": "8a75fbeb",
   "metadata": {},
   "outputs": [
    {
     "data": {
      "text/html": [
       "<div>\n",
       "<style scoped>\n",
       "    .dataframe tbody tr th:only-of-type {\n",
       "        vertical-align: middle;\n",
       "    }\n",
       "\n",
       "    .dataframe tbody tr th {\n",
       "        vertical-align: top;\n",
       "    }\n",
       "\n",
       "    .dataframe thead th {\n",
       "        text-align: right;\n",
       "    }\n",
       "</style>\n",
       "<table border=\"1\" class=\"dataframe\">\n",
       "  <thead>\n",
       "    <tr style=\"text-align: right;\">\n",
       "      <th></th>\n",
       "      <th>Regions</th>\n",
       "      <th>East</th>\n",
       "      <th>North</th>\n",
       "      <th>South</th>\n",
       "      <th>West</th>\n",
       "    </tr>\n",
       "  </thead>\n",
       "  <tbody>\n",
       "    <tr>\n",
       "      <th rowspan=\"8\" valign=\"top\">Quantity</th>\n",
       "      <th>count</th>\n",
       "      <td>3.00</td>\n",
       "      <td>1.00</td>\n",
       "      <td>4.00</td>\n",
       "      <td>2.00</td>\n",
       "    </tr>\n",
       "    <tr>\n",
       "      <th>mean</th>\n",
       "      <td>2,166.67</td>\n",
       "      <td>10,000.00</td>\n",
       "      <td>4,400.00</td>\n",
       "      <td>3,800.00</td>\n",
       "    </tr>\n",
       "    <tr>\n",
       "      <th>std</th>\n",
       "      <td>907.38</td>\n",
       "      <td>NaN</td>\n",
       "      <td>2,848.39</td>\n",
       "      <td>2,262.74</td>\n",
       "    </tr>\n",
       "    <tr>\n",
       "      <th>min</th>\n",
       "      <td>1,200.00</td>\n",
       "      <td>10,000.00</td>\n",
       "      <td>1,300.00</td>\n",
       "      <td>2,200.00</td>\n",
       "    </tr>\n",
       "    <tr>\n",
       "      <th>25%</th>\n",
       "      <td>1,750.00</td>\n",
       "      <td>10,000.00</td>\n",
       "      <td>2,350.00</td>\n",
       "      <td>3,000.00</td>\n",
       "    </tr>\n",
       "    <tr>\n",
       "      <th>50%</th>\n",
       "      <td>2,300.00</td>\n",
       "      <td>10,000.00</td>\n",
       "      <td>4,550.00</td>\n",
       "      <td>3,800.00</td>\n",
       "    </tr>\n",
       "    <tr>\n",
       "      <th>75%</th>\n",
       "      <td>2,650.00</td>\n",
       "      <td>10,000.00</td>\n",
       "      <td>6,600.00</td>\n",
       "      <td>4,600.00</td>\n",
       "    </tr>\n",
       "    <tr>\n",
       "      <th>max</th>\n",
       "      <td>3,000.00</td>\n",
       "      <td>10,000.00</td>\n",
       "      <td>7,200.00</td>\n",
       "      <td>5,400.00</td>\n",
       "    </tr>\n",
       "  </tbody>\n",
       "</table>\n",
       "</div>"
      ],
      "text/plain": [
       "Regions            East     North    South     West\n",
       "Quantity count     3.00      1.00     4.00     2.00\n",
       "         mean  2,166.67 10,000.00 4,400.00 3,800.00\n",
       "         std     907.38       NaN 2,848.39 2,262.74\n",
       "         min   1,200.00 10,000.00 1,300.00 2,200.00\n",
       "         25%   1,750.00 10,000.00 2,350.00 3,000.00\n",
       "         50%   2,300.00 10,000.00 4,550.00 3,800.00\n",
       "         75%   2,650.00 10,000.00 6,600.00 4,600.00\n",
       "         max   3,000.00 10,000.00 7,200.00 5,400.00"
      ]
     },
     "execution_count": 24,
     "metadata": {},
     "output_type": "execute_result"
    }
   ],
   "source": [
    "df.groupby('Regions').describe().transpose()"
   ]
  },
  {
   "cell_type": "markdown",
   "id": "ada6ccf6",
   "metadata": {},
   "source": [
    "Often times, we will be interested on one __group__, therefore, we want to select only what we are after. We do that just like subsetting a normal dataframe.\n",
    "\n",
    "- Here, we are interested in the __eastern region__."
   ]
  },
  {
   "cell_type": "code",
   "execution_count": 25,
   "id": "b08da727",
   "metadata": {},
   "outputs": [
    {
     "data": {
      "text/plain": [
       "Quantity  count       3.00\n",
       "          mean    2,166.67\n",
       "          std       907.38\n",
       "          min     1,200.00\n",
       "          25%     1,750.00\n",
       "          50%     2,300.00\n",
       "          75%     2,650.00\n",
       "          max     3,000.00\n",
       "Name: East, dtype: float64"
      ]
     },
     "execution_count": 25,
     "metadata": {},
     "output_type": "execute_result"
    }
   ],
   "source": [
    "df.groupby('Regions').describe().transpose()['East']"
   ]
  },
  {
   "cell_type": "markdown",
   "id": "52a702b3",
   "metadata": {},
   "source": [
    "We passed the variable using the bracket notation, because after tranposing the result,  The group key became a column. But, without transposing we need to use __loc__ method because it is an __index__. "
   ]
  },
  {
   "cell_type": "code",
   "execution_count": 26,
   "id": "1509d5e4",
   "metadata": {},
   "outputs": [
    {
     "data": {
      "text/plain": [
       "Quantity  count       3.00\n",
       "          mean    2,166.67\n",
       "          std       907.38\n",
       "          min     1,200.00\n",
       "          25%     1,750.00\n",
       "          50%     2,300.00\n",
       "          75%     2,650.00\n",
       "          max     3,000.00\n",
       "Name: East, dtype: float64"
      ]
     },
     "execution_count": 26,
     "metadata": {},
     "output_type": "execute_result"
    }
   ],
   "source": [
    "df.groupby('Regions').describe().loc['East']"
   ]
  },
  {
   "cell_type": "markdown",
   "id": "fbb51d76",
   "metadata": {},
   "source": [
    "## Aggregating Aggregates\n",
    "\n",
    "I assume while you were reading this tutorial that you asked yourself:\n",
    "    - **What if we want to apply many aggregate functions in one step**.\n",
    "    - **What if we to apply a different aggregate function to each column at once**.\n",
    "    \n",
    "Well, Pandas provided the solution for us. The __agg__ or __aggregate__ method.\n",
    "\n",
    "### The aggregate function AGG\n",
    "\n",
    "  - __agg__ is an alias for `aggregate`. It is recommended to use the alias __agg__.\n",
    "  \n",
    "  - __agg__ has a __func__ option, which can be:\n",
    "      - Any aggregate function.\n",
    "      - List of aggregate functions.\n",
    "      - Dict of column-label: agg-function. \n",
    "  - **axis**: By default, the function is applied on columns (axis = 0), set __axis to 1__ if you want to apply the function on rows.\n",
    "\n",
    "The Syntax:\n",
    "```python\n",
    "df.agg(func = [sum, min, max, ...])       ---> a list of functions\n",
    "df.agg(func = {'col_1': 'mean', 'col_2': 'median', ...}). \n",
    "# Or even more functions on each column\n",
    "\n",
    "df.agg({'col_1': ['min', 'max'],\n",
    "        'col_2': ['mean', 'median'], ...})\n",
    "\n",
    "# The Docs\n",
    "df.agg?\n",
    "```  "
   ]
  },
  {
   "cell_type": "code",
   "execution_count": 27,
   "id": "a529cdde",
   "metadata": {},
   "outputs": [
    {
     "data": {
      "text/html": [
       "<div>\n",
       "<style scoped>\n",
       "    .dataframe tbody tr th:only-of-type {\n",
       "        vertical-align: middle;\n",
       "    }\n",
       "\n",
       "    .dataframe tbody tr th {\n",
       "        vertical-align: top;\n",
       "    }\n",
       "\n",
       "    .dataframe thead th {\n",
       "        text-align: right;\n",
       "    }\n",
       "</style>\n",
       "<table border=\"1\" class=\"dataframe\">\n",
       "  <thead>\n",
       "    <tr style=\"text-align: right;\">\n",
       "      <th></th>\n",
       "      <th>var_1</th>\n",
       "      <th>var_2</th>\n",
       "      <th>key_1</th>\n",
       "      <th>key_2</th>\n",
       "    </tr>\n",
       "  </thead>\n",
       "  <tbody>\n",
       "    <tr>\n",
       "      <th>0</th>\n",
       "      <td>100</td>\n",
       "      <td>301</td>\n",
       "      <td>a</td>\n",
       "      <td>one</td>\n",
       "    </tr>\n",
       "    <tr>\n",
       "      <th>1</th>\n",
       "      <td>250</td>\n",
       "      <td>401</td>\n",
       "      <td>a</td>\n",
       "      <td>two</td>\n",
       "    </tr>\n",
       "    <tr>\n",
       "      <th>2</th>\n",
       "      <td>250</td>\n",
       "      <td>501</td>\n",
       "      <td>c</td>\n",
       "      <td>one</td>\n",
       "    </tr>\n",
       "    <tr>\n",
       "      <th>3</th>\n",
       "      <td>280</td>\n",
       "      <td>201</td>\n",
       "      <td>c</td>\n",
       "      <td>two</td>\n",
       "    </tr>\n",
       "    <tr>\n",
       "      <th>4</th>\n",
       "      <td>160</td>\n",
       "      <td>901</td>\n",
       "      <td>d</td>\n",
       "      <td>one</td>\n",
       "    </tr>\n",
       "    <tr>\n",
       "      <th>5</th>\n",
       "      <td>130</td>\n",
       "      <td>801</td>\n",
       "      <td>e</td>\n",
       "      <td>one</td>\n",
       "    </tr>\n",
       "  </tbody>\n",
       "</table>\n",
       "</div>"
      ],
      "text/plain": [
       "   var_1  var_2 key_1 key_2\n",
       "0    100    301     a   one\n",
       "1    250    401     a   two\n",
       "2    250    501     c   one\n",
       "3    280    201     c   two\n",
       "4    160    901     d   one\n",
       "5    130    801     e   one"
      ]
     },
     "execution_count": 27,
     "metadata": {},
     "output_type": "execute_result"
    }
   ],
   "source": [
    "seed(234)\n",
    "df = pd.DataFrame({'var_1': choices(range(10, 300, 30),  k = 6),\n",
    "                     'var_2': sample(range(1, 999, 100), k = 6),\n",
    "                     'key_1': ['a', 'a', 'c', 'c', 'd', 'e'], \n",
    "                     'key_2': ['one', 'two', 'one', 'two', 'one', 'one']})\n",
    "df"
   ]
  },
  {
   "cell_type": "code",
   "execution_count": 28,
   "id": "df0505d3",
   "metadata": {},
   "outputs": [],
   "source": [
    "grouped = df.groupby('key_1')"
   ]
  },
  {
   "cell_type": "code",
   "execution_count": 29,
   "id": "11920252",
   "metadata": {},
   "outputs": [
    {
     "data": {
      "text/plain": [
       "[('a',\n",
       "     var_1  var_2 key_1 key_2\n",
       "  0    100    301     a   one\n",
       "  1    250    401     a   two),\n",
       " ('c',\n",
       "     var_1  var_2 key_1 key_2\n",
       "  2    250    501     c   one\n",
       "  3    280    201     c   two),\n",
       " ('d',\n",
       "     var_1  var_2 key_1 key_2\n",
       "  4    160    901     d   one),\n",
       " ('e',\n",
       "     var_1  var_2 key_1 key_2\n",
       "  5    130    801     e   one)]"
      ]
     },
     "execution_count": 29,
     "metadata": {},
     "output_type": "execute_result"
    }
   ],
   "source": [
    "list(grouped)"
   ]
  },
  {
   "cell_type": "markdown",
   "id": "4b5e0453",
   "metadata": {},
   "source": [
    "### User Defined Function to Agg method\n",
    "\n",
    "We can create a function then pass it to __agg__ method."
   ]
  },
  {
   "cell_type": "code",
   "execution_count": 30,
   "id": "fde627d8",
   "metadata": {},
   "outputs": [],
   "source": [
    "def min_max(obj):\n",
    "    return obj.max() - obj.min()"
   ]
  },
  {
   "cell_type": "code",
   "execution_count": 31,
   "id": "67135531",
   "metadata": {},
   "outputs": [
    {
     "data": {
      "text/html": [
       "<div>\n",
       "<style scoped>\n",
       "    .dataframe tbody tr th:only-of-type {\n",
       "        vertical-align: middle;\n",
       "    }\n",
       "\n",
       "    .dataframe tbody tr th {\n",
       "        vertical-align: top;\n",
       "    }\n",
       "\n",
       "    .dataframe thead th {\n",
       "        text-align: right;\n",
       "    }\n",
       "</style>\n",
       "<table border=\"1\" class=\"dataframe\">\n",
       "  <thead>\n",
       "    <tr style=\"text-align: right;\">\n",
       "      <th></th>\n",
       "      <th>var_1</th>\n",
       "      <th>var_2</th>\n",
       "    </tr>\n",
       "    <tr>\n",
       "      <th>key_1</th>\n",
       "      <th></th>\n",
       "      <th></th>\n",
       "    </tr>\n",
       "  </thead>\n",
       "  <tbody>\n",
       "    <tr>\n",
       "      <th>a</th>\n",
       "      <td>150</td>\n",
       "      <td>100</td>\n",
       "    </tr>\n",
       "    <tr>\n",
       "      <th>c</th>\n",
       "      <td>30</td>\n",
       "      <td>300</td>\n",
       "    </tr>\n",
       "    <tr>\n",
       "      <th>d</th>\n",
       "      <td>0</td>\n",
       "      <td>0</td>\n",
       "    </tr>\n",
       "    <tr>\n",
       "      <th>e</th>\n",
       "      <td>0</td>\n",
       "      <td>0</td>\n",
       "    </tr>\n",
       "  </tbody>\n",
       "</table>\n",
       "</div>"
      ],
      "text/plain": [
       "       var_1  var_2\n",
       "key_1              \n",
       "a        150    100\n",
       "c         30    300\n",
       "d          0      0\n",
       "e          0      0"
      ]
     },
     "execution_count": 31,
     "metadata": {},
     "output_type": "execute_result"
    }
   ],
   "source": [
    "grouped[['var_1', 'var_2']].agg(min_max)"
   ]
  },
  {
   "cell_type": "markdown",
   "id": "0c742ddd",
   "metadata": {},
   "source": [
    "### A List of Functions with Agg Method\n",
    "\n",
    "   - Passing a list of functions or function names will apply each function on each group. The result will be a DataFrame with the functions as column names."
   ]
  },
  {
   "cell_type": "code",
   "execution_count": 32,
   "id": "37af9efa",
   "metadata": {},
   "outputs": [
    {
     "data": {
      "text/html": [
       "<div>\n",
       "<style scoped>\n",
       "    .dataframe tbody tr th:only-of-type {\n",
       "        vertical-align: middle;\n",
       "    }\n",
       "\n",
       "    .dataframe tbody tr th {\n",
       "        vertical-align: top;\n",
       "    }\n",
       "\n",
       "    .dataframe thead tr th {\n",
       "        text-align: left;\n",
       "    }\n",
       "\n",
       "    .dataframe thead tr:last-of-type th {\n",
       "        text-align: right;\n",
       "    }\n",
       "</style>\n",
       "<table border=\"1\" class=\"dataframe\">\n",
       "  <thead>\n",
       "    <tr>\n",
       "      <th></th>\n",
       "      <th colspan=\"5\" halign=\"left\">var_1</th>\n",
       "      <th colspan=\"5\" halign=\"left\">var_2</th>\n",
       "    </tr>\n",
       "    <tr>\n",
       "      <th></th>\n",
       "      <th>size</th>\n",
       "      <th>mean</th>\n",
       "      <th>min</th>\n",
       "      <th>max</th>\n",
       "      <th>std</th>\n",
       "      <th>size</th>\n",
       "      <th>mean</th>\n",
       "      <th>min</th>\n",
       "      <th>max</th>\n",
       "      <th>std</th>\n",
       "    </tr>\n",
       "    <tr>\n",
       "      <th>key_1</th>\n",
       "      <th></th>\n",
       "      <th></th>\n",
       "      <th></th>\n",
       "      <th></th>\n",
       "      <th></th>\n",
       "      <th></th>\n",
       "      <th></th>\n",
       "      <th></th>\n",
       "      <th></th>\n",
       "      <th></th>\n",
       "    </tr>\n",
       "  </thead>\n",
       "  <tbody>\n",
       "    <tr>\n",
       "      <th>a</th>\n",
       "      <td>2</td>\n",
       "      <td>175.00</td>\n",
       "      <td>100</td>\n",
       "      <td>250</td>\n",
       "      <td>106.07</td>\n",
       "      <td>2</td>\n",
       "      <td>351.00</td>\n",
       "      <td>301</td>\n",
       "      <td>401</td>\n",
       "      <td>70.71</td>\n",
       "    </tr>\n",
       "    <tr>\n",
       "      <th>c</th>\n",
       "      <td>2</td>\n",
       "      <td>265.00</td>\n",
       "      <td>250</td>\n",
       "      <td>280</td>\n",
       "      <td>21.21</td>\n",
       "      <td>2</td>\n",
       "      <td>351.00</td>\n",
       "      <td>201</td>\n",
       "      <td>501</td>\n",
       "      <td>212.13</td>\n",
       "    </tr>\n",
       "    <tr>\n",
       "      <th>d</th>\n",
       "      <td>1</td>\n",
       "      <td>160.00</td>\n",
       "      <td>160</td>\n",
       "      <td>160</td>\n",
       "      <td>NaN</td>\n",
       "      <td>1</td>\n",
       "      <td>901.00</td>\n",
       "      <td>901</td>\n",
       "      <td>901</td>\n",
       "      <td>NaN</td>\n",
       "    </tr>\n",
       "    <tr>\n",
       "      <th>e</th>\n",
       "      <td>1</td>\n",
       "      <td>130.00</td>\n",
       "      <td>130</td>\n",
       "      <td>130</td>\n",
       "      <td>NaN</td>\n",
       "      <td>1</td>\n",
       "      <td>801.00</td>\n",
       "      <td>801</td>\n",
       "      <td>801</td>\n",
       "      <td>NaN</td>\n",
       "    </tr>\n",
       "  </tbody>\n",
       "</table>\n",
       "</div>"
      ],
      "text/plain": [
       "      var_1                         var_2                        \n",
       "       size   mean  min  max    std  size   mean  min  max    std\n",
       "key_1                                                            \n",
       "a         2 175.00  100  250 106.07     2 351.00  301  401  70.71\n",
       "c         2 265.00  250  280  21.21     2 351.00  201  501 212.13\n",
       "d         1 160.00  160  160    NaN     1 901.00  901  901    NaN\n",
       "e         1 130.00  130  130    NaN     1 801.00  801  801    NaN"
      ]
     },
     "execution_count": 32,
     "metadata": {},
     "output_type": "execute_result"
    }
   ],
   "source": [
    "grouped.agg([np.size, np.mean, min, max, np.std])"
   ]
  },
  {
   "cell_type": "markdown",
   "id": "93bfcbc4",
   "metadata": {},
   "source": [
    "We don't need to accept the function name, we a pass a tuple (name, function-name) to get a meaningful name."
   ]
  },
  {
   "cell_type": "code",
   "execution_count": 33,
   "id": "fd8637ac",
   "metadata": {},
   "outputs": [
    {
     "data": {
      "text/html": [
       "<div>\n",
       "<style scoped>\n",
       "    .dataframe tbody tr th:only-of-type {\n",
       "        vertical-align: middle;\n",
       "    }\n",
       "\n",
       "    .dataframe tbody tr th {\n",
       "        vertical-align: top;\n",
       "    }\n",
       "\n",
       "    .dataframe thead tr th {\n",
       "        text-align: left;\n",
       "    }\n",
       "\n",
       "    .dataframe thead tr:last-of-type th {\n",
       "        text-align: right;\n",
       "    }\n",
       "</style>\n",
       "<table border=\"1\" class=\"dataframe\">\n",
       "  <thead>\n",
       "    <tr>\n",
       "      <th></th>\n",
       "      <th colspan=\"2\" halign=\"left\">var_1</th>\n",
       "      <th colspan=\"2\" halign=\"left\">var_2</th>\n",
       "    </tr>\n",
       "    <tr>\n",
       "      <th></th>\n",
       "      <th>N</th>\n",
       "      <th>Average</th>\n",
       "      <th>N</th>\n",
       "      <th>Average</th>\n",
       "    </tr>\n",
       "    <tr>\n",
       "      <th>key_1</th>\n",
       "      <th></th>\n",
       "      <th></th>\n",
       "      <th></th>\n",
       "      <th></th>\n",
       "    </tr>\n",
       "  </thead>\n",
       "  <tbody>\n",
       "    <tr>\n",
       "      <th>a</th>\n",
       "      <td>2</td>\n",
       "      <td>175.00</td>\n",
       "      <td>2</td>\n",
       "      <td>351.00</td>\n",
       "    </tr>\n",
       "    <tr>\n",
       "      <th>c</th>\n",
       "      <td>2</td>\n",
       "      <td>265.00</td>\n",
       "      <td>2</td>\n",
       "      <td>351.00</td>\n",
       "    </tr>\n",
       "    <tr>\n",
       "      <th>d</th>\n",
       "      <td>1</td>\n",
       "      <td>160.00</td>\n",
       "      <td>1</td>\n",
       "      <td>901.00</td>\n",
       "    </tr>\n",
       "    <tr>\n",
       "      <th>e</th>\n",
       "      <td>1</td>\n",
       "      <td>130.00</td>\n",
       "      <td>1</td>\n",
       "      <td>801.00</td>\n",
       "    </tr>\n",
       "  </tbody>\n",
       "</table>\n",
       "</div>"
      ],
      "text/plain": [
       "      var_1         var_2        \n",
       "          N Average     N Average\n",
       "key_1                            \n",
       "a         2  175.00     2  351.00\n",
       "c         2  265.00     2  351.00\n",
       "d         1  160.00     1  901.00\n",
       "e         1  130.00     1  801.00"
      ]
     },
     "execution_count": 33,
     "metadata": {},
     "output_type": "execute_result"
    }
   ],
   "source": [
    "grouped.agg([('N', np.size),('Average', np.mean)])"
   ]
  },
  {
   "cell_type": "markdown",
   "id": "08bce714",
   "metadata": {},
   "source": [
    "We were apply the aggregating functions to each column, but what is the case if we want apply a different function or function to different coluumns. Here, we pass a dict of col-name, function to __agg__ method. Of course, the function part in the dict can be a list."
   ]
  },
  {
   "cell_type": "code",
   "execution_count": 34,
   "id": "6ef2c6b9",
   "metadata": {},
   "outputs": [
    {
     "data": {
      "text/html": [
       "<div>\n",
       "<style scoped>\n",
       "    .dataframe tbody tr th:only-of-type {\n",
       "        vertical-align: middle;\n",
       "    }\n",
       "\n",
       "    .dataframe tbody tr th {\n",
       "        vertical-align: top;\n",
       "    }\n",
       "\n",
       "    .dataframe thead th {\n",
       "        text-align: right;\n",
       "    }\n",
       "</style>\n",
       "<table border=\"1\" class=\"dataframe\">\n",
       "  <thead>\n",
       "    <tr style=\"text-align: right;\">\n",
       "      <th></th>\n",
       "      <th>var_1</th>\n",
       "      <th>var_2</th>\n",
       "    </tr>\n",
       "    <tr>\n",
       "      <th>key_1</th>\n",
       "      <th></th>\n",
       "      <th></th>\n",
       "    </tr>\n",
       "  </thead>\n",
       "  <tbody>\n",
       "    <tr>\n",
       "      <th>a</th>\n",
       "      <td>175.00</td>\n",
       "      <td>351.00</td>\n",
       "    </tr>\n",
       "    <tr>\n",
       "      <th>c</th>\n",
       "      <td>265.00</td>\n",
       "      <td>351.00</td>\n",
       "    </tr>\n",
       "    <tr>\n",
       "      <th>d</th>\n",
       "      <td>160.00</td>\n",
       "      <td>901.00</td>\n",
       "    </tr>\n",
       "    <tr>\n",
       "      <th>e</th>\n",
       "      <td>130.00</td>\n",
       "      <td>801.00</td>\n",
       "    </tr>\n",
       "  </tbody>\n",
       "</table>\n",
       "</div>"
      ],
      "text/plain": [
       "       var_1  var_2\n",
       "key_1              \n",
       "a     175.00 351.00\n",
       "c     265.00 351.00\n",
       "d     160.00 901.00\n",
       "e     130.00 801.00"
      ]
     },
     "execution_count": 34,
     "metadata": {},
     "output_type": "execute_result"
    }
   ],
   "source": [
    "grouped.agg({'var_1': 'mean', 'var_2': 'median'})"
   ]
  },
  {
   "cell_type": "code",
   "execution_count": 35,
   "id": "c199f0cf",
   "metadata": {},
   "outputs": [
    {
     "data": {
      "text/html": [
       "<div>\n",
       "<style scoped>\n",
       "    .dataframe tbody tr th:only-of-type {\n",
       "        vertical-align: middle;\n",
       "    }\n",
       "\n",
       "    .dataframe tbody tr th {\n",
       "        vertical-align: top;\n",
       "    }\n",
       "\n",
       "    .dataframe thead tr th {\n",
       "        text-align: left;\n",
       "    }\n",
       "\n",
       "    .dataframe thead tr:last-of-type th {\n",
       "        text-align: right;\n",
       "    }\n",
       "</style>\n",
       "<table border=\"1\" class=\"dataframe\">\n",
       "  <thead>\n",
       "    <tr>\n",
       "      <th></th>\n",
       "      <th colspan=\"2\" halign=\"left\">var_1</th>\n",
       "      <th>var_2</th>\n",
       "    </tr>\n",
       "    <tr>\n",
       "      <th></th>\n",
       "      <th>mean</th>\n",
       "      <th>max</th>\n",
       "      <th>median</th>\n",
       "    </tr>\n",
       "    <tr>\n",
       "      <th>key_1</th>\n",
       "      <th></th>\n",
       "      <th></th>\n",
       "      <th></th>\n",
       "    </tr>\n",
       "  </thead>\n",
       "  <tbody>\n",
       "    <tr>\n",
       "      <th>a</th>\n",
       "      <td>175.00</td>\n",
       "      <td>250</td>\n",
       "      <td>351.00</td>\n",
       "    </tr>\n",
       "    <tr>\n",
       "      <th>c</th>\n",
       "      <td>265.00</td>\n",
       "      <td>280</td>\n",
       "      <td>351.00</td>\n",
       "    </tr>\n",
       "    <tr>\n",
       "      <th>d</th>\n",
       "      <td>160.00</td>\n",
       "      <td>160</td>\n",
       "      <td>901.00</td>\n",
       "    </tr>\n",
       "    <tr>\n",
       "      <th>e</th>\n",
       "      <td>130.00</td>\n",
       "      <td>130</td>\n",
       "      <td>801.00</td>\n",
       "    </tr>\n",
       "  </tbody>\n",
       "</table>\n",
       "</div>"
      ],
      "text/plain": [
       "       var_1       var_2\n",
       "        mean  max median\n",
       "key_1                   \n",
       "a     175.00  250 351.00\n",
       "c     265.00  280 351.00\n",
       "d     160.00  160 901.00\n",
       "e     130.00  130 801.00"
      ]
     },
     "execution_count": 35,
     "metadata": {},
     "output_type": "execute_result"
    }
   ],
   "source": [
    "grouped.agg({'var_1': ['mean', 'max'], 'var_2': 'median'})"
   ]
  },
  {
   "cell_type": "markdown",
   "id": "a8667fb1",
   "metadata": {},
   "source": [
    "### Index Suppression \n",
    "\n",
    "   - The unique group keys are returns as index by default, we turn that off by passing __as_index=False__."
   ]
  },
  {
   "cell_type": "code",
   "execution_count": 36,
   "id": "52318e9d",
   "metadata": {},
   "outputs": [
    {
     "data": {
      "text/html": [
       "<div>\n",
       "<style scoped>\n",
       "    .dataframe tbody tr th:only-of-type {\n",
       "        vertical-align: middle;\n",
       "    }\n",
       "\n",
       "    .dataframe tbody tr th {\n",
       "        vertical-align: top;\n",
       "    }\n",
       "\n",
       "    .dataframe thead tr th {\n",
       "        text-align: left;\n",
       "    }\n",
       "</style>\n",
       "<table border=\"1\" class=\"dataframe\">\n",
       "  <thead>\n",
       "    <tr>\n",
       "      <th></th>\n",
       "      <th>key_1</th>\n",
       "      <th>key_2</th>\n",
       "      <th colspan=\"2\" halign=\"left\">var_1</th>\n",
       "      <th>var_2</th>\n",
       "    </tr>\n",
       "    <tr>\n",
       "      <th></th>\n",
       "      <th></th>\n",
       "      <th></th>\n",
       "      <th>mean</th>\n",
       "      <th>max</th>\n",
       "      <th>median</th>\n",
       "    </tr>\n",
       "  </thead>\n",
       "  <tbody>\n",
       "    <tr>\n",
       "      <th>0</th>\n",
       "      <td>a</td>\n",
       "      <td>one</td>\n",
       "      <td>100.00</td>\n",
       "      <td>100</td>\n",
       "      <td>301.00</td>\n",
       "    </tr>\n",
       "    <tr>\n",
       "      <th>1</th>\n",
       "      <td>a</td>\n",
       "      <td>two</td>\n",
       "      <td>250.00</td>\n",
       "      <td>250</td>\n",
       "      <td>401.00</td>\n",
       "    </tr>\n",
       "    <tr>\n",
       "      <th>2</th>\n",
       "      <td>c</td>\n",
       "      <td>one</td>\n",
       "      <td>250.00</td>\n",
       "      <td>250</td>\n",
       "      <td>501.00</td>\n",
       "    </tr>\n",
       "    <tr>\n",
       "      <th>3</th>\n",
       "      <td>c</td>\n",
       "      <td>two</td>\n",
       "      <td>280.00</td>\n",
       "      <td>280</td>\n",
       "      <td>201.00</td>\n",
       "    </tr>\n",
       "    <tr>\n",
       "      <th>4</th>\n",
       "      <td>d</td>\n",
       "      <td>one</td>\n",
       "      <td>160.00</td>\n",
       "      <td>160</td>\n",
       "      <td>901.00</td>\n",
       "    </tr>\n",
       "    <tr>\n",
       "      <th>5</th>\n",
       "      <td>e</td>\n",
       "      <td>one</td>\n",
       "      <td>130.00</td>\n",
       "      <td>130</td>\n",
       "      <td>801.00</td>\n",
       "    </tr>\n",
       "  </tbody>\n",
       "</table>\n",
       "</div>"
      ],
      "text/plain": [
       "  key_1 key_2  var_1       var_2\n",
       "                mean  max median\n",
       "0     a   one 100.00  100 301.00\n",
       "1     a   two 250.00  250 401.00\n",
       "2     c   one 250.00  250 501.00\n",
       "3     c   two 280.00  280 201.00\n",
       "4     d   one 160.00  160 901.00\n",
       "5     e   one 130.00  130 801.00"
      ]
     },
     "execution_count": 36,
     "metadata": {},
     "output_type": "execute_result"
    }
   ],
   "source": [
    "df.groupby(['key_1', 'key_2'], as_index = False).agg({'var_1': ['mean', 'max'],\\\n",
    "                                                      'var_2': 'median'})"
   ]
  },
  {
   "cell_type": "markdown",
   "id": "464935fb",
   "metadata": {},
   "source": [
    "### Practical Example of Grouping (Iris Dataset)\n",
    "\n",
    "Iris dataset comes from an external source __rdatasets__, so we need to install it beforehand. \n",
    "\n",
    "```python \n",
    "1. Installing on jupyter notebook\n",
    "\n",
    "  !pip install rdatasets\n",
    "    \n",
    "2. Installing from the command line (Terminal or cmd)\n",
    "\n",
    "  pip install rdatasets\n",
    "    \n",
    "```"
   ]
  },
  {
   "cell_type": "code",
   "execution_count": 37,
   "id": "9a4ba518",
   "metadata": {},
   "outputs": [],
   "source": [
    "#!pip install rdatasets"
   ]
  },
  {
   "cell_type": "code",
   "execution_count": 38,
   "id": "32802e2a",
   "metadata": {},
   "outputs": [],
   "source": [
    "# import the data\n",
    "from rdatasets import data"
   ]
  },
  {
   "cell_type": "code",
   "execution_count": 39,
   "id": "e31c628a",
   "metadata": {},
   "outputs": [],
   "source": [
    "iris = data('iris')"
   ]
  },
  {
   "cell_type": "code",
   "execution_count": 40,
   "id": "ad7c8e83",
   "metadata": {},
   "outputs": [
    {
     "data": {
      "text/plain": [
       "pandas.core.frame.DataFrame"
      ]
     },
     "execution_count": 40,
     "metadata": {},
     "output_type": "execute_result"
    }
   ],
   "source": [
    "type(iris)"
   ]
  },
  {
   "cell_type": "markdown",
   "id": "a4d8f326",
   "metadata": {},
   "source": [
    "> iris data is pandas DataFrame. Thus we can apply what we learned in tutorial using this data."
   ]
  },
  {
   "cell_type": "code",
   "execution_count": 41,
   "id": "8d35689c",
   "metadata": {},
   "outputs": [
    {
     "data": {
      "text/html": [
       "<div>\n",
       "<style scoped>\n",
       "    .dataframe tbody tr th:only-of-type {\n",
       "        vertical-align: middle;\n",
       "    }\n",
       "\n",
       "    .dataframe tbody tr th {\n",
       "        vertical-align: top;\n",
       "    }\n",
       "\n",
       "    .dataframe thead th {\n",
       "        text-align: right;\n",
       "    }\n",
       "</style>\n",
       "<table border=\"1\" class=\"dataframe\">\n",
       "  <thead>\n",
       "    <tr style=\"text-align: right;\">\n",
       "      <th></th>\n",
       "      <th>Sepal.Length</th>\n",
       "      <th>Sepal.Width</th>\n",
       "      <th>Petal.Length</th>\n",
       "      <th>Petal.Width</th>\n",
       "      <th>Species</th>\n",
       "    </tr>\n",
       "  </thead>\n",
       "  <tbody>\n",
       "    <tr>\n",
       "      <th>0</th>\n",
       "      <td>5.10</td>\n",
       "      <td>3.50</td>\n",
       "      <td>1.40</td>\n",
       "      <td>0.20</td>\n",
       "      <td>setosa</td>\n",
       "    </tr>\n",
       "    <tr>\n",
       "      <th>1</th>\n",
       "      <td>4.90</td>\n",
       "      <td>3.00</td>\n",
       "      <td>1.40</td>\n",
       "      <td>0.20</td>\n",
       "      <td>setosa</td>\n",
       "    </tr>\n",
       "    <tr>\n",
       "      <th>2</th>\n",
       "      <td>4.70</td>\n",
       "      <td>3.20</td>\n",
       "      <td>1.30</td>\n",
       "      <td>0.20</td>\n",
       "      <td>setosa</td>\n",
       "    </tr>\n",
       "    <tr>\n",
       "      <th>3</th>\n",
       "      <td>4.60</td>\n",
       "      <td>3.10</td>\n",
       "      <td>1.50</td>\n",
       "      <td>0.20</td>\n",
       "      <td>setosa</td>\n",
       "    </tr>\n",
       "    <tr>\n",
       "      <th>4</th>\n",
       "      <td>5.00</td>\n",
       "      <td>3.60</td>\n",
       "      <td>1.40</td>\n",
       "      <td>0.20</td>\n",
       "      <td>setosa</td>\n",
       "    </tr>\n",
       "  </tbody>\n",
       "</table>\n",
       "</div>"
      ],
      "text/plain": [
       "   Sepal.Length  Sepal.Width  Petal.Length  Petal.Width Species\n",
       "0          5.10         3.50          1.40         0.20  setosa\n",
       "1          4.90         3.00          1.40         0.20  setosa\n",
       "2          4.70         3.20          1.30         0.20  setosa\n",
       "3          4.60         3.10          1.50         0.20  setosa\n",
       "4          5.00         3.60          1.40         0.20  setosa"
      ]
     },
     "execution_count": 41,
     "metadata": {},
     "output_type": "execute_result"
    }
   ],
   "source": [
    "iris.head()"
   ]
  },
  {
   "cell_type": "markdown",
   "id": "de16c9c9",
   "metadata": {},
   "source": [
    "### Task: \n",
    "\n",
    "The Dataset has five variables. four are numeric and one is categorical. We want to answer the following questions: \n",
    "\n",
    "   - How many categories? \n",
    "   \n",
    "   - What is the mean of each species?\n",
    "   \n",
    "   - The median, variance, standard deviation, min value, max value.\n",
    "   \n",
    "   - Compute the summary statistics for the variables **Sepal.length and Petal.Length** (not all the variables)"
   ]
  },
  {
   "cell_type": "markdown",
   "id": "73831075",
   "metadata": {},
   "source": [
    "#### A1: Count method is used to count how many categories in each group:\n",
    "\n",
    " - We can subset the results to get the results of the desired variable\n",
    " \n",
    "```python \n",
    "\n",
    "  df.groupby('col-to-group-by')['desired-column'].agg-function()\n",
    "```"
   ]
  },
  {
   "cell_type": "code",
   "execution_count": 42,
   "id": "baf52ed5",
   "metadata": {},
   "outputs": [
    {
     "data": {
      "text/html": [
       "<div>\n",
       "<style scoped>\n",
       "    .dataframe tbody tr th:only-of-type {\n",
       "        vertical-align: middle;\n",
       "    }\n",
       "\n",
       "    .dataframe tbody tr th {\n",
       "        vertical-align: top;\n",
       "    }\n",
       "\n",
       "    .dataframe thead th {\n",
       "        text-align: right;\n",
       "    }\n",
       "</style>\n",
       "<table border=\"1\" class=\"dataframe\">\n",
       "  <thead>\n",
       "    <tr style=\"text-align: right;\">\n",
       "      <th></th>\n",
       "      <th>Sepal.Length</th>\n",
       "      <th>Sepal.Width</th>\n",
       "      <th>Petal.Length</th>\n",
       "      <th>Petal.Width</th>\n",
       "    </tr>\n",
       "    <tr>\n",
       "      <th>Species</th>\n",
       "      <th></th>\n",
       "      <th></th>\n",
       "      <th></th>\n",
       "      <th></th>\n",
       "    </tr>\n",
       "  </thead>\n",
       "  <tbody>\n",
       "    <tr>\n",
       "      <th>setosa</th>\n",
       "      <td>50</td>\n",
       "      <td>50</td>\n",
       "      <td>50</td>\n",
       "      <td>50</td>\n",
       "    </tr>\n",
       "    <tr>\n",
       "      <th>versicolor</th>\n",
       "      <td>50</td>\n",
       "      <td>50</td>\n",
       "      <td>50</td>\n",
       "      <td>50</td>\n",
       "    </tr>\n",
       "    <tr>\n",
       "      <th>virginica</th>\n",
       "      <td>50</td>\n",
       "      <td>50</td>\n",
       "      <td>50</td>\n",
       "      <td>50</td>\n",
       "    </tr>\n",
       "  </tbody>\n",
       "</table>\n",
       "</div>"
      ],
      "text/plain": [
       "            Sepal.Length  Sepal.Width  Petal.Length  Petal.Width\n",
       "Species                                                         \n",
       "setosa                50           50            50           50\n",
       "versicolor            50           50            50           50\n",
       "virginica             50           50            50           50"
      ]
     },
     "execution_count": 42,
     "metadata": {},
     "output_type": "execute_result"
    }
   ],
   "source": [
    "iris.groupby('Species').count()"
   ]
  },
  {
   "cell_type": "markdown",
   "id": "b817a5a0",
   "metadata": {},
   "source": [
    "- We see that we have a balanced data. We can subset the result to have only __Sepal.Length__ like this.\n",
    "\n",
    "\n",
    "- Note that this is a very common task in data analysis"
   ]
  },
  {
   "cell_type": "code",
   "execution_count": 43,
   "id": "d3be0213",
   "metadata": {},
   "outputs": [
    {
     "data": {
      "text/plain": [
       "Species\n",
       "setosa        50\n",
       "versicolor    50\n",
       "virginica     50\n",
       "Name: Sepal.Length, dtype: int64"
      ]
     },
     "execution_count": 43,
     "metadata": {},
     "output_type": "execute_result"
    }
   ],
   "source": [
    "iris.groupby('Species')['Sepal.Length'].count()"
   ]
  },
  {
   "cell_type": "markdown",
   "id": "8d2c7432",
   "metadata": {},
   "source": [
    "#### A2: The mean of each species"
   ]
  },
  {
   "cell_type": "code",
   "execution_count": 44,
   "id": "82f59674",
   "metadata": {},
   "outputs": [
    {
     "data": {
      "text/html": [
       "<div>\n",
       "<style scoped>\n",
       "    .dataframe tbody tr th:only-of-type {\n",
       "        vertical-align: middle;\n",
       "    }\n",
       "\n",
       "    .dataframe tbody tr th {\n",
       "        vertical-align: top;\n",
       "    }\n",
       "\n",
       "    .dataframe thead th {\n",
       "        text-align: right;\n",
       "    }\n",
       "</style>\n",
       "<table border=\"1\" class=\"dataframe\">\n",
       "  <thead>\n",
       "    <tr style=\"text-align: right;\">\n",
       "      <th></th>\n",
       "      <th>Sepal.Length</th>\n",
       "      <th>Sepal.Width</th>\n",
       "      <th>Petal.Length</th>\n",
       "      <th>Petal.Width</th>\n",
       "    </tr>\n",
       "    <tr>\n",
       "      <th>Species</th>\n",
       "      <th></th>\n",
       "      <th></th>\n",
       "      <th></th>\n",
       "      <th></th>\n",
       "    </tr>\n",
       "  </thead>\n",
       "  <tbody>\n",
       "    <tr>\n",
       "      <th>setosa</th>\n",
       "      <td>5.01</td>\n",
       "      <td>3.43</td>\n",
       "      <td>1.46</td>\n",
       "      <td>0.25</td>\n",
       "    </tr>\n",
       "    <tr>\n",
       "      <th>versicolor</th>\n",
       "      <td>5.94</td>\n",
       "      <td>2.77</td>\n",
       "      <td>4.26</td>\n",
       "      <td>1.33</td>\n",
       "    </tr>\n",
       "    <tr>\n",
       "      <th>virginica</th>\n",
       "      <td>6.59</td>\n",
       "      <td>2.97</td>\n",
       "      <td>5.55</td>\n",
       "      <td>2.03</td>\n",
       "    </tr>\n",
       "  </tbody>\n",
       "</table>\n",
       "</div>"
      ],
      "text/plain": [
       "            Sepal.Length  Sepal.Width  Petal.Length  Petal.Width\n",
       "Species                                                         \n",
       "setosa              5.01         3.43          1.46         0.25\n",
       "versicolor          5.94         2.77          4.26         1.33\n",
       "virginica           6.59         2.97          5.55         2.03"
      ]
     },
     "execution_count": 44,
     "metadata": {},
     "output_type": "execute_result"
    }
   ],
   "source": [
    "iris.groupby('Species').mean()"
   ]
  },
  {
   "cell_type": "markdown",
   "id": "1ce9eb72",
   "metadata": {},
   "source": [
    "> The other aggregate functions are done the same way"
   ]
  },
  {
   "cell_type": "markdown",
   "id": "123d9967",
   "metadata": {},
   "source": [
    "#### The Summary Statistics for Sepal.length and Petal.Length"
   ]
  },
  {
   "cell_type": "code",
   "execution_count": 45,
   "id": "d6195449",
   "metadata": {},
   "outputs": [
    {
     "data": {
      "text/html": [
       "<div>\n",
       "<style scoped>\n",
       "    .dataframe tbody tr th:only-of-type {\n",
       "        vertical-align: middle;\n",
       "    }\n",
       "\n",
       "    .dataframe tbody tr th {\n",
       "        vertical-align: top;\n",
       "    }\n",
       "\n",
       "    .dataframe thead tr th {\n",
       "        text-align: left;\n",
       "    }\n",
       "\n",
       "    .dataframe thead tr:last-of-type th {\n",
       "        text-align: right;\n",
       "    }\n",
       "</style>\n",
       "<table border=\"1\" class=\"dataframe\">\n",
       "  <thead>\n",
       "    <tr>\n",
       "      <th></th>\n",
       "      <th colspan=\"8\" halign=\"left\">Sepal.Length</th>\n",
       "      <th colspan=\"8\" halign=\"left\">Petal.Length</th>\n",
       "    </tr>\n",
       "    <tr>\n",
       "      <th></th>\n",
       "      <th>count</th>\n",
       "      <th>mean</th>\n",
       "      <th>std</th>\n",
       "      <th>min</th>\n",
       "      <th>25%</th>\n",
       "      <th>50%</th>\n",
       "      <th>75%</th>\n",
       "      <th>max</th>\n",
       "      <th>count</th>\n",
       "      <th>mean</th>\n",
       "      <th>std</th>\n",
       "      <th>min</th>\n",
       "      <th>25%</th>\n",
       "      <th>50%</th>\n",
       "      <th>75%</th>\n",
       "      <th>max</th>\n",
       "    </tr>\n",
       "    <tr>\n",
       "      <th>Species</th>\n",
       "      <th></th>\n",
       "      <th></th>\n",
       "      <th></th>\n",
       "      <th></th>\n",
       "      <th></th>\n",
       "      <th></th>\n",
       "      <th></th>\n",
       "      <th></th>\n",
       "      <th></th>\n",
       "      <th></th>\n",
       "      <th></th>\n",
       "      <th></th>\n",
       "      <th></th>\n",
       "      <th></th>\n",
       "      <th></th>\n",
       "      <th></th>\n",
       "    </tr>\n",
       "  </thead>\n",
       "  <tbody>\n",
       "    <tr>\n",
       "      <th>setosa</th>\n",
       "      <td>50.00</td>\n",
       "      <td>5.01</td>\n",
       "      <td>0.35</td>\n",
       "      <td>4.30</td>\n",
       "      <td>4.80</td>\n",
       "      <td>5.00</td>\n",
       "      <td>5.20</td>\n",
       "      <td>5.80</td>\n",
       "      <td>50.00</td>\n",
       "      <td>1.46</td>\n",
       "      <td>0.17</td>\n",
       "      <td>1.00</td>\n",
       "      <td>1.40</td>\n",
       "      <td>1.50</td>\n",
       "      <td>1.58</td>\n",
       "      <td>1.90</td>\n",
       "    </tr>\n",
       "    <tr>\n",
       "      <th>versicolor</th>\n",
       "      <td>50.00</td>\n",
       "      <td>5.94</td>\n",
       "      <td>0.52</td>\n",
       "      <td>4.90</td>\n",
       "      <td>5.60</td>\n",
       "      <td>5.90</td>\n",
       "      <td>6.30</td>\n",
       "      <td>7.00</td>\n",
       "      <td>50.00</td>\n",
       "      <td>4.26</td>\n",
       "      <td>0.47</td>\n",
       "      <td>3.00</td>\n",
       "      <td>4.00</td>\n",
       "      <td>4.35</td>\n",
       "      <td>4.60</td>\n",
       "      <td>5.10</td>\n",
       "    </tr>\n",
       "    <tr>\n",
       "      <th>virginica</th>\n",
       "      <td>50.00</td>\n",
       "      <td>6.59</td>\n",
       "      <td>0.64</td>\n",
       "      <td>4.90</td>\n",
       "      <td>6.23</td>\n",
       "      <td>6.50</td>\n",
       "      <td>6.90</td>\n",
       "      <td>7.90</td>\n",
       "      <td>50.00</td>\n",
       "      <td>5.55</td>\n",
       "      <td>0.55</td>\n",
       "      <td>4.50</td>\n",
       "      <td>5.10</td>\n",
       "      <td>5.55</td>\n",
       "      <td>5.88</td>\n",
       "      <td>6.90</td>\n",
       "    </tr>\n",
       "  </tbody>\n",
       "</table>\n",
       "</div>"
      ],
      "text/plain": [
       "           Sepal.Length                                    Petal.Length       \\\n",
       "                  count mean  std  min  25%  50%  75%  max        count mean   \n",
       "Species                                                                        \n",
       "setosa            50.00 5.01 0.35 4.30 4.80 5.00 5.20 5.80        50.00 1.46   \n",
       "versicolor        50.00 5.94 0.52 4.90 5.60 5.90 6.30 7.00        50.00 4.26   \n",
       "virginica         50.00 6.59 0.64 4.90 6.23 6.50 6.90 7.90        50.00 5.55   \n",
       "\n",
       "                                          \n",
       "            std  min  25%  50%  75%  max  \n",
       "Species                                   \n",
       "setosa     0.17 1.00 1.40 1.50 1.58 1.90  \n",
       "versicolor 0.47 3.00 4.00 4.35 4.60 5.10  \n",
       "virginica  0.55 4.50 5.10 5.55 5.88 6.90  "
      ]
     },
     "execution_count": 45,
     "metadata": {},
     "output_type": "execute_result"
    }
   ],
   "source": [
    "iris.groupby('Species')[['Sepal.Length', 'Petal.Length']].describe()"
   ]
  },
  {
   "cell_type": "markdown",
   "id": "82e1026f",
   "metadata": {},
   "source": [
    "#### Here it is best to transpose the results"
   ]
  },
  {
   "cell_type": "code",
   "execution_count": 46,
   "id": "6084a8ae",
   "metadata": {},
   "outputs": [
    {
     "data": {
      "text/html": [
       "<div>\n",
       "<style scoped>\n",
       "    .dataframe tbody tr th:only-of-type {\n",
       "        vertical-align: middle;\n",
       "    }\n",
       "\n",
       "    .dataframe tbody tr th {\n",
       "        vertical-align: top;\n",
       "    }\n",
       "\n",
       "    .dataframe thead th {\n",
       "        text-align: right;\n",
       "    }\n",
       "</style>\n",
       "<table border=\"1\" class=\"dataframe\">\n",
       "  <thead>\n",
       "    <tr style=\"text-align: right;\">\n",
       "      <th></th>\n",
       "      <th>Species</th>\n",
       "      <th>setosa</th>\n",
       "      <th>versicolor</th>\n",
       "      <th>virginica</th>\n",
       "    </tr>\n",
       "  </thead>\n",
       "  <tbody>\n",
       "    <tr>\n",
       "      <th rowspan=\"8\" valign=\"top\">Sepal.Length</th>\n",
       "      <th>count</th>\n",
       "      <td>50.00</td>\n",
       "      <td>50.00</td>\n",
       "      <td>50.00</td>\n",
       "    </tr>\n",
       "    <tr>\n",
       "      <th>mean</th>\n",
       "      <td>5.01</td>\n",
       "      <td>5.94</td>\n",
       "      <td>6.59</td>\n",
       "    </tr>\n",
       "    <tr>\n",
       "      <th>std</th>\n",
       "      <td>0.35</td>\n",
       "      <td>0.52</td>\n",
       "      <td>0.64</td>\n",
       "    </tr>\n",
       "    <tr>\n",
       "      <th>min</th>\n",
       "      <td>4.30</td>\n",
       "      <td>4.90</td>\n",
       "      <td>4.90</td>\n",
       "    </tr>\n",
       "    <tr>\n",
       "      <th>25%</th>\n",
       "      <td>4.80</td>\n",
       "      <td>5.60</td>\n",
       "      <td>6.23</td>\n",
       "    </tr>\n",
       "    <tr>\n",
       "      <th>50%</th>\n",
       "      <td>5.00</td>\n",
       "      <td>5.90</td>\n",
       "      <td>6.50</td>\n",
       "    </tr>\n",
       "    <tr>\n",
       "      <th>75%</th>\n",
       "      <td>5.20</td>\n",
       "      <td>6.30</td>\n",
       "      <td>6.90</td>\n",
       "    </tr>\n",
       "    <tr>\n",
       "      <th>max</th>\n",
       "      <td>5.80</td>\n",
       "      <td>7.00</td>\n",
       "      <td>7.90</td>\n",
       "    </tr>\n",
       "    <tr>\n",
       "      <th rowspan=\"8\" valign=\"top\">Petal.Length</th>\n",
       "      <th>count</th>\n",
       "      <td>50.00</td>\n",
       "      <td>50.00</td>\n",
       "      <td>50.00</td>\n",
       "    </tr>\n",
       "    <tr>\n",
       "      <th>mean</th>\n",
       "      <td>1.46</td>\n",
       "      <td>4.26</td>\n",
       "      <td>5.55</td>\n",
       "    </tr>\n",
       "    <tr>\n",
       "      <th>std</th>\n",
       "      <td>0.17</td>\n",
       "      <td>0.47</td>\n",
       "      <td>0.55</td>\n",
       "    </tr>\n",
       "    <tr>\n",
       "      <th>min</th>\n",
       "      <td>1.00</td>\n",
       "      <td>3.00</td>\n",
       "      <td>4.50</td>\n",
       "    </tr>\n",
       "    <tr>\n",
       "      <th>25%</th>\n",
       "      <td>1.40</td>\n",
       "      <td>4.00</td>\n",
       "      <td>5.10</td>\n",
       "    </tr>\n",
       "    <tr>\n",
       "      <th>50%</th>\n",
       "      <td>1.50</td>\n",
       "      <td>4.35</td>\n",
       "      <td>5.55</td>\n",
       "    </tr>\n",
       "    <tr>\n",
       "      <th>75%</th>\n",
       "      <td>1.58</td>\n",
       "      <td>4.60</td>\n",
       "      <td>5.88</td>\n",
       "    </tr>\n",
       "    <tr>\n",
       "      <th>max</th>\n",
       "      <td>1.90</td>\n",
       "      <td>5.10</td>\n",
       "      <td>6.90</td>\n",
       "    </tr>\n",
       "  </tbody>\n",
       "</table>\n",
       "</div>"
      ],
      "text/plain": [
       "Species             setosa  versicolor  virginica\n",
       "Sepal.Length count   50.00       50.00      50.00\n",
       "             mean     5.01        5.94       6.59\n",
       "             std      0.35        0.52       0.64\n",
       "             min      4.30        4.90       4.90\n",
       "             25%      4.80        5.60       6.23\n",
       "             50%      5.00        5.90       6.50\n",
       "             75%      5.20        6.30       6.90\n",
       "             max      5.80        7.00       7.90\n",
       "Petal.Length count   50.00       50.00      50.00\n",
       "             mean     1.46        4.26       5.55\n",
       "             std      0.17        0.47       0.55\n",
       "             min      1.00        3.00       4.50\n",
       "             25%      1.40        4.00       5.10\n",
       "             50%      1.50        4.35       5.55\n",
       "             75%      1.58        4.60       5.88\n",
       "             max      1.90        5.10       6.90"
      ]
     },
     "execution_count": 46,
     "metadata": {},
     "output_type": "execute_result"
    }
   ],
   "source": [
    "iris.groupby('Species')[['Sepal.Length', 'Petal.Length']].describe().transpose()"
   ]
  },
  {
   "cell_type": "markdown",
   "id": "25260984",
   "metadata": {},
   "source": [
    "# Congratulations on completing this tutorial"
   ]
  }
 ],
 "metadata": {
  "kernelspec": {
   "display_name": "Python 3",
   "language": "python",
   "name": "python3"
  },
  "language_info": {
   "codemirror_mode": {
    "name": "ipython",
    "version": 3
   },
   "file_extension": ".py",
   "mimetype": "text/x-python",
   "name": "python",
   "nbconvert_exporter": "python",
   "pygments_lexer": "ipython3",
   "version": "3.8.2"
  }
 },
 "nbformat": 4,
 "nbformat_minor": 5
}
