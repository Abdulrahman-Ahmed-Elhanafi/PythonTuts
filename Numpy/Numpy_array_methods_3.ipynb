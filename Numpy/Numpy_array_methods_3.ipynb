{
 "cells": [
  {
   "cell_type": "markdown",
   "id": "9a5749fc",
   "metadata": {},
   "source": [
    "# Numpy methods"
   ]
  },
  {
   "cell_type": "code",
   "execution_count": null,
   "id": "8c584c85",
   "metadata": {},
   "outputs": [],
   "source": [
    "import numpy as np"
   ]
  },
  {
   "cell_type": "code",
   "execution_count": null,
   "id": "0540f978",
   "metadata": {},
   "outputs": [],
   "source": [
    "arr1 = np.arange(20)\n",
    "arr1"
   ]
  },
  {
   "cell_type": "code",
   "execution_count": null,
   "id": "de49cc73",
   "metadata": {},
   "outputs": [],
   "source": [
    "arr2 = np.random.randint(0, 10, 10)\n",
    "arr2"
   ]
  },
  {
   "cell_type": "markdown",
   "id": "9c6e1e58",
   "metadata": {},
   "source": [
    "### 1. Reshape method\n",
    "\n",
    "   this method changes the shape of an array by passing the number of rows and the number of columns"
   ]
  },
  {
   "cell_type": "code",
   "execution_count": null,
   "id": "8977726c",
   "metadata": {},
   "outputs": [],
   "source": [
    "arr1.shape"
   ]
  },
  {
   "cell_type": "code",
   "execution_count": null,
   "id": "04b53635",
   "metadata": {},
   "outputs": [],
   "source": [
    "arr1.reshape(4, 5)"
   ]
  },
  {
   "cell_type": "code",
   "execution_count": null,
   "id": "32d1cbb3",
   "metadata": {},
   "outputs": [],
   "source": [
    "arr2.shape"
   ]
  },
  {
   "cell_type": "code",
   "execution_count": null,
   "id": "90f4a678",
   "metadata": {},
   "outputs": [],
   "source": [
    "arr2.reshape(2, 5)"
   ]
  },
  {
   "cell_type": "markdown",
   "id": "8756a0d0",
   "metadata": {},
   "source": [
    "## Manupulating Array Shapes \n",
    "\n",
    "### Flattening an Array\n",
    "\n",
    "  - Flattening an array means transforming a multidimensional array inot a one-dimensional array."
   ]
  },
  {
   "cell_type": "markdown",
   "id": "c6452bd0",
   "metadata": {},
   "source": [
    "#### Ravel()\n",
    "   \n",
    "   - ravel method does not make a copy of an array, it returns a view of an array instead."
   ]
  },
  {
   "cell_type": "code",
   "execution_count": null,
   "id": "3b8bf163",
   "metadata": {},
   "outputs": [],
   "source": [
    "a = np.array([np.arange(12).reshape(3, 4), \n",
    "             np.arange(12, 24).reshape(3, 4)])\n",
    "a"
   ]
  },
  {
   "cell_type": "code",
   "execution_count": null,
   "id": "3b8263c3",
   "metadata": {},
   "outputs": [],
   "source": [
    "a.shape"
   ]
  },
  {
   "cell_type": "code",
   "execution_count": null,
   "id": "e8deaa71",
   "metadata": {},
   "outputs": [],
   "source": [
    "a_ravel = a.ravel()\n",
    "a_ravel"
   ]
  },
  {
   "cell_type": "code",
   "execution_count": null,
   "id": "4c0c9eb6",
   "metadata": {},
   "outputs": [],
   "source": [
    "a_ravel.shape"
   ]
  },
  {
   "cell_type": "markdown",
   "id": "5aa92e32",
   "metadata": {},
   "source": [
    "#### flatten()\n",
    "\n",
    "  - Flatten method makes a copy of an array"
   ]
  },
  {
   "cell_type": "code",
   "execution_count": null,
   "id": "5ae93db1",
   "metadata": {},
   "outputs": [],
   "source": [
    "a_flat = a.flatten()\n",
    "a_flat"
   ]
  },
  {
   "cell_type": "code",
   "execution_count": null,
   "id": "12b47b31",
   "metadata": {},
   "outputs": [],
   "source": [
    "a_flat.shape"
   ]
  },
  {
   "cell_type": "markdown",
   "id": "cf0d9a10",
   "metadata": {},
   "source": [
    "#### shape()\n",
    "\n",
    "  - we can use shape to reshape an array by assigning a tuple to it"
   ]
  },
  {
   "cell_type": "code",
   "execution_count": null,
   "id": "be1066fd",
   "metadata": {},
   "outputs": [],
   "source": [
    "a.shape = (6, 4)\n",
    "a"
   ]
  },
  {
   "cell_type": "code",
   "execution_count": null,
   "id": "fb335450",
   "metadata": {},
   "outputs": [],
   "source": [
    "b = a.copy()\n",
    "b"
   ]
  },
  {
   "cell_type": "markdown",
   "id": "11bfc856",
   "metadata": {},
   "source": [
    "#### tranpose() \n",
    "\n",
    "  - It is a common task in linear algebra to transpose matrices. We can achieve that by using transpose method"
   ]
  },
  {
   "cell_type": "code",
   "execution_count": null,
   "id": "8debc096",
   "metadata": {},
   "outputs": [],
   "source": [
    "b_transp = b.transpose()\n",
    "b_transp"
   ]
  },
  {
   "cell_type": "markdown",
   "id": "350726fa",
   "metadata": {},
   "source": [
    "#### resize()\n",
    "\n",
    "  - resize works just the reshape method but it modifies the array it works on. Two important features of resize, it changes both the **size** and the **shape**. \n",
    "  \n",
    "  - You need to pay attention to how the data is stored in memory, for example by row (c) or by column (Fortran) "
   ]
  },
  {
   "cell_type": "markdown",
   "id": "8c7c03d2",
   "metadata": {},
   "source": [
    "##### Example of using reshape"
   ]
  },
  {
   "cell_type": "code",
   "execution_count": null,
   "id": "81a59394",
   "metadata": {},
   "outputs": [],
   "source": [
    "c = b_transp.copy()\n",
    "c.resize((2, 12))\n",
    "c"
   ]
  },
  {
   "cell_type": "markdown",
   "id": "1f60230a",
   "metadata": {},
   "source": [
    "#### other examples of reshape"
   ]
  },
  {
   "cell_type": "code",
   "execution_count": null,
   "id": "ec60f13b",
   "metadata": {},
   "outputs": [],
   "source": [
    "arr = np.array([[2, 4, 6], [0, 1, 2]], order = 'C') \n",
    "arr.resize((2, 1)) \n",
    "arr"
   ]
  },
  {
   "cell_type": "code",
   "execution_count": null,
   "id": "1d8fd585",
   "metadata": {},
   "outputs": [],
   "source": [
    "# Resize the previous array to have one column and two rows\n",
    "arr = np.array([[2, 4, 6], [0, 1, 2]], order = 'F') \n",
    "arr.resize((2, 1)) \n",
    "arr"
   ]
  },
  {
   "cell_type": "code",
   "execution_count": null,
   "id": "77052406",
   "metadata": {},
   "outputs": [],
   "source": [
    "arr = np.array([[2, 4, 6], [0, 1, 2]], order = 'C') \n",
    "arr"
   ]
  },
  {
   "cell_type": "markdown",
   "id": "de1f96ce",
   "metadata": {},
   "source": [
    "We have to use the argument __refcheck = False__ if the memory is allocated for other object, otherwise resize fails"
   ]
  },
  {
   "cell_type": "code",
   "execution_count": null,
   "id": "4603620d",
   "metadata": {},
   "outputs": [],
   "source": [
    "arr.resize(2, 2)"
   ]
  },
  {
   "cell_type": "code",
   "execution_count": null,
   "id": "b75443bb",
   "metadata": {},
   "outputs": [],
   "source": [
    "## We can fix the error by adding refcheck = False\n",
    "arr.resize(2, 2, refcheck = False)\n",
    "arr"
   ]
  },
  {
   "cell_type": "markdown",
   "id": "0e0a376b",
   "metadata": {},
   "source": [
    "## Joining Arrays (Concatenation)\n",
    "\n",
    "  - **concatenate method**"
   ]
  },
  {
   "cell_type": "markdown",
   "id": "3e34d310",
   "metadata": {},
   "source": [
    "  **1. Joing 1-D arrays** "
   ]
  },
  {
   "cell_type": "code",
   "execution_count": null,
   "id": "19f8dd06",
   "metadata": {},
   "outputs": [],
   "source": [
    "arr1 = np.array([11, 22, 33])\n",
    "\n",
    "arr2 = np.array([44, 55, 66])\n",
    "\n",
    "arr = np.concatenate((arr1, arr2))\n",
    "\n",
    "arr"
   ]
  },
  {
   "cell_type": "markdown",
   "id": "641ed788",
   "metadata": {},
   "source": [
    "  **2. Joining 2-D arrays**\n",
    "  \n",
    "   - Joining 2-D arrays requires the axis we want to join on (axis = 0 ==> rows, axis = 1 ===> columns)  "
   ]
  },
  {
   "cell_type": "code",
   "execution_count": null,
   "id": "1c78ea28",
   "metadata": {},
   "outputs": [],
   "source": [
    "mat_1 = np.array([[10, 11],\n",
    "                 [20, 21]])\n",
    "mat_2 = np.array([[1, 2],\n",
    "                 [3, 4]])"
   ]
  },
  {
   "cell_type": "markdown",
   "id": "0a837524",
   "metadata": {},
   "source": [
    "####  Joining on rows"
   ]
  },
  {
   "cell_type": "code",
   "execution_count": null,
   "id": "33ad51bc",
   "metadata": {},
   "outputs": [],
   "source": [
    "mat_row = np.concatenate((mat_1, mat_2), axis = 0)\n",
    "mat_row"
   ]
  },
  {
   "cell_type": "markdown",
   "id": "edb15aa5",
   "metadata": {},
   "source": [
    "####  Joining on columns"
   ]
  },
  {
   "cell_type": "code",
   "execution_count": null,
   "id": "7d3cb7cb",
   "metadata": {},
   "outputs": [],
   "source": [
    "mat_col = np.concatenate((mat_1, mat_2), axis = 1)\n",
    "mat_col"
   ]
  },
  {
   "cell_type": "markdown",
   "id": "ecbaaa9e",
   "metadata": {},
   "source": [
    "## Stacking Arrays\n",
    "\n",
    "  - We have already seen the concatenate method, and now we see other methods"
   ]
  },
  {
   "cell_type": "markdown",
   "id": "356574d3",
   "metadata": {},
   "source": [
    "### 1. Stacking horizontally\n",
    "\n",
    "   - Stacking horizontally means concatenating arrays by columns. We achieve that by passing a tuple argument to htack method"
   ]
  },
  {
   "cell_type": "code",
   "execution_count": null,
   "id": "82553abf",
   "metadata": {},
   "outputs": [],
   "source": [
    "h1 = np.array(np.arange(9).reshape(3,3))\n",
    "h2 = np.array(np.arange(10, 19).reshape(3,3))\n",
    "print(h1)\n",
    "print(h2)"
   ]
  },
  {
   "cell_type": "code",
   "execution_count": null,
   "id": "bd42eae7",
   "metadata": {},
   "outputs": [],
   "source": [
    "np.hstack((h1, h2))"
   ]
  },
  {
   "cell_type": "markdown",
   "id": "11a8fb31",
   "metadata": {},
   "source": [
    "  We can obtain the same result using concatenate method on the second axis (axis =1)"
   ]
  },
  {
   "cell_type": "code",
   "execution_count": null,
   "id": "a49eedd2",
   "metadata": {},
   "outputs": [],
   "source": [
    "np.concatenate((h1, h2), axis=1)"
   ]
  },
  {
   "cell_type": "markdown",
   "id": "97605496",
   "metadata": {},
   "source": [
    "### 2. Stacking vertically\n",
    "\n",
    "   - Stacking vertically can be achieved using vstack method"
   ]
  },
  {
   "cell_type": "code",
   "execution_count": null,
   "id": "c2094c7f",
   "metadata": {},
   "outputs": [],
   "source": [
    "v1 = np.array(np.arange(9).reshape(3,3))\n",
    "v2 = np.array(np.arange(0, 25, 3).reshape(3, 3))\n",
    "v1"
   ]
  },
  {
   "cell_type": "code",
   "execution_count": null,
   "id": "a7596300",
   "metadata": {},
   "outputs": [],
   "source": [
    "v2"
   ]
  },
  {
   "cell_type": "code",
   "execution_count": null,
   "id": "ee5929b6",
   "metadata": {},
   "outputs": [],
   "source": [
    "np.vstack((v1, v2))"
   ]
  },
  {
   "cell_type": "markdown",
   "id": "630c5189",
   "metadata": {},
   "source": [
    "We can achieve the same result using concatenate with axis = 0 "
   ]
  },
  {
   "cell_type": "code",
   "execution_count": null,
   "id": "ccc76152",
   "metadata": {},
   "outputs": [],
   "source": [
    "np.concatenate((v1, v2), axis = 0)"
   ]
  },
  {
   "cell_type": "markdown",
   "id": "5523fc0b",
   "metadata": {},
   "source": [
    "### 3. Depth stacking \n",
    "\n",
    "   - Depth stacking means using the third axis (depth). dstack method is used for this purpose by passing a tuple to it. \n",
    "   \n",
    "   - Example: We can stack a 2-D array image on top of each other"
   ]
  },
  {
   "cell_type": "code",
   "execution_count": null,
   "id": "af732c05",
   "metadata": {},
   "outputs": [],
   "source": [
    "a = np.arange(9).reshape(3, 3)\n",
    "b = np.arange(0, 33, 4).reshape(3,3)\n",
    "print(a)\n",
    "print(b)"
   ]
  },
  {
   "cell_type": "code",
   "execution_count": null,
   "id": "095bb0f9",
   "metadata": {},
   "outputs": [],
   "source": []
  },
  {
   "cell_type": "code",
   "execution_count": null,
   "id": "ef821e38",
   "metadata": {},
   "outputs": [],
   "source": [
    "d_stacked = np.dstack((a, b))\n",
    "d_stacked\n"
   ]
  },
  {
   "cell_type": "markdown",
   "id": "acccbb97",
   "metadata": {},
   "source": [
    "### 4. Stacking one-demensional array\n",
    "\n",
    "##### 4.1. Column Stacking:\n",
    "\n",
    "   column_stack method stack one-demensional arrays column-wise by passing a tuple to it. "
   ]
  },
  {
   "cell_type": "code",
   "execution_count": null,
   "id": "0774d9a1",
   "metadata": {},
   "outputs": [],
   "source": [
    "c1 = np.arange(3)\n",
    "c2 = c1 * 3\n",
    "c3 = (c1 + c2) * 3 \n",
    "c1, c2, c3"
   ]
  },
  {
   "cell_type": "code",
   "execution_count": null,
   "id": "cbe229e2",
   "metadata": {},
   "outputs": [],
   "source": [
    "c_s = np.column_stack((c1, c2, c3))\n",
    "c_s"
   ]
  },
  {
   "cell_type": "markdown",
   "id": "2b173c3d",
   "metadata": {},
   "source": [
    "Compare with vstack method, the results are totally different"
   ]
  },
  {
   "cell_type": "code",
   "execution_count": null,
   "id": "5c36ff94",
   "metadata": {},
   "outputs": [],
   "source": [
    "np.vstack((c1, c2, c3))"
   ]
  },
  {
   "cell_type": "markdown",
   "id": "ab817ad8",
   "metadata": {},
   "source": [
    "Warning: hstack method does not work as intended on one-dimensional arrays"
   ]
  },
  {
   "cell_type": "code",
   "execution_count": null,
   "id": "ac102ff4",
   "metadata": {},
   "outputs": [],
   "source": [
    "np.hstack((c1, c2, c3))"
   ]
  },
  {
   "cell_type": "code",
   "execution_count": null,
   "id": "faa891bd",
   "metadata": {},
   "outputs": [],
   "source": []
  },
  {
   "cell_type": "markdown",
   "id": "0973a439",
   "metadata": {},
   "source": [
    "  One benefit from column_stack method, it works just like hstack method for stacking two-dimensional arrays"
   ]
  },
  {
   "cell_type": "code",
   "execution_count": null,
   "id": "54c70f57",
   "metadata": {},
   "outputs": [],
   "source": [
    "# Stack the previously stacked array\n",
    "np.column_stack((c_s, c_s))"
   ]
  },
  {
   "cell_type": "markdown",
   "id": "4c2c7952",
   "metadata": {},
   "source": [
    "  Check if the two methods give the same results"
   ]
  },
  {
   "cell_type": "code",
   "execution_count": null,
   "id": "e91a5b92",
   "metadata": {},
   "outputs": [],
   "source": [
    "np.column_stack((c_s, c_s)) == np.hstack((c_s, c_s))"
   ]
  },
  {
   "cell_type": "markdown",
   "id": "37f5f272",
   "metadata": {},
   "source": [
    "#### 4.2 Row stacking\n",
    "\n",
    "  - rwo_stack method does row-wise stacking by putting each row on top the other. And it results a two-dimensional array."
   ]
  },
  {
   "cell_type": "code",
   "execution_count": null,
   "id": "2831250f",
   "metadata": {},
   "outputs": [],
   "source": [
    "r1 = np.linspace(1, 5, num = 5)\n",
    "r2 = r1 * 2\n",
    "r1, r2"
   ]
  },
  {
   "cell_type": "code",
   "execution_count": null,
   "id": "32914ae8",
   "metadata": {},
   "outputs": [],
   "source": [
    "r_s = np.row_stack((r1, r2))\n",
    "r_s"
   ]
  },
  {
   "cell_type": "markdown",
   "id": "4fa0a282",
   "metadata": {},
   "source": [
    " for some reasons, **vstack** method works the same as **row_stack** on one-dimensional arrays"
   ]
  },
  {
   "cell_type": "code",
   "execution_count": null,
   "id": "ab765a44",
   "metadata": {},
   "outputs": [],
   "source": [
    "np.vstack((r1, r2)) "
   ]
  },
  {
   "cell_type": "code",
   "execution_count": null,
   "id": "3220cf5d",
   "metadata": {},
   "outputs": [],
   "source": [
    "# We can check if they are equal \n",
    "np.vstack((r1, r2)) == np.row_stack((r1, r2))"
   ]
  },
  {
   "cell_type": "code",
   "execution_count": null,
   "id": "650c323d",
   "metadata": {},
   "outputs": [],
   "source": [
    "np.vstack((r1, r1, r1, r2, r2, r2))"
   ]
  },
  {
   "cell_type": "code",
   "execution_count": null,
   "id": "48a800bb",
   "metadata": {},
   "outputs": [],
   "source": [
    "np.row_stack((r1, r1, r1, r2, r2, r2))"
   ]
  },
  {
   "cell_type": "markdown",
   "id": "4195a3d8",
   "metadata": {},
   "source": [
    "### Remarks\n",
    "\n",
    "  - **vstack, and row_stack methods on one-dimensional arrays returns a tww-dimensional array**\n",
    "  \n",
    "  - **row_stack resutls the same results as vstack on two-dimensional arrays**"
   ]
  },
  {
   "cell_type": "code",
   "execution_count": null,
   "id": "3a029b5b",
   "metadata": {},
   "outputs": [],
   "source": [
    "np.row_stack((r_s, r_s)) == np.vstack((r_s, r_s)) "
   ]
  },
  {
   "cell_type": "markdown",
   "id": "d8517510",
   "metadata": {},
   "source": [
    "## Splitting Arrays\n",
    "\n",
    "   - We have already seen that we can joing arrays in different ways. What about the opposite process, **splitting**. We can do that as well horizontally, vertically or depth-wise. \n",
    "   \n",
    "   - The methods used in this section are \n",
    "   \n",
    "       - **hsplit for horizontal splitting** \n",
    "       \n",
    "       - **vsplit for vertical splitting**\n",
    "       \n",
    "       - **dsplit for depth-wise splitting**\n",
    "       \n",
    "       - **split** method. This method takes an extra argument (axis) to determine whether we split vertically (axis =1) or horizontally (axis = 0)\n",
    "       "
   ]
  },
  {
   "cell_type": "markdown",
   "id": "40dc8b86",
   "metadata": {},
   "source": [
    "### 1. Horizontal Splitting (column-wise)"
   ]
  },
  {
   "cell_type": "code",
   "execution_count": null,
   "id": "fcee2b30",
   "metadata": {},
   "outputs": [],
   "source": [
    "h = np.arange(16).reshape(4,4)\n",
    "h"
   ]
  },
  {
   "cell_type": "code",
   "execution_count": null,
   "id": "9f05f656",
   "metadata": {},
   "outputs": [],
   "source": [
    "np.hsplit(s, 2)"
   ]
  },
  {
   "cell_type": "markdown",
   "id": "02a44c09",
   "metadata": {},
   "source": [
    " we can achieve the same results using **split** method and set axis =1 "
   ]
  },
  {
   "cell_type": "code",
   "execution_count": null,
   "id": "c19625d6",
   "metadata": {},
   "outputs": [],
   "source": [
    "np.split(h, 2, axis = 1)"
   ]
  },
  {
   "cell_type": "code",
   "execution_count": null,
   "id": "deb76b8f",
   "metadata": {},
   "outputs": [],
   "source": [
    "## Split into 4 sub-arrays\n",
    "np.hsplit(h, 4)"
   ]
  },
  {
   "cell_type": "markdown",
   "id": "6d253904",
   "metadata": {},
   "source": [
    "### 2. Vertical Splitting (row-wise)"
   ]
  },
  {
   "cell_type": "code",
   "execution_count": null,
   "id": "dca1405d",
   "metadata": {},
   "outputs": [],
   "source": [
    "v = np.arange(0, 27, 3).reshape(3,3)\n",
    "v"
   ]
  },
  {
   "cell_type": "code",
   "execution_count": null,
   "id": "a9c6cf05",
   "metadata": {},
   "outputs": [],
   "source": [
    "np.vsplit(v, 3)"
   ]
  },
  {
   "cell_type": "markdown",
   "id": "2213904c",
   "metadata": {},
   "source": [
    "We can achieve the same results using **split** method and set axis = 0."
   ]
  },
  {
   "cell_type": "code",
   "execution_count": null,
   "id": "689ced40",
   "metadata": {},
   "outputs": [],
   "source": [
    "np.split(v, 3, axis = 0)"
   ]
  },
  {
   "cell_type": "markdown",
   "id": "9711aa45",
   "metadata": {},
   "source": [
    "### 3. Depth-Splitting (Depth-wise)"
   ]
  },
  {
   "cell_type": "code",
   "execution_count": null,
   "id": "ba6be6b3",
   "metadata": {},
   "outputs": [],
   "source": [
    "d = np.arange(8).reshape(2, 2, 2)\n",
    "d"
   ]
  },
  {
   "cell_type": "code",
   "execution_count": null,
   "id": "c53cc036",
   "metadata": {},
   "outputs": [],
   "source": [
    "np.dsplit(d, 2)"
   ]
  },
  {
   "cell_type": "code",
   "execution_count": null,
   "id": "1b1bce5e",
   "metadata": {},
   "outputs": [],
   "source": []
  },
  {
   "cell_type": "markdown",
   "id": "1bc5f2d5",
   "metadata": {},
   "source": [
    "## Numpy Data Types\n",
    "\n",
    "   Numpy arrays stores only one data type"
   ]
  },
  {
   "cell_type": "code",
   "execution_count": null,
   "id": "0b405715",
   "metadata": {},
   "outputs": [],
   "source": [
    "a = np.arange(5, dtype = \"int32\")\n",
    "a.dtype"
   ]
  },
  {
   "cell_type": "markdown",
   "id": "1f5219c9",
   "metadata": {},
   "source": [
    "the data type can inform us of the size of the data in bytes. We can check the size of a numpy array using the __itemsize__ attribute of __dtype__ class as follows"
   ]
  },
  {
   "cell_type": "code",
   "execution_count": null,
   "id": "7426d918",
   "metadata": {},
   "outputs": [],
   "source": [
    "a.dtype.itemsize"
   ]
  },
  {
   "cell_type": "markdown",
   "id": "e08547eb",
   "metadata": {},
   "source": [
    "#### for the list of all data types"
   ]
  },
  {
   "cell_type": "code",
   "execution_count": null,
   "id": "4f837a76",
   "metadata": {},
   "outputs": [],
   "source": [
    "print(np.sctypeDict.keys())"
   ]
  },
  {
   "cell_type": "markdown",
   "id": "936f213c",
   "metadata": {},
   "source": [
    "## Numpy Arrays Attributes"
   ]
  },
  {
   "cell_type": "code",
   "execution_count": null,
   "id": "233e1c12",
   "metadata": {},
   "outputs": [],
   "source": [
    "arr = np.arange(1, 21).reshape(2, 10)\n",
    "arr"
   ]
  },
  {
   "cell_type": "markdown",
   "id": "24da7a87",
   "metadata": {},
   "source": [
    "It is obvious that we need to need to know the shape of our arrays. **ndim array method is the one we are after**"
   ]
  },
  {
   "cell_type": "code",
   "execution_count": null,
   "id": "db192533",
   "metadata": {},
   "outputs": [],
   "source": [
    "arr.ndim"
   ]
  },
  {
   "cell_type": "markdown",
   "id": "49d3a95d",
   "metadata": {},
   "source": [
    "#### Size \n",
    "\n",
    "   It is convenient to know the size (number of items in the array) of the array objects"
   ]
  },
  {
   "cell_type": "code",
   "execution_count": null,
   "id": "6a341c48",
   "metadata": {},
   "outputs": [],
   "source": [
    "arr.size"
   ]
  },
  {
   "cell_type": "markdown",
   "id": "2e8eb1b7",
   "metadata": {},
   "source": [
    "#### Size in bytes\n",
    "\n",
    "  **itemsize attributes give the number of bytes of each element in the array**"
   ]
  },
  {
   "cell_type": "code",
   "execution_count": null,
   "id": "8a67cdf4",
   "metadata": {},
   "outputs": [],
   "source": [
    "arr.itemsize"
   ]
  },
  {
   "cell_type": "markdown",
   "id": "55180922",
   "metadata": {},
   "source": [
    "If we want to know the size of the whole array we may multiply the size of the array by the number of bytes"
   ]
  },
  {
   "cell_type": "code",
   "execution_count": null,
   "id": "03cb0907",
   "metadata": {},
   "outputs": [],
   "source": [
    "arr.size * arr.itemsize"
   ]
  },
  {
   "cell_type": "markdown",
   "id": "80f2bd25",
   "metadata": {},
   "source": [
    "However, it should better if we have an attribute that gives us the total number of bytes an array requires. That is right, **nbytes attribute does just this**"
   ]
  },
  {
   "cell_type": "code",
   "execution_count": null,
   "id": "ba337e7c",
   "metadata": {},
   "outputs": [],
   "source": [
    "arr.nbytes"
   ]
  },
  {
   "cell_type": "markdown",
   "id": "a331d4f0",
   "metadata": {},
   "source": [
    "#### T Attribute \n",
    "\n",
    "   we have seen the function __transpose__, __T__ attribute does the same work on arrays"
   ]
  },
  {
   "cell_type": "code",
   "execution_count": null,
   "id": "b85af92b",
   "metadata": {},
   "outputs": [],
   "source": [
    "arr.T"
   ]
  },
  {
   "cell_type": "markdown",
   "id": "1cb7696b",
   "metadata": {},
   "source": [
    "### Note: \n",
    "\n",
    "   If the number of dimensions is less than two, __T__ attribute gives us as a view of an array (we will talk about views later in this tutorial)"
   ]
  },
  {
   "cell_type": "code",
   "execution_count": null,
   "id": "14978e1c",
   "metadata": {},
   "outputs": [],
   "source": [
    "ar = np.arange(6)"
   ]
  },
  {
   "cell_type": "code",
   "execution_count": null,
   "id": "5b0d3bec",
   "metadata": {},
   "outputs": [],
   "source": [
    "ar"
   ]
  },
  {
   "cell_type": "code",
   "execution_count": null,
   "id": "db390a3a",
   "metadata": {},
   "outputs": [],
   "source": [
    "ar.T"
   ]
  },
  {
   "cell_type": "code",
   "execution_count": null,
   "id": "664de310",
   "metadata": {},
   "outputs": [],
   "source": [
    "(ar.T)"
   ]
  },
  {
   "cell_type": "markdown",
   "id": "f15dc400",
   "metadata": {},
   "source": [
    "#### flat attribute\n",
    "---------------\n",
    "   - This method returns a **a numpy iterator object**, because it is an instance of __numpy.flatiter__ class. It acts like the built-in Python's __iterator object__ (iter)."
   ]
  },
  {
   "cell_type": "code",
   "execution_count": null,
   "id": "a82f3bb9",
   "metadata": {},
   "outputs": [],
   "source": [
    "a = np.arange(1, 7).reshape(2, 3)\n",
    "a"
   ]
  },
  {
   "cell_type": "code",
   "execution_count": null,
   "id": "e863f1ac",
   "metadata": {},
   "outputs": [],
   "source": [
    "f = a.flat\n",
    "f"
   ]
  },
  {
   "cell_type": "code",
   "execution_count": null,
   "id": "60e775c0",
   "metadata": {},
   "outputs": [],
   "source": [
    "type(f)"
   ]
  },
  {
   "cell_type": "code",
   "execution_count": null,
   "id": "e60f85e9",
   "metadata": {},
   "outputs": [],
   "source": [
    "## In order to extract the element of an iterator you can run a for loop\n",
    "for item in f:\n",
    "    print(item, end = \" \")"
   ]
  },
  {
   "cell_type": "markdown",
   "id": "b9807017",
   "metadata": {},
   "source": [
    "we can also access the element by indexing"
   ]
  },
  {
   "cell_type": "code",
   "execution_count": null,
   "id": "635abc60",
   "metadata": {},
   "outputs": [],
   "source": [
    "f[0], f[1], f[3]"
   ]
  },
  {
   "cell_type": "markdown",
   "id": "9c4364a8",
   "metadata": {},
   "source": [
    "the first element is the first number in the first row, the second element is the second number in the same row, and so on. When the elements finish in the same row, the next one will be the first one in the second row and so forth."
   ]
  },
  {
   "cell_type": "markdown",
   "id": "d709dea4",
   "metadata": {},
   "source": [
    "We can get multiple elmements as well"
   ]
  },
  {
   "cell_type": "code",
   "execution_count": null,
   "id": "e38b8fa6",
   "metadata": {},
   "outputs": [],
   "source": [
    "f[[0, 4]]"
   ]
  },
  {
   "cell_type": "code",
   "execution_count": null,
   "id": "47b6018f",
   "metadata": {},
   "outputs": [],
   "source": [
    "## Or more than two elements\n",
    "f[[0, 2, 4, 5]]"
   ]
  },
  {
   "cell_type": "markdown",
   "id": "c22faec7",
   "metadata": {},
   "source": [
    "flat attribute is setteble as well. We can assign new values "
   ]
  },
  {
   "cell_type": "code",
   "execution_count": null,
   "id": "1f02874c",
   "metadata": {},
   "outputs": [],
   "source": [
    "a.flat = 11\n",
    "a"
   ]
  },
  {
   "cell_type": "code",
   "execution_count": null,
   "id": "577d52f6",
   "metadata": {},
   "outputs": [],
   "source": [
    "# Or just one element\n",
    "a.flat[0] = 10\n",
    "a"
   ]
  },
  {
   "cell_type": "code",
   "execution_count": null,
   "id": "727c9d58",
   "metadata": {},
   "outputs": [],
   "source": [
    "# Or multiple values \n",
    "a.flat [[0, 2, 3, 5]] = 22\n",
    "a"
   ]
  },
  {
   "cell_type": "markdown",
   "id": "771dd21a",
   "metadata": {},
   "source": [
    "## Converting Arrays\n",
    "\n",
    "  It is very nice of numpy that gives us the chance to convert an array to a python list using __tolist()__ method. "
   ]
  },
  {
   "cell_type": "code",
   "execution_count": null,
   "id": "62bdf305",
   "metadata": {},
   "outputs": [],
   "source": [
    "arr = np.arange(8)\n",
    "arr"
   ]
  },
  {
   "cell_type": "code",
   "execution_count": null,
   "id": "813fcbb4",
   "metadata": {},
   "outputs": [],
   "source": [
    "arr.tolist()"
   ]
  },
  {
   "cell_type": "markdown",
   "id": "c7ce3204",
   "metadata": {},
   "source": [
    "Two dimensional arrays will be converted to a list of lists"
   ]
  },
  {
   "cell_type": "code",
   "execution_count": null,
   "id": "14d68d50",
   "metadata": {},
   "outputs": [],
   "source": [
    "arr2 = np.arange(8).reshape(2, 4)\n",
    "arr2.tolist()"
   ]
  },
  {
   "cell_type": "markdown",
   "id": "333105c0",
   "metadata": {},
   "source": [
    "## Creating Views and Copies\n",
    "==================================\n",
    "\n",
    "  - **The View concept comes from relational database management systems, it simply means you can have a look at the table content from where it is located but you are not making any copy of the table(s). This is very convenient, because SQL Tables tend to be large**\n",
    "  \n",
    "  \n",
    "  - **Views in numpy has the same concept, views are read-only, you can't change the content of an object**\n",
    "  \n",
    "  \n",
    "  - **In numpy, a view is an object refers to the same location in memory another object refers to**\n",
    "  \n",
    "  - **A copy means just a copy of an object, then we end up having two objects having the same data, but we can change the content of one object without losing the original data**\n",
    "  \n",
    "  \n",
    "  - **A view can be created using view() method**\n",
    "  \n",
    "  - **A copy can be created using the copy() method()**\n",
    "  "
   ]
  },
  {
   "cell_type": "markdown",
   "id": "53db5701",
   "metadata": {},
   "source": [
    "### Example of Creating Views and Copies\n",
    "\n",
    "   We will use an image from the scipy module"
   ]
  },
  {
   "cell_type": "code",
   "execution_count": null,
   "id": "3dc55aae",
   "metadata": {},
   "outputs": [],
   "source": [
    "from scipy import misc\n",
    "import matplotlib.pyplot as plt\n"
   ]
  },
  {
   "cell_type": "code",
   "execution_count": null,
   "id": "9b31f3b7",
   "metadata": {},
   "outputs": [],
   "source": [
    "img = misc.face()"
   ]
  },
  {
   "cell_type": "code",
   "execution_count": null,
   "id": "f4845417",
   "metadata": {},
   "outputs": [],
   "source": [
    "plt.imshow(img)"
   ]
  },
  {
   "cell_type": "code",
   "execution_count": null,
   "id": "1ee99af7",
   "metadata": {},
   "outputs": [],
   "source": [
    "plt.show()"
   ]
  },
  {
   "cell_type": "code",
   "execution_count": null,
   "id": "9c4fd0fd",
   "metadata": {},
   "outputs": [],
   "source": [
    "img"
   ]
  },
  {
   "cell_type": "code",
   "execution_count": null,
   "id": "92e3e985",
   "metadata": {},
   "outputs": [],
   "source": [
    "img.shape"
   ]
  },
  {
   "cell_type": "markdown",
   "id": "3aeb78ed",
   "metadata": {},
   "source": [
    "This shape means we have (depth, rows, columns), an image of 768 deep (768 arrays), 1024 rows, and 3 columns. In other words 768 matrices of 1024x3 stacked or arranged one behind another. "
   ]
  },
  {
   "cell_type": "code",
   "execution_count": null,
   "id": "e950cb7b",
   "metadata": {},
   "outputs": [],
   "source": [
    "print(\"The depth is: \", img.shape[0])\n",
    "print(\"The number of rows: \", img.shape[1])\n",
    "print(\"The number of columns: \", img.shape[2])"
   ]
  },
  {
   "cell_type": "code",
   "execution_count": null,
   "id": "eb929ead",
   "metadata": {},
   "outputs": [],
   "source": [
    "face_copy = img.copy()\n",
    "face_view = img.view()"
   ]
  },
  {
   "cell_type": "code",
   "execution_count": null,
   "id": "d2f708db",
   "metadata": {},
   "outputs": [],
   "source": [
    "plt.subplot(121)\n",
    "plt.imshow(face_copy)\n",
    "plt.subplot(122)\n",
    "plt.imshow(face_view)\n",
    "plt.show()"
   ]
  },
  {
   "cell_type": "markdown",
   "id": "d35533e2",
   "metadata": {},
   "source": [
    "Let us subset the copy "
   ]
  },
  {
   "cell_type": "code",
   "execution_count": null,
   "id": "5f2a42bc",
   "metadata": {},
   "outputs": [],
   "source": [
    "img_slice = face_copy[:, :, :]\n",
    "plt.imshow(img_slice)\n",
    "plt.show()"
   ]
  },
  {
   "cell_type": "code",
   "execution_count": null,
   "id": "33f7c8d5",
   "metadata": {},
   "outputs": [],
   "source": [
    "# We reset the slice to be white\n",
    "img_slice.flat= 255\n",
    "img_slice"
   ]
  },
  {
   "cell_type": "code",
   "execution_count": null,
   "id": "89786d87",
   "metadata": {},
   "outputs": [],
   "source": [
    "plt.subplot(121)\n",
    "plt.imshow(face_copy)\n",
    "plt.title('Face Copy Image')\n",
    "plt.subplot(122)\n",
    "plt.imshow(img_slice)\n",
    "plt.title('The Sliced Image')\n",
    "plt.show()"
   ]
  },
  {
   "cell_type": "markdown",
   "id": "c46fa11d",
   "metadata": {},
   "source": [
    "### Can We Change the Content of a View?"
   ]
  },
  {
   "cell_type": "code",
   "execution_count": 1,
   "id": "e09237b4",
   "metadata": {},
   "outputs": [
    {
     "ename": "NameError",
     "evalue": "name 'face_view' is not defined",
     "output_type": "error",
     "traceback": [
      "\u001b[0;31m---------------------------------------------------------------------------\u001b[0m",
      "\u001b[0;31mNameError\u001b[0m                                 Traceback (most recent call last)",
      "\u001b[0;32m<ipython-input-1-67d8bdc2e661>\u001b[0m in \u001b[0;36m<module>\u001b[0;34m\u001b[0m\n\u001b[0;32m----> 1\u001b[0;31m \u001b[0mface_view\u001b[0m\u001b[0;34m.\u001b[0m\u001b[0mflat\u001b[0m \u001b[0;34m=\u001b[0m \u001b[0;36m12\u001b[0m\u001b[0;34m\u001b[0m\u001b[0;34m\u001b[0m\u001b[0m\n\u001b[0m",
      "\u001b[0;31mNameError\u001b[0m: name 'face_view' is not defined"
     ]
    }
   ],
   "source": [
    "face_view.flat = 12"
   ]
  },
  {
   "cell_type": "code",
   "execution_count": null,
   "id": "31f11023",
   "metadata": {},
   "outputs": [],
   "source": []
  }
 ],
 "metadata": {
  "kernelspec": {
   "display_name": "Python 3",
   "language": "python",
   "name": "python3"
  },
  "language_info": {
   "codemirror_mode": {
    "name": "ipython",
    "version": 3
   },
   "file_extension": ".py",
   "mimetype": "text/x-python",
   "name": "python",
   "nbconvert_exporter": "python",
   "pygments_lexer": "ipython3",
   "version": "3.8.2"
  }
 },
 "nbformat": 4,
 "nbformat_minor": 5
}
