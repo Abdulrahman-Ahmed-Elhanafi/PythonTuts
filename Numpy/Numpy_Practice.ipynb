{
 "cells": [
  {
   "cell_type": "markdown",
   "id": "16ee4038",
   "metadata": {},
   "source": [
    "# Practice Exercises with numpy"
   ]
  },
  {
   "cell_type": "markdown",
   "id": "fba94161",
   "metadata": {},
   "source": [
    "# NOTE: Do not run the cells first, as the results will disapear"
   ]
  },
  {
   "cell_type": "markdown",
   "id": "edf6640f",
   "metadata": {},
   "source": [
    "1. Import numpy as np"
   ]
  },
  {
   "cell_type": "code",
   "execution_count": null,
   "id": "105cdf38",
   "metadata": {},
   "outputs": [],
   "source": []
  },
  {
   "cell_type": "markdown",
   "id": "3cc1d227",
   "metadata": {},
   "source": [
    "2. Create a 1-D array of 10 zeros"
   ]
  },
  {
   "cell_type": "code",
   "execution_count": null,
   "id": "46e9c10d",
   "metadata": {},
   "outputs": [],
   "source": []
  },
  {
   "cell_type": "markdown",
   "id": "93d05d9e",
   "metadata": {},
   "source": [
    "3. Create a 1-D arrays of 10 ones"
   ]
  },
  {
   "cell_type": "code",
   "execution_count": 3,
   "id": "1517e1f9",
   "metadata": {},
   "outputs": [
    {
     "data": {
      "text/plain": [
       "array([1., 1., 1., 1., 1., 1., 1., 1., 1., 1.])"
      ]
     },
     "execution_count": 3,
     "metadata": {},
     "output_type": "execute_result"
    }
   ],
   "source": []
  },
  {
   "cell_type": "markdown",
   "id": "3c1770aa",
   "metadata": {},
   "source": [
    "4. Create a 1-D array to five sevens"
   ]
  },
  {
   "cell_type": "code",
   "execution_count": 4,
   "id": "1ef4f78f",
   "metadata": {},
   "outputs": [
    {
     "data": {
      "text/plain": [
       "array([7., 7., 7., 7., 7.])"
      ]
     },
     "execution_count": 4,
     "metadata": {},
     "output_type": "execute_result"
    }
   ],
   "source": []
  },
  {
   "cell_type": "markdown",
   "id": "00c67e52",
   "metadata": {},
   "source": [
    "5. Create an array of integers from 2 up to 10"
   ]
  },
  {
   "cell_type": "code",
   "execution_count": 5,
   "id": "0cde674d",
   "metadata": {},
   "outputs": [
    {
     "data": {
      "text/plain": [
       "array([ 2,  3,  4,  5,  6,  7,  8,  9, 10])"
      ]
     },
     "execution_count": 5,
     "metadata": {},
     "output_type": "execute_result"
    }
   ],
   "source": []
  },
  {
   "cell_type": "markdown",
   "id": "8da860a3",
   "metadata": {},
   "source": [
    "6. Create an array of integers from 5 to 100 sith a step of 5"
   ]
  },
  {
   "cell_type": "code",
   "execution_count": 6,
   "id": "04e82c1a",
   "metadata": {},
   "outputs": [
    {
     "data": {
      "text/plain": [
       "array([  5,  10,  15,  20,  25,  30,  35,  40,  45,  50,  55,  60,  65,\n",
       "        70,  75,  80,  85,  90,  95, 100])"
      ]
     },
     "execution_count": 6,
     "metadata": {},
     "output_type": "execute_result"
    }
   ],
   "source": []
  },
  {
   "cell_type": "markdown",
   "id": "c56c70bb",
   "metadata": {},
   "source": [
    "7. Create an array of odd numbers from 1 to 50"
   ]
  },
  {
   "cell_type": "code",
   "execution_count": 8,
   "id": "b2e77026",
   "metadata": {},
   "outputs": [
    {
     "data": {
      "text/plain": [
       "array([ 1,  3,  5,  7,  9, 11, 13, 15, 17, 19, 21, 23, 25, 27, 29, 31, 33,\n",
       "       35, 37, 39, 41, 43, 45, 47, 49])"
      ]
     },
     "execution_count": 8,
     "metadata": {},
     "output_type": "execute_result"
    }
   ],
   "source": []
  },
  {
   "cell_type": "markdown",
   "id": "45160cf6",
   "metadata": {},
   "source": [
    "8 - Create an array of even numbers from 0 to 50"
   ]
  },
  {
   "cell_type": "code",
   "execution_count": 9,
   "id": "2264493f",
   "metadata": {},
   "outputs": [
    {
     "data": {
      "text/plain": [
       "array([ 0,  2,  4,  6,  8, 10, 12, 14, 16, 18, 20, 22, 24, 26, 28, 30, 32,\n",
       "       34, 36, 38, 40, 42, 44, 46, 48, 50])"
      ]
     },
     "execution_count": 9,
     "metadata": {},
     "output_type": "execute_result"
    }
   ],
   "source": []
  },
  {
   "cell_type": "markdown",
   "id": "250c517c",
   "metadata": {},
   "source": [
    " ### 9 - Create a 3x4 matrix from 0 to 12 "
   ]
  },
  {
   "cell_type": "code",
   "execution_count": 11,
   "id": "86b19393",
   "metadata": {},
   "outputs": [
    {
     "data": {
      "text/plain": [
       "array([[ 0,  1,  2,  3],\n",
       "       [ 4,  5,  6,  7],\n",
       "       [ 8,  9, 10, 11]])"
      ]
     },
     "execution_count": 11,
     "metadata": {},
     "output_type": "execute_result"
    }
   ],
   "source": []
  },
  {
   "cell_type": "markdown",
   "id": "a90436cd",
   "metadata": {},
   "source": [
    "### 10- create an identity matrix of 5x5"
   ]
  },
  {
   "cell_type": "code",
   "execution_count": 12,
   "id": "3dfac4b7",
   "metadata": {},
   "outputs": [
    {
     "data": {
      "text/plain": [
       "array([[1., 0., 0., 0., 0.],\n",
       "       [0., 1., 0., 0., 0.],\n",
       "       [0., 0., 1., 0., 0.],\n",
       "       [0., 0., 0., 1., 0.],\n",
       "       [0., 0., 0., 0., 1.]])"
      ]
     },
     "execution_count": 12,
     "metadata": {},
     "output_type": "execute_result"
    }
   ],
   "source": []
  },
  {
   "cell_type": "markdown",
   "id": "31a6433e",
   "metadata": {},
   "source": [
    "### 11- Generate random float numbers between 0 and 1 using rand method of random submodule with 3x2"
   ]
  },
  {
   "cell_type": "code",
   "execution_count": 17,
   "id": "ba064989",
   "metadata": {},
   "outputs": [
    {
     "data": {
      "text/plain": [
       "array([[0.27126797, 0.37307293],\n",
       "       [0.80044574, 0.23822337],\n",
       "       [0.7576567 , 0.84031593]])"
      ]
     },
     "execution_count": 17,
     "metadata": {},
     "output_type": "execute_result"
    }
   ],
   "source": []
  },
  {
   "cell_type": "markdown",
   "id": "ee9a9776",
   "metadata": {},
   "source": [
    "### 12. Generate a 1-D array containing 5 random integers from 0 to 100"
   ]
  },
  {
   "cell_type": "code",
   "execution_count": 15,
   "id": "3658356b",
   "metadata": {},
   "outputs": [
    {
     "data": {
      "text/plain": [
       "array([22, 47, 78, 54, 33])"
      ]
     },
     "execution_count": 15,
     "metadata": {},
     "output_type": "execute_result"
    }
   ],
   "source": [
    "np.random.randint(100, size=(5))"
   ]
  },
  {
   "cell_type": "markdown",
   "id": "7f53f553",
   "metadata": {},
   "source": [
    "### 13. Generate a 2-D array with 3 rows, each row containing 5 random integers from 0 to 100"
   ]
  },
  {
   "cell_type": "code",
   "execution_count": 16,
   "id": "19ced278",
   "metadata": {},
   "outputs": [
    {
     "data": {
      "text/plain": [
       "array([[55, 86, 40, 74, 20],\n",
       "       [80, 31, 20, 87, 29],\n",
       "       [32, 27, 88, 22, 84]])"
      ]
     },
     "execution_count": 16,
     "metadata": {},
     "output_type": "execute_result"
    }
   ],
   "source": []
  },
  {
   "cell_type": "markdown",
   "id": "0f1dc9e5",
   "metadata": {},
   "source": [
    "### Create the following matrix "
   ]
  },
  {
   "cell_type": "code",
   "execution_count": 18,
   "id": "32c7adc5",
   "metadata": {},
   "outputs": [
    {
     "data": {
      "text/plain": [
       "array([[0.01, 0.02, 0.03, 0.04, 0.05, 0.06, 0.07, 0.08, 0.09, 0.1 ],\n",
       "       [0.11, 0.12, 0.13, 0.14, 0.15, 0.16, 0.17, 0.18, 0.19, 0.2 ],\n",
       "       [0.21, 0.22, 0.23, 0.24, 0.25, 0.26, 0.27, 0.28, 0.29, 0.3 ],\n",
       "       [0.31, 0.32, 0.33, 0.34, 0.35, 0.36, 0.37, 0.38, 0.39, 0.4 ],\n",
       "       [0.41, 0.42, 0.43, 0.44, 0.45, 0.46, 0.47, 0.48, 0.49, 0.5 ],\n",
       "       [0.51, 0.52, 0.53, 0.54, 0.55, 0.56, 0.57, 0.58, 0.59, 0.6 ],\n",
       "       [0.61, 0.62, 0.63, 0.64, 0.65, 0.66, 0.67, 0.68, 0.69, 0.7 ],\n",
       "       [0.71, 0.72, 0.73, 0.74, 0.75, 0.76, 0.77, 0.78, 0.79, 0.8 ],\n",
       "       [0.81, 0.82, 0.83, 0.84, 0.85, 0.86, 0.87, 0.88, 0.89, 0.9 ],\n",
       "       [0.91, 0.92, 0.93, 0.94, 0.95, 0.96, 0.97, 0.98, 0.99, 1.  ]])"
      ]
     },
     "execution_count": 18,
     "metadata": {},
     "output_type": "execute_result"
    }
   ],
   "source": []
  },
  {
   "cell_type": "markdown",
   "id": "a6c4a078",
   "metadata": {},
   "source": [
    "#### Create an array of 30 linearly spaced points between 0 and 5"
   ]
  },
  {
   "cell_type": "code",
   "execution_count": 2,
   "id": "3e5e1c68",
   "metadata": {},
   "outputs": [
    {
     "data": {
      "text/plain": [
       "array([0.        , 0.17241379, 0.34482759, 0.51724138, 0.68965517,\n",
       "       0.86206897, 1.03448276, 1.20689655, 1.37931034, 1.55172414,\n",
       "       1.72413793, 1.89655172, 2.06896552, 2.24137931, 2.4137931 ,\n",
       "       2.5862069 , 2.75862069, 2.93103448, 3.10344828, 3.27586207,\n",
       "       3.44827586, 3.62068966, 3.79310345, 3.96551724, 4.13793103,\n",
       "       4.31034483, 4.48275862, 4.65517241, 4.82758621, 5.        ])"
      ]
     },
     "execution_count": 2,
     "metadata": {},
     "output_type": "execute_result"
    }
   ],
   "source": []
  },
  {
   "cell_type": "markdown",
   "id": "a0e0574a",
   "metadata": {},
   "source": [
    "## Numpy Indexing\n",
    "\n",
    "   It is necessary to master the selection skills, as it is needed in the wild. "
   ]
  },
  {
   "cell_type": "code",
   "execution_count": 4,
   "id": "03325f00",
   "metadata": {},
   "outputs": [
    {
     "data": {
      "text/plain": [
       "array([[ 1,  2,  3,  4,  5,  6,  7,  8,  9, 10],\n",
       "       [11, 12, 13, 14, 15, 16, 17, 18, 19, 20],\n",
       "       [21, 22, 23, 24, 25, 26, 27, 28, 29, 30],\n",
       "       [31, 32, 33, 34, 35, 36, 37, 38, 39, 40],\n",
       "       [41, 42, 43, 44, 45, 46, 47, 48, 49, 50]])"
      ]
     },
     "execution_count": 4,
     "metadata": {},
     "output_type": "execute_result"
    }
   ],
   "source": [
    "mat = np.arange(1,51).reshape(5,10)\n",
    "mat"
   ]
  },
  {
   "cell_type": "markdown",
   "id": "e6ba6df9",
   "metadata": {},
   "source": [
    "#### Write a code to retrieve the next subset"
   ]
  },
  {
   "cell_type": "code",
   "execution_count": 6,
   "id": "e94c73b3",
   "metadata": {},
   "outputs": [
    {
     "data": {
      "text/plain": [
       "array([ 1,  2,  3,  4,  5,  6,  7,  8,  9, 10])"
      ]
     },
     "execution_count": 6,
     "metadata": {},
     "output_type": "execute_result"
    }
   ],
   "source": []
  },
  {
   "cell_type": "code",
   "execution_count": 8,
   "id": "9e5a4f8c",
   "metadata": {},
   "outputs": [
    {
     "data": {
      "text/plain": [
       "array([ 1, 11, 21, 31, 41])"
      ]
     },
     "execution_count": 8,
     "metadata": {},
     "output_type": "execute_result"
    }
   ],
   "source": []
  },
  {
   "cell_type": "code",
   "execution_count": 9,
   "id": "7dbcaea1",
   "metadata": {},
   "outputs": [
    {
     "data": {
      "text/plain": [
       "array([[ 1,  2],\n",
       "       [11, 12],\n",
       "       [21, 22],\n",
       "       [31, 32],\n",
       "       [41, 42]])"
      ]
     },
     "execution_count": 9,
     "metadata": {},
     "output_type": "execute_result"
    }
   ],
   "source": []
  },
  {
   "cell_type": "code",
   "execution_count": 10,
   "id": "93837215",
   "metadata": {},
   "outputs": [
    {
     "data": {
      "text/plain": [
       "array([[ 1,  2],\n",
       "       [11, 12]])"
      ]
     },
     "execution_count": 10,
     "metadata": {},
     "output_type": "execute_result"
    }
   ],
   "source": []
  },
  {
   "cell_type": "code",
   "execution_count": 5,
   "id": "2c541a7c",
   "metadata": {},
   "outputs": [
    {
     "data": {
      "text/plain": [
       "array([[25, 26, 27, 28, 29, 30],\n",
       "       [35, 36, 37, 38, 39, 40],\n",
       "       [45, 46, 47, 48, 49, 50]])"
      ]
     },
     "execution_count": 5,
     "metadata": {},
     "output_type": "execute_result"
    }
   ],
   "source": []
  },
  {
   "cell_type": "markdown",
   "id": "dffa740b",
   "metadata": {},
   "source": [
    "## Get the sum of the matrix"
   ]
  },
  {
   "cell_type": "code",
   "execution_count": 11,
   "id": "c72b9d96",
   "metadata": {},
   "outputs": [
    {
     "data": {
      "text/plain": [
       "1275"
      ]
     },
     "execution_count": 11,
     "metadata": {},
     "output_type": "execute_result"
    }
   ],
   "source": []
  },
  {
   "cell_type": "markdown",
   "id": "f15c8465",
   "metadata": {},
   "source": [
    "## Get the sum of each column"
   ]
  },
  {
   "cell_type": "code",
   "execution_count": 12,
   "id": "93f52578",
   "metadata": {},
   "outputs": [
    {
     "data": {
      "text/plain": [
       "array([105, 110, 115, 120, 125, 130, 135, 140, 145, 150])"
      ]
     },
     "execution_count": 12,
     "metadata": {},
     "output_type": "execute_result"
    }
   ],
   "source": [
    "mat.sum(axis = 0)"
   ]
  },
  {
   "cell_type": "markdown",
   "id": "d9ba59f4",
   "metadata": {},
   "source": [
    "## Get the sum of rows"
   ]
  },
  {
   "cell_type": "code",
   "execution_count": 13,
   "id": "d61544d3",
   "metadata": {},
   "outputs": [
    {
     "data": {
      "text/plain": [
       "array([ 55, 155, 255, 355, 455])"
      ]
     },
     "execution_count": 13,
     "metadata": {},
     "output_type": "execute_result"
    }
   ],
   "source": []
  },
  {
   "cell_type": "code",
   "execution_count": null,
   "id": "5bdcf6d8",
   "metadata": {},
   "outputs": [],
   "source": []
  }
 ],
 "metadata": {
  "kernelspec": {
   "display_name": "Python 3",
   "language": "python",
   "name": "python3"
  },
  "language_info": {
   "codemirror_mode": {
    "name": "ipython",
    "version": 3
   },
   "file_extension": ".py",
   "mimetype": "text/x-python",
   "name": "python",
   "nbconvert_exporter": "python",
   "pygments_lexer": "ipython3",
   "version": "3.8.2"
  }
 },
 "nbformat": 4,
 "nbformat_minor": 5
}
