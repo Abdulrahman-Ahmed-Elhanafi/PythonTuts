{
 "cells": [
  {
   "cell_type": "code",
   "execution_count": null,
   "id": "ebcd0943",
   "metadata": {},
   "outputs": [],
   "source": [
    "file = open(\"Zen.txt\", \"r\")"
   ]
  },
  {
   "cell_type": "code",
   "execution_count": null,
   "id": "11545f6e",
   "metadata": {},
   "outputs": [],
   "source": [
    "print(file.read())"
   ]
  },
  {
   "cell_type": "code",
   "execution_count": null,
   "id": "52749f88",
   "metadata": {},
   "outputs": [],
   "source": [
    "# Check whether the file is still open\n",
    "print(file.closed)"
   ]
  },
  {
   "cell_type": "markdown",
   "id": "7e4b16ff",
   "metadata": {},
   "source": [
    "  - Whenever you are working with files, you should always consider closing them after the reading process"
   ]
  },
  {
   "cell_type": "code",
   "execution_count": null,
   "id": "85e23096",
   "metadata": {},
   "outputs": [],
   "source": [
    "file.close()"
   ]
  },
  {
   "cell_type": "code",
   "execution_count": null,
   "id": "52273d08",
   "metadata": {},
   "outputs": [],
   "source": [
    "print(file.closed)"
   ]
  },
  {
   "cell_type": "markdown",
   "id": "b3d2e754",
   "metadata": {},
   "source": [
    "For large files, we may not want to print all of their content all at once. In such case, we may wish to print only the first few lines. \n",
    "\n",
    "The readline() method allows us to do exactly this. We can call this method on an open file to start printing the first few lines. \n",
    "\n",
    "The syntax is: file.readline()"
   ]
  },
  {
   "cell_type": "code",
   "execution_count": null,
   "id": "fad87d07",
   "metadata": {},
   "outputs": [],
   "source": [
    "file = open(\"Zen.txt\", \"r\")"
   ]
  },
  {
   "cell_type": "code",
   "execution_count": null,
   "id": "ca84ff23",
   "metadata": {},
   "outputs": [],
   "source": [
    "file.readline()"
   ]
  },
  {
   "cell_type": "code",
   "execution_count": null,
   "id": "db9d2b29",
   "metadata": {},
   "outputs": [],
   "source": [
    "file.readline()"
   ]
  },
  {
   "cell_type": "code",
   "execution_count": null,
   "id": "b7389c34",
   "metadata": {},
   "outputs": [],
   "source": [
    "file.readline()"
   ]
  },
  {
   "cell_type": "markdown",
   "id": "1e50c8cd",
   "metadata": {},
   "source": [
    " - If we do this each time, it becomes tedious. Thus it come the context manager which has the following syntax:\n",
    " \n",
    " with open(\"file.txt\", \"r\") as file:\n",
    " \n",
    "       file.readline()\n",
    "     \n",
    "       file.readline()"
   ]
  },
  {
   "cell_type": "code",
   "execution_count": null,
   "id": "75a81a31",
   "metadata": {},
   "outputs": [],
   "source": [
    "with open(\"Zen.txt\",'r') as file:\n",
    "    print(file.readline(), end =\"\")\n",
    "    print(file.readline(), end = \"\")\n",
    "    print(file.readline(), end = \"\")\n",
    "    print(file.readline(), end = \"\")"
   ]
  },
  {
   "cell_type": "markdown",
   "id": "168807b6",
   "metadata": {},
   "source": [
    "  * The best way is to use a for loop to read a specific number of lines at once"
   ]
  },
  {
   "cell_type": "code",
   "execution_count": null,
   "id": "074f477e",
   "metadata": {},
   "outputs": [],
   "source": [
    "with open(\"Zen.txt\",'r') as file:\n",
    "    for line in range(5):"
   ]
  },
  {
   "cell_type": "markdown",
   "id": "bb30e2c2",
   "metadata": {},
   "source": [
    "## Using Numpy for Reading text files"
   ]
  },
  {
   "cell_type": "code",
   "execution_count": null,
   "id": "6ec2df3d",
   "metadata": {},
   "outputs": [],
   "source": [
    "import numpy as np"
   ]
  },
  {
   "cell_type": "code",
   "execution_count": null,
   "id": "c839f9fe",
   "metadata": {},
   "outputs": [],
   "source": [
    "file = np.loadtxt('Zen.txt', delimiter=\"\\n\", dtype = \"str\")"
   ]
  },
  {
   "cell_type": "code",
   "execution_count": null,
   "id": "d7b6e7d9",
   "metadata": {},
   "outputs": [],
   "source": [
    "for item in file:\n",
    "    print(item)"
   ]
  },
  {
   "cell_type": "code",
   "execution_count": null,
   "id": "4a9c3f0d",
   "metadata": {},
   "outputs": [],
   "source": []
  }
 ],
 "metadata": {
  "kernelspec": {
   "display_name": "Python 3",
   "language": "python",
   "name": "python3"
  },
  "language_info": {
   "codemirror_mode": {
    "name": "ipython",
    "version": 3
   },
   "file_extension": ".py",
   "mimetype": "text/x-python",
   "name": "python",
   "nbconvert_exporter": "python",
   "pygments_lexer": "ipython3",
   "version": "3.8.2"
  }
 },
 "nbformat": 4,
 "nbformat_minor": 5
}
