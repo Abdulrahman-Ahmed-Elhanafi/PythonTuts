{
 "cells": [
  {
   "cell_type": "markdown",
   "id": "4592c63a",
   "metadata": {},
   "source": [
    "# Creating Arrays "
   ]
  },
  {
   "cell_type": "markdown",
   "id": "e5477cc1",
   "metadata": {},
   "source": [
    "### One dimensional array:\n",
    "\n",
    "   Usually an array can be created from lists"
   ]
  },
  {
   "cell_type": "code",
   "execution_count": 1,
   "id": "3ba54764",
   "metadata": {},
   "outputs": [],
   "source": [
    "import numpy as np"
   ]
  },
  {
   "cell_type": "code",
   "execution_count": null,
   "id": "388c66ae",
   "metadata": {},
   "outputs": [],
   "source": [
    "myList = [2, 5, 8, 11, 14, 17]\n",
    "ar1 = np.array(myList)\n",
    "print(ar1)"
   ]
  },
  {
   "cell_type": "code",
   "execution_count": null,
   "id": "dc23310a",
   "metadata": {},
   "outputs": [],
   "source": [
    "ar1.shape"
   ]
  },
  {
   "cell_type": "code",
   "execution_count": null,
   "id": "2ebe55de",
   "metadata": {},
   "outputs": [],
   "source": [
    "ar1.ndim"
   ]
  },
  {
   "cell_type": "code",
   "execution_count": null,
   "id": "e63d051b",
   "metadata": {},
   "outputs": [],
   "source": [
    "ar2 = np.array([2, 4, 6])\n",
    "ar2"
   ]
  },
  {
   "cell_type": "markdown",
   "id": "dcf0ba05",
   "metadata": {},
   "source": [
    "### Practice:\n",
    "\n",
    "   - Create two arrays\n",
    "   \n",
    "   - Check their shape and their dimension"
   ]
  },
  {
   "cell_type": "code",
   "execution_count": null,
   "id": "3174768e",
   "metadata": {},
   "outputs": [],
   "source": []
  },
  {
   "cell_type": "markdown",
   "id": "3dcdee7d",
   "metadata": {},
   "source": [
    "#### Note1: we can create array from tuples as well"
   ]
  },
  {
   "cell_type": "code",
   "execution_count": null,
   "id": "078a56b3",
   "metadata": {},
   "outputs": [],
   "source": [
    "arr_tup = np.array((1, 2, 3, 4, 5))\n",
    "arr_tup"
   ]
  },
  {
   "cell_type": "markdown",
   "id": "31fe3b53",
   "metadata": {},
   "source": [
    "#### Note2: Scalars are of zero dimension"
   ]
  },
  {
   "cell_type": "code",
   "execution_count": null,
   "id": "7fd2e6ae",
   "metadata": {},
   "outputs": [],
   "source": [
    "sc = np.array(123)\n",
    "sc"
   ]
  },
  {
   "cell_type": "code",
   "execution_count": null,
   "id": "8ec7ba20",
   "metadata": {},
   "outputs": [],
   "source": [
    "sc.ndim"
   ]
  },
  {
   "cell_type": "markdown",
   "id": "d8ee7a7b",
   "metadata": {},
   "source": [
    "### Creating Two Dimensional Arrays (Matrix)\n",
    "\n",
    "   - A two dimensional array can be created using a list of lists"
   ]
  },
  {
   "cell_type": "code",
   "execution_count": null,
   "id": "e249bcfb",
   "metadata": {},
   "outputs": [],
   "source": [
    "mat1 = np.array([[1, 2,3], [11, 12, 13]])\n",
    "print(mat1)"
   ]
  },
  {
   "cell_type": "code",
   "execution_count": null,
   "id": "a388cfc3",
   "metadata": {},
   "outputs": [],
   "source": [
    "print(type(mat1))"
   ]
  },
  {
   "cell_type": "code",
   "execution_count": null,
   "id": "65effccc",
   "metadata": {},
   "outputs": [],
   "source": [
    "mat2 = np.array([[1,2,3], \n",
    "                [4, 5, 6],\n",
    "                [7, 8, 9]])\n",
    "mat2"
   ]
  },
  {
   "cell_type": "code",
   "execution_count": null,
   "id": "12b4dbc4",
   "metadata": {},
   "outputs": [],
   "source": [
    "print(mat2.ndim)\n",
    "print(mat2.shape)\n",
    "print(mat2.dtype)"
   ]
  },
  {
   "cell_type": "markdown",
   "id": "69fc47e6",
   "metadata": {},
   "source": [
    "  -  We can use the ndmin to set the number of dimensions"
   ]
  },
  {
   "cell_type": "code",
   "execution_count": null,
   "id": "60782efb",
   "metadata": {},
   "outputs": [],
   "source": [
    "arr_2 = np.array(range(8), ndmin = 2)\n",
    "arr_2"
   ]
  },
  {
   "cell_type": "markdown",
   "id": "3326d7ae",
   "metadata": {},
   "source": [
    "### Creating Arrays Using **arange** function\n",
    "     \n",
    "   - Arange function has a start, step and a stop args, and it create an evenly spaced sequence "
   ]
  },
  {
   "cell_type": "code",
   "execution_count": null,
   "id": "07f126a6",
   "metadata": {},
   "outputs": [],
   "source": [
    "arr_3 = np.arange(1, 20, 4)\n",
    "arr_3"
   ]
  },
  {
   "cell_type": "code",
   "execution_count": null,
   "id": "f640e450",
   "metadata": {},
   "outputs": [],
   "source": [
    "arr_4 = np.array([np.arange(4), np.arange(10, 14),\n",
    "                 np.arange(5, 9), np.arange(20, 33, 4)])\n",
    "arr_4"
   ]
  },
  {
   "cell_type": "code",
   "execution_count": null,
   "id": "49306a73",
   "metadata": {},
   "outputs": [],
   "source": [
    "arr_4.ndim, arr_4.shape, arr_4.dtype"
   ]
  },
  {
   "cell_type": "markdown",
   "id": "cfa72747",
   "metadata": {},
   "source": [
    "### 3-Dimensional Arrays"
   ]
  },
  {
   "cell_type": "code",
   "execution_count": null,
   "id": "bf94b64d",
   "metadata": {},
   "outputs": [],
   "source": [
    "arr_3d = np.array([[[0, 0, 0],\n",
    "                   [1, 1, 1],\n",
    "                   [2, 2, 2]]])\n",
    "arr_3d"
   ]
  },
  {
   "cell_type": "code",
   "execution_count": null,
   "id": "77b6aac3",
   "metadata": {},
   "outputs": [],
   "source": [
    "arr_3d.ndim"
   ]
  },
  {
   "cell_type": "code",
   "execution_count": null,
   "id": "bdc4f64c",
   "metadata": {},
   "outputs": [],
   "source": [
    "arr_3d.shape"
   ]
  },
  {
   "cell_type": "code",
   "execution_count": null,
   "id": "9ab4ca58",
   "metadata": {},
   "outputs": [],
   "source": [
    "m1 = np.array([[0, 0, 0],\n",
    "                [0, 0, 0],\n",
    "                [0, 0, 0]])\n",
    "m2 = np.array([[1, 1, 1],\n",
    "             [1, 1, 1],\n",
    "             [1, 1, 1]])\n",
    "m3 = np.array([[2, 2, 2],\n",
    "             [2, 2, 2],\n",
    "             [2, 2, 2]])\n",
    "arr_3d2 = np.array([m1, m2, m3])"
   ]
  },
  {
   "cell_type": "code",
   "execution_count": null,
   "id": "0c7c6705",
   "metadata": {},
   "outputs": [],
   "source": [
    "arr_3d2"
   ]
  },
  {
   "cell_type": "code",
   "execution_count": null,
   "id": "e13e2322",
   "metadata": {},
   "outputs": [],
   "source": [
    "arr_3d2.shape"
   ]
  },
  {
   "cell_type": "markdown",
   "id": "19f59eed",
   "metadata": {},
   "source": [
    "## Numpy Functions for creating arrays\n",
    "\n",
    "   1. **Zeros()**: It is used to create arrays their elements are zeros. The shape of the array can determined from the first argument shape. for 2-d array, the shape is a tuple"
   ]
  },
  {
   "cell_type": "code",
   "execution_count": null,
   "id": "20ce5a44",
   "metadata": {},
   "outputs": [],
   "source": [
    "zeros_1 = np.zeros(4)\n",
    "zeros_1"
   ]
  },
  {
   "cell_type": "code",
   "execution_count": null,
   "id": "cd643386",
   "metadata": {},
   "outputs": [],
   "source": [
    "# \n",
    "mat_zeros = np.zeros((5, 5))\n",
    "mat_zeros"
   ]
  },
  {
   "cell_type": "code",
   "execution_count": null,
   "id": "bdb8bf6a",
   "metadata": {},
   "outputs": [],
   "source": [
    "np.zeros((10, 10))"
   ]
  },
  {
   "cell_type": "code",
   "execution_count": null,
   "id": "c3f3650b",
   "metadata": {},
   "outputs": [],
   "source": [
    "np.zeros((2, 3))"
   ]
  },
  {
   "cell_type": "markdown",
   "id": "02109272",
   "metadata": {},
   "source": [
    "  2. **Ones()**: Arrays of ones "
   ]
  },
  {
   "cell_type": "code",
   "execution_count": null,
   "id": "71d270c3",
   "metadata": {},
   "outputs": [],
   "source": [
    "ones_1 = np.ones(5)\n",
    "ones_1"
   ]
  },
  {
   "cell_type": "code",
   "execution_count": null,
   "id": "266077b1",
   "metadata": {},
   "outputs": [],
   "source": [
    "ones_2 = np.ones((5, 5))\n",
    "ones_2"
   ]
  },
  {
   "cell_type": "markdown",
   "id": "9ff5fc6a",
   "metadata": {},
   "source": [
    "   3. **linspace()**: It differs from arange function, which allows us to create an evenly spaced sequence with the **number of elements we want**. \n",
    "   \n",
    "   - It has start, stop and number of elements we want to generate\n",
    "   \n",
    "   in R, we can do that like this: seq(from = 0, to = 1, lenght.out = 10)"
   ]
  },
  {
   "cell_type": "code",
   "execution_count": null,
   "id": "94313053",
   "metadata": {},
   "outputs": [],
   "source": [
    "lspace_1 = np.linspace(0, 1, 10)\n",
    "lspace_1"
   ]
  },
  {
   "cell_type": "code",
   "execution_count": null,
   "id": "132c0ab3",
   "metadata": {},
   "outputs": [],
   "source": [
    "lspace_2 = np.linspace(0, 10, 50)\n",
    "lspace_2"
   ]
  },
  {
   "cell_type": "code",
   "execution_count": null,
   "id": "62cfeb63",
   "metadata": {},
   "outputs": [],
   "source": [
    "hot_arr = np.array([np.linspace(0, 1, 10),\n",
    "                   np.linspace(1, 2, 10)])\n",
    "hot_arr"
   ]
  },
  {
   "cell_type": "markdown",
   "id": "f606be77",
   "metadata": {},
   "source": [
    "## Creating an Identity Matrix\n",
    "\n",
    "  - **eye()**: method is used to create an identity matrix (which all its diagonal are ones, and zeros elsewhere). \n",
    "  \n",
    "  - **eye** method takes a single digit as its first argument \n",
    "  \n",
    "  - Identity Matrix is useful in linear Algebra, and it works like the 1 in numbers. It is a square matrix as well. that is the reason why the eye method takes a single number as its first argument"
   ]
  },
  {
   "cell_type": "code",
   "execution_count": null,
   "id": "d140e443",
   "metadata": {},
   "outputs": [],
   "source": [
    "ident_mat = np.eye(5)\n",
    "ident_mat"
   ]
  },
  {
   "cell_type": "code",
   "execution_count": null,
   "id": "7f2628eb",
   "metadata": {},
   "outputs": [],
   "source": [
    "np.eye(3)"
   ]
  },
  {
   "cell_type": "markdown",
   "id": "98041c2d",
   "metadata": {},
   "source": [
    "# Generating Random Number with numpy"
   ]
  },
  {
   "cell_type": "markdown",
   "id": "0b890c94",
   "metadata": {},
   "source": [
    "  **Numpy has a submodule called random for generating random numbers from several distributions**"
   ]
  },
  {
   "cell_type": "markdown",
   "id": "b38d43de",
   "metadata": {},
   "source": [
    "   1. **Float Random numbers** using random.rand()"
   ]
  },
  {
   "cell_type": "code",
   "execution_count": null,
   "id": "dbebc94b",
   "metadata": {},
   "outputs": [],
   "source": [
    "unif_1 = np.random.rand(10)\n",
    "unif_1"
   ]
  },
  {
   "cell_type": "code",
   "execution_count": null,
   "id": "44f059ed",
   "metadata": {},
   "outputs": [],
   "source": [
    "# 2-d array of random numbers\n",
    "unif_2 = np.random.rand(3, 4)\n",
    "unif_2"
   ]
  },
  {
   "cell_type": "markdown",
   "id": "c860fa59",
   "metadata": {},
   "source": [
    "   2. **Random numbers from the normal distribution (random.randn)**"
   ]
  },
  {
   "cell_type": "code",
   "execution_count": null,
   "id": "679bb4a1",
   "metadata": {},
   "outputs": [],
   "source": [
    "norm_1 = np.random.randn(5)\n",
    "norm_1"
   ]
  },
  {
   "cell_type": "code",
   "execution_count": null,
   "id": "ce3b1f62",
   "metadata": {},
   "outputs": [],
   "source": [
    "norm_2 = np.random.randn(4, 4)\n",
    "norm_2"
   ]
  },
  {
   "cell_type": "markdown",
   "id": "d3a77db7",
   "metadata": {},
   "source": [
    "  3. **Random Intergers (random.randint)**\n",
    "  \n",
    "      - We can generate random numbers: \n",
    "      \n",
    "          - randint takes low arguments: inclusive\n",
    "          \n",
    "          - high: Non-inclusive\n",
    "          \n",
    "          - Size: number of integers we want to generate\n",
    "          \n",
    "          - this function is like sample function in R"
   ]
  },
  {
   "cell_type": "code",
   "execution_count": null,
   "id": "bc337aac",
   "metadata": {},
   "outputs": [],
   "source": [
    "int_1 = np.random.randint(1, 10)\n",
    "int_1"
   ]
  },
  {
   "cell_type": "code",
   "execution_count": null,
   "id": "a96cf74f",
   "metadata": {},
   "outputs": [],
   "source": [
    "int_2 = np.random.randint(low = 0, high = 10, size = 20)\n",
    "int_2"
   ]
  },
  {
   "cell_type": "code",
   "execution_count": null,
   "id": "67cdbe4e",
   "metadata": {},
   "outputs": [],
   "source": [
    "# Create 2-d array for random integers, by passing a tuple to the size argument\n",
    "int_arr2 = np.random.randint(10, size = (3, 4))\n",
    "int_arr2"
   ]
  },
  {
   "cell_type": "markdown",
   "id": "5d527985",
   "metadata": {},
   "source": [
    "#### Reproducible results\n",
    "\n",
    "   for reproducibility use the seed() method from random module"
   ]
  },
  {
   "cell_type": "code",
   "execution_count": null,
   "id": "513027b1",
   "metadata": {},
   "outputs": [],
   "source": [
    "np.random.seed(123)"
   ]
  },
  {
   "cell_type": "code",
   "execution_count": null,
   "id": "2db203d4",
   "metadata": {},
   "outputs": [],
   "source": [
    "np.random.randint(10, high = 19, size = (4, 4))"
   ]
  },
  {
   "cell_type": "code",
   "execution_count": null,
   "id": "6246c113",
   "metadata": {},
   "outputs": [],
   "source": [
    "np.random.randint(10, high = 19, size = (4, 4))"
   ]
  },
  {
   "cell_type": "code",
   "execution_count": null,
   "id": "eb9ce8d9",
   "metadata": {},
   "outputs": [],
   "source": [
    "np.random.seed(123)\n",
    "np.random.randint(10, high = 19, size = (4, 4))"
   ]
  },
  {
   "cell_type": "markdown",
   "id": "55f20742",
   "metadata": {},
   "source": [
    "  **Remark:** \n",
    "  \n",
    "  if you are working a lot with the random submodule you can import it rather calling it each time from numpy. and you can do that like so"
   ]
  },
  {
   "cell_type": "code",
   "execution_count": null,
   "id": "54cc0419",
   "metadata": {},
   "outputs": [],
   "source": [
    "from numpy import random"
   ]
  },
  {
   "cell_type": "markdown",
   "id": "f09065e2",
   "metadata": {},
   "source": [
    "Or, if you are working with a specific function from random, you can just import it like so"
   ]
  },
  {
   "cell_type": "code",
   "execution_count": null,
   "id": "90925aa6",
   "metadata": {},
   "outputs": [],
   "source": [
    "from numpy.random import randn"
   ]
  },
  {
   "cell_type": "code",
   "execution_count": null,
   "id": "95bab990",
   "metadata": {},
   "outputs": [],
   "source": [
    "n1 = randn(2, 3)\n",
    "n2 = randn(3,4 )"
   ]
  },
  {
   "cell_type": "code",
   "execution_count": null,
   "id": "230d16b8",
   "metadata": {},
   "outputs": [],
   "source": [
    "n1, n2"
   ]
  }
 ],
 "metadata": {
  "kernelspec": {
   "display_name": "Python 3",
   "language": "python",
   "name": "python3"
  },
  "language_info": {
   "codemirror_mode": {
    "name": "ipython",
    "version": 3
   },
   "file_extension": ".py",
   "mimetype": "text/x-python",
   "name": "python",
   "nbconvert_exporter": "python",
   "pygments_lexer": "ipython3",
   "version": "3.8.2"
  }
 },
 "nbformat": 4,
 "nbformat_minor": 5
}
