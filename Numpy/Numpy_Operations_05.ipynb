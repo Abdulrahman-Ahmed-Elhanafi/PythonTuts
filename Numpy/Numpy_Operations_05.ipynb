{
 "cells": [
  {
   "cell_type": "markdown",
   "id": "4a374534",
   "metadata": {},
   "source": [
    "# Numpy Operations"
   ]
  },
  {
   "cell_type": "markdown",
   "id": "1c261ad2",
   "metadata": {},
   "source": [
    "## 1. Array operations"
   ]
  },
  {
   "cell_type": "code",
   "execution_count": 1,
   "id": "9f36aac8",
   "metadata": {},
   "outputs": [],
   "source": [
    "import numpy as np\n",
    "from random import choices, seed"
   ]
  },
  {
   "cell_type": "code",
   "execution_count": 33,
   "id": "d2f84018",
   "metadata": {},
   "outputs": [
    {
     "data": {
      "text/plain": [
       "array([10, 25, 25, 27, 15, 14, 27, 28, 29, 10])"
      ]
     },
     "execution_count": 33,
     "metadata": {},
     "output_type": "execute_result"
    }
   ],
   "source": [
    "seed(234)\n",
    "arr1 = np.array(choices(range(30), k =10))\n",
    "arr1"
   ]
  },
  {
   "cell_type": "code",
   "execution_count": 34,
   "id": "a5627da0",
   "metadata": {},
   "outputs": [
    {
     "data": {
      "text/plain": [
       "array([63,  2, 27, 22, 73, 67, 89,  8, 42,  2])"
      ]
     },
     "execution_count": 34,
     "metadata": {},
     "output_type": "execute_result"
    }
   ],
   "source": [
    "seed(42)\n",
    "arr2 = np.array(choices(range(100), k =10))\n",
    "arr2"
   ]
  },
  {
   "cell_type": "markdown",
   "id": "a78ecf9d",
   "metadata": {},
   "source": [
    "### Adding Arrays (same length)"
   ]
  },
  {
   "cell_type": "code",
   "execution_count": 35,
   "id": "884e68c5",
   "metadata": {},
   "outputs": [
    {
     "data": {
      "text/plain": [
       "array([20, 50, 50, 54, 30, 28, 54, 56, 58, 20])"
      ]
     },
     "execution_count": 35,
     "metadata": {},
     "output_type": "execute_result"
    }
   ],
   "source": [
    "# Adding two arrays together\n",
    "add_1 = arr1 + arr1\n",
    "add_1"
   ]
  },
  {
   "cell_type": "code",
   "execution_count": 37,
   "id": "a59c0cf8",
   "metadata": {},
   "outputs": [
    {
     "data": {
      "text/plain": [
       "array([ 73,  27,  52,  49,  88,  81, 116,  36,  71,  12])"
      ]
     },
     "execution_count": 37,
     "metadata": {},
     "output_type": "execute_result"
    }
   ],
   "source": [
    "# Adding arr2 to arr1\n",
    "add_2 = arr2 + arr1\n",
    "add_2"
   ]
  },
  {
   "cell_type": "markdown",
   "id": "9cc7a681",
   "metadata": {},
   "source": [
    "### Adding arrays with a scalar (Broadcasting)"
   ]
  },
  {
   "cell_type": "code",
   "execution_count": 40,
   "id": "2087f06a",
   "metadata": {},
   "outputs": [
    {
     "data": {
      "text/plain": [
       "10"
      ]
     },
     "execution_count": 40,
     "metadata": {},
     "output_type": "execute_result"
    }
   ],
   "source": [
    "scalar = 10\n",
    "scalar"
   ]
  },
  {
   "cell_type": "code",
   "execution_count": 41,
   "id": "140d15af",
   "metadata": {},
   "outputs": [
    {
     "data": {
      "text/plain": [
       "array([20, 35, 35, 37, 25, 24, 37, 38, 39, 20])"
      ]
     },
     "execution_count": 41,
     "metadata": {},
     "output_type": "execute_result"
    }
   ],
   "source": [
    "broad = arr1 + scalar\n",
    "broad"
   ]
  },
  {
   "cell_type": "markdown",
   "id": "2dff9c31",
   "metadata": {},
   "source": [
    "### Subtracting arrays"
   ]
  },
  {
   "cell_type": "code",
   "execution_count": 42,
   "id": "9ea089a8",
   "metadata": {},
   "outputs": [
    {
     "data": {
      "text/plain": [
       "array([ 53, -23,   2,  -5,  58,  53,  62, -20,  13,  -8])"
      ]
     },
     "execution_count": 42,
     "metadata": {},
     "output_type": "execute_result"
    }
   ],
   "source": [
    "sub = arr2 - arr1\n",
    "sub"
   ]
  },
  {
   "cell_type": "code",
   "execution_count": 43,
   "id": "3d30b225",
   "metadata": {},
   "outputs": [
    {
     "data": {
      "text/plain": [
       "array([0, 0, 0, 0, 0, 0, 0, 0, 0, 0])"
      ]
     },
     "execution_count": 43,
     "metadata": {},
     "output_type": "execute_result"
    }
   ],
   "source": [
    "arr1 - arr1"
   ]
  },
  {
   "cell_type": "code",
   "execution_count": 44,
   "id": "71b19d7a",
   "metadata": {},
   "outputs": [
    {
     "data": {
      "text/plain": [
       "array([ 0, 15, 15, 17,  5,  4, 17, 18, 19,  0])"
      ]
     },
     "execution_count": 44,
     "metadata": {},
     "output_type": "execute_result"
    }
   ],
   "source": [
    "sub_2 = arr1 - 10\n",
    "sub_2"
   ]
  },
  {
   "cell_type": "markdown",
   "id": "c70d2559",
   "metadata": {},
   "source": [
    "## Array Multiplication"
   ]
  },
  {
   "cell_type": "code",
   "execution_count": 48,
   "id": "73778c27",
   "metadata": {},
   "outputs": [
    {
     "data": {
      "text/plain": [
       "array([10, 25, 25, 27, 15, 14, 27, 28, 29, 10])"
      ]
     },
     "execution_count": 48,
     "metadata": {},
     "output_type": "execute_result"
    }
   ],
   "source": [
    "arr1"
   ]
  },
  {
   "cell_type": "code",
   "execution_count": 49,
   "id": "d33b1cca",
   "metadata": {},
   "outputs": [
    {
     "data": {
      "text/plain": [
       "array([20, 50, 50, 54, 30, 28, 54, 56, 58, 20])"
      ]
     },
     "execution_count": 49,
     "metadata": {},
     "output_type": "execute_result"
    }
   ],
   "source": [
    "arr1 * 2"
   ]
  },
  {
   "cell_type": "code",
   "execution_count": 50,
   "id": "90b2a94a",
   "metadata": {},
   "outputs": [
    {
     "data": {
      "text/plain": [
       "array([ 630,   50,  675,  594, 1095,  938, 2403,  224, 1218,   20])"
      ]
     },
     "execution_count": 50,
     "metadata": {},
     "output_type": "execute_result"
    }
   ],
   "source": [
    "arr1 * arr2"
   ]
  },
  {
   "cell_type": "markdown",
   "id": "8d9e057e",
   "metadata": {},
   "source": [
    "## Array Division"
   ]
  },
  {
   "cell_type": "code",
   "execution_count": 51,
   "id": "bcba8eb9",
   "metadata": {},
   "outputs": [
    {
     "data": {
      "text/plain": [
       "array([6.3       , 0.08      , 1.08      , 0.81481481, 4.86666667,\n",
       "       4.78571429, 3.2962963 , 0.28571429, 1.44827586, 0.2       ])"
      ]
     },
     "execution_count": 51,
     "metadata": {},
     "output_type": "execute_result"
    }
   ],
   "source": [
    "arr2/arr1"
   ]
  },
  {
   "cell_type": "markdown",
   "id": "af600699",
   "metadata": {},
   "source": [
    "### Note: \n",
    "\n",
    "   - In some cases, numpy gives a warning instead of throwing an error.  such as zero division"
   ]
  },
  {
   "cell_type": "code",
   "execution_count": 52,
   "id": "031b3ccd",
   "metadata": {},
   "outputs": [],
   "source": [
    "ar1 = np.arange(5)\n",
    "ar2 = np.arange(1, 6)"
   ]
  },
  {
   "cell_type": "code",
   "execution_count": 54,
   "id": "de2e68ee",
   "metadata": {},
   "outputs": [
    {
     "data": {
      "text/plain": [
       "(array([0, 1, 2, 3, 4]), array([1, 2, 3, 4, 5]))"
      ]
     },
     "execution_count": 54,
     "metadata": {},
     "output_type": "execute_result"
    }
   ],
   "source": [
    "ar1, ar2"
   ]
  },
  {
   "cell_type": "code",
   "execution_count": 55,
   "id": "93709824",
   "metadata": {},
   "outputs": [
    {
     "name": "stderr",
     "output_type": "stream",
     "text": [
      "<ipython-input-55-89a06a0fab80>:1: RuntimeWarning: divide by zero encountered in true_divide\n",
      "  ar2 / ar1\n"
     ]
    },
    {
     "data": {
      "text/plain": [
       "array([       inf, 2.        , 1.5       , 1.33333333, 1.25      ])"
      ]
     },
     "execution_count": 55,
     "metadata": {},
     "output_type": "execute_result"
    }
   ],
   "source": [
    "# 1/0 ====> inf\n",
    "ar2 / ar1"
   ]
  },
  {
   "cell_type": "code",
   "execution_count": 56,
   "id": "248d03c8",
   "metadata": {},
   "outputs": [
    {
     "name": "stderr",
     "output_type": "stream",
     "text": [
      "<ipython-input-56-fe4ecb103990>:1: RuntimeWarning: invalid value encountered in true_divide\n",
      "  ar1/ar1\n"
     ]
    },
    {
     "data": {
      "text/plain": [
       "array([nan,  1.,  1.,  1.,  1.])"
      ]
     },
     "execution_count": 56,
     "metadata": {},
     "output_type": "execute_result"
    }
   ],
   "source": [
    "# 0/0 ====> nan\n",
    "ar1/ar1"
   ]
  },
  {
   "cell_type": "markdown",
   "id": "449e53df",
   "metadata": {},
   "source": [
    "# Universal Functions\n",
    "\n",
    "  - Numpy refers to **\"Universal Functions\"** as ufunc, which they are simply numpy functions that operate on **ndarray** objects"
   ]
  },
  {
   "cell_type": "markdown",
   "id": "7587c5f6",
   "metadata": {},
   "source": [
    " - **max function**"
   ]
  },
  {
   "cell_type": "code",
   "execution_count": 2,
   "id": "8009a2b6",
   "metadata": {},
   "outputs": [
    {
     "data": {
      "text/plain": [
       "array([33, 20,  7, 16, 27, 48, 49, 13, 36,  7])"
      ]
     },
     "execution_count": 2,
     "metadata": {},
     "output_type": "execute_result"
    }
   ],
   "source": [
    "arr = np.array(choices(range(50), k =10))\n",
    "arr"
   ]
  },
  {
   "cell_type": "code",
   "execution_count": 4,
   "id": "bcbae51b",
   "metadata": {},
   "outputs": [
    {
     "data": {
      "text/plain": [
       "49"
      ]
     },
     "execution_count": 4,
     "metadata": {},
     "output_type": "execute_result"
    }
   ],
   "source": [
    "max_val = arr.max()\n",
    "max_val"
   ]
  },
  {
   "cell_type": "code",
   "execution_count": 5,
   "id": "b6dbb089",
   "metadata": {},
   "outputs": [
    {
     "data": {
      "text/plain": [
       "49"
      ]
     },
     "execution_count": 5,
     "metadata": {},
     "output_type": "execute_result"
    }
   ],
   "source": [
    "# Or we can do that this way\n",
    "np.max(arr)"
   ]
  },
  {
   "cell_type": "markdown",
   "id": "787d3b75",
   "metadata": {},
   "source": [
    "- **argmax function**\n",
    "\n",
    "  This is used to find the position (index) of the maximum value"
   ]
  },
  {
   "cell_type": "code",
   "execution_count": 8,
   "id": "17987cb8",
   "metadata": {},
   "outputs": [
    {
     "data": {
      "text/plain": [
       "6"
      ]
     },
     "execution_count": 8,
     "metadata": {},
     "output_type": "execute_result"
    }
   ],
   "source": [
    "np.argmax(arr)"
   ]
  },
  {
   "cell_type": "markdown",
   "id": "fcdc0e0d",
   "metadata": {},
   "source": [
    "  - **min** **Funtion**"
   ]
  },
  {
   "cell_type": "code",
   "execution_count": 9,
   "id": "7d884cb7",
   "metadata": {},
   "outputs": [
    {
     "data": {
      "text/plain": [
       "7"
      ]
     },
     "execution_count": 9,
     "metadata": {},
     "output_type": "execute_result"
    }
   ],
   "source": [
    "arr.min()"
   ]
  },
  {
   "cell_type": "markdown",
   "id": "1450abd0",
   "metadata": {},
   "source": [
    "- **argmin function**\n",
    "\n",
    "  This is used to find the position (index) of the minimum value"
   ]
  },
  {
   "cell_type": "code",
   "execution_count": 10,
   "id": "287f2b60",
   "metadata": {},
   "outputs": [
    {
     "data": {
      "text/plain": [
       "2"
      ]
     },
     "execution_count": 10,
     "metadata": {},
     "output_type": "execute_result"
    }
   ],
   "source": [
    "np.argmin(arr)"
   ]
  },
  {
   "cell_type": "markdown",
   "id": "94ccafc0",
   "metadata": {},
   "source": [
    "- **square root function sqrt**"
   ]
  },
  {
   "cell_type": "code",
   "execution_count": 71,
   "id": "7489b398",
   "metadata": {},
   "outputs": [
    {
     "data": {
      "text/plain": [
       "array([1.        , 6.        , 6.92820323, 6.92820323, 5.74456265,\n",
       "       4.12310563, 4.24264069, 5.83095189, 5.74456265, 2.23606798])"
      ]
     },
     "execution_count": 71,
     "metadata": {},
     "output_type": "execute_result"
    }
   ],
   "source": [
    "np.sqrt(arr)"
   ]
  },
  {
   "cell_type": "markdown",
   "id": "35357570",
   "metadata": {},
   "source": [
    "- **Exponential function exp()**"
   ]
  },
  {
   "cell_type": "code",
   "execution_count": 72,
   "id": "16a765ff",
   "metadata": {},
   "outputs": [
    {
     "data": {
      "text/plain": [
       "array([2.71828183e+00, 4.31123155e+15, 7.01673591e+20, 7.01673591e+20,\n",
       "       2.14643580e+14, 2.41549528e+07, 6.56599691e+07, 5.83461743e+14,\n",
       "       2.14643580e+14, 1.48413159e+02])"
      ]
     },
     "execution_count": 72,
     "metadata": {},
     "output_type": "execute_result"
    }
   ],
   "source": [
    "np.exp(arr)"
   ]
  },
  {
   "cell_type": "markdown",
   "id": "07d1119a",
   "metadata": {},
   "source": [
    "- sin function"
   ]
  },
  {
   "cell_type": "code",
   "execution_count": 77,
   "id": "f670198a",
   "metadata": {},
   "outputs": [
    {
     "data": {
      "text/plain": [
       "array([ 0.84147098, -0.99177885, -0.76825466, -0.76825466,  0.99991186,\n",
       "       -0.96139749, -0.75098725,  0.52908269,  0.99991186, -0.95892427])"
      ]
     },
     "execution_count": 77,
     "metadata": {},
     "output_type": "execute_result"
    }
   ],
   "source": [
    "np.sin(arr)"
   ]
  },
  {
   "cell_type": "markdown",
   "id": "be5cb523",
   "metadata": {},
   "source": [
    "   - **The Sum Function**\n",
    "   \n",
    "     it sums all the elements of an array"
   ]
  },
  {
   "cell_type": "code",
   "execution_count": 11,
   "id": "636bbdf4",
   "metadata": {},
   "outputs": [
    {
     "data": {
      "text/plain": [
       "256"
      ]
     },
     "execution_count": 11,
     "metadata": {},
     "output_type": "execute_result"
    }
   ],
   "source": [
    "arr.sum()"
   ]
  },
  {
   "cell_type": "code",
   "execution_count": 15,
   "id": "c4683fb2",
   "metadata": {},
   "outputs": [
    {
     "data": {
      "text/plain": [
       "array([[ 0,  1,  2,  3,  4],\n",
       "       [ 5,  6,  7,  8,  9],\n",
       "       [10, 11, 12, 13, 14],\n",
       "       [15, 16, 17, 18, 19],\n",
       "       [20, 21, 22, 23, 24]])"
      ]
     },
     "execution_count": 15,
     "metadata": {},
     "output_type": "execute_result"
    }
   ],
   "source": [
    "mat = np.arange(25).reshape(5,5)\n",
    "mat"
   ]
  },
  {
   "cell_type": "code",
   "execution_count": 16,
   "id": "7b037a2e",
   "metadata": {},
   "outputs": [
    {
     "data": {
      "text/plain": [
       "300"
      ]
     },
     "execution_count": 16,
     "metadata": {},
     "output_type": "execute_result"
    }
   ],
   "source": [
    "mat.sum()"
   ]
  },
  {
   "cell_type": "markdown",
   "id": "488c7c86",
   "metadata": {},
   "source": [
    "  **Cumulative sum cumsum()**"
   ]
  },
  {
   "cell_type": "code",
   "execution_count": 28,
   "id": "5f6a4202",
   "metadata": {},
   "outputs": [
    {
     "data": {
      "text/plain": [
       "array([  0,   1,   3,   6,  10,  15,  21,  28,  36,  45,  55,  66,  78,\n",
       "        91, 105, 120, 136, 153, 171, 190, 210, 231, 253, 276, 300])"
      ]
     },
     "execution_count": 28,
     "metadata": {},
     "output_type": "execute_result"
    }
   ],
   "source": [
    "np.cumsum(mat.flatten())"
   ]
  },
  {
   "cell_type": "markdown",
   "id": "de4f5717",
   "metadata": {},
   "source": [
    "  - **Trace Function**\n",
    "  \n",
    "     this computes  the trace of a matrix, the sum of diagonal elements"
   ]
  },
  {
   "cell_type": "code",
   "execution_count": 17,
   "id": "bba56e76",
   "metadata": {},
   "outputs": [
    {
     "data": {
      "text/plain": [
       "60"
      ]
     },
     "execution_count": 17,
     "metadata": {},
     "output_type": "execute_result"
    }
   ],
   "source": [
    "mat.trace()"
   ]
  },
  {
   "cell_type": "code",
   "execution_count": 18,
   "id": "3b723b06",
   "metadata": {},
   "outputs": [
    {
     "data": {
      "text/plain": [
       "60"
      ]
     },
     "execution_count": 18,
     "metadata": {},
     "output_type": "execute_result"
    }
   ],
   "source": [
    "0 + 6 + 12 + 18 + 24"
   ]
  },
  {
   "cell_type": "markdown",
   "id": "49458ceb",
   "metadata": {},
   "source": [
    "  - The mean function: \n",
    "  \n",
    "    It caculates the mean of an array. For 2-D arrays we can provide the axis = 0 to calculate the mean of rows, or axis =1 for the column means"
   ]
  },
  {
   "cell_type": "code",
   "execution_count": 22,
   "id": "4da16f3e",
   "metadata": {},
   "outputs": [
    {
     "data": {
      "text/plain": [
       "array([10., 11., 12., 13., 14.])"
      ]
     },
     "execution_count": 22,
     "metadata": {},
     "output_type": "execute_result"
    }
   ],
   "source": [
    "# Mean of Variables (rows)\n",
    "mat.mean(axis = 0)"
   ]
  },
  {
   "cell_type": "code",
   "execution_count": 21,
   "id": "5c626497",
   "metadata": {},
   "outputs": [
    {
     "data": {
      "text/plain": [
       "array([ 2.,  7., 12., 17., 22.])"
      ]
     },
     "execution_count": 21,
     "metadata": {},
     "output_type": "execute_result"
    }
   ],
   "source": [
    "# Mean of columns\n",
    "mat.mean(axis = 1)"
   ]
  },
  {
   "cell_type": "markdown",
   "id": "69fedf78",
   "metadata": {},
   "source": [
    "  **var function for variance**"
   ]
  },
  {
   "cell_type": "code",
   "execution_count": 23,
   "id": "d6a68592",
   "metadata": {},
   "outputs": [
    {
     "data": {
      "text/plain": [
       "array([50., 50., 50., 50., 50.])"
      ]
     },
     "execution_count": 23,
     "metadata": {},
     "output_type": "execute_result"
    }
   ],
   "source": [
    "mat.var(axis = 0)"
   ]
  },
  {
   "cell_type": "code",
   "execution_count": 24,
   "id": "78280251",
   "metadata": {},
   "outputs": [
    {
     "data": {
      "text/plain": [
       "array([2., 2., 2., 2., 2.])"
      ]
     },
     "execution_count": 24,
     "metadata": {},
     "output_type": "execute_result"
    }
   ],
   "source": [
    "mat.var(axis = 1)"
   ]
  },
  {
   "cell_type": "markdown",
   "id": "06f188f4",
   "metadata": {},
   "source": [
    "  **Standard Deviation std()**"
   ]
  },
  {
   "cell_type": "code",
   "execution_count": 26,
   "id": "a064139a",
   "metadata": {},
   "outputs": [
    {
     "data": {
      "text/plain": [
       "array([7.07106781, 7.07106781, 7.07106781, 7.07106781, 7.07106781])"
      ]
     },
     "execution_count": 26,
     "metadata": {},
     "output_type": "execute_result"
    }
   ],
   "source": [
    "mat.std(axis = 0)"
   ]
  },
  {
   "cell_type": "code",
   "execution_count": 27,
   "id": "d964ade3",
   "metadata": {},
   "outputs": [
    {
     "data": {
      "text/plain": [
       "array([1.41421356, 1.41421356, 1.41421356, 1.41421356, 1.41421356])"
      ]
     },
     "execution_count": 27,
     "metadata": {},
     "output_type": "execute_result"
    }
   ],
   "source": [
    "mat.std(axis = 1)"
   ]
  },
  {
   "cell_type": "markdown",
   "id": "3d1ed4de",
   "metadata": {},
   "source": [
    "The list of universal functions https://numpy.org/doc/stable/reference/ufuncs.html"
   ]
  }
 ],
 "metadata": {
  "kernelspec": {
   "display_name": "Python 3",
   "language": "python",
   "name": "python3"
  },
  "language_info": {
   "codemirror_mode": {
    "name": "ipython",
    "version": 3
   },
   "file_extension": ".py",
   "mimetype": "text/x-python",
   "name": "python",
   "nbconvert_exporter": "python",
   "pygments_lexer": "ipython3",
   "version": "3.8.2"
  }
 },
 "nbformat": 4,
 "nbformat_minor": 5
}
