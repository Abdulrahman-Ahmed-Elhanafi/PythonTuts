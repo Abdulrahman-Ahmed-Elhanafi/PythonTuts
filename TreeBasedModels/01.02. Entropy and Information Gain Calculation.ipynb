{
 "cells": [
  {
   "cell_type": "markdown",
   "id": "0bd6ab90",
   "metadata": {},
   "source": [
    "# <center><font size=10, color=\"#7B242F\"><u>Attribute Selection Measures Computation</u> </font>"
   ]
  },
  {
   "cell_type": "markdown",
   "id": "b32b62cb",
   "metadata": {},
   "source": [
    "### Introduction\n",
    "\n",
    "   - This tutorial aims to teach you the steps of calculating classification meterics; mainly, the **entropy and Information gain**. This tutorial will walk you throught the steps of computing theses metrics, and how **decision tree algorithm** workflow process works."
   ]
  },
  {
   "cell_type": "code",
   "execution_count": 1,
   "id": "768d54ff",
   "metadata": {},
   "outputs": [],
   "source": [
    "##===========================================================\n",
    "#     Importing the lesson tools \n",
    "##===========================================================\n",
    "\n",
    "import pandas as pd; import numpy as np"
   ]
  },
  {
   "cell_type": "code",
   "execution_count": 2,
   "id": "ef374fa1",
   "metadata": {},
   "outputs": [
    {
     "data": {
      "text/html": [
       "<div>\n",
       "<style scoped>\n",
       "    .dataframe tbody tr th:only-of-type {\n",
       "        vertical-align: middle;\n",
       "    }\n",
       "\n",
       "    .dataframe tbody tr th {\n",
       "        vertical-align: top;\n",
       "    }\n",
       "\n",
       "    .dataframe thead th {\n",
       "        text-align: right;\n",
       "    }\n",
       "</style>\n",
       "<table border=\"1\" class=\"dataframe\">\n",
       "  <thead>\n",
       "    <tr style=\"text-align: right;\">\n",
       "      <th></th>\n",
       "      <th>State</th>\n",
       "      <th>Median_income</th>\n",
       "      <th>%_Bachelors_degree_or_higher</th>\n",
       "      <th>%_White</th>\n",
       "      <th>Political_Leaning</th>\n",
       "      <th>income</th>\n",
       "      <th>education</th>\n",
       "      <th>diversity</th>\n",
       "    </tr>\n",
       "  </thead>\n",
       "  <tbody>\n",
       "    <tr>\n",
       "      <th>0</th>\n",
       "      <td>California</td>\n",
       "      <td>70489</td>\n",
       "      <td>0.33</td>\n",
       "      <td>0.37</td>\n",
       "      <td>0</td>\n",
       "      <td>1</td>\n",
       "      <td>1</td>\n",
       "      <td>1</td>\n",
       "    </tr>\n",
       "    <tr>\n",
       "      <th>1</th>\n",
       "      <td>Colorado</td>\n",
       "      <td>73034</td>\n",
       "      <td>0.39</td>\n",
       "      <td>0.68</td>\n",
       "      <td>0</td>\n",
       "      <td>1</td>\n",
       "      <td>1</td>\n",
       "      <td>1</td>\n",
       "    </tr>\n",
       "    <tr>\n",
       "      <th>2</th>\n",
       "      <td>Connecticut</td>\n",
       "      <td>72812</td>\n",
       "      <td>0.38</td>\n",
       "      <td>0.66</td>\n",
       "      <td>0</td>\n",
       "      <td>1</td>\n",
       "      <td>1</td>\n",
       "      <td>1</td>\n",
       "    </tr>\n",
       "    <tr>\n",
       "      <th>3</th>\n",
       "      <td>Delaware</td>\n",
       "      <td>65012</td>\n",
       "      <td>0.31</td>\n",
       "      <td>0.62</td>\n",
       "      <td>0</td>\n",
       "      <td>1</td>\n",
       "      <td>1</td>\n",
       "      <td>1</td>\n",
       "    </tr>\n",
       "    <tr>\n",
       "      <th>4</th>\n",
       "      <td>D.C.</td>\n",
       "      <td>85750</td>\n",
       "      <td>0.57</td>\n",
       "      <td>0.37</td>\n",
       "      <td>0</td>\n",
       "      <td>1</td>\n",
       "      <td>1</td>\n",
       "      <td>1</td>\n",
       "    </tr>\n",
       "  </tbody>\n",
       "</table>\n",
       "</div>"
      ],
      "text/plain": [
       "         State  Median_income  %_Bachelors_degree_or_higher  %_White  \\\n",
       "0   California          70489                          0.33     0.37   \n",
       "1     Colorado          73034                          0.39     0.68   \n",
       "2  Connecticut          72812                          0.38     0.66   \n",
       "3     Delaware          65012                          0.31     0.62   \n",
       "4         D.C.          85750                          0.57     0.37   \n",
       "\n",
       "   Political_Leaning  income  education  diversity  \n",
       "0                  0       1          1          1  \n",
       "1                  0       1          1          1  \n",
       "2                  0       1          1          1  \n",
       "3                  0       1          1          1  \n",
       "4                  0       1          1          1  "
      ]
     },
     "execution_count": 2,
     "metadata": {},
     "output_type": "execute_result"
    }
   ],
   "source": [
    "df = pd.read_csv('inf_gain.csv')\n",
    "df.head()"
   ]
  },
  {
   "cell_type": "code",
   "execution_count": 3,
   "id": "c12f9020",
   "metadata": {},
   "outputs": [],
   "source": [
    "df.drop(['State','Median_income', '%_Bachelors_degree_or_higher', '%_White'], axis=1, \n",
    "             inplace=True)"
   ]
  },
  {
   "cell_type": "code",
   "execution_count": 4,
   "id": "e598aafe",
   "metadata": {},
   "outputs": [
    {
     "data": {
      "text/plain": [
       "array([0, 2, 1])"
      ]
     },
     "execution_count": 4,
     "metadata": {},
     "output_type": "execute_result"
    }
   ],
   "source": [
    "df['Political_Leaning'].unique()"
   ]
  },
  {
   "cell_type": "code",
   "execution_count": 5,
   "id": "28242376",
   "metadata": {},
   "outputs": [],
   "source": [
    "df['Political_Leaning'] = df['Political_Leaning'].map({0:0, 1: 1, 2: 1})"
   ]
  },
  {
   "cell_type": "code",
   "execution_count": 6,
   "id": "fc898098",
   "metadata": {},
   "outputs": [
    {
     "data": {
      "text/plain": [
       "1    29\n",
       "0    22\n",
       "Name: Political_Leaning, dtype: int64"
      ]
     },
     "execution_count": 6,
     "metadata": {},
     "output_type": "execute_result"
    }
   ],
   "source": [
    "df['Political_Leaning'].value_counts()"
   ]
  },
  {
   "cell_type": "markdown",
   "id": "e9285385",
   "metadata": {},
   "source": [
    "- The target variable is **Political_Leaning**\n",
    "\n",
    "- We will compute the entropy metric\n",
    " \n",
    "- We will go through each step of the formula and calculate the entropy for the **Political_Leaning** variable. Here are the steps of doing that:\n",
    "\n",
    "    1. Iterate through each unique value in a single column and assign it to i. For this example, we have 2 cases either (0) or (1).\n",
    "    \n",
    "  2. Compute the probability of that value occurring in the data. \n",
    "  \n",
    "  3. Take the probability of each case and multiply it by the logarithm base 2 of the probability. "
   ]
  },
  {
   "cell_type": "code",
   "execution_count": 7,
   "id": "209e3bfa",
   "metadata": {},
   "outputs": [
    {
     "data": {
      "text/html": [
       "<div>\n",
       "<style scoped>\n",
       "    .dataframe tbody tr th:only-of-type {\n",
       "        vertical-align: middle;\n",
       "    }\n",
       "\n",
       "    .dataframe tbody tr th {\n",
       "        vertical-align: top;\n",
       "    }\n",
       "\n",
       "    .dataframe thead th {\n",
       "        text-align: right;\n",
       "    }\n",
       "</style>\n",
       "<table border=\"1\" class=\"dataframe\">\n",
       "  <thead>\n",
       "    <tr style=\"text-align: right;\">\n",
       "      <th></th>\n",
       "      <th>Political_Leaning</th>\n",
       "      <th>income</th>\n",
       "      <th>education</th>\n",
       "      <th>diversity</th>\n",
       "    </tr>\n",
       "  </thead>\n",
       "  <tbody>\n",
       "    <tr>\n",
       "      <th>0</th>\n",
       "      <td>0</td>\n",
       "      <td>1</td>\n",
       "      <td>1</td>\n",
       "      <td>1</td>\n",
       "    </tr>\n",
       "    <tr>\n",
       "      <th>1</th>\n",
       "      <td>0</td>\n",
       "      <td>1</td>\n",
       "      <td>1</td>\n",
       "      <td>1</td>\n",
       "    </tr>\n",
       "    <tr>\n",
       "      <th>2</th>\n",
       "      <td>0</td>\n",
       "      <td>1</td>\n",
       "      <td>1</td>\n",
       "      <td>1</td>\n",
       "    </tr>\n",
       "    <tr>\n",
       "      <th>3</th>\n",
       "      <td>0</td>\n",
       "      <td>1</td>\n",
       "      <td>1</td>\n",
       "      <td>1</td>\n",
       "    </tr>\n",
       "    <tr>\n",
       "      <th>4</th>\n",
       "      <td>0</td>\n",
       "      <td>1</td>\n",
       "      <td>1</td>\n",
       "      <td>1</td>\n",
       "    </tr>\n",
       "  </tbody>\n",
       "</table>\n",
       "</div>"
      ],
      "text/plain": [
       "   Political_Leaning  income  education  diversity\n",
       "0                  0       1          1          1\n",
       "1                  0       1          1          1\n",
       "2                  0       1          1          1\n",
       "3                  0       1          1          1\n",
       "4                  0       1          1          1"
      ]
     },
     "execution_count": 7,
     "metadata": {},
     "output_type": "execute_result"
    }
   ],
   "source": [
    "df.head()"
   ]
  },
  {
   "cell_type": "code",
   "execution_count": 8,
   "id": "8142b429",
   "metadata": {},
   "outputs": [
    {
     "data": {
      "text/plain": [
       "51"
      ]
     },
     "execution_count": 8,
     "metadata": {},
     "output_type": "execute_result"
    }
   ],
   "source": [
    "# The total number\n",
    "\n",
    "n_samples = len(df)\n",
    "n_samples"
   ]
  },
  {
   "cell_type": "code",
   "execution_count": 9,
   "id": "5af94f7e",
   "metadata": {},
   "outputs": [
    {
     "data": {
      "text/plain": [
       "29"
      ]
     },
     "execution_count": 9,
     "metadata": {},
     "output_type": "execute_result"
    }
   ],
   "source": [
    "# The number of (1) or (yes) in the data\n",
    "# ---------------------------------------\n",
    "num_yes = df['Political_Leaning'][df['Political_Leaning']==1].sum()\n",
    "num_yes"
   ]
  },
  {
   "cell_type": "code",
   "execution_count": 10,
   "id": "2ed116f5",
   "metadata": {},
   "outputs": [
    {
     "data": {
      "text/plain": [
       "22"
      ]
     },
     "execution_count": 10,
     "metadata": {},
     "output_type": "execute_result"
    }
   ],
   "source": [
    "# The number of (0) or (no) in the data\n",
    "# ---------------------------------------\n",
    "num_no = n_samples - num_yes\n",
    "num_no"
   ]
  },
  {
   "cell_type": "code",
   "execution_count": 11,
   "id": "878015b7",
   "metadata": {},
   "outputs": [
    {
     "name": "stdout",
     "output_type": "stream",
     "text": [
      "0.5686274509803921\n",
      "0.43137254901960786\n"
     ]
    }
   ],
   "source": [
    "# Calculate the probability for Yes and for No\n",
    "# ---------------------------------------------\n",
    "prob_yes = num_yes/n_samples\n",
    "prob_no = num_no/n_samples\n",
    "print(prob_yes)\n",
    "print(prob_no)"
   ]
  },
  {
   "cell_type": "code",
   "execution_count": 12,
   "id": "ec94ae8b",
   "metadata": {},
   "outputs": [
    {
     "name": "stdout",
     "output_type": "stream",
     "text": [
      "-0.8144443468439235\n",
      "-1.2129937233341983\n"
     ]
    }
   ],
   "source": [
    "# take the log base 2 of each probability\n",
    "# ----------------------------------------\n",
    "log_prob_yes = np.log2(prob_yes)\n",
    "log_prob_no = np.log2(prob_no)\n",
    "print(log_prob_yes)\n",
    "print(log_prob_no)"
   ]
  },
  {
   "cell_type": "code",
   "execution_count": 13,
   "id": "6265bb03",
   "metadata": {},
   "outputs": [
    {
     "name": "stdout",
     "output_type": "stream",
     "text": [
      "-0.46311541291125063\n",
      "-0.5232521943794581\n"
     ]
    }
   ],
   "source": [
    "# Multiply the probability for Yes and No by log base 2\n",
    "# ----------------------------------------------------\n",
    "prob_log_yes = log_prob_yes * prob_yes\n",
    "prob_log_no = log_prob_no * prob_no\n",
    "print(prob_log_yes)\n",
    "print(prob_log_no)"
   ]
  },
  {
   "cell_type": "code",
   "execution_count": 14,
   "id": "4fbf25b5",
   "metadata": {},
   "outputs": [
    {
     "name": "stdout",
     "output_type": "stream",
     "text": [
      "-0.9863676072907088\n"
     ]
    }
   ],
   "source": [
    "# Sum the results\n",
    "# -----------------\n",
    "sum_everything = prob_log_no + prob_log_yes\n",
    "print(sum_everything)"
   ]
  },
  {
   "cell_type": "code",
   "execution_count": 15,
   "id": "13ac039b",
   "metadata": {},
   "outputs": [
    {
     "name": "stdout",
     "output_type": "stream",
     "text": [
      "0.9863676072907088\n"
     ]
    }
   ],
   "source": [
    "## Negate the result\n",
    "# -------------------\n",
    "final_res = - sum_everything\n",
    "print(final_res)"
   ]
  },
  {
   "cell_type": "code",
   "execution_count": 16,
   "id": "365582ae",
   "metadata": {},
   "outputs": [
    {
     "name": "stdout",
     "output_type": "stream",
     "text": [
      "0.9863676072907088\n"
     ]
    }
   ],
   "source": [
    "##==========================================================\n",
    "#        All the steps together\n",
    "##==========================================================\n",
    "\n",
    "entropy = -1*((29/51)* np.log2(29/51) + (22/51)* np.log2(22/51))\n",
    "print(entropy)"
   ]
  },
  {
   "cell_type": "code",
   "execution_count": 17,
   "id": "93a4db3d",
   "metadata": {},
   "outputs": [
    {
     "data": {
      "text/plain": [
       "0.9863676072907089"
      ]
     },
     "execution_count": 17,
     "metadata": {},
     "output_type": "execute_result"
    }
   ],
   "source": [
    "# We can this function to compute the entropy\n",
    "# ===========================================\n",
    "from scipy.stats import entropy\n",
    "entropy([(29/51), (22/51)], base=2)"
   ]
  },
  {
   "cell_type": "code",
   "execution_count": 18,
   "id": "2583ef51",
   "metadata": {},
   "outputs": [
    {
     "data": {
      "text/plain": [
       "0.7642045065086203"
      ]
     },
     "execution_count": 18,
     "metadata": {},
     "output_type": "execute_result"
    }
   ],
   "source": [
    "entropy([(7/15), (2/15)], base=2)"
   ]
  },
  {
   "cell_type": "markdown",
   "id": "49a6d7f0",
   "metadata": {},
   "source": [
    "**Our final entropy is 0.986 So, what does that really mean?**\n",
    "\n",
    "- We get less than one **bit** of information — only `0.986`, this because there are more (1)s in the **target** column than (0)s. This means that if we were predicting a new value, we could guess that the answer is (1) and be right more often than wrong (the probability of **yes** is 0.56) which is greater than the probability of **no**. \n",
    "\n",
    "**Definition of Bit of Information**\n",
    "\n",
    ">> In information theory, a bit is thought of as a binary number representing 0 for no information and 1 for a full bit of information. We can represent a bit of information as a binary number because it either has the value (1) or (0). \n",
    "\n",
    "\n",
    "\n",
    "- In the next section we will split the **Political Leaning** variable on the income variable and compute the **entropy** after the left side subset and on the right side subset.**\n",
    "\n"
   ]
  },
  {
   "cell_type": "markdown",
   "id": "e3663e46",
   "metadata": {},
   "source": [
    "### Splitting on  Income Variable"
   ]
  },
  {
   "cell_type": "code",
   "execution_count": 19,
   "id": "f8248005",
   "metadata": {},
   "outputs": [
    {
     "data": {
      "text/html": [
       "<div>\n",
       "<style scoped>\n",
       "    .dataframe tbody tr th:only-of-type {\n",
       "        vertical-align: middle;\n",
       "    }\n",
       "\n",
       "    .dataframe tbody tr th {\n",
       "        vertical-align: top;\n",
       "    }\n",
       "\n",
       "    .dataframe thead th {\n",
       "        text-align: right;\n",
       "    }\n",
       "</style>\n",
       "<table border=\"1\" class=\"dataframe\">\n",
       "  <thead>\n",
       "    <tr style=\"text-align: right;\">\n",
       "      <th></th>\n",
       "      <th>Political_Leaning</th>\n",
       "      <th>income</th>\n",
       "      <th>education</th>\n",
       "      <th>diversity</th>\n",
       "    </tr>\n",
       "  </thead>\n",
       "  <tbody>\n",
       "    <tr>\n",
       "      <th>0</th>\n",
       "      <td>0</td>\n",
       "      <td>1</td>\n",
       "      <td>1</td>\n",
       "      <td>1</td>\n",
       "    </tr>\n",
       "    <tr>\n",
       "      <th>1</th>\n",
       "      <td>0</td>\n",
       "      <td>1</td>\n",
       "      <td>1</td>\n",
       "      <td>1</td>\n",
       "    </tr>\n",
       "    <tr>\n",
       "      <th>2</th>\n",
       "      <td>0</td>\n",
       "      <td>1</td>\n",
       "      <td>1</td>\n",
       "      <td>1</td>\n",
       "    </tr>\n",
       "    <tr>\n",
       "      <th>3</th>\n",
       "      <td>0</td>\n",
       "      <td>1</td>\n",
       "      <td>1</td>\n",
       "      <td>1</td>\n",
       "    </tr>\n",
       "    <tr>\n",
       "      <th>4</th>\n",
       "      <td>0</td>\n",
       "      <td>1</td>\n",
       "      <td>1</td>\n",
       "      <td>1</td>\n",
       "    </tr>\n",
       "    <tr>\n",
       "      <th>5</th>\n",
       "      <td>0</td>\n",
       "      <td>1</td>\n",
       "      <td>1</td>\n",
       "      <td>1</td>\n",
       "    </tr>\n",
       "    <tr>\n",
       "      <th>6</th>\n",
       "      <td>0</td>\n",
       "      <td>1</td>\n",
       "      <td>1</td>\n",
       "      <td>1</td>\n",
       "    </tr>\n",
       "    <tr>\n",
       "      <th>8</th>\n",
       "      <td>0</td>\n",
       "      <td>1</td>\n",
       "      <td>1</td>\n",
       "      <td>1</td>\n",
       "    </tr>\n",
       "    <tr>\n",
       "      <th>9</th>\n",
       "      <td>0</td>\n",
       "      <td>1</td>\n",
       "      <td>1</td>\n",
       "      <td>0</td>\n",
       "    </tr>\n",
       "    <tr>\n",
       "      <th>11</th>\n",
       "      <td>0</td>\n",
       "      <td>1</td>\n",
       "      <td>1</td>\n",
       "      <td>0</td>\n",
       "    </tr>\n",
       "    <tr>\n",
       "      <th>13</th>\n",
       "      <td>0</td>\n",
       "      <td>1</td>\n",
       "      <td>1</td>\n",
       "      <td>0</td>\n",
       "    </tr>\n",
       "    <tr>\n",
       "      <th>14</th>\n",
       "      <td>0</td>\n",
       "      <td>1</td>\n",
       "      <td>1</td>\n",
       "      <td>1</td>\n",
       "    </tr>\n",
       "    <tr>\n",
       "      <th>16</th>\n",
       "      <td>0</td>\n",
       "      <td>1</td>\n",
       "      <td>1</td>\n",
       "      <td>1</td>\n",
       "    </tr>\n",
       "    <tr>\n",
       "      <th>17</th>\n",
       "      <td>0</td>\n",
       "      <td>1</td>\n",
       "      <td>1</td>\n",
       "      <td>0</td>\n",
       "    </tr>\n",
       "    <tr>\n",
       "      <th>19</th>\n",
       "      <td>0</td>\n",
       "      <td>1</td>\n",
       "      <td>1</td>\n",
       "      <td>0</td>\n",
       "    </tr>\n",
       "    <tr>\n",
       "      <th>20</th>\n",
       "      <td>0</td>\n",
       "      <td>1</td>\n",
       "      <td>1</td>\n",
       "      <td>1</td>\n",
       "    </tr>\n",
       "    <tr>\n",
       "      <th>21</th>\n",
       "      <td>0</td>\n",
       "      <td>1</td>\n",
       "      <td>1</td>\n",
       "      <td>1</td>\n",
       "    </tr>\n",
       "    <tr>\n",
       "      <th>22</th>\n",
       "      <td>1</td>\n",
       "      <td>1</td>\n",
       "      <td>0</td>\n",
       "      <td>0</td>\n",
       "    </tr>\n",
       "    <tr>\n",
       "      <th>23</th>\n",
       "      <td>1</td>\n",
       "      <td>1</td>\n",
       "      <td>0</td>\n",
       "      <td>0</td>\n",
       "    </tr>\n",
       "    <tr>\n",
       "      <th>25</th>\n",
       "      <td>1</td>\n",
       "      <td>1</td>\n",
       "      <td>0</td>\n",
       "      <td>1</td>\n",
       "    </tr>\n",
       "    <tr>\n",
       "      <th>32</th>\n",
       "      <td>1</td>\n",
       "      <td>1</td>\n",
       "      <td>0</td>\n",
       "      <td>0</td>\n",
       "    </tr>\n",
       "    <tr>\n",
       "      <th>33</th>\n",
       "      <td>1</td>\n",
       "      <td>1</td>\n",
       "      <td>1</td>\n",
       "      <td>0</td>\n",
       "    </tr>\n",
       "    <tr>\n",
       "      <th>39</th>\n",
       "      <td>1</td>\n",
       "      <td>1</td>\n",
       "      <td>1</td>\n",
       "      <td>0</td>\n",
       "    </tr>\n",
       "    <tr>\n",
       "      <th>41</th>\n",
       "      <td>1</td>\n",
       "      <td>1</td>\n",
       "      <td>0</td>\n",
       "      <td>0</td>\n",
       "    </tr>\n",
       "    <tr>\n",
       "      <th>48</th>\n",
       "      <td>1</td>\n",
       "      <td>1</td>\n",
       "      <td>1</td>\n",
       "      <td>0</td>\n",
       "    </tr>\n",
       "  </tbody>\n",
       "</table>\n",
       "</div>"
      ],
      "text/plain": [
       "    Political_Leaning  income  education  diversity\n",
       "0                   0       1          1          1\n",
       "1                   0       1          1          1\n",
       "2                   0       1          1          1\n",
       "3                   0       1          1          1\n",
       "4                   0       1          1          1\n",
       "5                   0       1          1          1\n",
       "6                   0       1          1          1\n",
       "8                   0       1          1          1\n",
       "9                   0       1          1          0\n",
       "11                  0       1          1          0\n",
       "13                  0       1          1          0\n",
       "14                  0       1          1          1\n",
       "16                  0       1          1          1\n",
       "17                  0       1          1          0\n",
       "19                  0       1          1          0\n",
       "20                  0       1          1          1\n",
       "21                  0       1          1          1\n",
       "22                  1       1          0          0\n",
       "23                  1       1          0          0\n",
       "25                  1       1          0          1\n",
       "32                  1       1          0          0\n",
       "33                  1       1          1          0\n",
       "39                  1       1          1          0\n",
       "41                  1       1          0          0\n",
       "48                  1       1          1          0"
      ]
     },
     "execution_count": 19,
     "metadata": {},
     "output_type": "execute_result"
    }
   ],
   "source": [
    "df_income_1 = df[df['income']==1]\n",
    "df_income_1"
   ]
  },
  {
   "cell_type": "code",
   "execution_count": 20,
   "id": "3dc59057",
   "metadata": {},
   "outputs": [
    {
     "data": {
      "text/html": [
       "<div>\n",
       "<style scoped>\n",
       "    .dataframe tbody tr th:only-of-type {\n",
       "        vertical-align: middle;\n",
       "    }\n",
       "\n",
       "    .dataframe tbody tr th {\n",
       "        vertical-align: top;\n",
       "    }\n",
       "\n",
       "    .dataframe thead th {\n",
       "        text-align: right;\n",
       "    }\n",
       "</style>\n",
       "<table border=\"1\" class=\"dataframe\">\n",
       "  <thead>\n",
       "    <tr style=\"text-align: right;\">\n",
       "      <th></th>\n",
       "      <th>Political_Leaning</th>\n",
       "      <th>income</th>\n",
       "      <th>education</th>\n",
       "      <th>diversity</th>\n",
       "    </tr>\n",
       "  </thead>\n",
       "  <tbody>\n",
       "    <tr>\n",
       "      <th>7</th>\n",
       "      <td>0</td>\n",
       "      <td>0</td>\n",
       "      <td>0</td>\n",
       "      <td>0</td>\n",
       "    </tr>\n",
       "    <tr>\n",
       "      <th>10</th>\n",
       "      <td>0</td>\n",
       "      <td>0</td>\n",
       "      <td>0</td>\n",
       "      <td>0</td>\n",
       "    </tr>\n",
       "    <tr>\n",
       "      <th>12</th>\n",
       "      <td>0</td>\n",
       "      <td>0</td>\n",
       "      <td>0</td>\n",
       "      <td>1</td>\n",
       "    </tr>\n",
       "    <tr>\n",
       "      <th>15</th>\n",
       "      <td>0</td>\n",
       "      <td>0</td>\n",
       "      <td>0</td>\n",
       "      <td>1</td>\n",
       "    </tr>\n",
       "    <tr>\n",
       "      <th>18</th>\n",
       "      <td>0</td>\n",
       "      <td>0</td>\n",
       "      <td>1</td>\n",
       "      <td>0</td>\n",
       "    </tr>\n",
       "    <tr>\n",
       "      <th>24</th>\n",
       "      <td>1</td>\n",
       "      <td>0</td>\n",
       "      <td>0</td>\n",
       "      <td>1</td>\n",
       "    </tr>\n",
       "    <tr>\n",
       "      <th>26</th>\n",
       "      <td>1</td>\n",
       "      <td>0</td>\n",
       "      <td>0</td>\n",
       "      <td>1</td>\n",
       "    </tr>\n",
       "    <tr>\n",
       "      <th>27</th>\n",
       "      <td>1</td>\n",
       "      <td>0</td>\n",
       "      <td>0</td>\n",
       "      <td>0</td>\n",
       "    </tr>\n",
       "    <tr>\n",
       "      <th>28</th>\n",
       "      <td>1</td>\n",
       "      <td>0</td>\n",
       "      <td>0</td>\n",
       "      <td>1</td>\n",
       "    </tr>\n",
       "    <tr>\n",
       "      <th>29</th>\n",
       "      <td>1</td>\n",
       "      <td>0</td>\n",
       "      <td>0</td>\n",
       "      <td>1</td>\n",
       "    </tr>\n",
       "    <tr>\n",
       "      <th>30</th>\n",
       "      <td>1</td>\n",
       "      <td>0</td>\n",
       "      <td>0</td>\n",
       "      <td>0</td>\n",
       "    </tr>\n",
       "    <tr>\n",
       "      <th>31</th>\n",
       "      <td>1</td>\n",
       "      <td>0</td>\n",
       "      <td>0</td>\n",
       "      <td>0</td>\n",
       "    </tr>\n",
       "    <tr>\n",
       "      <th>34</th>\n",
       "      <td>1</td>\n",
       "      <td>0</td>\n",
       "      <td>0</td>\n",
       "      <td>0</td>\n",
       "    </tr>\n",
       "    <tr>\n",
       "      <th>35</th>\n",
       "      <td>1</td>\n",
       "      <td>0</td>\n",
       "      <td>0</td>\n",
       "      <td>1</td>\n",
       "    </tr>\n",
       "    <tr>\n",
       "      <th>36</th>\n",
       "      <td>1</td>\n",
       "      <td>0</td>\n",
       "      <td>0</td>\n",
       "      <td>1</td>\n",
       "    </tr>\n",
       "    <tr>\n",
       "      <th>37</th>\n",
       "      <td>1</td>\n",
       "      <td>0</td>\n",
       "      <td>0</td>\n",
       "      <td>0</td>\n",
       "    </tr>\n",
       "    <tr>\n",
       "      <th>38</th>\n",
       "      <td>1</td>\n",
       "      <td>0</td>\n",
       "      <td>1</td>\n",
       "      <td>0</td>\n",
       "    </tr>\n",
       "    <tr>\n",
       "      <th>40</th>\n",
       "      <td>1</td>\n",
       "      <td>0</td>\n",
       "      <td>0</td>\n",
       "      <td>1</td>\n",
       "    </tr>\n",
       "    <tr>\n",
       "      <th>42</th>\n",
       "      <td>1</td>\n",
       "      <td>0</td>\n",
       "      <td>0</td>\n",
       "      <td>0</td>\n",
       "    </tr>\n",
       "    <tr>\n",
       "      <th>43</th>\n",
       "      <td>1</td>\n",
       "      <td>0</td>\n",
       "      <td>0</td>\n",
       "      <td>1</td>\n",
       "    </tr>\n",
       "    <tr>\n",
       "      <th>44</th>\n",
       "      <td>1</td>\n",
       "      <td>0</td>\n",
       "      <td>0</td>\n",
       "      <td>1</td>\n",
       "    </tr>\n",
       "    <tr>\n",
       "      <th>45</th>\n",
       "      <td>1</td>\n",
       "      <td>0</td>\n",
       "      <td>0</td>\n",
       "      <td>0</td>\n",
       "    </tr>\n",
       "    <tr>\n",
       "      <th>46</th>\n",
       "      <td>1</td>\n",
       "      <td>0</td>\n",
       "      <td>0</td>\n",
       "      <td>0</td>\n",
       "    </tr>\n",
       "    <tr>\n",
       "      <th>47</th>\n",
       "      <td>1</td>\n",
       "      <td>0</td>\n",
       "      <td>0</td>\n",
       "      <td>1</td>\n",
       "    </tr>\n",
       "    <tr>\n",
       "      <th>49</th>\n",
       "      <td>1</td>\n",
       "      <td>0</td>\n",
       "      <td>0</td>\n",
       "      <td>0</td>\n",
       "    </tr>\n",
       "    <tr>\n",
       "      <th>50</th>\n",
       "      <td>1</td>\n",
       "      <td>0</td>\n",
       "      <td>0</td>\n",
       "      <td>0</td>\n",
       "    </tr>\n",
       "  </tbody>\n",
       "</table>\n",
       "</div>"
      ],
      "text/plain": [
       "    Political_Leaning  income  education  diversity\n",
       "7                   0       0          0          0\n",
       "10                  0       0          0          0\n",
       "12                  0       0          0          1\n",
       "15                  0       0          0          1\n",
       "18                  0       0          1          0\n",
       "24                  1       0          0          1\n",
       "26                  1       0          0          1\n",
       "27                  1       0          0          0\n",
       "28                  1       0          0          1\n",
       "29                  1       0          0          1\n",
       "30                  1       0          0          0\n",
       "31                  1       0          0          0\n",
       "34                  1       0          0          0\n",
       "35                  1       0          0          1\n",
       "36                  1       0          0          1\n",
       "37                  1       0          0          0\n",
       "38                  1       0          1          0\n",
       "40                  1       0          0          1\n",
       "42                  1       0          0          0\n",
       "43                  1       0          0          1\n",
       "44                  1       0          0          1\n",
       "45                  1       0          0          0\n",
       "46                  1       0          0          0\n",
       "47                  1       0          0          1\n",
       "49                  1       0          0          0\n",
       "50                  1       0          0          0"
      ]
     },
     "execution_count": 20,
     "metadata": {},
     "output_type": "execute_result"
    }
   ],
   "source": [
    "df_income_0 = df[df['income']==0]\n",
    "df_income_0"
   ]
  },
  {
   "cell_type": "code",
   "execution_count": 21,
   "id": "c8a9d586",
   "metadata": {},
   "outputs": [
    {
     "data": {
      "text/plain": [
       "Political_Leaning     8\n",
       "income               25\n",
       "dtype: int64"
      ]
     },
     "execution_count": 21,
     "metadata": {},
     "output_type": "execute_result"
    }
   ],
   "source": [
    "# Compute the entropy after splitting (left side)\n",
    "# ===================================\n",
    "df[['Political_Leaning', 'income']][df['income']==1].sum()"
   ]
  },
  {
   "cell_type": "code",
   "execution_count": 22,
   "id": "e2d74933",
   "metadata": {},
   "outputs": [
    {
     "data": {
      "text/plain": [
       "0.9043814577244937"
      ]
     },
     "execution_count": 22,
     "metadata": {},
     "output_type": "execute_result"
    }
   ],
   "source": [
    "# The entropy on the left side\n",
    "# ============================\n",
    "entropy_left = -1* ((8/25)* np.log2(8/25) + (17/25)* np.log2(17/25))\n",
    "entropy_left"
   ]
  },
  {
   "cell_type": "code",
   "execution_count": 23,
   "id": "c40bda93",
   "metadata": {},
   "outputs": [
    {
     "name": "stdout",
     "output_type": "stream",
     "text": [
      "0.9043814577244941\n",
      "0.9043814577244939\n"
     ]
    }
   ],
   "source": [
    "# Check with the function entropy from scipy\n",
    "# ==========================================\n",
    "print(entropy([(8/51), (17/51)], base=2))\n",
    "print(entropy([(8/25), (17/25)], base=2))"
   ]
  },
  {
   "cell_type": "code",
   "execution_count": 24,
   "id": "ac2e9036",
   "metadata": {},
   "outputs": [
    {
     "data": {
      "text/plain": [
       "Political_Leaning  income\n",
       "1                  0         21\n",
       "0                  0          5\n",
       "dtype: int64"
      ]
     },
     "execution_count": 24,
     "metadata": {},
     "output_type": "execute_result"
    }
   ],
   "source": [
    "# Compute the entropy after splitting (right side)\n",
    "# ===================================\n",
    "df[['Political_Leaning', 'income']][df['income']==0].value_counts()"
   ]
  },
  {
   "cell_type": "code",
   "execution_count": 25,
   "id": "3fa5ec78",
   "metadata": {},
   "outputs": [
    {
     "data": {
      "text/plain": [
       "0.7062740891876007"
      ]
     },
     "execution_count": 25,
     "metadata": {},
     "output_type": "execute_result"
    }
   ],
   "source": [
    "# The entropy on the righ side\n",
    "# ============================\n",
    "entropy_right = -1*((21/26)* np.log2(21/26) + (5/26)* np.log2(5/26))\n",
    "entropy_right"
   ]
  },
  {
   "cell_type": "code",
   "execution_count": 26,
   "id": "f33d5155",
   "metadata": {},
   "outputs": [
    {
     "data": {
      "text/plain": [
       "0.7062740891876007"
      ]
     },
     "execution_count": 26,
     "metadata": {},
     "output_type": "execute_result"
    }
   ],
   "source": [
    "entropy([(21/51), (5/51)], base=2)"
   ]
  },
  {
   "cell_type": "markdown",
   "id": "56fe3271",
   "metadata": {},
   "source": [
    "It is tedious to do the calculation by hand, thus we write a function to do the calculations for us. we call it `cal_entropy()`"
   ]
  },
  {
   "cell_type": "code",
   "execution_count": 27,
   "id": "fcc0527b",
   "metadata": {},
   "outputs": [],
   "source": [
    "import pandas as pd\n",
    "import numpy as np\n",
    "import math\n",
    "\n",
    "\n",
    "def calc_entropy(column):\n",
    "    \"\"\"\n",
    "    Calculate entropy given a pandas series, list, or numpy array.\n",
    "    \"\"\"\n",
    "    # Compute the counts of each unique value in the column\n",
    "    counts = np.bincount(column)\n",
    "    # Divide by the total column length to get a probability\n",
    "    probabilities = counts / len(column)\n",
    "    \n",
    "    # Initialize the entropy to 0\n",
    "    entropy = 0\n",
    "    # Loop through the probabilities, and add each one to the total entropy\n",
    "    for prob in probabilities:\n",
    "        if prob > 0:\n",
    "            # use log from math and set base to 2\n",
    "            entropy += prob * math.log(prob, 2)\n",
    "    \n",
    "    return -entropy"
   ]
  },
  {
   "cell_type": "code",
   "execution_count": 28,
   "id": "09ae4f19",
   "metadata": {},
   "outputs": [
    {
     "data": {
      "text/plain": [
       "0.904381457724494"
      ]
     },
     "execution_count": 28,
     "metadata": {},
     "output_type": "execute_result"
    }
   ],
   "source": [
    "# Calcalate the entropy for the left side of after splitting on income\n",
    "# ====================================================================\n",
    "calc_entropy(df_income_1['Political_Leaning'])"
   ]
  },
  {
   "cell_type": "code",
   "execution_count": 29,
   "id": "d1f800c0",
   "metadata": {},
   "outputs": [
    {
     "data": {
      "text/plain": [
       "0.7062740891876007"
      ]
     },
     "execution_count": 29,
     "metadata": {},
     "output_type": "execute_result"
    }
   ],
   "source": [
    "calc_entropy(df_income_0['Political_Leaning'])"
   ]
  },
  {
   "cell_type": "markdown",
   "id": "99dff514",
   "metadata": {},
   "source": [
    "- The entropy has been gown down. That is good. But, which variable that can give the lowest  entropy possible. We try to split on the other variables one by one to pick the best variable to split on the root node."
   ]
  },
  {
   "cell_type": "code",
   "execution_count": 30,
   "id": "1b290471",
   "metadata": {},
   "outputs": [],
   "source": [
    "df_education_1 = df[df['education']==1]\n",
    "df_education_0 = df[df['education']==0]\n",
    "\n",
    "df_diversity_1 = df[df['diversity']==1]\n",
    "df_diversity_0 = df[df['diversity']==0]"
   ]
  },
  {
   "cell_type": "code",
   "execution_count": 31,
   "id": "26179be3",
   "metadata": {},
   "outputs": [
    {
     "name": "stdout",
     "output_type": "stream",
     "text": [
      "Education_1:  0.6840384356390417\n",
      "Education_0:  0.5787946246321198\n",
      "--------------------------------\n",
      "Diversity_1:  0.9895875212220557\n",
      "Diversity_0:  0.8904916402194913\n",
      "--------------------------------\n",
      "Income_1:  0.904381457724494\n",
      "Income_0:  0.7062740891876007\n",
      "--------------------------------\n"
     ]
    }
   ],
   "source": [
    "# Calculate the entropy for each variable\n",
    "# ======================================\n",
    "print(\"Education_1: \", calc_entropy(df_education_1['Political_Leaning']))\n",
    "print(\"Education_0: \", calc_entropy(df_education_0['Political_Leaning']))\n",
    "print(\"-\" * 32)\n",
    "print(\"Diversity_1: \",calc_entropy(df_diversity_1['Political_Leaning']))\n",
    "print(\"Diversity_0: \",calc_entropy(df_diversity_0['Political_Leaning']))\n",
    "print(\"-\" * 32)\n",
    "\n",
    "print(\"Income_1: \",calc_entropy(df_income_1['Political_Leaning']))\n",
    "print(\"Income_0: \",calc_entropy(df_income_0['Political_Leaning']))\n",
    "print(\"-\" * 32)"
   ]
  },
  {
   "cell_type": "markdown",
   "id": "d4ea5e14",
   "metadata": {},
   "source": [
    "- We see that the variable **education** is the one which lowers the entropy the most from `0.986` to `0.57` and `0,68`. Which makes it the candidate variable to start splitting the data on. In other words, it is the variable to split on the root node.\n",
    "\n",
    "- The entropy is used to compute the **information gain**, but instead, we aim to maximize this **metric**. \n",
    "\n",
    "- we write a function to compute the **information gain** to confirm that **education** is the first variable to split on. \n",
    "\n",
    "**The information gain formula**,\n",
    "\n",
    "### $$\\textbf{IG}(T, A) = \\textbf{Entropy(T)} - \\sum_{v \\in A}\\frac{|T_{v}|}{T} \\textbf{Entropy}(T_{v}) $$\n",
    "\n",
    "- In order to find the best variable to split on, you need to **maximize** the **information gain**. To maximize the information gain, the entropy must go down, because the **IG** relies on this value, so if the result is positive, you've lowered entropy with your split. Here are the steps of calculating the information gain:\n",
    "\n",
    " 1. Calculate entropy before splitting (we did and it was `0.986`)\n",
    " 2. Calculate entropy on both sides (we did that for income variable: left = `0.904`, right = `0.706`) (see the results above for other variables)\n",
    " 3. Multiply:\n",
    "     - The number of samples on the left side by the `entropy` of the left (`25/51` * `0.904` = `0.443`)\n",
    "     - The number of samples on the right side by the `entropy` of the right (`26/51` * `0.706` = `0.359`)\n",
    "     - Add the results of both sides (`0.443` + `0.359` = `0.803`)\n",
    " 4. Subtract the result from the original entropy (left: `0.986 - 0.803 = 0.182`)\n",
    " \n",
    "**What does this result mean?**,\n",
    "\n",
    " - It means we gained a `0.182` bit of information by splitting on the `income` variable.\n",
    " \n",
    "**Note**:\n",
    "\n",
    " - We shouldn't stop here, but we have to try to split on **every column** then we compare the results. The variable that **maximizes** the **information gain** would be the one to split the data on. \n",
    " \n",
    "In the next section we write a function to try splitting on each variable to see which variable is the best one to start splitting on.\n",
    " "
   ]
  },
  {
   "cell_type": "code",
   "execution_count": 32,
   "id": "339e2c06",
   "metadata": {},
   "outputs": [
    {
     "name": "stdout",
     "output_type": "stream",
     "text": [
      "The left result is: 0.44313725490196076\n",
      "The right result is: 0.35992156862745095\n",
      "The sum of both sides is:  0.8030588235294117\n",
      "The Information Gain result is:  0.18294117647058827\n"
     ]
    }
   ],
   "source": [
    "# The left side calculation\n",
    "# ------------------------\n",
    "left = (25/51) * 0.904\n",
    "\n",
    "print(\"The left result is:\", left)\n",
    "\n",
    "# The right side calculation\n",
    "# ------------------------\n",
    "right = (26/51)*  0.706\n",
    "\n",
    "print(\"The right result is:\" , right)\n",
    "\n",
    "# The sum of both sides\n",
    "# --------------------\n",
    "print(\"The sum of both sides is: \", left + right)\n",
    "\n",
    "# The information gain\n",
    "# ----------------------\n",
    "print(\"The Information Gain result is: \", 0.986 - (left + right))"
   ]
  },
  {
   "cell_type": "markdown",
   "id": "823acc33",
   "metadata": {},
   "source": [
    "## Information Gain\n",
    "\n",
    "  - Here we write a function to do the calculations for us for each variable. "
   ]
  },
  {
   "cell_type": "code",
   "execution_count": 33,
   "id": "7ae1c84a",
   "metadata": {},
   "outputs": [],
   "source": [
    "## ==============================================================\n",
    "#           Calculating the information gain\n",
    "#  ==============================================================\n",
    "\n",
    "def calc_information_gain(data, split_name, target_name):\n",
    "    \"\"\"\n",
    "    Calculate information gain given a data set, column to split on, and target\n",
    "    \"\"\"\n",
    "    # Calculate the original entropy\n",
    "    original_entropy = calc_entropy(data[target_name])\n",
    "    \n",
    "    #Find the unique values in the column\n",
    "    values = data[split_name].unique()\n",
    "    \n",
    "    \n",
    "    # Make two subsets of the data, based on the unique values\n",
    "    left_split = data[data[split_name] == values[0]]\n",
    "    right_split = data[data[split_name] == values[1]]\n",
    "    \n",
    "    # Loop through the splits and calculate the subset entropies\n",
    "    to_subtract = 0\n",
    "    for subset in [left_split, right_split]:\n",
    "        prob = (subset.shape[0] / data.shape[0]) \n",
    "        to_subtract += prob * calc_entropy(subset[target_name])\n",
    "    \n",
    "    # Return information gain\n",
    "    return original_entropy - to_subtract"
   ]
  },
  {
   "cell_type": "code",
   "execution_count": 34,
   "id": "bd092e24",
   "metadata": {},
   "outputs": [
    {
     "name": "stdout",
     "output_type": "stream",
     "text": [
      "The IG for the attribute income is 0.1830\n",
      "The IG for the attribute education is 0.3622\n",
      "The IG for the attribute diversity is 0.0473\n"
     ]
    }
   ],
   "source": [
    "# Calculate the IG for each variable using the previously written functions\n",
    "# -------------------------------------------------------------------------\n",
    "\n",
    "columns = ['income', 'education', 'diversity']\n",
    "\n",
    "for col in columns:\n",
    "    (print(\"The IG for the attribute {} is {:0.4f}\" \n",
    "          .format(col, calc_information_gain(df, col, 'Political_Leaning'))))"
   ]
  },
  {
   "cell_type": "markdown",
   "id": "4b1a30f1",
   "metadata": {},
   "source": [
    "## What is the highest maximum gain?\n",
    "\n",
    "  - We aim to maximize the iformation gain to pick the best variable. The next function we give us the answer."
   ]
  },
  {
   "cell_type": "code",
   "execution_count": 35,
   "id": "f0d83fdf",
   "metadata": {},
   "outputs": [],
   "source": [
    "columns = ['income', 'education', 'diversity']\n",
    "\n",
    "def highest_info_gain(columns):\n",
    "    \n",
    "     #Intialize an empty dictionary for information gains\n",
    "    information_gains = {}\n",
    "    \n",
    "    \n",
    "    #Iterate through each column name in our list\n",
    "    for col in columns:\n",
    "        \n",
    "        #Find the information gain for the column\n",
    "        information_gain = calc_information_gain(df, col, 'Political_Leaning')\n",
    "        \n",
    "        # If you want to print the information gain for each attribute\n",
    "        #print(information_gain)\n",
    "        \n",
    "        #Add the information gain to our dictionary using the column name as the ekey                                         \n",
    "        information_gains[col] = information_gain\n",
    "        \n",
    "        #Return the key with the highest value\n",
    "    return max(information_gains, key = information_gains.get)                                           \n",
    "                                             "
   ]
  },
  {
   "cell_type": "code",
   "execution_count": 36,
   "id": "8892f21e",
   "metadata": {},
   "outputs": [
    {
     "name": "stdout",
     "output_type": "stream",
     "text": [
      "The variable that maximizes the IG is:  education\n"
     ]
    }
   ],
   "source": [
    "# What variable maximizes the IG the most\n",
    "# ==========================================\n",
    "columns = ['income', 'education', 'diversity']\n",
    "print(\"The variable that maximizes the IG is: \", highest_info_gain(columns))"
   ]
  },
  {
   "cell_type": "markdown",
   "id": "39e07dd4",
   "metadata": {},
   "source": [
    "## Using sklearn to confirm the results  \n",
    "\n",
    "\n",
    "  - Here we will use sklearn to confirm our results."
   ]
  },
  {
   "cell_type": "code",
   "execution_count": 37,
   "id": "ca243b2d",
   "metadata": {},
   "outputs": [],
   "source": [
    "from sklearn.tree import DecisionTreeClassifier\n",
    "from sklearn.tree import export_graphviz, plot_tree\n",
    "import matplotlib.pyplot as plt\n",
    "\n",
    "X = df[['income', 'education', 'diversity']]\n",
    "y = df['Political_Leaning']"
   ]
  },
  {
   "cell_type": "code",
   "execution_count": 38,
   "id": "230421c7",
   "metadata": {},
   "outputs": [
    {
     "data": {
      "text/plain": [
       "DecisionTreeClassifier(criterion='entropy', max_depth=3, random_state=10)"
      ]
     },
     "execution_count": 38,
     "metadata": {},
     "output_type": "execute_result"
    }
   ],
   "source": [
    "dt = DecisionTreeClassifier(max_depth=3, criterion='entropy', \n",
    "                            random_state=10)\n",
    "dt.fit(X, y)"
   ]
  },
  {
   "cell_type": "code",
   "execution_count": 39,
   "id": "6a9a442e",
   "metadata": {},
   "outputs": [
    {
     "data": {
      "image/png": "[encoded data removed]",
      "text/plain": [
       "<Figure size 1152x576 with 1 Axes>"
      ]
     },
     "metadata": {
      "needs_background": "light"
     },
     "output_type": "display_data"
    }
   ],
   "source": [
    "plt.figure(figsize=(16, 8))\n",
    "_ = plot_tree(dt, filled=True,\n",
    "                   feature_names = columns,\n",
    "                   fontsize=14, \n",
    "                   proportion=True,\n",
    "                   class_names=['0','1'])"
   ]
  },
  {
   "cell_type": "markdown",
   "id": "cc512ef5",
   "metadata": {},
   "source": [
    "**Our results are confirmed** !!!👊👊👊👊👊"
   ]
  },
  {
   "cell_type": "markdown",
   "id": "54f9f035",
   "metadata": {},
   "source": [
    "references\n",
    "\n",
    "1. https://www.bogotobogo.com/python/scikit-learn/scikt_machine_learning_Decision_Tree_Learning_Informatioin_Gain_IG_Impurity_Entropy_Gini_Classification_Error.php\n",
    "\n",
    "\n",
    "2. https://towardsdatascience.com/entropy-how-decision-trees-make-decisions-2946b9c18c8\n",
    "\n",
    "\n",
    "3. https://towardsdatascience.com/entropy-and-information-gain-in-decision-trees-c7db67a3a293"
   ]
  },
  {
   "cell_type": "code",
   "execution_count": null,
   "id": "0be543c4",
   "metadata": {},
   "outputs": [],
   "source": []
  }
 ],
 "metadata": {
  "kernelspec": {
   "display_name": "Python 3 (ipykernel)",
   "language": "python",
   "name": "python3"
  },
  "language_info": {
   "codemirror_mode": {
    "name": "ipython",
    "version": 3
   },
   "file_extension": ".py",
   "mimetype": "text/x-python",
   "name": "python",
   "nbconvert_exporter": "python",
   "pygments_lexer": "ipython3",
   "version": "3.8.2"
  }
 },
 "nbformat": 4,
 "nbformat_minor": 5
}
