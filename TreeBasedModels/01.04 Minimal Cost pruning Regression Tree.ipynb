{
 "cells": [
  {
   "cell_type": "markdown",
   "id": "f5c6b15b",
   "metadata": {},
   "source": [
    "# <center><font size=7, color=\"#7B242F\"><u> Minimal Cost Complexity Pruning: Regression Trees</u> </font>"
   ]
  },
  {
   "cell_type": "markdown",
   "id": "8c954192",
   "metadata": {},
   "source": [
    "## Regression Tree Pruning Using Cost Complexity: \n",
    "\n",
    " - **Minimal Cost-Complexity Pruning**: is one of the techniques of pruning of Decision Trees and Regression Trees, it is an algorithm used to prevent **overfitting** [1](https://scikit-learn.org/stable/modules/tree.html#minimal-cost-complexity-pruning).\n",
    "\n",
    "- This algorithm is parameterized by $(\\alpha \\ge 0)$ which known as the **complexity parameter**. \n",
    "\n",
    "- **The complexity parameter** is used to define the cost-complexity measure, $R_{\\alpha}(T)$  of a given tree T as shown in the formula below:\n",
    "\n",
    "### $$\\textbf{R}_{\\alpha}\\big(T\\big) = \\textbf{R}\\big(T\\big) + \\alpha \\big |T \\big |$$\n",
    " \n",
    " \n",
    "\n",
    "**where**,\n",
    "\n",
    " - **|T|** is the number of terminal nodes in T.\n",
    " - **R(T)** is the total misclassification rate of the terminal nodes.\n",
    " \n",
    "### Post pruning decision trees with cost complexity pruning in Sklearn\n",
    "\n",
    "- **Complexity Cost Parameter alpha** in `sklearn` is called **ccp_alpha**.\n",
    "  \n",
    "- Greater values of `ccp_alpha` increase the number of nodes pruned, which leads to an increase in the total impurity of the leaves.\n",
    "\n",
    "- Choosing the best `ccp_alpha` is based on validation scores. \n",
    "\n",
    "- **sklearn** provides a tree classifier method called `cost_complexity_pruning_path()` that returns at each step of the pruning process a list of:\n",
    "    - **effective alphas** \n",
    "    - **The total leaf impurities**.\n",
    "    \n",
    "### The steps of Pruning a Tree using Complex parameter:\n",
    "\n",
    "  1. Instantiate the regressor (classifier in case of classification)\n",
    "  2. Compute the path using `cost_complexity_pruning_path()` method.\n",
    "  3. Extract the alphas space from the path\n",
    "  4. Train the regressor (classifier) and save the results.\n",
    "  5. Test the regressor (classifier) and compute the accuray\n",
    "  6. Find the best `ccp_alpha` that gives the maximum accuracy score on the test set.\n",
    "  \n",
    "**Note**,\n",
    "\n",
    "The last value in `ccp_alphas` is the alpha value that prunes the whole tree, leaving the tree, with one node. Therefore, we don't use the last value in our pruning process.\n",
    "\n",
    "**Python Syntax**,\n",
    "\n",
    "```python\n",
    "# Import the necessary tools \n",
    "from sklearn.model_selection import train_test_split\n",
    "from sklearn.metrics import mean_squared_error as MSE\n",
    "from sklearn.tree import DecisionTreeRegressor\n",
    "\n",
    "# load the data\n",
    "data = pd.read_csv('data.csv')\n",
    "\n",
    "X = data['features']\n",
    "y = data['target']\n",
    "\n",
    "# Split the data\n",
    "X_train, X_test, y_train, y_test = train_test_split(\n",
    "    X, y, \n",
    "    random_state=1)\n",
    "\n",
    "# Instantiate the regressor\n",
    "regtree = DecisionTreeRegressor(random_state=1)\n",
    "\n",
    "# find the ccp path\n",
    "path = regtree.cost_complexity_pruning_path(X_train, y_train)\n",
    "\n",
    "# Extract the ccp_alphas\n",
    "ccp_alphas = path.ccp_alphas\n",
    "\n",
    "# remove the last value\n",
    "ccp_alphas = ccp_alphas[:-1]\n",
    "\n",
    "# Train the regressor using the ccp_alphas using for loop\n",
    "# Or any other python techniques that works best.\n",
    "\n",
    "mse_train = []\n",
    "mse_test = []\n",
    "\n",
    "for alpha in ccp_alphas:\n",
    "    regtree = DecisionTreeRegressor(random_state = 1,\n",
    "                                    ccp_alpha = alpha)\n",
    "    \n",
    "    # Fit the regressor\n",
    "    regtree.fit(X_train, y_train)\n",
    "    \n",
    "    # predict on train set\n",
    "    pred_train = regtree.predict(y_train)\n",
    "    \n",
    "    # predict on test set\n",
    "    pred_test = regtree.predict(y_test)\n",
    "    \n",
    "    # append the results to mse_train\n",
    "    mse_train.append(MSE(y_train, pred_train))\n",
    "    \n",
    "    # append the results to mse_test\n",
    "    mse_test.append(MSE(y_test, pred_test))\n",
    "\n",
    "# Plot the results\n",
    "\n",
    "fig, ax = plt.subplots()\n",
    "ax.set_xlabel(\"alpha\")\n",
    "ax.set_ylabel(\"Mean Squared Error\")\n",
    "ax.set_title(\"MSE vs alpha for training and testing sets\")\n",
    "ax.plot(ccp_alphas, accuracy_train, marker=\"o\", label=\"train\")\n",
    "ax.plot(ccp_alphas, accuracy_test, marker=\"o\", label=\"test\")\n",
    "ax.legend()\n",
    "plt.show()\n",
    "\n",
    "\n",
    "# Find the best ccp_alpha\n",
    "best_ccp_alpha = ccp_alpha[np.argmin(mse_test)]\n",
    "\n",
    "# Refit the regressor using best ccp_alpha\n",
    "best_tree = DecisionTreeRegressor(random_state=1, \n",
    "                                  ccp_alpha = best_ccp_alpha)\n",
    "best_tree.fit(X_train, x_train)\n",
    "\n",
    "# predict\n",
    "\n",
    "best_pred_train = best_tree.predict(y_train)\n",
    "best_pred_test = best_tree.predict(y_test)\n",
    "\n",
    "# print the results\n",
    "print(\"The best MSE on train set is: \".format(best_pred_train))\n",
    "print(\"The best MSE on test set is: \".format(best_pred_test))\n",
    "```\n",
    "\n",
    "**That is it**."
   ]
  },
  {
   "cell_type": "markdown",
   "id": "16b4ce01",
   "metadata": {},
   "source": [
    "___"
   ]
  },
  {
   "cell_type": "code",
   "execution_count": 1,
   "id": "8bd99746",
   "metadata": {},
   "outputs": [],
   "source": [
    "##=======================================================\n",
    "#               Import the necessary tools \n",
    "##=======================================================\n",
    "import pandas as pd; import numpy as np\n",
    "import matplotlib.pyplot as plt\n",
    "from sklearn.model_selection import train_test_split\n",
    "from sklearn.metrics import mean_squared_error as MSE\n",
    "from sklearn.tree import DecisionTreeRegressor\n",
    "\n",
    "# load the data\n",
    "# ----------------\n",
    "auto= pd.read_csv('auto_mpg.csv')\n",
    "\n",
    "# preprocess the data\n",
    "# ---------------------\n",
    "auto.loc[auto['horsepower']=='?', 'horsepower'] = np.nan\n",
    "auto['horsepower'] = auto['horsepower'].astype('float')\n",
    "\n",
    "# Dropping missing data points\n",
    "# -------------------------\n",
    "auto.dropna(inplace=True)\n",
    "\n",
    "\n",
    "# Encoding the origin variable\n",
    "# ------------------------------\n",
    "auto['origin'] = auto['origin'].map({1: 'USA', 2: 'Europe', 3: 'Japan'})\n",
    "\n",
    "\n",
    "auto = pd.get_dummies(auto, columns = ['origin'], prefix = '', \n",
    "                      prefix_sep = '', drop_first=True)\n",
    "\n",
    "\n",
    "# Split the data\n",
    "# ---------------\n",
    "X = auto.drop(['mpg', 'car name'], axis=1).values\n",
    "y = auto['mpg'].values\n",
    "\n",
    "X_train, X_test, y_train, y_test = train_test_split(X, \n",
    "                                                    y,\n",
    "                                                    test_size=0.20, \n",
    "                                                    random_state=3)"
   ]
  },
  {
   "cell_type": "code",
   "execution_count": 2,
   "id": "44255995",
   "metadata": {},
   "outputs": [
    {
     "name": "stdout",
     "output_type": "stream",
     "text": [
      "The MSE on train set is: 0.000\n",
      "The MSE on test set is: 10.453\n"
     ]
    }
   ],
   "source": [
    "## ================================================================\n",
    "#        Train Unconstrained Regression Tree\n",
    "## ================================================================\n",
    "\n",
    "rt = DecisionTreeRegressor(random_state=1)\n",
    "\n",
    "rt.fit(X_train, y_train)\n",
    "\n",
    "pred_train = rt.predict(X_train)\n",
    "pred_test = rt.predict(X_test)\n",
    "\n",
    "print(\"The MSE on train set is: {:.3f}\".format(MSE(y_train, pred_train)))\n",
    "print(\"The MSE on test set is: {:.3f}\".format(MSE(y_test, pred_test)))"
   ]
  },
  {
   "cell_type": "markdown",
   "id": "dfa412e2",
   "metadata": {},
   "source": [
    "## <center><u><font size=6, color=\"#7B24AF\">Pruning the Regression Tree Using ccp_alpha</u>"
   ]
  },
  {
   "cell_type": "code",
   "execution_count": null,
   "id": "c7898883",
   "metadata": {},
   "outputs": [],
   "source": []
  },
  {
   "cell_type": "code",
   "execution_count": 3,
   "id": "8d29c311",
   "metadata": {},
   "outputs": [
    {
     "data": {
      "text/plain": [
       "array([0.00000000e+00, 1.59744409e-05, 1.59744409e-05, 2.12992545e-05,\n",
       "       2.12992545e-05, 6.38977636e-05, 6.38977636e-05, 6.38977636e-05,\n",
       "       6.38977636e-05, 8.51970181e-05])"
      ]
     },
     "execution_count": 3,
     "metadata": {},
     "output_type": "execute_result"
    }
   ],
   "source": [
    "# Instantiate the regressor without any constraints\n",
    "# -------------------------------------------------\n",
    "regtree = DecisionTreeRegressor(random_state=1)\n",
    "\n",
    "# Find the ccp path\n",
    "#-------------------\n",
    "path = regtree.cost_complexity_pruning_path(X_train, y_train)\n",
    "\n",
    "# Extract the ccp_alphas\n",
    "ccp_alphas = path.ccp_alphas\n",
    "\n",
    "# remove the last value\n",
    "ccp_alphas = ccp_alphas[:-1]\n",
    "ccp_alphas[:10]"
   ]
  },
  {
   "cell_type": "code",
   "execution_count": 4,
   "id": "fc73cf4f",
   "metadata": {},
   "outputs": [],
   "source": [
    "# Train the regressor using the ccp_alphas using for loop\n",
    "#=========================================================\n",
    "\n",
    "mse_train = []\n",
    "mse_test = []\n",
    "\n",
    "for alpha in ccp_alphas:\n",
    "    regtree = DecisionTreeRegressor(random_state = 1,\n",
    "                                    ccp_alpha = alpha)\n",
    "    \n",
    "    # Fit the regressor\n",
    "    regtree.fit(X_train, y_train)\n",
    "    \n",
    "    # predict on train set\n",
    "    pred_train = regtree.predict(X_train)\n",
    "    \n",
    "    # predict on test set\n",
    "    pred_test = regtree.predict(X_test)\n",
    "    \n",
    "    # append the results to mse_train\n",
    "    mse_train.append(MSE(y_train, pred_train))\n",
    "    \n",
    "    # append the results to mse_test\n",
    "    mse_test.append(MSE(y_test, pred_test))"
   ]
  },
  {
   "cell_type": "code",
   "execution_count": 5,
   "id": "79f135dc",
   "metadata": {},
   "outputs": [
    {
     "data": {
      "image/png": "[encoded data removed]",
      "text/plain": [
       "<Figure size 864x432 with 1 Axes>"
      ]
     },
     "metadata": {
      "needs_background": "light"
     },
     "output_type": "display_data"
    }
   ],
   "source": [
    "# Plot the results\n",
    "# -----------------\n",
    "fig, ax = plt.subplots(figsize = (12, 6))\n",
    "ax.set_xlabel(\"alpha\")\n",
    "ax.set_ylabel(\"Mean Squared Error\")\n",
    "ax.set_title(\"MSE vs alpha for training and testing sets\")\n",
    "ax.plot(ccp_alphas, mse_train, marker=\"o\", label=\"train\")\n",
    "ax.plot(ccp_alphas, mse_test, marker=\"o\", label=\"test\")\n",
    "ax.plot(ccp_alphas[np.argmin(mse_test)], min(mse_test), marker='+', markersize = 15)\n",
    "ax.set_xticks(np.arange(0, 7.4, 0.4))\n",
    "ax.annotate(\"The Best MSE test\", xy = (0.0523, 7.8654),\n",
    "             xytext=(4, 5),            \n",
    "             arrowprops={'arrowstyle': '->', \n",
    "                         'color': 'green',\n",
    "                         'linewidth': 3})\n",
    "ax.legend()\n",
    "plt.show()"
   ]
  },
  {
   "cell_type": "markdown",
   "id": "e1acca3e",
   "metadata": {},
   "source": [
    "### Zooming Out the plot"
   ]
  },
  {
   "cell_type": "code",
   "execution_count": 6,
   "id": "9bc42571",
   "metadata": {},
   "outputs": [],
   "source": [
    "# Prepare the data for zooming the plot\n",
    "# -------------------------------------\n",
    "zoom_ccp = [i for i in ccp_alphas if i<1]\n",
    "len(zoom_ccp)\n",
    "mse_train_ar = np.array(mse_train)\n",
    "mse_test_ar = np.array(mse_test)\n",
    "\n",
    "mse_train_ar = mse_train_ar[ccp_alphas<1]\n",
    "mse_test_ar = mse_test_ar[ccp_alphas<1]"
   ]
  },
  {
   "cell_type": "code",
   "execution_count": 7,
   "id": "f5c17a6a",
   "metadata": {},
   "outputs": [
    {
     "data": {
      "image/png": "[encoded data removed]",
      "text/plain": [
       "<Figure size 1008x432 with 1 Axes>"
      ]
     },
     "metadata": {
      "needs_background": "light"
     },
     "output_type": "display_data"
    }
   ],
   "source": [
    "# Plot an area where ccp_alphas values are less than one\n",
    "# This is based on the previous plot\n",
    "# =======================================================\n",
    "\n",
    "fig, ax = plt.subplots(figsize = (14, 6))\n",
    "ax.set_xlabel(\"alpha\")\n",
    "ax.set_ylabel(\"Mean Squared Error\")\n",
    "ax.set_title(\"MSE vs alpha for training and testing sets\")\n",
    "ax.plot(zoom_ccp, mse_train_ar, marker=\"o\", label=\"train\")\n",
    "ax.plot(zoom_ccp, mse_test_ar, marker=\"o\", label=\"test\")\n",
    "ax.plot(ccp_alphas[np.argmin(mse_test)], min(mse_test), marker='+', markersize = 25)\n",
    "ax.set_xticks(np.arange(0, 0.8, 0.04))\n",
    "ax.axvline(x = 0.0523, linestyle = \"dotted\", color = \"red\")\n",
    "ax.annotate(\"The Best MSE test\", xy = (0.0523, 7.8654),\n",
    "             xytext=(0.24, 2),            \n",
    "             arrowprops={'arrowstyle': '->', \n",
    "                         'color': 'green',\n",
    "                         'linewidth': 3})\n",
    "ax.legend()\n",
    "plt.show()"
   ]
  },
  {
   "cell_type": "markdown",
   "id": "496badc5",
   "metadata": {},
   "source": [
    "### Finding the Best CCP_ALPHA"
   ]
  },
  {
   "cell_type": "code",
   "execution_count": 8,
   "id": "cd512ad6",
   "metadata": {},
   "outputs": [
    {
     "name": "stdout",
     "output_type": "stream",
     "text": [
      "The index of minimum mse_test: 177\n",
      "The minimum mse_test value 7.865401312993814\n",
      "ccp_alpha value where mse_test is minimum:  0.052342917997869685\n"
     ]
    }
   ],
   "source": [
    "# Here, I explain how find the results in more detail\n",
    "# Finding the index where the mse_test is minimum\n",
    "# use np.argmin\n",
    "# -----------------------------------------------\n",
    "min_ind = np.argmin(mse_test)\n",
    "print(\"The index of minimum mse_test:\",min_ind)\n",
    "\n",
    "# Find the minimum mse_test value\n",
    "min_mse_test_val = mse_test[min_ind]\n",
    "print(\"The minimum mse_test value\", min_mse_test_val)\n",
    "\n",
    "# Find the value of ccp_alpha that results the min of mse_test\n",
    "\n",
    "ccp_alpha_val = ccp_alphas[np.argmin(mse_test)]\n",
    "print(\"ccp_alpha value where mse_test is minimum: \", ccp_alpha_val)"
   ]
  },
  {
   "cell_type": "code",
   "execution_count": 9,
   "id": "911b4b4b",
   "metadata": {},
   "outputs": [
    {
     "name": "stdout",
     "output_type": "stream",
     "text": [
      "The best mse test is: 7.865\n",
      "The best ccp alpha value: 0.0523\n"
     ]
    }
   ],
   "source": [
    "# Find the best ccp_alpha and min mse_test in less detail\n",
    "#--------------------------------------------------------\n",
    "best_ccp_alpha = ccp_alphas[np.argmin(mse_test)]\n",
    "print(\"The best mse test is: {:.3f}\".format(min(mse_test)))\n",
    "print(\"The best ccp alpha value: {:.4f}\".format(best_ccp_alpha))"
   ]
  },
  {
   "cell_type": "markdown",
   "id": "06e8c5f6",
   "metadata": {},
   "source": [
    "### Refitting the Regressor Using the Best Results"
   ]
  },
  {
   "cell_type": "code",
   "execution_count": 10,
   "id": "f52f0855",
   "metadata": {},
   "outputs": [
    {
     "name": "stdout",
     "output_type": "stream",
     "text": [
      "       The Best Results of Using ccp_alpha        \n",
      "************************************************** \n",
      "\n",
      "The best MSE on train set is: 2.04176\n",
      "The best MSE on test set is: 7.86540\n",
      "==================================================\n",
      "ccp_alpha                     0.052342917997869685\n",
      "criterion                     squared_error\n",
      "max_depth                     None\n",
      "max_features                  None\n",
      "max_leaf_nodes                None\n",
      "min_impurity_decrease         0.0\n",
      "min_samples_leaf              1\n",
      "min_samples_split             2\n",
      "min_weight_fraction_leaf      0.0\n",
      "random_state                  1\n",
      "splitter                      best\n",
      "==================================================\n",
      "The number of node counts:    89\n",
      "The number of leaves:         45\n",
      "The maximum depths:           8\n",
      "==================================================\n"
     ]
    }
   ],
   "source": [
    "# Refitting a Regreesion Tree using the found results\n",
    "# ---------------------------------------------------\n",
    "\n",
    "best_regtree = DecisionTreeRegressor(random_state=1, \n",
    "                                     ccp_alpha = best_ccp_alpha)\n",
    "best_regtree.fit(X_train, y_train)\n",
    "\n",
    "# prediction\n",
    "# ---------\n",
    "\n",
    "best_pred_train = best_regtree.predict(X_train)\n",
    "best_pred_test = best_regtree.predict(X_test)\n",
    "\n",
    "# print the results\n",
    "# ------------------\n",
    "\n",
    "print(\"The Best Results of Using ccp_alpha\".center(50))\n",
    "print(\"*\"*50, \"\\n\")\n",
    "print(\"The best MSE on train set is: {:.5f}\".format(\n",
    "    MSE(best_pred_train, y_train))\n",
    "     )\n",
    "print(\"The best MSE on test set is: {:.5f}\".format(\n",
    "    MSE(best_pred_test, y_test))\n",
    "     )\n",
    "print(\"=\"*50)\n",
    "\n",
    "# The parameters of this model \n",
    "for key, value in best_regtree.get_params().items():\n",
    "    print(\"{:30}{}\".format(key, value))\n",
    "print(\"=\"*50)\n",
    "\n",
    "# Some information about the tree\n",
    "# ---------------------------------\n",
    "print(\"The number of node counts:{:6}\".format(best_regtree.tree_.node_count))\n",
    "print(\"The number of leaves:{:11}\".format(best_regtree.tree_.n_leaves))\n",
    "print(\"The maximum depths:{:12}\".format(best_regtree.tree_.max_depth))\n",
    "print(\"=\"*50)"
   ]
  },
  {
   "cell_type": "raw",
   "id": "f2b0a4e3",
   "metadata": {},
   "source": [
    "# Code for plotting the best model\n",
    "# =================================\n",
    "from sklearn.tree import export_graphviz\n",
    "import graphviz\n",
    "\n",
    "dot_data = export_graphviz(best_regtree, \n",
    "                           out_file=None,  \n",
    "                           filled=True,    \n",
    "                           rounded=True,\n",
    "                           special_characters=True,\n",
    "                           precision=True)\n",
    "\n",
    "\n",
    "graph = graphviz.Source(dot_data)  \n",
    "graph "
   ]
  },
  {
   "cell_type": "markdown",
   "id": "2d4d0b3f",
   "metadata": {},
   "source": [
    "### References: \n",
    "\n",
    "  - Cost Complexity pruning maths: https://online.stat.psu.edu/stat508/lesson/11/11.8/11.8.2\n",
    "  \n",
    "  - sklearn `ccp_alpha`: https://scikit-learn.org/stable/auto_examples/tree/plot_cost_complexity_pruning.html#sphx-glr-auto-examples-tree-plot-cost-complexity-pruning-py\n",
    "  \n",
    "  - mlwiki `ccp_alpha`: http://mlwiki.org/index.php/Cost-Complexity_Pruning\n",
    "  \n",
    "  - [The Elements of Statistical Learning](https://hastie.su.domains/Papers/ESLII.pdf) by Friedman et. al ()"
   ]
  },
  {
   "cell_type": "code",
   "execution_count": null,
   "id": "6e8ef7fb",
   "metadata": {},
   "outputs": [],
   "source": []
  }
 ],
 "metadata": {
  "kernelspec": {
   "display_name": "Python 3 (ipykernel)",
   "language": "python",
   "name": "python3"
  },
  "language_info": {
   "codemirror_mode": {
    "name": "ipython",
    "version": 3
   },
   "file_extension": ".py",
   "mimetype": "text/x-python",
   "name": "python",
   "nbconvert_exporter": "python",
   "pygments_lexer": "ipython3",
   "version": "3.8.2"
  }
 },
 "nbformat": 4,
 "nbformat_minor": 5
}
