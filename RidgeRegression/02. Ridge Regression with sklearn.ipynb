{
 "cells": [
  {
   "cell_type": "markdown",
   "id": "a5e45866",
   "metadata": {},
   "source": [
    "# <center> Ridge Regression with sklearn"
   ]
  },
  {
   "cell_type": "markdown",
   "id": "c41fefdd",
   "metadata": {},
   "source": [
    "## Fitting Ridge Regression with sklearn module\n",
    "\n",
    "- To perform **Ridge regression** you use the `Ridge` from `sklearn.linear_model` submodule. \n",
    "\n",
    "- **Ridge Regression** options: \n",
    "    - **alpha**: the regularization strength by which each parameter will be shrunk. (Default to 1)\n",
    "    - **fit_intercept**: specify whether to fit the intercept. If both the target and features are centered, this should be set to **False**.\n",
    "    - **normalize**: to specify whether to normalize the features before regressing. (You can set either fit_intercept to True, or normalize to True but not both).\n",
    "\n",
    "The left options are left for to discover them.\n",
    "\n",
    "After fitting ridge regression, you may wish to see the estimated coefficients. The coefficients are attributes of ridge regression object and can be retrieved using `r_obj.coef_`.\n",
    "\n",
    "**Syntax**:\n",
    "```python\n",
    "\n",
    "# Import the Ridge\n",
    "from sklearn.linear_model import Ridge\n",
    "\n",
    "# Instantiate a ridge object\n",
    "r_obj = Ridge(alpha = <a number or a range>,\n",
    "          fit_intercept = True (False by default),\n",
    "          normalize = True (False by default))\n",
    "\n",
    "# Fit the ridge regression\n",
    "r_obj.fit(X, y)\n",
    "\n",
    "# Retrieve the coefficient attributes\n",
    "r_obj.coef_\n",
    "\n",
    "# Run help for more about ridge\n",
    "help(Ridge)\n",
    "#or \n",
    "?Ridge\n",
    "```"
   ]
  },
  {
   "cell_type": "markdown",
   "id": "a6b1700a",
   "metadata": {},
   "source": [
    "## Setting Up the Workspace "
   ]
  },
  {
   "cell_type": "code",
   "execution_count": 1,
   "id": "9e93b2dc",
   "metadata": {},
   "outputs": [],
   "source": [
    "import pandas as pd\n",
    "import numpy as np\n",
    "import matplotlib.pyplot as plt\n",
    "import seaborn as sns\n",
    "%matplotlib inline"
   ]
  },
  {
   "cell_type": "markdown",
   "id": "aef2c406",
   "metadata": {},
   "source": [
    "## The Working data"
   ]
  },
  {
   "cell_type": "code",
   "execution_count": 2,
   "id": "adb145ff",
   "metadata": {},
   "outputs": [],
   "source": [
    "from sklearn.datasets import load_boston\n",
    "X = load_boston().data\n",
    "y = load_boston().target"
   ]
  },
  {
   "cell_type": "markdown",
   "id": "e22efef2",
   "metadata": {},
   "source": [
    "## Importing Ridge Regression submodule"
   ]
  },
  {
   "cell_type": "code",
   "execution_count": 3,
   "id": "f9e5925a",
   "metadata": {},
   "outputs": [],
   "source": [
    "# Import Ridge regression from sklearn.linear_model\n",
    "from sklearn.linear_model import Ridge"
   ]
  },
  {
   "cell_type": "code",
   "execution_count": 4,
   "id": "06d9edae",
   "metadata": {},
   "outputs": [],
   "source": [
    "# Create Ridge Regression object with the default parameters\n",
    "r = Ridge()"
   ]
  },
  {
   "cell_type": "markdown",
   "id": "d7eb2b53",
   "metadata": {},
   "source": [
    "#### Ridge Regression Parameters\n",
    "\n",
    "It is good practice to learn about the parameters of any model you are about to use. Doing so by using `model_obj.get_params()`."
   ]
  },
  {
   "cell_type": "code",
   "execution_count": 5,
   "id": "1ad149ea",
   "metadata": {},
   "outputs": [
    {
     "data": {
      "text/plain": [
       "{'alpha': 1.0,\n",
       " 'copy_X': True,\n",
       " 'fit_intercept': True,\n",
       " 'max_iter': None,\n",
       " 'normalize': False,\n",
       " 'random_state': None,\n",
       " 'solver': 'auto',\n",
       " 'tol': 0.001}"
      ]
     },
     "execution_count": 5,
     "metadata": {},
     "output_type": "execute_result"
    }
   ],
   "source": [
    "# get the parameters of ridge regression\n",
    "r.get_params()"
   ]
  },
  {
   "cell_type": "markdown",
   "id": "14026dcb",
   "metadata": {},
   "source": [
    "#### Fiting Ridge Regression\n",
    "\n",
    "Fitting a ridge regression simply performed by calling a `fit()` function on `ridge_obj`."
   ]
  },
  {
   "cell_type": "code",
   "execution_count": 6,
   "id": "3ddc2426",
   "metadata": {},
   "outputs": [
    {
     "data": {
      "text/plain": [
       "Ridge()"
      ]
     },
     "execution_count": 6,
     "metadata": {},
     "output_type": "execute_result"
    }
   ],
   "source": [
    "## Fit the ridge regression\n",
    "r.fit(X, y)"
   ]
  },
  {
   "cell_type": "markdown",
   "id": "6a37d974",
   "metadata": {},
   "source": [
    "#### Accessing the intercept and the coefficients\n",
    "\n",
    "  - Accessing the intercept if fitted is done using the attribute `intercept_`\n",
    "  - Accessing fitted coefficients is done using the attribute `coef_`"
   ]
  },
  {
   "cell_type": "code",
   "execution_count": 7,
   "id": "5877fccb",
   "metadata": {},
   "outputs": [
    {
     "data": {
      "text/plain": [
       "31.597669818273985"
      ]
     },
     "execution_count": 7,
     "metadata": {},
     "output_type": "execute_result"
    }
   ],
   "source": [
    "## Access the intercept\n",
    "r.intercept_"
   ]
  },
  {
   "cell_type": "code",
   "execution_count": 8,
   "id": "a32c1680",
   "metadata": {},
   "outputs": [
    {
     "data": {
      "text/plain": [
       "array([-1.04595278e-01,  4.74432243e-02, -8.80467889e-03,  2.55239322e+00,\n",
       "       -1.07770146e+01,  3.85400020e+00, -5.41453810e-03, -1.37265353e+00,\n",
       "        2.90141589e-01, -1.29116463e-02, -8.76074394e-01,  9.67327945e-03,\n",
       "       -5.33343225e-01])"
      ]
     },
     "execution_count": 8,
     "metadata": {},
     "output_type": "execute_result"
    }
   ],
   "source": [
    "## Access the coefficients\n",
    "r.coef_"
   ]
  },
  {
   "cell_type": "markdown",
   "id": "fbe40429",
   "metadata": {},
   "source": [
    "### Linear Regression and Ridge Regression Comparision 01\n",
    "\n",
    "- You might want to compare the coefficients of linear and ridge regression to see the difference. Here, we are doing the comparison using the defaults of ridge regression, which is not the best way. However, we will try different ways."
   ]
  },
  {
   "cell_type": "markdown",
   "id": "57f4d926",
   "metadata": {},
   "source": [
    "#### Fitting Linear Regression"
   ]
  },
  {
   "cell_type": "code",
   "execution_count": 9,
   "id": "e1291020",
   "metadata": {},
   "outputs": [
    {
     "data": {
      "text/plain": [
       "LinearRegression()"
      ]
     },
     "execution_count": 9,
     "metadata": {},
     "output_type": "execute_result"
    }
   ],
   "source": [
    "from sklearn.linear_model import LinearRegression\n",
    "lreg = LinearRegression()\n",
    "\n",
    "lreg.fit(X, y)"
   ]
  },
  {
   "cell_type": "code",
   "execution_count": 10,
   "id": "580894ba",
   "metadata": {},
   "outputs": [
    {
     "data": {
      "text/plain": [
       "array([-1.08011358e-01,  4.64204584e-02,  2.05586264e-02,  2.68673382e+00,\n",
       "       -1.77666112e+01,  3.80986521e+00,  6.92224640e-04, -1.47556685e+00,\n",
       "        3.06049479e-01, -1.23345939e-02, -9.52747232e-01,  9.31168327e-03,\n",
       "       -5.24758378e-01])"
      ]
     },
     "execution_count": 10,
     "metadata": {},
     "output_type": "execute_result"
    }
   ],
   "source": [
    "## Linear Regression coefficients\n",
    "lreg.coef_"
   ]
  },
  {
   "cell_type": "code",
   "execution_count": 11,
   "id": "a68aefd7",
   "metadata": {},
   "outputs": [
    {
     "data": {
      "text/plain": [
       "36.459488385089855"
      ]
     },
     "execution_count": 11,
     "metadata": {},
     "output_type": "execute_result"
    }
   ],
   "source": [
    "## Linear Regression intercepabst\n",
    "lreg.intercept_"
   ]
  },
  {
   "cell_type": "code",
   "execution_count": 12,
   "id": "fcea0af1",
   "metadata": {},
   "outputs": [
    {
     "data": {
      "image/png": "[encoded data removed]",
      "text/plain": [
       "<Figure size 432x288 with 1 Axes>"
      ]
     },
     "metadata": {
      "needs_background": "light"
     },
     "output_type": "display_data"
    }
   ],
   "source": [
    "# It is better to plot the coefficient to see the difference\n",
    "plt.plot(r.coef_)\n",
    "plt.plot(lreg.coef_, c = 'red')\n",
    "plt.show()"
   ]
  },
  {
   "cell_type": "code",
   "execution_count": 13,
   "id": "270040ce",
   "metadata": {},
   "outputs": [
    {
     "name": "stdout",
     "output_type": "stream",
     "text": [
      "-10.777014648164528 -17.766611228299986\n"
     ]
    }
   ],
   "source": [
    "## See the difference between the lowest coefficient values in both regression\n",
    "print(np.min(r.coef_), np.min(lreg.coef_))"
   ]
  },
  {
   "cell_type": "markdown",
   "id": "27635198",
   "metadata": {},
   "source": [
    "Even, with $\\alpha = 0$ there is a difference between the two coefficients."
   ]
  },
  {
   "cell_type": "markdown",
   "id": "8a46c0e1",
   "metadata": {},
   "source": [
    "#### Comparing Linear and Ridge Regressions 02\n",
    "\n",
    "This time we will center the variables before fitting the ridge regression, and plot the coefficients again. "
   ]
  },
  {
   "cell_type": "code",
   "execution_count": 14,
   "id": "e49e26b9",
   "metadata": {},
   "outputs": [
    {
     "data": {
      "text/plain": [
       "Ridge(fit_intercept=False)"
      ]
     },
     "execution_count": 14,
     "metadata": {},
     "output_type": "execute_result"
    }
   ],
   "source": [
    "# Set fit_intercept to False\n",
    "r_cent = Ridge(fit_intercept=False)\n",
    "\n",
    "# Fit ridge regression\n",
    "r_cent.fit(X, y)"
   ]
  },
  {
   "cell_type": "code",
   "execution_count": 15,
   "id": "5dc99e3d",
   "metadata": {},
   "outputs": [
    {
     "data": {
      "image/png": "[encoded data removed]",
      "text/plain": [
       "<Figure size 432x288 with 1 Axes>"
      ]
     },
     "metadata": {
      "needs_background": "light"
     },
     "output_type": "display_data"
    }
   ],
   "source": [
    "## Plot the coefficients\n",
    "plt.plot(r_cent.coef_)\n",
    "plt.plot(lreg.coef_, c = 'red')\n",
    "plt.show()"
   ]
  },
  {
   "cell_type": "markdown",
   "id": "da6b96ac",
   "metadata": {},
   "source": [
    "We see from the plot that after centring the data, the largest value of ridge regression coefficient in absolute value has shrunk substantially."
   ]
  },
  {
   "cell_type": "markdown",
   "id": "c1eb2861",
   "metadata": {},
   "source": [
    "## Fitting Ridge Regression with a Range of Alpha Values\n",
    "\n",
    "- We are going to give the hyper parameter $\\alpha$ a set of values and fit ridge regression to show the effect of __regularization__.\n",
    "\n",
    "- To give a range of values to $\\alpha$, we use the `logspace` function from `numpy`. This function gives an array of evenly spaced values on log scale (base 10 by defaut).\n",
    "\n",
    "**Syntax**:\n",
    "\n",
    "```python\n",
    "# Give a range of value \n",
    "alpha_vals = np.logspace(start, stop, number)\n",
    "\n",
    "# Create an empty list\n",
    "r_coefs = []\n",
    "\n",
    "# Fit ridge regression using a for loop\n",
    "\n",
    "for alpha in alpha_vals:\n",
    "        r_reg = Ridge(alpha = alpha, fit_intercept = True)\n",
    "        r_reg.fit(X, y)\n",
    "        # append coefs to coef list\n",
    "        r_coef.append(r_reg.coef_)\n",
    "```\n",
    "After fitting a model for each $\\alpha$ value, plot the coefficients"
   ]
  },
  {
   "cell_type": "markdown",
   "id": "20ab70bd",
   "metadata": {},
   "source": [
    "### Practice Fitting Ridge Regression "
   ]
  },
  {
   "cell_type": "code",
   "execution_count": 16,
   "id": "6bea058c",
   "metadata": {},
   "outputs": [],
   "source": [
    "# Initialize alpha values and an empty list for coefficients\n",
    "alpha_space = np.logspace(-5, 3, 20)\n",
    "ridge_coefs = []"
   ]
  },
  {
   "cell_type": "code",
   "execution_count": 17,
   "id": "93e40a31",
   "metadata": {},
   "outputs": [],
   "source": [
    "for alpha in alpha_space:\n",
    "    r = Ridge(alpha = alpha, normalize=True)\n",
    "    r.fit(X, y)\n",
    "    ridge_coefs.append(r.coef_)\n",
    "    "
   ]
  },
  {
   "cell_type": "code",
   "execution_count": 18,
   "id": "c78f0a4a",
   "metadata": {},
   "outputs": [
    {
     "data": {
      "image/png": "[encoded data removed]",
      "text/plain": [
       "<Figure size 720x432 with 1 Axes>"
      ]
     },
     "metadata": {
      "needs_background": "light"
     },
     "output_type": "display_data"
    }
   ],
   "source": [
    "## Plot the coefs against alpha values\n",
    "plt.figure(figsize= (10, 6))\n",
    "ax = plt.gca()\n",
    "\n",
    "ax.plot(alpha_space, ridge_coefs)\n",
    "ax.set_xscale(\"log\")\n",
    "plt.xlabel(\"alpha\")\n",
    "plt.ylabel(\"weights\")\n",
    "\n",
    "plt.title(\"Ridge coefficients as a function of the regularization\")\n",
    "plt.axis(\"tight\")\n",
    "plt.show()"
   ]
  },
  {
   "cell_type": "markdown",
   "id": "66f6a7a1",
   "metadata": {},
   "source": [
    "As $\\alpha$ gets bigger, the coefficient shrink towards zero. "
   ]
  },
  {
   "cell_type": "markdown",
   "id": "3e69232a",
   "metadata": {},
   "source": [
    "## Ridge Regression with K-Fold Cross Validation\n",
    "\n",
    " - As a first practice of performing __ridge regression__ with cross validation,  we are going to set a range of value for $\\alpha$ and fit the ridge model for each value. Recall that `cross_val_score` function compute the $R^{2}$ for linear problems by default. Thus, we aim to see how this metric changes according to each $\\alpha$ value.\n",
    " \n",
    " - To plot the results, we difine a function below.\n",
    "\n",
    "### Performing Ridge Regression Steps\n",
    "\n",
    "To perform ridge regression, follow these steps shown in the syntax below:\n",
    "\n",
    "```python\n",
    "# 1. Import Ridge from linear sklearn.linear_model\n",
    "from sklearn.linear_model import Ridge\n",
    "\n",
    "# 2. Import cross_val_score\n",
    "from sklearn.model_selection import cross_val_score\n",
    "\n",
    "# 3. Define alpha range values, and lists to store results\n",
    "\n",
    "alpha_space = np.logspace(-5, 2, 50)\n",
    "ridge_scores = []\n",
    "ridge_scores_std = []\n",
    "\n",
    "# Perform a foor loop for computing the score over the range values of alpha\n",
    "\n",
    "for alpha in alpha_space:\n",
    "\n",
    "    # Specify the alpha value to use\n",
    "    ridge.alpha = alpha\n",
    "    \n",
    "    # Perform 10-fold CV \n",
    "    ridge_cv_scores = cross_val_score(ridge, X, y, cv = 10)\n",
    "    \n",
    "    # Append the mean of ridge_cv_scores to ridge_scores\n",
    "    ridge_scores.append(np.mean(ridge_cv_scores))\n",
    "    \n",
    "    # Append the std of ridge_cv_scores to ridge_scores_std\n",
    "    ridge_scores_std.append(np.std(ridge_cv_scores))\n",
    "```"
   ]
  },
  {
   "cell_type": "markdown",
   "id": "53bf73cb",
   "metadata": {},
   "source": [
    "### Plotting Function\n",
    "We create a function to plot the results. Here is the source code:"
   ]
  },
  {
   "cell_type": "code",
   "execution_count": 19,
   "id": "a28a8a5f",
   "metadata": {},
   "outputs": [],
   "source": [
    "def display_plot(cv_scores, cv_scores_std, k_cv, hline_func):\n",
    "    fig = plt.figure()\n",
    "    ax = fig.add_subplot(1,1,1)\n",
    "    ax.plot(alpha_space, cv_scores)\n",
    "    \n",
    "    std_error = cv_scores_std / np.sqrt(k_cv)\n",
    "    \n",
    "    ax.fill_between(alpha_space,\n",
    "                    cv_scores + std_error,\n",
    "                    cv_scores - std_error, \n",
    "                    alpha=0.15)\n",
    "    \n",
    "    ax.set_ylabel('CV Score +\\- Std Error')\n",
    "    ax.set_xlabel('Alpha')\n",
    "    \n",
    "    ax.axhline(hline_func(cv_scores), linestyle='--', color='.5')\n",
    "    ax.set_xlim([alpha_space[0], alpha_space[-1]])\n",
    "    ax.set_xscale('log')\n",
    "    plt.show()"
   ]
  },
  {
   "cell_type": "markdown",
   "id": "ed763ff4",
   "metadata": {},
   "source": [
    "### Importing the Modules"
   ]
  },
  {
   "cell_type": "code",
   "execution_count": 20,
   "id": "944c021f",
   "metadata": {},
   "outputs": [],
   "source": [
    "# Import necessary modules\n",
    "from sklearn.linear_model import Ridge\n",
    "from sklearn.model_selection import cross_val_score"
   ]
  },
  {
   "cell_type": "markdown",
   "id": "94f862b7",
   "metadata": {},
   "source": [
    "### Setting the data"
   ]
  },
  {
   "cell_type": "code",
   "execution_count": 21,
   "id": "54d3e3c5",
   "metadata": {},
   "outputs": [],
   "source": [
    "X = load_boston().data\n",
    "y = load_boston().target"
   ]
  },
  {
   "cell_type": "code",
   "execution_count": 22,
   "id": "96aa3640",
   "metadata": {},
   "outputs": [],
   "source": [
    "# Initialize an array of alphas and lists to store scores\n",
    "alpha_space = np.logspace(-5, 2, 50)\n",
    "ridge_scores = []\n",
    "ridge_scores_std = []\n",
    "\n",
    "# Create a ridge regressor: ridge\n",
    "ridge = Ridge(normalize = True)"
   ]
  },
  {
   "cell_type": "code",
   "execution_count": 23,
   "id": "ad0f2f2f",
   "metadata": {},
   "outputs": [],
   "source": [
    "# Perform a for loop\n",
    "for alpha in alpha_space:\n",
    "    ridge.alpha = alpha\n",
    "    \n",
    "    ridge_cv_scores = cross_val_score(ridge, X, y, cv = 10)\n",
    "    \n",
    "    ridge_scores.append(np.mean(ridge_cv_scores))\n",
    "\n",
    "    ridge_scores_std.append(np.std(ridge_cv_scores))"
   ]
  },
  {
   "cell_type": "code",
   "execution_count": 24,
   "id": "b1a7798a",
   "metadata": {},
   "outputs": [
    {
     "data": {
      "image/png": "[encoded data removed]",
      "text/plain": [
       "<Figure size 432x288 with 1 Axes>"
      ]
     },
     "metadata": {
      "needs_background": "light"
     },
     "output_type": "display_data"
    }
   ],
   "source": [
    "# Display the plot\n",
    "display_plot(ridge_scores, ridge_scores_std, 10, np.max)"
   ]
  },
  {
   "cell_type": "markdown",
   "id": "8bbc5db4",
   "metadata": {},
   "source": [
    "## Scoring Ridge Regression with Mean Squared Error"
   ]
  },
  {
   "cell_type": "code",
   "execution_count": 25,
   "id": "22c10f9a",
   "metadata": {},
   "outputs": [],
   "source": [
    "from sklearn.metrics import mean_squared_error, make_scorer"
   ]
  },
  {
   "cell_type": "code",
   "execution_count": 26,
   "id": "cb3ba2ed",
   "metadata": {},
   "outputs": [],
   "source": [
    "# Initialize an array of alphas and lists to store scores\n",
    "alpha_space = np.logspace(-5, 2, 50)\n",
    "ridge_scores = []\n",
    "ridge_scores_std = []\n",
    "\n",
    "# make mse scorer\n",
    "mse = make_scorer(mean_squared_error)\n",
    "\n",
    "# Create a ridge regressor: ridge\n",
    "ridge = Ridge(normalize = True)\n",
    "\n",
    "# Compute scores over range of alphas\n",
    "for alpha in alpha_space:\n",
    "\n",
    "    # Specify the alpha value to use\n",
    "    ridge.alpha = alpha\n",
    "    \n",
    "    # Perform 10-fold CV \n",
    "    ridge_cv_scores = cross_val_score(ridge, X, y, \n",
    "                                      cv = 10,\n",
    "                                     scoring = mse)\n",
    "    \n",
    "    # Append the mean of ridge_cv_scores to ridge_scores\n",
    "    ridge_scores.append(np.mean(ridge_cv_scores))\n",
    "    \n",
    "    # Append the std of ridge_cv_scores to ridge_scores_std\n",
    "    ridge_scores_std.append(np.std(ridge_cv_scores))"
   ]
  },
  {
   "cell_type": "code",
   "execution_count": 27,
   "id": "aa9c30f1",
   "metadata": {},
   "outputs": [
    {
     "data": {
      "image/png": "[encoded data removed]",
      "text/plain": [
       "<Figure size 432x288 with 1 Axes>"
      ]
     },
     "metadata": {
      "needs_background": "light"
     },
     "output_type": "display_data"
    }
   ],
   "source": [
    "# Display the plot\n",
    "display_plot(ridge_scores, ridge_scores_std, 10, np.min)"
   ]
  },
  {
   "cell_type": "markdown",
   "id": "90e87a6e",
   "metadata": {},
   "source": [
    "## Ridge Hyper Parameter Tuning with GridSearch"
   ]
  },
  {
   "cell_type": "code",
   "execution_count": 28,
   "id": "eaf16e04",
   "metadata": {},
   "outputs": [],
   "source": [
    "X = load_boston().data\n",
    "y = load_boston().target"
   ]
  },
  {
   "cell_type": "code",
   "execution_count": 29,
   "id": "98638e90",
   "metadata": {},
   "outputs": [],
   "source": [
    "# Import GridSearchCV \n",
    "from sklearn.model_selection import GridSearchCV"
   ]
  },
  {
   "cell_type": "code",
   "execution_count": 30,
   "id": "c483b14c",
   "metadata": {},
   "outputs": [],
   "source": [
    "# Setup the hyperparameter grid\n",
    "alpha_space = np.logspace(-5, 2, 25)\n",
    "param_grid = {'alpha': alpha_space}"
   ]
  },
  {
   "cell_type": "code",
   "execution_count": 31,
   "id": "8c40b370",
   "metadata": {},
   "outputs": [],
   "source": [
    "# Instantiate ridge regression \n",
    "r_reg = Ridge(fit_intercept=False)"
   ]
  },
  {
   "cell_type": "code",
   "execution_count": 32,
   "id": "c62a4144",
   "metadata": {},
   "outputs": [],
   "source": [
    "# Instantiate GridSearchCV object with 5 folds\n",
    "rreg_cv = GridSearchCV(r_reg, \n",
    "                       param_grid = param_grid, \n",
    "                       cv = 5)"
   ]
  },
  {
   "cell_type": "code",
   "execution_count": 33,
   "id": "1614cd73",
   "metadata": {},
   "outputs": [
    {
     "name": "stdout",
     "output_type": "stream",
     "text": [
      "Tuned Ridge Regression Parameter: {'alpha': 13.33521432163324}\n",
      "Ridge Regression Best score is 0.43673916915137234\n"
     ]
    }
   ],
   "source": [
    "# Fit it to the data\n",
    "rreg_cv.fit(X, y)\n",
    "\n",
    "# Print the tuned parameters and score\n",
    "print(\"Tuned Ridge Regression Parameter: {}\".format(rreg_cv.best_params_)) \n",
    "print(\"Ridge Regression Best score is {}\".format(rreg_cv.best_score_))\n"
   ]
  },
  {
   "cell_type": "markdown",
   "id": "9962a7cd",
   "metadata": {},
   "source": [
    "\n"
   ]
  },
  {
   "cell_type": "markdown",
   "id": "5c2150b8",
   "metadata": {},
   "source": [
    "## Ridge Hyper Parameter Tuning with RandomizedSearch"
   ]
  },
  {
   "cell_type": "code",
   "execution_count": 34,
   "id": "fd9f997c",
   "metadata": {},
   "outputs": [],
   "source": [
    "# Import RandomizeSearchCV \n",
    "from sklearn.model_selection import RandomizedSearchCV"
   ]
  },
  {
   "cell_type": "code",
   "execution_count": 35,
   "id": "aa8dffd1",
   "metadata": {},
   "outputs": [],
   "source": [
    "# Setup the distribution grid grid\n",
    "alpha_space = np.logspace(-5, 2, 25)\n",
    "param_dist = {'alpha': alpha_space}"
   ]
  },
  {
   "cell_type": "code",
   "execution_count": 36,
   "id": "3482baaa",
   "metadata": {},
   "outputs": [],
   "source": [
    "# Instantiate ridge regression \n",
    "rid_reg = Ridge(fit_intercept=False)"
   ]
  },
  {
   "cell_type": "code",
   "execution_count": 37,
   "id": "b455f035",
   "metadata": {},
   "outputs": [],
   "source": [
    "# Instantiate RandomizedSearchCV object with 5 folds\n",
    "rid_reg_cv = RandomizedSearchCV(rid_reg, \n",
    "                          param_distributions= param_dist, \n",
    "                          cv = 5)"
   ]
  },
  {
   "cell_type": "code",
   "execution_count": 38,
   "id": "231076aa",
   "metadata": {},
   "outputs": [
    {
     "data": {
      "text/plain": [
       "RandomizedSearchCV(cv=5, estimator=Ridge(fit_intercept=False),\n",
       "                   param_distributions={'alpha': array([1.00000000e-05, 1.95734178e-05, 3.83118685e-05, 7.49894209e-05,\n",
       "       1.46779927e-04, 2.87298483e-04, 5.62341325e-04, 1.10069417e-03,\n",
       "       2.15443469e-03, 4.21696503e-03, 8.25404185e-03, 1.61559810e-02,\n",
       "       3.16227766e-02, 6.18965819e-02, 1.21152766e-01, 2.37137371e-01,\n",
       "       4.64158883e-01, 9.08517576e-01, 1.77827941e+00, 3.48070059e+00,\n",
       "       6.81292069e+00, 1.33352143e+01, 2.61015722e+01, 5.10896977e+01,\n",
       "       1.00000000e+02])})"
      ]
     },
     "execution_count": 38,
     "metadata": {},
     "output_type": "execute_result"
    }
   ],
   "source": [
    "# Fit it to the data\n",
    "rid_reg_cv.fit(X, y)"
   ]
  },
  {
   "cell_type": "code",
   "execution_count": 39,
   "id": "aed18881",
   "metadata": {},
   "outputs": [
    {
     "name": "stdout",
     "output_type": "stream",
     "text": [
      "Tuned Ridge regression Parameter: {'alpha': 0.4641588833612782}\n",
      "Ridge regression best score is 0.4148046270558532\n"
     ]
    }
   ],
   "source": [
    "# Print the tuned parameters and score\n",
    "print(\"Tuned Ridge regression Parameter: {}\".format(rid_reg_cv.best_params_))\n",
    "print(\"Ridge regression best score is {}\".format(rid_reg_cv.best_score_))"
   ]
  },
  {
   "cell_type": "markdown",
   "id": "3ff5a840",
   "metadata": {},
   "source": [
    "## Ridge Regression with RidgeCV \n",
    "\n",
    "- `RidgeCV` implements ridge regression with built-in cross-validation of the alpha parameter. \n",
    "\n",
    "- `RidgeCV` has the same method as **grid search CV** but it applies a **Leave-One-Out Cross-Validation** technique. \n",
    "\n",
    "**Syntax**:\n",
    "```python\n",
    "# Import RidgeCV\n",
    "from sklearn.linear_model import ridgeCV\n",
    "```"
   ]
  },
  {
   "cell_type": "code",
   "execution_count": 40,
   "id": "52b2887b",
   "metadata": {},
   "outputs": [],
   "source": [
    "# Import RidgeCV\n",
    "from sklearn.linear_model import RidgeCV"
   ]
  },
  {
   "cell_type": "code",
   "execution_count": 41,
   "id": "c52f66b6",
   "metadata": {},
   "outputs": [],
   "source": [
    "X = load_boston().data\n",
    "y = load_boston().target"
   ]
  },
  {
   "cell_type": "code",
   "execution_count": 42,
   "id": "99179e86",
   "metadata": {},
   "outputs": [],
   "source": [
    "alpha_space = np.logspace(-5, 2, 25)"
   ]
  },
  {
   "cell_type": "code",
   "execution_count": 43,
   "id": "88d6d155",
   "metadata": {},
   "outputs": [],
   "source": [
    "r_reg_loocv = RidgeCV(alphas = alpha_space, fit_intercept=False)"
   ]
  },
  {
   "cell_type": "code",
   "execution_count": 44,
   "id": "ac06d47c",
   "metadata": {},
   "outputs": [
    {
     "data": {
      "text/plain": [
       "RidgeCV(alphas=array([1.00000000e-05, 1.95734178e-05, 3.83118685e-05, 7.49894209e-05,\n",
       "       1.46779927e-04, 2.87298483e-04, 5.62341325e-04, 1.10069417e-03,\n",
       "       2.15443469e-03, 4.21696503e-03, 8.25404185e-03, 1.61559810e-02,\n",
       "       3.16227766e-02, 6.18965819e-02, 1.21152766e-01, 2.37137371e-01,\n",
       "       4.64158883e-01, 9.08517576e-01, 1.77827941e+00, 3.48070059e+00,\n",
       "       6.81292069e+00, 1.33352143e+01, 2.61015722e+01, 5.10896977e+01,\n",
       "       1.00000000e+02]),\n",
       "        fit_intercept=False)"
      ]
     },
     "execution_count": 44,
     "metadata": {},
     "output_type": "execute_result"
    }
   ],
   "source": [
    "r_reg_loocv.fit(X, y)"
   ]
  },
  {
   "cell_type": "code",
   "execution_count": 45,
   "id": "b23fdfa8",
   "metadata": {},
   "outputs": [
    {
     "data": {
      "text/plain": [
       "-25.952637828855917"
      ]
     },
     "execution_count": 45,
     "metadata": {},
     "output_type": "execute_result"
    }
   ],
   "source": [
    "r_reg_loocv.best_score_"
   ]
  },
  {
   "cell_type": "code",
   "execution_count": 46,
   "id": "3e5add4a",
   "metadata": {},
   "outputs": [
    {
     "data": {
      "text/plain": [
       "6.812920690579622"
      ]
     },
     "execution_count": 46,
     "metadata": {},
     "output_type": "execute_result"
    }
   ],
   "source": [
    "r_reg_loocv.alpha_"
   ]
  },
  {
   "cell_type": "markdown",
   "id": "0adad140",
   "metadata": {},
   "source": [
    "### Cross Validation with RidgeCV\n",
    "\n",
    " - We can perform K-fold cross validation using `RidgeCV` by setting `cv` to a number of folds `k`.  "
   ]
  },
  {
   "cell_type": "code",
   "execution_count": 47,
   "id": "d62d6cc6",
   "metadata": {},
   "outputs": [],
   "source": [
    "# Fit 5-fold cross validation using RidgeCV\n",
    "r_reg_cv = RidgeCV(alphas = alpha_space,\n",
    "                   fit_intercept=False,\n",
    "                  cv = 5)"
   ]
  },
  {
   "cell_type": "code",
   "execution_count": 48,
   "id": "c7fce3f0",
   "metadata": {},
   "outputs": [
    {
     "data": {
      "text/plain": [
       "RidgeCV(alphas=array([1.00000000e-05, 1.95734178e-05, 3.83118685e-05, 7.49894209e-05,\n",
       "       1.46779927e-04, 2.87298483e-04, 5.62341325e-04, 1.10069417e-03,\n",
       "       2.15443469e-03, 4.21696503e-03, 8.25404185e-03, 1.61559810e-02,\n",
       "       3.16227766e-02, 6.18965819e-02, 1.21152766e-01, 2.37137371e-01,\n",
       "       4.64158883e-01, 9.08517576e-01, 1.77827941e+00, 3.48070059e+00,\n",
       "       6.81292069e+00, 1.33352143e+01, 2.61015722e+01, 5.10896977e+01,\n",
       "       1.00000000e+02]),\n",
       "        cv=5, fit_intercept=False)"
      ]
     },
     "execution_count": 48,
     "metadata": {},
     "output_type": "execute_result"
    }
   ],
   "source": [
    "r_reg_cv.fit(X, y)"
   ]
  },
  {
   "cell_type": "code",
   "execution_count": 49,
   "id": "96c493d5",
   "metadata": {},
   "outputs": [
    {
     "name": "stdout",
     "output_type": "stream",
     "text": [
      "Tuned Ridge regression Parameter alpha is: 13.3352\n",
      "Ridge regression best score is: 0.4367\n"
     ]
    }
   ],
   "source": [
    "# Print the tuned parameter and score\n",
    "print(\"Tuned Ridge regression Parameter alpha is: {:.4f}\".format(r_reg_cv.alpha_))\n",
    "print(\"Ridge regression best score is: {:.4f}\".format(r_reg_cv.best_score_))"
   ]
  },
  {
   "cell_type": "markdown",
   "id": "abe936a6",
   "metadata": {},
   "source": [
    "# Final Evaluation with Hold out Set\n",
    "\n",
    "## Ridge Regression with Cross Validation and Train/Test Splitting \n",
    "\n",
    "  - **Hold-out** set evaluation means doing a final assessment on a set of values the model has never seen before. \n",
    "  \n",
    "You might have asked yourself, even with cross validation. The answer is **Yes**.\n",
    "\n",
    "If you enough data, and you want to write your final report, you may have to test your model on this **hold out set**, because the score of your model on this set is exactly how it behave in the real world. \n",
    "\n",
    "Another reason why you want to keep a **subset of data** is to give an accurate picture of your model. Suppose you have used all your data for cross validation, then you don't have the possibility to test how your model will behave on __unseen data__. \n",
    "\n",
    "### Perfoming Final Evaluation: \n",
    "\n",
    "We have already seen how to split the data, so we split the data into train an test sets, fit the model on train set then evaluate it on the test set\n",
    "  "
   ]
  },
  {
   "cell_type": "code",
   "execution_count": 50,
   "id": "3cfca5fa",
   "metadata": {},
   "outputs": [],
   "source": [
    "# Import train_test_split\n",
    "from sklearn.model_selection import train_test_split"
   ]
  },
  {
   "cell_type": "code",
   "execution_count": 51,
   "id": "f01f4923",
   "metadata": {},
   "outputs": [],
   "source": [
    "X = load_boston().data\n",
    "y = load_boston().target"
   ]
  },
  {
   "cell_type": "code",
   "execution_count": 52,
   "id": "76567d58",
   "metadata": {},
   "outputs": [],
   "source": [
    "# Split the data\n",
    "X_train, X_test, y_train, y_test =\\\n",
    "                train_test_split(X, y, \n",
    "                    test_size=0.20, \n",
    "                        random_state=10123)"
   ]
  },
  {
   "cell_type": "code",
   "execution_count": 53,
   "id": "d61cd14d",
   "metadata": {},
   "outputs": [],
   "source": [
    "## Fitting Ridge Regression\n",
    "\n",
    "alpha_space = np.logspace(-5, 2, 25)\n",
    "param_grid = {'alpha': alpha_space}\n",
    "\n",
    "# Create Regression object\n",
    "ridge_final = Ridge(fit_intercept=False)\n",
    "\n",
    "# Tune to find the best parameter\n",
    "ridge_final_cv = GridSearchCV(ridge_final, \n",
    "                          param_grid = param_grid, \n",
    "                          cv = 5, \n",
    "                          refit = True)"
   ]
  },
  {
   "cell_type": "code",
   "execution_count": 54,
   "id": "0b66f69c",
   "metadata": {},
   "outputs": [
    {
     "data": {
      "text/plain": [
       "GridSearchCV(cv=5, estimator=Ridge(fit_intercept=False),\n",
       "             param_grid={'alpha': array([1.00000000e-05, 1.95734178e-05, 3.83118685e-05, 7.49894209e-05,\n",
       "       1.46779927e-04, 2.87298483e-04, 5.62341325e-04, 1.10069417e-03,\n",
       "       2.15443469e-03, 4.21696503e-03, 8.25404185e-03, 1.61559810e-02,\n",
       "       3.16227766e-02, 6.18965819e-02, 1.21152766e-01, 2.37137371e-01,\n",
       "       4.64158883e-01, 9.08517576e-01, 1.77827941e+00, 3.48070059e+00,\n",
       "       6.81292069e+00, 1.33352143e+01, 2.61015722e+01, 5.10896977e+01,\n",
       "       1.00000000e+02])})"
      ]
     },
     "execution_count": 54,
     "metadata": {},
     "output_type": "execute_result"
    }
   ],
   "source": [
    "# Fit the model on the train set\n",
    "ridge_final_cv.fit(X_train, y_train)"
   ]
  },
  {
   "cell_type": "code",
   "execution_count": 55,
   "id": "80466eae",
   "metadata": {},
   "outputs": [],
   "source": [
    "# Make Predictions\n",
    "preds = ridge_final_cv.predict(X_test)"
   ]
  },
  {
   "cell_type": "code",
   "execution_count": 56,
   "id": "d1ac9641",
   "metadata": {},
   "outputs": [
    {
     "name": "stdout",
     "output_type": "stream",
     "text": [
      "The R^2 of the ridge regression is: 0.7758\n"
     ]
    }
   ],
   "source": [
    "# Score the results\n",
    "print(\"The R^2 of the ridge regression is: {:0.4f}\".\\\n",
    "      format(ridge_final_cv.score(X_test, y_test)))"
   ]
  },
  {
   "cell_type": "code",
   "execution_count": 57,
   "id": "9dd5548b",
   "metadata": {},
   "outputs": [
    {
     "name": "stdout",
     "output_type": "stream",
     "text": [
      "The RMSE is: 4.3806\n"
     ]
    }
   ],
   "source": [
    "# Score the model with RMSE \n",
    "print(\"The RMSE is: {:.4f}\".format(np.sqrt(mean_squared_error(preds, y_test))))"
   ]
  },
  {
   "cell_type": "markdown",
   "id": "3f04d336",
   "metadata": {},
   "source": [
    "## Best of Luck Learning"
   ]
  }
 ],
 "metadata": {
  "kernelspec": {
   "display_name": "Python 3",
   "language": "python",
   "name": "python3"
  },
  "language_info": {
   "codemirror_mode": {
    "name": "ipython",
    "version": 3
   },
   "file_extension": ".py",
   "mimetype": "text/x-python",
   "name": "python",
   "nbconvert_exporter": "python",
   "pygments_lexer": "ipython3",
   "version": "3.8.2"
  }
 },
 "nbformat": 4,
 "nbformat_minor": 5
}
