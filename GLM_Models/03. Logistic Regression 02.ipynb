{
 "cells": [
  {
   "cell_type": "markdown",
   "id": "93c3c834",
   "metadata": {},
   "source": [
    "# <center> <u><font size = 24, color=\"#7B241C\"> Logistic Regression 02 </u> "
   ]
  },
  {
   "cell_type": "code",
   "execution_count": 1,
   "id": "016fe0f7",
   "metadata": {},
   "outputs": [],
   "source": [
    "##=================================================================\n",
    "##              Importing Necessary Modules\n",
    "##=================================================================\n",
    "\n",
    "import pandas as pd; import numpy as np\n",
    "import matplotlib.pyplot as plt\n",
    "import seaborn as sns\n",
    "\n",
    "import statsmodels.api as sm\n",
    "from statsmodels.formula.api import glm\n",
    "\n",
    "%matplotlib inline"
   ]
  },
  {
   "cell_type": "code",
   "execution_count": 2,
   "id": "2614a04a",
   "metadata": {},
   "outputs": [
    {
     "data": {
      "text/html": [
       "<div>\n",
       "<style scoped>\n",
       "    .dataframe tbody tr th:only-of-type {\n",
       "        vertical-align: middle;\n",
       "    }\n",
       "\n",
       "    .dataframe tbody tr th {\n",
       "        vertical-align: top;\n",
       "    }\n",
       "\n",
       "    .dataframe thead th {\n",
       "        text-align: right;\n",
       "    }\n",
       "</style>\n",
       "<table border=\"1\" class=\"dataframe\">\n",
       "  <thead>\n",
       "    <tr style=\"text-align: right;\">\n",
       "      <th></th>\n",
       "      <th>has_churned</th>\n",
       "      <th>time_since_first_purchase</th>\n",
       "      <th>time_since_last_purchase</th>\n",
       "    </tr>\n",
       "  </thead>\n",
       "  <tbody>\n",
       "    <tr>\n",
       "      <th>0</th>\n",
       "      <td>0</td>\n",
       "      <td>-1.089221</td>\n",
       "      <td>-0.721322</td>\n",
       "    </tr>\n",
       "    <tr>\n",
       "      <th>1</th>\n",
       "      <td>0</td>\n",
       "      <td>1.182983</td>\n",
       "      <td>3.634435</td>\n",
       "    </tr>\n",
       "    <tr>\n",
       "      <th>2</th>\n",
       "      <td>0</td>\n",
       "      <td>-0.846156</td>\n",
       "      <td>-0.427582</td>\n",
       "    </tr>\n",
       "    <tr>\n",
       "      <th>3</th>\n",
       "      <td>0</td>\n",
       "      <td>0.086942</td>\n",
       "      <td>-0.535672</td>\n",
       "    </tr>\n",
       "    <tr>\n",
       "      <th>4</th>\n",
       "      <td>0</td>\n",
       "      <td>-1.166642</td>\n",
       "      <td>-0.672640</td>\n",
       "    </tr>\n",
       "  </tbody>\n",
       "</table>\n",
       "</div>"
      ],
      "text/plain": [
       "   has_churned  time_since_first_purchase  time_since_last_purchase\n",
       "0            0                  -1.089221                 -0.721322\n",
       "1            0                   1.182983                  3.634435\n",
       "2            0                  -0.846156                 -0.427582\n",
       "3            0                   0.086942                 -0.535672\n",
       "4            0                  -1.166642                 -0.672640"
      ]
     },
     "execution_count": 2,
     "metadata": {},
     "output_type": "execute_result"
    }
   ],
   "source": [
    "##=================================================================\n",
    "##             Reading the data\n",
    "##=================================================================\n",
    "\n",
    "churn = pd.read_csv('churn.csv')\n",
    "churn.head()"
   ]
  },
  {
   "cell_type": "code",
   "execution_count": 3,
   "id": "6eef2f11",
   "metadata": {},
   "outputs": [
    {
     "name": "stdout",
     "output_type": "stream",
     "text": [
      "================================================================================\n",
      "                 The Length Relationship Logistic Model Results                 \n",
      "================================================================================\n",
      "\n",
      "                 Generalized Linear Model Regression Results                  \n",
      "==============================================================================\n",
      "Dep. Variable:            has_churned   No. Observations:                  400\n",
      "Model:                            GLM   Df Residuals:                      398\n",
      "Model Family:                Binomial   Df Model:                            1\n",
      "Link Function:                  Logit   Scale:                          1.0000\n",
      "Method:                          IRLS   Log-Likelihood:                -271.87\n",
      "Date:                Fri, 31 Dec 2021   Deviance:                       543.73\n",
      "Time:                        21:15:10   Pearson chi2:                     400.\n",
      "No. Iterations:                     4   Pseudo R-squ. (CS):            0.02661\n",
      "Covariance Type:            nonrobust                                         \n",
      "=============================================================================================\n",
      "                                coef    std err          z      P>|z|      [0.025      0.975]\n",
      "---------------------------------------------------------------------------------------------\n",
      "Intercept                    -0.0152      0.102     -0.150      0.881      -0.214       0.184\n",
      "time_since_first_purchase    -0.3548      0.111     -3.198      0.001      -0.572      -0.137\n",
      "=============================================================================================\n",
      "\n",
      "\n",
      "\n",
      "================================================================================\n",
      "                The Recency Relationship Logistic Model Results                 \n",
      "================================================================================\n",
      "\n",
      "                 Generalized Linear Model Regression Results                  \n",
      "==============================================================================\n",
      "Dep. Variable:            has_churned   No. Observations:                  400\n",
      "Model:                            GLM   Df Residuals:                      398\n",
      "Model Family:                Binomial   Df Model:                            1\n",
      "Link Function:                  Logit   Scale:                          1.0000\n",
      "Method:                          IRLS   Log-Likelihood:                -273.20\n",
      "Date:                Fri, 31 Dec 2021   Deviance:                       546.40\n",
      "Time:                        21:15:10   Pearson chi2:                     401.\n",
      "No. Iterations:                     4   Pseudo R-squ. (CS):            0.02009\n",
      "Covariance Type:            nonrobust                                         \n",
      "============================================================================================\n",
      "                               coef    std err          z      P>|z|      [0.025      0.975]\n",
      "--------------------------------------------------------------------------------------------\n",
      "Intercept                   -0.0350      0.102     -0.345      0.730      -0.234       0.164\n",
      "time_since_last_purchase     0.2692      0.098      2.744      0.006       0.077       0.462\n",
      "============================================================================================\n"
     ]
    }
   ],
   "source": [
    "##=================================================================\n",
    "##      Building length of relationship logistic model\n",
    "##=================================================================\n",
    "\n",
    "len_relationship_mdl = glm(\"has_churned ~ time_since_first_purchase\", data = churn,\n",
    "                       family = sm.families.Binomial()).fit()\n",
    "print(\"=\"*80)\n",
    "print(\"The Length Relationship Logistic Model Results\".center(80))\n",
    "print(\"=\"*80, end=\"\\n\\n\")\n",
    "print(len_relationship_mdl.summary())\n",
    "print(end=\"\\n\\n\\n\")\n",
    "##=================================================================\n",
    "##      Building length of recency logistic model\n",
    "##=================================================================\n",
    "recency_model = glm(\"has_churned ~ time_since_last_purchase\", \n",
    "                   data = churn,\n",
    "                   family = sm.families.Binomial()).fit()\n",
    "\n",
    "print(\"=\"*80)\n",
    "print(\"The Recency Relationship Logistic Model Results\".center(80))\n",
    "print(\"=\"*80, end=\"\\n\\n\")\n",
    "print(recency_model.summary())"
   ]
  },
  {
   "cell_type": "markdown",
   "id": "0e4b1d6d",
   "metadata": {},
   "source": [
    "# Prediction with Logistic Regression\n",
    "\n",
    "  - Making prediction with a logistic model is the same as  prediction for linear models. We follow the next steps:\n",
    "  - Create a DataFrame of new explanatory variable values. \n",
    "  - Calculat the response values using the `predict()` method.\n",
    "  - Use `assign()` method to combine new explanatory variable data with the predicted values\n",
    "  \n",
    "**Here is the syntax**:\n",
    "\n",
    "```python\n",
    "## Create the new data\n",
    "new_exp_data = pd.DataFrame({\"explanatory-var-name\": [array of values]})\n",
    "\n",
    "## Create the predicted data\n",
    "pred_data = new_exp_data.assign(\n",
    "    response_var = fitted_model.predict(new_exp_data))\n",
    "```\n",
    "\n",
    "\n",
    "\n",
    "\n",
    "\n",
    "\n",
    "12. All predictions together\n",
    "Here are all the values calculated in the prediction dataset. Some column names are abbreviated for better printing.\n",
    "\n",
    "13. Comparing scales\n",
    "Each way of describing responses has different benefits. Most likely outcome is easiest to understand because the answer is always yes or no, but this lacks precision. Probabilities and odds ratios are still fairly easy to understand for a data literate audience. However, the non-linear predictions make it hard to reason about how changes in the explanatory variable will change the response. Log odds ratio is difficult to interpret for individual values, but the linear relationship with the explanatory variables makes it easy to reason about changes."
   ]
  },
  {
   "cell_type": "code",
   "execution_count": 4,
   "id": "0af2f5a9",
   "metadata": {},
   "outputs": [
    {
     "data": {
      "text/html": [
       "<div>\n",
       "<style scoped>\n",
       "    .dataframe tbody tr th:only-of-type {\n",
       "        vertical-align: middle;\n",
       "    }\n",
       "\n",
       "    .dataframe tbody tr th {\n",
       "        vertical-align: top;\n",
       "    }\n",
       "\n",
       "    .dataframe thead th {\n",
       "        text-align: right;\n",
       "    }\n",
       "</style>\n",
       "<table border=\"1\" class=\"dataframe\">\n",
       "  <thead>\n",
       "    <tr style=\"text-align: right;\">\n",
       "      <th></th>\n",
       "      <th>time_since_last_purchase</th>\n",
       "      <th>has_churned</th>\n",
       "    </tr>\n",
       "  </thead>\n",
       "  <tbody>\n",
       "    <tr>\n",
       "      <th>0</th>\n",
       "      <td>-1.00</td>\n",
       "      <td>0.424523</td>\n",
       "    </tr>\n",
       "    <tr>\n",
       "      <th>1</th>\n",
       "      <td>-0.75</td>\n",
       "      <td>0.441043</td>\n",
       "    </tr>\n",
       "    <tr>\n",
       "      <th>2</th>\n",
       "      <td>-0.50</td>\n",
       "      <td>0.457695</td>\n",
       "    </tr>\n",
       "    <tr>\n",
       "      <th>3</th>\n",
       "      <td>-0.25</td>\n",
       "      <td>0.474441</td>\n",
       "    </tr>\n",
       "    <tr>\n",
       "      <th>4</th>\n",
       "      <td>0.00</td>\n",
       "      <td>0.491246</td>\n",
       "    </tr>\n",
       "  </tbody>\n",
       "</table>\n",
       "</div>"
      ],
      "text/plain": [
       "   time_since_last_purchase  has_churned\n",
       "0                     -1.00     0.424523\n",
       "1                     -0.75     0.441043\n",
       "2                     -0.50     0.457695\n",
       "3                     -0.25     0.474441\n",
       "4                      0.00     0.491246"
      ]
     },
     "execution_count": 4,
     "metadata": {},
     "output_type": "execute_result"
    }
   ],
   "source": [
    "##=================================================================\n",
    "##            Create Predicted data\n",
    "##=================================================================\n",
    "\n",
    "new_explanatory_data = pd.DataFrame(\n",
    "    {\"time_since_last_purchase\": np.arange(-1, 6.50, 0.25)})\n",
    "\n",
    "# Create predicted data\n",
    "predicted_data = new_explanatory_data.assign(\n",
    "    has_churned = recency_model.predict(new_explanatory_data))\n",
    "\n",
    "## Print the head of data\n",
    "predicted_data.head()"
   ]
  },
  {
   "cell_type": "markdown",
   "id": "0dfe9887",
   "metadata": {},
   "source": [
    "## Visualizing Predicted Data\n",
    "\n",
    "- we can add prediction data points on top of the plot of the original data to get a clear view of our predictions.  \n",
    "\n",
    "- In order to achieve this, we use:\n",
    "    - `sns.regplot()` with logistic set to True\n",
    "    - `sns.scatterplot()` to plot the predicted data points"
   ]
  },
  {
   "cell_type": "code",
   "execution_count": 5,
   "id": "d532bf14",
   "metadata": {},
   "outputs": [
    {
     "data": {
      "image/png": "[encoded data removed]",
      "text/plain": [
       "<Figure size 720x432 with 1 Axes>"
      ]
     },
     "metadata": {
      "needs_background": "light"
     },
     "output_type": "display_data"
    }
   ],
   "source": [
    "##=================================================================\n",
    "##            Visualize the Predicted data\n",
    "##=================================================================\n",
    "plt.rcParams['axes.facecolor']= \"#FFF8DC\"\n",
    "plt.rcParams['figure.figsize'] = (10, 6)\n",
    "sns.regplot(x=\"time_since_last_purchase\",\n",
    "            y=\"has_churned\",\n",
    "            data= churn, \n",
    "            logistic=True,\n",
    "           ci = None,\n",
    "           line_kws={\"color\": \"blue\"})\n",
    "\n",
    "sns.scatterplot(x=\"time_since_last_purchase\",\n",
    "            y=\"has_churned\",\n",
    "            data= predicted_data, \n",
    "            ci = None,\n",
    "            color = \"red\")\n",
    "\n",
    "\n",
    "plt.show()"
   ]
  },
  {
   "cell_type": "markdown",
   "id": "aa83ab97",
   "metadata": {},
   "source": [
    "## Classifying the Outcome Based on a Cutoff\n",
    "\n",
    "- The main reason of logistic regression to classify cases. The simplest method we can do is:\n",
    "    - Set a **cutoff**, a **50%** for example (because our model generates probabilities)\n",
    "    - Round the probabilities using `np.round()` function.\n",
    "    - If the probability is greater than the **cutoff** we predict **1**\n",
    "    - If the probability is less than the **cutoff** we predict **0**\n",
    "\n",
    "- In our example: \n",
    "  - If the probability of churning is less than 0.5, we predict no-churn.\n",
    "  - If probability is greater then 0.5, we predict churn.\n",
    "\n",
    "## Visualizing Data Based on Cutoff\n",
    "\n",
    "  - Plotting your results gives a clear picture to you. "
   ]
  },
  {
   "cell_type": "code",
   "execution_count": 6,
   "id": "4b9e0fb7",
   "metadata": {},
   "outputs": [
    {
     "data": {
      "text/html": [
       "<div>\n",
       "<style scoped>\n",
       "    .dataframe tbody tr th:only-of-type {\n",
       "        vertical-align: middle;\n",
       "    }\n",
       "\n",
       "    .dataframe tbody tr th {\n",
       "        vertical-align: top;\n",
       "    }\n",
       "\n",
       "    .dataframe thead th {\n",
       "        text-align: right;\n",
       "    }\n",
       "</style>\n",
       "<table border=\"1\" class=\"dataframe\">\n",
       "  <thead>\n",
       "    <tr style=\"text-align: right;\">\n",
       "      <th></th>\n",
       "      <th>time_since_last_purchase</th>\n",
       "      <th>has_churned</th>\n",
       "      <th>most_likely_outcome</th>\n",
       "    </tr>\n",
       "  </thead>\n",
       "  <tbody>\n",
       "    <tr>\n",
       "      <th>0</th>\n",
       "      <td>-1.00</td>\n",
       "      <td>0.424523</td>\n",
       "      <td>0.0</td>\n",
       "    </tr>\n",
       "    <tr>\n",
       "      <th>1</th>\n",
       "      <td>-0.75</td>\n",
       "      <td>0.441043</td>\n",
       "      <td>0.0</td>\n",
       "    </tr>\n",
       "    <tr>\n",
       "      <th>2</th>\n",
       "      <td>-0.50</td>\n",
       "      <td>0.457695</td>\n",
       "      <td>0.0</td>\n",
       "    </tr>\n",
       "    <tr>\n",
       "      <th>3</th>\n",
       "      <td>-0.25</td>\n",
       "      <td>0.474441</td>\n",
       "      <td>0.0</td>\n",
       "    </tr>\n",
       "    <tr>\n",
       "      <th>4</th>\n",
       "      <td>0.00</td>\n",
       "      <td>0.491246</td>\n",
       "      <td>0.0</td>\n",
       "    </tr>\n",
       "  </tbody>\n",
       "</table>\n",
       "</div>"
      ],
      "text/plain": [
       "   time_since_last_purchase  has_churned  most_likely_outcome\n",
       "0                     -1.00     0.424523                  0.0\n",
       "1                     -0.75     0.441043                  0.0\n",
       "2                     -0.50     0.457695                  0.0\n",
       "3                     -0.25     0.474441                  0.0\n",
       "4                      0.00     0.491246                  0.0"
      ]
     },
     "execution_count": 6,
     "metadata": {},
     "output_type": "execute_result"
    }
   ],
   "source": [
    "## Calculate the most like outcome\n",
    "## -------------------------------\n",
    "\n",
    "predicted_data[\"most_likely_outcome\"] = np.round(predicted_data['has_churned'])\n",
    "\n",
    "# Print the head of predicted_data\n",
    "predicted_data.head()"
   ]
  },
  {
   "cell_type": "code",
   "execution_count": 15,
   "id": "259d5fb7",
   "metadata": {},
   "outputs": [
    {
     "data": {
      "image/png": "[encoded data removed]",
      "text/plain": [
       "<Figure size 720x432 with 1 Axes>"
      ]
     },
     "metadata": {
      "needs_background": "light"
     },
     "output_type": "display_data"
    }
   ],
   "source": [
    "## Visualize the classified Outcome\n",
    "## ---------------------------------\n",
    "\n",
    "plt.rcParams['axes.facecolor']= \"#FFF8DC\"\n",
    "plt.rcParams['figure.figsize'] = (10, 6)\n",
    "sns.regplot(x=\"time_since_last_purchase\",\n",
    "            y=\"has_churned\",\n",
    "            data= churn, \n",
    "            logistic=True,\n",
    "            ci = None,\n",
    "            line_kws={\"color\": \"blue\"})\n",
    " \n",
    "sns.scatterplot(x=\"time_since_last_purchase\",\n",
    "            y=\"most_likely_outcome\",\n",
    "            data= predicted_data, \n",
    "            color = \"red\")\n",
    "plt.axvline(x = 0.1, linestyle = 'dashed', color = \"green\")\n",
    "\n",
    "plt.show()"
   ]
  },
  {
   "cell_type": "markdown",
   "id": "9690a9a5",
   "metadata": {},
   "source": [
    "## Odds Ratio\n",
    "\n",
    "### Calculating odds ratio\n",
    "\n",
    "- Recall that the odds ratio  is the probability that something happens, divided by the probability that it doesn't.\n",
    "\n",
    "or \n",
    "$$odds\\_ratio = \\frac{P(x)}{1- P(x)}$$\n",
    "\n",
    "- Recall as well: \n",
    "  - The baseline of odds_ratio is 1.\n",
    "  - If odds ratio is less than 1, then the event won't happen\n",
    "  - If odds ratio is greater than 1, the event does happen.\n",
    "  \n",
    "### Visualizing The Odds Ratio\n",
    "\n",
    "- Plotting the odds ratio against the explanatory variable and check against the baseline of 1 to see when the event happens and when it doesn't, in our example:\n",
    "    - In the bottom-left, the predictions are below one, so the **chance of churning is less than the chance of not churning**.\n",
    "    -  In the top-right, the **chance of churning is greater than the chance of not churning**.\n",
    "\n",
    "- Plotting can done using `seaborn.lineplot()` function\n",
    "\n",
    "- Adding a baseline is achieved using `plt.axhline()` function."
   ]
  },
  {
   "cell_type": "code",
   "execution_count": 8,
   "id": "403a223a",
   "metadata": {},
   "outputs": [
    {
     "data": {
      "text/html": [
       "<div>\n",
       "<style scoped>\n",
       "    .dataframe tbody tr th:only-of-type {\n",
       "        vertical-align: middle;\n",
       "    }\n",
       "\n",
       "    .dataframe tbody tr th {\n",
       "        vertical-align: top;\n",
       "    }\n",
       "\n",
       "    .dataframe thead th {\n",
       "        text-align: right;\n",
       "    }\n",
       "</style>\n",
       "<table border=\"1\" class=\"dataframe\">\n",
       "  <thead>\n",
       "    <tr style=\"text-align: right;\">\n",
       "      <th></th>\n",
       "      <th>time_since_last_purchase</th>\n",
       "      <th>has_churned</th>\n",
       "      <th>most_likely_outcome</th>\n",
       "      <th>odds_ratio</th>\n",
       "    </tr>\n",
       "  </thead>\n",
       "  <tbody>\n",
       "    <tr>\n",
       "      <th>0</th>\n",
       "      <td>-1.00</td>\n",
       "      <td>0.424523</td>\n",
       "      <td>0.0</td>\n",
       "      <td>0.737688</td>\n",
       "    </tr>\n",
       "    <tr>\n",
       "      <th>1</th>\n",
       "      <td>-0.75</td>\n",
       "      <td>0.441043</td>\n",
       "      <td>0.0</td>\n",
       "      <td>0.789046</td>\n",
       "    </tr>\n",
       "    <tr>\n",
       "      <th>2</th>\n",
       "      <td>-0.50</td>\n",
       "      <td>0.457695</td>\n",
       "      <td>0.0</td>\n",
       "      <td>0.843980</td>\n",
       "    </tr>\n",
       "    <tr>\n",
       "      <th>3</th>\n",
       "      <td>-0.25</td>\n",
       "      <td>0.474441</td>\n",
       "      <td>0.0</td>\n",
       "      <td>0.902738</td>\n",
       "    </tr>\n",
       "    <tr>\n",
       "      <th>4</th>\n",
       "      <td>0.00</td>\n",
       "      <td>0.491246</td>\n",
       "      <td>0.0</td>\n",
       "      <td>0.965587</td>\n",
       "    </tr>\n",
       "  </tbody>\n",
       "</table>\n",
       "</div>"
      ],
      "text/plain": [
       "   time_since_last_purchase  has_churned  most_likely_outcome  odds_ratio\n",
       "0                     -1.00     0.424523                  0.0    0.737688\n",
       "1                     -0.75     0.441043                  0.0    0.789046\n",
       "2                     -0.50     0.457695                  0.0    0.843980\n",
       "3                     -0.25     0.474441                  0.0    0.902738\n",
       "4                      0.00     0.491246                  0.0    0.965587"
      ]
     },
     "execution_count": 8,
     "metadata": {},
     "output_type": "execute_result"
    }
   ],
   "source": [
    "## Calculate the odds ratio\n",
    "## --------------------------\n",
    "predicted_data['odds_ratio'] = (predicted_data['has_churned'] / \n",
    "                (1 - predicted_data[\"has_churned\"]))\n",
    "## Note that I am using parentheses () so I can break the code into lines\n",
    "\n",
    "# print the head of data\n",
    "predicted_data.head()"
   ]
  },
  {
   "cell_type": "markdown",
   "id": "0c663c4c",
   "metadata": {},
   "source": [
    "## Visualizing Odds Ratio"
   ]
  },
  {
   "cell_type": "code",
   "execution_count": 9,
   "id": "d8e1dbcc",
   "metadata": {},
   "outputs": [
    {
     "data": {
      "image/png": "[encoded data removed]",
      "text/plain": [
       "<Figure size 720x432 with 1 Axes>"
      ]
     },
     "metadata": {
      "needs_background": "light"
     },
     "output_type": "display_data"
    }
   ],
   "source": [
    "sns.lineplot(x = \"time_since_last_purchase\",\n",
    "            y = 'odds_ratio',\n",
    "            data = predicted_data)\n",
    "\n",
    "plt.axhline(y = 1, linestyle = 'dashed', color = \"red\")\n",
    "plt.axvline(x = 0, linestyle = 'dashed', color = \"red\")\n",
    "plt.show()"
   ]
  },
  {
   "cell_type": "markdown",
   "id": "2386a6e3",
   "metadata": {},
   "source": [
    "## Visualizing Log Odds (Logit)\n",
    "\n",
    "- Recall from the theory lecture, the log odds is called **logit**. Also, recall that log odds transforms the relationship into linear. \n",
    "\n",
    "- In this section we calculate the log-odds-ratio by using `np.log()` function\n",
    "\n",
    "- We also visualize the log-odds against the explanatory variable.\n",
    "\n",
    "### Note:\n",
    "- We can use `plt.yscale()` and pass the log as an option to plot the log odds"
   ]
  },
  {
   "cell_type": "code",
   "execution_count": 10,
   "id": "77ea781b",
   "metadata": {},
   "outputs": [
    {
     "data": {
      "text/html": [
       "<div>\n",
       "<style scoped>\n",
       "    .dataframe tbody tr th:only-of-type {\n",
       "        vertical-align: middle;\n",
       "    }\n",
       "\n",
       "    .dataframe tbody tr th {\n",
       "        vertical-align: top;\n",
       "    }\n",
       "\n",
       "    .dataframe thead th {\n",
       "        text-align: right;\n",
       "    }\n",
       "</style>\n",
       "<table border=\"1\" class=\"dataframe\">\n",
       "  <thead>\n",
       "    <tr style=\"text-align: right;\">\n",
       "      <th></th>\n",
       "      <th>time_since_last_purchase</th>\n",
       "      <th>has_churned</th>\n",
       "      <th>most_likely_outcome</th>\n",
       "      <th>odds_ratio</th>\n",
       "      <th>log_odds_ratio</th>\n",
       "    </tr>\n",
       "  </thead>\n",
       "  <tbody>\n",
       "    <tr>\n",
       "      <th>0</th>\n",
       "      <td>-1.00</td>\n",
       "      <td>0.424523</td>\n",
       "      <td>0.0</td>\n",
       "      <td>0.737688</td>\n",
       "      <td>-0.304234</td>\n",
       "    </tr>\n",
       "    <tr>\n",
       "      <th>1</th>\n",
       "      <td>-0.75</td>\n",
       "      <td>0.441043</td>\n",
       "      <td>0.0</td>\n",
       "      <td>0.789046</td>\n",
       "      <td>-0.236931</td>\n",
       "    </tr>\n",
       "    <tr>\n",
       "      <th>2</th>\n",
       "      <td>-0.50</td>\n",
       "      <td>0.457695</td>\n",
       "      <td>0.0</td>\n",
       "      <td>0.843980</td>\n",
       "      <td>-0.169627</td>\n",
       "    </tr>\n",
       "    <tr>\n",
       "      <th>3</th>\n",
       "      <td>-0.25</td>\n",
       "      <td>0.474441</td>\n",
       "      <td>0.0</td>\n",
       "      <td>0.902738</td>\n",
       "      <td>-0.102323</td>\n",
       "    </tr>\n",
       "    <tr>\n",
       "      <th>4</th>\n",
       "      <td>0.00</td>\n",
       "      <td>0.491246</td>\n",
       "      <td>0.0</td>\n",
       "      <td>0.965587</td>\n",
       "      <td>-0.035019</td>\n",
       "    </tr>\n",
       "  </tbody>\n",
       "</table>\n",
       "</div>"
      ],
      "text/plain": [
       "   time_since_last_purchase  has_churned  most_likely_outcome  odds_ratio  \\\n",
       "0                     -1.00     0.424523                  0.0    0.737688   \n",
       "1                     -0.75     0.441043                  0.0    0.789046   \n",
       "2                     -0.50     0.457695                  0.0    0.843980   \n",
       "3                     -0.25     0.474441                  0.0    0.902738   \n",
       "4                      0.00     0.491246                  0.0    0.965587   \n",
       "\n",
       "   log_odds_ratio  \n",
       "0       -0.304234  \n",
       "1       -0.236931  \n",
       "2       -0.169627  \n",
       "3       -0.102323  \n",
       "4       -0.035019  "
      ]
     },
     "execution_count": 10,
     "metadata": {},
     "output_type": "execute_result"
    }
   ],
   "source": [
    "## Calculate the log odds ratio\n",
    "## --------------------------\n",
    "predicted_data['log_odds_ratio'] = np.log(predicted_data['odds_ratio'])\n",
    "\n",
    "# Print the head of the data\n",
    "predicted_data.head()"
   ]
  },
  {
   "cell_type": "code",
   "execution_count": 11,
   "id": "4740e0fe",
   "metadata": {},
   "outputs": [
    {
     "data": {
      "image/png": "[encoded data removed]",
      "text/plain": [
       "<Figure size 720x432 with 1 Axes>"
      ]
     },
     "metadata": {
      "needs_background": "light"
     },
     "output_type": "display_data"
    }
   ],
   "source": [
    "## Visualize the log odds ratio\n",
    "## -----------------------------\n",
    "\n",
    "sns.lineplot(x = \"time_since_last_purchase\",\n",
    "            y = 'log_odds_ratio',\n",
    "            data = predicted_data)\n",
    "plt.axhline(y = 0, linestyle = 'dashed', color = \"red\")\n",
    "plt.axvline(x = 0, linestyle = 'dashed', color = \"red\")\n",
    "plt.show()"
   ]
  },
  {
   "cell_type": "code",
   "execution_count": 12,
   "id": "69563811",
   "metadata": {},
   "outputs": [
    {
     "data": {
      "image/png": "[encoded data removed]",
      "text/plain": [
       "<Figure size 720x432 with 1 Axes>"
      ]
     },
     "metadata": {
      "needs_background": "light"
     },
     "output_type": "display_data"
    }
   ],
   "source": [
    "## Use yscale('log') to plot the log odds ratio\n",
    "## ---------------------------------------------\n",
    "\n",
    "sns.lineplot(x = \"time_since_last_purchase\",\n",
    "            y = 'odds_ratio',\n",
    "            data = predicted_data)\n",
    "plt.axhline(y = 1, linestyle = 'dashed', color = \"red\")\n",
    "plt.axvline(x = 0, linestyle = 'dashed', color = \"red\")\n",
    "plt.yscale('log')\n",
    "plt.show()"
   ]
  },
  {
   "cell_type": "markdown",
   "id": "deee1150",
   "metadata": {},
   "source": [
    "## Final Results:\n",
    "\n",
    "- At this stage, we print the first and last 5 observations of the predicted data to see the difference between all values, probabilities, odds ratio, log odds ratio, and the classified outcome."
   ]
  },
  {
   "cell_type": "code",
   "execution_count": 13,
   "id": "8a0da5fc",
   "metadata": {},
   "outputs": [
    {
     "name": "stdout",
     "output_type": "stream",
     "text": [
      "================================================================================\n",
      "               The first five observation of the predicted Data                 \n",
      "================================================================================\n",
      "\n",
      "   time_since_last_purchase  has_churned  most_likely_outcome  odds_ratio  \\\n",
      "0                     -1.00     0.424523                  0.0    0.737688   \n",
      "1                     -0.75     0.441043                  0.0    0.789046   \n",
      "2                     -0.50     0.457695                  0.0    0.843980   \n",
      "3                     -0.25     0.474441                  0.0    0.902738   \n",
      "4                      0.00     0.491246                  0.0    0.965587   \n",
      "\n",
      "   log_odds_ratio  \n",
      "0       -0.304234  \n",
      "1       -0.236931  \n",
      "2       -0.169627  \n",
      "3       -0.102323  \n",
      "4       -0.035019  \n",
      "\n",
      "\n",
      "\n",
      "================================================================================\n",
      "                The last five observation of the predicted Data                 \n",
      "================================================================================\n",
      "\n",
      "    time_since_last_purchase  has_churned  most_likely_outcome  odds_ratio  \\\n",
      "25                      5.25     0.798727                  1.0    3.968384   \n",
      "26                      5.50     0.809330                  1.0    4.244665   \n",
      "27                      5.75     0.819500                  1.0    4.540179   \n",
      "28                      6.00     0.829243                  1.0    4.856268   \n",
      "29                      6.25     0.838563                  1.0    5.194363   \n",
      "\n",
      "    log_odds_ratio  \n",
      "25        1.378359  \n",
      "26        1.445663  \n",
      "27        1.512967  \n",
      "28        1.580270  \n",
      "29        1.647574  \n",
      "\n",
      "\n",
      "\n"
     ]
    }
   ],
   "source": [
    "print(\"=\"*80)\n",
    "print(\"The first five observation of the predicted Data \".center(80))\n",
    "print(\"=\"*80, end=\"\\n\\n\")\n",
    "print(predicted_data.head())\n",
    "print(end=\"\\n\\n\\n\")\n",
    "\n",
    "print(\"=\"*80)\n",
    "print(\"The last five observation of the predicted Data \".center(80))\n",
    "print(\"=\"*80, end=\"\\n\\n\")\n",
    "print(predicted_data.tail())\n",
    "print(end=\"\\n\\n\\n\")"
   ]
  },
  {
   "cell_type": "markdown",
   "id": "132e1bf2",
   "metadata": {},
   "source": [
    "---\n",
    "## Practice with Length of Relationship Logistic Model"
   ]
  },
  {
   "cell_type": "code",
   "execution_count": null,
   "id": "6a16145b",
   "metadata": {},
   "outputs": [],
   "source": [
    "## Setting Plots confifuration\n",
    "plt.rcParams['axes.facecolor']= \"#F5F5DC\"\n",
    "plt.figure(figsize = (8, 6))\n",
    "\n",
    "## New Explanatory Variable Data \n",
    "new_exp_data = pd.DataFrame({\n",
    "    'time_since_first_purchase': np.arange(-1.50, 4, .25)})\n",
    "\n",
    "## Create pred_data using assign()\n",
    "\n",
    "pred_data = \n",
    "\n",
    "# Print the head\n"
   ]
  },
  {
   "cell_type": "code",
   "execution_count": null,
   "id": "5fd57e1c",
   "metadata": {},
   "outputs": [],
   "source": [
    "# Create a scatter plot with logistic trend line\n",
    "sns.regplot(\n",
    "    x = ,\n",
    "    y= ,\n",
    "    data = ,\n",
    "    ci = ,\n",
    "    logistic =\n",
    ")\n",
    "\n",
    "# Overlay with pred_data, colored red\n",
    "\n",
    "sns.scatterplot(x =,\n",
    "            y=,\n",
    "            data= ,\n",
    "            color = )\n",
    "plt.show()"
   ]
  },
  {
   "cell_type": "code",
   "execution_count": null,
   "id": "e0785936",
   "metadata": {},
   "outputs": [],
   "source": [
    "# Add most_likely_outcome to pred_data\n",
    "pred_data[\"most_likely_outcome\"] = \n",
    "\n",
    "# Print the head\n"
   ]
  },
  {
   "cell_type": "code",
   "execution_count": null,
   "id": "eca279cb",
   "metadata": {},
   "outputs": [],
   "source": [
    "# Create a scatter plot with logistic trend line\n",
    "sns.regplot(\n",
    "    x =,\n",
    "    y= ,\n",
    "    data = ,\n",
    "    ci = ,\n",
    "    logistic = True\n",
    ")\n",
    "\n",
    "# Overlay with pred_data, colored red\n",
    "\n",
    "sns.scatterplot(x=,\n",
    "            y=,\n",
    "            data= ,\n",
    "            color =)\n",
    "plt.show()"
   ]
  },
  {
   "cell_type": "code",
   "execution_count": null,
   "id": "adbde593",
   "metadata": {},
   "outputs": [],
   "source": [
    "# Update pred_data with odds_ratio\n",
    "prediction_data[\"odds_ratio\"] = \n",
    "\n",
    "# Print the head\n"
   ]
  },
  {
   "cell_type": "code",
   "execution_count": null,
   "id": "0504e524",
   "metadata": {},
   "outputs": [],
   "source": [
    "# Create a line plot of odds_ratio vs time_since_first_purchase\n",
    "sns.lineplot(x = ,\n",
    "            y = ,\n",
    "            data = )\n",
    "\n",
    "# Add a dashed horizontal line at odds_ratio = 1\n",
    "plt.axhline()\n",
    "\n",
    "plt.show()"
   ]
  },
  {
   "cell_type": "code",
   "execution_count": null,
   "id": "53cc56c0",
   "metadata": {},
   "outputs": [],
   "source": [
    "# Update pred_data with log_odds_ratio\n",
    "prediction_data['log_odds_ratio'] = \n",
    "\n",
    "# Print the head\n"
   ]
  },
  {
   "cell_type": "code",
   "execution_count": null,
   "id": "2c4521ec",
   "metadata": {},
   "outputs": [],
   "source": [
    "# Update pred_data with log_odds_ratio\n",
    "prediction_data[\"log_odds_ratio\"] = \n",
    "\n",
    "# Plot log_odds_ratio vs. time_since_first_purchase\n",
    "sns.lineplot(x=,\n",
    "             y=,\n",
    "             data=)\n",
    "\n",
    "# Add a dashed horizontal line at log_odds_ratio = 0\n",
    "plt.axhline()\n",
    "\n",
    "plt.show()"
   ]
  },
  {
   "cell_type": "code",
   "execution_count": null,
   "id": "30e7726e",
   "metadata": {},
   "outputs": [],
   "source": [
    "# Print 5 first and last values\n",
    "#------------------------------\n",
    "print(\"=\"*80)\n",
    "print(\"The first five observation of the predicted Data \".center(80))\n",
    "print(\"=\"*80, end=\"\\n\\n\")\n",
    "print(pred_data.head())\n",
    "print(end=\"\\n\\n\\n\")\n",
    "\n",
    "print(\"=\"*80)\n",
    "print(\"The last five observation of the predicted Data \".center(80))\n",
    "print(\"=\"*80, end=\"\\n\\n\")\n",
    "print(predict.tail())\n",
    "print(end=\"\\n\\n\\n\")\n"
   ]
  },
  {
   "cell_type": "code",
   "execution_count": null,
   "id": "895d6ea5",
   "metadata": {},
   "outputs": [],
   "source": []
  }
 ],
 "metadata": {
  "kernelspec": {
   "display_name": "Python 3 (ipykernel)",
   "language": "python",
   "name": "python3"
  },
  "language_info": {
   "codemirror_mode": {
    "name": "ipython",
    "version": 3
   },
   "file_extension": ".py",
   "mimetype": "text/x-python",
   "name": "python",
   "nbconvert_exporter": "python",
   "pygments_lexer": "ipython3",
   "version": "3.8.2"
  }
 },
 "nbformat": 4,
 "nbformat_minor": 5
}
