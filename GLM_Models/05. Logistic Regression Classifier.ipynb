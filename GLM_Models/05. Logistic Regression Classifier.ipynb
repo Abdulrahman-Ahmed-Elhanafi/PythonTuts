{
 "cells": [
  {
   "cell_type": "markdown",
   "id": "654f3d99",
   "metadata": {},
   "source": [
    "# <center> <u><font size = 24, color=\"#7B241C\"> Logistic Regression Classifier  </u> "
   ]
  },
  {
   "cell_type": "markdown",
   "id": "568a4a8d",
   "metadata": {},
   "source": [
    "# Up and Running with Classification\n",
    "\n",
    " - The first algorithm we will be using is **logistic regression**. Although, its name is regression, but it is used in **classification problems**. We have already covered a great deal of mathematics of this algorithm, so it is time to practice using it to classify data. \n",
    " \n",
    " - We will first use logistic regression with binary classification then with multiclass classification in later lectures. \n",
    " \n",
    "### Notes about Logistic Regression \n",
    "\n",
    " - You have to be aware of the following notes about logistic regression:\n",
    " \n",
    "     - It is a linear classifier.\n",
    "     - It produces a probability for each class, so it simulate linear regression for producing continuous values **hence the word regression**.  \n",
    "     - It uses sigmoid or (logistic function) hence the word **logistic**.\n",
    "     - It belongs to GLM models (Linear Model Family), that's why it's linear.\n",
    "     - Using logistic function and simulating linear regression qualified it to have the name **logistic regression** and not **logistic classification**. And since it belongs to Linear model family, sklearn developers made it in the `linear_model` submodule."
   ]
  },
  {
   "cell_type": "markdown",
   "id": "4673d4a7",
   "metadata": {},
   "source": [
    "## Illusttration of Linear Classifier"
   ]
  },
  {
   "cell_type": "code",
   "execution_count": 1,
   "id": "e815e412",
   "metadata": {},
   "outputs": [
    {
     "data": {
      "image/png": "[encoded data removed]",
      "text/plain": [
       "<Figure size 576x432 with 1 Axes>"
      ]
     },
     "metadata": {},
     "output_type": "display_data"
    }
   ],
   "source": [
    "##=================================================================\n",
    "##              Illustration of logistic Regression Classifier\n",
    "##=================================================================\n",
    "\n",
    "import mglearn\n",
    "import matplotlib.pyplot as plt\n",
    "from sklearn.linear_model import LogisticRegression\n",
    "import warnings\n",
    "warnings.simplefilter(\"ignore\")\n",
    "\n",
    "X, y = mglearn.datasets.make_blobs(random_state=10123)\n",
    "\n",
    "clf = LogisticRegression()\n",
    "clf.fit(X, y)\n",
    "\n",
    "fig, ax = plt.subplots(figsize=(8, 6))\n",
    "mglearn.plots.plot_2d_separator(clf, X, fill=False, eps=0.5,\n",
    "                                       ax=ax, alpha=.7)\n",
    "mglearn.discrete_scatter(X[:, 0], X[:, 1], y, ax=ax)\n",
    "\n",
    "ax.set_title(\"{}\".format(clf.__class__.__name__)) \n",
    "ax.set_xlabel(\"Feature 0\") \n",
    "ax.set_ylabel(\"Feature 1\")\n",
    "ax.legend()\n",
    "plt.show()"
   ]
  },
  {
   "cell_type": "markdown",
   "id": "79fa1525",
   "metadata": {},
   "source": [
    "## Simple Classification Example: Churn Data"
   ]
  },
  {
   "cell_type": "code",
   "execution_count": 2,
   "id": "f4a84941",
   "metadata": {},
   "outputs": [],
   "source": [
    "##=================================================================\n",
    "##              Importing Necessary Modules\n",
    "##=================================================================\n",
    "\n",
    "import pandas as pd; import numpy as np\n",
    "import matplotlib.pyplot as plt\n",
    "import seaborn as sns\n",
    "\n",
    "import statsmodels.api as sm\n",
    "from statsmodels.formula.api import glm\n",
    "\n",
    "%matplotlib inline"
   ]
  },
  {
   "cell_type": "code",
   "execution_count": 3,
   "id": "7023a325",
   "metadata": {},
   "outputs": [
    {
     "name": "stdout",
     "output_type": "stream",
     "text": [
      "================================================================================\n",
      "                 The Length Relationship Logistic Model Results                 \n",
      "================================================================================\n",
      "\n",
      "=============================================================================================\n",
      "                                coef    std err          z      P>|z|      [0.025      0.975]\n",
      "---------------------------------------------------------------------------------------------\n",
      "Intercept                    -0.0152      0.102     -0.150      0.881      -0.214       0.184\n",
      "time_since_first_purchase    -0.3548      0.111     -3.198      0.001      -0.572      -0.137\n",
      "=============================================================================================\n",
      "\n",
      "\n",
      "\n",
      "================================================================================\n",
      "                The Recency Relationship Logistic Model Results                 \n",
      "================================================================================\n",
      "\n",
      "============================================================================================\n",
      "                               coef    std err          z      P>|z|      [0.025      0.975]\n",
      "--------------------------------------------------------------------------------------------\n",
      "Intercept                   -0.0350      0.102     -0.345      0.730      -0.234       0.164\n",
      "time_since_last_purchase     0.2692      0.098      2.744      0.006       0.077       0.462\n",
      "============================================================================================\n"
     ]
    }
   ],
   "source": [
    "##=================================================================\n",
    "##             Reading the data\n",
    "##=================================================================\n",
    "\n",
    "churn = pd.read_csv('churn.csv')\n",
    "\n",
    "##=================================================================\n",
    "##      Building length of relationship logistic model\n",
    "##=================================================================\n",
    "\n",
    "len_relationship_mdl = glm(\"has_churned ~ time_since_first_purchase\", data = churn,\n",
    "                       family = sm.families.Binomial()).fit()\n",
    "print(\"=\"*80)\n",
    "print(\"The Length Relationship Logistic Model Results\".center(80))\n",
    "print(\"=\"*80, end=\"\\n\\n\")\n",
    "print(len_relationship_mdl.summary().tables[1])\n",
    "print(end=\"\\n\\n\\n\")\n",
    "##=================================================================\n",
    "##      Building length of recency logistic model\n",
    "##=================================================================\n",
    "recency_model = glm(\"has_churned ~ time_since_last_purchase\", \n",
    "                   data = churn,\n",
    "                   family = sm.families.Binomial()).fit()\n",
    "\n",
    "print(\"=\"*80)\n",
    "print(\"The Recency Relationship Logistic Model Results\".center(80))\n",
    "print(\"=\"*80, end=\"\\n\\n\")\n",
    "print(recency_model.summary().tables[1])"
   ]
  },
  {
   "cell_type": "markdown",
   "id": "07c5f281",
   "metadata": {},
   "source": [
    "## Practice Calculating Confusion Matrix\n",
    "\n",
    " - In our example, there are two possible responses (churn or not churn), there are four overall outcomes.\n",
    "    - **True positive**: The customer churned and the model predicted they would.\n",
    "    - **False positive**: The customer didn't churn, but the model predicted they would.\n",
    "    - **True negative**: The customer didn't churn and the model predicted they wouldn't.\n",
    "    - **False negative**: The customer churned, but the model predicted they wouldn't."
   ]
  },
  {
   "cell_type": "code",
   "execution_count": 4,
   "id": "f3022220",
   "metadata": {},
   "outputs": [
    {
     "name": "stdout",
     "output_type": "stream",
     "text": [
      "actual_response  predicted_response\n",
      "0                0.0                   112\n",
      "                 1.0                    88\n",
      "1                0.0                    76\n",
      "                 1.0                   124\n",
      "dtype: int64\n"
     ]
    }
   ],
   "source": [
    "# Get the actual responses\n",
    "actual_response = churn['has_churned']\n",
    "\n",
    "# Get the predicted responses\n",
    "predicted_response = np.round(len_relationship_mdl.predict())\n",
    "\n",
    "# Create outcomes as a DataFrame of both Series\n",
    "outcomes = pd.DataFrame({\"actual_response\": actual_response,\n",
    "                        \"predicted_response\": predicted_response})\n",
    "\n",
    "# Print the outcomes\n",
    "print(outcomes.value_counts(sort = False))"
   ]
  },
  {
   "cell_type": "code",
   "execution_count": null,
   "id": "e23b5cdc",
   "metadata": {},
   "outputs": [],
   "source": []
  },
  {
   "cell_type": "code",
   "execution_count": 5,
   "id": "6a5f5226",
   "metadata": {},
   "outputs": [
    {
     "name": "stdout",
     "output_type": "stream",
     "text": [
      "[[112  88]\n",
      " [ 76 124]]\n"
     ]
    }
   ],
   "source": [
    "# Import mosaic from statsmodels.graphics.mosaicplot\n",
    "from statsmodels.graphics.mosaicplot import mosaic\n",
    "\n",
    "# Create a confusion Matrix\n",
    "conf_matrix = np.reshape(outcomes.value_counts(sort=False).values, (2, 2))\n",
    "\n",
    "# Print it\n",
    "print(conf_matrix)"
   ]
  },
  {
   "cell_type": "code",
   "execution_count": 6,
   "id": "019a1b6e",
   "metadata": {},
   "outputs": [
    {
     "data": {
      "image/png": "[encoded data removed]",
      "text/plain": [
       "<Figure size 432x288 with 3 Axes>"
      ]
     },
     "metadata": {
      "needs_background": "light"
     },
     "output_type": "display_data"
    }
   ],
   "source": [
    "# Draw a mosaic plot of conf_matrix\n",
    "mosaic(conf_matrix)\n",
    "plt.show()"
   ]
  },
  {
   "cell_type": "code",
   "execution_count": 7,
   "id": "32926761",
   "metadata": {},
   "outputs": [
    {
     "name": "stdout",
     "output_type": "stream",
     "text": [
      "accuracy:  0.59\n",
      "sensitivity:  0.62\n",
      "specificity:  0.56\n"
     ]
    }
   ],
   "source": [
    "# Extract TN, TP, FN and FP from conf_matrix\n",
    "TN = conf_matrix[0, 0]\n",
    "TP = conf_matrix[1, 1]\n",
    "FN = conf_matrix[1, 0]\n",
    "FP = conf_matrix[0, 1]\n",
    "\n",
    "\n",
    "# Calculate and print the accuracy\n",
    "accuracy = (TN + TP)/(TN + TP + FN +FP )\n",
    "print(\"accuracy: \", accuracy)\n",
    "\n",
    "\n",
    "# Calculate and print the sensitivity\n",
    "sensitivity = TP / (FN + TP)\n",
    "print(\"sensitivity: \", sensitivity)\n",
    "\n",
    "# Calculate and print the specificity\n",
    "specificity = TN / (TN + FP)\n",
    "print(\"specificity: \", specificity)"
   ]
  },
  {
   "cell_type": "markdown",
   "id": "8810d7bd",
   "metadata": {},
   "source": [
    "## Model Perfmance Evaluation with sklearn API"
   ]
  },
  {
   "cell_type": "code",
   "execution_count": 8,
   "id": "cab516c0",
   "metadata": {},
   "outputs": [
    {
     "name": "stdout",
     "output_type": "stream",
     "text": [
      "[[112  88]\n",
      " [ 76 124]]\n"
     ]
    }
   ],
   "source": [
    "# Import classification_report from sklearn.metrics\n",
    "from sklearn.metrics import classification_report\n",
    "\n",
    "# Import confusion_matrix from sklearn.metrics\n",
    "from sklearn.metrics import confusion_matrix\n",
    "\n",
    "# Compute and print the confusion matrix\n",
    "\n",
    "y = churn['has_churned']\n",
    "y_pred = predicted_response\n",
    "print(confusion_matrix(y, y_pred))"
   ]
  },
  {
   "cell_type": "code",
   "execution_count": 9,
   "id": "871ae851",
   "metadata": {},
   "outputs": [
    {
     "name": "stdout",
     "output_type": "stream",
     "text": [
      "              precision    recall  f1-score   support\n",
      "\n",
      "           0       0.60      0.56      0.58       200\n",
      "           1       0.58      0.62      0.60       200\n",
      "\n",
      "    accuracy                           0.59       400\n",
      "   macro avg       0.59      0.59      0.59       400\n",
      "weighted avg       0.59      0.59      0.59       400\n",
      "\n"
     ]
    }
   ],
   "source": [
    "# For more information about other metrics, use classification report\n",
    "print(classification_report(y, y_pred))"
   ]
  },
  {
   "cell_type": "markdown",
   "id": "6d9a3539",
   "metadata": {},
   "source": [
    "## Practice \n",
    "\n",
    "- Repeat the previous steps with model of recency."
   ]
  }
 ],
 "metadata": {
  "kernelspec": {
   "display_name": "Python 3 (ipykernel)",
   "language": "python",
   "name": "python3"
  },
  "language_info": {
   "codemirror_mode": {
    "name": "ipython",
    "version": 3
   },
   "file_extension": ".py",
   "mimetype": "text/x-python",
   "name": "python",
   "nbconvert_exporter": "python",
   "pygments_lexer": "ipython3",
   "version": "3.8.2"
  }
 },
 "nbformat": 4,
 "nbformat_minor": 5
}
