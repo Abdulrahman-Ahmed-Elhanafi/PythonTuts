{
 "cells": [
  {
   "cell_type": "markdown",
   "id": "5fdfdd27",
   "metadata": {},
   "source": [
    "# <center> <u><font color=\"#7B241C\"> Logistic Regression Classifier with sklearn API  </u> "
   ]
  },
  {
   "cell_type": "markdown",
   "id": "a1160437",
   "metadata": {},
   "source": [
    "## Logistic Regression Syntax\n",
    "\n",
    "```python\n",
    "## Import LogisticRegression form sklearn.linear_model\n",
    "from sklearn.linear_model import LogisticRegression\n",
    "\n",
    "## Import train split data\n",
    "from sklearn.model_selection import train_test_split\n",
    "\n",
    "## Instantiate a logistic regression object\n",
    "log_reg = LogisticRegression()\n",
    "\n",
    "## Split the data\n",
    "X_train, y_train, X_test, y_test = train_test_split(X, y,\n",
    "                                   test_size = 0.25, random_state = 10123)\n",
    "\n",
    "## Fit logistic model\n",
    "log_reg.fit(X_train, y_train)\n",
    "\n",
    "## Generate predictions\n",
    "y_pred = log_reg.predict(y_test)\n",
    "\n",
    "## Evaluate the model by roc_curve\n",
    "from sklearn.metrics import roc_curve\n",
    "\n",
    "## Predict the probabilities\n",
    "y_pred_prob = log_reg.predict_proba(X_test)[:, desired-class(0, or 1, ...)]\n",
    "\n",
    "fpr, tpr, thresholds = roc_curve(y_test, y_pred_prob)\n",
    "```"
   ]
  },
  {
   "cell_type": "code",
   "execution_count": 1,
   "id": "7ae33729",
   "metadata": {},
   "outputs": [],
   "source": [
    "def coment(s = \"=\"):\n",
    "    print(\"##\" + s * 50)\n",
    "    print(\"##\")\n",
    "    print(\"##\" + s * 50)"
   ]
  },
  {
   "cell_type": "code",
   "execution_count": 2,
   "id": "3d6e5ec0",
   "metadata": {},
   "outputs": [],
   "source": [
    "##==================================================\n",
    "##       Importing the necessary modules\n",
    "##==================================================\n",
    "import pandas as pd; import numpy as np\n",
    "import matplotlib.pyplot as plt\n",
    "import seaborn as sns\n",
    "\n",
    "%matplotlib inline\n",
    "\n",
    "from IPython.display import display\n",
    "pd.options.display.float_format = '{:,.3f}'.format"
   ]
  },
  {
   "cell_type": "markdown",
   "id": "12d64639",
   "metadata": {},
   "source": [
    "## Data Description:\n",
    "\n",
    "\n",
    "The dataset is available at https://archive.ics.uci.edu/ml/machine-learning-databases/heart-disease/processed.cleveland.data . The data has been obtained from the Cleveland region and is segregated into 14 columns. The description of each column is given below:\n",
    "\n",
    "* age : age in years\n",
    "* sex : sex (1 = male; 0 = female)\n",
    "* cp : chest pain type\n",
    "  + Value 1: typical angina\n",
    "  + Value 2: atypical angina\n",
    "  + Value 3: non-anginal pain\n",
    "  + Value 4: asymptomatic\n",
    "* trestbps : resting blood pressure (in mm Hg on admission to the hospital)\n",
    "* chol : serum cholestoral in mg/dl\n",
    "* fbs : (fasting blood sugar > 120 mg/dl) (1 = true; 0 = false)\n",
    "* restecg : resting electrocardiographic results\n",
    "* thalach : maximum heart rate achieved\n",
    "* exang : exercise induced angina (1 = yes; 0 = no)\n",
    "* oldpeak : ST depression induced by exercise relative to rest\n",
    "* slope : the slope of the peak exercise ST segment\n",
    "* ca : number of major vessels (0-3) colored by flourosopy\n",
    "* thal : 3 = normal; 6 = fixed defect; 7 = reversable defect\n",
    "* num(the predicted attribute) : diagnosis of heart disease (angiographic disease status)\n",
    "  + Value 0: < 50% diameter narrowing\n",
    "  + Value 1: > 50% diameter narrowing"
   ]
  },
  {
   "cell_type": "markdown",
   "id": "b49a7a10",
   "metadata": {},
   "source": [
    "## Importing and Exploring Data "
   ]
  },
  {
   "cell_type": "code",
   "execution_count": 3,
   "id": "f5dd0564",
   "metadata": {},
   "outputs": [
    {
     "name": "stdout",
     "output_type": "stream",
     "text": [
      "<class 'pandas.core.frame.DataFrame'>\n",
      "RangeIndex: 768 entries, 0 to 767\n",
      "Data columns (total 9 columns):\n",
      " #   Column                    Non-Null Count  Dtype  \n",
      "---  ------                    --------------  -----  \n",
      " 0   Pregnancies               768 non-null    int64  \n",
      " 1   Glucose                   768 non-null    int64  \n",
      " 2   BloodPressure             768 non-null    int64  \n",
      " 3   SkinThickness             768 non-null    int64  \n",
      " 4   Insulin                   768 non-null    int64  \n",
      " 5   BMI                       768 non-null    float64\n",
      " 6   DiabetesPedigreeFunction  768 non-null    float64\n",
      " 7   Age                       768 non-null    int64  \n",
      " 8   Outcome                   768 non-null    int64  \n",
      "dtypes: float64(2), int64(7)\n",
      "memory usage: 54.1 KB\n"
     ]
    }
   ],
   "source": [
    "##==================================================\n",
    "##       Importing the data\n",
    "##==================================================\n",
    "\n",
    "diabeties = pd.read_csv('diabetes.csv')\n",
    "\n",
    "diabeties.info()"
   ]
  },
  {
   "cell_type": "code",
   "execution_count": 4,
   "id": "2a46ae3a",
   "metadata": {},
   "outputs": [
    {
     "data": {
      "text/html": [
       "<div>\n",
       "<style scoped>\n",
       "    .dataframe tbody tr th:only-of-type {\n",
       "        vertical-align: middle;\n",
       "    }\n",
       "\n",
       "    .dataframe tbody tr th {\n",
       "        vertical-align: top;\n",
       "    }\n",
       "\n",
       "    .dataframe thead th {\n",
       "        text-align: right;\n",
       "    }\n",
       "</style>\n",
       "<table border=\"1\" class=\"dataframe\">\n",
       "  <thead>\n",
       "    <tr style=\"text-align: right;\">\n",
       "      <th></th>\n",
       "      <th>count</th>\n",
       "      <th>mean</th>\n",
       "      <th>std</th>\n",
       "      <th>min</th>\n",
       "      <th>25%</th>\n",
       "      <th>50%</th>\n",
       "      <th>75%</th>\n",
       "      <th>max</th>\n",
       "    </tr>\n",
       "  </thead>\n",
       "  <tbody>\n",
       "    <tr>\n",
       "      <th>Pregnancies</th>\n",
       "      <td>768.000</td>\n",
       "      <td>3.845</td>\n",
       "      <td>3.370</td>\n",
       "      <td>0.000</td>\n",
       "      <td>1.000</td>\n",
       "      <td>3.000</td>\n",
       "      <td>6.000</td>\n",
       "      <td>17.000</td>\n",
       "    </tr>\n",
       "    <tr>\n",
       "      <th>Glucose</th>\n",
       "      <td>768.000</td>\n",
       "      <td>120.895</td>\n",
       "      <td>31.973</td>\n",
       "      <td>0.000</td>\n",
       "      <td>99.000</td>\n",
       "      <td>117.000</td>\n",
       "      <td>140.250</td>\n",
       "      <td>199.000</td>\n",
       "    </tr>\n",
       "    <tr>\n",
       "      <th>BloodPressure</th>\n",
       "      <td>768.000</td>\n",
       "      <td>69.105</td>\n",
       "      <td>19.356</td>\n",
       "      <td>0.000</td>\n",
       "      <td>62.000</td>\n",
       "      <td>72.000</td>\n",
       "      <td>80.000</td>\n",
       "      <td>122.000</td>\n",
       "    </tr>\n",
       "    <tr>\n",
       "      <th>SkinThickness</th>\n",
       "      <td>768.000</td>\n",
       "      <td>20.536</td>\n",
       "      <td>15.952</td>\n",
       "      <td>0.000</td>\n",
       "      <td>0.000</td>\n",
       "      <td>23.000</td>\n",
       "      <td>32.000</td>\n",
       "      <td>99.000</td>\n",
       "    </tr>\n",
       "    <tr>\n",
       "      <th>Insulin</th>\n",
       "      <td>768.000</td>\n",
       "      <td>79.799</td>\n",
       "      <td>115.244</td>\n",
       "      <td>0.000</td>\n",
       "      <td>0.000</td>\n",
       "      <td>30.500</td>\n",
       "      <td>127.250</td>\n",
       "      <td>846.000</td>\n",
       "    </tr>\n",
       "    <tr>\n",
       "      <th>BMI</th>\n",
       "      <td>768.000</td>\n",
       "      <td>31.993</td>\n",
       "      <td>7.884</td>\n",
       "      <td>0.000</td>\n",
       "      <td>27.300</td>\n",
       "      <td>32.000</td>\n",
       "      <td>36.600</td>\n",
       "      <td>67.100</td>\n",
       "    </tr>\n",
       "    <tr>\n",
       "      <th>DiabetesPedigreeFunction</th>\n",
       "      <td>768.000</td>\n",
       "      <td>0.472</td>\n",
       "      <td>0.331</td>\n",
       "      <td>0.078</td>\n",
       "      <td>0.244</td>\n",
       "      <td>0.372</td>\n",
       "      <td>0.626</td>\n",
       "      <td>2.420</td>\n",
       "    </tr>\n",
       "    <tr>\n",
       "      <th>Age</th>\n",
       "      <td>768.000</td>\n",
       "      <td>33.241</td>\n",
       "      <td>11.760</td>\n",
       "      <td>21.000</td>\n",
       "      <td>24.000</td>\n",
       "      <td>29.000</td>\n",
       "      <td>41.000</td>\n",
       "      <td>81.000</td>\n",
       "    </tr>\n",
       "    <tr>\n",
       "      <th>Outcome</th>\n",
       "      <td>768.000</td>\n",
       "      <td>0.349</td>\n",
       "      <td>0.477</td>\n",
       "      <td>0.000</td>\n",
       "      <td>0.000</td>\n",
       "      <td>0.000</td>\n",
       "      <td>1.000</td>\n",
       "      <td>1.000</td>\n",
       "    </tr>\n",
       "  </tbody>\n",
       "</table>\n",
       "</div>"
      ],
      "text/plain": [
       "                           count    mean     std    min    25%     50%  \\\n",
       "Pregnancies              768.000   3.845   3.370  0.000  1.000   3.000   \n",
       "Glucose                  768.000 120.895  31.973  0.000 99.000 117.000   \n",
       "BloodPressure            768.000  69.105  19.356  0.000 62.000  72.000   \n",
       "SkinThickness            768.000  20.536  15.952  0.000  0.000  23.000   \n",
       "Insulin                  768.000  79.799 115.244  0.000  0.000  30.500   \n",
       "BMI                      768.000  31.993   7.884  0.000 27.300  32.000   \n",
       "DiabetesPedigreeFunction 768.000   0.472   0.331  0.078  0.244   0.372   \n",
       "Age                      768.000  33.241  11.760 21.000 24.000  29.000   \n",
       "Outcome                  768.000   0.349   0.477  0.000  0.000   0.000   \n",
       "\n",
       "                             75%     max  \n",
       "Pregnancies                6.000  17.000  \n",
       "Glucose                  140.250 199.000  \n",
       "BloodPressure             80.000 122.000  \n",
       "SkinThickness             32.000  99.000  \n",
       "Insulin                  127.250 846.000  \n",
       "BMI                       36.600  67.100  \n",
       "DiabetesPedigreeFunction   0.626   2.420  \n",
       "Age                       41.000  81.000  \n",
       "Outcome                    1.000   1.000  "
      ]
     },
     "execution_count": 4,
     "metadata": {},
     "output_type": "execute_result"
    }
   ],
   "source": [
    "##==================================================\n",
    "##       Basic Summary Statistics\n",
    "##==================================================\n",
    "diabeties.describe(include='all').T"
   ]
  },
  {
   "cell_type": "markdown",
   "id": "162f472b",
   "metadata": {},
   "source": [
    "## Data Preprocessing\n",
    "\n",
    "   1 - Dealing with Missing Values\n",
    "   \n",
    "   \n",
    "   2 - Studying the Correlation\n",
    "   \n",
    "   \n",
    "   3 - Standardization "
   ]
  },
  {
   "cell_type": "code",
   "execution_count": 5,
   "id": "aba04cf2",
   "metadata": {},
   "outputs": [
    {
     "name": "stdout",
     "output_type": "stream",
     "text": [
      "Pregnancies                 0\n",
      "Glucose                     0\n",
      "BloodPressure               0\n",
      "SkinThickness               0\n",
      "Insulin                     0\n",
      "BMI                         0\n",
      "DiabetesPedigreeFunction    0\n",
      "Age                         0\n",
      "Outcome                     0\n",
      "dtype: int64\n"
     ]
    }
   ],
   "source": [
    "##==================================================\n",
    "##        Checking the missing data\n",
    "##==================================================\n",
    "num_miss_vals = (diabeties.isnull().sum())\n",
    "print(num_miss_vals)"
   ]
  },
  {
   "cell_type": "markdown",
   "id": "117bdd42",
   "metadata": {},
   "source": [
    "   - It seems that the dataset has no missing values. However, should we admit that and move on to further analysis. The answer is no, a closer look at the summary statistics we that some variables have minimum value of zero, which is not possible; thus, missing data is coded as zero (0). The next variables have zero values which invalid.\n",
    "   \n",
    "- Glucose\n",
    "- BloodPressure\n",
    "- SkinThickness\n",
    "- Insulin\n",
    "- BMI\n",
    "\n",
    "We will replace the invalid values with `np.NaN`."
   ]
  },
  {
   "cell_type": "code",
   "execution_count": 6,
   "id": "4891aeea",
   "metadata": {},
   "outputs": [
    {
     "name": "stdout",
     "output_type": "stream",
     "text": [
      "Pregnancies                   0\n",
      "Glucose                       5\n",
      "BloodPressure                35\n",
      "SkinThickness               227\n",
      "Insulin                     374\n",
      "BMI                          11\n",
      "DiabetesPedigreeFunction      0\n",
      "Age                           0\n",
      "Outcome                       0\n",
      "dtype: int64\n"
     ]
    }
   ],
   "source": [
    "##==================================================\n",
    "##        Code the missing data points correctly\n",
    "##==================================================\n",
    "\n",
    "# Make a copy from the original data\n",
    "diabetes_c = diabeties.copy(deep=True)\n",
    "inv_vars = ['Glucose','BloodPressure','SkinThickness','Insulin','BMI']\n",
    "\n",
    "diabetes_c[inv_vars] = diabetes_c[inv_vars].replace(0,np.NaN)\n",
    "\n",
    "# Print the number of missing values for each variable\n",
    "print(diabetes_c.isnull().sum())"
   ]
  },
  {
   "cell_type": "code",
   "execution_count": 7,
   "id": "a7ff7371",
   "metadata": {},
   "outputs": [
    {
     "data": {
      "text/plain": [
       "<AxesSubplot:>"
      ]
     },
     "execution_count": 7,
     "metadata": {},
     "output_type": "execute_result"
    },
    {
     "data": {
      "image/png": "[encoded data removed]",
      "text/plain": [
       "<Figure size 432x288 with 1 Axes>"
      ]
     },
     "metadata": {
      "needs_background": "light"
     },
     "output_type": "display_data"
    }
   ],
   "source": [
    "#====================================================\n",
    "# Using heatmap to check for missing values\n",
    "#----------------------------------------------------\n",
    "sns.heatmap(diabetes_c.isnull(), cbar = False)"
   ]
  },
  {
   "cell_type": "markdown",
   "id": "ff1e6a7c",
   "metadata": {},
   "source": [
    "### Missing Data Imputation\n",
    "\n",
    "  - Filling (or imputing) missing data points is not an easy task, because there several techniques, some of them are simple such as mean and median imputation, and some are even machine learning algorithms such regression or KNN.\n",
    "  - Imputation requires a deep understanding of your data, the distribution of variables, otherwise, you would build a bias model. So, handling missing data must be done carefully. (We will dedicate a whole lecture for missing data techniques in our future lectures)\n",
    "  \n",
    "- The first step, we will plot the distribution of each variable."
   ]
  },
  {
   "cell_type": "code",
   "execution_count": 8,
   "id": "09eaf3b0",
   "metadata": {},
   "outputs": [
    {
     "data": {
      "image/png": "[encoded data removed]",
      "text/plain": [
       "<Figure size 1440x1440 with 9 Axes>"
      ]
     },
     "metadata": {
      "needs_background": "light"
     },
     "output_type": "display_data"
    }
   ],
   "source": [
    "_ = diabeties.hist(figsize = (20,20))"
   ]
  },
  {
   "cell_type": "code",
   "execution_count": null,
   "id": "d67da20e",
   "metadata": {},
   "outputs": [],
   "source": []
  },
  {
   "cell_type": "code",
   "execution_count": 9,
   "id": "b2db2855",
   "metadata": {},
   "outputs": [
    {
     "data": {
      "text/html": [
       "<div>\n",
       "<style scoped>\n",
       "    .dataframe tbody tr th:only-of-type {\n",
       "        vertical-align: middle;\n",
       "    }\n",
       "\n",
       "    .dataframe tbody tr th {\n",
       "        vertical-align: top;\n",
       "    }\n",
       "\n",
       "    .dataframe thead th {\n",
       "        text-align: right;\n",
       "    }\n",
       "</style>\n",
       "<table border=\"1\" class=\"dataframe\">\n",
       "  <thead>\n",
       "    <tr style=\"text-align: right;\">\n",
       "      <th></th>\n",
       "      <th>count</th>\n",
       "      <th>mean</th>\n",
       "      <th>std</th>\n",
       "      <th>min</th>\n",
       "      <th>25%</th>\n",
       "      <th>50%</th>\n",
       "      <th>75%</th>\n",
       "      <th>max</th>\n",
       "    </tr>\n",
       "  </thead>\n",
       "  <tbody>\n",
       "    <tr>\n",
       "      <th>Pregnancies</th>\n",
       "      <td>768.000</td>\n",
       "      <td>3.845</td>\n",
       "      <td>3.370</td>\n",
       "      <td>0.000</td>\n",
       "      <td>1.000</td>\n",
       "      <td>3.000</td>\n",
       "      <td>6.000</td>\n",
       "      <td>17.000</td>\n",
       "    </tr>\n",
       "    <tr>\n",
       "      <th>Glucose</th>\n",
       "      <td>768.000</td>\n",
       "      <td>121.687</td>\n",
       "      <td>30.436</td>\n",
       "      <td>44.000</td>\n",
       "      <td>99.750</td>\n",
       "      <td>117.000</td>\n",
       "      <td>140.250</td>\n",
       "      <td>199.000</td>\n",
       "    </tr>\n",
       "    <tr>\n",
       "      <th>BloodPressure</th>\n",
       "      <td>768.000</td>\n",
       "      <td>72.405</td>\n",
       "      <td>12.096</td>\n",
       "      <td>24.000</td>\n",
       "      <td>64.000</td>\n",
       "      <td>72.203</td>\n",
       "      <td>80.000</td>\n",
       "      <td>122.000</td>\n",
       "    </tr>\n",
       "    <tr>\n",
       "      <th>SkinThickness</th>\n",
       "      <td>768.000</td>\n",
       "      <td>29.108</td>\n",
       "      <td>8.791</td>\n",
       "      <td>7.000</td>\n",
       "      <td>25.000</td>\n",
       "      <td>29.000</td>\n",
       "      <td>32.000</td>\n",
       "      <td>99.000</td>\n",
       "    </tr>\n",
       "    <tr>\n",
       "      <th>Insulin</th>\n",
       "      <td>768.000</td>\n",
       "      <td>140.672</td>\n",
       "      <td>86.383</td>\n",
       "      <td>14.000</td>\n",
       "      <td>121.500</td>\n",
       "      <td>125.000</td>\n",
       "      <td>127.250</td>\n",
       "      <td>846.000</td>\n",
       "    </tr>\n",
       "    <tr>\n",
       "      <th>BMI</th>\n",
       "      <td>768.000</td>\n",
       "      <td>32.455</td>\n",
       "      <td>6.875</td>\n",
       "      <td>18.200</td>\n",
       "      <td>27.500</td>\n",
       "      <td>32.300</td>\n",
       "      <td>36.600</td>\n",
       "      <td>67.100</td>\n",
       "    </tr>\n",
       "    <tr>\n",
       "      <th>DiabetesPedigreeFunction</th>\n",
       "      <td>768.000</td>\n",
       "      <td>0.472</td>\n",
       "      <td>0.331</td>\n",
       "      <td>0.078</td>\n",
       "      <td>0.244</td>\n",
       "      <td>0.372</td>\n",
       "      <td>0.626</td>\n",
       "      <td>2.420</td>\n",
       "    </tr>\n",
       "    <tr>\n",
       "      <th>Age</th>\n",
       "      <td>768.000</td>\n",
       "      <td>33.241</td>\n",
       "      <td>11.760</td>\n",
       "      <td>21.000</td>\n",
       "      <td>24.000</td>\n",
       "      <td>29.000</td>\n",
       "      <td>41.000</td>\n",
       "      <td>81.000</td>\n",
       "    </tr>\n",
       "    <tr>\n",
       "      <th>Outcome</th>\n",
       "      <td>768.000</td>\n",
       "      <td>0.349</td>\n",
       "      <td>0.477</td>\n",
       "      <td>0.000</td>\n",
       "      <td>0.000</td>\n",
       "      <td>0.000</td>\n",
       "      <td>1.000</td>\n",
       "      <td>1.000</td>\n",
       "    </tr>\n",
       "  </tbody>\n",
       "</table>\n",
       "</div>"
      ],
      "text/plain": [
       "                           count    mean    std    min     25%     50%  \\\n",
       "Pregnancies              768.000   3.845  3.370  0.000   1.000   3.000   \n",
       "Glucose                  768.000 121.687 30.436 44.000  99.750 117.000   \n",
       "BloodPressure            768.000  72.405 12.096 24.000  64.000  72.203   \n",
       "SkinThickness            768.000  29.108  8.791  7.000  25.000  29.000   \n",
       "Insulin                  768.000 140.672 86.383 14.000 121.500 125.000   \n",
       "BMI                      768.000  32.455  6.875 18.200  27.500  32.300   \n",
       "DiabetesPedigreeFunction 768.000   0.472  0.331  0.078   0.244   0.372   \n",
       "Age                      768.000  33.241 11.760 21.000  24.000  29.000   \n",
       "Outcome                  768.000   0.349  0.477  0.000   0.000   0.000   \n",
       "\n",
       "                             75%     max  \n",
       "Pregnancies                6.000  17.000  \n",
       "Glucose                  140.250 199.000  \n",
       "BloodPressure             80.000 122.000  \n",
       "SkinThickness             32.000  99.000  \n",
       "Insulin                  127.250 846.000  \n",
       "BMI                       36.600  67.100  \n",
       "DiabetesPedigreeFunction   0.626   2.420  \n",
       "Age                       41.000  81.000  \n",
       "Outcome                    1.000   1.000  "
      ]
     },
     "execution_count": 9,
     "metadata": {},
     "output_type": "execute_result"
    }
   ],
   "source": [
    "#====================================================\n",
    "#     Simple Missing Data Imputation\n",
    "#----------------------------------------------------\n",
    "\n",
    "diabetes_c['Glucose'].fillna(diabetes_c['Glucose'].mean(), inplace = True)\n",
    "diabetes_c['BloodPressure'].fillna(diabetes_c['BloodPressure'].mean(), inplace = True)\n",
    "diabetes_c['SkinThickness'].fillna(diabetes_c['SkinThickness'].median(), inplace = True)\n",
    "diabetes_c['Insulin'].fillna(diabetes_c['Insulin'].median(), inplace = True)\n",
    "diabetes_c['BMI'].fillna(diabetes_c['BMI'].median(), inplace = True)\n",
    "\n",
    "# Print the Summary statistics of imputed data\n",
    "diabetes_c.describe(include='all').T"
   ]
  },
  {
   "cell_type": "code",
   "execution_count": 10,
   "id": "6f523508",
   "metadata": {},
   "outputs": [
    {
     "data": {
      "image/png": "[encoded data removed]",
      "text/plain": [
       "<Figure size 1440x1440 with 9 Axes>"
      ]
     },
     "metadata": {
      "needs_background": "light"
     },
     "output_type": "display_data"
    }
   ],
   "source": [
    "#====================================================\n",
    "#     Variable Distributions after Imputation\n",
    "#----------------------------------------------------\n",
    "\n",
    "_ = diabetes_c.hist(figsize = (20,20))"
   ]
  },
  {
   "cell_type": "markdown",
   "id": "616f4d46",
   "metadata": {},
   "source": [
    "## Correlation Among Variables"
   ]
  },
  {
   "cell_type": "code",
   "execution_count": 11,
   "id": "f4c0d18b",
   "metadata": {},
   "outputs": [
    {
     "data": {
      "image/png": "[encoded data removed]",
      "text/plain": [
       "<Figure size 864x720 with 2 Axes>"
      ]
     },
     "metadata": {
      "needs_background": "light"
     },
     "output_type": "display_data"
    }
   ],
   "source": [
    "#====================================================\n",
    "#     The Correlation Matrix \n",
    "#----------------------------------------------------\n",
    "\n",
    "plt.figure(figsize=(12,10))\n",
    "p=sns.heatmap(diabetes_c.corr(), annot=True, cmap ='RdYlGn')"
   ]
  },
  {
   "cell_type": "markdown",
   "id": "4683f102",
   "metadata": {},
   "source": [
    "## Standardization\n",
    "\n",
    "- A commonly used scaler is called **standardization**. Standardization finds the mean of your data and centers your distribution around it, calculating the number of standard deviations away from the mean each point is. These values (the number of standard deviations) are then used as your new values. This centers the data around 0 but technically has no limit to the maximum and minimum values.\n",
    "\n",
    "### Standardization in Python:\n",
    "\n",
    "-  First import `StandardScaler` from `scikit-learn`.\n",
    "- Instantiate and object.\n",
    "- Fit the scaler on your data. \n",
    "- Once fitted you can apply it to your data.\n",
    "\n",
    "## $$x_{stand}=\\frac{x - mean(X)}{standard\\ \\ deviation(X)}$$\n",
    "\n",
    "# Mathematical Notation of Standardization \n",
    "\n",
    "## <u>Standardazition Formula</u>\n",
    "\n",
    "### $$z = \\frac{x - \\mu}{\\sigma}$$\n",
    "\n",
    "## <u>The mean</u>\n",
    "\n",
    "### $$\\mu = \\frac{1}{N} \\sum_{i=1}^N (x_i)$$\n",
    "\n",
    "## <u>The Standard Deviation</u>\n",
    "\n",
    "### $$\\sigma = \\sqrt{\\frac{1}{N} \\sum_{i=1}^N (x_i - \\mu)^2}$$\n",
    "\n",
    "\n",
    "## Standardization in Python Syntax:\n",
    "\n",
    "```python\n",
    "#Import StandardScaler\n",
    "from sklearn.preprocessing import StandardScaler\n",
    "\n",
    "# Instantiate the scaler\n",
    "standardizer = StandardScaler()\n",
    "\n",
    "# Fit and Transform the data\n",
    "df = standardizer.fit_transform(df)\n",
    "```"
   ]
  },
  {
   "cell_type": "code",
   "execution_count": 12,
   "id": "005b65a6",
   "metadata": {},
   "outputs": [],
   "source": [
    "#====================================================\n",
    "#         Importing Standard Scaler\n",
    "#----------------------------------------------------\n",
    "from sklearn.preprocessing import StandardScaler\n",
    "\n",
    "# Create StandardScaler Object\n",
    "\n",
    "std_sc = StandardScaler()"
   ]
  },
  {
   "cell_type": "code",
   "execution_count": 13,
   "id": "0ae28faa",
   "metadata": {},
   "outputs": [
    {
     "data": {
      "text/html": [
       "<div>\n",
       "<style scoped>\n",
       "    .dataframe tbody tr th:only-of-type {\n",
       "        vertical-align: middle;\n",
       "    }\n",
       "\n",
       "    .dataframe tbody tr th {\n",
       "        vertical-align: top;\n",
       "    }\n",
       "\n",
       "    .dataframe thead th {\n",
       "        text-align: right;\n",
       "    }\n",
       "</style>\n",
       "<table border=\"1\" class=\"dataframe\">\n",
       "  <thead>\n",
       "    <tr style=\"text-align: right;\">\n",
       "      <th></th>\n",
       "      <th>count</th>\n",
       "      <th>mean</th>\n",
       "      <th>std</th>\n",
       "      <th>min</th>\n",
       "      <th>25%</th>\n",
       "      <th>50%</th>\n",
       "      <th>75%</th>\n",
       "      <th>max</th>\n",
       "    </tr>\n",
       "  </thead>\n",
       "  <tbody>\n",
       "    <tr>\n",
       "      <th>Pregnancies</th>\n",
       "      <td>768.000</td>\n",
       "      <td>0.000</td>\n",
       "      <td>1.001</td>\n",
       "      <td>-1.142</td>\n",
       "      <td>-0.845</td>\n",
       "      <td>-0.251</td>\n",
       "      <td>0.640</td>\n",
       "      <td>3.907</td>\n",
       "    </tr>\n",
       "    <tr>\n",
       "      <th>Glucose</th>\n",
       "      <td>768.000</td>\n",
       "      <td>-0.000</td>\n",
       "      <td>1.001</td>\n",
       "      <td>-2.554</td>\n",
       "      <td>-0.721</td>\n",
       "      <td>-0.154</td>\n",
       "      <td>0.610</td>\n",
       "      <td>2.542</td>\n",
       "    </tr>\n",
       "    <tr>\n",
       "      <th>BloodPressure</th>\n",
       "      <td>768.000</td>\n",
       "      <td>0.000</td>\n",
       "      <td>1.001</td>\n",
       "      <td>-4.004</td>\n",
       "      <td>-0.695</td>\n",
       "      <td>-0.017</td>\n",
       "      <td>0.628</td>\n",
       "      <td>4.103</td>\n",
       "    </tr>\n",
       "    <tr>\n",
       "      <th>SkinThickness</th>\n",
       "      <td>768.000</td>\n",
       "      <td>-0.000</td>\n",
       "      <td>1.001</td>\n",
       "      <td>-2.516</td>\n",
       "      <td>-0.468</td>\n",
       "      <td>-0.012</td>\n",
       "      <td>0.329</td>\n",
       "      <td>7.955</td>\n",
       "    </tr>\n",
       "    <tr>\n",
       "      <th>Insulin</th>\n",
       "      <td>768.000</td>\n",
       "      <td>0.000</td>\n",
       "      <td>1.001</td>\n",
       "      <td>-1.467</td>\n",
       "      <td>-0.222</td>\n",
       "      <td>-0.182</td>\n",
       "      <td>-0.155</td>\n",
       "      <td>8.170</td>\n",
       "    </tr>\n",
       "    <tr>\n",
       "      <th>BMI</th>\n",
       "      <td>768.000</td>\n",
       "      <td>0.000</td>\n",
       "      <td>1.001</td>\n",
       "      <td>-2.075</td>\n",
       "      <td>-0.721</td>\n",
       "      <td>-0.023</td>\n",
       "      <td>0.603</td>\n",
       "      <td>5.042</td>\n",
       "    </tr>\n",
       "    <tr>\n",
       "      <th>DiabetesPedigreeFunction</th>\n",
       "      <td>768.000</td>\n",
       "      <td>0.000</td>\n",
       "      <td>1.001</td>\n",
       "      <td>-1.190</td>\n",
       "      <td>-0.689</td>\n",
       "      <td>-0.300</td>\n",
       "      <td>0.466</td>\n",
       "      <td>5.884</td>\n",
       "    </tr>\n",
       "    <tr>\n",
       "      <th>Age</th>\n",
       "      <td>768.000</td>\n",
       "      <td>0.000</td>\n",
       "      <td>1.001</td>\n",
       "      <td>-1.042</td>\n",
       "      <td>-0.786</td>\n",
       "      <td>-0.361</td>\n",
       "      <td>0.660</td>\n",
       "      <td>4.064</td>\n",
       "    </tr>\n",
       "  </tbody>\n",
       "</table>\n",
       "</div>"
      ],
      "text/plain": [
       "                           count   mean   std    min    25%    50%    75%  \\\n",
       "Pregnancies              768.000  0.000 1.001 -1.142 -0.845 -0.251  0.640   \n",
       "Glucose                  768.000 -0.000 1.001 -2.554 -0.721 -0.154  0.610   \n",
       "BloodPressure            768.000  0.000 1.001 -4.004 -0.695 -0.017  0.628   \n",
       "SkinThickness            768.000 -0.000 1.001 -2.516 -0.468 -0.012  0.329   \n",
       "Insulin                  768.000  0.000 1.001 -1.467 -0.222 -0.182 -0.155   \n",
       "BMI                      768.000  0.000 1.001 -2.075 -0.721 -0.023  0.603   \n",
       "DiabetesPedigreeFunction 768.000  0.000 1.001 -1.190 -0.689 -0.300  0.466   \n",
       "Age                      768.000  0.000 1.001 -1.042 -0.786 -0.361  0.660   \n",
       "\n",
       "                           max  \n",
       "Pregnancies              3.907  \n",
       "Glucose                  2.542  \n",
       "BloodPressure            4.103  \n",
       "SkinThickness            7.955  \n",
       "Insulin                  8.170  \n",
       "BMI                      5.042  \n",
       "DiabetesPedigreeFunction 5.884  \n",
       "Age                      4.064  "
      ]
     },
     "execution_count": 13,
     "metadata": {},
     "output_type": "execute_result"
    }
   ],
   "source": [
    "# Standardize the features\n",
    "# -------------------------\n",
    "X = diabetes_c.drop([\"Outcome\"],axis = 1)\n",
    "X = std_sc.fit_transform(X)\n",
    "y = diabetes_c.Outcome\n",
    "\n",
    "# Descibe the scaled features\n",
    "#----------------------------\n",
    "X_df = pd.DataFrame(X, columns=diabetes_c.columns[:-1])\n",
    "X_df.describe().T"
   ]
  },
  {
   "cell_type": "markdown",
   "id": "cf8a0efd",
   "metadata": {},
   "source": [
    "# Training Logistic Regression Model"
   ]
  },
  {
   "cell_type": "code",
   "execution_count": 14,
   "id": "f231f136",
   "metadata": {},
   "outputs": [
    {
     "name": "stdout",
     "output_type": "stream",
     "text": [
      "The feautures shape is:  (768, 8)\n",
      "The target shape is:  (768,)\n"
     ]
    }
   ],
   "source": [
    "## Set the y and X values\n",
    "y = diabetes_c['Outcome'].values\n",
    "X = X_df.values\n",
    "\n",
    "## Print the shape of the target and the features\n",
    "# ----------------------------------------------\n",
    "print(\"The feautures shape is: \", X.shape)\n",
    "print(\"The target shape is: \", y.shape)"
   ]
  },
  {
   "cell_type": "markdown",
   "id": "f9632a1a",
   "metadata": {},
   "source": [
    "## Split The Data into Train/ Test Set"
   ]
  },
  {
   "cell_type": "code",
   "execution_count": 15,
   "id": "7d0b2f79",
   "metadata": {},
   "outputs": [
    {
     "name": "stdout",
     "output_type": "stream",
     "text": [
      "The train features shape is:  (576, 8)\n",
      "The test features shape is:  (192, 8)\n",
      "The train target shape is:  (576,)\n",
      "The test target shape is:  (192,)\n"
     ]
    }
   ],
   "source": [
    "# Split the data into train-test set\n",
    "# ----------------------------------\n",
    "from sklearn.model_selection import train_test_split\n",
    "X_train, X_test, y_train, y_test = train_test_split(X, y,\n",
    "                                                    train_size = 0.75,\n",
    "                                                    test_size = 0.25, \n",
    "                                                    random_state = 10123)\n",
    "\n",
    "print(\"The train features shape is: \", X_train.shape)\n",
    "print(\"The test features shape is: \", X_test.shape)\n",
    "print(\"The train target shape is: \", y_train.shape)\n",
    "print(\"The test target shape is: \", y_test.shape)"
   ]
  },
  {
   "cell_type": "code",
   "execution_count": 16,
   "id": "1f7185c0",
   "metadata": {},
   "outputs": [
    {
     "name": "stdout",
     "output_type": "stream",
     "text": [
      "[[102  12]\n",
      " [ 29  49]]\n",
      "              precision    recall  f1-score   support\n",
      "\n",
      "           0       0.78      0.89      0.83       114\n",
      "           1       0.80      0.63      0.71        78\n",
      "\n",
      "    accuracy                           0.79       192\n",
      "   macro avg       0.79      0.76      0.77       192\n",
      "weighted avg       0.79      0.79      0.78       192\n",
      "\n"
     ]
    }
   ],
   "source": [
    "##==================================================\n",
    "##      Train Logistic Regression Classifier\n",
    "##==================================================\n",
    "\n",
    "# Import the Logistic Classifier\n",
    "from sklearn.linear_model import LogisticRegression\n",
    "\n",
    "# Import Evaluation Metrics\n",
    "from sklearn.metrics import confusion_matrix, classification_report\n",
    "\n",
    "# Create the classifier\n",
    "logreg = LogisticRegression()\n",
    "\n",
    "# Fit the classifier to the training data\n",
    "logreg.fit(X_train, y_train)\n",
    "\n",
    "# Predict the labels of the test set: y_pred\n",
    "y_pred = logreg.predict(X_test)\n",
    "\n",
    "# Compute and print the confusion matrix and classification report\n",
    "print(confusion_matrix(y_test, y_pred))\n",
    "print(classification_report(y_test, y_pred))"
   ]
  },
  {
   "cell_type": "code",
   "execution_count": 17,
   "id": "e473dd20",
   "metadata": {},
   "outputs": [
    {
     "data": {
      "text/plain": [
       "Text(0.5, 15.0, 'Predicted label')"
      ]
     },
     "execution_count": 17,
     "metadata": {},
     "output_type": "execute_result"
    },
    {
     "data": {
      "image/png": "[encoded data removed]",
      "text/plain": [
       "<Figure size 432x288 with 1 Axes>"
      ]
     },
     "metadata": {
      "needs_background": "light"
     },
     "output_type": "display_data"
    }
   ],
   "source": [
    "##==================================================\n",
    "##      Plot the Confusion Matrix \n",
    "##==================================================\n",
    "\n",
    "cm = confusion_matrix(y_test, y_pred)\n",
    "_ = sns.heatmap(pd.DataFrame(cm),\n",
    "                annot = True, \n",
    "                cmap = \"YlGnBu\",\n",
    "                fmt = 'g',\n",
    "                cbar = False)\n",
    "\n",
    "plt.title('Confusion matrix', y = 1.1)\n",
    "plt.ylabel('Actual label')\n",
    "plt.xlabel('Predicted label')"
   ]
  },
  {
   "cell_type": "markdown",
   "id": "c0547b32",
   "metadata": {},
   "source": [
    "## The Model Performance Using ROC Curve"
   ]
  },
  {
   "cell_type": "code",
   "execution_count": 18,
   "id": "98aedde5",
   "metadata": {},
   "outputs": [
    {
     "data": {
      "image/png": "[encoded data removed]",
      "text/plain": [
       "<Figure size 720x432 with 1 Axes>"
      ]
     },
     "metadata": {
      "needs_background": "light"
     },
     "output_type": "display_data"
    }
   ],
   "source": [
    "##==================================================\n",
    "##      Check the model Peformance Using ROC curve\n",
    "##==================================================\n",
    "\n",
    "# Import the roc_curve\n",
    "# --------------------\n",
    "from sklearn.metrics import roc_curve\n",
    "\n",
    "# Compute predicted probabilities\n",
    "# --------------------------------\n",
    "y_pred_prob = logreg.predict_proba(X_test)[:,0]\n",
    " \n",
    "# Generate ROC curve values: fpr, tpr, thresholds\n",
    "# -----------------------------------------------\n",
    "fpr, tpr, thresholds = roc_curve(y_test, y_pred_prob)\n",
    "\n",
    "# Plot ROC curve\n",
    "#-----------------\n",
    "plt.figure(figsize=(10, 6))\n",
    "_ = plt.plot([0, 1], [0, 1], 'k--')\n",
    "_ = plt.plot(tpr, fpr)\n",
    "_ = plt.xlabel('False Positive Rate')\n",
    "plt.ylabel('True Positive Rate')\n",
    "plt.title('ROC Curve')\n",
    "plt.show()"
   ]
  },
  {
   "cell_type": "markdown",
   "id": "31a969d9",
   "metadata": {},
   "source": [
    "## The Model Performance Using AUC Using Cross Validation"
   ]
  },
  {
   "cell_type": "code",
   "execution_count": 19,
   "id": "765f0e00",
   "metadata": {},
   "outputs": [
    {
     "name": "stdout",
     "output_type": "stream",
     "text": [
      "AUC: 0.8702204228520019\n"
     ]
    }
   ],
   "source": [
    "##==================================================\n",
    "##      Check the model Peformance Using AUC\n",
    "##==================================================\n",
    "from sklearn.metrics import roc_auc_score\n",
    "from sklearn.model_selection import cross_val_score\n",
    "\n",
    "# Compute predicted probabilities\n",
    "# --------------------------------\n",
    "y_pred_prob = logreg.predict_proba(X_test)[:,1]\n",
    "\n",
    "# Compute and print AUC score\n",
    "print(\"AUC: {}\".format(roc_auc_score(y_test, y_pred_prob)))"
   ]
  },
  {
   "cell_type": "code",
   "execution_count": 20,
   "id": "699a44b5",
   "metadata": {},
   "outputs": [
    {
     "name": "stdout",
     "output_type": "stream",
     "text": [
      "AUC scores computed using 5-fold cross-validation:\n",
      " [0.81407407 0.80037037 0.85296296 0.8845283  0.84207547], \n",
      "\n",
      "The mean of AUC using 5-fold CV is:\n",
      " 0.8388022361984626\n"
     ]
    }
   ],
   "source": [
    "##==================================================\n",
    "##      Using Cross Validation \n",
    "##==================================================\n",
    "# Compute cross-validated AUC scores\n",
    "cv_auc = cross_val_score(logreg, X, y, cv = 5, \n",
    "                         scoring = 'roc_auc')\n",
    "\n",
    "# Print list of AUC scores\n",
    "print(\"AUC scores computed using 5-fold cross-validation:\\n {}, \\n\".format(cv_auc))\n",
    "\n",
    "# Print the mean of AUCs\n",
    "print(\"The mean of AUC using 5-fold CV is:\\n {}\".format(np.mean(cv_auc)))"
   ]
  },
  {
   "cell_type": "markdown",
   "id": "608b53c8",
   "metadata": {},
   "source": [
    "## Hyper Parameter Tuning for Logistic Classifier\n",
    "\n",
    " - Like the alpha parameter of lasso and ridge regularization logistic regression also has a regularization parameter: `C` that controls the inverse of the regularization strength. \n",
    " \n",
    " - A large C can lead to an overfit model, while a small  can lead to an underfit model.\n",
    "\n",
    " - In addition to `C`, logistic regression has a 'penalty' hyperparameter which specifies whether to use 'l1' or 'l2' regularization. "
   ]
  },
  {
   "cell_type": "code",
   "execution_count": 21,
   "id": "6a6fdd8a",
   "metadata": {},
   "outputs": [
    {
     "data": {
      "text/plain": [
       "{'C': 1.0,\n",
       " 'class_weight': None,\n",
       " 'dual': False,\n",
       " 'fit_intercept': True,\n",
       " 'intercept_scaling': 1,\n",
       " 'l1_ratio': None,\n",
       " 'max_iter': 100,\n",
       " 'multi_class': 'auto',\n",
       " 'n_jobs': None,\n",
       " 'penalty': 'l2',\n",
       " 'random_state': None,\n",
       " 'solver': 'lbfgs',\n",
       " 'tol': 0.0001,\n",
       " 'verbose': 0,\n",
       " 'warm_start': False}"
      ]
     },
     "execution_count": 21,
     "metadata": {},
     "output_type": "execute_result"
    }
   ],
   "source": [
    "# Print the parameters of logistic model\n",
    "# -------------------------------------\n",
    "logreg.get_params()"
   ]
  },
  {
   "cell_type": "code",
   "execution_count": 22,
   "id": "4957475a",
   "metadata": {},
   "outputs": [
    {
     "name": "stdout",
     "output_type": "stream",
     "text": [
      "======================================================================\n",
      "Tuned Logistic Regression Parameters: {'C': 0.018420699693267144}\n",
      "======================================================================\n",
      "Best score is 0.7708428826075885\n",
      "======================================================================\n"
     ]
    }
   ],
   "source": [
    "##==================================================\n",
    "##      Hyperparameter Tune Logistic Regression\n",
    "##==================================================\n",
    "   \n",
    "from sklearn.linear_model import LogisticRegression\n",
    "from sklearn.model_selection import GridSearchCV\n",
    "\n",
    "# Setup the hyperparameter grid\n",
    "c_space = np.logspace(-5, -1, 50)\n",
    "param_grid = {'C': c_space}\n",
    "\n",
    "# Instantiate a logistic regression classifier\n",
    "logreg = LogisticRegression()\n",
    "\n",
    "# Instantiate the GridSearchCV object: logreg_cv\n",
    "logreg_cv = GridSearchCV(logreg, \n",
    "                         param_grid = param_grid,\n",
    "                         cv = 5, \n",
    "                        refit=True, \n",
    "                        return_train_score=True)\n",
    "\n",
    "# Fit it to the data\n",
    "logreg_cv.fit(X, y)\n",
    "\n",
    "# Print the tuned parameters and score\n",
    "print(\"=\"*70)\n",
    "print(\"Tuned Logistic Regression Parameters: {}\".format(logreg_cv.best_params_))\n",
    "print(\"=\"*70)\n",
    "print(\"Best score is {}\".format(logreg_cv.best_score_))\n",
    "print(\"=\"*70)"
   ]
  },
  {
   "cell_type": "markdown",
   "id": "301a4995",
   "metadata": {},
   "source": [
    "## Mean Train / Test Error in Cross Validation "
   ]
  },
  {
   "cell_type": "code",
   "execution_count": 23,
   "id": "49cac6b0",
   "metadata": {},
   "outputs": [
    {
     "data": {
      "image/png": "[encoded data removed]",
      "text/plain": [
       "<Figure size 720x432 with 1 Axes>"
      ]
     },
     "metadata": {
      "needs_background": "light"
     },
     "output_type": "display_data"
    }
   ],
   "source": [
    "plt.figure(figsize=(10, 6))\n",
    "plt.plot(c_space, logreg_cv.cv_results_['mean_train_score'], label = \"Mean Train Error\")\n",
    "plt.plot(c_space, logreg_cv.cv_results_['mean_test_score'], label = \"Mean Test Error\")\n",
    "plt.legend()\n",
    "plt.show()"
   ]
  },
  {
   "cell_type": "code",
   "execution_count": 24,
   "id": "516c714d",
   "metadata": {},
   "outputs": [
    {
     "data": {
      "text/plain": [
       "Text(0.5, 15.0, 'Predicted label')"
      ]
     },
     "execution_count": 24,
     "metadata": {},
     "output_type": "execute_result"
    },
    {
     "data": {
      "image/png": "[encoded data removed]",
      "text/plain": [
       "<Figure size 432x288 with 1 Axes>"
      ]
     },
     "metadata": {
      "needs_background": "light"
     },
     "output_type": "display_data"
    }
   ],
   "source": [
    "##==================================================\n",
    "##      Plot The Classification Results\n",
    "##==================================================\n",
    "cm = confusion_matrix(y_test, logreg_cv.predict(X_test))\n",
    "_ = sns.heatmap(pd.DataFrame(cm),\n",
    "                annot = True, \n",
    "                cmap = \"YlGnBu\",\n",
    "                fmt = 'g',\n",
    "                cbar = False)\n",
    "\n",
    "plt.title('Confusion matrix', y = 1.1)\n",
    "plt.ylabel('Actual label')\n",
    "plt.xlabel('Predicted label')"
   ]
  },
  {
   "cell_type": "markdown",
   "id": "3a514ab1",
   "metadata": {},
   "source": [
    "## Honest Assessment with Cross Validation, Train-Test"
   ]
  },
  {
   "cell_type": "code",
   "execution_count": 25,
   "id": "70fbdd0c",
   "metadata": {},
   "outputs": [
    {
     "name": "stdout",
     "output_type": "stream",
     "text": [
      "======================================================================\n",
      "Tuned Logistic Regression Parameters: {'C': 0.05689866029018293}\n",
      "======================================================================\n",
      "Best score is 0.7639130434782608\n",
      "======================================================================\n",
      "AUC: 0.8695456590193432\n"
     ]
    }
   ],
   "source": [
    "# Split the data into train-test set\n",
    "# ----------------------------------\n",
    "X_train, X_test, y_train, y_test = train_test_split(X, y,\n",
    "                                                    train_size = 0.75,\n",
    "                                                    test_size = 0.25, \n",
    "                                                    random_state = 10123)\n",
    "\n",
    "\n",
    "# Setup the hyperparameter grid\n",
    "c_space = np.logspace(-5, -1, 50)\n",
    "param_grid = {'C': c_space}\n",
    "\n",
    "# Instantiate a logistic regression classifier\n",
    "logreg = LogisticRegression()\n",
    "\n",
    "# Instantiate the GridSearchCV object: logreg_cv\n",
    "logreg_cv = GridSearchCV(logreg, \n",
    "                         param_grid = param_grid,\n",
    "                         cv = 5, \n",
    "                         refit=True)\n",
    "\n",
    "# Fit it to the data\n",
    "logreg_cv.fit(X_train, y_train)\n",
    "\n",
    "# Print the tuned parameters and score\n",
    "print(\"=\"*70)\n",
    "print(\"Tuned Logistic Regression Parameters: {}\".format(logreg_cv.best_params_))\n",
    "print(\"=\"*70)\n",
    "print(\"Best score is {}\".format(logreg_cv.best_score_))\n",
    "print(\"=\"*70)\n",
    "\n",
    "# Test The model on Test Set\n",
    "y_pred_prob = logreg_cv.predict_proba(X_test)[:,1]\n",
    "\n",
    "# Compute and print AUC score\n",
    "print(\"AUC: {}\".format(roc_auc_score(y_test, y_pred_prob)))"
   ]
  },
  {
   "cell_type": "markdown",
   "id": "6ad5acf2",
   "metadata": {},
   "source": [
    "## Bonus Lecture: KNN Classifier"
   ]
  },
  {
   "cell_type": "code",
   "execution_count": 26,
   "id": "5fec4e6b",
   "metadata": {},
   "outputs": [
    {
     "name": "stdout",
     "output_type": "stream",
     "text": [
      "[[105   9]\n",
      " [ 37  41]]\n",
      "              precision    recall  f1-score   support\n",
      "\n",
      "           0       0.74      0.92      0.82       114\n",
      "           1       0.82      0.53      0.64        78\n",
      "\n",
      "    accuracy                           0.76       192\n",
      "   macro avg       0.78      0.72      0.73       192\n",
      "weighted avg       0.77      0.76      0.75       192\n",
      "\n"
     ]
    }
   ],
   "source": [
    "##==================================================\n",
    "##       Train KNN Classifier\n",
    "##==================================================\n",
    "from sklearn.neighbors import KNeighborsClassifier\n",
    "from sklearn.metrics import classification_report\n",
    "from sklearn.metrics import confusion_matrix\n",
    "\n",
    "# Instantiate a k-NN classifier: knn\n",
    "knn = KNeighborsClassifier(n_neighbors = 6)\n",
    "\n",
    "# Fit the classifier to the training data\n",
    "knn.fit(X_train, y_train)\n",
    "\n",
    "# Predict the labels of the test data: y_pred\n",
    "y_pred = knn.predict(X_test)\n",
    "\n",
    "# Generate the confusion matrix and classification report\n",
    "print(confusion_matrix(y_test, y_pred))\n",
    "print(classification_report(y_test, y_pred))\n"
   ]
  },
  {
   "cell_type": "markdown",
   "id": "e8867dbd",
   "metadata": {},
   "source": [
    "## Decision Tree Classifier"
   ]
  },
  {
   "cell_type": "code",
   "execution_count": 27,
   "id": "7d8bf098",
   "metadata": {},
   "outputs": [
    {
     "name": "stdout",
     "output_type": "stream",
     "text": [
      "Tuned Logistic Classifier Parameters: {'criterion': 'gini', 'max_depth': 3, 'max_features': 6, 'min_samples_leaf': 1}\n",
      "Best score is 0.7409048467871997\n"
     ]
    }
   ],
   "source": [
    "##==================================================\n",
    "##      Train and Tune a Decision Tree Classifier\n",
    "##==================================================\n",
    "\n",
    "from scipy.stats import randint\n",
    "from sklearn.tree import DecisionTreeClassifier\n",
    "from sklearn.model_selection import RandomizedSearchCV\n",
    "\n",
    "# Setup the parameters and distributions to sample from: param_dist\n",
    "param_dist = {\"max_depth\": [3, None],\n",
    "              \"max_features\": randint(1, 9),\n",
    "              \"min_samples_leaf\": randint(1, 9),\n",
    "              \"criterion\": [\"gini\", \"entropy\"]}\n",
    "\n",
    "# Instantiate a Decision Tree classifier: tree\n",
    "tree = DecisionTreeClassifier()\n",
    "\n",
    "# Instantiate the RandomizedSearchCV object: tree_cv\n",
    "tree_cv = RandomizedSearchCV(tree, param_dist, cv=5)\n",
    "\n",
    "# Fit it to the data\n",
    "tree_cv.fit(X, y)\n",
    "\n",
    "# Print the tuned parameters and score\n",
    "print(\"Tuned Logistic Classifier Parameters: {}\".format(tree_cv.best_params_))\n",
    "print(\"Best score is {}\".format(tree_cv.best_score_))"
   ]
  },
  {
   "cell_type": "code",
   "execution_count": 28,
   "id": "02da4a82",
   "metadata": {},
   "outputs": [
    {
     "name": "stdout",
     "output_type": "stream",
     "text": [
      "[[104  10]\n",
      " [ 34  44]]\n",
      "              precision    recall  f1-score   support\n",
      "\n",
      "           0       0.75      0.91      0.83       114\n",
      "           1       0.81      0.56      0.67        78\n",
      "\n",
      "    accuracy                           0.77       192\n",
      "   macro avg       0.78      0.74      0.75       192\n",
      "weighted avg       0.78      0.77      0.76       192\n",
      "\n"
     ]
    }
   ],
   "source": [
    "# Generate the confusion matrix and classification report\n",
    "print(confusion_matrix(y_test, tree_cv.predict(X_test)))\n",
    "                       \n",
    "print(classification_report(y_test, tree_cv.predict(X_test)))"
   ]
  },
  {
   "cell_type": "code",
   "execution_count": 29,
   "id": "a23b7491",
   "metadata": {},
   "outputs": [
    {
     "data": {
      "text/plain": [
       "Text(0.5, 15.0, 'Predicted label')"
      ]
     },
     "execution_count": 29,
     "metadata": {},
     "output_type": "execute_result"
    },
    {
     "data": {
      "image/png": "[encoded data removed]",
      "text/plain": [
       "<Figure size 432x288 with 1 Axes>"
      ]
     },
     "metadata": {
      "needs_background": "light"
     },
     "output_type": "display_data"
    }
   ],
   "source": [
    "cm = confusion_matrix(y_test, tree_cv.predict(X_test))\n",
    "_ = sns.heatmap(pd.DataFrame(cm),\n",
    "                annot = True, \n",
    "                cmap = \"YlGnBu\",\n",
    "                fmt = 'g',\n",
    "                cbar = False)\n",
    "\n",
    "plt.title('Confusion matrix', y = 1.1)\n",
    "plt.ylabel('Actual label')\n",
    "plt.xlabel('Predicted label')"
   ]
  }
 ],
 "metadata": {
  "kernelspec": {
   "display_name": "Python 3 (ipykernel)",
   "language": "python",
   "name": "python3"
  },
  "language_info": {
   "codemirror_mode": {
    "name": "ipython",
    "version": 3
   },
   "file_extension": ".py",
   "mimetype": "text/x-python",
   "name": "python",
   "nbconvert_exporter": "python",
   "pygments_lexer": "ipython3",
   "version": "3.8.2"
  }
 },
 "nbformat": 4,
 "nbformat_minor": 5
}
